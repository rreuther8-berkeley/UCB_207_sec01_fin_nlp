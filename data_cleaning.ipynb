{
 "cells": [
  {
   "cell_type": "markdown",
   "id": "fa9521ea-59d0-41ca-b851-d5ba7bac2095",
   "metadata": {
    "tags": []
   },
   "source": [
    "# Imports"
   ]
  },
  {
   "cell_type": "code",
   "execution_count": 1,
   "id": "000b8d47-8b46-4c30-96e9-430c231ac85e",
   "metadata": {
    "tags": []
   },
   "outputs": [],
   "source": [
    "import os\n",
    "import re\n",
    "\n",
    "import emoji\n",
    "import pandas as pd\n",
    "import numpy as np\n",
    "from sklearn.preprocessing import StandardScaler\n",
    "from wordcloud import WordCloud\n",
    "from sklearn.model_selection import train_test_split\n",
    "from matplotlib import pyplot as plt\n",
    "\n",
    "pd.set_option('display.max_colwidth', 100) "
   ]
  },
  {
   "cell_type": "markdown",
   "id": "83cee0c6-6472-4637-b506-de3a173db024",
   "metadata": {},
   "source": [
    "# Read Data"
   ]
  },
  {
   "cell_type": "code",
   "execution_count": 2,
   "id": "388d6273-be37-4b67-852f-f9ccc5fae863",
   "metadata": {},
   "outputs": [],
   "source": [
    "ch_sample_link = '/data/ch_sample_selections_data.csv'\n",
    "cg_sample_link = '/data/sample_wsb_gme_personalfin_stock.csv'\n",
    "rr_sample_link = '/data/forex_finance_finindependence_forex.csv'\n",
    "\n",
    "file_links = [ch_sample_link, cg_sample_link, rr_sample_link]"
   ]
  },
  {
   "cell_type": "code",
   "execution_count": 3,
   "id": "40520f91-d811-45e0-bdd9-a517927b33c1",
   "metadata": {
    "tags": []
   },
   "outputs": [],
   "source": [
    "ch_sample = pd.read_csv(os.getcwd() + ch_sample_link)\n",
    "cg_sample = pd.read_csv(os.getcwd() + cg_sample_link)\n",
    "rr_sample = pd.read_csv(os.getcwd() + rr_sample_link)"
   ]
  },
  {
   "cell_type": "code",
   "execution_count": 4,
   "id": "32e71f69-47be-4cee-bcf9-55985e7b5990",
   "metadata": {
    "tags": []
   },
   "outputs": [
    {
     "name": "stdout",
     "output_type": "stream",
     "text": [
      "(15000, 25) (16000, 25) (6104, 25)\n"
     ]
    }
   ],
   "source": [
    "print(ch_sample.shape, cg_sample.shape, rr_sample.shape)"
   ]
  },
  {
   "cell_type": "code",
   "execution_count": 5,
   "id": "0e944af8-f413-4110-b91d-4986518fe4ef",
   "metadata": {
    "tags": []
   },
   "outputs": [
    {
     "data": {
      "text/html": [
       "<div>\n",
       "<style scoped>\n",
       "    .dataframe tbody tr th:only-of-type {\n",
       "        vertical-align: middle;\n",
       "    }\n",
       "\n",
       "    .dataframe tbody tr th {\n",
       "        vertical-align: top;\n",
       "    }\n",
       "\n",
       "    .dataframe thead th {\n",
       "        text-align: right;\n",
       "    }\n",
       "</style>\n",
       "<table border=\"1\" class=\"dataframe\">\n",
       "  <thead>\n",
       "    <tr style=\"text-align: right;\">\n",
       "      <th></th>\n",
       "      <th>0</th>\n",
       "      <th>1</th>\n",
       "      <th>2</th>\n",
       "    </tr>\n",
       "  </thead>\n",
       "  <tbody>\n",
       "    <tr>\n",
       "      <th>Unnamed: 0</th>\n",
       "      <td>int64</td>\n",
       "      <td>int64</td>\n",
       "      <td>int64</td>\n",
       "    </tr>\n",
       "    <tr>\n",
       "      <th>id</th>\n",
       "      <td>object</td>\n",
       "      <td>object</td>\n",
       "      <td>object</td>\n",
       "    </tr>\n",
       "    <tr>\n",
       "      <th>author</th>\n",
       "      <td>object</td>\n",
       "      <td>object</td>\n",
       "      <td>object</td>\n",
       "    </tr>\n",
       "    <tr>\n",
       "      <th>created</th>\n",
       "      <td>object</td>\n",
       "      <td>object</td>\n",
       "      <td>object</td>\n",
       "    </tr>\n",
       "    <tr>\n",
       "      <th>retrieved</th>\n",
       "      <td>object</td>\n",
       "      <td>object</td>\n",
       "      <td>object</td>\n",
       "    </tr>\n",
       "    <tr>\n",
       "      <th>edited</th>\n",
       "      <td>object</td>\n",
       "      <td>object</td>\n",
       "      <td>object</td>\n",
       "    </tr>\n",
       "    <tr>\n",
       "      <th>pinned</th>\n",
       "      <td>int64</td>\n",
       "      <td>int64</td>\n",
       "      <td>int64</td>\n",
       "    </tr>\n",
       "    <tr>\n",
       "      <th>archived</th>\n",
       "      <td>int64</td>\n",
       "      <td>int64</td>\n",
       "      <td>int64</td>\n",
       "    </tr>\n",
       "    <tr>\n",
       "      <th>locked</th>\n",
       "      <td>int64</td>\n",
       "      <td>int64</td>\n",
       "      <td>int64</td>\n",
       "    </tr>\n",
       "    <tr>\n",
       "      <th>removed</th>\n",
       "      <td>int64</td>\n",
       "      <td>int64</td>\n",
       "      <td>int64</td>\n",
       "    </tr>\n",
       "    <tr>\n",
       "      <th>deleted</th>\n",
       "      <td>int64</td>\n",
       "      <td>int64</td>\n",
       "      <td>int64</td>\n",
       "    </tr>\n",
       "    <tr>\n",
       "      <th>is_self</th>\n",
       "      <td>int64</td>\n",
       "      <td>int64</td>\n",
       "      <td>int64</td>\n",
       "    </tr>\n",
       "    <tr>\n",
       "      <th>is_video</th>\n",
       "      <td>int64</td>\n",
       "      <td>int64</td>\n",
       "      <td>int64</td>\n",
       "    </tr>\n",
       "    <tr>\n",
       "      <th>is_original_content</th>\n",
       "      <td>int64</td>\n",
       "      <td>int64</td>\n",
       "      <td>int64</td>\n",
       "    </tr>\n",
       "    <tr>\n",
       "      <th>title</th>\n",
       "      <td>object</td>\n",
       "      <td>object</td>\n",
       "      <td>object</td>\n",
       "    </tr>\n",
       "    <tr>\n",
       "      <th>link_flair_text</th>\n",
       "      <td>object</td>\n",
       "      <td>object</td>\n",
       "      <td>object</td>\n",
       "    </tr>\n",
       "    <tr>\n",
       "      <th>upvote_ratio</th>\n",
       "      <td>float64</td>\n",
       "      <td>float64</td>\n",
       "      <td>float64</td>\n",
       "    </tr>\n",
       "    <tr>\n",
       "      <th>score</th>\n",
       "      <td>int64</td>\n",
       "      <td>int64</td>\n",
       "      <td>int64</td>\n",
       "    </tr>\n",
       "    <tr>\n",
       "      <th>gilded</th>\n",
       "      <td>int64</td>\n",
       "      <td>int64</td>\n",
       "      <td>int64</td>\n",
       "    </tr>\n",
       "    <tr>\n",
       "      <th>total_awards_received</th>\n",
       "      <td>int64</td>\n",
       "      <td>int64</td>\n",
       "      <td>int64</td>\n",
       "    </tr>\n",
       "    <tr>\n",
       "      <th>num_comments</th>\n",
       "      <td>int64</td>\n",
       "      <td>int64</td>\n",
       "      <td>int64</td>\n",
       "    </tr>\n",
       "    <tr>\n",
       "      <th>num_crossposts</th>\n",
       "      <td>int64</td>\n",
       "      <td>int64</td>\n",
       "      <td>int64</td>\n",
       "    </tr>\n",
       "    <tr>\n",
       "      <th>selftext</th>\n",
       "      <td>object</td>\n",
       "      <td>object</td>\n",
       "      <td>object</td>\n",
       "    </tr>\n",
       "    <tr>\n",
       "      <th>thumbnail</th>\n",
       "      <td>object</td>\n",
       "      <td>object</td>\n",
       "      <td>object</td>\n",
       "    </tr>\n",
       "    <tr>\n",
       "      <th>shortlink</th>\n",
       "      <td>object</td>\n",
       "      <td>object</td>\n",
       "      <td>object</td>\n",
       "    </tr>\n",
       "  </tbody>\n",
       "</table>\n",
       "</div>"
      ],
      "text/plain": [
       "                             0        1        2\n",
       "Unnamed: 0               int64    int64    int64\n",
       "id                      object   object   object\n",
       "author                  object   object   object\n",
       "created                 object   object   object\n",
       "retrieved               object   object   object\n",
       "edited                  object   object   object\n",
       "pinned                   int64    int64    int64\n",
       "archived                 int64    int64    int64\n",
       "locked                   int64    int64    int64\n",
       "removed                  int64    int64    int64\n",
       "deleted                  int64    int64    int64\n",
       "is_self                  int64    int64    int64\n",
       "is_video                 int64    int64    int64\n",
       "is_original_content      int64    int64    int64\n",
       "title                   object   object   object\n",
       "link_flair_text         object   object   object\n",
       "upvote_ratio           float64  float64  float64\n",
       "score                    int64    int64    int64\n",
       "gilded                   int64    int64    int64\n",
       "total_awards_received    int64    int64    int64\n",
       "num_comments             int64    int64    int64\n",
       "num_crossposts           int64    int64    int64\n",
       "selftext                object   object   object\n",
       "thumbnail               object   object   object\n",
       "shortlink               object   object   object"
      ]
     },
     "execution_count": 5,
     "metadata": {},
     "output_type": "execute_result"
    }
   ],
   "source": [
    "# datatypes match\n",
    "pd.concat([ch_sample.dtypes,cg_sample.dtypes,rr_sample.dtypes],axis=1)"
   ]
  },
  {
   "cell_type": "code",
   "execution_count": 6,
   "id": "f4356260-679a-4065-940e-c6287cceaf45",
   "metadata": {
    "tags": []
   },
   "outputs": [],
   "source": [
    "def read_files(file_links):\n",
    "    df = pd.DataFrame()\n",
    "    for link in file_links:\n",
    "        df = pd.concat((df, pd.read_csv(os.getcwd() + link)), axis=0)\n",
    "    return df"
   ]
  },
  {
   "cell_type": "code",
   "execution_count": 7,
   "id": "210522f6-000c-45b4-b2e6-5fa5036cb5ea",
   "metadata": {
    "tags": []
   },
   "outputs": [],
   "source": [
    "df_full_raw = read_files(file_links)"
   ]
  },
  {
   "cell_type": "code",
   "execution_count": 8,
   "id": "0811bb0e-3771-4b87-a943-5fb175b76cb2",
   "metadata": {},
   "outputs": [],
   "source": [
    "np.random.seed(42)\n",
    "indices = np.arange(len(df_full_raw))\n",
    "shuffled_indices = np.random.permutation(indices)\n",
    "df_full = df_full_raw.iloc[shuffled_indices]"
   ]
  },
  {
   "cell_type": "markdown",
   "id": "9729e915-97ca-49a8-a415-9b5c31c6797b",
   "metadata": {},
   "source": [
    "# Examine Data for Cleaning"
   ]
  },
  {
   "cell_type": "code",
   "execution_count": 9,
   "id": "bf67904d-e237-4cc9-b48a-0aff79549fb2",
   "metadata": {
    "tags": []
   },
   "outputs": [
    {
     "ename": "NameError",
     "evalue": "name 'df' is not defined",
     "output_type": "error",
     "traceback": [
      "\u001b[0;31m---------------------------------------------------------------------------\u001b[0m",
      "\u001b[0;31mNameError\u001b[0m                                 Traceback (most recent call last)",
      "Cell \u001b[0;32mIn[9], line 1\u001b[0m\n\u001b[0;32m----> 1\u001b[0m df\u001b[38;5;241m.\u001b[39mshape\n",
      "\u001b[0;31mNameError\u001b[0m: name 'df' is not defined"
     ]
    }
   ],
   "source": [
    "df.shape"
   ]
  },
  {
   "cell_type": "code",
   "execution_count": null,
   "id": "ba891b0e-4770-4dd9-a222-8a347e992725",
   "metadata": {
    "tags": []
   },
   "outputs": [],
   "source": [
    "df.isna().sum()"
   ]
  },
  {
   "cell_type": "markdown",
   "id": "7a1fec03-e125-4196-ad49-a69cb48e5f4e",
   "metadata": {},
   "source": [
    "### Dropping Null selftext values"
   ]
  },
  {
   "cell_type": "code",
   "execution_count": null,
   "id": "4ac034d0-d3bf-4809-8a74-15e3871ebfb0",
   "metadata": {
    "tags": []
   },
   "outputs": [],
   "source": [
    "print(df.shape)\n",
    "df = df.dropna(subset='selftext')\n",
    "print(df.shape)"
   ]
  },
  {
   "cell_type": "markdown",
   "id": "ca8883c3-c128-4f91-96ae-240bd5a14574",
   "metadata": {},
   "source": [
    "### Filling NA's for link_flair_text"
   ]
  },
  {
   "cell_type": "code",
   "execution_count": null,
   "id": "1166c23b-a3a0-4b8d-90e1-87eaf9748ae8",
   "metadata": {
    "tags": []
   },
   "outputs": [],
   "source": [
    "df[df['link_flair_text'].isna()].fillna({'link_flair_text':''}).iloc[:2]"
   ]
  },
  {
   "cell_type": "code",
   "execution_count": null,
   "id": "cc711a34-4f4e-4277-9899-b1ff717eff02",
   "metadata": {
    "tags": []
   },
   "outputs": [],
   "source": [
    "df.describe()"
   ]
  },
  {
   "cell_type": "markdown",
   "id": "6d160fbc-d054-4775-9b83-8f065b129cc6",
   "metadata": {},
   "source": [
    "Remove the \"Unnamed: 0\" field"
   ]
  },
  {
   "cell_type": "code",
   "execution_count": null,
   "id": "4e1c4c6f-d8e2-4bc1-8405-c3feea804e1b",
   "metadata": {
    "tags": []
   },
   "outputs": [],
   "source": [
    "df.iloc[:2]"
   ]
  },
  {
   "cell_type": "code",
   "execution_count": null,
   "id": "ae70c95c-6c37-4815-a9e9-ce5c6bb186ac",
   "metadata": {
    "tags": []
   },
   "outputs": [],
   "source": [
    "plt.figure(figsize=(10, 10))\n",
    "words = \" \".join(df['selftext'])\n",
    "wc1 = WordCloud(max_words=500, width=800, height=400).generate(words)\n",
    "plt.imshow(wc1, interpolation='bilinear')\n",
    "plt.title('Raw Word Cloud', fontsize=14)\n",
    "plt.axis('off')  # Hide axes\n",
    "plt.show()"
   ]
  },
  {
   "cell_type": "markdown",
   "id": "a00e5bdd-5bb6-4f45-b560-41020af1b626",
   "metadata": {},
   "source": [
    "### Reviewing unexpected terms, such as https, webp, pgn.\n",
    "\n",
    "Where are these words coming from?"
   ]
  },
  {
   "cell_type": "code",
   "execution_count": null,
   "id": "675117f3-e5b8-4351-878e-e81fa8ffcb70",
   "metadata": {
    "tags": []
   },
   "outputs": [],
   "source": [
    "search_terms = [r'https', r'webp','png']"
   ]
  },
  {
   "cell_type": "markdown",
   "id": "e04df539-8be0-4fc9-8649-cd2aa16e2d9c",
   "metadata": {},
   "source": [
    "The search terms are all part of url's. They will be removed."
   ]
  },
  {
   "cell_type": "code",
   "execution_count": null,
   "id": "0e16a6f0-a80b-4826-9e6e-bd82707fdcbc",
   "metadata": {
    "tags": []
   },
   "outputs": [],
   "source": [
    "df[df['selftext'].apply(lambda x: any(pattern in x for pattern in search_terms))]['selftext'].iloc[0]"
   ]
  },
  {
   "cell_type": "code",
   "execution_count": null,
   "id": "b1378d6b-edaa-4d79-b444-9ffd4bdf1388",
   "metadata": {
    "tags": []
   },
   "outputs": [],
   "source": [
    "df[df['selftext'].apply(lambda x: any(pattern in x for pattern in search_terms))]['selftext'].apply(lambda x: re.sub(r'https?://\\S+\\b/?', '<url>', x)).iloc[0]"
   ]
  },
  {
   "cell_type": "markdown",
   "id": "3e68763e-e0ac-4206-8ba2-55598abeae1f",
   "metadata": {},
   "source": [
    "Remove URL's, and replace with \"< url >\""
   ]
  },
  {
   "cell_type": "code",
   "execution_count": null,
   "id": "b59f40a1-b2ad-46e8-8ee1-eff903be06a7",
   "metadata": {
    "tags": []
   },
   "outputs": [],
   "source": [
    "plt.figure(figsize=(10, 10))\n",
    "words = \" \".join( df['selftext'].apply(lambda x: re.sub(r'https?://\\S+\\b/?', '<url>', x)) )\n",
    "wc2 = WordCloud(max_words=500, width=800, height=400).generate(words)\n",
    "plt.imshow(wc2, interpolation='bilinear')\n",
    "plt.title(\"Word Cloud - URL's removed\", fontsize=14)\n",
    "plt.axis('off')  # Hide axes\n",
    "plt.show()"
   ]
  },
  {
   "cell_type": "code",
   "execution_count": null,
   "id": "4f9148a9-1fcd-4689-b7c8-6579d66a8741",
   "metadata": {
    "tags": []
   },
   "outputs": [],
   "source": [
    "# Identifying x200b, which is zero width space\n",
    "search_terms = ['x200']\n",
    "zero_width_indexes = df['selftext'].apply(lambda x: any(pattern in x for pattern in search_terms))\n",
    "df[zero_width_indexes]['selftext'].iloc[0][:1000]"
   ]
  },
  {
   "cell_type": "code",
   "execution_count": null,
   "id": "b77d49a2-6c58-4062-9d83-83116318ee7b",
   "metadata": {
    "tags": []
   },
   "outputs": [],
   "source": [
    "# Remove zero width spaces (x200B)\n",
    "df[zero_width_indexes]['selftext'].apply(lambda x: re.sub(r'x200B', '', x)).iloc[0][:1000]"
   ]
  },
  {
   "cell_type": "code",
   "execution_count": null,
   "id": "a78054b5-b406-43e4-9c42-99479e904366",
   "metadata": {
    "tags": []
   },
   "outputs": [],
   "source": [
    "# Replace the HTTPS with <url> and remove zero width spaces (x200B) \n",
    "plt.figure(figsize=(10, 10))\n",
    "words = \" \".join( df['selftext'].apply(lambda x: re.sub(r'https?://\\S+\\b/?', '<url>', x)).apply(lambda x: re.sub(r'x200B', '', x)) )\n",
    "wc2 = WordCloud(max_words=500, width=800, height=400).generate(words)\n",
    "plt.imshow(wc2, interpolation='bilinear')\n",
    "plt.title(\"Word Cloud - URL's and Zero Width Spaces Removed.\", fontsize=14)\n",
    "plt.axis('off')  # Hide axes\n",
    "plt.show()"
   ]
  },
  {
   "cell_type": "markdown",
   "id": "84c4fa2f-02db-4911-93e5-b7a868ea8ad1",
   "metadata": {},
   "source": [
    "What are common selftext values, and how should they be handled?"
   ]
  },
  {
   "cell_type": "code",
   "execution_count": null,
   "id": "5363cc52-5d68-4b37-8fae-4172da4363e8",
   "metadata": {
    "tags": []
   },
   "outputs": [],
   "source": [
    "df['selftext'].value_counts().iloc[:5]"
   ]
  },
  {
   "cell_type": "markdown",
   "id": "1e2df461-95f0-4a37-b37e-dc93f3144677",
   "metadata": {
    "tags": []
   },
   "source": [
    "This contains recurring discussion posts and self_text values of '[deleted]' which should be removed."
   ]
  },
  {
   "cell_type": "code",
   "execution_count": null,
   "id": "f38b4b86-9ec6-48bd-8ed1-d00a1ab5ee52",
   "metadata": {
    "tags": []
   },
   "outputs": [],
   "source": [
    "df.shape, df[df['selftext']!='[deleted]'].shape"
   ]
  },
  {
   "cell_type": "markdown",
   "id": "da62001f-3064-49d1-aab9-9cf3133d36b8",
   "metadata": {},
   "source": [
    "### Removing Discussion Posts"
   ]
  },
  {
   "cell_type": "code",
   "execution_count": null,
   "id": "0aaabcf0-06c3-47ee-9c62-3bce53ac716e",
   "metadata": {
    "tags": []
   },
   "outputs": [],
   "source": [
    "text_frequency = df['selftext'].value_counts().reset_index()\n",
    "text_frequency = text_frequency[text_frequency['count']>3]\n",
    "discussion_posts = text_frequency['selftext'].tolist()\n",
    "df[df['selftext'].isin(discussion_posts)].iloc[:2]"
   ]
  },
  {
   "cell_type": "markdown",
   "id": "9c16f6fc-67af-4a96-9a78-b8ae7cfaf8eb",
   "metadata": {},
   "source": [
    "# Cleaning Data"
   ]
  },
  {
   "cell_type": "markdown",
   "id": "5a808e1d-6e67-4447-a852-e5eda96ca8d1",
   "metadata": {
    "tags": []
   },
   "source": [
    "### Drop NA's"
   ]
  },
  {
   "cell_type": "code",
   "execution_count": null,
   "id": "c0f04f08-6948-4628-bcc1-77644f93e073",
   "metadata": {},
   "outputs": [],
   "source": [
    "df = df.dropna(subset='selftext')"
   ]
  },
  {
   "cell_type": "markdown",
   "id": "d0390545-5d75-45d4-a63b-3afa2fca8261",
   "metadata": {},
   "source": [
    "### Fill NA's"
   ]
  },
  {
   "cell_type": "code",
   "execution_count": null,
   "id": "69687ed5-b184-43d7-bd56-9d8acf9f95e6",
   "metadata": {},
   "outputs": [],
   "source": [
    "df = df.fillna({'link_flair_text':''})"
   ]
  },
  {
   "cell_type": "markdown",
   "id": "41ba6aeb-7abb-420e-a1f7-9ebb0f0ece43",
   "metadata": {},
   "source": [
    "### Remove [deleted] selftext entries"
   ]
  },
  {
   "cell_type": "code",
   "execution_count": null,
   "id": "5f813387-6e58-4d5c-b4b1-a68c0cbd2b05",
   "metadata": {},
   "outputs": [],
   "source": [
    "df = df[df['selftext']!='[deleted]']"
   ]
  },
  {
   "cell_type": "markdown",
   "id": "81cb557f-f456-4fd3-938f-c1b4e22719b5",
   "metadata": {},
   "source": [
    "### Remove discussion posts"
   ]
  },
  {
   "cell_type": "code",
   "execution_count": null,
   "id": "199cdeb1-fd67-4a0d-b82e-faaecb392095",
   "metadata": {
    "tags": []
   },
   "outputs": [],
   "source": [
    "def remove_discussion_posts(df_orig):\n",
    "    '''Discussion posts are defined as posts that occur more than 3 times.'''\n",
    "    df = df_orig.copy()\n",
    "\n",
    "    text_frequency = df['selftext'].value_counts().reset_index()\n",
    "    text_frequency = text_frequency[text_frequency['count']>3]\n",
    "    discussion_posts = text_frequency['selftext'].tolist()\n",
    "    \n",
    "    df = df[~df['selftext'].isin(discussion_posts)]\n",
    "\n",
    "\n",
    "    return df\n",
    "\n",
    "# df = remove_discussion_posts(df)"
   ]
  },
  {
   "cell_type": "markdown",
   "id": "9dbf8753-d21d-46c0-9bc3-a7436a9ab2b9",
   "metadata": {},
   "source": [
    "### Preprocess data and clean data\n",
    "We must remove excess HTML and other words."
   ]
  },
  {
   "cell_type": "code",
   "execution_count": null,
   "id": "39eae38a-5448-45a5-a0c9-aadf72c7e0e4",
   "metadata": {
    "tags": []
   },
   "outputs": [],
   "source": [
    "unnamed_columns = [i for i in df.columns if 'Unnamed' in i]\n",
    "df = df.drop(columns=unnamed_columns)"
   ]
  },
  {
   "cell_type": "markdown",
   "id": "3066080b-379e-4659-8603-0d5539b1b9c4",
   "metadata": {},
   "source": [
    "We must remove excess HTML and other words."
   ]
  },
  {
   "cell_type": "code",
   "execution_count": null,
   "id": "5eb16a14-b769-4a15-91e0-04d428a9f866",
   "metadata": {
    "tags": []
   },
   "outputs": [],
   "source": [
    "def preprocessor(text):\n",
    "    try:\n",
    "        text = re.sub('<[^>]*>', '', text)\n",
    "        emoticons = re.findall('(?::|;|=)(?:-)?(?:\\)|\\(|D|P)',\n",
    "                               text)\n",
    "        text = (re.sub('[\\W]+', ' ', text.lower()) +\n",
    "                ' '.join(emoticons).replace('-', ''))\n",
    "    except Exception as e:\n",
    "        print(f'Exception when preprocessing.\\n{e}')\n",
    "    finally:\n",
    "        return text\n",
    "\n",
    "# from https://stackoverflow.com/questions/70304914/sentiment-analysis-python-tokenization\n",
    "def cleaner(text):\n",
    "    text = str(text).lower()\n",
    "    text = re.sub(r'#(\\w+)', r'<\\1>', text)\n",
    "    text = re.sub(r'\\n', ' ', text) # Remove /n\n",
    "    text = re.sub(r'@[A-Za-z0-9]+', '<user>', text) # Remove and replace @mention\n",
    "    text = re.sub(r'RT\\s+', '', text) # Remove RT\n",
    "    text = re.sub(r'https?://\\S+\\b/?', '<url>', text) # Remove and replace links\n",
    "    text = re.sub('x200B', '', text)\n",
    "    return text\n",
    "\n",
    "# There's a chance we WON'T need to convert emojis to text if the model we're using supports emojis, but this might be useful\n",
    "def deemoji_text(text):\n",
    "    return emoji_demojize(text)\n",
    "\n",
    "def deemoji_text_unicode(text):\n",
    "    return text.encode('unicode-escape').decode('utf-8')\n",
    "\n",
    "def remove_urls(text):\n",
    "    url_pattern = re.compile(r'http[s]?://\\S+')\n",
    "    return url_pattern.sub('', text)\n",
    "\n",
    "def drop_unnamed_columns(df_orig):\n",
    "    df = df_orig.copy()\n",
    "    unnamed_columns = [i for i in df.columns if 'Unnamed' in i]\n",
    "    df = df_full.drop(columns=unnamed_columns)\n",
    "    return df"
   ]
  },
  {
   "cell_type": "code",
   "execution_count": null,
   "id": "22cabbc0-ec5a-4b5e-87ad-1c478b9702fe",
   "metadata": {
    "tags": []
   },
   "outputs": [],
   "source": [
    "df['selftext'] = df['selftext'].apply(cleaner).apply(preprocessor)"
   ]
  },
  {
   "cell_type": "code",
   "execution_count": null,
   "id": "e6ba87d6-5caa-49fc-9f7d-654887ce2c05",
   "metadata": {
    "tags": []
   },
   "outputs": [],
   "source": [
    "# Replace the HTTPS with <url> and remove zero width spaces (x200B) \n",
    "plt.figure(figsize=(10, 10))\n",
    "words = \" \".join( df['selftext'] )\n",
    "wc2 = WordCloud(max_words=500, width=800, height=400).generate(words)\n",
    "plt.imshow(wc2, interpolation='bilinear')\n",
    "plt.title(\"Word Cloud - Cleaned Dataset\", fontsize=14)\n",
    "plt.axis('off')  # Hide axes\n",
    "plt.show()"
   ]
  },
  {
   "cell_type": "markdown",
   "id": "021d8d2a-0592-4bb9-8f96-befab87c541c",
   "metadata": {
    "tags": []
   },
   "source": [
    "# Standardizing Numeric Fields"
   ]
  },
  {
   "cell_type": "markdown",
   "id": "ac1ac14c-e78a-4a70-9e04-20aa0e93c9bd",
   "metadata": {},
   "source": [
    "### Examine Numeric Fields"
   ]
  },
  {
   "cell_type": "code",
   "execution_count": null,
   "id": "e4381ae2-87d7-49f1-ab7a-6cbb02169a7f",
   "metadata": {
    "tags": []
   },
   "outputs": [],
   "source": [
    "numeric_columns = df.dtypes[(df.dtypes == 'int64') | (df.dtypes == 'float64')].index.values\n",
    "df[numeric_columns]"
   ]
  },
  {
   "cell_type": "markdown",
   "id": "af4e98e9-1246-45ad-a1e4-56246fc1cdb7",
   "metadata": {},
   "source": [
    "### Scale Numeric Fields"
   ]
  },
  {
   "cell_type": "code",
   "execution_count": null,
   "id": "dfa6fa58-9dce-44d9-b128-0f89323f4266",
   "metadata": {
    "tags": []
   },
   "outputs": [],
   "source": [
    "scaling_fields=['upvote_ratio','score','gilded','total_awards_received','num_comments','num_crossposts']\n",
    "\n",
    "non_scaling_fields = [i for i in df.columns if i not in scaling_fields]"
   ]
  },
  {
   "cell_type": "code",
   "execution_count": null,
   "id": "bf8df0bf-dfa8-4273-a3f0-54e46999c69b",
   "metadata": {
    "tags": []
   },
   "outputs": [],
   "source": [
    "scaler = StandardScaler()\n",
    "\n",
    "df_scaled_values = scaler.fit_transform(df[scaling_fields].values)\n",
    "\n",
    "df_scaled = pd.DataFrame(df_scaled_values, columns=scaling_fields)"
   ]
  },
  {
   "cell_type": "code",
   "execution_count": null,
   "id": "4830b96e-46e0-453a-b007-58a5516a7728",
   "metadata": {
    "tags": []
   },
   "outputs": [],
   "source": [
    "df_std = pd.concat((df[non_scaling_fields].reset_index(drop=True), df_scaled), axis=1)"
   ]
  },
  {
   "cell_type": "code",
   "execution_count": null,
   "id": "561e41ad-9a5c-41e0-8f05-f42f703fb182",
   "metadata": {
    "tags": []
   },
   "outputs": [],
   "source": [
    "df_std.iloc[1:3]"
   ]
  },
  {
   "cell_type": "markdown",
   "id": "e9ac0b57-2110-45e5-97b6-5941a7ff8c09",
   "metadata": {},
   "source": [
    "# Full Dataset Cleaning and Training/Validation/Test Assignments"
   ]
  },
  {
   "cell_type": "code",
   "execution_count": null,
   "id": "5a3dffe4-5c7d-4ad6-bc0c-ddd2d1e58d3c",
   "metadata": {},
   "outputs": [],
   "source": [
    "df_full = df_full.dropna(subset='selftext')"
   ]
  },
  {
   "cell_type": "code",
   "execution_count": null,
   "id": "50b6e183-197f-4d4d-a51c-f3050d22952b",
   "metadata": {},
   "outputs": [],
   "source": [
    "df_full = df_full.fillna({'link_flair_text':''})"
   ]
  },
  {
   "cell_type": "code",
   "execution_count": null,
   "id": "38a215f0-4725-4e26-bf45-477e7fd892bb",
   "metadata": {},
   "outputs": [],
   "source": [
    "df_full = df_full[df_full['selftext']!='[deleted]']"
   ]
  },
  {
   "cell_type": "code",
   "execution_count": null,
   "id": "89e0da45-e2d3-4c87-90e0-391d220198e8",
   "metadata": {},
   "outputs": [],
   "source": [
    "def remove_discussion_posts(df_orig):\n",
    "    '''Discussion posts are defined as posts that occur more than 3 times.'''\n",
    "    df = df_orig.copy()\n",
    "\n",
    "    text_frequency = df['selftext'].value_counts().reset_index()\n",
    "    text_frequency = text_frequency[text_frequency['count']>3]\n",
    "    discussion_posts = text_frequency['selftext'].tolist()\n",
    "    \n",
    "    df = df[~df['selftext'].isin(discussion_posts)]\n",
    "\n",
    "\n",
    "    return df"
   ]
  },
  {
   "cell_type": "code",
   "execution_count": null,
   "id": "ce00909c-1077-4626-8b8b-d53831eebd74",
   "metadata": {},
   "outputs": [],
   "source": [
    "# df = remove_discussion_posts(df)"
   ]
  },
  {
   "cell_type": "markdown",
   "id": "33de58ba-08b6-4311-b252-090c691ccb40",
   "metadata": {},
   "source": [
    "### Clean and Preprocess Data"
   ]
  },
  {
   "cell_type": "code",
   "execution_count": null,
   "id": "5ae5eb7a-a9aa-4e40-8d24-fd54bd208a42",
   "metadata": {
    "tags": []
   },
   "outputs": [],
   "source": [
    "df_full['selftext'] = df_full['selftext'].apply(cleaner).apply(preprocessor)"
   ]
  },
  {
   "cell_type": "markdown",
   "id": "cd0e2f08-b8df-4850-9158-541b1553d86a",
   "metadata": {},
   "source": [
    "### Drop Columns containing \"Unnamed\""
   ]
  },
  {
   "cell_type": "code",
   "execution_count": null,
   "id": "67164a65-c250-42ba-bc02-cdcc914c4200",
   "metadata": {},
   "outputs": [],
   "source": [
    "df_full = drop_unnamed_columns(df_full)"
   ]
  },
  {
   "cell_type": "markdown",
   "id": "dcc20762-3d54-4c73-8db2-6959e3bcf503",
   "metadata": {},
   "source": [
    "### Scale Numeric Fields"
   ]
  },
  {
   "cell_type": "code",
   "execution_count": null,
   "id": "f2675be2-83b6-4943-a02a-0b5888f3e166",
   "metadata": {},
   "outputs": [],
   "source": [
    "def scale_numeric_fields(scaler, df, scaling_fields):\n",
    "    non_scaling_fields = [i for i in df.columns if i not in scaling_fields]\n",
    "\n",
    "    df_scaled_values = scaler.fit_transform(df[scaling_fields].values)\n",
    "    df_scaled = pd.DataFrame(df_scaled_values, columns=scaling_fields)\n",
    "    \n",
    "    df_std = pd.concat((df[non_scaling_fields].reset_index(drop=True), df_scaled), axis=1)\n",
    "    \n",
    "    return df_std"
   ]
  },
  {
   "cell_type": "code",
   "execution_count": null,
   "id": "0d168a76-9284-4350-8508-7ab116b4e7e1",
   "metadata": {
    "tags": []
   },
   "outputs": [],
   "source": [
    "scaling_fields=['upvote_ratio','score','gilded','total_awards_received','num_comments','num_crossposts']\n",
    "\n",
    "scaler = StandardScaler()\n",
    "\n",
    "df_full = scale_numeric_fields(scaler, df_full, scaling_fields)"
   ]
  },
  {
   "cell_type": "markdown",
   "id": "3a41bef4-b30f-45f4-9e9a-9f51c77925b1",
   "metadata": {},
   "source": [
    "### Split Data into Train, Validation, Test sets"
   ]
  },
  {
   "cell_type": "code",
   "execution_count": null,
   "id": "eba6cbc3-9fe4-4bfa-8ab2-73db0d2696a7",
   "metadata": {
    "tags": []
   },
   "outputs": [],
   "source": [
    "def split_data(df_full, split=(0.7, 0.15, 0.15)):\n",
    "    split = (0.7, 0.15, 0.15) # --> to be discussed with team\n",
    "    X_full = df_full[['id', 'author', 'created', 'retrieved', 'edited',\n",
    "           'pinned', 'archived', 'locked', 'removed', 'deleted', 'is_self',\n",
    "           'is_video', 'is_original_content', 'title', 'link_flair_text',\n",
    "           'upvote_ratio',  'gilded', 'total_awards_received',\n",
    "           'num_comments', 'num_crossposts', 'selftext', 'thumbnail', 'shortlink']]\n",
    "\n",
    "    Y_full = df_full['score']\n",
    "\n",
    "    X_train, X_t, y_train, Y_t = train_test_split(X_full,  Y_full, train_size=split[0])\n",
    "    X_val, X_test, y_val, y_test = train_test_split(X_t,  Y_t, train_size=split[1]/(split[1]+split[2]))\n",
    "\n",
    "    return X_train, y_train, X_val, y_val, X_test, y_test\n",
    "\n",
    "X_train, y_train, X_val, y_val, X_test, y_test = split_data(df_full)"
   ]
  },
  {
   "cell_type": "code",
   "execution_count": null,
   "id": "35b2a3b4-dad1-44ec-94b4-9bb05727bc66",
   "metadata": {
    "tags": []
   },
   "outputs": [],
   "source": [
    "# X_train.to_csv('./data/X_train.csv', index=False)\n",
    "# y_train.to_csv('./data/y_train.csv', index=False)\n",
    "\n",
    "# X_val.to_csv('./data/X_val.csv', index=False)\n",
    "# y_val.to_csv('./data/y_val.csv', index=False)\n",
    "\n",
    "# X_test.to_csv('./data/X_test.csv', index=False)\n",
    "# y_test.to_csv('./data/y_test.csv', index=False)"
   ]
  },
  {
   "cell_type": "code",
   "execution_count": null,
   "id": "1d3ae26d-b839-4f18-bcda-5b0a14237d3d",
   "metadata": {
    "tags": []
   },
   "outputs": [],
   "source": []
  }
 ],
 "metadata": {
  "kernelspec": {
   "display_name": "Python 3 (ipykernel)",
   "language": "python",
   "name": "python3"
  },
  "language_info": {
   "codemirror_mode": {
    "name": "ipython",
    "version": 3
   },
   "file_extension": ".py",
   "mimetype": "text/x-python",
   "name": "python",
   "nbconvert_exporter": "python",
   "pygments_lexer": "ipython3",
   "version": "3.11.5"
  }
 },
 "nbformat": 4,
 "nbformat_minor": 5
}
