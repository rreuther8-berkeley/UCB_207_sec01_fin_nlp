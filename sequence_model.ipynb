{
 "cells": [
  {
   "cell_type": "markdown",
   "id": "43af1fc3-857b-4444-bd5b-578eeb752a38",
   "metadata": {},
   "source": [
    "# Imports"
   ]
  },
  {
   "cell_type": "code",
   "execution_count": 22,
   "id": "8ef5df95-6da0-4035-899f-7c52cc688250",
   "metadata": {
    "tags": []
   },
   "outputs": [],
   "source": [
    "import os\n",
    "import re\n",
    "\n",
    "import emoji\n",
    "import pandas as pd\n",
    "import numpy as np\n",
    "from sklearn.preprocessing import StandardScaler\n",
    "from wordcloud import WordCloud\n",
    "from sklearn.model_selection import train_test_split\n",
    "from matplotlib import pyplot as plt\n",
    "\n",
    "# tf and keras\n",
    "import tensorflow as tf\n",
    "from tensorflow.keras import Sequential, layers, losses\n",
    "from tensorflow.keras.layers import (\n",
    "    Dense,\n",
    "    Embedding,\n",
    "    GlobalAveragePooling1D,\n",
    "    Dropout,\n",
    "    TextVectorization,\n",
    "    Input,\n",
    "    Conv1D,\n",
    "    LSTM,\n",
    "    MaxPooling1D,\n",
    "    Bidirectional,\n",
    ")\n",
    "from tensorflow.keras.models import Model\n",
    "# import tensorflow_datasets as tfds\n",
    "\n",
    "pd.set_option('display.max_colwidth', 100) "
   ]
  },
  {
   "cell_type": "markdown",
   "id": "1050b113-b9e2-45ef-99be-5ef0bc10be5a",
   "metadata": {
    "tags": []
   },
   "source": [
    "# UTILS"
   ]
  },
  {
   "cell_type": "code",
   "execution_count": 3,
   "id": "271f8cda-f6e7-4cf8-bc80-f28fbd7a9e23",
   "metadata": {
    "tags": []
   },
   "outputs": [],
   "source": [
    "def display_model(model):\n",
    "    display(model.layers)\n",
    "    display(model.summary())\n",
    "\n",
    "    # Retrieve the embeddings layer, which itself is wrapped in a list.\n",
    "    embeddings = model.layers[1].get_weights()[0]\n",
    "    print('-'*100)\n",
    "    display(\"Embeddings layer - shape: \", embeddings.shape)\n",
    "    print('-'*100)\n",
    "    display(\"Embeddings layer - parameter matrix (before training): \", embeddings)"
   ]
  },
  {
   "cell_type": "code",
   "execution_count": 4,
   "id": "a1161982-b3ac-4aa0-9925-ebf88d733c8e",
   "metadata": {
    "tags": []
   },
   "outputs": [],
   "source": [
    "def read_files():\n",
    "    X_train = pd.read_csv('./data/final/X_train.csv')\n",
    "    y_train = pd.read_csv('./data/final/y_train.csv')\n",
    "    X_val = pd.read_csv('./data/final/X_val.csv')\n",
    "    y_val = pd.read_csv('./data/final/y_val.csv')\n",
    "    X_test = pd.read_csv('./data/final/X_test.csv')\n",
    "    y_test = pd.read_csv('./data/final/y_test.csv')\n",
    "    \n",
    "    train_not_na_indices = (X_train['fulltext'].notna())\n",
    "    val_not_na_indices = (X_val['fulltext'].notna())\n",
    "    test_not_na_indices = (X_test['fulltext'].notna())\n",
    "    \n",
    "    X_train = X_train[train_not_na_indices]\n",
    "    X_val = X_val[val_not_na_indices]\n",
    "    X_test = X_test[test_not_na_indices]\n",
    "    \n",
    "    y_train = y_train[train_not_na_indices]\n",
    "    y_val = y_val[val_not_na_indices]\n",
    "    y_test = y_test[test_not_na_indices]\n",
    "\n",
    "    return X_train, y_train, X_val, y_val, X_test, y_test"
   ]
  },
  {
   "cell_type": "code",
   "execution_count": 5,
   "id": "b8c5d5d0-1905-40bb-9c60-933bfa063253",
   "metadata": {
    "tags": []
   },
   "outputs": [],
   "source": [
    "def get_vectorization_layer(df, column, max_tokens=10000, output_sequence_length=250, embedding_dim=16):\n",
    "    vectorize_layer = layers.TextVectorization(\n",
    "        max_tokens=max_tokens,\n",
    "        output_mode='int',\n",
    "        output_sequence_length=output_sequence_length)\n",
    "\n",
    "    df[column] = df[column].astype(str)\n",
    "    vectorize_layer.adapt(df[column].values)\n",
    "\n",
    "    return vectorize_layer"
   ]
  },
  {
   "cell_type": "code",
   "execution_count": 6,
   "id": "b470ea7a-193b-4391-809a-0a8fc78a46cc",
   "metadata": {
    "tags": []
   },
   "outputs": [],
   "source": [
    "def get_vectorization_layer_ngrams(df, column, max_tokens=10000, output_sequence_length=250, embedding_dim=16, ngrams=3):\n",
    "    vectorize_layer = layers.TextVectorization(\n",
    "        max_tokens=max_tokens,\n",
    "        ngrams=ngrams,\n",
    "        output_mode='int',\n",
    "        output_sequence_length=output_sequence_length)\n",
    "\n",
    "    df[column] = df[column].astype(str)\n",
    "    vectorize_layer.adapt(df[column].values)\n",
    "\n",
    "    return vectorize_layer"
   ]
  },
  {
   "cell_type": "code",
   "execution_count": 7,
   "id": "564b7a2d-f7c2-4606-a710-a71559c4aa18",
   "metadata": {},
   "outputs": [],
   "source": [
    "X_train, y_train, X_val, y_val, X_test, y_test = read_files()"
   ]
  },
  {
   "cell_type": "markdown",
   "id": "7fb83eb9-ed9e-4309-bbee-8f2c57f685ce",
   "metadata": {},
   "source": [
    "### Convert the fulltext into tensors"
   ]
  },
  {
   "cell_type": "code",
   "execution_count": 8,
   "id": "1ffc8dbc-b267-4a67-be24-05c872afbf1f",
   "metadata": {},
   "outputs": [
    {
     "name": "stderr",
     "output_type": "stream",
     "text": [
      "2024-08-01 16:03:37.799689: I tensorflow/core/common_runtime/process_util.cc:146] Creating new thread pool with default inter op setting: 2. Tune using inter_op_parallelism_threads for best performance.\n"
     ]
    }
   ],
   "source": [
    "text_data = tf.constant(X_train['fulltext'].values)\n",
    "text_data_val = tf.constant(X_val['fulltext'].values)\n",
    "text_data_test = tf.constant(X_test['fulltext'].values)"
   ]
  },
  {
   "cell_type": "markdown",
   "id": "899fbdb8-5424-4d0f-aea8-4f2db4bd0069",
   "metadata": {},
   "source": [
    "### Get vectorization layer"
   ]
  },
  {
   "cell_type": "code",
   "execution_count": 9,
   "id": "e6c38723-a285-4603-a648-5062882f42a0",
   "metadata": {
    "tags": []
   },
   "outputs": [],
   "source": [
    "vectorize_layer = get_vectorization_layer(X_train, 'fulltext')\n",
    "vectorize_layer_3_ngrams = get_vectorization_layer_ngrams(X_train, 'fulltext')"
   ]
  },
  {
   "cell_type": "markdown",
   "id": "4b44b463-b392-489e-8d88-6d8283bf3aae",
   "metadata": {
    "tags": []
   },
   "source": [
    "### Vectorize Text"
   ]
  },
  {
   "cell_type": "code",
   "execution_count": 10,
   "id": "d52369a7-1a2b-43e3-bf0a-3d1c15b9dfc0",
   "metadata": {
    "tags": []
   },
   "outputs": [],
   "source": [
    "vectorized_text = vectorize_layer(text_data)\n",
    "vectorized_text_val = vectorize_layer(text_data_val)\n",
    "vectorized_text_test = vectorize_layer(text_data_test)\n",
    "\n",
    "vectorized_text_3_ngrams = vectorize_layer_3_ngrams(text_data)\n",
    "vectorized_text_val_3_ngrams = vectorize_layer_3_ngrams(text_data_val)\n",
    "vectorized_text_test_3_ngrams = vectorize_layer_3_ngrams(text_data_test)"
   ]
  },
  {
   "cell_type": "markdown",
   "id": "2b869ee3-8a5b-41e3-9b8f-6b1ca593b923",
   "metadata": {
    "jp-MarkdownHeadingCollapsed": true,
    "tags": []
   },
   "source": [
    "# Model 1 - Removed"
   ]
  },
  {
   "cell_type": "markdown",
   "id": "269a84e4-3fb6-4698-8b5f-7ab05890942c",
   "metadata": {
    "tags": []
   },
   "source": [
    "# Model 2: TextVectorization Layer, Basic Embedding Model, Average Pooling, Two Hidden Dense Layers (64, 32)"
   ]
  },
  {
   "cell_type": "code",
   "execution_count": 11,
   "id": "45477179-4208-496d-8235-95a86e7b4e16",
   "metadata": {
    "tags": []
   },
   "outputs": [],
   "source": [
    "def build_model_2(max_tokens=10000, output_sequence_length=250, embedding_dim=16):\n",
    "    tf.keras.backend.clear_session()\n",
    "    tf.random.set_seed(0)\n",
    "    inputs = Input(shape=(output_sequence_length,))\n",
    "    \n",
    "    x = Embedding(input_dim=max_tokens, output_dim=embedding_dim, input_length=output_sequence_length)(inputs)\n",
    "\n",
    "    x = GlobalAveragePooling1D()(x) \n",
    "\n",
    "    x = Dense(64, activation='relu')(x)\n",
    "    x = Dense(32, activation='relu')(x)\n",
    "    \n",
    "    outputs = Dense(1)(x)\n",
    "    model = Model(inputs, outputs)\n",
    "    model.compile(optimizer='adam', loss='mean_squared_error', metrics=['mean_absolute_error','accuracy'])\n",
    "    \n",
    "    return model"
   ]
  },
  {
   "cell_type": "code",
   "execution_count": 12,
   "id": "8796b134-f5f0-481c-a646-cfdb09b3d44c",
   "metadata": {
    "tags": []
   },
   "outputs": [
    {
     "name": "stdout",
     "output_type": "stream",
     "text": [
      "Epoch 1/5\n",
      "14787/14787 [==============================] - 304s 20ms/step - loss: 0.9416 - mean_absolute_error: 0.1124 - accuracy: 0.0000e+00 - val_loss: 0.6094 - val_mean_absolute_error: 0.0980 - val_accuracy: 0.0000e+00\n",
      "Epoch 2/5\n",
      "14787/14787 [==============================] - 255s 17ms/step - loss: 0.8613 - mean_absolute_error: 0.1140 - accuracy: 0.0000e+00 - val_loss: 0.6345 - val_mean_absolute_error: 0.1108 - val_accuracy: 0.0000e+00\n"
     ]
    },
    {
     "data": {
      "text/html": [
       "<div>\n",
       "<style scoped>\n",
       "    .dataframe tbody tr th:only-of-type {\n",
       "        vertical-align: middle;\n",
       "    }\n",
       "\n",
       "    .dataframe tbody tr th {\n",
       "        vertical-align: top;\n",
       "    }\n",
       "\n",
       "    .dataframe thead th {\n",
       "        text-align: right;\n",
       "    }\n",
       "</style>\n",
       "<table border=\"1\" class=\"dataframe\">\n",
       "  <thead>\n",
       "    <tr style=\"text-align: right;\">\n",
       "      <th></th>\n",
       "      <th>loss</th>\n",
       "      <th>mean_absolute_error</th>\n",
       "      <th>accuracy</th>\n",
       "      <th>val_loss</th>\n",
       "      <th>val_mean_absolute_error</th>\n",
       "      <th>val_accuracy</th>\n",
       "    </tr>\n",
       "  </thead>\n",
       "  <tbody>\n",
       "    <tr>\n",
       "      <th>0</th>\n",
       "      <td>0.941614</td>\n",
       "      <td>0.112412</td>\n",
       "      <td>0.0</td>\n",
       "      <td>0.609355</td>\n",
       "      <td>0.098010</td>\n",
       "      <td>0.0</td>\n",
       "    </tr>\n",
       "    <tr>\n",
       "      <th>1</th>\n",
       "      <td>0.861312</td>\n",
       "      <td>0.114036</td>\n",
       "      <td>0.0</td>\n",
       "      <td>0.634518</td>\n",
       "      <td>0.110827</td>\n",
       "      <td>0.0</td>\n",
       "    </tr>\n",
       "  </tbody>\n",
       "</table>\n",
       "</div>"
      ],
      "text/plain": [
       "       loss  mean_absolute_error  accuracy  val_loss  val_mean_absolute_error  \\\n",
       "0  0.941614             0.112412       0.0  0.609355                 0.098010   \n",
       "1  0.861312             0.114036       0.0  0.634518                 0.110827   \n",
       "\n",
       "   val_accuracy  \n",
       "0           0.0  \n",
       "1           0.0  "
      ]
     },
     "execution_count": 12,
     "metadata": {},
     "output_type": "execute_result"
    }
   ],
   "source": [
    "model_2 = build_model_2()\n",
    "early_stopping = tf.keras.callbacks.EarlyStopping(monitor='val_loss', patience=1, restore_best_weights=True)\n",
    "history_2 = model_2.fit(vectorized_text, y_train, epochs=5, batch_size=2,verbose=1, callbacks=[early_stopping], validation_data=(vectorized_text_val, y_val))\n",
    "hist2 = pd.DataFrame(history_2.history)\n",
    "hist2"
   ]
  },
  {
   "cell_type": "code",
   "execution_count": 13,
   "id": "8e821272-6ad5-401d-9b21-d4c436d3ec53",
   "metadata": {},
   "outputs": [],
   "source": [
    "model_2.save(\"./models/model_2.h5\")"
   ]
  },
  {
   "cell_type": "code",
   "execution_count": 14,
   "id": "dbe1d196-1665-4c9b-974a-b7931c48c3dc",
   "metadata": {
    "tags": []
   },
   "outputs": [],
   "source": [
    "hist2.to_csv('/model_performance/hist2.csv')"
   ]
  },
  {
   "cell_type": "markdown",
   "id": "475e0544-0928-4beb-b7ab-88c9f15a8ca5",
   "metadata": {
    "tags": []
   },
   "source": [
    "# Model 2 with 3 Ngrams: TextVectorization Layer, Basic Embedding Model, Average Pooling, Two Hidden Dense Layers (64, 32)"
   ]
  },
  {
   "cell_type": "code",
   "execution_count": 15,
   "id": "bc0e7dde-e671-486e-b690-5ae797cba323",
   "metadata": {
    "tags": []
   },
   "outputs": [
    {
     "name": "stdout",
     "output_type": "stream",
     "text": [
      "Epoch 1/5\n",
      "14787/14787 [==============================] - 284s 19ms/step - loss: 0.9238 - mean_absolute_error: 0.1111 - accuracy: 0.0000e+00 - val_loss: 0.7101 - val_mean_absolute_error: 0.1127 - val_accuracy: 0.0000e+00\n",
      "Epoch 2/5\n",
      "14787/14787 [==============================] - 334s 23ms/step - loss: 0.8606 - mean_absolute_error: 0.1113 - accuracy: 0.0000e+00 - val_loss: 0.7271 - val_mean_absolute_error: 0.1232 - val_accuracy: 0.0000e+00\n",
      "Epoch 3/5\n",
      "14787/14787 [==============================] - 417s 28ms/step - loss: 0.8419 - mean_absolute_error: 0.1124 - accuracy: 0.0000e+00 - val_loss: 0.7238 - val_mean_absolute_error: 0.1199 - val_accuracy: 0.0000e+00\n",
      "Epoch 4/5\n",
      "14787/14787 [==============================] - 327s 22ms/step - loss: 0.8179 - mean_absolute_error: 0.1096 - accuracy: 0.0000e+00 - val_loss: 0.7253 - val_mean_absolute_error: 0.1217 - val_accuracy: 0.0000e+00\n",
      "Epoch 5/5\n",
      "14787/14787 [==============================] - 354s 24ms/step - loss: 0.7568 - mean_absolute_error: 0.1044 - accuracy: 0.0000e+00 - val_loss: 0.7228 - val_mean_absolute_error: 0.1247 - val_accuracy: 0.0000e+00\n"
     ]
    },
    {
     "data": {
      "text/html": [
       "<div>\n",
       "<style scoped>\n",
       "    .dataframe tbody tr th:only-of-type {\n",
       "        vertical-align: middle;\n",
       "    }\n",
       "\n",
       "    .dataframe tbody tr th {\n",
       "        vertical-align: top;\n",
       "    }\n",
       "\n",
       "    .dataframe thead th {\n",
       "        text-align: right;\n",
       "    }\n",
       "</style>\n",
       "<table border=\"1\" class=\"dataframe\">\n",
       "  <thead>\n",
       "    <tr style=\"text-align: right;\">\n",
       "      <th></th>\n",
       "      <th>loss</th>\n",
       "      <th>mean_absolute_error</th>\n",
       "      <th>accuracy</th>\n",
       "      <th>val_loss</th>\n",
       "      <th>val_mean_absolute_error</th>\n",
       "      <th>val_accuracy</th>\n",
       "    </tr>\n",
       "  </thead>\n",
       "  <tbody>\n",
       "    <tr>\n",
       "      <th>0</th>\n",
       "      <td>0.923758</td>\n",
       "      <td>0.111134</td>\n",
       "      <td>0.0</td>\n",
       "      <td>0.710090</td>\n",
       "      <td>0.112743</td>\n",
       "      <td>0.0</td>\n",
       "    </tr>\n",
       "    <tr>\n",
       "      <th>1</th>\n",
       "      <td>0.860586</td>\n",
       "      <td>0.111333</td>\n",
       "      <td>0.0</td>\n",
       "      <td>0.727123</td>\n",
       "      <td>0.123201</td>\n",
       "      <td>0.0</td>\n",
       "    </tr>\n",
       "    <tr>\n",
       "      <th>2</th>\n",
       "      <td>0.841891</td>\n",
       "      <td>0.112423</td>\n",
       "      <td>0.0</td>\n",
       "      <td>0.723785</td>\n",
       "      <td>0.119927</td>\n",
       "      <td>0.0</td>\n",
       "    </tr>\n",
       "    <tr>\n",
       "      <th>3</th>\n",
       "      <td>0.817931</td>\n",
       "      <td>0.109606</td>\n",
       "      <td>0.0</td>\n",
       "      <td>0.725325</td>\n",
       "      <td>0.121725</td>\n",
       "      <td>0.0</td>\n",
       "    </tr>\n",
       "    <tr>\n",
       "      <th>4</th>\n",
       "      <td>0.756845</td>\n",
       "      <td>0.104392</td>\n",
       "      <td>0.0</td>\n",
       "      <td>0.722778</td>\n",
       "      <td>0.124703</td>\n",
       "      <td>0.0</td>\n",
       "    </tr>\n",
       "  </tbody>\n",
       "</table>\n",
       "</div>"
      ],
      "text/plain": [
       "       loss  mean_absolute_error  accuracy  val_loss  val_mean_absolute_error  \\\n",
       "0  0.923758             0.111134       0.0  0.710090                 0.112743   \n",
       "1  0.860586             0.111333       0.0  0.727123                 0.123201   \n",
       "2  0.841891             0.112423       0.0  0.723785                 0.119927   \n",
       "3  0.817931             0.109606       0.0  0.725325                 0.121725   \n",
       "4  0.756845             0.104392       0.0  0.722778                 0.124703   \n",
       "\n",
       "   val_accuracy  \n",
       "0           0.0  \n",
       "1           0.0  \n",
       "2           0.0  \n",
       "3           0.0  \n",
       "4           0.0  "
      ]
     },
     "execution_count": 15,
     "metadata": {},
     "output_type": "execute_result"
    }
   ],
   "source": [
    "model_2_ngrams_3 = build_model_2()\n",
    "early_stopping = tf.keras.callbacks.EarlyStopping(monitor='val_loss', patience=1, restore_best_weights=True)\n",
    "# history_2_ngrams = model_2_ngrams.fit(vectorized_text_3_ngrams, y_train, epochs=5, batch_size=2,verbose=1, callbacks=[early_stopping], validation_data=(vectorized_text_val, y_val))\n",
    "history_2_ngrams_3 = model_2_ngrams_3.fit(vectorized_text_3_ngrams, y_train, epochs=5, batch_size=2,verbose=1, validation_data=(vectorized_text_val, y_val))\n",
    "hist_2_ngrams_3 = pd.DataFrame(history_2_ngrams_3.history)\n",
    "hist_2_ngrams_3"
   ]
  },
  {
   "cell_type": "code",
   "execution_count": 17,
   "id": "f5639c88-27e2-4248-a858-495dda4890e2",
   "metadata": {
    "tags": []
   },
   "outputs": [],
   "source": [
    "model_2_ngrams_3.save(\"./models/model_2_ngrams.h5\")\n",
    "hist_2_ngrams_3.to_csv('/model_performance/hist_2_ngrams.csv')"
   ]
  },
  {
   "cell_type": "markdown",
   "id": "8c18cdb1-ad29-4b7d-93e6-c4a3e5b02581",
   "metadata": {
    "tags": []
   },
   "source": [
    "# Model 3: TextVectorization Layer, Convolutional NN Embedding Model, Two Hidden Dense Layers (64, 32)"
   ]
  },
  {
   "cell_type": "code",
   "execution_count": 16,
   "id": "4439e739-5de4-471e-83da-14e27bef9149",
   "metadata": {
    "tags": []
   },
   "outputs": [],
   "source": [
    "def build_model_3(max_tokens=10000, output_sequence_length=250, embedding_dim=16):\n",
    "    tf.keras.backend.clear_session()\n",
    "    tf.random.set_seed(0)\n",
    "    inputs = Input(shape=(output_sequence_length,))\n",
    "    \n",
    "    x = Embedding(input_dim=max_tokens, output_dim=embedding_dim, input_length=output_sequence_length)(inputs)\n",
    "\n",
    "    x = layers.Conv1D(32, 4, activation='relu')(x)\n",
    "    x = layers.MaxPooling1D()(x)\n",
    "    \n",
    "    x = Dense(64, activation='relu')(x)\n",
    "    x = Dense(32, activation='relu')(x)\n",
    "\n",
    "    outputs = Dense(1)(x)\n",
    "    model = Model(inputs, outputs)\n",
    "    model.compile(optimizer='adam', loss='mean_squared_error', metrics=['mean_absolute_error','accuracy'])\n",
    "    \n",
    "    return model"
   ]
  },
  {
   "cell_type": "code",
   "execution_count": 20,
   "id": "10059702-c6e7-4613-acea-a31ddd70ca4f",
   "metadata": {
    "tags": []
   },
   "outputs": [
    {
     "name": "stdout",
     "output_type": "stream",
     "text": [
      "Epoch 1/5\n",
      "14787/14787 [==============================] - 468s 32ms/step - loss: 0.9595 - mean_absolute_error: 0.1176 - accuracy: 0.0000e+00 - val_loss: 0.6870 - val_mean_absolute_error: 0.1062 - val_accuracy: 0.0000e+00\n",
      "Epoch 2/5\n",
      "14787/14787 [==============================] - 414s 28ms/step - loss: 0.9428 - mean_absolute_error: 0.1188 - accuracy: 0.0000e+00 - val_loss: 0.6797 - val_mean_absolute_error: 0.1011 - val_accuracy: 0.0000e+00\n",
      "Epoch 3/5\n",
      "14787/14787 [==============================] - 474s 32ms/step - loss: 0.9323 - mean_absolute_error: 0.1239 - accuracy: 0.0000e+00 - val_loss: 0.6901 - val_mean_absolute_error: 0.1014 - val_accuracy: 0.0000e+00\n"
     ]
    },
    {
     "data": {
      "text/html": [
       "<div>\n",
       "<style scoped>\n",
       "    .dataframe tbody tr th:only-of-type {\n",
       "        vertical-align: middle;\n",
       "    }\n",
       "\n",
       "    .dataframe tbody tr th {\n",
       "        vertical-align: top;\n",
       "    }\n",
       "\n",
       "    .dataframe thead th {\n",
       "        text-align: right;\n",
       "    }\n",
       "</style>\n",
       "<table border=\"1\" class=\"dataframe\">\n",
       "  <thead>\n",
       "    <tr style=\"text-align: right;\">\n",
       "      <th></th>\n",
       "      <th>loss</th>\n",
       "      <th>mean_absolute_error</th>\n",
       "      <th>accuracy</th>\n",
       "      <th>val_loss</th>\n",
       "      <th>val_mean_absolute_error</th>\n",
       "      <th>val_accuracy</th>\n",
       "    </tr>\n",
       "  </thead>\n",
       "  <tbody>\n",
       "    <tr>\n",
       "      <th>0</th>\n",
       "      <td>0.959536</td>\n",
       "      <td>0.117650</td>\n",
       "      <td>0.0</td>\n",
       "      <td>0.686980</td>\n",
       "      <td>0.106175</td>\n",
       "      <td>0.0</td>\n",
       "    </tr>\n",
       "    <tr>\n",
       "      <th>1</th>\n",
       "      <td>0.942791</td>\n",
       "      <td>0.118814</td>\n",
       "      <td>0.0</td>\n",
       "      <td>0.679683</td>\n",
       "      <td>0.101125</td>\n",
       "      <td>0.0</td>\n",
       "    </tr>\n",
       "    <tr>\n",
       "      <th>2</th>\n",
       "      <td>0.932319</td>\n",
       "      <td>0.123929</td>\n",
       "      <td>0.0</td>\n",
       "      <td>0.690050</td>\n",
       "      <td>0.101403</td>\n",
       "      <td>0.0</td>\n",
       "    </tr>\n",
       "  </tbody>\n",
       "</table>\n",
       "</div>"
      ],
      "text/plain": [
       "       loss  mean_absolute_error  accuracy  val_loss  val_mean_absolute_error  \\\n",
       "0  0.959536             0.117650       0.0  0.686980                 0.106175   \n",
       "1  0.942791             0.118814       0.0  0.679683                 0.101125   \n",
       "2  0.932319             0.123929       0.0  0.690050                 0.101403   \n",
       "\n",
       "   val_accuracy  \n",
       "0           0.0  \n",
       "1           0.0  \n",
       "2           0.0  "
      ]
     },
     "execution_count": 20,
     "metadata": {},
     "output_type": "execute_result"
    }
   ],
   "source": [
    "model_3 = build_model_3()\n",
    "early_stopping = tf.keras.callbacks.EarlyStopping(monitor='val_loss', patience=1, restore_best_weights=True)\n",
    "history_3 = model_3.fit(vectorized_text, y_train, epochs=5, batch_size=2, verbose=1, callbacks=[early_stopping], validation_data=(vectorized_text_val, y_val))\n",
    "hist_3 = pd.DataFrame(history_3.history)\n",
    "hist_3"
   ]
  },
  {
   "cell_type": "code",
   "execution_count": 21,
   "id": "8c1319de-fe15-4d9d-b4e1-939cb9ef343d",
   "metadata": {},
   "outputs": [],
   "source": [
    "model_3.save(\"./models/model_3.h5\")"
   ]
  },
  {
   "cell_type": "code",
   "execution_count": 22,
   "id": "aefb0a59-65c4-46b9-be7d-0d554ec9937c",
   "metadata": {
    "tags": []
   },
   "outputs": [],
   "source": [
    "hist_3.to_csv('/model_performance/hist_3.csv')"
   ]
  },
  {
   "cell_type": "markdown",
   "id": "2cafa615-42ec-4e8b-9712-153f336ca33a",
   "metadata": {
    "tags": []
   },
   "source": [
    "# Model 3 B: TextVectorization Layer, Convolutional NN Embedding Model, Four Hidden Dense Layers (128, 64, 64, 32)"
   ]
  },
  {
   "cell_type": "code",
   "execution_count": 27,
   "id": "0486a57a-500c-4085-bb98-c970b9c4a177",
   "metadata": {
    "tags": []
   },
   "outputs": [],
   "source": [
    "def build_model_3_b(max_tokens=10000, output_sequence_length=250, embedding_dim=16):\n",
    "    tf.keras.backend.clear_session()\n",
    "    tf.random.set_seed(0)\n",
    "    inputs = Input(shape=(output_sequence_length,))\n",
    "    \n",
    "    x = Embedding(input_dim=max_tokens, output_dim=embedding_dim, input_length=output_sequence_length)(inputs)\n",
    "\n",
    "    x = layers.Conv1D(32, 4, activation='relu')(x)\n",
    "    x = layers.MaxPooling1D()(x)\n",
    "    \n",
    "    x = Dense(128, activation='relu')(x)\n",
    "    x = Dense(64, activation='relu')(x)\n",
    "    x = Dense(64, activation='relu')(x)\n",
    "    x = Dense(32, activation='relu')(x)\n",
    "\n",
    "    outputs = Dense(1)(x)\n",
    "    model = Model(inputs, outputs)\n",
    "    model.compile(optimizer='adam', loss='mean_squared_error', metrics=['mean_absolute_error','accuracy'])\n",
    "    \n",
    "    return model"
   ]
  },
  {
   "cell_type": "code",
   "execution_count": 28,
   "id": "6acefc57-c200-4e24-834d-ad1543f79756",
   "metadata": {
    "tags": []
   },
   "outputs": [
    {
     "name": "stdout",
     "output_type": "stream",
     "text": [
      "Epoch 1/5\n",
      "14787/14787 [==============================] - 506s 34ms/step - loss: 0.9680 - mean_absolute_error: 0.1181 - accuracy: 0.0000e+00 - val_loss: 0.7059 - val_mean_absolute_error: 0.1227 - val_accuracy: 0.0000e+00\n",
      "Epoch 2/5\n",
      "14787/14787 [==============================] - 487s 33ms/step - loss: 0.9622 - mean_absolute_error: 0.1253 - accuracy: 0.0000e+00 - val_loss: 0.6816 - val_mean_absolute_error: 0.0962 - val_accuracy: 0.0000e+00\n",
      "Epoch 3/5\n",
      "14787/14787 [==============================] - 476s 32ms/step - loss: 0.9510 - mean_absolute_error: 0.1224 - accuracy: 0.0000e+00 - val_loss: 0.7079 - val_mean_absolute_error: 0.0995 - val_accuracy: 0.0000e+00\n"
     ]
    },
    {
     "data": {
      "text/html": [
       "<div>\n",
       "<style scoped>\n",
       "    .dataframe tbody tr th:only-of-type {\n",
       "        vertical-align: middle;\n",
       "    }\n",
       "\n",
       "    .dataframe tbody tr th {\n",
       "        vertical-align: top;\n",
       "    }\n",
       "\n",
       "    .dataframe thead th {\n",
       "        text-align: right;\n",
       "    }\n",
       "</style>\n",
       "<table border=\"1\" class=\"dataframe\">\n",
       "  <thead>\n",
       "    <tr style=\"text-align: right;\">\n",
       "      <th></th>\n",
       "      <th>loss</th>\n",
       "      <th>mean_absolute_error</th>\n",
       "      <th>accuracy</th>\n",
       "      <th>val_loss</th>\n",
       "      <th>val_mean_absolute_error</th>\n",
       "      <th>val_accuracy</th>\n",
       "    </tr>\n",
       "  </thead>\n",
       "  <tbody>\n",
       "    <tr>\n",
       "      <th>0</th>\n",
       "      <td>0.968016</td>\n",
       "      <td>0.118088</td>\n",
       "      <td>0.0</td>\n",
       "      <td>0.705901</td>\n",
       "      <td>0.122682</td>\n",
       "      <td>0.0</td>\n",
       "    </tr>\n",
       "    <tr>\n",
       "      <th>1</th>\n",
       "      <td>0.962250</td>\n",
       "      <td>0.125279</td>\n",
       "      <td>0.0</td>\n",
       "      <td>0.681570</td>\n",
       "      <td>0.096180</td>\n",
       "      <td>0.0</td>\n",
       "    </tr>\n",
       "    <tr>\n",
       "      <th>2</th>\n",
       "      <td>0.950995</td>\n",
       "      <td>0.122447</td>\n",
       "      <td>0.0</td>\n",
       "      <td>0.707882</td>\n",
       "      <td>0.099532</td>\n",
       "      <td>0.0</td>\n",
       "    </tr>\n",
       "  </tbody>\n",
       "</table>\n",
       "</div>"
      ],
      "text/plain": [
       "       loss  mean_absolute_error  accuracy  val_loss  val_mean_absolute_error  \\\n",
       "0  0.968016             0.118088       0.0  0.705901                 0.122682   \n",
       "1  0.962250             0.125279       0.0  0.681570                 0.096180   \n",
       "2  0.950995             0.122447       0.0  0.707882                 0.099532   \n",
       "\n",
       "   val_accuracy  \n",
       "0           0.0  \n",
       "1           0.0  \n",
       "2           0.0  "
      ]
     },
     "execution_count": 28,
     "metadata": {},
     "output_type": "execute_result"
    }
   ],
   "source": [
    "model_3_b = build_model_3_b()\n",
    "early_stopping = tf.keras.callbacks.EarlyStopping(monitor='val_loss', patience=1, restore_best_weights=True)\n",
    "history_3_b = model_3_b.fit(vectorized_text, y_train, epochs=5, batch_size=2, verbose=1, callbacks=[early_stopping], validation_data=(vectorized_text_val, y_val))\n",
    "hist_3_b = pd.DataFrame(history_3_b.history)\n",
    "hist_3_b"
   ]
  },
  {
   "cell_type": "code",
   "execution_count": 30,
   "id": "e5c76813-f2b8-469f-9d00-6e6f8bca7989",
   "metadata": {
    "tags": []
   },
   "outputs": [],
   "source": [
    "model_3_b.save(\"./models/model_3_b.h5\")\n",
    "hist_3_b.to_csv('/model_performance/hist_3_b.csv')"
   ]
  },
  {
   "cell_type": "markdown",
   "id": "8896ae25-4ee3-499b-b9bb-718abcdfb2e5",
   "metadata": {
    "tags": []
   },
   "source": [
    "# Model 3 C: TextVectorization Layer, 1 Simple RNN Embedding Model, Four Hidden Dense Layers (128, 64, 64, 32)"
   ]
  },
  {
   "cell_type": "code",
   "execution_count": 18,
   "id": "85e573d0-2d91-4eeb-8a9b-fceeb54449c5",
   "metadata": {
    "tags": []
   },
   "outputs": [],
   "source": [
    "def build_model_3_c(max_tokens=10000, output_sequence_length=250, embedding_dim=16):\n",
    "    tf.keras.backend.clear_session()\n",
    "    tf.random.set_seed(0)\n",
    "    inputs = Input(shape=(output_sequence_length,))\n",
    "    \n",
    "    x = Embedding(input_dim=max_tokens, output_dim=embedding_dim, input_length=output_sequence_length)(inputs)\n",
    "\n",
    "    # x = layers.SimpleRNN(32, return_sequences=True)(x)\n",
    "    x = layers.SimpleRNN(32)(x)\n",
    "    \n",
    "    x = Dense(128, activation='relu')(x)\n",
    "    x = Dense(64, activation='relu')(x)\n",
    "    x = Dense(64, activation='relu')(x)\n",
    "    x = Dense(32, activation='relu')(x)\n",
    "\n",
    "    outputs = Dense(1)(x)\n",
    "    model = Model(inputs, outputs)\n",
    "    model.compile(optimizer='adam', loss='mean_squared_error', metrics=['mean_absolute_error','accuracy'])\n",
    "    \n",
    "    return model"
   ]
  },
  {
   "cell_type": "code",
   "execution_count": 19,
   "id": "54fa50bb-711a-442f-a26b-527aa385549c",
   "metadata": {
    "tags": []
   },
   "outputs": [
    {
     "name": "stdout",
     "output_type": "stream",
     "text": [
      "Epoch 1/5\n",
      "5000/5000 [==============================] - 1697s 338ms/step - loss: 1.4930 - mean_absolute_error: 0.1240 - accuracy: 0.0000e+00 - val_loss: 0.7123 - val_mean_absolute_error: 0.1915 - val_accuracy: 0.0000e+00\n",
      "Epoch 2/5\n",
      "5000/5000 [==============================] - 1553s 311ms/step - loss: 1.4928 - mean_absolute_error: 0.1395 - accuracy: 0.0000e+00 - val_loss: 0.7131 - val_mean_absolute_error: 0.1019 - val_accuracy: 0.0000e+00\n"
     ]
    },
    {
     "data": {
      "text/html": [
       "<div>\n",
       "<style scoped>\n",
       "    .dataframe tbody tr th:only-of-type {\n",
       "        vertical-align: middle;\n",
       "    }\n",
       "\n",
       "    .dataframe tbody tr th {\n",
       "        vertical-align: top;\n",
       "    }\n",
       "\n",
       "    .dataframe thead th {\n",
       "        text-align: right;\n",
       "    }\n",
       "</style>\n",
       "<table border=\"1\" class=\"dataframe\">\n",
       "  <thead>\n",
       "    <tr style=\"text-align: right;\">\n",
       "      <th></th>\n",
       "      <th>loss</th>\n",
       "      <th>mean_absolute_error</th>\n",
       "      <th>accuracy</th>\n",
       "      <th>val_loss</th>\n",
       "      <th>val_mean_absolute_error</th>\n",
       "      <th>val_accuracy</th>\n",
       "    </tr>\n",
       "  </thead>\n",
       "  <tbody>\n",
       "    <tr>\n",
       "      <th>0</th>\n",
       "      <td>1.493012</td>\n",
       "      <td>0.124013</td>\n",
       "      <td>0.0</td>\n",
       "      <td>0.712301</td>\n",
       "      <td>0.191536</td>\n",
       "      <td>0.0</td>\n",
       "    </tr>\n",
       "    <tr>\n",
       "      <th>1</th>\n",
       "      <td>1.492829</td>\n",
       "      <td>0.139525</td>\n",
       "      <td>0.0</td>\n",
       "      <td>0.713138</td>\n",
       "      <td>0.101890</td>\n",
       "      <td>0.0</td>\n",
       "    </tr>\n",
       "  </tbody>\n",
       "</table>\n",
       "</div>"
      ],
      "text/plain": [
       "       loss  mean_absolute_error  accuracy  val_loss  val_mean_absolute_error  \\\n",
       "0  1.493012             0.124013       0.0  0.712301                 0.191536   \n",
       "1  1.492829             0.139525       0.0  0.713138                 0.101890   \n",
       "\n",
       "   val_accuracy  \n",
       "0           0.0  \n",
       "1           0.0  "
      ]
     },
     "execution_count": 19,
     "metadata": {},
     "output_type": "execute_result"
    }
   ],
   "source": [
    "model_3_c = build_model_3_c()\n",
    "early_stopping = tf.keras.callbacks.EarlyStopping(monitor='val_loss', patience=1, restore_best_weights=True)\n",
    "history_3_c = model_3_c.fit(vectorized_text[:10000], y_train[:10000], epochs=5, batch_size=2, verbose=1, callbacks=[early_stopping], validation_data=(vectorized_text_val, y_val))\n",
    "hist_3_c = pd.DataFrame(history_3_c.history)\n",
    "hist_3_c"
   ]
  },
  {
   "cell_type": "code",
   "execution_count": 20,
   "id": "3807e722-0bf5-484d-a8d5-6e80a8cfae5f",
   "metadata": {
    "tags": []
   },
   "outputs": [],
   "source": [
    "model_3_c.save(\"./models/model_3_c.h5\")\n",
    "hist_3_c.to_csv('/model_performance/hist_3_c.csv')"
   ]
  },
  {
   "cell_type": "markdown",
   "id": "74a11fb4-17a0-40f1-b254-12eb418f4699",
   "metadata": {
    "tags": []
   },
   "source": [
    "# Model 3 D: TextVectorization Layer, Double Simple RNN Embedding Model, Four Hidden Dense Layers (128, 64, 64, 32)"
   ]
  },
  {
   "cell_type": "code",
   "execution_count": 69,
   "id": "6c37dab2-5240-4787-b1ee-c7fc8b6f167b",
   "metadata": {
    "tags": []
   },
   "outputs": [
    {
     "name": "stdout",
     "output_type": "stream",
     "text": [
      "Epoch 1/5\n",
      "5000/5000 [==============================] - 4235s 846ms/step - loss: 1.4931 - mean_absolute_error: 0.1246 - accuracy: 0.0000e+00 - val_loss: 0.7143 - val_mean_absolute_error: 0.2005 - val_accuracy: 0.0000e+00\n",
      "Epoch 2/5\n",
      "5000/5000 [==============================] - 2905s 581ms/step - loss: 1.4938 - mean_absolute_error: 0.1378 - accuracy: 0.0000e+00 - val_loss: 0.7109 - val_mean_absolute_error: 0.0930 - val_accuracy: 0.0000e+00\n",
      "Epoch 3/5\n",
      "5000/5000 [==============================] - 3286s 657ms/step - loss: 1.4935 - mean_absolute_error: 0.1479 - accuracy: 0.0000e+00 - val_loss: 0.7059 - val_mean_absolute_error: 0.1315 - val_accuracy: 0.0000e+00\n",
      "Epoch 4/5\n",
      "5000/5000 [==============================] - 2767s 553ms/step - loss: 1.4913 - mean_absolute_error: 0.1533 - accuracy: 0.0000e+00 - val_loss: 0.7070 - val_mean_absolute_error: 0.1174 - val_accuracy: 0.0000e+00\n"
     ]
    },
    {
     "data": {
      "text/html": [
       "<div>\n",
       "<style scoped>\n",
       "    .dataframe tbody tr th:only-of-type {\n",
       "        vertical-align: middle;\n",
       "    }\n",
       "\n",
       "    .dataframe tbody tr th {\n",
       "        vertical-align: top;\n",
       "    }\n",
       "\n",
       "    .dataframe thead th {\n",
       "        text-align: right;\n",
       "    }\n",
       "</style>\n",
       "<table border=\"1\" class=\"dataframe\">\n",
       "  <thead>\n",
       "    <tr style=\"text-align: right;\">\n",
       "      <th></th>\n",
       "      <th>loss</th>\n",
       "      <th>mean_absolute_error</th>\n",
       "      <th>accuracy</th>\n",
       "      <th>val_loss</th>\n",
       "      <th>val_mean_absolute_error</th>\n",
       "      <th>val_accuracy</th>\n",
       "    </tr>\n",
       "  </thead>\n",
       "  <tbody>\n",
       "    <tr>\n",
       "      <th>0</th>\n",
       "      <td>1.493058</td>\n",
       "      <td>0.124635</td>\n",
       "      <td>0.0</td>\n",
       "      <td>0.714317</td>\n",
       "      <td>0.200483</td>\n",
       "      <td>0.0</td>\n",
       "    </tr>\n",
       "    <tr>\n",
       "      <th>1</th>\n",
       "      <td>1.493849</td>\n",
       "      <td>0.137843</td>\n",
       "      <td>0.0</td>\n",
       "      <td>0.710901</td>\n",
       "      <td>0.092969</td>\n",
       "      <td>0.0</td>\n",
       "    </tr>\n",
       "    <tr>\n",
       "      <th>2</th>\n",
       "      <td>1.493515</td>\n",
       "      <td>0.147939</td>\n",
       "      <td>0.0</td>\n",
       "      <td>0.705894</td>\n",
       "      <td>0.131465</td>\n",
       "      <td>0.0</td>\n",
       "    </tr>\n",
       "    <tr>\n",
       "      <th>3</th>\n",
       "      <td>1.491341</td>\n",
       "      <td>0.153276</td>\n",
       "      <td>0.0</td>\n",
       "      <td>0.707012</td>\n",
       "      <td>0.117426</td>\n",
       "      <td>0.0</td>\n",
       "    </tr>\n",
       "  </tbody>\n",
       "</table>\n",
       "</div>"
      ],
      "text/plain": [
       "       loss  mean_absolute_error  accuracy  val_loss  val_mean_absolute_error  \\\n",
       "0  1.493058             0.124635       0.0  0.714317                 0.200483   \n",
       "1  1.493849             0.137843       0.0  0.710901                 0.092969   \n",
       "2  1.493515             0.147939       0.0  0.705894                 0.131465   \n",
       "3  1.491341             0.153276       0.0  0.707012                 0.117426   \n",
       "\n",
       "   val_accuracy  \n",
       "0           0.0  \n",
       "1           0.0  \n",
       "2           0.0  \n",
       "3           0.0  "
      ]
     },
     "execution_count": 69,
     "metadata": {},
     "output_type": "execute_result"
    }
   ],
   "source": [
    "def build_model_3_d(max_tokens=10000, output_sequence_length=250, embedding_dim=16):\n",
    "    tf.keras.backend.clear_session()\n",
    "    tf.random.set_seed(0)\n",
    "    inputs = Input(shape=(output_sequence_length,))\n",
    "    \n",
    "    x = Embedding(input_dim=max_tokens, output_dim=embedding_dim*2, input_length=output_sequence_length)(inputs)\n",
    "\n",
    "    x = layers.SimpleRNN(32, return_sequences=True)(x)\n",
    "    x = layers.SimpleRNN(32)(x)\n",
    "    \n",
    "    x = Dense(128, activation='relu')(x)\n",
    "    x = Dense(64, activation='relu')(x)\n",
    "    x = Dense(64, activation='relu')(x)\n",
    "    x = Dense(32, activation='relu')(x)\n",
    "\n",
    "    outputs = Dense(1)(x)\n",
    "    model = Model(inputs, outputs)\n",
    "    model.compile(optimizer='adam', loss='mean_squared_error', metrics=['mean_absolute_error','accuracy'])\n",
    "    \n",
    "    return model\n",
    "model_3_d = build_model_3_d()\n",
    "early_stopping = tf.keras.callbacks.EarlyStopping(monitor='val_loss', patience=1, restore_best_weights=True)\n",
    "history_3_d = model_3_d.fit(vectorized_text[:10000], y_train[:10000], epochs=5, batch_size=2, verbose=1, callbacks=[early_stopping], validation_data=(vectorized_text_val, y_val))\n",
    "hist_3_d = pd.DataFrame(history_3_d.history)\n",
    "hist_3_d"
   ]
  },
  {
   "cell_type": "code",
   "execution_count": 71,
   "id": "d60edfa9-723f-477b-a320-452b2c0a021d",
   "metadata": {
    "tags": []
   },
   "outputs": [],
   "source": [
    "model_3_d.save(\"./models/model_3_d.h5\")\n",
    "hist_3_d.to_csv('/model_performance/hist_3_d.csv')"
   ]
  },
  {
   "cell_type": "markdown",
   "id": "9aafd352-a70e-445e-a7ba-ae09e57261dc",
   "metadata": {
    "tags": []
   },
   "source": [
    "# Model 3 E: TextVectorization Layer, 1D Convolutional Embedding Model, Four Hidden Dense Layers (128, 64, 64, 32)"
   ]
  },
  {
   "cell_type": "code",
   "execution_count": 73,
   "id": "815dfa9a-e49f-4f64-8a30-4735b1377f77",
   "metadata": {
    "tags": []
   },
   "outputs": [
    {
     "name": "stdout",
     "output_type": "stream",
     "text": [
      "Epoch 1/5\n",
      "5000/5000 [==============================] - 179s 36ms/step - loss: 1.4905 - mean_absolute_error: 0.1332 - accuracy: 0.0000e+00 - val_loss: 0.7063 - val_mean_absolute_error: 0.1427 - val_accuracy: 0.0000e+00\n",
      "Epoch 2/5\n",
      "5000/5000 [==============================] - 184s 37ms/step - loss: 1.4903 - mean_absolute_error: 0.1372 - accuracy: 0.0000e+00 - val_loss: 0.7063 - val_mean_absolute_error: 0.1320 - val_accuracy: 0.0000e+00\n"
     ]
    },
    {
     "data": {
      "text/html": [
       "<div>\n",
       "<style scoped>\n",
       "    .dataframe tbody tr th:only-of-type {\n",
       "        vertical-align: middle;\n",
       "    }\n",
       "\n",
       "    .dataframe tbody tr th {\n",
       "        vertical-align: top;\n",
       "    }\n",
       "\n",
       "    .dataframe thead th {\n",
       "        text-align: right;\n",
       "    }\n",
       "</style>\n",
       "<table border=\"1\" class=\"dataframe\">\n",
       "  <thead>\n",
       "    <tr style=\"text-align: right;\">\n",
       "      <th></th>\n",
       "      <th>loss</th>\n",
       "      <th>mean_absolute_error</th>\n",
       "      <th>accuracy</th>\n",
       "      <th>val_loss</th>\n",
       "      <th>val_mean_absolute_error</th>\n",
       "      <th>val_accuracy</th>\n",
       "    </tr>\n",
       "  </thead>\n",
       "  <tbody>\n",
       "    <tr>\n",
       "      <th>0</th>\n",
       "      <td>1.490502</td>\n",
       "      <td>0.133164</td>\n",
       "      <td>0.0</td>\n",
       "      <td>0.706304</td>\n",
       "      <td>0.142727</td>\n",
       "      <td>0.0</td>\n",
       "    </tr>\n",
       "    <tr>\n",
       "      <th>1</th>\n",
       "      <td>1.490278</td>\n",
       "      <td>0.137152</td>\n",
       "      <td>0.0</td>\n",
       "      <td>0.706345</td>\n",
       "      <td>0.131975</td>\n",
       "      <td>0.0</td>\n",
       "    </tr>\n",
       "  </tbody>\n",
       "</table>\n",
       "</div>"
      ],
      "text/plain": [
       "       loss  mean_absolute_error  accuracy  val_loss  val_mean_absolute_error  \\\n",
       "0  1.490502             0.133164       0.0  0.706304                 0.142727   \n",
       "1  1.490278             0.137152       0.0  0.706345                 0.131975   \n",
       "\n",
       "   val_accuracy  \n",
       "0           0.0  \n",
       "1           0.0  "
      ]
     },
     "execution_count": 73,
     "metadata": {},
     "output_type": "execute_result"
    }
   ],
   "source": [
    "def build_model_3_e(max_tokens=10000, output_sequence_length=250, embedding_dim=16):\n",
    "    tf.keras.backend.clear_session()\n",
    "    tf.random.set_seed(0)\n",
    "    inputs = Input(shape=(output_sequence_length,))\n",
    "    \n",
    "    x = Embedding(input_dim=max_tokens, output_dim=embedding_dim, input_length=output_sequence_length)(inputs)\n",
    "\n",
    "    x = layers.Conv1D(32, 4, activation='relu')(x)\n",
    "    x = layers.MaxPooling1D()(x)\n",
    "    \n",
    "    x = Dense(128, activation='relu')(x)\n",
    "    x = Dense(64, activation='relu')(x)\n",
    "    x = Dense(64, activation='relu')(x)\n",
    "    x = Dense(32, activation='relu')(x)\n",
    "    x = layers.Flatten(name='flatten_1')(x)\n",
    "    \n",
    "    outputs = Dense(1)(x)\n",
    "    model = Model(inputs, outputs)\n",
    "    model.compile(optimizer='adam', loss='mean_squared_error', metrics=['mean_absolute_error','accuracy'])\n",
    "    \n",
    "    return model\n",
    "\n",
    "model_3_e = build_model_3_e()\n",
    "early_stopping = tf.keras.callbacks.EarlyStopping(monitor='val_loss', patience=1, restore_best_weights=True)\n",
    "history_3_e = model_3_e.fit(vectorized_text[:10000], y_train[:10000], epochs=5, batch_size=2, verbose=1, callbacks=[early_stopping], validation_data=(vectorized_text_val, y_val))\n",
    "hist_3_e = pd.DataFrame(history_3_e.history)\n",
    "hist_3_e"
   ]
  },
  {
   "cell_type": "code",
   "execution_count": 74,
   "id": "48b09bcc-110b-4d98-906b-d2d0ef2a3418",
   "metadata": {
    "tags": []
   },
   "outputs": [],
   "source": [
    "model_3_e.save(\"./models/model_3_e.h5\")\n",
    "hist_3_e.to_csv('/model_performance/hist_3_e.csv')"
   ]
  },
  {
   "cell_type": "markdown",
   "id": "c8003708-320c-497a-b650-39ac04804930",
   "metadata": {
    "tags": []
   },
   "source": [
    "# Model 3 with Dropout: TextVectorization Layer, 1D Convolutional Embedding Model, Two Hidden Dense Layers (64, 32), 50% Dropout"
   ]
  },
  {
   "cell_type": "code",
   "execution_count": 23,
   "id": "c3df956c-96a7-4b52-ae19-48d87f453078",
   "metadata": {
    "tags": []
   },
   "outputs": [],
   "source": [
    "def build_model_3_dropout(max_tokens=10000, output_sequence_length=250, embedding_dim=16):\n",
    "    tf.keras.backend.clear_session()\n",
    "    tf.random.set_seed(0)\n",
    "    inputs = Input(shape=(output_sequence_length,))\n",
    "    \n",
    "    x = Embedding(input_dim=max_tokens, output_dim=embedding_dim, input_length=output_sequence_length)(inputs)\n",
    "\n",
    "    x = layers.Conv1D(32, 4, activation='relu')(x)\n",
    "    x = layers.MaxPooling1D()(x)\n",
    "    \n",
    "    x = Dense(64, activation='relu')(x)\n",
    "    x = Dense(32, activation='relu')(x)\n",
    "    x = Dropout(0.5)(x)\n",
    "    outputs = Dense(1)(x)\n",
    "    model = Model(inputs, outputs)\n",
    "    model.compile(optimizer='adam', loss='mean_squared_error', metrics=['mean_absolute_error','accuracy'])\n",
    "    \n",
    "    return model"
   ]
  },
  {
   "cell_type": "code",
   "execution_count": 24,
   "id": "d7948345-73a3-433f-bbc1-5b961b655a35",
   "metadata": {
    "tags": []
   },
   "outputs": [
    {
     "name": "stdout",
     "output_type": "stream",
     "text": [
      "Epoch 1/5\n",
      "14787/14787 [==============================] - 407s 27ms/step - loss: 0.9607 - mean_absolute_error: 0.1231 - accuracy: 0.0000e+00 - val_loss: 0.6941 - val_mean_absolute_error: 0.1262 - val_accuracy: 0.0000e+00\n",
      "Epoch 2/5\n",
      "14787/14787 [==============================] - 408s 28ms/step - loss: 0.9477 - mean_absolute_error: 0.1196 - accuracy: 0.0000e+00 - val_loss: 0.6791 - val_mean_absolute_error: 0.1381 - val_accuracy: 0.0000e+00\n",
      "Epoch 3/5\n",
      "14787/14787 [==============================] - 424s 29ms/step - loss: 0.9393 - mean_absolute_error: 0.1213 - accuracy: 0.0000e+00 - val_loss: 0.6873 - val_mean_absolute_error: 0.1142 - val_accuracy: 0.0000e+00\n"
     ]
    },
    {
     "data": {
      "text/html": [
       "<div>\n",
       "<style scoped>\n",
       "    .dataframe tbody tr th:only-of-type {\n",
       "        vertical-align: middle;\n",
       "    }\n",
       "\n",
       "    .dataframe tbody tr th {\n",
       "        vertical-align: top;\n",
       "    }\n",
       "\n",
       "    .dataframe thead th {\n",
       "        text-align: right;\n",
       "    }\n",
       "</style>\n",
       "<table border=\"1\" class=\"dataframe\">\n",
       "  <thead>\n",
       "    <tr style=\"text-align: right;\">\n",
       "      <th></th>\n",
       "      <th>loss</th>\n",
       "      <th>mean_absolute_error</th>\n",
       "      <th>accuracy</th>\n",
       "      <th>val_loss</th>\n",
       "      <th>val_mean_absolute_error</th>\n",
       "      <th>val_accuracy</th>\n",
       "    </tr>\n",
       "  </thead>\n",
       "  <tbody>\n",
       "    <tr>\n",
       "      <th>0</th>\n",
       "      <td>0.960744</td>\n",
       "      <td>0.123068</td>\n",
       "      <td>0.0</td>\n",
       "      <td>0.694064</td>\n",
       "      <td>0.126233</td>\n",
       "      <td>0.0</td>\n",
       "    </tr>\n",
       "    <tr>\n",
       "      <th>1</th>\n",
       "      <td>0.947665</td>\n",
       "      <td>0.119645</td>\n",
       "      <td>0.0</td>\n",
       "      <td>0.679076</td>\n",
       "      <td>0.138082</td>\n",
       "      <td>0.0</td>\n",
       "    </tr>\n",
       "    <tr>\n",
       "      <th>2</th>\n",
       "      <td>0.939346</td>\n",
       "      <td>0.121279</td>\n",
       "      <td>0.0</td>\n",
       "      <td>0.687265</td>\n",
       "      <td>0.114197</td>\n",
       "      <td>0.0</td>\n",
       "    </tr>\n",
       "  </tbody>\n",
       "</table>\n",
       "</div>"
      ],
      "text/plain": [
       "       loss  mean_absolute_error  accuracy  val_loss  val_mean_absolute_error  \\\n",
       "0  0.960744             0.123068       0.0  0.694064                 0.126233   \n",
       "1  0.947665             0.119645       0.0  0.679076                 0.138082   \n",
       "2  0.939346             0.121279       0.0  0.687265                 0.114197   \n",
       "\n",
       "   val_accuracy  \n",
       "0           0.0  \n",
       "1           0.0  \n",
       "2           0.0  "
      ]
     },
     "execution_count": 24,
     "metadata": {},
     "output_type": "execute_result"
    }
   ],
   "source": [
    "model_3_dp = build_model_3_dropout()\n",
    "early_stopping = tf.keras.callbacks.EarlyStopping(monitor='val_loss', patience=1, restore_best_weights=True)\n",
    "history_3_dp = model_3_dp.fit(vectorized_text, y_train, epochs=5, batch_size=2, verbose=1, callbacks=[early_stopping], validation_data=(vectorized_text_val, y_val))\n",
    "hist_3_dp = pd.DataFrame(history_3_dp.history)\n",
    "hist_3_dp"
   ]
  },
  {
   "cell_type": "code",
   "execution_count": 25,
   "id": "af716d40-127c-4f1a-8eba-1b58ffc16c10",
   "metadata": {
    "tags": []
   },
   "outputs": [],
   "source": [
    "model_3_dp.save(\"./models/model_3_dp.h5\")"
   ]
  },
  {
   "cell_type": "code",
   "execution_count": 26,
   "id": "9233725b-04ff-410c-b4dd-6c73b3478ea7",
   "metadata": {
    "tags": []
   },
   "outputs": [],
   "source": [
    "hist_3_dp.to_csv('/model_performance/hist_3_dp.csv')"
   ]
  },
  {
   "cell_type": "markdown",
   "id": "b00aabe6-8bf3-463b-af91-da2b7027d35e",
   "metadata": {
    "tags": []
   },
   "source": [
    "# Model 4: TextVectorization Layer, LSTM RNN Embedding Model, Two Hidden Dense Layers (64, 32)"
   ]
  },
  {
   "cell_type": "code",
   "execution_count": 31,
   "id": "7a454725-0dff-43ee-a44e-859e10eb3353",
   "metadata": {
    "tags": []
   },
   "outputs": [],
   "source": [
    "def build_model_4_tanh(max_tokens=10000, output_sequence_length=250, embedding_dim=16):\n",
    "    tf.keras.backend.clear_session()\n",
    "    tf.random.set_seed(0)\n",
    "    inputs = Input(shape=(output_sequence_length,))\n",
    "    \n",
    "    x = Embedding(input_dim=max_tokens, output_dim=embedding_dim, input_length=output_sequence_length)(inputs)\n",
    "    \n",
    "    x = layers.LSTM(32, activation='tanh')(x)\n",
    "    # x = layers.MaxPooling1D()(x)\n",
    "    \n",
    "    x = Dense(64, activation='tanh')(x)\n",
    "    x = Dense(32, activation='tanh')(x)\n",
    "\n",
    "    outputs = Dense(1)(x)\n",
    "    model = Model(inputs, outputs)\n",
    "    model.compile(optimizer='adam', loss='mean_squared_error', metrics=['mean_absolute_error','accuracy'])\n",
    "\n",
    "    return model"
   ]
  },
  {
   "cell_type": "code",
   "execution_count": 32,
   "id": "01017cff-f0b2-499b-83fb-27166ca16897",
   "metadata": {
    "tags": []
   },
   "outputs": [
    {
     "name": "stderr",
     "output_type": "stream",
     "text": [
      "2024-07-31 07:58:52.330468: I tensorflow/core/common_runtime/executor.cc:1197] [/device:CPU:0] (DEBUG INFO) Executor start aborting (this does not indicate an error and you can ignore this message): INVALID_ARGUMENT: You must feed a value for placeholder tensor 'gradients/split_2_grad/concat/split_2/split_dim' with dtype int32\n",
      "\t [[{{node gradients/split_2_grad/concat/split_2/split_dim}}]]\n",
      "2024-07-31 07:58:52.336520: I tensorflow/core/common_runtime/executor.cc:1197] [/device:CPU:0] (DEBUG INFO) Executor start aborting (this does not indicate an error and you can ignore this message): INVALID_ARGUMENT: You must feed a value for placeholder tensor 'gradients/split_grad/concat/split/split_dim' with dtype int32\n",
      "\t [[{{node gradients/split_grad/concat/split/split_dim}}]]\n",
      "2024-07-31 07:58:52.340800: I tensorflow/core/common_runtime/executor.cc:1197] [/device:CPU:0] (DEBUG INFO) Executor start aborting (this does not indicate an error and you can ignore this message): INVALID_ARGUMENT: You must feed a value for placeholder tensor 'gradients/split_1_grad/concat/split_1/split_dim' with dtype int32\n",
      "\t [[{{node gradients/split_1_grad/concat/split_1/split_dim}}]]\n"
     ]
    },
    {
     "name": "stdout",
     "output_type": "stream",
     "text": [
      "Epoch 1/5\n"
     ]
    },
    {
     "name": "stderr",
     "output_type": "stream",
     "text": [
      "2024-07-31 07:58:55.313395: I tensorflow/core/common_runtime/executor.cc:1197] [/device:CPU:0] (DEBUG INFO) Executor start aborting (this does not indicate an error and you can ignore this message): INVALID_ARGUMENT: You must feed a value for placeholder tensor 'gradients/split_2_grad/concat/split_2/split_dim' with dtype int32\n",
      "\t [[{{node gradients/split_2_grad/concat/split_2/split_dim}}]]\n",
      "2024-07-31 07:58:55.321563: I tensorflow/core/common_runtime/executor.cc:1197] [/device:CPU:0] (DEBUG INFO) Executor start aborting (this does not indicate an error and you can ignore this message): INVALID_ARGUMENT: You must feed a value for placeholder tensor 'gradients/split_grad/concat/split/split_dim' with dtype int32\n",
      "\t [[{{node gradients/split_grad/concat/split/split_dim}}]]\n",
      "2024-07-31 07:58:55.329862: I tensorflow/core/common_runtime/executor.cc:1197] [/device:CPU:0] (DEBUG INFO) Executor start aborting (this does not indicate an error and you can ignore this message): INVALID_ARGUMENT: You must feed a value for placeholder tensor 'gradients/split_1_grad/concat/split_1/split_dim' with dtype int32\n",
      "\t [[{{node gradients/split_1_grad/concat/split_1/split_dim}}]]\n",
      "2024-07-31 07:58:57.639056: I tensorflow/core/common_runtime/executor.cc:1197] [/device:CPU:0] (DEBUG INFO) Executor start aborting (this does not indicate an error and you can ignore this message): INVALID_ARGUMENT: You must feed a value for placeholder tensor 'gradients/split_2_grad/concat/split_2/split_dim' with dtype int32\n",
      "\t [[{{node gradients/split_2_grad/concat/split_2/split_dim}}]]\n",
      "2024-07-31 07:58:57.647025: I tensorflow/core/common_runtime/executor.cc:1197] [/device:CPU:0] (DEBUG INFO) Executor start aborting (this does not indicate an error and you can ignore this message): INVALID_ARGUMENT: You must feed a value for placeholder tensor 'gradients/split_grad/concat/split/split_dim' with dtype int32\n",
      "\t [[{{node gradients/split_grad/concat/split/split_dim}}]]\n",
      "2024-07-31 07:58:57.655580: I tensorflow/core/common_runtime/executor.cc:1197] [/device:CPU:0] (DEBUG INFO) Executor start aborting (this does not indicate an error and you can ignore this message): INVALID_ARGUMENT: You must feed a value for placeholder tensor 'gradients/split_1_grad/concat/split_1/split_dim' with dtype int32\n",
      "\t [[{{node gradients/split_1_grad/concat/split_1/split_dim}}]]\n"
     ]
    },
    {
     "name": "stdout",
     "output_type": "stream",
     "text": [
      "14787/14787 [==============================] - ETA: 0s - loss: 0.9682 - mean_absolute_error: 0.1216 - accuracy: 0.0000e+00"
     ]
    },
    {
     "name": "stderr",
     "output_type": "stream",
     "text": [
      "2024-07-31 09:04:56.422212: I tensorflow/core/common_runtime/executor.cc:1197] [/device:CPU:0] (DEBUG INFO) Executor start aborting (this does not indicate an error and you can ignore this message): INVALID_ARGUMENT: You must feed a value for placeholder tensor 'gradients/split_2_grad/concat/split_2/split_dim' with dtype int32\n",
      "\t [[{{node gradients/split_2_grad/concat/split_2/split_dim}}]]\n",
      "2024-07-31 09:04:56.428072: I tensorflow/core/common_runtime/executor.cc:1197] [/device:CPU:0] (DEBUG INFO) Executor start aborting (this does not indicate an error and you can ignore this message): INVALID_ARGUMENT: You must feed a value for placeholder tensor 'gradients/split_grad/concat/split/split_dim' with dtype int32\n",
      "\t [[{{node gradients/split_grad/concat/split/split_dim}}]]\n",
      "2024-07-31 09:04:56.432751: I tensorflow/core/common_runtime/executor.cc:1197] [/device:CPU:0] (DEBUG INFO) Executor start aborting (this does not indicate an error and you can ignore this message): INVALID_ARGUMENT: You must feed a value for placeholder tensor 'gradients/split_1_grad/concat/split_1/split_dim' with dtype int32\n",
      "\t [[{{node gradients/split_1_grad/concat/split_1/split_dim}}]]\n"
     ]
    },
    {
     "name": "stdout",
     "output_type": "stream",
     "text": [
      "14787/14787 [==============================] - 4166s 281ms/step - loss: 0.9682 - mean_absolute_error: 0.1216 - accuracy: 0.0000e+00 - val_loss: 0.7066 - val_mean_absolute_error: 0.1193 - val_accuracy: 0.0000e+00\n",
      "Epoch 2/5\n",
      "14787/14787 [==============================] - 3562s 241ms/step - loss: 0.9682 - mean_absolute_error: 0.1244 - accuracy: 0.0000e+00 - val_loss: 0.7088 - val_mean_absolute_error: 0.1005 - val_accuracy: 0.0000e+00\n"
     ]
    }
   ],
   "source": [
    "model_4_tanh = build_model_4_tanh()\n",
    "early_stopping = tf.keras.callbacks.EarlyStopping(monitor='val_loss', patience=1, restore_best_weights=True)\n",
    "history_4_tanh = model_4_tanh.fit(vectorized_text, y_train, epochs=5, batch_size=2, verbose=1, callbacks=[early_stopping], validation_data=(vectorized_text_val, y_val))\n",
    "hist_4_tanh = pd.DataFrame(history_4_tanh.history)"
   ]
  },
  {
   "cell_type": "code",
   "execution_count": 35,
   "id": "d9ada46f-43ba-4360-a541-ab466efc9593",
   "metadata": {
    "tags": []
   },
   "outputs": [
    {
     "data": {
      "text/html": [
       "<div>\n",
       "<style scoped>\n",
       "    .dataframe tbody tr th:only-of-type {\n",
       "        vertical-align: middle;\n",
       "    }\n",
       "\n",
       "    .dataframe tbody tr th {\n",
       "        vertical-align: top;\n",
       "    }\n",
       "\n",
       "    .dataframe thead th {\n",
       "        text-align: right;\n",
       "    }\n",
       "</style>\n",
       "<table border=\"1\" class=\"dataframe\">\n",
       "  <thead>\n",
       "    <tr style=\"text-align: right;\">\n",
       "      <th></th>\n",
       "      <th>loss</th>\n",
       "      <th>mean_absolute_error</th>\n",
       "      <th>accuracy</th>\n",
       "      <th>val_loss</th>\n",
       "      <th>val_mean_absolute_error</th>\n",
       "      <th>val_accuracy</th>\n",
       "    </tr>\n",
       "  </thead>\n",
       "  <tbody>\n",
       "    <tr>\n",
       "      <th>0</th>\n",
       "      <td>0.968242</td>\n",
       "      <td>0.121550</td>\n",
       "      <td>0.0</td>\n",
       "      <td>0.706560</td>\n",
       "      <td>0.119283</td>\n",
       "      <td>0.0</td>\n",
       "    </tr>\n",
       "    <tr>\n",
       "      <th>1</th>\n",
       "      <td>0.968232</td>\n",
       "      <td>0.124366</td>\n",
       "      <td>0.0</td>\n",
       "      <td>0.708794</td>\n",
       "      <td>0.100467</td>\n",
       "      <td>0.0</td>\n",
       "    </tr>\n",
       "  </tbody>\n",
       "</table>\n",
       "</div>"
      ],
      "text/plain": [
       "       loss  mean_absolute_error  accuracy  val_loss  val_mean_absolute_error  \\\n",
       "0  0.968242             0.121550       0.0  0.706560                 0.119283   \n",
       "1  0.968232             0.124366       0.0  0.708794                 0.100467   \n",
       "\n",
       "   val_accuracy  \n",
       "0           0.0  \n",
       "1           0.0  "
      ]
     },
     "execution_count": 35,
     "metadata": {},
     "output_type": "execute_result"
    }
   ],
   "source": [
    "hist_4_tanh"
   ]
  },
  {
   "cell_type": "code",
   "execution_count": 33,
   "id": "fbb9a8a2-b0cb-4e04-bf91-c7335adafdc9",
   "metadata": {
    "tags": []
   },
   "outputs": [],
   "source": [
    "model_4_tanh.save(\"./models/model_4_tanh.h5\")"
   ]
  },
  {
   "cell_type": "code",
   "execution_count": 34,
   "id": "00960f19-a4b6-4189-bef7-15aef0f777b6",
   "metadata": {
    "tags": []
   },
   "outputs": [],
   "source": [
    "hist_4_tanh.to_csv('/model_performance/hist_4_tanh.csv')"
   ]
  },
  {
   "cell_type": "code",
   "execution_count": 67,
   "id": "75dd038e-77cb-4a2f-ba64-5a96313bebbd",
   "metadata": {
    "tags": []
   },
   "outputs": [],
   "source": [
    "def build_model_4_tanh_b(max_tokens=10000, output_sequence_length=250, embedding_dim=16):\n",
    "    tf.keras.backend.clear_session()\n",
    "    tf.random.set_seed(0)\n",
    "    inputs = Input(shape=(output_sequence_length,))\n",
    "    \n",
    "    x = Embedding(input_dim=max_tokens, output_dim=embedding_dim, input_length=output_sequence_length)(inputs)\n",
    "    \n",
    "    x = layers.LSTM(64, return_sequences=True)(x)\n",
    "    x = layers.LSTM(64)(x)\n",
    "    \n",
    "    x = Dense(64, activation='tanh')(x)\n",
    "    x = Dense(32, activation='tanh')(x)\n",
    "\n",
    "    outputs = Dense(1)(x)\n",
    "    model = Model(inputs, outputs)\n",
    "    model.compile(optimizer='adam', loss='mean_squared_error', metrics=['mean_absolute_error','accuracy'])\n",
    "\n",
    "    return model"
   ]
  },
  {
   "cell_type": "code",
   "execution_count": null,
   "id": "a4b04931-d32d-42f2-bff0-634a7cf20d55",
   "metadata": {
    "tags": []
   },
   "outputs": [],
   "source": [
    "model_4_tanh_b = build_model_4_tanh_b()\n",
    "early_stopping = tf.keras.callbacks.EarlyStopping(monitor='val_loss', patience=1, restore_best_weights=True)\n",
    "history_4_tanh_b = model_4_tanh_b.fit(vectorized_text, y_train, epochs=5, batch_size=2, verbose=1, callbacks=[early_stopping], validation_data=(vectorized_text_val, y_val))\n",
    "hist_4_tanh_b = pd.DataFrame(history_4_tanh_b.history)\n",
    "hist_4_tanh_b"
   ]
  },
  {
   "cell_type": "code",
   "execution_count": null,
   "id": "d166b2b4-57de-4a29-9a24-763c99d76c13",
   "metadata": {
    "tags": []
   },
   "outputs": [],
   "source": [
    "model_4_tanh_b.save(\"./models/model_4_tanh_b.h5\")\n",
    "hist_4_tanh_b.to_csv('/model_performance/hist_4_tanh_b.csv')"
   ]
  },
  {
   "cell_type": "markdown",
   "id": "2be6b5c2-d31e-4cac-baf9-fad6d1b102e6",
   "metadata": {
    "tags": []
   },
   "source": [
    "# Model 5: TextVectorization Layer, Bi-Directional LSTM RNN Embedding Model, Two Hidden Dense Layers (64, 32)"
   ]
  },
  {
   "cell_type": "code",
   "execution_count": 36,
   "id": "2fef2e84-17ea-41ea-ba50-215aa09a77cf",
   "metadata": {
    "tags": []
   },
   "outputs": [],
   "source": [
    "def build_model_5_tanh(max_tokens=10000, output_sequence_length=250, embedding_dim=16):\n",
    "    tf.keras.backend.clear_session()\n",
    "    tf.random.set_seed(0)\n",
    "    inputs = Input(shape=(output_sequence_length,))\n",
    "    x = Embedding(input_dim=max_tokens, output_dim=embedding_dim, input_length=output_sequence_length)(inputs)\n",
    "    \n",
    "    x = Bidirectional(LSTM(32, activation='tanh'))(x)\n",
    "    # x = layers.MaxPooling1D()(x)\n",
    "    \n",
    "    x = Dense(64, activation='tanh')(x)\n",
    "    x = Dense(32, activation='tanh')(x)\n",
    "    x = Dropout(0.5)(x)\n",
    "    outputs = Dense(1)(x)\n",
    "    model = Model(inputs, outputs)\n",
    "    model.compile(optimizer='adam', loss='mean_squared_error', metrics=['mean_absolute_error','accuracy'])\n",
    "    \n",
    "    return model"
   ]
  },
  {
   "cell_type": "code",
   "execution_count": 37,
   "id": "3986b6a4-e70f-4d1f-afaa-3a4bda3a6c6d",
   "metadata": {
    "tags": []
   },
   "outputs": [
    {
     "name": "stderr",
     "output_type": "stream",
     "text": [
      "2024-07-31 10:07:41.764336: I tensorflow/core/common_runtime/executor.cc:1197] [/device:CPU:0] (DEBUG INFO) Executor start aborting (this does not indicate an error and you can ignore this message): INVALID_ARGUMENT: You must feed a value for placeholder tensor 'gradients/split_2_grad/concat/split_2/split_dim' with dtype int32\n",
      "\t [[{{node gradients/split_2_grad/concat/split_2/split_dim}}]]\n",
      "2024-07-31 10:07:41.766802: I tensorflow/core/common_runtime/executor.cc:1197] [/device:CPU:0] (DEBUG INFO) Executor start aborting (this does not indicate an error and you can ignore this message): INVALID_ARGUMENT: You must feed a value for placeholder tensor 'gradients/split_grad/concat/split/split_dim' with dtype int32\n",
      "\t [[{{node gradients/split_grad/concat/split/split_dim}}]]\n",
      "2024-07-31 10:07:41.768389: I tensorflow/core/common_runtime/executor.cc:1197] [/device:CPU:0] (DEBUG INFO) Executor start aborting (this does not indicate an error and you can ignore this message): INVALID_ARGUMENT: You must feed a value for placeholder tensor 'gradients/split_1_grad/concat/split_1/split_dim' with dtype int32\n",
      "\t [[{{node gradients/split_1_grad/concat/split_1/split_dim}}]]\n",
      "2024-07-31 10:07:41.917113: I tensorflow/core/common_runtime/executor.cc:1197] [/device:CPU:0] (DEBUG INFO) Executor start aborting (this does not indicate an error and you can ignore this message): INVALID_ARGUMENT: You must feed a value for placeholder tensor 'gradients/ReverseV2_grad/ReverseV2/ReverseV2/axis' with dtype int32 and shape [1]\n",
      "\t [[{{node gradients/ReverseV2_grad/ReverseV2/ReverseV2/axis}}]]\n"
     ]
    },
    {
     "name": "stdout",
     "output_type": "stream",
     "text": [
      "Epoch 1/5\n"
     ]
    },
    {
     "name": "stderr",
     "output_type": "stream",
     "text": [
      "2024-07-31 10:07:41.981980: I tensorflow/core/common_runtime/executor.cc:1197] [/device:CPU:0] (DEBUG INFO) Executor start aborting (this does not indicate an error and you can ignore this message): INVALID_ARGUMENT: You must feed a value for placeholder tensor 'gradients/split_2_grad/concat/split_2/split_dim' with dtype int32\n",
      "\t [[{{node gradients/split_2_grad/concat/split_2/split_dim}}]]\n",
      "2024-07-31 10:07:41.986243: I tensorflow/core/common_runtime/executor.cc:1197] [/device:CPU:0] (DEBUG INFO) Executor start aborting (this does not indicate an error and you can ignore this message): INVALID_ARGUMENT: You must feed a value for placeholder tensor 'gradients/split_grad/concat/split/split_dim' with dtype int32\n",
      "\t [[{{node gradients/split_grad/concat/split/split_dim}}]]\n",
      "2024-07-31 10:07:41.988697: I tensorflow/core/common_runtime/executor.cc:1197] [/device:CPU:0] (DEBUG INFO) Executor start aborting (this does not indicate an error and you can ignore this message): INVALID_ARGUMENT: You must feed a value for placeholder tensor 'gradients/split_1_grad/concat/split_1/split_dim' with dtype int32\n",
      "\t [[{{node gradients/split_1_grad/concat/split_1/split_dim}}]]\n",
      "2024-07-31 10:07:42.457048: I tensorflow/core/common_runtime/executor.cc:1197] [/device:CPU:0] (DEBUG INFO) Executor start aborting (this does not indicate an error and you can ignore this message): INVALID_ARGUMENT: You must feed a value for placeholder tensor 'gradients/split_2_grad/concat/split_2/split_dim' with dtype int32\n",
      "\t [[{{node gradients/split_2_grad/concat/split_2/split_dim}}]]\n",
      "2024-07-31 10:07:42.460196: I tensorflow/core/common_runtime/executor.cc:1197] [/device:CPU:0] (DEBUG INFO) Executor start aborting (this does not indicate an error and you can ignore this message): INVALID_ARGUMENT: You must feed a value for placeholder tensor 'gradients/split_grad/concat/split/split_dim' with dtype int32\n",
      "\t [[{{node gradients/split_grad/concat/split/split_dim}}]]\n",
      "2024-07-31 10:07:42.462964: I tensorflow/core/common_runtime/executor.cc:1197] [/device:CPU:0] (DEBUG INFO) Executor start aborting (this does not indicate an error and you can ignore this message): INVALID_ARGUMENT: You must feed a value for placeholder tensor 'gradients/split_1_grad/concat/split_1/split_dim' with dtype int32\n",
      "\t [[{{node gradients/split_1_grad/concat/split_1/split_dim}}]]\n",
      "2024-07-31 10:07:42.707523: I tensorflow/core/common_runtime/executor.cc:1197] [/device:CPU:0] (DEBUG INFO) Executor start aborting (this does not indicate an error and you can ignore this message): INVALID_ARGUMENT: You must feed a value for placeholder tensor 'gradients/ReverseV2_grad/ReverseV2/ReverseV2/axis' with dtype int32 and shape [1]\n",
      "\t [[{{node gradients/ReverseV2_grad/ReverseV2/ReverseV2/axis}}]]\n",
      "2024-07-31 10:07:42.792703: I tensorflow/core/common_runtime/executor.cc:1197] [/device:CPU:0] (DEBUG INFO) Executor start aborting (this does not indicate an error and you can ignore this message): INVALID_ARGUMENT: You must feed a value for placeholder tensor 'gradients/split_2_grad/concat/split_2/split_dim' with dtype int32\n",
      "\t [[{{node gradients/split_2_grad/concat/split_2/split_dim}}]]\n",
      "2024-07-31 10:07:42.796926: I tensorflow/core/common_runtime/executor.cc:1197] [/device:CPU:0] (DEBUG INFO) Executor start aborting (this does not indicate an error and you can ignore this message): INVALID_ARGUMENT: You must feed a value for placeholder tensor 'gradients/split_grad/concat/split/split_dim' with dtype int32\n",
      "\t [[{{node gradients/split_grad/concat/split/split_dim}}]]\n",
      "2024-07-31 10:07:42.800197: I tensorflow/core/common_runtime/executor.cc:1197] [/device:CPU:0] (DEBUG INFO) Executor start aborting (this does not indicate an error and you can ignore this message): INVALID_ARGUMENT: You must feed a value for placeholder tensor 'gradients/split_1_grad/concat/split_1/split_dim' with dtype int32\n",
      "\t [[{{node gradients/split_1_grad/concat/split_1/split_dim}}]]\n",
      "2024-07-31 10:07:43.341040: I tensorflow/core/common_runtime/executor.cc:1197] [/device:CPU:0] (DEBUG INFO) Executor start aborting (this does not indicate an error and you can ignore this message): INVALID_ARGUMENT: You must feed a value for placeholder tensor 'gradients/ReverseV2_grad/ReverseV2/ReverseV2/axis' with dtype int32 and shape [1]\n",
      "\t [[{{node gradients/ReverseV2_grad/ReverseV2/ReverseV2/axis}}]]\n",
      "2024-07-31 10:07:44.104114: I tensorflow/core/common_runtime/executor.cc:1197] [/device:CPU:0] (DEBUG INFO) Executor start aborting (this does not indicate an error and you can ignore this message): INVALID_ARGUMENT: You must feed a value for placeholder tensor 'gradients/split_2_grad/concat/split_2/split_dim' with dtype int32\n",
      "\t [[{{node gradients/split_2_grad/concat/split_2/split_dim}}]]\n",
      "2024-07-31 10:07:44.107461: I tensorflow/core/common_runtime/executor.cc:1197] [/device:CPU:0] (DEBUG INFO) Executor start aborting (this does not indicate an error and you can ignore this message): INVALID_ARGUMENT: You must feed a value for placeholder tensor 'gradients/split_grad/concat/split/split_dim' with dtype int32\n",
      "\t [[{{node gradients/split_grad/concat/split/split_dim}}]]\n",
      "2024-07-31 10:07:44.110429: I tensorflow/core/common_runtime/executor.cc:1197] [/device:CPU:0] (DEBUG INFO) Executor start aborting (this does not indicate an error and you can ignore this message): INVALID_ARGUMENT: You must feed a value for placeholder tensor 'gradients/split_1_grad/concat/split_1/split_dim' with dtype int32\n",
      "\t [[{{node gradients/split_1_grad/concat/split_1/split_dim}}]]\n",
      "2024-07-31 10:07:44.355965: I tensorflow/core/common_runtime/executor.cc:1197] [/device:CPU:0] (DEBUG INFO) Executor start aborting (this does not indicate an error and you can ignore this message): INVALID_ARGUMENT: You must feed a value for placeholder tensor 'gradients/ReverseV2_grad/ReverseV2/ReverseV2/axis' with dtype int32 and shape [1]\n",
      "\t [[{{node gradients/ReverseV2_grad/ReverseV2/ReverseV2/axis}}]]\n",
      "2024-07-31 10:07:44.506486: I tensorflow/core/common_runtime/executor.cc:1197] [/device:CPU:0] (DEBUG INFO) Executor start aborting (this does not indicate an error and you can ignore this message): INVALID_ARGUMENT: You must feed a value for placeholder tensor 'gradients/split_2_grad/concat/split_2/split_dim' with dtype int32\n",
      "\t [[{{node gradients/split_2_grad/concat/split_2/split_dim}}]]\n",
      "2024-07-31 10:07:44.508910: I tensorflow/core/common_runtime/executor.cc:1197] [/device:CPU:0] (DEBUG INFO) Executor start aborting (this does not indicate an error and you can ignore this message): INVALID_ARGUMENT: You must feed a value for placeholder tensor 'gradients/split_grad/concat/split/split_dim' with dtype int32\n",
      "\t [[{{node gradients/split_grad/concat/split/split_dim}}]]\n",
      "2024-07-31 10:07:44.511354: I tensorflow/core/common_runtime/executor.cc:1197] [/device:CPU:0] (DEBUG INFO) Executor start aborting (this does not indicate an error and you can ignore this message): INVALID_ARGUMENT: You must feed a value for placeholder tensor 'gradients/split_1_grad/concat/split_1/split_dim' with dtype int32\n",
      "\t [[{{node gradients/split_1_grad/concat/split_1/split_dim}}]]\n",
      "2024-07-31 10:07:45.057368: I tensorflow/core/common_runtime/executor.cc:1197] [/device:CPU:0] (DEBUG INFO) Executor start aborting (this does not indicate an error and you can ignore this message): INVALID_ARGUMENT: You must feed a value for placeholder tensor 'gradients/ReverseV2_grad/ReverseV2/ReverseV2/axis' with dtype int32 and shape [1]\n",
      "\t [[{{node gradients/ReverseV2_grad/ReverseV2/ReverseV2/axis}}]]\n"
     ]
    },
    {
     "name": "stdout",
     "output_type": "stream",
     "text": [
      "14787/14787 [==============================] - ETA: 0s - loss: 0.9673 - mean_absolute_error: 0.1585 - accuracy: 0.0000e+00"
     ]
    },
    {
     "name": "stderr",
     "output_type": "stream",
     "text": [
      "2024-07-31 11:33:56.485077: I tensorflow/core/common_runtime/executor.cc:1197] [/device:CPU:0] (DEBUG INFO) Executor start aborting (this does not indicate an error and you can ignore this message): INVALID_ARGUMENT: You must feed a value for placeholder tensor 'gradients/split_2_grad/concat/split_2/split_dim' with dtype int32\n",
      "\t [[{{node gradients/split_2_grad/concat/split_2/split_dim}}]]\n",
      "2024-07-31 11:33:56.488362: I tensorflow/core/common_runtime/executor.cc:1197] [/device:CPU:0] (DEBUG INFO) Executor start aborting (this does not indicate an error and you can ignore this message): INVALID_ARGUMENT: You must feed a value for placeholder tensor 'gradients/split_grad/concat/split/split_dim' with dtype int32\n",
      "\t [[{{node gradients/split_grad/concat/split/split_dim}}]]\n",
      "2024-07-31 11:33:56.491713: I tensorflow/core/common_runtime/executor.cc:1197] [/device:CPU:0] (DEBUG INFO) Executor start aborting (this does not indicate an error and you can ignore this message): INVALID_ARGUMENT: You must feed a value for placeholder tensor 'gradients/split_1_grad/concat/split_1/split_dim' with dtype int32\n",
      "\t [[{{node gradients/split_1_grad/concat/split_1/split_dim}}]]\n",
      "2024-07-31 11:33:56.708704: I tensorflow/core/common_runtime/executor.cc:1197] [/device:CPU:0] (DEBUG INFO) Executor start aborting (this does not indicate an error and you can ignore this message): INVALID_ARGUMENT: You must feed a value for placeholder tensor 'gradients/ReverseV2_grad/ReverseV2/ReverseV2/axis' with dtype int32 and shape [1]\n",
      "\t [[{{node gradients/ReverseV2_grad/ReverseV2/ReverseV2/axis}}]]\n",
      "2024-07-31 11:33:56.824304: I tensorflow/core/common_runtime/executor.cc:1197] [/device:CPU:0] (DEBUG INFO) Executor start aborting (this does not indicate an error and you can ignore this message): INVALID_ARGUMENT: You must feed a value for placeholder tensor 'gradients/split_2_grad/concat/split_2/split_dim' with dtype int32\n",
      "\t [[{{node gradients/split_2_grad/concat/split_2/split_dim}}]]\n",
      "2024-07-31 11:33:56.826850: I tensorflow/core/common_runtime/executor.cc:1197] [/device:CPU:0] (DEBUG INFO) Executor start aborting (this does not indicate an error and you can ignore this message): INVALID_ARGUMENT: You must feed a value for placeholder tensor 'gradients/split_grad/concat/split/split_dim' with dtype int32\n",
      "\t [[{{node gradients/split_grad/concat/split/split_dim}}]]\n",
      "2024-07-31 11:33:56.829391: I tensorflow/core/common_runtime/executor.cc:1197] [/device:CPU:0] (DEBUG INFO) Executor start aborting (this does not indicate an error and you can ignore this message): INVALID_ARGUMENT: You must feed a value for placeholder tensor 'gradients/split_1_grad/concat/split_1/split_dim' with dtype int32\n",
      "\t [[{{node gradients/split_1_grad/concat/split_1/split_dim}}]]\n"
     ]
    },
    {
     "name": "stdout",
     "output_type": "stream",
     "text": [
      "14787/14787 [==============================] - 5497s 371ms/step - loss: 0.9673 - mean_absolute_error: 0.1585 - accuracy: 0.0000e+00 - val_loss: 0.7064 - val_mean_absolute_error: 0.1267 - val_accuracy: 0.0000e+00\n",
      "Epoch 2/5\n",
      "14787/14787 [==============================] - 5459s 369ms/step - loss: 0.9297 - mean_absolute_error: 0.1337 - accuracy: 0.0000e+00 - val_loss: 0.6219 - val_mean_absolute_error: 0.1132 - val_accuracy: 0.0000e+00\n",
      "Epoch 3/5\n",
      "14787/14787 [==============================] - 5682s 384ms/step - loss: 0.8856 - mean_absolute_error: 0.1483 - accuracy: 0.0000e+00 - val_loss: 0.6408 - val_mean_absolute_error: 0.1067 - val_accuracy: 0.0000e+00\n"
     ]
    },
    {
     "data": {
      "text/html": [
       "<div>\n",
       "<style scoped>\n",
       "    .dataframe tbody tr th:only-of-type {\n",
       "        vertical-align: middle;\n",
       "    }\n",
       "\n",
       "    .dataframe tbody tr th {\n",
       "        vertical-align: top;\n",
       "    }\n",
       "\n",
       "    .dataframe thead th {\n",
       "        text-align: right;\n",
       "    }\n",
       "</style>\n",
       "<table border=\"1\" class=\"dataframe\">\n",
       "  <thead>\n",
       "    <tr style=\"text-align: right;\">\n",
       "      <th></th>\n",
       "      <th>loss</th>\n",
       "      <th>mean_absolute_error</th>\n",
       "      <th>accuracy</th>\n",
       "      <th>val_loss</th>\n",
       "      <th>val_mean_absolute_error</th>\n",
       "      <th>val_accuracy</th>\n",
       "    </tr>\n",
       "  </thead>\n",
       "  <tbody>\n",
       "    <tr>\n",
       "      <th>0</th>\n",
       "      <td>0.967287</td>\n",
       "      <td>0.158545</td>\n",
       "      <td>0.0</td>\n",
       "      <td>0.706388</td>\n",
       "      <td>0.126739</td>\n",
       "      <td>0.0</td>\n",
       "    </tr>\n",
       "    <tr>\n",
       "      <th>1</th>\n",
       "      <td>0.929697</td>\n",
       "      <td>0.133679</td>\n",
       "      <td>0.0</td>\n",
       "      <td>0.621943</td>\n",
       "      <td>0.113237</td>\n",
       "      <td>0.0</td>\n",
       "    </tr>\n",
       "    <tr>\n",
       "      <th>2</th>\n",
       "      <td>0.885640</td>\n",
       "      <td>0.148274</td>\n",
       "      <td>0.0</td>\n",
       "      <td>0.640811</td>\n",
       "      <td>0.106668</td>\n",
       "      <td>0.0</td>\n",
       "    </tr>\n",
       "  </tbody>\n",
       "</table>\n",
       "</div>"
      ],
      "text/plain": [
       "       loss  mean_absolute_error  accuracy  val_loss  val_mean_absolute_error  \\\n",
       "0  0.967287             0.158545       0.0  0.706388                 0.126739   \n",
       "1  0.929697             0.133679       0.0  0.621943                 0.113237   \n",
       "2  0.885640             0.148274       0.0  0.640811                 0.106668   \n",
       "\n",
       "   val_accuracy  \n",
       "0           0.0  \n",
       "1           0.0  \n",
       "2           0.0  "
      ]
     },
     "execution_count": 37,
     "metadata": {},
     "output_type": "execute_result"
    }
   ],
   "source": [
    "model_5_tanh = build_model_5_tanh()\n",
    "early_stopping = tf.keras.callbacks.EarlyStopping(monitor='val_loss', patience=1, restore_best_weights=True)\n",
    "history_5_tanh = model_5_tanh.fit(vectorized_text, y_train, epochs=5, batch_size=2, verbose=1, callbacks=[early_stopping], validation_data=(vectorized_text_val, y_val))\n",
    "hist_5_tanh = pd.DataFrame(history_5_tanh.history)\n",
    "hist_5_tanh"
   ]
  },
  {
   "cell_type": "code",
   "execution_count": 39,
   "id": "728e298f-2db8-409c-9a26-bcdf166ed821",
   "metadata": {
    "tags": []
   },
   "outputs": [],
   "source": [
    "model_5_tanh.save(\"./models/model_5_tanh.h5\")"
   ]
  },
  {
   "cell_type": "code",
   "execution_count": 38,
   "id": "84666cf6-1fac-452a-97c8-de30679dc08d",
   "metadata": {
    "tags": []
   },
   "outputs": [],
   "source": [
    "hist_5_tanh.to_csv('/model_performance/hist_5_tanh.csv')"
   ]
  },
  {
   "cell_type": "markdown",
   "id": "abd3b40e-ccea-44cd-88e4-fa75eb8fa89b",
   "metadata": {
    "tags": []
   },
   "source": [
    "# Model Evaluations"
   ]
  },
  {
   "cell_type": "markdown",
   "id": "9d08c222-f27a-4788-9049-e3f68851e4d0",
   "metadata": {
    "tags": []
   },
   "source": [
    "Evaluate all the losses (mean squared error) of the models:\n",
    " - Model 2 - Basic Embedding Model - 2 Dense Layers (64, 32)\n",
    " - Model 2 - 3 Ngram Basic Embedding Model - 2 Dense Layers (64, 32)\n",
    " - Model 3 - Conv1d Model, Two Hidden Dense Layers (64, 32)\n",
    " - Model 3b- Conv1d Model, Two Hidden Dense Layers (128, 64, 64, 32)\n",
    " - Model 3c: Single Simple RNN, Four Hidden Dense Layers (128, 64, 64, 32)\n",
    " - Model 3d: Double Simple RNN, Four Hidden Dense Layers (128, 64, 64, 32)\n",
    " - Model 3e: Conv1d Model, Four Hidden Dense Layers (128, 64, 64, 32)\n",
    " - Model 3 + Dropout: Conv1d Model, Two Hidden Dense Layers (64, 32), 50% Dropout\n",
    " - Model 4: LSTM RNN Model, Two Hidden Dense Layers (64, 32)\n",
    " - Model 5: BiDirectional LSTM RNN Model, Two Hidden Dense Layers (64, 32)"
   ]
  },
  {
   "cell_type": "code",
   "execution_count": 41,
   "id": "f1abed2b-b50b-4966-97bd-adf99485930c",
   "metadata": {
    "tags": []
   },
   "outputs": [
    {
     "data": {
      "text/html": [
       "<div>\n",
       "<style scoped>\n",
       "    .dataframe tbody tr th:only-of-type {\n",
       "        vertical-align: middle;\n",
       "    }\n",
       "\n",
       "    .dataframe tbody tr th {\n",
       "        vertical-align: top;\n",
       "    }\n",
       "\n",
       "    .dataframe thead th {\n",
       "        text-align: right;\n",
       "    }\n",
       "</style>\n",
       "<table border=\"1\" class=\"dataframe\">\n",
       "  <thead>\n",
       "    <tr style=\"text-align: right;\">\n",
       "      <th></th>\n",
       "      <th>loss</th>\n",
       "      <th>mean_absolute_error</th>\n",
       "      <th>accuracy</th>\n",
       "      <th>val_loss</th>\n",
       "      <th>val_mean_absolute_error</th>\n",
       "      <th>val_accuracy</th>\n",
       "    </tr>\n",
       "  </thead>\n",
       "  <tbody>\n",
       "    <tr>\n",
       "      <th>0</th>\n",
       "      <td>0.940697</td>\n",
       "      <td>0.111765</td>\n",
       "      <td>0.0</td>\n",
       "      <td>0.609747</td>\n",
       "      <td>0.104846</td>\n",
       "      <td>0.0</td>\n",
       "    </tr>\n",
       "    <tr>\n",
       "      <th>1</th>\n",
       "      <td>0.860433</td>\n",
       "      <td>0.116496</td>\n",
       "      <td>0.0</td>\n",
       "      <td>0.627505</td>\n",
       "      <td>0.117921</td>\n",
       "      <td>0.0</td>\n",
       "    </tr>\n",
       "  </tbody>\n",
       "</table>\n",
       "</div>"
      ],
      "text/plain": [
       "       loss  mean_absolute_error  accuracy  val_loss  val_mean_absolute_error  \\\n",
       "0  0.940697             0.111765       0.0  0.609747                 0.104846   \n",
       "1  0.860433             0.116496       0.0  0.627505                 0.117921   \n",
       "\n",
       "   val_accuracy  \n",
       "0           0.0  \n",
       "1           0.0  "
      ]
     },
     "execution_count": 41,
     "metadata": {},
     "output_type": "execute_result"
    }
   ],
   "source": [
    "hist2"
   ]
  },
  {
   "cell_type": "code",
   "execution_count": 42,
   "id": "7e9c881f-3e82-4ce0-847f-3e7ac62953b6",
   "metadata": {
    "tags": []
   },
   "outputs": [
    {
     "data": {
      "text/html": [
       "<div>\n",
       "<style scoped>\n",
       "    .dataframe tbody tr th:only-of-type {\n",
       "        vertical-align: middle;\n",
       "    }\n",
       "\n",
       "    .dataframe tbody tr th {\n",
       "        vertical-align: top;\n",
       "    }\n",
       "\n",
       "    .dataframe thead th {\n",
       "        text-align: right;\n",
       "    }\n",
       "</style>\n",
       "<table border=\"1\" class=\"dataframe\">\n",
       "  <thead>\n",
       "    <tr style=\"text-align: right;\">\n",
       "      <th></th>\n",
       "      <th>loss</th>\n",
       "      <th>mean_absolute_error</th>\n",
       "      <th>accuracy</th>\n",
       "      <th>val_loss</th>\n",
       "      <th>val_mean_absolute_error</th>\n",
       "      <th>val_accuracy</th>\n",
       "    </tr>\n",
       "  </thead>\n",
       "  <tbody>\n",
       "    <tr>\n",
       "      <th>0</th>\n",
       "      <td>0.959536</td>\n",
       "      <td>0.117650</td>\n",
       "      <td>0.0</td>\n",
       "      <td>0.686980</td>\n",
       "      <td>0.106175</td>\n",
       "      <td>0.0</td>\n",
       "    </tr>\n",
       "    <tr>\n",
       "      <th>1</th>\n",
       "      <td>0.942791</td>\n",
       "      <td>0.118814</td>\n",
       "      <td>0.0</td>\n",
       "      <td>0.679683</td>\n",
       "      <td>0.101125</td>\n",
       "      <td>0.0</td>\n",
       "    </tr>\n",
       "    <tr>\n",
       "      <th>2</th>\n",
       "      <td>0.932319</td>\n",
       "      <td>0.123929</td>\n",
       "      <td>0.0</td>\n",
       "      <td>0.690050</td>\n",
       "      <td>0.101403</td>\n",
       "      <td>0.0</td>\n",
       "    </tr>\n",
       "  </tbody>\n",
       "</table>\n",
       "</div>"
      ],
      "text/plain": [
       "       loss  mean_absolute_error  accuracy  val_loss  val_mean_absolute_error  \\\n",
       "0  0.959536             0.117650       0.0  0.686980                 0.106175   \n",
       "1  0.942791             0.118814       0.0  0.679683                 0.101125   \n",
       "2  0.932319             0.123929       0.0  0.690050                 0.101403   \n",
       "\n",
       "   val_accuracy  \n",
       "0           0.0  \n",
       "1           0.0  \n",
       "2           0.0  "
      ]
     },
     "execution_count": 42,
     "metadata": {},
     "output_type": "execute_result"
    }
   ],
   "source": [
    "hist_3"
   ]
  },
  {
   "cell_type": "code",
   "execution_count": 43,
   "id": "119af8c9-d150-4b96-8ae9-1ae61b9d5af0",
   "metadata": {
    "tags": []
   },
   "outputs": [
    {
     "data": {
      "text/html": [
       "<div>\n",
       "<style scoped>\n",
       "    .dataframe tbody tr th:only-of-type {\n",
       "        vertical-align: middle;\n",
       "    }\n",
       "\n",
       "    .dataframe tbody tr th {\n",
       "        vertical-align: top;\n",
       "    }\n",
       "\n",
       "    .dataframe thead th {\n",
       "        text-align: right;\n",
       "    }\n",
       "</style>\n",
       "<table border=\"1\" class=\"dataframe\">\n",
       "  <thead>\n",
       "    <tr style=\"text-align: right;\">\n",
       "      <th></th>\n",
       "      <th>loss</th>\n",
       "      <th>mean_absolute_error</th>\n",
       "      <th>accuracy</th>\n",
       "      <th>val_loss</th>\n",
       "      <th>val_mean_absolute_error</th>\n",
       "      <th>val_accuracy</th>\n",
       "    </tr>\n",
       "  </thead>\n",
       "  <tbody>\n",
       "    <tr>\n",
       "      <th>0</th>\n",
       "      <td>0.968016</td>\n",
       "      <td>0.118088</td>\n",
       "      <td>0.0</td>\n",
       "      <td>0.705901</td>\n",
       "      <td>0.122682</td>\n",
       "      <td>0.0</td>\n",
       "    </tr>\n",
       "    <tr>\n",
       "      <th>1</th>\n",
       "      <td>0.962250</td>\n",
       "      <td>0.125279</td>\n",
       "      <td>0.0</td>\n",
       "      <td>0.681570</td>\n",
       "      <td>0.096180</td>\n",
       "      <td>0.0</td>\n",
       "    </tr>\n",
       "    <tr>\n",
       "      <th>2</th>\n",
       "      <td>0.950995</td>\n",
       "      <td>0.122447</td>\n",
       "      <td>0.0</td>\n",
       "      <td>0.707882</td>\n",
       "      <td>0.099532</td>\n",
       "      <td>0.0</td>\n",
       "    </tr>\n",
       "  </tbody>\n",
       "</table>\n",
       "</div>"
      ],
      "text/plain": [
       "       loss  mean_absolute_error  accuracy  val_loss  val_mean_absolute_error  \\\n",
       "0  0.968016             0.118088       0.0  0.705901                 0.122682   \n",
       "1  0.962250             0.125279       0.0  0.681570                 0.096180   \n",
       "2  0.950995             0.122447       0.0  0.707882                 0.099532   \n",
       "\n",
       "   val_accuracy  \n",
       "0           0.0  \n",
       "1           0.0  \n",
       "2           0.0  "
      ]
     },
     "execution_count": 43,
     "metadata": {},
     "output_type": "execute_result"
    }
   ],
   "source": [
    "hist_3_b"
   ]
  },
  {
   "cell_type": "code",
   "execution_count": 85,
   "id": "0e5a76c0-ce90-4a5c-bf70-ab06a482919f",
   "metadata": {
    "tags": []
   },
   "outputs": [
    {
     "data": {
      "text/html": [
       "<div>\n",
       "<style scoped>\n",
       "    .dataframe tbody tr th:only-of-type {\n",
       "        vertical-align: middle;\n",
       "    }\n",
       "\n",
       "    .dataframe tbody tr th {\n",
       "        vertical-align: top;\n",
       "    }\n",
       "\n",
       "    .dataframe thead th {\n",
       "        text-align: right;\n",
       "    }\n",
       "</style>\n",
       "<table border=\"1\" class=\"dataframe\">\n",
       "  <thead>\n",
       "    <tr style=\"text-align: right;\">\n",
       "      <th></th>\n",
       "      <th>loss</th>\n",
       "      <th>mean_absolute_error</th>\n",
       "      <th>accuracy</th>\n",
       "      <th>val_loss</th>\n",
       "      <th>val_mean_absolute_error</th>\n",
       "      <th>val_accuracy</th>\n",
       "    </tr>\n",
       "  </thead>\n",
       "  <tbody>\n",
       "    <tr>\n",
       "      <th>0</th>\n",
       "      <td>1.491987</td>\n",
       "      <td>0.125689</td>\n",
       "      <td>0.0</td>\n",
       "      <td>0.712539</td>\n",
       "      <td>0.205601</td>\n",
       "      <td>0.0</td>\n",
       "    </tr>\n",
       "    <tr>\n",
       "      <th>1</th>\n",
       "      <td>1.494090</td>\n",
       "      <td>0.132200</td>\n",
       "      <td>0.0</td>\n",
       "      <td>0.708502</td>\n",
       "      <td>0.102327</td>\n",
       "      <td>0.0</td>\n",
       "    </tr>\n",
       "    <tr>\n",
       "      <th>2</th>\n",
       "      <td>1.493370</td>\n",
       "      <td>0.164720</td>\n",
       "      <td>0.0</td>\n",
       "      <td>0.706946</td>\n",
       "      <td>0.118365</td>\n",
       "      <td>0.0</td>\n",
       "    </tr>\n",
       "    <tr>\n",
       "      <th>3</th>\n",
       "      <td>1.490325</td>\n",
       "      <td>0.135241</td>\n",
       "      <td>0.0</td>\n",
       "      <td>0.707049</td>\n",
       "      <td>0.116929</td>\n",
       "      <td>0.0</td>\n",
       "    </tr>\n",
       "  </tbody>\n",
       "</table>\n",
       "</div>"
      ],
      "text/plain": [
       "       loss  mean_absolute_error  accuracy  val_loss  val_mean_absolute_error  \\\n",
       "0  1.491987             0.125689       0.0  0.712539                 0.205601   \n",
       "1  1.494090             0.132200       0.0  0.708502                 0.102327   \n",
       "2  1.493370             0.164720       0.0  0.706946                 0.118365   \n",
       "3  1.490325             0.135241       0.0  0.707049                 0.116929   \n",
       "\n",
       "   val_accuracy  \n",
       "0           0.0  \n",
       "1           0.0  \n",
       "2           0.0  \n",
       "3           0.0  "
      ]
     },
     "execution_count": 85,
     "metadata": {},
     "output_type": "execute_result"
    }
   ],
   "source": [
    "hist_3_c"
   ]
  },
  {
   "cell_type": "code",
   "execution_count": 86,
   "id": "5cae5d7f-0d96-4af0-aa06-104f0465e17b",
   "metadata": {
    "tags": []
   },
   "outputs": [
    {
     "data": {
      "text/html": [
       "<div>\n",
       "<style scoped>\n",
       "    .dataframe tbody tr th:only-of-type {\n",
       "        vertical-align: middle;\n",
       "    }\n",
       "\n",
       "    .dataframe tbody tr th {\n",
       "        vertical-align: top;\n",
       "    }\n",
       "\n",
       "    .dataframe thead th {\n",
       "        text-align: right;\n",
       "    }\n",
       "</style>\n",
       "<table border=\"1\" class=\"dataframe\">\n",
       "  <thead>\n",
       "    <tr style=\"text-align: right;\">\n",
       "      <th></th>\n",
       "      <th>loss</th>\n",
       "      <th>mean_absolute_error</th>\n",
       "      <th>accuracy</th>\n",
       "      <th>val_loss</th>\n",
       "      <th>val_mean_absolute_error</th>\n",
       "      <th>val_accuracy</th>\n",
       "    </tr>\n",
       "  </thead>\n",
       "  <tbody>\n",
       "    <tr>\n",
       "      <th>0</th>\n",
       "      <td>1.493058</td>\n",
       "      <td>0.124635</td>\n",
       "      <td>0.0</td>\n",
       "      <td>0.714317</td>\n",
       "      <td>0.200483</td>\n",
       "      <td>0.0</td>\n",
       "    </tr>\n",
       "    <tr>\n",
       "      <th>1</th>\n",
       "      <td>1.493849</td>\n",
       "      <td>0.137843</td>\n",
       "      <td>0.0</td>\n",
       "      <td>0.710901</td>\n",
       "      <td>0.092969</td>\n",
       "      <td>0.0</td>\n",
       "    </tr>\n",
       "    <tr>\n",
       "      <th>2</th>\n",
       "      <td>1.493515</td>\n",
       "      <td>0.147939</td>\n",
       "      <td>0.0</td>\n",
       "      <td>0.705894</td>\n",
       "      <td>0.131465</td>\n",
       "      <td>0.0</td>\n",
       "    </tr>\n",
       "    <tr>\n",
       "      <th>3</th>\n",
       "      <td>1.491341</td>\n",
       "      <td>0.153276</td>\n",
       "      <td>0.0</td>\n",
       "      <td>0.707012</td>\n",
       "      <td>0.117426</td>\n",
       "      <td>0.0</td>\n",
       "    </tr>\n",
       "  </tbody>\n",
       "</table>\n",
       "</div>"
      ],
      "text/plain": [
       "       loss  mean_absolute_error  accuracy  val_loss  val_mean_absolute_error  \\\n",
       "0  1.493058             0.124635       0.0  0.714317                 0.200483   \n",
       "1  1.493849             0.137843       0.0  0.710901                 0.092969   \n",
       "2  1.493515             0.147939       0.0  0.705894                 0.131465   \n",
       "3  1.491341             0.153276       0.0  0.707012                 0.117426   \n",
       "\n",
       "   val_accuracy  \n",
       "0           0.0  \n",
       "1           0.0  \n",
       "2           0.0  \n",
       "3           0.0  "
      ]
     },
     "execution_count": 86,
     "metadata": {},
     "output_type": "execute_result"
    }
   ],
   "source": [
    "hist_3_d"
   ]
  },
  {
   "cell_type": "code",
   "execution_count": 87,
   "id": "754eda5a-6a37-4883-bcb9-62cf18037021",
   "metadata": {
    "tags": []
   },
   "outputs": [
    {
     "data": {
      "text/html": [
       "<div>\n",
       "<style scoped>\n",
       "    .dataframe tbody tr th:only-of-type {\n",
       "        vertical-align: middle;\n",
       "    }\n",
       "\n",
       "    .dataframe tbody tr th {\n",
       "        vertical-align: top;\n",
       "    }\n",
       "\n",
       "    .dataframe thead th {\n",
       "        text-align: right;\n",
       "    }\n",
       "</style>\n",
       "<table border=\"1\" class=\"dataframe\">\n",
       "  <thead>\n",
       "    <tr style=\"text-align: right;\">\n",
       "      <th></th>\n",
       "      <th>loss</th>\n",
       "      <th>mean_absolute_error</th>\n",
       "      <th>accuracy</th>\n",
       "      <th>val_loss</th>\n",
       "      <th>val_mean_absolute_error</th>\n",
       "      <th>val_accuracy</th>\n",
       "    </tr>\n",
       "  </thead>\n",
       "  <tbody>\n",
       "    <tr>\n",
       "      <th>0</th>\n",
       "      <td>1.490502</td>\n",
       "      <td>0.133164</td>\n",
       "      <td>0.0</td>\n",
       "      <td>0.706304</td>\n",
       "      <td>0.142727</td>\n",
       "      <td>0.0</td>\n",
       "    </tr>\n",
       "    <tr>\n",
       "      <th>1</th>\n",
       "      <td>1.490278</td>\n",
       "      <td>0.137152</td>\n",
       "      <td>0.0</td>\n",
       "      <td>0.706345</td>\n",
       "      <td>0.131975</td>\n",
       "      <td>0.0</td>\n",
       "    </tr>\n",
       "  </tbody>\n",
       "</table>\n",
       "</div>"
      ],
      "text/plain": [
       "       loss  mean_absolute_error  accuracy  val_loss  val_mean_absolute_error  \\\n",
       "0  1.490502             0.133164       0.0  0.706304                 0.142727   \n",
       "1  1.490278             0.137152       0.0  0.706345                 0.131975   \n",
       "\n",
       "   val_accuracy  \n",
       "0           0.0  \n",
       "1           0.0  "
      ]
     },
     "execution_count": 87,
     "metadata": {},
     "output_type": "execute_result"
    }
   ],
   "source": [
    "hist_3_e"
   ]
  },
  {
   "cell_type": "code",
   "execution_count": 44,
   "id": "d245ac4b-47d9-451d-a729-0d7d6c31adeb",
   "metadata": {
    "tags": []
   },
   "outputs": [
    {
     "data": {
      "text/html": [
       "<div>\n",
       "<style scoped>\n",
       "    .dataframe tbody tr th:only-of-type {\n",
       "        vertical-align: middle;\n",
       "    }\n",
       "\n",
       "    .dataframe tbody tr th {\n",
       "        vertical-align: top;\n",
       "    }\n",
       "\n",
       "    .dataframe thead th {\n",
       "        text-align: right;\n",
       "    }\n",
       "</style>\n",
       "<table border=\"1\" class=\"dataframe\">\n",
       "  <thead>\n",
       "    <tr style=\"text-align: right;\">\n",
       "      <th></th>\n",
       "      <th>loss</th>\n",
       "      <th>mean_absolute_error</th>\n",
       "      <th>accuracy</th>\n",
       "      <th>val_loss</th>\n",
       "      <th>val_mean_absolute_error</th>\n",
       "      <th>val_accuracy</th>\n",
       "    </tr>\n",
       "  </thead>\n",
       "  <tbody>\n",
       "    <tr>\n",
       "      <th>0</th>\n",
       "      <td>0.960744</td>\n",
       "      <td>0.123068</td>\n",
       "      <td>0.0</td>\n",
       "      <td>0.694064</td>\n",
       "      <td>0.126233</td>\n",
       "      <td>0.0</td>\n",
       "    </tr>\n",
       "    <tr>\n",
       "      <th>1</th>\n",
       "      <td>0.947665</td>\n",
       "      <td>0.119645</td>\n",
       "      <td>0.0</td>\n",
       "      <td>0.679076</td>\n",
       "      <td>0.138082</td>\n",
       "      <td>0.0</td>\n",
       "    </tr>\n",
       "    <tr>\n",
       "      <th>2</th>\n",
       "      <td>0.939346</td>\n",
       "      <td>0.121279</td>\n",
       "      <td>0.0</td>\n",
       "      <td>0.687265</td>\n",
       "      <td>0.114197</td>\n",
       "      <td>0.0</td>\n",
       "    </tr>\n",
       "  </tbody>\n",
       "</table>\n",
       "</div>"
      ],
      "text/plain": [
       "       loss  mean_absolute_error  accuracy  val_loss  val_mean_absolute_error  \\\n",
       "0  0.960744             0.123068       0.0  0.694064                 0.126233   \n",
       "1  0.947665             0.119645       0.0  0.679076                 0.138082   \n",
       "2  0.939346             0.121279       0.0  0.687265                 0.114197   \n",
       "\n",
       "   val_accuracy  \n",
       "0           0.0  \n",
       "1           0.0  \n",
       "2           0.0  "
      ]
     },
     "execution_count": 44,
     "metadata": {},
     "output_type": "execute_result"
    }
   ],
   "source": [
    "hist_3_dp"
   ]
  },
  {
   "cell_type": "code",
   "execution_count": 45,
   "id": "ea8fde1e-a214-4b1b-8d3a-e7ffa147b86f",
   "metadata": {
    "tags": []
   },
   "outputs": [
    {
     "data": {
      "text/html": [
       "<div>\n",
       "<style scoped>\n",
       "    .dataframe tbody tr th:only-of-type {\n",
       "        vertical-align: middle;\n",
       "    }\n",
       "\n",
       "    .dataframe tbody tr th {\n",
       "        vertical-align: top;\n",
       "    }\n",
       "\n",
       "    .dataframe thead th {\n",
       "        text-align: right;\n",
       "    }\n",
       "</style>\n",
       "<table border=\"1\" class=\"dataframe\">\n",
       "  <thead>\n",
       "    <tr style=\"text-align: right;\">\n",
       "      <th></th>\n",
       "      <th>loss</th>\n",
       "      <th>mean_absolute_error</th>\n",
       "      <th>accuracy</th>\n",
       "      <th>val_loss</th>\n",
       "      <th>val_mean_absolute_error</th>\n",
       "      <th>val_accuracy</th>\n",
       "    </tr>\n",
       "  </thead>\n",
       "  <tbody>\n",
       "    <tr>\n",
       "      <th>0</th>\n",
       "      <td>0.968242</td>\n",
       "      <td>0.121550</td>\n",
       "      <td>0.0</td>\n",
       "      <td>0.706560</td>\n",
       "      <td>0.119283</td>\n",
       "      <td>0.0</td>\n",
       "    </tr>\n",
       "    <tr>\n",
       "      <th>1</th>\n",
       "      <td>0.968232</td>\n",
       "      <td>0.124366</td>\n",
       "      <td>0.0</td>\n",
       "      <td>0.708794</td>\n",
       "      <td>0.100467</td>\n",
       "      <td>0.0</td>\n",
       "    </tr>\n",
       "  </tbody>\n",
       "</table>\n",
       "</div>"
      ],
      "text/plain": [
       "       loss  mean_absolute_error  accuracy  val_loss  val_mean_absolute_error  \\\n",
       "0  0.968242             0.121550       0.0  0.706560                 0.119283   \n",
       "1  0.968232             0.124366       0.0  0.708794                 0.100467   \n",
       "\n",
       "   val_accuracy  \n",
       "0           0.0  \n",
       "1           0.0  "
      ]
     },
     "execution_count": 45,
     "metadata": {},
     "output_type": "execute_result"
    }
   ],
   "source": [
    "hist_4_tanh"
   ]
  },
  {
   "cell_type": "code",
   "execution_count": 46,
   "id": "7f215ef0-d332-4e88-a25f-485f95f20995",
   "metadata": {
    "tags": []
   },
   "outputs": [
    {
     "data": {
      "text/html": [
       "<div>\n",
       "<style scoped>\n",
       "    .dataframe tbody tr th:only-of-type {\n",
       "        vertical-align: middle;\n",
       "    }\n",
       "\n",
       "    .dataframe tbody tr th {\n",
       "        vertical-align: top;\n",
       "    }\n",
       "\n",
       "    .dataframe thead th {\n",
       "        text-align: right;\n",
       "    }\n",
       "</style>\n",
       "<table border=\"1\" class=\"dataframe\">\n",
       "  <thead>\n",
       "    <tr style=\"text-align: right;\">\n",
       "      <th></th>\n",
       "      <th>loss</th>\n",
       "      <th>mean_absolute_error</th>\n",
       "      <th>accuracy</th>\n",
       "      <th>val_loss</th>\n",
       "      <th>val_mean_absolute_error</th>\n",
       "      <th>val_accuracy</th>\n",
       "    </tr>\n",
       "  </thead>\n",
       "  <tbody>\n",
       "    <tr>\n",
       "      <th>0</th>\n",
       "      <td>0.967287</td>\n",
       "      <td>0.158545</td>\n",
       "      <td>0.0</td>\n",
       "      <td>0.706388</td>\n",
       "      <td>0.126739</td>\n",
       "      <td>0.0</td>\n",
       "    </tr>\n",
       "    <tr>\n",
       "      <th>1</th>\n",
       "      <td>0.929697</td>\n",
       "      <td>0.133679</td>\n",
       "      <td>0.0</td>\n",
       "      <td>0.621943</td>\n",
       "      <td>0.113237</td>\n",
       "      <td>0.0</td>\n",
       "    </tr>\n",
       "    <tr>\n",
       "      <th>2</th>\n",
       "      <td>0.885640</td>\n",
       "      <td>0.148274</td>\n",
       "      <td>0.0</td>\n",
       "      <td>0.640811</td>\n",
       "      <td>0.106668</td>\n",
       "      <td>0.0</td>\n",
       "    </tr>\n",
       "  </tbody>\n",
       "</table>\n",
       "</div>"
      ],
      "text/plain": [
       "       loss  mean_absolute_error  accuracy  val_loss  val_mean_absolute_error  \\\n",
       "0  0.967287             0.158545       0.0  0.706388                 0.126739   \n",
       "1  0.929697             0.133679       0.0  0.621943                 0.113237   \n",
       "2  0.885640             0.148274       0.0  0.640811                 0.106668   \n",
       "\n",
       "   val_accuracy  \n",
       "0           0.0  \n",
       "1           0.0  \n",
       "2           0.0  "
      ]
     },
     "execution_count": 46,
     "metadata": {},
     "output_type": "execute_result"
    }
   ],
   "source": [
    "hist_5_tanh"
   ]
  },
  {
   "cell_type": "markdown",
   "id": "39b822da-77a7-49a1-b180-cd6da2bd8ca5",
   "metadata": {
    "tags": []
   },
   "source": [
    "# Model Losses (Train and Validation)"
   ]
  },
  {
   "cell_type": "code",
   "execution_count": 49,
   "id": "d7adc8ec-9322-4a7e-9e78-8a14c0d27e7d",
   "metadata": {
    "tags": []
   },
   "outputs": [],
   "source": [
    "def validate_model(model, x_train, y_train, x_val, y_val, x_test, y_test):\n",
    "    train_loss_mse, train_mae, train_acc = model.evaluate(x_train, y_train, verbose=0)\n",
    "    val_loss_mse, val_mae, val_acc = model.evaluate(x_val, y_val, verbose=0)\n",
    "    test_loss_mse, test_mae, test_acc = model.evaluate(x_test, y_test, verbose=0)\n",
    "    \n",
    "    return {\n",
    "        \"train\": {\"mse\":train_loss_mse,\"mae\":train_mae,\"acc\":train_acc},\n",
    "        \"val\": {\"mse\":val_loss_mse,\"mae\":val_mae,\"acc\":val_acc},\n",
    "        \"test\": {\"mse\":test_loss_mse,\"mae\":test_mae,\"acc\":test_acc},\n",
    "    }"
   ]
  },
  {
   "cell_type": "code",
   "execution_count": 50,
   "id": "a2d5b7b8-316a-42fd-a640-6131d48a3f9d",
   "metadata": {
    "tags": []
   },
   "outputs": [
    {
     "name": "stderr",
     "output_type": "stream",
     "text": [
      "2024-07-31 17:25:32.804751: I tensorflow/core/common_runtime/executor.cc:1197] [/device:CPU:0] (DEBUG INFO) Executor start aborting (this does not indicate an error and you can ignore this message): INVALID_ARGUMENT: You must feed a value for placeholder tensor 'gradients/split_2_grad/concat/split_2/split_dim' with dtype int32\n",
      "\t [[{{node gradients/split_2_grad/concat/split_2/split_dim}}]]\n",
      "2024-07-31 17:25:32.807242: I tensorflow/core/common_runtime/executor.cc:1197] [/device:CPU:0] (DEBUG INFO) Executor start aborting (this does not indicate an error and you can ignore this message): INVALID_ARGUMENT: You must feed a value for placeholder tensor 'gradients/split_grad/concat/split/split_dim' with dtype int32\n",
      "\t [[{{node gradients/split_grad/concat/split/split_dim}}]]\n",
      "2024-07-31 17:25:32.811232: I tensorflow/core/common_runtime/executor.cc:1197] [/device:CPU:0] (DEBUG INFO) Executor start aborting (this does not indicate an error and you can ignore this message): INVALID_ARGUMENT: You must feed a value for placeholder tensor 'gradients/split_1_grad/concat/split_1/split_dim' with dtype int32\n",
      "\t [[{{node gradients/split_1_grad/concat/split_1/split_dim}}]]\n",
      "2024-07-31 17:25:33.154016: I tensorflow/core/common_runtime/executor.cc:1197] [/device:CPU:0] (DEBUG INFO) Executor start aborting (this does not indicate an error and you can ignore this message): INVALID_ARGUMENT: You must feed a value for placeholder tensor 'gradients/split_2_grad/concat/split_2/split_dim' with dtype int32\n",
      "\t [[{{node gradients/split_2_grad/concat/split_2/split_dim}}]]\n",
      "2024-07-31 17:25:33.155643: I tensorflow/core/common_runtime/executor.cc:1197] [/device:CPU:0] (DEBUG INFO) Executor start aborting (this does not indicate an error and you can ignore this message): INVALID_ARGUMENT: You must feed a value for placeholder tensor 'gradients/split_grad/concat/split/split_dim' with dtype int32\n",
      "\t [[{{node gradients/split_grad/concat/split/split_dim}}]]\n",
      "2024-07-31 17:25:33.158217: I tensorflow/core/common_runtime/executor.cc:1197] [/device:CPU:0] (DEBUG INFO) Executor start aborting (this does not indicate an error and you can ignore this message): INVALID_ARGUMENT: You must feed a value for placeholder tensor 'gradients/split_1_grad/concat/split_1/split_dim' with dtype int32\n",
      "\t [[{{node gradients/split_1_grad/concat/split_1/split_dim}}]]\n",
      "2024-07-31 17:25:33.322687: I tensorflow/core/common_runtime/executor.cc:1197] [/device:CPU:0] (DEBUG INFO) Executor start aborting (this does not indicate an error and you can ignore this message): INVALID_ARGUMENT: You must feed a value for placeholder tensor 'gradients/ReverseV2_grad/ReverseV2/ReverseV2/axis' with dtype int32 and shape [1]\n",
      "\t [[{{node gradients/ReverseV2_grad/ReverseV2/ReverseV2/axis}}]]\n",
      "2024-07-31 17:25:33.376827: I tensorflow/core/common_runtime/executor.cc:1197] [/device:CPU:0] (DEBUG INFO) Executor start aborting (this does not indicate an error and you can ignore this message): INVALID_ARGUMENT: You must feed a value for placeholder tensor 'gradients/split_2_grad/concat/split_2/split_dim' with dtype int32\n",
      "\t [[{{node gradients/split_2_grad/concat/split_2/split_dim}}]]\n",
      "2024-07-31 17:25:33.378235: I tensorflow/core/common_runtime/executor.cc:1197] [/device:CPU:0] (DEBUG INFO) Executor start aborting (this does not indicate an error and you can ignore this message): INVALID_ARGUMENT: You must feed a value for placeholder tensor 'gradients/split_grad/concat/split/split_dim' with dtype int32\n",
      "\t [[{{node gradients/split_grad/concat/split/split_dim}}]]\n",
      "2024-07-31 17:25:33.380467: I tensorflow/core/common_runtime/executor.cc:1197] [/device:CPU:0] (DEBUG INFO) Executor start aborting (this does not indicate an error and you can ignore this message): INVALID_ARGUMENT: You must feed a value for placeholder tensor 'gradients/split_1_grad/concat/split_1/split_dim' with dtype int32\n",
      "\t [[{{node gradients/split_1_grad/concat/split_1/split_dim}}]]\n"
     ]
    }
   ],
   "source": [
    "model_2_saved = tf.keras.models.load_model('model_2.h5')\n",
    "\n",
    "model_3_saved = tf.keras.models.load_model('model_3.h5')\n",
    "model_3_b_saved = tf.keras.models.load_model('model_3_b.h5')\n",
    "model_3_c_saved = tf.keras.models.load_model('model_3_c.h5')\n",
    "model_3_d_saved = tf.keras.models.load_model('model_3_d.h5')\n",
    "model_3_e_saved = tf.keras.models.load_model('model_3_e.h5')\n",
    "model_3_dropout_saved = tf.keras.models.load_model('model_3_dp.h5')\n",
    "\n",
    "model_4_tanh_saved = tf.keras.models.load_model('model_4_tanh.h5')\n",
    "\n",
    "model_5_tanh_saved = tf.keras.models.load_model('model_5_tanh.h5')"
   ]
  },
  {
   "cell_type": "code",
   "execution_count": 79,
   "id": "45e1a068-d84d-4fae-9aaa-322f4dabc326",
   "metadata": {
    "tags": []
   },
   "outputs": [
    {
     "name": "stderr",
     "output_type": "stream",
     "text": [
      "2024-08-01 12:37:01.444014: I tensorflow/core/common_runtime/executor.cc:1197] [/device:CPU:0] (DEBUG INFO) Executor start aborting (this does not indicate an error and you can ignore this message): INVALID_ARGUMENT: You must feed a value for placeholder tensor 'gradients/split_2_grad/concat/split_2/split_dim' with dtype int32\n",
      "\t [[{{node gradients/split_2_grad/concat/split_2/split_dim}}]]\n",
      "2024-08-01 12:37:01.446195: I tensorflow/core/common_runtime/executor.cc:1197] [/device:CPU:0] (DEBUG INFO) Executor start aborting (this does not indicate an error and you can ignore this message): INVALID_ARGUMENT: You must feed a value for placeholder tensor 'gradients/split_grad/concat/split/split_dim' with dtype int32\n",
      "\t [[{{node gradients/split_grad/concat/split/split_dim}}]]\n",
      "2024-08-01 12:37:01.448980: I tensorflow/core/common_runtime/executor.cc:1197] [/device:CPU:0] (DEBUG INFO) Executor start aborting (this does not indicate an error and you can ignore this message): INVALID_ARGUMENT: You must feed a value for placeholder tensor 'gradients/split_1_grad/concat/split_1/split_dim' with dtype int32\n",
      "\t [[{{node gradients/split_1_grad/concat/split_1/split_dim}}]]\n",
      "2024-08-01 12:41:45.950419: I tensorflow/core/common_runtime/executor.cc:1197] [/device:CPU:0] (DEBUG INFO) Executor start aborting (this does not indicate an error and you can ignore this message): INVALID_ARGUMENT: You must feed a value for placeholder tensor 'gradients/split_2_grad/concat/split_2/split_dim' with dtype int32\n",
      "\t [[{{node gradients/split_2_grad/concat/split_2/split_dim}}]]\n",
      "2024-08-01 12:41:45.953899: I tensorflow/core/common_runtime/executor.cc:1197] [/device:CPU:0] (DEBUG INFO) Executor start aborting (this does not indicate an error and you can ignore this message): INVALID_ARGUMENT: You must feed a value for placeholder tensor 'gradients/split_grad/concat/split/split_dim' with dtype int32\n",
      "\t [[{{node gradients/split_grad/concat/split/split_dim}}]]\n",
      "2024-08-01 12:41:45.956414: I tensorflow/core/common_runtime/executor.cc:1197] [/device:CPU:0] (DEBUG INFO) Executor start aborting (this does not indicate an error and you can ignore this message): INVALID_ARGUMENT: You must feed a value for placeholder tensor 'gradients/split_1_grad/concat/split_1/split_dim' with dtype int32\n",
      "\t [[{{node gradients/split_1_grad/concat/split_1/split_dim}}]]\n",
      "2024-08-01 12:41:46.195244: I tensorflow/core/common_runtime/executor.cc:1197] [/device:CPU:0] (DEBUG INFO) Executor start aborting (this does not indicate an error and you can ignore this message): INVALID_ARGUMENT: You must feed a value for placeholder tensor 'gradients/ReverseV2_grad/ReverseV2/ReverseV2/axis' with dtype int32 and shape [1]\n",
      "\t [[{{node gradients/ReverseV2_grad/ReverseV2/ReverseV2/axis}}]]\n",
      "2024-08-01 12:41:46.293962: I tensorflow/core/common_runtime/executor.cc:1197] [/device:CPU:0] (DEBUG INFO) Executor start aborting (this does not indicate an error and you can ignore this message): INVALID_ARGUMENT: You must feed a value for placeholder tensor 'gradients/split_2_grad/concat/split_2/split_dim' with dtype int32\n",
      "\t [[{{node gradients/split_2_grad/concat/split_2/split_dim}}]]\n",
      "2024-08-01 12:41:46.296281: I tensorflow/core/common_runtime/executor.cc:1197] [/device:CPU:0] (DEBUG INFO) Executor start aborting (this does not indicate an error and you can ignore this message): INVALID_ARGUMENT: You must feed a value for placeholder tensor 'gradients/split_grad/concat/split/split_dim' with dtype int32\n",
      "\t [[{{node gradients/split_grad/concat/split/split_dim}}]]\n",
      "2024-08-01 12:41:46.298774: I tensorflow/core/common_runtime/executor.cc:1197] [/device:CPU:0] (DEBUG INFO) Executor start aborting (this does not indicate an error and you can ignore this message): INVALID_ARGUMENT: You must feed a value for placeholder tensor 'gradients/split_1_grad/concat/split_1/split_dim' with dtype int32\n",
      "\t [[{{node gradients/split_1_grad/concat/split_1/split_dim}}]]\n"
     ]
    }
   ],
   "source": [
    "model_2_eval = validate_model(model_2_saved ,vectorized_text, y_train, vectorized_text_val, y_val, vectorized_text_test, y_test)\n",
    "\n",
    "model_3_eval = validate_model(model_3_saved, vectorized_text, y_train, vectorized_text_val, y_val, vectorized_text_test, y_test)\n",
    "model_3_b_val = validate_model(model_3_b_saved, vectorized_text, y_train, vectorized_text_val, y_val, vectorized_text_test, y_test)\n",
    "model_3_c_val = validate_model(model_3_c_saved, vectorized_text, y_train, vectorized_text_val, y_val, vectorized_text_test, y_test)\n",
    "model_3_d_val = validate_model(model_3_d_saved, vectorized_text, y_train, vectorized_text_val, y_val, vectorized_text_test, y_test)\n",
    "model_3_e_val = validate_model(model_3_e_saved, vectorized_text, y_train, vectorized_text_val, y_val, vectorized_text_test, y_test)\n",
    "model_3_dropout_eval = validate_model(model_3_dropout_saved,vectorized_text, y_train, vectorized_text_val, y_val, vectorized_text_test, y_test)\n",
    "\n",
    "model_4_tanh_eval = validate_model(model_4_tanh_saved, vectorized_text, y_train, vectorized_text_val, y_val, vectorized_text_test, y_test)\n",
    "\n",
    "model_5_tanh_eval = validate_model(model_5_tanh_saved, vectorized_text, y_train, vectorized_text_val, y_val, vectorized_text_test, y_test)"
   ]
  },
  {
   "cell_type": "code",
   "execution_count": 52,
   "id": "54a8dfd1-4745-47a0-92b0-5331b1398942",
   "metadata": {
    "tags": []
   },
   "outputs": [
    {
     "data": {
      "text/html": [
       "<div>\n",
       "<style scoped>\n",
       "    .dataframe tbody tr th:only-of-type {\n",
       "        vertical-align: middle;\n",
       "    }\n",
       "\n",
       "    .dataframe tbody tr th {\n",
       "        vertical-align: top;\n",
       "    }\n",
       "\n",
       "    .dataframe thead th {\n",
       "        text-align: right;\n",
       "    }\n",
       "</style>\n",
       "<table border=\"1\" class=\"dataframe\">\n",
       "  <thead>\n",
       "    <tr style=\"text-align: right;\">\n",
       "      <th></th>\n",
       "      <th>mse</th>\n",
       "      <th>mae</th>\n",
       "      <th>acc</th>\n",
       "    </tr>\n",
       "  </thead>\n",
       "  <tbody>\n",
       "    <tr>\n",
       "      <th>train</th>\n",
       "      <td>0.860489</td>\n",
       "      <td>0.098758</td>\n",
       "      <td>0.0</td>\n",
       "    </tr>\n",
       "    <tr>\n",
       "      <th>val</th>\n",
       "      <td>0.609747</td>\n",
       "      <td>0.104846</td>\n",
       "      <td>0.0</td>\n",
       "    </tr>\n",
       "    <tr>\n",
       "      <th>test</th>\n",
       "      <td>0.284968</td>\n",
       "      <td>0.083762</td>\n",
       "      <td>0.0</td>\n",
       "    </tr>\n",
       "  </tbody>\n",
       "</table>\n",
       "</div>"
      ],
      "text/plain": [
       "            mse       mae  acc\n",
       "train  0.860489  0.098758  0.0\n",
       "val    0.609747  0.104846  0.0\n",
       "test   0.284968  0.083762  0.0"
      ]
     },
     "execution_count": 52,
     "metadata": {},
     "output_type": "execute_result"
    }
   ],
   "source": [
    "pd.DataFrame(model_2_eval).T"
   ]
  },
  {
   "cell_type": "code",
   "execution_count": 53,
   "id": "fef062d0-8daa-49cc-bf7f-f0bf9a6a9095",
   "metadata": {
    "tags": []
   },
   "outputs": [
    {
     "data": {
      "text/html": [
       "<div>\n",
       "<style scoped>\n",
       "    .dataframe tbody tr th:only-of-type {\n",
       "        vertical-align: middle;\n",
       "    }\n",
       "\n",
       "    .dataframe tbody tr th {\n",
       "        vertical-align: top;\n",
       "    }\n",
       "\n",
       "    .dataframe thead th {\n",
       "        text-align: right;\n",
       "    }\n",
       "</style>\n",
       "<table border=\"1\" class=\"dataframe\">\n",
       "  <thead>\n",
       "    <tr style=\"text-align: right;\">\n",
       "      <th></th>\n",
       "      <th>mse</th>\n",
       "      <th>mae</th>\n",
       "      <th>acc</th>\n",
       "    </tr>\n",
       "  </thead>\n",
       "  <tbody>\n",
       "    <tr>\n",
       "      <th>train</th>\n",
       "      <td>0.936278</td>\n",
       "      <td>0.088931</td>\n",
       "      <td>0.0</td>\n",
       "    </tr>\n",
       "    <tr>\n",
       "      <th>val</th>\n",
       "      <td>0.681571</td>\n",
       "      <td>0.096180</td>\n",
       "      <td>0.0</td>\n",
       "    </tr>\n",
       "    <tr>\n",
       "      <th>test</th>\n",
       "      <td>0.351257</td>\n",
       "      <td>0.070521</td>\n",
       "      <td>0.0</td>\n",
       "    </tr>\n",
       "  </tbody>\n",
       "</table>\n",
       "</div>"
      ],
      "text/plain": [
       "            mse       mae  acc\n",
       "train  0.936278  0.088931  0.0\n",
       "val    0.681571  0.096180  0.0\n",
       "test   0.351257  0.070521  0.0"
      ]
     },
     "execution_count": 53,
     "metadata": {},
     "output_type": "execute_result"
    }
   ],
   "source": [
    "pd.DataFrame(model_3_eval).T"
   ]
  },
  {
   "cell_type": "code",
   "execution_count": 54,
   "id": "228bb22d-2143-4d9a-b0ab-f4f55e9f5641",
   "metadata": {
    "tags": []
   },
   "outputs": [
    {
     "data": {
      "text/html": [
       "<div>\n",
       "<style scoped>\n",
       "    .dataframe tbody tr th:only-of-type {\n",
       "        vertical-align: middle;\n",
       "    }\n",
       "\n",
       "    .dataframe tbody tr th {\n",
       "        vertical-align: top;\n",
       "    }\n",
       "\n",
       "    .dataframe thead th {\n",
       "        text-align: right;\n",
       "    }\n",
       "</style>\n",
       "<table border=\"1\" class=\"dataframe\">\n",
       "  <thead>\n",
       "    <tr style=\"text-align: right;\">\n",
       "      <th></th>\n",
       "      <th>mse</th>\n",
       "      <th>mae</th>\n",
       "      <th>acc</th>\n",
       "    </tr>\n",
       "  </thead>\n",
       "  <tbody>\n",
       "    <tr>\n",
       "      <th>train</th>\n",
       "      <td>0.936278</td>\n",
       "      <td>0.088931</td>\n",
       "      <td>0.0</td>\n",
       "    </tr>\n",
       "    <tr>\n",
       "      <th>val</th>\n",
       "      <td>0.681571</td>\n",
       "      <td>0.096180</td>\n",
       "      <td>0.0</td>\n",
       "    </tr>\n",
       "    <tr>\n",
       "      <th>test</th>\n",
       "      <td>0.351257</td>\n",
       "      <td>0.070521</td>\n",
       "      <td>0.0</td>\n",
       "    </tr>\n",
       "  </tbody>\n",
       "</table>\n",
       "</div>"
      ],
      "text/plain": [
       "            mse       mae  acc\n",
       "train  0.936278  0.088931  0.0\n",
       "val    0.681571  0.096180  0.0\n",
       "test   0.351257  0.070521  0.0"
      ]
     },
     "execution_count": 54,
     "metadata": {},
     "output_type": "execute_result"
    }
   ],
   "source": [
    "pd.DataFrame(model_3_b_val).T"
   ]
  },
  {
   "cell_type": "code",
   "execution_count": 80,
   "id": "4f3c7680-75b8-4ddb-8b2e-5b3a035c93c5",
   "metadata": {},
   "outputs": [
    {
     "data": {
      "text/html": [
       "<div>\n",
       "<style scoped>\n",
       "    .dataframe tbody tr th:only-of-type {\n",
       "        vertical-align: middle;\n",
       "    }\n",
       "\n",
       "    .dataframe tbody tr th {\n",
       "        vertical-align: top;\n",
       "    }\n",
       "\n",
       "    .dataframe thead th {\n",
       "        text-align: right;\n",
       "    }\n",
       "</style>\n",
       "<table border=\"1\" class=\"dataframe\">\n",
       "  <thead>\n",
       "    <tr style=\"text-align: right;\">\n",
       "      <th></th>\n",
       "      <th>mse</th>\n",
       "      <th>mae</th>\n",
       "      <th>acc</th>\n",
       "    </tr>\n",
       "  </thead>\n",
       "  <tbody>\n",
       "    <tr>\n",
       "      <th>train</th>\n",
       "      <td>0.967674</td>\n",
       "      <td>0.110951</td>\n",
       "      <td>0.0</td>\n",
       "    </tr>\n",
       "    <tr>\n",
       "      <th>val</th>\n",
       "      <td>0.706946</td>\n",
       "      <td>0.118365</td>\n",
       "      <td>0.0</td>\n",
       "    </tr>\n",
       "    <tr>\n",
       "      <th>test</th>\n",
       "      <td>0.378608</td>\n",
       "      <td>0.091737</td>\n",
       "      <td>0.0</td>\n",
       "    </tr>\n",
       "  </tbody>\n",
       "</table>\n",
       "</div>"
      ],
      "text/plain": [
       "            mse       mae  acc\n",
       "train  0.967674  0.110951  0.0\n",
       "val    0.706946  0.118365  0.0\n",
       "test   0.378608  0.091737  0.0"
      ]
     },
     "execution_count": 80,
     "metadata": {},
     "output_type": "execute_result"
    }
   ],
   "source": [
    "pd.DataFrame(model_3_c_val).T"
   ]
  },
  {
   "cell_type": "code",
   "execution_count": 81,
   "id": "2dfd3266-707b-4c4a-9783-07f13a96c2ff",
   "metadata": {},
   "outputs": [
    {
     "data": {
      "text/html": [
       "<div>\n",
       "<style scoped>\n",
       "    .dataframe tbody tr th:only-of-type {\n",
       "        vertical-align: middle;\n",
       "    }\n",
       "\n",
       "    .dataframe tbody tr th {\n",
       "        vertical-align: top;\n",
       "    }\n",
       "\n",
       "    .dataframe thead th {\n",
       "        text-align: right;\n",
       "    }\n",
       "</style>\n",
       "<table border=\"1\" class=\"dataframe\">\n",
       "  <thead>\n",
       "    <tr style=\"text-align: right;\">\n",
       "      <th></th>\n",
       "      <th>mse</th>\n",
       "      <th>mae</th>\n",
       "      <th>acc</th>\n",
       "    </tr>\n",
       "  </thead>\n",
       "  <tbody>\n",
       "    <tr>\n",
       "      <th>train</th>\n",
       "      <td>0.967555</td>\n",
       "      <td>0.123531</td>\n",
       "      <td>0.0</td>\n",
       "    </tr>\n",
       "    <tr>\n",
       "      <th>val</th>\n",
       "      <td>0.705893</td>\n",
       "      <td>0.131465</td>\n",
       "      <td>0.0</td>\n",
       "    </tr>\n",
       "    <tr>\n",
       "      <th>test</th>\n",
       "      <td>0.378834</td>\n",
       "      <td>0.104127</td>\n",
       "      <td>0.0</td>\n",
       "    </tr>\n",
       "  </tbody>\n",
       "</table>\n",
       "</div>"
      ],
      "text/plain": [
       "            mse       mae  acc\n",
       "train  0.967555  0.123531  0.0\n",
       "val    0.705893  0.131465  0.0\n",
       "test   0.378834  0.104127  0.0"
      ]
     },
     "execution_count": 81,
     "metadata": {},
     "output_type": "execute_result"
    }
   ],
   "source": [
    "pd.DataFrame(model_3_d_val).T"
   ]
  },
  {
   "cell_type": "code",
   "execution_count": 84,
   "id": "428c420e-ed67-4497-be0d-27e3f24c534a",
   "metadata": {
    "tags": []
   },
   "outputs": [
    {
     "data": {
      "text/html": [
       "<div>\n",
       "<style scoped>\n",
       "    .dataframe tbody tr th:only-of-type {\n",
       "        vertical-align: middle;\n",
       "    }\n",
       "\n",
       "    .dataframe tbody tr th {\n",
       "        vertical-align: top;\n",
       "    }\n",
       "\n",
       "    .dataframe thead th {\n",
       "        text-align: right;\n",
       "    }\n",
       "</style>\n",
       "<table border=\"1\" class=\"dataframe\">\n",
       "  <thead>\n",
       "    <tr style=\"text-align: right;\">\n",
       "      <th></th>\n",
       "      <th>mse</th>\n",
       "      <th>mae</th>\n",
       "      <th>acc</th>\n",
       "    </tr>\n",
       "  </thead>\n",
       "  <tbody>\n",
       "    <tr>\n",
       "      <th>train</th>\n",
       "      <td>0.967551</td>\n",
       "      <td>0.135746</td>\n",
       "      <td>0.0</td>\n",
       "    </tr>\n",
       "    <tr>\n",
       "      <th>val</th>\n",
       "      <td>0.706304</td>\n",
       "      <td>0.142727</td>\n",
       "      <td>0.0</td>\n",
       "    </tr>\n",
       "    <tr>\n",
       "      <th>test</th>\n",
       "      <td>0.379708</td>\n",
       "      <td>0.116717</td>\n",
       "      <td>0.0</td>\n",
       "    </tr>\n",
       "  </tbody>\n",
       "</table>\n",
       "</div>"
      ],
      "text/plain": [
       "            mse       mae  acc\n",
       "train  0.967551  0.135746  0.0\n",
       "val    0.706304  0.142727  0.0\n",
       "test   0.379708  0.116717  0.0"
      ]
     },
     "execution_count": 84,
     "metadata": {},
     "output_type": "execute_result"
    }
   ],
   "source": [
    "pd.DataFrame(model_3_e_val).T"
   ]
  },
  {
   "cell_type": "code",
   "execution_count": 55,
   "id": "3ada56bb-a642-435f-aca8-9558a1dfa9bd",
   "metadata": {
    "tags": []
   },
   "outputs": [
    {
     "data": {
      "text/html": [
       "<div>\n",
       "<style scoped>\n",
       "    .dataframe tbody tr th:only-of-type {\n",
       "        vertical-align: middle;\n",
       "    }\n",
       "\n",
       "    .dataframe tbody tr th {\n",
       "        vertical-align: top;\n",
       "    }\n",
       "\n",
       "    .dataframe thead th {\n",
       "        text-align: right;\n",
       "    }\n",
       "</style>\n",
       "<table border=\"1\" class=\"dataframe\">\n",
       "  <thead>\n",
       "    <tr style=\"text-align: right;\">\n",
       "      <th></th>\n",
       "      <th>mse</th>\n",
       "      <th>mae</th>\n",
       "      <th>acc</th>\n",
       "    </tr>\n",
       "  </thead>\n",
       "  <tbody>\n",
       "    <tr>\n",
       "      <th>train</th>\n",
       "      <td>0.930402</td>\n",
       "      <td>0.131928</td>\n",
       "      <td>0.0</td>\n",
       "    </tr>\n",
       "    <tr>\n",
       "      <th>val</th>\n",
       "      <td>0.679076</td>\n",
       "      <td>0.138082</td>\n",
       "      <td>0.0</td>\n",
       "    </tr>\n",
       "    <tr>\n",
       "      <th>test</th>\n",
       "      <td>0.350863</td>\n",
       "      <td>0.113639</td>\n",
       "      <td>0.0</td>\n",
       "    </tr>\n",
       "  </tbody>\n",
       "</table>\n",
       "</div>"
      ],
      "text/plain": [
       "            mse       mae  acc\n",
       "train  0.930402  0.131928  0.0\n",
       "val    0.679076  0.138082  0.0\n",
       "test   0.350863  0.113639  0.0"
      ]
     },
     "execution_count": 55,
     "metadata": {},
     "output_type": "execute_result"
    }
   ],
   "source": [
    "pd.DataFrame(model_3_dropout_eval).T"
   ]
  },
  {
   "cell_type": "code",
   "execution_count": 56,
   "id": "a2ec268e-8a1a-427d-be19-ee8bd6ac12cd",
   "metadata": {
    "tags": []
   },
   "outputs": [
    {
     "data": {
      "text/html": [
       "<div>\n",
       "<style scoped>\n",
       "    .dataframe tbody tr th:only-of-type {\n",
       "        vertical-align: middle;\n",
       "    }\n",
       "\n",
       "    .dataframe tbody tr th {\n",
       "        vertical-align: top;\n",
       "    }\n",
       "\n",
       "    .dataframe thead th {\n",
       "        text-align: right;\n",
       "    }\n",
       "</style>\n",
       "<table border=\"1\" class=\"dataframe\">\n",
       "  <thead>\n",
       "    <tr style=\"text-align: right;\">\n",
       "      <th></th>\n",
       "      <th>mse</th>\n",
       "      <th>mae</th>\n",
       "      <th>acc</th>\n",
       "    </tr>\n",
       "  </thead>\n",
       "  <tbody>\n",
       "    <tr>\n",
       "      <th>train</th>\n",
       "      <td>0.967334</td>\n",
       "      <td>0.111757</td>\n",
       "      <td>0.0</td>\n",
       "    </tr>\n",
       "    <tr>\n",
       "      <th>val</th>\n",
       "      <td>0.706559</td>\n",
       "      <td>0.119283</td>\n",
       "      <td>0.0</td>\n",
       "    </tr>\n",
       "    <tr>\n",
       "      <th>test</th>\n",
       "      <td>0.378461</td>\n",
       "      <td>0.092595</td>\n",
       "      <td>0.0</td>\n",
       "    </tr>\n",
       "  </tbody>\n",
       "</table>\n",
       "</div>"
      ],
      "text/plain": [
       "            mse       mae  acc\n",
       "train  0.967334  0.111757  0.0\n",
       "val    0.706559  0.119283  0.0\n",
       "test   0.378461  0.092595  0.0"
      ]
     },
     "execution_count": 56,
     "metadata": {},
     "output_type": "execute_result"
    }
   ],
   "source": [
    "pd.DataFrame(model_4_tanh_eval).T"
   ]
  },
  {
   "cell_type": "code",
   "execution_count": 57,
   "id": "e3b99c47-4610-4842-b42a-da932976ba56",
   "metadata": {
    "tags": []
   },
   "outputs": [
    {
     "data": {
      "text/html": [
       "<div>\n",
       "<style scoped>\n",
       "    .dataframe tbody tr th:only-of-type {\n",
       "        vertical-align: middle;\n",
       "    }\n",
       "\n",
       "    .dataframe tbody tr th {\n",
       "        vertical-align: top;\n",
       "    }\n",
       "\n",
       "    .dataframe thead th {\n",
       "        text-align: right;\n",
       "    }\n",
       "</style>\n",
       "<table border=\"1\" class=\"dataframe\">\n",
       "  <thead>\n",
       "    <tr style=\"text-align: right;\">\n",
       "      <th></th>\n",
       "      <th>mse</th>\n",
       "      <th>mae</th>\n",
       "      <th>acc</th>\n",
       "    </tr>\n",
       "  </thead>\n",
       "  <tbody>\n",
       "    <tr>\n",
       "      <th>train</th>\n",
       "      <td>0.870323</td>\n",
       "      <td>0.103918</td>\n",
       "      <td>0.0</td>\n",
       "    </tr>\n",
       "    <tr>\n",
       "      <th>val</th>\n",
       "      <td>0.621942</td>\n",
       "      <td>0.113237</td>\n",
       "      <td>0.0</td>\n",
       "    </tr>\n",
       "    <tr>\n",
       "      <th>test</th>\n",
       "      <td>0.320861</td>\n",
       "      <td>0.091160</td>\n",
       "      <td>0.0</td>\n",
       "    </tr>\n",
       "  </tbody>\n",
       "</table>\n",
       "</div>"
      ],
      "text/plain": [
       "            mse       mae  acc\n",
       "train  0.870323  0.103918  0.0\n",
       "val    0.621942  0.113237  0.0\n",
       "test   0.320861  0.091160  0.0"
      ]
     },
     "execution_count": 57,
     "metadata": {},
     "output_type": "execute_result"
    }
   ],
   "source": [
    "pd.DataFrame(model_5_tanh_eval).T"
   ]
  },
  {
   "cell_type": "markdown",
   "id": "8572194e-771f-474f-8e8e-09ca6989c6fd",
   "metadata": {},
   "source": [
    "Model 2 performed the best in terms of validation dataset loss, which calculated as the mean squared error.\n",
    "\n",
    "Model 2 - Validation Loss after 5 Epochs - 2145500.25\n",
    "Model 3 - Validation Loss after 3 Epochs - 2365950.75\n",
    "Model 4 - Validation Loss after 4 Epochs - 2463587.00\n",
    "Model 5 - Validation Loss after 5 Epochs - 2465304.75"
   ]
  },
  {
   "cell_type": "code",
   "execution_count": null,
   "id": "c92526b5-d916-4ed2-bbc4-da13d0aaa816",
   "metadata": {},
   "outputs": [],
   "source": []
  },
  {
   "cell_type": "markdown",
   "id": "edb09a9e-c2f4-49e0-a86a-405e2cd31273",
   "metadata": {
    "jp-MarkdownHeadingCollapsed": true,
    "tags": []
   },
   "source": [
    "# End of file"
   ]
  },
  {
   "cell_type": "markdown",
   "id": "b7f819b9-4d42-4fbf-bf2d-c0ffd4809515",
   "metadata": {},
   "source": [
    "Sources:\n",
    "* https://stackoverflow.com/questions/73878049/how-do-you-convert-the-pandas-dataframe-to-tensorflow-python-data-ops-dataset-op"
   ]
  },
  {
   "cell_type": "code",
   "execution_count": null,
   "id": "eae9e68a-d697-4c41-b9c1-3dfaa36d33ba",
   "metadata": {},
   "outputs": [],
   "source": []
  }
 ],
 "metadata": {
  "kernelspec": {
   "display_name": "Python 3 (ipykernel)",
   "language": "python",
   "name": "python3"
  },
  "language_info": {
   "codemirror_mode": {
    "name": "ipython",
    "version": 3
   },
   "file_extension": ".py",
   "mimetype": "text/x-python",
   "name": "python",
   "nbconvert_exporter": "python",
   "pygments_lexer": "ipython3",
   "version": "3.11.5"
  }
 },
 "nbformat": 4,
 "nbformat_minor": 5
}
