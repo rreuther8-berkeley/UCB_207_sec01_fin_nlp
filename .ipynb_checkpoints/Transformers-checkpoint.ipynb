{
 "cells": [
  {
   "cell_type": "code",
<<<<<<< HEAD
   "execution_count": 24,
=======
   "execution_count": 1,
>>>>>>> 286acb0 (update transformers)
   "id": "5599963d-8a11-4889-8d29-e480df7e7153",
   "metadata": {},
   "outputs": [],
   "source": [
    "import pandas as pd\n",
    "import numpy as np\n",
    "import tensorflow as tf\n",
    "import matplotlib.pyplot as plt\n",
    "from tensorflow.keras import layers, Model\n",
    "from tensorflow.keras.preprocessing.text import Tokenizer\n",
    "from tensorflow.keras.preprocessing.sequence import pad_sequences"
   ]
  },
  {
   "cell_type": "code",
   "execution_count": 2,
   "id": "91bc3f21-d27f-4a5b-8946-4f03078cf187",
   "metadata": {},
   "outputs": [],
   "source": [
    "#pip install transformers tensorflow"
   ]
  },
  {
   "cell_type": "code",
   "execution_count": 3,
   "id": "1c11dda4-56d0-4fe6-9288-293ee58170a2",
   "metadata": {},
   "outputs": [
    {
     "name": "stdout",
     "output_type": "stream",
     "text": [
      "X_train shape: (29574, 32)\n",
      "y_train shape: (29574, 1)\n",
      "X_val shape: (6337, 32)\n",
      "y_val shape: (6337, 1)\n",
      "X_test shape: (6338, 32)\n",
      "y_test shape: (6338, 1)\n"
     ]
    }
   ],
   "source": [
    "# Step 1: Load data\n",
    "data_path = \"./data/final/\"\n",
    "X_train = pd.read_csv(data_path + \"X_train.csv\")\n",
    "y_train = pd.read_csv(data_path + \"y_train.csv\")\n",
    "X_val = pd.read_csv(data_path + \"X_val.csv\")\n",
    "y_val = pd.read_csv(data_path + \"y_val.csv\")\n",
    "X_test = pd.read_csv(data_path + \"X_test.csv\")\n",
    "y_test = pd.read_csv(data_path + \"y_test.csv\")\n",
    "\n",
    "print(f\"X_train shape: {X_train.shape}\")\n",
    "print(f\"y_train shape: {y_train.shape}\")\n",
    "print(f\"X_val shape: {X_val.shape}\")\n",
    "print(f\"y_val shape: {y_val.shape}\")\n",
    "print(f\"X_test shape: {X_test.shape}\")\n",
    "print(f\"y_test shape: {y_test.shape}\")"
   ]
  },
  {
   "cell_type": "code",
   "execution_count": 4,
   "id": "7c2cbd56-6900-41ee-b0bb-af0d89ed900b",
   "metadata": {},
   "outputs": [
    {
     "name": "stdout",
     "output_type": "stream",
     "text": [
      "X_train_padded shape: (29574, 256)\n",
      "X_val_padded shape: (6337, 256)\n",
      "X_test_padded shape: (6338, 256)\n",
      "y_train shape: (29574,)\n",
      "y_val shape: (6337,)\n",
      "y_test shape: (6338,)\n"
     ]
    }
   ],
   "source": [
    "# Step 2: Preprocess Data\n",
    "# Tokenization\n",
    "max_vocab_size = 10000\n",
    "maxlen = 256\n",
    "tokenizer = Tokenizer(num_words=max_vocab_size)\n",
    "\n",
    "# Fit the tokenizer on the training text\n",
    "tokenizer.fit_on_texts(X_train['fulltext'])\n",
    "\n",
    "# Convert text to sequences\n",
    "X_train_sequences = tokenizer.texts_to_sequences(X_train['fulltext'])\n",
    "X_val_sequences = tokenizer.texts_to_sequences(X_val['fulltext'])\n",
    "X_test_sequences = tokenizer.texts_to_sequences(X_test['fulltext'])\n",
    "\n",
    "# Pad sequences to ensure uniform length\n",
    "X_train_padded = pad_sequences(X_train_sequences, maxlen=maxlen, padding='post')\n",
    "X_val_padded = pad_sequences(X_val_sequences, maxlen=maxlen, padding='post')\n",
    "X_test_padded = pad_sequences(X_test_sequences, maxlen=maxlen, padding='post')\n",
    "\n",
    "# Ensure labels have the correct shape for regression\n",
    "y_train = y_train['engagement_score_std'].values if isinstance(y_train, pd.DataFrame) else y_train\n",
    "y_val = y_val['engagement_score_std'].values if isinstance(y_val, pd.DataFrame) else y_val\n",
    "y_test = y_test['engagement_score_std'].values if isinstance(y_test, pd.DataFrame) else y_test\n",
    "\n",
    "print(f\"X_train_padded shape: {X_train_padded.shape}\")\n",
    "print(f\"X_val_padded shape: {X_val_padded.shape}\")\n",
    "print(f\"X_test_padded shape: {X_test_padded.shape}\")\n",
    "print(f\"y_train shape: {y_train.shape}\")\n",
    "print(f\"y_val shape: {y_val.shape}\")\n",
    "print(f\"y_test shape: {y_test.shape}\")"
   ]
  },
  {
   "cell_type": "code",
   "execution_count": 5,
   "id": "92eac2f4-4cb8-48b1-8f57-33b1112c89d5",
   "metadata": {},
   "outputs": [
    {
     "data": {
      "text/plain": [
       "0.8404030304190966"
      ]
     },
     "execution_count": 5,
     "metadata": {},
     "output_type": "execute_result"
    }
   ],
   "source": [
    "y_val.std()"
   ]
  },
  {
   "cell_type": "code",
   "execution_count": 6,
   "id": "5e5afbdf-49e7-4a28-a32d-bf35ee551387",
   "metadata": {},
   "outputs": [],
   "source": [
    "# Create TensorFlow Datasets\n",
    "batch_size = 32\n",
    "train_ds = tf.data.Dataset.from_tensor_slices((X_train_padded, y_train)).batch(batch_size)\n",
    "val_ds = tf.data.Dataset.from_tensor_slices((X_val_padded, y_val)).batch(batch_size)\n",
    "test_ds = tf.data.Dataset.from_tensor_slices((X_test_padded, y_test)).batch(batch_size)"
   ]
  },
  {
   "cell_type": "code",
   "execution_count": 7,
   "id": "b8471f88-f326-423c-a580-1632159f76a1",
   "metadata": {},
   "outputs": [
    {
     "data": {
      "text/html": [
       "<pre style=\"white-space:pre;overflow-x:auto;line-height:normal;font-family:Menlo,'DejaVu Sans Mono',consolas,'Courier New',monospace\"><span style=\"font-weight: bold\">Model: \"functional_1\"</span>\n",
       "</pre>\n"
      ],
      "text/plain": [
       "\u001b[1mModel: \"functional_1\"\u001b[0m\n"
      ]
     },
     "metadata": {},
     "output_type": "display_data"
    },
    {
     "data": {
      "text/html": [
       "<pre style=\"white-space:pre;overflow-x:auto;line-height:normal;font-family:Menlo,'DejaVu Sans Mono',consolas,'Courier New',monospace\">┏━━━━━━━━━━━━━━━━━━━━━━━━━━━━━━━━━┳━━━━━━━━━━━━━━━━━━━━━━━━┳━━━━━━━━━━━━━━━┓\n",
       "┃<span style=\"font-weight: bold\"> Layer (type)                    </span>┃<span style=\"font-weight: bold\"> Output Shape           </span>┃<span style=\"font-weight: bold\">       Param # </span>┃\n",
       "┡━━━━━━━━━━━━━━━━━━━━━━━━━━━━━━━━━╇━━━━━━━━━━━━━━━━━━━━━━━━╇━━━━━━━━━━━━━━━┩\n",
       "│ encoder_inputs (<span style=\"color: #0087ff; text-decoration-color: #0087ff\">InputLayer</span>)     │ (<span style=\"color: #00d7ff; text-decoration-color: #00d7ff\">None</span>, <span style=\"color: #00af00; text-decoration-color: #00af00\">256</span>)            │             <span style=\"color: #00af00; text-decoration-color: #00af00\">0</span> │\n",
       "├─────────────────────────────────┼────────────────────────┼───────────────┤\n",
       "│ positional_embedding            │ (<span style=\"color: #00d7ff; text-decoration-color: #00d7ff\">None</span>, <span style=\"color: #00af00; text-decoration-color: #00af00\">256</span>, <span style=\"color: #00af00; text-decoration-color: #00af00\">256</span>)       │     <span style=\"color: #00af00; text-decoration-color: #00af00\">2,625,536</span> │\n",
       "│ (<span style=\"color: #0087ff; text-decoration-color: #0087ff\">PositionalEmbedding</span>)           │                        │               │\n",
       "├─────────────────────────────────┼────────────────────────┼───────────────┤\n",
       "│ transformer_encoder             │ (<span style=\"color: #00d7ff; text-decoration-color: #00d7ff\">None</span>, <span style=\"color: #00af00; text-decoration-color: #00af00\">256</span>, <span style=\"color: #00af00; text-decoration-color: #00af00\">256</span>)       │     <span style=\"color: #00af00; text-decoration-color: #00af00\">3,155,456</span> │\n",
       "│ (<span style=\"color: #0087ff; text-decoration-color: #0087ff\">TransformerEncoder</span>)            │                        │               │\n",
       "├─────────────────────────────────┼────────────────────────┼───────────────┤\n",
       "│ get_item (<span style=\"color: #0087ff; text-decoration-color: #0087ff\">GetItem</span>)              │ (<span style=\"color: #00d7ff; text-decoration-color: #00d7ff\">None</span>, <span style=\"color: #00af00; text-decoration-color: #00af00\">256</span>)            │             <span style=\"color: #00af00; text-decoration-color: #00af00\">0</span> │\n",
       "├─────────────────────────────────┼────────────────────────┼───────────────┤\n",
       "│ dense_2 (<span style=\"color: #0087ff; text-decoration-color: #0087ff\">Dense</span>)                 │ (<span style=\"color: #00d7ff; text-decoration-color: #00d7ff\">None</span>, <span style=\"color: #00af00; text-decoration-color: #00af00\">1</span>)              │           <span style=\"color: #00af00; text-decoration-color: #00af00\">257</span> │\n",
       "└─────────────────────────────────┴────────────────────────┴───────────────┘\n",
       "</pre>\n"
      ],
      "text/plain": [
       "┏━━━━━━━━━━━━━━━━━━━━━━━━━━━━━━━━━┳━━━━━━━━━━━━━━━━━━━━━━━━┳━━━━━━━━━━━━━━━┓\n",
       "┃\u001b[1m \u001b[0m\u001b[1mLayer (type)                   \u001b[0m\u001b[1m \u001b[0m┃\u001b[1m \u001b[0m\u001b[1mOutput Shape          \u001b[0m\u001b[1m \u001b[0m┃\u001b[1m \u001b[0m\u001b[1m      Param #\u001b[0m\u001b[1m \u001b[0m┃\n",
       "┡━━━━━━━━━━━━━━━━━━━━━━━━━━━━━━━━━╇━━━━━━━━━━━━━━━━━━━━━━━━╇━━━━━━━━━━━━━━━┩\n",
       "│ encoder_inputs (\u001b[38;5;33mInputLayer\u001b[0m)     │ (\u001b[38;5;45mNone\u001b[0m, \u001b[38;5;34m256\u001b[0m)            │             \u001b[38;5;34m0\u001b[0m │\n",
       "├─────────────────────────────────┼────────────────────────┼───────────────┤\n",
       "│ positional_embedding            │ (\u001b[38;5;45mNone\u001b[0m, \u001b[38;5;34m256\u001b[0m, \u001b[38;5;34m256\u001b[0m)       │     \u001b[38;5;34m2,625,536\u001b[0m │\n",
       "│ (\u001b[38;5;33mPositionalEmbedding\u001b[0m)           │                        │               │\n",
       "├─────────────────────────────────┼────────────────────────┼───────────────┤\n",
       "│ transformer_encoder             │ (\u001b[38;5;45mNone\u001b[0m, \u001b[38;5;34m256\u001b[0m, \u001b[38;5;34m256\u001b[0m)       │     \u001b[38;5;34m3,155,456\u001b[0m │\n",
       "│ (\u001b[38;5;33mTransformerEncoder\u001b[0m)            │                        │               │\n",
       "├─────────────────────────────────┼────────────────────────┼───────────────┤\n",
       "│ get_item (\u001b[38;5;33mGetItem\u001b[0m)              │ (\u001b[38;5;45mNone\u001b[0m, \u001b[38;5;34m256\u001b[0m)            │             \u001b[38;5;34m0\u001b[0m │\n",
       "├─────────────────────────────────┼────────────────────────┼───────────────┤\n",
       "│ dense_2 (\u001b[38;5;33mDense\u001b[0m)                 │ (\u001b[38;5;45mNone\u001b[0m, \u001b[38;5;34m1\u001b[0m)              │           \u001b[38;5;34m257\u001b[0m │\n",
       "└─────────────────────────────────┴────────────────────────┴───────────────┘\n"
      ]
     },
     "metadata": {},
     "output_type": "display_data"
    },
    {
     "data": {
      "text/html": [
       "<pre style=\"white-space:pre;overflow-x:auto;line-height:normal;font-family:Menlo,'DejaVu Sans Mono',consolas,'Courier New',monospace\"><span style=\"font-weight: bold\"> Total params: </span><span style=\"color: #00af00; text-decoration-color: #00af00\">5,781,249</span> (22.05 MB)\n",
       "</pre>\n"
      ],
      "text/plain": [
       "\u001b[1m Total params: \u001b[0m\u001b[38;5;34m5,781,249\u001b[0m (22.05 MB)\n"
      ]
     },
     "metadata": {},
     "output_type": "display_data"
    },
    {
     "data": {
      "text/html": [
       "<pre style=\"white-space:pre;overflow-x:auto;line-height:normal;font-family:Menlo,'DejaVu Sans Mono',consolas,'Courier New',monospace\"><span style=\"font-weight: bold\"> Trainable params: </span><span style=\"color: #00af00; text-decoration-color: #00af00\">5,781,249</span> (22.05 MB)\n",
       "</pre>\n"
      ],
      "text/plain": [
       "\u001b[1m Trainable params: \u001b[0m\u001b[38;5;34m5,781,249\u001b[0m (22.05 MB)\n"
      ]
     },
     "metadata": {},
     "output_type": "display_data"
    },
    {
     "data": {
      "text/html": [
       "<pre style=\"white-space:pre;overflow-x:auto;line-height:normal;font-family:Menlo,'DejaVu Sans Mono',consolas,'Courier New',monospace\"><span style=\"font-weight: bold\"> Non-trainable params: </span><span style=\"color: #00af00; text-decoration-color: #00af00\">0</span> (0.00 B)\n",
       "</pre>\n"
      ],
      "text/plain": [
       "\u001b[1m Non-trainable params: \u001b[0m\u001b[38;5;34m0\u001b[0m (0.00 B)\n"
      ]
     },
     "metadata": {},
     "output_type": "display_data"
    }
   ],
   "source": [
    "# Step 3: Define the model\n",
    "class PositionalEmbedding(layers.Layer):\n",
    "    def __init__(self, sequence_length, input_dim, output_dim, **kwargs):\n",
    "        super().__init__(**kwargs)\n",
    "        self.token_embeddings = layers.Embedding(input_dim=input_dim, output_dim=output_dim)\n",
    "        self.position_embeddings = layers.Embedding(input_dim=sequence_length, output_dim=output_dim)\n",
    "        self.sequence_length = sequence_length\n",
    "        self.input_dim = input_dim\n",
    "        self.output_dim = output_dim\n",
    "\n",
    "    def call(self, inputs):\n",
    "        length = tf.shape(inputs)[-1]\n",
    "        positions = tf.range(start=0, limit=length, delta=1)\n",
    "        embedded_tokens = self.token_embeddings(inputs)\n",
    "        embedded_positions = self.position_embeddings(positions)\n",
    "        return embedded_tokens + embedded_positions\n",
    "\n",
    "class TransformerEncoder(layers.Layer):\n",
    "    def __init__(self, embed_dim, dense_dim, num_heads, **kwargs):\n",
    "        super().__init__(**kwargs)\n",
    "        self.embed_dim = embed_dim\n",
    "        self.dense_dim = dense_dim\n",
    "        self.num_heads = num_heads\n",
    "        self.attention = layers.MultiHeadAttention(num_heads=num_heads, key_dim=embed_dim)\n",
    "        self.dense_proj = tf.keras.Sequential([layers.Dense(dense_dim, activation=\"relu\"), layers.Dense(embed_dim)])\n",
    "        self.layernorm_1 = layers.LayerNormalization()\n",
    "        self.layernorm_2 = layers.LayerNormalization()\n",
    "\n",
    "    def call(self, inputs, mask=None):\n",
    "        if mask is not None:\n",
    "            mask = mask[:, tf.newaxis, :]\n",
    "        attention_output = self.attention(inputs, inputs, attention_mask=mask)\n",
    "        proj_input = self.layernorm_1(inputs + attention_output)\n",
    "        proj_output = self.dense_proj(proj_input)\n",
    "        return self.layernorm_2(proj_input + proj_output)\n",
    "\n",
    "# Define constants\n",
    "embed_dim = 256\n",
    "dense_dim = 2048\n",
    "num_heads = 8\n",
    "vocab_size = 10000\n",
    "sequence_length = 256\n",
    "\n",
    "# Define model inputs\n",
    "encoder_inputs = tf.keras.Input(shape=(sequence_length,), dtype=\"int64\", name=\"encoder_inputs\")\n",
    "\n",
    "# Define positional embeddings\n",
    "encoder_embeddings = PositionalEmbedding(sequence_length, vocab_size, embed_dim)(encoder_inputs)\n",
    "\n",
    "# Define transformer encoder\n",
    "encoder_outputs = TransformerEncoder(embed_dim, dense_dim, num_heads)(encoder_embeddings)\n",
    "\n",
    "# Define model outputs for regression\n",
    "outputs = layers.Dense(1)(encoder_outputs[:, 0, :])\n",
    "\n",
    "# Define the model\n",
    "transformer = Model(encoder_inputs, outputs)\n",
    "\n",
    "# Compile the model\n",
    "transformer.compile(optimizer=\"adam\", loss=\"mean_squared_error\", metrics=[\"mae\"])\n",
    "\n",
    "# Print the model summary\n",
    "transformer.summary()"
   ]
  },
  {
   "cell_type": "code",
<<<<<<< HEAD
=======
   "execution_count": 8,
   "id": "4577d30b-70cf-4fa9-9609-fb7164ec6d1d",
   "metadata": {},
   "outputs": [
    {
     "name": "stdout",
     "output_type": "stream",
     "text": [
      "Epoch 1/20\n",
      "\u001b[1m925/925\u001b[0m \u001b[32m━━━━━━━━━━━━━━━━━━━━\u001b[0m\u001b[37m\u001b[0m \u001b[1m577s\u001b[0m 623ms/step - loss: 3.0620 - mae: 0.4699 - val_loss: 0.6198 - val_mae: 0.1755\n",
      "Epoch 2/20\n",
      "\u001b[1m351/925\u001b[0m \u001b[32m━━━━━━━\u001b[0m\u001b[37m━━━━━━━━━━━━━\u001b[0m \u001b[1m5:30\u001b[0m 577ms/step - loss: 1.8635 - mae: 0.2245"
     ]
    },
    {
     "ename": "KeyboardInterrupt",
     "evalue": "",
     "output_type": "error",
     "traceback": [
      "\u001b[0;31m---------------------------------------------------------------------------\u001b[0m",
      "\u001b[0;31mKeyboardInterrupt\u001b[0m                         Traceback (most recent call last)",
      "Cell \u001b[0;32mIn[8], line 10\u001b[0m\n\u001b[1;32m      3\u001b[0m early_stopping \u001b[38;5;241m=\u001b[39m tf\u001b[38;5;241m.\u001b[39mkeras\u001b[38;5;241m.\u001b[39mcallbacks\u001b[38;5;241m.\u001b[39mEarlyStopping(\n\u001b[1;32m      4\u001b[0m     monitor\u001b[38;5;241m=\u001b[39m\u001b[38;5;124m'\u001b[39m\u001b[38;5;124mval_mae\u001b[39m\u001b[38;5;124m'\u001b[39m,\n\u001b[1;32m      5\u001b[0m     patience\u001b[38;5;241m=\u001b[39m\u001b[38;5;241m3\u001b[39m,\n\u001b[1;32m      6\u001b[0m     restore_best_weights\u001b[38;5;241m=\u001b[39m\u001b[38;5;28;01mTrue\u001b[39;00m\n\u001b[1;32m      7\u001b[0m )\n\u001b[1;32m      9\u001b[0m \u001b[38;5;66;03m# Train the model\u001b[39;00m\n\u001b[0;32m---> 10\u001b[0m history \u001b[38;5;241m=\u001b[39m transformer\u001b[38;5;241m.\u001b[39mfit(train_ds, epochs\u001b[38;5;241m=\u001b[39m\u001b[38;5;241m20\u001b[39m, validation_data\u001b[38;5;241m=\u001b[39mval_ds, callbacks\u001b[38;5;241m=\u001b[39m[early_stopping])\n",
      "File \u001b[0;32m/opt/anaconda3/lib/python3.12/site-packages/keras/src/utils/traceback_utils.py:117\u001b[0m, in \u001b[0;36mfilter_traceback.<locals>.error_handler\u001b[0;34m(*args, **kwargs)\u001b[0m\n\u001b[1;32m    115\u001b[0m filtered_tb \u001b[38;5;241m=\u001b[39m \u001b[38;5;28;01mNone\u001b[39;00m\n\u001b[1;32m    116\u001b[0m \u001b[38;5;28;01mtry\u001b[39;00m:\n\u001b[0;32m--> 117\u001b[0m     \u001b[38;5;28;01mreturn\u001b[39;00m fn(\u001b[38;5;241m*\u001b[39margs, \u001b[38;5;241m*\u001b[39m\u001b[38;5;241m*\u001b[39mkwargs)\n\u001b[1;32m    118\u001b[0m \u001b[38;5;28;01mexcept\u001b[39;00m \u001b[38;5;167;01mException\u001b[39;00m \u001b[38;5;28;01mas\u001b[39;00m e:\n\u001b[1;32m    119\u001b[0m     filtered_tb \u001b[38;5;241m=\u001b[39m _process_traceback_frames(e\u001b[38;5;241m.\u001b[39m__traceback__)\n",
      "File \u001b[0;32m/opt/anaconda3/lib/python3.12/site-packages/keras/src/backend/tensorflow/trainer.py:318\u001b[0m, in \u001b[0;36mTensorFlowTrainer.fit\u001b[0;34m(self, x, y, batch_size, epochs, verbose, callbacks, validation_split, validation_data, shuffle, class_weight, sample_weight, initial_epoch, steps_per_epoch, validation_steps, validation_batch_size, validation_freq)\u001b[0m\n\u001b[1;32m    316\u001b[0m \u001b[38;5;28;01mfor\u001b[39;00m step, iterator \u001b[38;5;129;01min\u001b[39;00m epoch_iterator\u001b[38;5;241m.\u001b[39menumerate_epoch():\n\u001b[1;32m    317\u001b[0m     callbacks\u001b[38;5;241m.\u001b[39mon_train_batch_begin(step)\n\u001b[0;32m--> 318\u001b[0m     logs \u001b[38;5;241m=\u001b[39m \u001b[38;5;28mself\u001b[39m\u001b[38;5;241m.\u001b[39mtrain_function(iterator)\n\u001b[1;32m    319\u001b[0m     logs \u001b[38;5;241m=\u001b[39m \u001b[38;5;28mself\u001b[39m\u001b[38;5;241m.\u001b[39m_pythonify_logs(logs)\n\u001b[1;32m    320\u001b[0m     callbacks\u001b[38;5;241m.\u001b[39mon_train_batch_end(step, logs)\n",
      "File \u001b[0;32m/opt/anaconda3/lib/python3.12/site-packages/tensorflow/python/util/traceback_utils.py:150\u001b[0m, in \u001b[0;36mfilter_traceback.<locals>.error_handler\u001b[0;34m(*args, **kwargs)\u001b[0m\n\u001b[1;32m    148\u001b[0m filtered_tb \u001b[38;5;241m=\u001b[39m \u001b[38;5;28;01mNone\u001b[39;00m\n\u001b[1;32m    149\u001b[0m \u001b[38;5;28;01mtry\u001b[39;00m:\n\u001b[0;32m--> 150\u001b[0m   \u001b[38;5;28;01mreturn\u001b[39;00m fn(\u001b[38;5;241m*\u001b[39margs, \u001b[38;5;241m*\u001b[39m\u001b[38;5;241m*\u001b[39mkwargs)\n\u001b[1;32m    151\u001b[0m \u001b[38;5;28;01mexcept\u001b[39;00m \u001b[38;5;167;01mException\u001b[39;00m \u001b[38;5;28;01mas\u001b[39;00m e:\n\u001b[1;32m    152\u001b[0m   filtered_tb \u001b[38;5;241m=\u001b[39m _process_traceback_frames(e\u001b[38;5;241m.\u001b[39m__traceback__)\n",
      "File \u001b[0;32m/opt/anaconda3/lib/python3.12/site-packages/tensorflow/python/eager/polymorphic_function/polymorphic_function.py:833\u001b[0m, in \u001b[0;36mFunction.__call__\u001b[0;34m(self, *args, **kwds)\u001b[0m\n\u001b[1;32m    830\u001b[0m compiler \u001b[38;5;241m=\u001b[39m \u001b[38;5;124m\"\u001b[39m\u001b[38;5;124mxla\u001b[39m\u001b[38;5;124m\"\u001b[39m \u001b[38;5;28;01mif\u001b[39;00m \u001b[38;5;28mself\u001b[39m\u001b[38;5;241m.\u001b[39m_jit_compile \u001b[38;5;28;01melse\u001b[39;00m \u001b[38;5;124m\"\u001b[39m\u001b[38;5;124mnonXla\u001b[39m\u001b[38;5;124m\"\u001b[39m\n\u001b[1;32m    832\u001b[0m \u001b[38;5;28;01mwith\u001b[39;00m OptionalXlaContext(\u001b[38;5;28mself\u001b[39m\u001b[38;5;241m.\u001b[39m_jit_compile):\n\u001b[0;32m--> 833\u001b[0m   result \u001b[38;5;241m=\u001b[39m \u001b[38;5;28mself\u001b[39m\u001b[38;5;241m.\u001b[39m_call(\u001b[38;5;241m*\u001b[39margs, \u001b[38;5;241m*\u001b[39m\u001b[38;5;241m*\u001b[39mkwds)\n\u001b[1;32m    835\u001b[0m new_tracing_count \u001b[38;5;241m=\u001b[39m \u001b[38;5;28mself\u001b[39m\u001b[38;5;241m.\u001b[39mexperimental_get_tracing_count()\n\u001b[1;32m    836\u001b[0m without_tracing \u001b[38;5;241m=\u001b[39m (tracing_count \u001b[38;5;241m==\u001b[39m new_tracing_count)\n",
      "File \u001b[0;32m/opt/anaconda3/lib/python3.12/site-packages/tensorflow/python/eager/polymorphic_function/polymorphic_function.py:878\u001b[0m, in \u001b[0;36mFunction._call\u001b[0;34m(self, *args, **kwds)\u001b[0m\n\u001b[1;32m    875\u001b[0m \u001b[38;5;28mself\u001b[39m\u001b[38;5;241m.\u001b[39m_lock\u001b[38;5;241m.\u001b[39mrelease()\n\u001b[1;32m    876\u001b[0m \u001b[38;5;66;03m# In this case we have not created variables on the first call. So we can\u001b[39;00m\n\u001b[1;32m    877\u001b[0m \u001b[38;5;66;03m# run the first trace but we should fail if variables are created.\u001b[39;00m\n\u001b[0;32m--> 878\u001b[0m results \u001b[38;5;241m=\u001b[39m tracing_compilation\u001b[38;5;241m.\u001b[39mcall_function(\n\u001b[1;32m    879\u001b[0m     args, kwds, \u001b[38;5;28mself\u001b[39m\u001b[38;5;241m.\u001b[39m_variable_creation_config\n\u001b[1;32m    880\u001b[0m )\n\u001b[1;32m    881\u001b[0m \u001b[38;5;28;01mif\u001b[39;00m \u001b[38;5;28mself\u001b[39m\u001b[38;5;241m.\u001b[39m_created_variables:\n\u001b[1;32m    882\u001b[0m   \u001b[38;5;28;01mraise\u001b[39;00m \u001b[38;5;167;01mValueError\u001b[39;00m(\u001b[38;5;124m\"\u001b[39m\u001b[38;5;124mCreating variables on a non-first call to a function\u001b[39m\u001b[38;5;124m\"\u001b[39m\n\u001b[1;32m    883\u001b[0m                    \u001b[38;5;124m\"\u001b[39m\u001b[38;5;124m decorated with tf.function.\u001b[39m\u001b[38;5;124m\"\u001b[39m)\n",
      "File \u001b[0;32m/opt/anaconda3/lib/python3.12/site-packages/tensorflow/python/eager/polymorphic_function/tracing_compilation.py:139\u001b[0m, in \u001b[0;36mcall_function\u001b[0;34m(args, kwargs, tracing_options)\u001b[0m\n\u001b[1;32m    137\u001b[0m bound_args \u001b[38;5;241m=\u001b[39m function\u001b[38;5;241m.\u001b[39mfunction_type\u001b[38;5;241m.\u001b[39mbind(\u001b[38;5;241m*\u001b[39margs, \u001b[38;5;241m*\u001b[39m\u001b[38;5;241m*\u001b[39mkwargs)\n\u001b[1;32m    138\u001b[0m flat_inputs \u001b[38;5;241m=\u001b[39m function\u001b[38;5;241m.\u001b[39mfunction_type\u001b[38;5;241m.\u001b[39munpack_inputs(bound_args)\n\u001b[0;32m--> 139\u001b[0m \u001b[38;5;28;01mreturn\u001b[39;00m function\u001b[38;5;241m.\u001b[39m_call_flat(  \u001b[38;5;66;03m# pylint: disable=protected-access\u001b[39;00m\n\u001b[1;32m    140\u001b[0m     flat_inputs, captured_inputs\u001b[38;5;241m=\u001b[39mfunction\u001b[38;5;241m.\u001b[39mcaptured_inputs\n\u001b[1;32m    141\u001b[0m )\n",
      "File \u001b[0;32m/opt/anaconda3/lib/python3.12/site-packages/tensorflow/python/eager/polymorphic_function/concrete_function.py:1322\u001b[0m, in \u001b[0;36mConcreteFunction._call_flat\u001b[0;34m(self, tensor_inputs, captured_inputs)\u001b[0m\n\u001b[1;32m   1318\u001b[0m possible_gradient_type \u001b[38;5;241m=\u001b[39m gradients_util\u001b[38;5;241m.\u001b[39mPossibleTapeGradientTypes(args)\n\u001b[1;32m   1319\u001b[0m \u001b[38;5;28;01mif\u001b[39;00m (possible_gradient_type \u001b[38;5;241m==\u001b[39m gradients_util\u001b[38;5;241m.\u001b[39mPOSSIBLE_GRADIENT_TYPES_NONE\n\u001b[1;32m   1320\u001b[0m     \u001b[38;5;129;01mand\u001b[39;00m executing_eagerly):\n\u001b[1;32m   1321\u001b[0m   \u001b[38;5;66;03m# No tape is watching; skip to running the function.\u001b[39;00m\n\u001b[0;32m-> 1322\u001b[0m   \u001b[38;5;28;01mreturn\u001b[39;00m \u001b[38;5;28mself\u001b[39m\u001b[38;5;241m.\u001b[39m_inference_function\u001b[38;5;241m.\u001b[39mcall_preflattened(args)\n\u001b[1;32m   1323\u001b[0m forward_backward \u001b[38;5;241m=\u001b[39m \u001b[38;5;28mself\u001b[39m\u001b[38;5;241m.\u001b[39m_select_forward_and_backward_functions(\n\u001b[1;32m   1324\u001b[0m     args,\n\u001b[1;32m   1325\u001b[0m     possible_gradient_type,\n\u001b[1;32m   1326\u001b[0m     executing_eagerly)\n\u001b[1;32m   1327\u001b[0m forward_function, args_with_tangents \u001b[38;5;241m=\u001b[39m forward_backward\u001b[38;5;241m.\u001b[39mforward()\n",
      "File \u001b[0;32m/opt/anaconda3/lib/python3.12/site-packages/tensorflow/python/eager/polymorphic_function/atomic_function.py:216\u001b[0m, in \u001b[0;36mAtomicFunction.call_preflattened\u001b[0;34m(self, args)\u001b[0m\n\u001b[1;32m    214\u001b[0m \u001b[38;5;28;01mdef\u001b[39;00m \u001b[38;5;21mcall_preflattened\u001b[39m(\u001b[38;5;28mself\u001b[39m, args: Sequence[core\u001b[38;5;241m.\u001b[39mTensor]) \u001b[38;5;241m-\u001b[39m\u001b[38;5;241m>\u001b[39m Any:\n\u001b[1;32m    215\u001b[0m \u001b[38;5;250m  \u001b[39m\u001b[38;5;124;03m\"\"\"Calls with flattened tensor inputs and returns the structured output.\"\"\"\u001b[39;00m\n\u001b[0;32m--> 216\u001b[0m   flat_outputs \u001b[38;5;241m=\u001b[39m \u001b[38;5;28mself\u001b[39m\u001b[38;5;241m.\u001b[39mcall_flat(\u001b[38;5;241m*\u001b[39margs)\n\u001b[1;32m    217\u001b[0m   \u001b[38;5;28;01mreturn\u001b[39;00m \u001b[38;5;28mself\u001b[39m\u001b[38;5;241m.\u001b[39mfunction_type\u001b[38;5;241m.\u001b[39mpack_output(flat_outputs)\n",
      "File \u001b[0;32m/opt/anaconda3/lib/python3.12/site-packages/tensorflow/python/eager/polymorphic_function/atomic_function.py:251\u001b[0m, in \u001b[0;36mAtomicFunction.call_flat\u001b[0;34m(self, *args)\u001b[0m\n\u001b[1;32m    249\u001b[0m \u001b[38;5;28;01mwith\u001b[39;00m record\u001b[38;5;241m.\u001b[39mstop_recording():\n\u001b[1;32m    250\u001b[0m   \u001b[38;5;28;01mif\u001b[39;00m \u001b[38;5;28mself\u001b[39m\u001b[38;5;241m.\u001b[39m_bound_context\u001b[38;5;241m.\u001b[39mexecuting_eagerly():\n\u001b[0;32m--> 251\u001b[0m     outputs \u001b[38;5;241m=\u001b[39m \u001b[38;5;28mself\u001b[39m\u001b[38;5;241m.\u001b[39m_bound_context\u001b[38;5;241m.\u001b[39mcall_function(\n\u001b[1;32m    252\u001b[0m         \u001b[38;5;28mself\u001b[39m\u001b[38;5;241m.\u001b[39mname,\n\u001b[1;32m    253\u001b[0m         \u001b[38;5;28mlist\u001b[39m(args),\n\u001b[1;32m    254\u001b[0m         \u001b[38;5;28mlen\u001b[39m(\u001b[38;5;28mself\u001b[39m\u001b[38;5;241m.\u001b[39mfunction_type\u001b[38;5;241m.\u001b[39mflat_outputs),\n\u001b[1;32m    255\u001b[0m     )\n\u001b[1;32m    256\u001b[0m   \u001b[38;5;28;01melse\u001b[39;00m:\n\u001b[1;32m    257\u001b[0m     outputs \u001b[38;5;241m=\u001b[39m make_call_op_in_graph(\n\u001b[1;32m    258\u001b[0m         \u001b[38;5;28mself\u001b[39m,\n\u001b[1;32m    259\u001b[0m         \u001b[38;5;28mlist\u001b[39m(args),\n\u001b[1;32m    260\u001b[0m         \u001b[38;5;28mself\u001b[39m\u001b[38;5;241m.\u001b[39m_bound_context\u001b[38;5;241m.\u001b[39mfunction_call_options\u001b[38;5;241m.\u001b[39mas_attrs(),\n\u001b[1;32m    261\u001b[0m     )\n",
      "File \u001b[0;32m/opt/anaconda3/lib/python3.12/site-packages/tensorflow/python/eager/context.py:1552\u001b[0m, in \u001b[0;36mContext.call_function\u001b[0;34m(self, name, tensor_inputs, num_outputs)\u001b[0m\n\u001b[1;32m   1550\u001b[0m cancellation_context \u001b[38;5;241m=\u001b[39m cancellation\u001b[38;5;241m.\u001b[39mcontext()\n\u001b[1;32m   1551\u001b[0m \u001b[38;5;28;01mif\u001b[39;00m cancellation_context \u001b[38;5;129;01mis\u001b[39;00m \u001b[38;5;28;01mNone\u001b[39;00m:\n\u001b[0;32m-> 1552\u001b[0m   outputs \u001b[38;5;241m=\u001b[39m execute\u001b[38;5;241m.\u001b[39mexecute(\n\u001b[1;32m   1553\u001b[0m       name\u001b[38;5;241m.\u001b[39mdecode(\u001b[38;5;124m\"\u001b[39m\u001b[38;5;124mutf-8\u001b[39m\u001b[38;5;124m\"\u001b[39m),\n\u001b[1;32m   1554\u001b[0m       num_outputs\u001b[38;5;241m=\u001b[39mnum_outputs,\n\u001b[1;32m   1555\u001b[0m       inputs\u001b[38;5;241m=\u001b[39mtensor_inputs,\n\u001b[1;32m   1556\u001b[0m       attrs\u001b[38;5;241m=\u001b[39mattrs,\n\u001b[1;32m   1557\u001b[0m       ctx\u001b[38;5;241m=\u001b[39m\u001b[38;5;28mself\u001b[39m,\n\u001b[1;32m   1558\u001b[0m   )\n\u001b[1;32m   1559\u001b[0m \u001b[38;5;28;01melse\u001b[39;00m:\n\u001b[1;32m   1560\u001b[0m   outputs \u001b[38;5;241m=\u001b[39m execute\u001b[38;5;241m.\u001b[39mexecute_with_cancellation(\n\u001b[1;32m   1561\u001b[0m       name\u001b[38;5;241m.\u001b[39mdecode(\u001b[38;5;124m\"\u001b[39m\u001b[38;5;124mutf-8\u001b[39m\u001b[38;5;124m\"\u001b[39m),\n\u001b[1;32m   1562\u001b[0m       num_outputs\u001b[38;5;241m=\u001b[39mnum_outputs,\n\u001b[0;32m   (...)\u001b[0m\n\u001b[1;32m   1566\u001b[0m       cancellation_manager\u001b[38;5;241m=\u001b[39mcancellation_context,\n\u001b[1;32m   1567\u001b[0m   )\n",
      "File \u001b[0;32m/opt/anaconda3/lib/python3.12/site-packages/tensorflow/python/eager/execute.py:53\u001b[0m, in \u001b[0;36mquick_execute\u001b[0;34m(op_name, num_outputs, inputs, attrs, ctx, name)\u001b[0m\n\u001b[1;32m     51\u001b[0m \u001b[38;5;28;01mtry\u001b[39;00m:\n\u001b[1;32m     52\u001b[0m   ctx\u001b[38;5;241m.\u001b[39mensure_initialized()\n\u001b[0;32m---> 53\u001b[0m   tensors \u001b[38;5;241m=\u001b[39m pywrap_tfe\u001b[38;5;241m.\u001b[39mTFE_Py_Execute(ctx\u001b[38;5;241m.\u001b[39m_handle, device_name, op_name,\n\u001b[1;32m     54\u001b[0m                                       inputs, attrs, num_outputs)\n\u001b[1;32m     55\u001b[0m \u001b[38;5;28;01mexcept\u001b[39;00m core\u001b[38;5;241m.\u001b[39m_NotOkStatusException \u001b[38;5;28;01mas\u001b[39;00m e:\n\u001b[1;32m     56\u001b[0m   \u001b[38;5;28;01mif\u001b[39;00m name \u001b[38;5;129;01mis\u001b[39;00m \u001b[38;5;129;01mnot\u001b[39;00m \u001b[38;5;28;01mNone\u001b[39;00m:\n",
      "\u001b[0;31mKeyboardInterrupt\u001b[0m: "
     ]
    }
   ],
   "source": [
    "# Step 4: Train Model\n",
    "# Define early stopping\n",
    "early_stopping = tf.keras.callbacks.EarlyStopping(\n",
    "    monitor='val_mae',\n",
    "    patience=3,\n",
    "    restore_best_weights=True\n",
    ")\n",
    "\n",
    "# Train the model\n",
    "history = transformer.fit(train_ds, epochs=20, validation_data=val_ds, callbacks=[early_stopping])"
   ]
  },
  {
   "cell_type": "code",
>>>>>>> 286acb0 (update transformers)
   "execution_count": 9,
   "id": "7bc730fd-4fbd-4f92-aada-7193f8536c15",
   "metadata": {},
   "outputs": [
    {
     "name": "stdout",
     "output_type": "stream",
     "text": [
      "Epoch 1/20\n",
      "\u001b[1m925/925\u001b[0m \u001b[32m━━━━━━━━━━━━━━━━━━━━\u001b[0m\u001b[37m\u001b[0m \u001b[1m577s\u001b[0m 623ms/step - loss: 1.3578 - mae: 0.2149 - val_loss: 0.5902 - val_mae: 0.1205\n",
      "Epoch 2/20\n",
      "\u001b[1m925/925\u001b[0m \u001b[32m━━━━━━━━━━━━━━━━━━━━\u001b[0m\u001b[37m\u001b[0m \u001b[1m575s\u001b[0m 621ms/step - loss: 1.3502 - mae: 0.1696 - val_loss: 0.7083 - val_mae: 0.1168\n",
      "Epoch 3/20\n",
      "\u001b[1m925/925\u001b[0m \u001b[32m━━━━━━━━━━━━━━━━━━━━\u001b[0m\u001b[37m\u001b[0m \u001b[1m575s\u001b[0m 621ms/step - loss: 1.4561 - mae: 0.1519 - val_loss: 0.6948 - val_mae: 0.1123\n",
      "Epoch 4/20\n",
      "\u001b[1m925/925\u001b[0m \u001b[32m━━━━━━━━━━━━━━━━━━━━\u001b[0m\u001b[37m\u001b[0m \u001b[1m572s\u001b[0m 618ms/step - loss: 1.3587 - mae: 0.1446 - val_loss: 0.5645 - val_mae: 0.1063\n",
      "Epoch 5/20\n",
      "\u001b[1m925/925\u001b[0m \u001b[32m━━━━━━━━━━━━━━━━━━━━\u001b[0m\u001b[37m\u001b[0m \u001b[1m575s\u001b[0m 621ms/step - loss: 1.2925 - mae: 0.1602 - val_loss: 0.6518 - val_mae: 0.1209\n",
      "Epoch 6/20\n",
      "\u001b[1m925/925\u001b[0m \u001b[32m━━━━━━━━━━━━━━━━━━━━\u001b[0m\u001b[37m\u001b[0m \u001b[1m575s\u001b[0m 622ms/step - loss: 1.2828 - mae: 0.1719 - val_loss: 0.6997 - val_mae: 0.1072\n",
      "Epoch 7/20\n",
      "\u001b[1m925/925\u001b[0m \u001b[32m━━━━━━━━━━━━━━━━━━━━\u001b[0m\u001b[37m\u001b[0m \u001b[1m575s\u001b[0m 622ms/step - loss: 1.2466 - mae: 0.1757 - val_loss: 0.6001 - val_mae: 0.1298\n"
     ]
    }
   ],
   "source": [
    "# Define early stopping\n",
    "early_stopping = tf.keras.callbacks.EarlyStopping(\n",
    "    monitor='val_mae',\n",
    "    patience=3,\n",
    "    restore_best_weights=True\n",
    ")\n",
    "\n",
    "# Adjust learning rate\n",
    "transformer.compile(optimizer=tf.keras.optimizers.Adam(learning_rate=0.001), loss=\"mean_squared_error\", metrics=[\"mae\"])\n",
    "\n",
    "# Train the model\n",
    "history = transformer.fit(train_ds, epochs=20, validation_data=val_ds, callbacks=[early_stopping])"
   ]
  },
  {
   "cell_type": "code",
   "execution_count": 10,
   "id": "a1b873c9-28da-4317-b74d-3026bcd9debf",
   "metadata": {},
   "outputs": [
    {
     "name": "stdout",
     "output_type": "stream",
     "text": [
      "\u001b[1m199/199\u001b[0m \u001b[32m━━━━━━━━━━━━━━━━━━━━\u001b[0m\u001b[37m\u001b[0m \u001b[1m44s\u001b[0m 220ms/step - loss: 0.1220 - mae: 0.0820\n",
      "Test MAE: 0.08647683262825012\n"
     ]
    }
   ],
   "source": [
    "# Step 5: Evaluate the model on the test data\n",
    "test_loss, test_mae = transformer.evaluate(test_ds)\n",
    "print(f\"Test MAE: {test_mae}\")"
   ]
  },
  {
   "cell_type": "markdown",
   "id": "4578ac62-051a-4b9e-9107-408b9b38d6e8",
   "metadata": {},
   "source": [
    "Mean Absolute Error (MAE):\n",
    "\n",
    "The training MAE starts around 0.215 and decreases over the epochs, showing that the model is learning and improving its performance on the training data.\n",
    "The validation MAE starts around 0.120 and also decreases, indicating that the model is generalizing well to the validation data.\n",
    "The final test MAE is 0.082, which is lower than both the training and validation MAE, indicating that the model performs well on unseen test data.\n",
    "Loss:\n",
    "\n",
    "The training loss and validation loss remain consistent and decrease over the epochs, suggesting that the model's predictions are improving and the overall error is reducing.\n",
    "Early Stopping:\n",
    "\n",
    "The training stops after 7 epochs due to the patience=3 parameter in early stopping. This means that the validation MAE did not improve for 3 consecutive epochs, triggering early stopping to prevent overfitting.\n",
    "Model Performance\n",
    "Consistency: The model's MAE and loss decrease during training and validation, indicating consistent improvement in performance.\n",
    "\n",
    "Test Performance: The test MAE of 0.082 suggests that the model generalizes very well to unseen data, achieving lower error on the test set compared to the training and validation sets.\n",
    "\n",
    "Potential Issues:\n",
    "\n",
    "The slight increase in MAE and loss in some epochs suggests that there might be some fluctuations during training, which is normal.\n",
    "The early stopping helps prevent overfitting, ensuring that the model does not train for too long and starts overfitting the training data.\n",
    "Conclusion\n",
    "Overall Performance: The model is performing well, with decreasing MAE and loss values during training and validation. The low test MAE indicates good generalization to unseen data.\n",
    "Model Robustness: The use of early stopping and the stability of the validation metrics suggest that the model is robust and not overfitting.\n",
    "Further Improvements: While the model is performing well, further hyperparameter tuning, data augmentation, and experimentation with different model architectures could potentially improve performance even more."
   ]
  },
  {
<<<<<<< HEAD
   "cell_type": "code",
   "execution_count": 15,
   "id": "aa38a40d-fd24-4cc5-a325-10c744248968",
   "metadata": {},
   "outputs": [
    {
     "data": {
      "text/html": [
       "<pre style=\"white-space:pre;overflow-x:auto;line-height:normal;font-family:Menlo,'DejaVu Sans Mono',consolas,'Courier New',monospace\"><span style=\"font-weight: bold\">Model: \"functional_1\"</span>\n",
       "</pre>\n"
      ],
      "text/plain": [
       "\u001b[1mModel: \"functional_1\"\u001b[0m\n"
      ]
     },
     "metadata": {},
     "output_type": "display_data"
    },
    {
     "data": {
      "text/html": [
       "<pre style=\"white-space:pre;overflow-x:auto;line-height:normal;font-family:Menlo,'DejaVu Sans Mono',consolas,'Courier New',monospace\">┏━━━━━━━━━━━━━━━━━━━━━━━━━━━━━━━━━┳━━━━━━━━━━━━━━━━━━━━━━━━┳━━━━━━━━━━━━━━━┓\n",
       "┃<span style=\"font-weight: bold\"> Layer (type)                    </span>┃<span style=\"font-weight: bold\"> Output Shape           </span>┃<span style=\"font-weight: bold\">       Param # </span>┃\n",
       "┡━━━━━━━━━━━━━━━━━━━━━━━━━━━━━━━━━╇━━━━━━━━━━━━━━━━━━━━━━━━╇━━━━━━━━━━━━━━━┩\n",
       "│ encoder_inputs (<span style=\"color: #0087ff; text-decoration-color: #0087ff\">InputLayer</span>)     │ (<span style=\"color: #00d7ff; text-decoration-color: #00d7ff\">None</span>, <span style=\"color: #00af00; text-decoration-color: #00af00\">256</span>)            │             <span style=\"color: #00af00; text-decoration-color: #00af00\">0</span> │\n",
       "├─────────────────────────────────┼────────────────────────┼───────────────┤\n",
       "│ positional_embedding            │ (<span style=\"color: #00d7ff; text-decoration-color: #00d7ff\">None</span>, <span style=\"color: #00af00; text-decoration-color: #00af00\">256</span>, <span style=\"color: #00af00; text-decoration-color: #00af00\">256</span>)       │     <span style=\"color: #00af00; text-decoration-color: #00af00\">2,625,536</span> │\n",
       "│ (<span style=\"color: #0087ff; text-decoration-color: #0087ff\">PositionalEmbedding</span>)           │                        │               │\n",
       "├─────────────────────────────────┼────────────────────────┼───────────────┤\n",
       "│ transformer_encoder             │ (<span style=\"color: #00d7ff; text-decoration-color: #00d7ff\">None</span>, <span style=\"color: #00af00; text-decoration-color: #00af00\">256</span>, <span style=\"color: #00af00; text-decoration-color: #00af00\">256</span>)       │     <span style=\"color: #00af00; text-decoration-color: #00af00\">3,155,456</span> │\n",
       "│ (<span style=\"color: #0087ff; text-decoration-color: #0087ff\">TransformerEncoder</span>)            │                        │               │\n",
       "├─────────────────────────────────┼────────────────────────┼───────────────┤\n",
       "│ get_item (<span style=\"color: #0087ff; text-decoration-color: #0087ff\">GetItem</span>)              │ (<span style=\"color: #00d7ff; text-decoration-color: #00d7ff\">None</span>, <span style=\"color: #00af00; text-decoration-color: #00af00\">256</span>)            │             <span style=\"color: #00af00; text-decoration-color: #00af00\">0</span> │\n",
       "├─────────────────────────────────┼────────────────────────┼───────────────┤\n",
       "│ dense_2 (<span style=\"color: #0087ff; text-decoration-color: #0087ff\">Dense</span>)                 │ (<span style=\"color: #00d7ff; text-decoration-color: #00d7ff\">None</span>, <span style=\"color: #00af00; text-decoration-color: #00af00\">1</span>)              │           <span style=\"color: #00af00; text-decoration-color: #00af00\">257</span> │\n",
       "└─────────────────────────────────┴────────────────────────┴───────────────┘\n",
       "</pre>\n"
      ],
      "text/plain": [
       "┏━━━━━━━━━━━━━━━━━━━━━━━━━━━━━━━━━┳━━━━━━━━━━━━━━━━━━━━━━━━┳━━━━━━━━━━━━━━━┓\n",
       "┃\u001b[1m \u001b[0m\u001b[1mLayer (type)                   \u001b[0m\u001b[1m \u001b[0m┃\u001b[1m \u001b[0m\u001b[1mOutput Shape          \u001b[0m\u001b[1m \u001b[0m┃\u001b[1m \u001b[0m\u001b[1m      Param #\u001b[0m\u001b[1m \u001b[0m┃\n",
       "┡━━━━━━━━━━━━━━━━━━━━━━━━━━━━━━━━━╇━━━━━━━━━━━━━━━━━━━━━━━━╇━━━━━━━━━━━━━━━┩\n",
       "│ encoder_inputs (\u001b[38;5;33mInputLayer\u001b[0m)     │ (\u001b[38;5;45mNone\u001b[0m, \u001b[38;5;34m256\u001b[0m)            │             \u001b[38;5;34m0\u001b[0m │\n",
       "├─────────────────────────────────┼────────────────────────┼───────────────┤\n",
       "│ positional_embedding            │ (\u001b[38;5;45mNone\u001b[0m, \u001b[38;5;34m256\u001b[0m, \u001b[38;5;34m256\u001b[0m)       │     \u001b[38;5;34m2,625,536\u001b[0m │\n",
       "│ (\u001b[38;5;33mPositionalEmbedding\u001b[0m)           │                        │               │\n",
       "├─────────────────────────────────┼────────────────────────┼───────────────┤\n",
       "│ transformer_encoder             │ (\u001b[38;5;45mNone\u001b[0m, \u001b[38;5;34m256\u001b[0m, \u001b[38;5;34m256\u001b[0m)       │     \u001b[38;5;34m3,155,456\u001b[0m │\n",
       "│ (\u001b[38;5;33mTransformerEncoder\u001b[0m)            │                        │               │\n",
       "├─────────────────────────────────┼────────────────────────┼───────────────┤\n",
       "│ get_item (\u001b[38;5;33mGetItem\u001b[0m)              │ (\u001b[38;5;45mNone\u001b[0m, \u001b[38;5;34m256\u001b[0m)            │             \u001b[38;5;34m0\u001b[0m │\n",
       "├─────────────────────────────────┼────────────────────────┼───────────────┤\n",
       "│ dense_2 (\u001b[38;5;33mDense\u001b[0m)                 │ (\u001b[38;5;45mNone\u001b[0m, \u001b[38;5;34m1\u001b[0m)              │           \u001b[38;5;34m257\u001b[0m │\n",
       "└─────────────────────────────────┴────────────────────────┴───────────────┘\n"
      ]
     },
     "metadata": {},
     "output_type": "display_data"
    },
    {
     "data": {
      "text/html": [
       "<pre style=\"white-space:pre;overflow-x:auto;line-height:normal;font-family:Menlo,'DejaVu Sans Mono',consolas,'Courier New',monospace\"><span style=\"font-weight: bold\"> Total params: </span><span style=\"color: #00af00; text-decoration-color: #00af00\">5,781,249</span> (22.05 MB)\n",
       "</pre>\n"
      ],
      "text/plain": [
       "\u001b[1m Total params: \u001b[0m\u001b[38;5;34m5,781,249\u001b[0m (22.05 MB)\n"
      ]
     },
     "metadata": {},
     "output_type": "display_data"
    },
    {
     "data": {
      "text/html": [
       "<pre style=\"white-space:pre;overflow-x:auto;line-height:normal;font-family:Menlo,'DejaVu Sans Mono',consolas,'Courier New',monospace\"><span style=\"font-weight: bold\"> Trainable params: </span><span style=\"color: #00af00; text-decoration-color: #00af00\">5,781,249</span> (22.05 MB)\n",
       "</pre>\n"
      ],
      "text/plain": [
       "\u001b[1m Trainable params: \u001b[0m\u001b[38;5;34m5,781,249\u001b[0m (22.05 MB)\n"
      ]
     },
     "metadata": {},
     "output_type": "display_data"
    },
    {
     "data": {
      "text/html": [
       "<pre style=\"white-space:pre;overflow-x:auto;line-height:normal;font-family:Menlo,'DejaVu Sans Mono',consolas,'Courier New',monospace\"><span style=\"font-weight: bold\"> Non-trainable params: </span><span style=\"color: #00af00; text-decoration-color: #00af00\">0</span> (0.00 B)\n",
       "</pre>\n"
      ],
      "text/plain": [
       "\u001b[1m Non-trainable params: \u001b[0m\u001b[38;5;34m0\u001b[0m (0.00 B)\n"
      ]
     },
     "metadata": {},
     "output_type": "display_data"
    }
   ],
   "source": [
    "# Adjust learning rate and compile the model with MSE as the metric\n",
    "transformer.compile(\n",
    "    optimizer=tf.keras.optimizers.Adam(learning_rate=0.001),\n",
    "    loss=\"mean_squared_error\",\n",
    "    metrics=[\"mean_squared_error\"]  # Use MSE as the metric\n",
    ")\n",
    "\n",
    "# Print the model summary to verify changes\n",
    "transformer.summary()"
   ]
  },
  {
   "cell_type": "code",
   "execution_count": 20,
   "id": "16b2bbe3-1469-4b12-909c-c3f8f7b16f5c",
   "metadata": {},
   "outputs": [
    {
     "name": "stdout",
     "output_type": "stream",
     "text": [
      "Epoch 1/20\n",
      "\u001b[1m925/925\u001b[0m \u001b[32m━━━━━━━━━━━━━━━━━━━━\u001b[0m\u001b[37m\u001b[0m \u001b[1m608s\u001b[0m 656ms/step - loss: 0.9518 - mean_squared_error: 0.9518 - val_loss: 0.6699 - val_mean_squared_error: 0.6699\n",
      "Epoch 2/20\n",
      "\u001b[1m925/925\u001b[0m \u001b[32m━━━━━━━━━━━━━━━━━━━━\u001b[0m\u001b[37m\u001b[0m \u001b[1m611s\u001b[0m 661ms/step - loss: 0.8176 - mean_squared_error: 0.8176 - val_loss: 0.5895 - val_mean_squared_error: 0.5895\n",
      "Epoch 3/20\n",
      "\u001b[1m925/925\u001b[0m \u001b[32m━━━━━━━━━━━━━━━━━━━━\u001b[0m\u001b[37m\u001b[0m \u001b[1m614s\u001b[0m 663ms/step - loss: 1.0915 - mean_squared_error: 1.0915 - val_loss: 0.6192 - val_mean_squared_error: 0.6192\n",
      "Epoch 4/20\n",
      "\u001b[1m925/925\u001b[0m \u001b[32m━━━━━━━━━━━━━━━━━━━━\u001b[0m\u001b[37m\u001b[0m \u001b[1m1530s\u001b[0m 2s/step - loss: 0.9240 - mean_squared_error: 0.9240 - val_loss: 0.6451 - val_mean_squared_error: 0.6451\n",
      "Epoch 5/20\n",
      "\u001b[1m925/925\u001b[0m \u001b[32m━━━━━━━━━━━━━━━━━━━━\u001b[0m\u001b[37m\u001b[0m \u001b[1m570s\u001b[0m 616ms/step - loss: 0.6852 - mean_squared_error: 0.6852 - val_loss: 0.6670 - val_mean_squared_error: 0.6670\n"
     ]
    }
   ],
   "source": [
    "# Define early stopping with MSE\n",
    "early_stopping = tf.keras.callbacks.EarlyStopping(\n",
    "    monitor='val_mean_squared_error',  # Monitor validation MSE\n",
    "    patience=3,\n",
    "    restore_best_weights=True\n",
    ")\n",
    "\n",
    "# Train the model\n",
    "history = transformer.fit(train_ds, epochs=20, validation_data=val_ds, callbacks=[early_stopping])"
   ]
  },
  {
   "cell_type": "code",
   "execution_count": 21,
   "id": "a7bd8b5f-2e6a-4f88-94ff-4399e2d4a7ce",
   "metadata": {},
   "outputs": [
    {
     "name": "stdout",
     "output_type": "stream",
     "text": [
      "\u001b[1m199/199\u001b[0m \u001b[32m━━━━━━━━━━━━━━━━━━━━\u001b[0m\u001b[37m\u001b[0m \u001b[1m43s\u001b[0m 217ms/step - loss: 0.1244 - mean_squared_error: 0.1244\n",
      "Test MSE: 0.28832942247390747\n"
     ]
    }
   ],
   "source": [
    "# Evaluate the model on the test data\n",
    "test_loss, test_mse = transformer.evaluate(test_ds)\n",
    "print(f\"Test MSE: {test_mse}\")"
   ]
  },
  {
   "cell_type": "code",
   "execution_count": 22,
   "id": "608051b8-5cf2-43b1-ac37-a3a76837c611",
   "metadata": {},
   "outputs": [
    {
     "name": "stdout",
     "output_type": "stream",
     "text": [
      "Final Train MSE: 0.5024194717407227\n",
      "Final Validation MSE: 0.6669961810112\n"
     ]
    }
   ],
   "source": [
    "# Extract training and validation MSE from the history object\n",
    "train_mse = history.history['mean_squared_error']\n",
    "val_mse = history.history['val_mean_squared_error']\n",
    "\n",
    "# Get the final MSE values\n",
    "final_train_mse = train_mse[-1]\n",
    "final_val_mse = val_mse[-1]\n",
    "\n",
    "print(f\"Final Train MSE: {final_train_mse}\")\n",
    "print(f\"Final Validation MSE: {final_val_mse}\")"
   ]
  },
  {
   "cell_type": "code",
   "execution_count": null,
   "id": "64e7b980-8de4-430f-93b4-b42d4d3b8d52",
   "metadata": {},
   "outputs": [],
   "source": []
  },
  {
   "cell_type": "code",
   "execution_count": 25,
   "id": "37503cf9-7db0-4631-a33a-1260bc23cb7d",
   "metadata": {},
   "outputs": [
    {
     "data": {
      "image/png": "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",
      "text/plain": [
       "<Figure size 1000x600 with 1 Axes>"
      ]
     },
     "metadata": {},
     "output_type": "display_data"
    }
   ],
   "source": [
    "# Extract and plot MSE values\n",
    "train_mse = history.history['mean_squared_error']\n",
    "val_mse = history.history['val_mean_squared_error']\n",
    "\n",
    "plt.figure(figsize=(10, 6))\n",
    "plt.plot(train_mse, label='Training MSE')\n",
    "plt.plot(val_mse, label='Validation MSE')\n",
    "plt.xlabel('Epochs')\n",
    "plt.ylabel('Mean Squared Error (MSE)')\n",
    "plt.title('Training and Validation MSE Over Epochs')\n",
    "plt.legend()\n",
    "plt.grid(True)\n",
    "plt.show()"
   ]
  },
  {
   "cell_type": "markdown",
   "id": "bfdea140-fe2f-4596-b645-f689b22575c1",
   "metadata": {},
   "source": [
    "## Changing Learning Rate"
   ]
  },
  {
   "cell_type": "code",
   "execution_count": 30,
   "id": "80ab4014-b199-4447-8b61-80f386f440b1",
   "metadata": {},
   "outputs": [
    {
     "data": {
      "text/html": [
       "<pre style=\"white-space:pre;overflow-x:auto;line-height:normal;font-family:Menlo,'DejaVu Sans Mono',consolas,'Courier New',monospace\"><span style=\"font-weight: bold\">Model: \"functional_1\"</span>\n",
       "</pre>\n"
      ],
      "text/plain": [
       "\u001b[1mModel: \"functional_1\"\u001b[0m\n"
      ]
     },
     "metadata": {},
     "output_type": "display_data"
    },
    {
     "data": {
      "text/html": [
       "<pre style=\"white-space:pre;overflow-x:auto;line-height:normal;font-family:Menlo,'DejaVu Sans Mono',consolas,'Courier New',monospace\">┏━━━━━━━━━━━━━━━━━━━━━━━━━━━━━━━━━┳━━━━━━━━━━━━━━━━━━━━━━━━┳━━━━━━━━━━━━━━━┓\n",
       "┃<span style=\"font-weight: bold\"> Layer (type)                    </span>┃<span style=\"font-weight: bold\"> Output Shape           </span>┃<span style=\"font-weight: bold\">       Param # </span>┃\n",
       "┡━━━━━━━━━━━━━━━━━━━━━━━━━━━━━━━━━╇━━━━━━━━━━━━━━━━━━━━━━━━╇━━━━━━━━━━━━━━━┩\n",
       "│ encoder_inputs (<span style=\"color: #0087ff; text-decoration-color: #0087ff\">InputLayer</span>)     │ (<span style=\"color: #00d7ff; text-decoration-color: #00d7ff\">None</span>, <span style=\"color: #00af00; text-decoration-color: #00af00\">256</span>)            │             <span style=\"color: #00af00; text-decoration-color: #00af00\">0</span> │\n",
       "├─────────────────────────────────┼────────────────────────┼───────────────┤\n",
       "│ positional_embedding            │ (<span style=\"color: #00d7ff; text-decoration-color: #00d7ff\">None</span>, <span style=\"color: #00af00; text-decoration-color: #00af00\">256</span>, <span style=\"color: #00af00; text-decoration-color: #00af00\">256</span>)       │     <span style=\"color: #00af00; text-decoration-color: #00af00\">2,625,536</span> │\n",
       "│ (<span style=\"color: #0087ff; text-decoration-color: #0087ff\">PositionalEmbedding</span>)           │                        │               │\n",
       "├─────────────────────────────────┼────────────────────────┼───────────────┤\n",
       "│ transformer_encoder             │ (<span style=\"color: #00d7ff; text-decoration-color: #00d7ff\">None</span>, <span style=\"color: #00af00; text-decoration-color: #00af00\">256</span>, <span style=\"color: #00af00; text-decoration-color: #00af00\">256</span>)       │     <span style=\"color: #00af00; text-decoration-color: #00af00\">3,155,456</span> │\n",
       "│ (<span style=\"color: #0087ff; text-decoration-color: #0087ff\">TransformerEncoder</span>)            │                        │               │\n",
       "├─────────────────────────────────┼────────────────────────┼───────────────┤\n",
       "│ get_item (<span style=\"color: #0087ff; text-decoration-color: #0087ff\">GetItem</span>)              │ (<span style=\"color: #00d7ff; text-decoration-color: #00d7ff\">None</span>, <span style=\"color: #00af00; text-decoration-color: #00af00\">256</span>)            │             <span style=\"color: #00af00; text-decoration-color: #00af00\">0</span> │\n",
       "├─────────────────────────────────┼────────────────────────┼───────────────┤\n",
       "│ dense_2 (<span style=\"color: #0087ff; text-decoration-color: #0087ff\">Dense</span>)                 │ (<span style=\"color: #00d7ff; text-decoration-color: #00d7ff\">None</span>, <span style=\"color: #00af00; text-decoration-color: #00af00\">1</span>)              │           <span style=\"color: #00af00; text-decoration-color: #00af00\">257</span> │\n",
       "└─────────────────────────────────┴────────────────────────┴───────────────┘\n",
       "</pre>\n"
      ],
      "text/plain": [
       "┏━━━━━━━━━━━━━━━━━━━━━━━━━━━━━━━━━┳━━━━━━━━━━━━━━━━━━━━━━━━┳━━━━━━━━━━━━━━━┓\n",
       "┃\u001b[1m \u001b[0m\u001b[1mLayer (type)                   \u001b[0m\u001b[1m \u001b[0m┃\u001b[1m \u001b[0m\u001b[1mOutput Shape          \u001b[0m\u001b[1m \u001b[0m┃\u001b[1m \u001b[0m\u001b[1m      Param #\u001b[0m\u001b[1m \u001b[0m┃\n",
       "┡━━━━━━━━━━━━━━━━━━━━━━━━━━━━━━━━━╇━━━━━━━━━━━━━━━━━━━━━━━━╇━━━━━━━━━━━━━━━┩\n",
       "│ encoder_inputs (\u001b[38;5;33mInputLayer\u001b[0m)     │ (\u001b[38;5;45mNone\u001b[0m, \u001b[38;5;34m256\u001b[0m)            │             \u001b[38;5;34m0\u001b[0m │\n",
       "├─────────────────────────────────┼────────────────────────┼───────────────┤\n",
       "│ positional_embedding            │ (\u001b[38;5;45mNone\u001b[0m, \u001b[38;5;34m256\u001b[0m, \u001b[38;5;34m256\u001b[0m)       │     \u001b[38;5;34m2,625,536\u001b[0m │\n",
       "│ (\u001b[38;5;33mPositionalEmbedding\u001b[0m)           │                        │               │\n",
       "├─────────────────────────────────┼────────────────────────┼───────────────┤\n",
       "│ transformer_encoder             │ (\u001b[38;5;45mNone\u001b[0m, \u001b[38;5;34m256\u001b[0m, \u001b[38;5;34m256\u001b[0m)       │     \u001b[38;5;34m3,155,456\u001b[0m │\n",
       "│ (\u001b[38;5;33mTransformerEncoder\u001b[0m)            │                        │               │\n",
       "├─────────────────────────────────┼────────────────────────┼───────────────┤\n",
       "│ get_item (\u001b[38;5;33mGetItem\u001b[0m)              │ (\u001b[38;5;45mNone\u001b[0m, \u001b[38;5;34m256\u001b[0m)            │             \u001b[38;5;34m0\u001b[0m │\n",
       "├─────────────────────────────────┼────────────────────────┼───────────────┤\n",
       "│ dense_2 (\u001b[38;5;33mDense\u001b[0m)                 │ (\u001b[38;5;45mNone\u001b[0m, \u001b[38;5;34m1\u001b[0m)              │           \u001b[38;5;34m257\u001b[0m │\n",
       "└─────────────────────────────────┴────────────────────────┴───────────────┘\n"
      ]
     },
     "metadata": {},
     "output_type": "display_data"
    },
    {
     "data": {
      "text/html": [
       "<pre style=\"white-space:pre;overflow-x:auto;line-height:normal;font-family:Menlo,'DejaVu Sans Mono',consolas,'Courier New',monospace\"><span style=\"font-weight: bold\"> Total params: </span><span style=\"color: #00af00; text-decoration-color: #00af00\">5,781,249</span> (22.05 MB)\n",
       "</pre>\n"
      ],
      "text/plain": [
       "\u001b[1m Total params: \u001b[0m\u001b[38;5;34m5,781,249\u001b[0m (22.05 MB)\n"
      ]
     },
     "metadata": {},
     "output_type": "display_data"
    },
    {
     "data": {
      "text/html": [
       "<pre style=\"white-space:pre;overflow-x:auto;line-height:normal;font-family:Menlo,'DejaVu Sans Mono',consolas,'Courier New',monospace\"><span style=\"font-weight: bold\"> Trainable params: </span><span style=\"color: #00af00; text-decoration-color: #00af00\">5,781,249</span> (22.05 MB)\n",
       "</pre>\n"
      ],
      "text/plain": [
       "\u001b[1m Trainable params: \u001b[0m\u001b[38;5;34m5,781,249\u001b[0m (22.05 MB)\n"
      ]
     },
     "metadata": {},
     "output_type": "display_data"
    },
    {
     "data": {
      "text/html": [
       "<pre style=\"white-space:pre;overflow-x:auto;line-height:normal;font-family:Menlo,'DejaVu Sans Mono',consolas,'Courier New',monospace\"><span style=\"font-weight: bold\"> Non-trainable params: </span><span style=\"color: #00af00; text-decoration-color: #00af00\">0</span> (0.00 B)\n",
       "</pre>\n"
      ],
      "text/plain": [
       "\u001b[1m Non-trainable params: \u001b[0m\u001b[38;5;34m0\u001b[0m (0.00 B)\n"
      ]
     },
     "metadata": {},
     "output_type": "display_data"
    }
   ],
   "source": [
    "# Adjust learning rate from 0.001 to 0.0001 and compile the model with MSE as the metric\n",
    "transformer.compile(\n",
    "    optimizer=tf.keras.optimizers.Adam(learning_rate=0.0001),\n",
    "    loss=\"mean_squared_error\",\n",
    "    metrics=[\"mean_squared_error\"]  # Use MSE as the metric\n",
    ")\n",
    "\n",
    "# Print the model summary to verify changes\n",
    "transformer.summary()"
   ]
  },
  {
   "cell_type": "code",
   "execution_count": 28,
   "id": "4675ae34-f85f-479b-8987-f4e9e8224047",
   "metadata": {},
   "outputs": [
    {
     "name": "stdout",
     "output_type": "stream",
     "text": [
      "Epoch 1/20\n",
      "\u001b[1m925/925\u001b[0m \u001b[32m━━━━━━━━━━━━━━━━━━━━\u001b[0m\u001b[37m\u001b[0m \u001b[1m575s\u001b[0m 621ms/step - loss: 1.0253 - mean_squared_error: 1.0253 - val_loss: 0.6022 - val_mean_squared_error: 0.6022\n",
      "Epoch 2/20\n",
      "\u001b[1m925/925\u001b[0m \u001b[32m━━━━━━━━━━━━━━━━━━━━\u001b[0m\u001b[37m\u001b[0m \u001b[1m572s\u001b[0m 618ms/step - loss: 0.9483 - mean_squared_error: 0.9483 - val_loss: 0.6049 - val_mean_squared_error: 0.6049\n",
      "Epoch 3/20\n",
      "\u001b[1m925/925\u001b[0m \u001b[32m━━━━━━━━━━━━━━━━━━━━\u001b[0m\u001b[37m\u001b[0m \u001b[1m572s\u001b[0m 618ms/step - loss: 0.8697 - mean_squared_error: 0.8697 - val_loss: 0.6734 - val_mean_squared_error: 0.6734\n",
      "Epoch 4/20\n",
      "\u001b[1m925/925\u001b[0m \u001b[32m━━━━━━━━━━━━━━━━━━━━\u001b[0m\u001b[37m\u001b[0m \u001b[1m571s\u001b[0m 617ms/step - loss: 0.7589 - mean_squared_error: 0.7589 - val_loss: 0.6600 - val_mean_squared_error: 0.6600\n"
     ]
    }
   ],
   "source": [
    "# Define early stopping with MSE\n",
    "early_stopping = tf.keras.callbacks.EarlyStopping(\n",
    "    monitor='val_mean_squared_error',  # Monitor validation MSE\n",
    "    patience=3,\n",
    "    restore_best_weights=True\n",
    ")\n",
    "\n",
    "# Train the model slower learning rate\n",
    "history = transformer.fit(train_ds, epochs=20, validation_data=val_ds, callbacks=[early_stopping])"
   ]
  },
  {
   "cell_type": "code",
   "execution_count": 31,
   "id": "e0b60cfc-be5f-471a-ab80-c8f341ab1a84",
   "metadata": {},
   "outputs": [
    {
     "name": "stdout",
     "output_type": "stream",
     "text": [
      "\u001b[1m199/199\u001b[0m \u001b[32m━━━━━━━━━━━━━━━━━━━━\u001b[0m\u001b[37m\u001b[0m \u001b[1m44s\u001b[0m 219ms/step - loss: 0.1221 - mean_squared_error: 0.1221\n",
      "Test MSE: 0.2638246715068817\n"
     ]
    }
   ],
   "source": [
    "# Evaluate the model on the test data\n",
    "test_loss, test_mse = transformer.evaluate(test_ds)\n",
    "print(f\"Test MSE: {test_mse}\")"
   ]
  },
  {
   "cell_type": "code",
   "execution_count": 32,
   "id": "db920660-2ff3-4e60-a025-36d14f63d196",
   "metadata": {},
   "outputs": [
    {
     "name": "stdout",
     "output_type": "stream",
     "text": [
      "Final Train MSE: 0.49089884757995605\n",
      "Final Validation MSE: 0.659993052482605\n"
     ]
    }
   ],
   "source": [
    "# Extract training and validation MSE from the history object\n",
    "train_mse = history.history['mean_squared_error']\n",
    "val_mse = history.history['val_mean_squared_error']\n",
    "\n",
    "# Get the final MSE values\n",
    "final_train_mse = train_mse[-1]\n",
    "final_val_mse = val_mse[-1]\n",
    "\n",
    "print(f\"Final Train MSE: {final_train_mse}\")\n",
    "print(f\"Final Validation MSE: {final_val_mse}\")"
   ]
  },
  {
   "cell_type": "markdown",
   "id": "0db949b7-0df0-46d3-b420-f27d9f4e7225",
   "metadata": {},
   "source": [
    "## Testing Adding L2 Regularization and Adding Dropout Layers"
   ]
  },
  {
   "cell_type": "code",
   "execution_count": 38,
   "id": "43327db8-9448-4fef-9638-87b9e8c7e956",
   "metadata": {},
   "outputs": [],
   "source": [
    "from tensorflow.keras import regularizers\n",
    "\n",
    "# Step 3: Define the model with regularization\n",
    "class PositionalEmbedding(layers.Layer):\n",
    "    def __init__(self, sequence_length, input_dim, output_dim, **kwargs):\n",
    "        super().__init__(**kwargs)\n",
    "        self.token_embeddings = layers.Embedding(input_dim=input_dim, output_dim=output_dim)\n",
    "        self.position_embeddings = layers.Embedding(input_dim=sequence_length, output_dim=output_dim)\n",
    "        self.sequence_length = sequence_length\n",
    "        self.input_dim = input_dim\n",
    "        self.output_dim = output_dim\n",
    "\n",
    "    def call(self, inputs):\n",
    "        length = tf.shape(inputs)[-1]\n",
    "        positions = tf.range(start=0, limit=length, delta=1)\n",
    "        embedded_tokens = self.token_embeddings(inputs)\n",
    "        embedded_positions = self.position_embeddings(positions)\n",
    "        return embedded_tokens + embedded_positions"
   ]
  },
  {
   "cell_type": "code",
   "execution_count": 39,
   "id": "651671ad-9459-451f-b9b7-49573c1257fc",
   "metadata": {},
   "outputs": [],
   "source": [
    "# Encoder\n",
    "class TransformerEncoder(layers.Layer):\n",
    "    def __init__(self, embed_dim, dense_dim, num_heads, **kwargs):\n",
    "        super().__init__(**kwargs)\n",
    "        self.embed_dim = embed_dim\n",
    "        self.dense_dim = dense_dim\n",
    "        self.num_heads = num_heads\n",
    "        self.attention = layers.MultiHeadAttention(num_heads=num_heads, key_dim=embed_dim)\n",
    "        self.dense_proj = tf.keras.Sequential([\n",
    "            layers.Dense(dense_dim, activation=\"relu\", kernel_regularizer=regularizers.l2(0.01)), \n",
    "            layers.Dense(embed_dim, kernel_regularizer=regularizers.l2(0.01))\n",
    "        ])\n",
    "        self.layernorm_1 = layers.LayerNormalization()\n",
    "        self.layernorm_2 = layers.LayerNormalization()\n",
    "\n",
    "    def call(self, inputs, mask=None):\n",
    "        if mask is not None:\n",
    "            mask = mask[:, tf.newaxis, :]\n",
    "        attention_output = self.attention(inputs, inputs, attention_mask=mask)\n",
    "        proj_input = self.layernorm_1(inputs + attention_output)\n",
    "        proj_output = self.dense_proj(proj_input)\n",
    "        return self.layernorm_2(proj_input + proj_output)"
   ]
  },
  {
   "cell_type": "code",
   "execution_count": 40,
   "id": "bb8ca114-a70d-46ba-947c-b9624572dbc7",
   "metadata": {},
   "outputs": [
    {
     "data": {
      "text/html": [
       "<pre style=\"white-space:pre;overflow-x:auto;line-height:normal;font-family:Menlo,'DejaVu Sans Mono',consolas,'Courier New',monospace\"><span style=\"font-weight: bold\">Model: \"functional_6\"</span>\n",
       "</pre>\n"
      ],
      "text/plain": [
       "\u001b[1mModel: \"functional_6\"\u001b[0m\n"
      ]
     },
     "metadata": {},
     "output_type": "display_data"
    },
    {
     "data": {
      "text/html": [
       "<pre style=\"white-space:pre;overflow-x:auto;line-height:normal;font-family:Menlo,'DejaVu Sans Mono',consolas,'Courier New',monospace\">┏━━━━━━━━━━━━━━━━━━━━━━━━━━━━━━━━━┳━━━━━━━━━━━━━━━━━━━━━━━━┳━━━━━━━━━━━━━━━┓\n",
       "┃<span style=\"font-weight: bold\"> Layer (type)                    </span>┃<span style=\"font-weight: bold\"> Output Shape           </span>┃<span style=\"font-weight: bold\">       Param # </span>┃\n",
       "┡━━━━━━━━━━━━━━━━━━━━━━━━━━━━━━━━━╇━━━━━━━━━━━━━━━━━━━━━━━━╇━━━━━━━━━━━━━━━┩\n",
       "│ encoder_inputs (<span style=\"color: #0087ff; text-decoration-color: #0087ff\">InputLayer</span>)     │ (<span style=\"color: #00d7ff; text-decoration-color: #00d7ff\">None</span>, <span style=\"color: #00af00; text-decoration-color: #00af00\">256</span>)            │             <span style=\"color: #00af00; text-decoration-color: #00af00\">0</span> │\n",
       "├─────────────────────────────────┼────────────────────────┼───────────────┤\n",
       "│ positional_embedding_3          │ (<span style=\"color: #00d7ff; text-decoration-color: #00d7ff\">None</span>, <span style=\"color: #00af00; text-decoration-color: #00af00\">256</span>, <span style=\"color: #00af00; text-decoration-color: #00af00\">256</span>)       │     <span style=\"color: #00af00; text-decoration-color: #00af00\">2,625,536</span> │\n",
       "│ (<span style=\"color: #0087ff; text-decoration-color: #0087ff\">PositionalEmbedding</span>)           │                        │               │\n",
       "├─────────────────────────────────┼────────────────────────┼───────────────┤\n",
       "│ transformer_encoder_2           │ (<span style=\"color: #00d7ff; text-decoration-color: #00d7ff\">None</span>, <span style=\"color: #00af00; text-decoration-color: #00af00\">256</span>, <span style=\"color: #00af00; text-decoration-color: #00af00\">256</span>)       │     <span style=\"color: #00af00; text-decoration-color: #00af00\">3,155,456</span> │\n",
       "│ (<span style=\"color: #0087ff; text-decoration-color: #0087ff\">TransformerEncoder</span>)            │                        │               │\n",
       "├─────────────────────────────────┼────────────────────────┼───────────────┤\n",
       "│ dropout_6 (<span style=\"color: #0087ff; text-decoration-color: #0087ff\">Dropout</span>)             │ (<span style=\"color: #00d7ff; text-decoration-color: #00d7ff\">None</span>, <span style=\"color: #00af00; text-decoration-color: #00af00\">256</span>, <span style=\"color: #00af00; text-decoration-color: #00af00\">256</span>)       │             <span style=\"color: #00af00; text-decoration-color: #00af00\">0</span> │\n",
       "├─────────────────────────────────┼────────────────────────┼───────────────┤\n",
       "│ dense_10 (<span style=\"color: #0087ff; text-decoration-color: #0087ff\">Dense</span>)                │ (<span style=\"color: #00d7ff; text-decoration-color: #00d7ff\">None</span>, <span style=\"color: #00af00; text-decoration-color: #00af00\">256</span>, <span style=\"color: #00af00; text-decoration-color: #00af00\">1</span>)         │           <span style=\"color: #00af00; text-decoration-color: #00af00\">257</span> │\n",
       "└─────────────────────────────────┴────────────────────────┴───────────────┘\n",
       "</pre>\n"
      ],
      "text/plain": [
       "┏━━━━━━━━━━━━━━━━━━━━━━━━━━━━━━━━━┳━━━━━━━━━━━━━━━━━━━━━━━━┳━━━━━━━━━━━━━━━┓\n",
       "┃\u001b[1m \u001b[0m\u001b[1mLayer (type)                   \u001b[0m\u001b[1m \u001b[0m┃\u001b[1m \u001b[0m\u001b[1mOutput Shape          \u001b[0m\u001b[1m \u001b[0m┃\u001b[1m \u001b[0m\u001b[1m      Param #\u001b[0m\u001b[1m \u001b[0m┃\n",
       "┡━━━━━━━━━━━━━━━━━━━━━━━━━━━━━━━━━╇━━━━━━━━━━━━━━━━━━━━━━━━╇━━━━━━━━━━━━━━━┩\n",
       "│ encoder_inputs (\u001b[38;5;33mInputLayer\u001b[0m)     │ (\u001b[38;5;45mNone\u001b[0m, \u001b[38;5;34m256\u001b[0m)            │             \u001b[38;5;34m0\u001b[0m │\n",
       "├─────────────────────────────────┼────────────────────────┼───────────────┤\n",
       "│ positional_embedding_3          │ (\u001b[38;5;45mNone\u001b[0m, \u001b[38;5;34m256\u001b[0m, \u001b[38;5;34m256\u001b[0m)       │     \u001b[38;5;34m2,625,536\u001b[0m │\n",
       "│ (\u001b[38;5;33mPositionalEmbedding\u001b[0m)           │                        │               │\n",
       "├─────────────────────────────────┼────────────────────────┼───────────────┤\n",
       "│ transformer_encoder_2           │ (\u001b[38;5;45mNone\u001b[0m, \u001b[38;5;34m256\u001b[0m, \u001b[38;5;34m256\u001b[0m)       │     \u001b[38;5;34m3,155,456\u001b[0m │\n",
       "│ (\u001b[38;5;33mTransformerEncoder\u001b[0m)            │                        │               │\n",
       "├─────────────────────────────────┼────────────────────────┼───────────────┤\n",
       "│ dropout_6 (\u001b[38;5;33mDropout\u001b[0m)             │ (\u001b[38;5;45mNone\u001b[0m, \u001b[38;5;34m256\u001b[0m, \u001b[38;5;34m256\u001b[0m)       │             \u001b[38;5;34m0\u001b[0m │\n",
       "├─────────────────────────────────┼────────────────────────┼───────────────┤\n",
       "│ dense_10 (\u001b[38;5;33mDense\u001b[0m)                │ (\u001b[38;5;45mNone\u001b[0m, \u001b[38;5;34m256\u001b[0m, \u001b[38;5;34m1\u001b[0m)         │           \u001b[38;5;34m257\u001b[0m │\n",
       "└─────────────────────────────────┴────────────────────────┴───────────────┘\n"
      ]
     },
     "metadata": {},
     "output_type": "display_data"
    },
    {
     "data": {
      "text/html": [
       "<pre style=\"white-space:pre;overflow-x:auto;line-height:normal;font-family:Menlo,'DejaVu Sans Mono',consolas,'Courier New',monospace\"><span style=\"font-weight: bold\"> Total params: </span><span style=\"color: #00af00; text-decoration-color: #00af00\">5,781,249</span> (22.05 MB)\n",
       "</pre>\n"
      ],
      "text/plain": [
       "\u001b[1m Total params: \u001b[0m\u001b[38;5;34m5,781,249\u001b[0m (22.05 MB)\n"
      ]
     },
     "metadata": {},
     "output_type": "display_data"
    },
    {
     "data": {
      "text/html": [
       "<pre style=\"white-space:pre;overflow-x:auto;line-height:normal;font-family:Menlo,'DejaVu Sans Mono',consolas,'Courier New',monospace\"><span style=\"font-weight: bold\"> Trainable params: </span><span style=\"color: #00af00; text-decoration-color: #00af00\">5,781,249</span> (22.05 MB)\n",
       "</pre>\n"
      ],
      "text/plain": [
       "\u001b[1m Trainable params: \u001b[0m\u001b[38;5;34m5,781,249\u001b[0m (22.05 MB)\n"
      ]
     },
     "metadata": {},
     "output_type": "display_data"
    },
    {
     "data": {
      "text/html": [
       "<pre style=\"white-space:pre;overflow-x:auto;line-height:normal;font-family:Menlo,'DejaVu Sans Mono',consolas,'Courier New',monospace\"><span style=\"font-weight: bold\"> Non-trainable params: </span><span style=\"color: #00af00; text-decoration-color: #00af00\">0</span> (0.00 B)\n",
       "</pre>\n"
      ],
      "text/plain": [
       "\u001b[1m Non-trainable params: \u001b[0m\u001b[38;5;34m0\u001b[0m (0.00 B)\n"
      ]
     },
     "metadata": {},
     "output_type": "display_data"
    }
   ],
   "source": [
    "# Define constants\n",
    "embed_dim = 256\n",
    "dense_dim = 2048\n",
    "num_heads = 8\n",
    "vocab_size = 10000\n",
    "sequence_length = 256\n",
    "\n",
    "# Define model inputs\n",
    "encoder_inputs = tf.keras.Input(shape=(sequence_length,), dtype=\"int64\", name=\"encoder_inputs\")\n",
    "\n",
    "# Define positional embeddings\n",
    "encoder_embeddings = PositionalEmbedding(sequence_length, vocab_size, embed_dim)(encoder_inputs)\n",
    "\n",
    "# Define transformer encoder with regularization\n",
    "encoder_outputs = TransformerEncoder(embed_dim, dense_dim, num_heads)(encoder_embeddings)\n",
    "\n",
    "# Add dropout layer\n",
    "dropout = layers.Dropout(0.3)(encoder_outputs)\n",
    "\n",
    "# Define model outputs\n",
    "outputs = layers.Dense(1)(dropout)\n",
    "\n",
    "# Define the model\n",
    "transformer = Model(encoder_inputs, outputs)\n",
    "\n",
    "# Compile the model\n",
    "transformer.compile(optimizer=tf.keras.optimizers.Adam(learning_rate=0.001),\n",
    "                    loss=\"mean_squared_error\",\n",
    "                    metrics=[\"mean_squared_error\"])\n",
    "\n",
    "# Print the model summary\n",
    "transformer.summary()"
   ]
  },
  {
   "cell_type": "code",
   "execution_count": 41,
   "id": "b0165c78-159d-487e-850d-69041d8f00d2",
   "metadata": {},
   "outputs": [
    {
     "name": "stdout",
     "output_type": "stream",
     "text": [
      "Epoch 1/20\n",
      "\u001b[1m925/925\u001b[0m \u001b[32m━━━━━━━━━━━━━━━━━━━━\u001b[0m\u001b[37m\u001b[0m \u001b[1m574s\u001b[0m 620ms/step - loss: 8.3473 - mean_squared_error: 3.2062 - val_loss: 1.1590 - val_mean_squared_error: 0.7629\n",
      "Epoch 2/20\n",
      "\u001b[1m925/925\u001b[0m \u001b[32m━━━━━━━━━━━━━━━━━━━━\u001b[0m\u001b[37m\u001b[0m \u001b[1m577s\u001b[0m 624ms/step - loss: 1.7454 - mean_squared_error: 1.5083 - val_loss: 0.7317 - val_mean_squared_error: 0.7067\n",
      "Epoch 3/20\n",
      "\u001b[1m925/925\u001b[0m \u001b[32m━━━━━━━━━━━━━━━━━━━━\u001b[0m\u001b[37m\u001b[0m \u001b[1m578s\u001b[0m 625ms/step - loss: 1.4833 - mean_squared_error: 1.4670 - val_loss: 0.7101 - val_mean_squared_error: 0.7082\n",
      "Epoch 4/20\n",
      "\u001b[1m925/925\u001b[0m \u001b[32m━━━━━━━━━━━━━━━━━━━━\u001b[0m\u001b[37m\u001b[0m \u001b[1m568s\u001b[0m 614ms/step - loss: 1.4630 - mean_squared_error: 1.4602 - val_loss: 0.7073 - val_mean_squared_error: 0.7070\n",
      "Epoch 5/20\n",
      "\u001b[1m925/925\u001b[0m \u001b[32m━━━━━━━━━━━━━━━━━━━━\u001b[0m\u001b[37m\u001b[0m \u001b[1m568s\u001b[0m 614ms/step - loss: 1.4551 - mean_squared_error: 1.4541 - val_loss: 0.7119 - val_mean_squared_error: 0.7113\n"
     ]
    }
   ],
   "source": [
    "# Step 4: Train Model\n",
    "# Define early stopping\n",
    "early_stopping = tf.keras.callbacks.EarlyStopping(\n",
    "    monitor='val_mean_squared_error',\n",
    "    patience=3,\n",
    "    restore_best_weights=True\n",
    ")\n",
    "\n",
    "# Train the model\n",
    "history = transformer.fit(train_ds, epochs=20, validation_data=val_ds, callbacks=[early_stopping])"
   ]
  },
  {
   "cell_type": "code",
   "execution_count": 42,
   "id": "c240778a-da9a-4b30-a201-cf07a5a2795d",
   "metadata": {},
   "outputs": [
    {
     "name": "stdout",
     "output_type": "stream",
     "text": [
      "\u001b[1m199/199\u001b[0m \u001b[32m━━━━━━━━━━━━━━━━━━━━\u001b[0m\u001b[37m\u001b[0m \u001b[1m44s\u001b[0m 222ms/step - loss: 0.1687 - mean_squared_error: 0.1436\n",
      "Test MSE: 0.3789750337600708\n"
     ]
    },
    {
     "data": {
      "image/png": "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",
      "text/plain": [
       "<Figure size 1000x600 with 1 Axes>"
      ]
     },
     "metadata": {},
     "output_type": "display_data"
    }
   ],
   "source": [
    "# Step 5: Evaluate the model on the test data\n",
    "test_loss, test_mse = transformer.evaluate(test_ds)\n",
    "print(f\"Test MSE: {test_mse}\")\n",
    "\n",
    "# Plot training and validation MSE over epochs\n",
    "import matplotlib.pyplot as plt\n",
    "\n",
    "train_mse = history.history['mean_squared_error']\n",
    "val_mse = history.history['val_mean_squared_error']\n",
    "\n",
    "plt.figure(figsize=(10, 6))\n",
    "plt.plot(train_mse, label='Training MSE')\n",
    "plt.plot(val_mse, label='Validation MSE')\n",
    "plt.xlabel('Epochs')\n",
    "plt.ylabel('Mean Squared Error (MSE)')\n",
    "plt.title('Training and Validation MSE Over Epochs')\n",
    "plt.legend()\n",
    "plt.show()"
   ]
  },
  {
   "cell_type": "code",
   "execution_count": 43,
   "id": "7dbebf5e-14a8-4cfd-a7ce-cece3aae57eb",
   "metadata": {},
   "outputs": [
    {
     "name": "stdout",
     "output_type": "stream",
     "text": [
      "Final Train MSE: 0.9725810885429382\n",
      "Final Validation MSE: 0.7113028764724731\n"
     ]
    }
   ],
   "source": [
    "# Extract training and validation MSE from the history object\n",
    "train_mse = history.history['mean_squared_error']\n",
    "val_mse = history.history['val_mean_squared_error']\n",
    "\n",
    "# Get the final MSE values\n",
    "final_train_mse = train_mse[-1]\n",
    "final_val_mse = val_mse[-1]\n",
    "\n",
    "print(f\"Final Train MSE: {final_train_mse}\")\n",
    "print(f\"Final Validation MSE: {final_val_mse}\")"
   ]
  },
  {
   "cell_type": "code",
   "execution_count": null,
   "id": "93bff69e-b547-4437-89e5-066436e5dffd",
=======
   "cell_type": "code",
   "execution_count": null,
   "id": "aa38a40d-fd24-4cc5-a325-10c744248968",
>>>>>>> 286acb0 (update transformers)
   "metadata": {},
   "outputs": [],
   "source": []
  }
 ],
 "metadata": {
  "kernelspec": {
   "display_name": "Python 3 (ipykernel)",
   "language": "python",
   "name": "python3"
  },
  "language_info": {
   "codemirror_mode": {
    "name": "ipython",
    "version": 3
   },
   "file_extension": ".py",
   "mimetype": "text/x-python",
   "name": "python",
   "nbconvert_exporter": "python",
   "pygments_lexer": "ipython3",
   "version": "3.12.4"
  }
 },
 "nbformat": 4,
 "nbformat_minor": 5
}
