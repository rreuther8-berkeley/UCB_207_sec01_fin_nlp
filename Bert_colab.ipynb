{
  "cells": [
    {
      "cell_type": "code",
      "source": [
        "!pip install \"tf-models-official==2.13.*\""
      ],
      "metadata": {
        "id": "RBVBJ-uFkwVW"
      },
      "id": "RBVBJ-uFkwVW",
      "execution_count": null,
      "outputs": []
    },
    {
      "cell_type": "code",
      "source": [
        "!pip install -U \"tensorflow-text==2.13.*\""
      ],
      "metadata": {
        "id": "OPs3U9cUk04F"
      },
      "id": "OPs3U9cUk04F",
      "execution_count": null,
      "outputs": []
    },
    {
      "cell_type": "code",
      "source": [
        "import os\n",
        "import shutil\n",
        "\n",
        "import tensorflow as tf\n",
        "import tensorflow_hub as hub\n",
        "import tensorflow_text as text\n",
        "from official.nlp import optimization  # to create AdamW optimizer\n",
        "\n",
        "import matplotlib.pyplot as plt\n",
        "\n",
        "tf.get_logger().setLevel('ERROR')"
      ],
      "metadata": {
        "id": "Ol-iWEKdj7k-"
      },
      "id": "Ol-iWEKdj7k-",
      "execution_count": 46,
      "outputs": []
    },
    {
      "cell_type": "code",
      "execution_count": 47,
      "id": "3d399320-08a3-41cd-96d3-057c91950c90",
      "metadata": {
        "id": "3d399320-08a3-41cd-96d3-057c91950c90"
      },
      "outputs": [],
      "source": [
        "import pandas as pd\n",
        "from datetime import timedelta\n",
        "from datetime import datetime\n",
        "import string\n",
        "import numpy as np\n",
        "import os"
      ]
    },
    {
      "cell_type": "code",
      "execution_count": 48,
      "id": "cc57afcd-abe8-4738-b00a-1a9963ba906e",
      "metadata": {
        "id": "cc57afcd-abe8-4738-b00a-1a9963ba906e"
      },
      "outputs": [],
      "source": [
        "import matplotlib.pyplot as plt\n",
        "from sklearn.metrics import precision_score, recall_score, f1_score, roc_auc_score\n",
        "import seaborn as sns"
      ]
    },
    {
      "cell_type": "code",
      "execution_count": 49,
      "id": "9e53c41b-793a-46bf-9f87-dc37f1c982e7",
      "metadata": {
        "id": "9e53c41b-793a-46bf-9f87-dc37f1c982e7"
      },
      "outputs": [],
      "source": [
        "\n",
        "\n",
        "from tensorflow import keras\n",
        "from tensorflow.keras.models import Sequential\n",
        "from tensorflow.keras.layers import  Dense,Dropout\n",
        "from tensorflow.keras.metrics import MSE\n",
        "from sklearn.metrics import confusion_matrix, classification_report\n",
        "\n",
        "#import keras_nlp\n"
      ]
    },
    {
      "cell_type": "code",
      "source": [
        "\n",
        "X_train= pd.read_csv('X_train.csv')\n",
        "#y_train= pd.read_csv('y_train.csv')\n",
        "\n",
        "X_val= pd.read_csv('X_val.csv')\n",
        "#y_val= pd.read_csv('y_val.csv')\n",
        "\n",
        "X_test= pd.read_csv('X_test.csv')\n",
        "#y_test= pd.read_csv('y_test.csv')"
      ],
      "metadata": {
        "id": "xjfOmRHreAl9"
      },
      "id": "xjfOmRHreAl9",
      "execution_count": 50,
      "outputs": []
    },
    {
      "cell_type": "code",
      "source": [
        "X_train.info()"
      ],
      "metadata": {
        "colab": {
          "base_uri": "https://localhost:8080/"
        },
        "id": "Z_l3Kghlbz0O",
        "outputId": "351d5db0-35bc-4f85-bfdf-8550d8142adb"
      },
      "id": "Z_l3Kghlbz0O",
      "execution_count": 51,
      "outputs": [
        {
          "output_type": "stream",
          "name": "stdout",
          "text": [
            "<class 'pandas.core.frame.DataFrame'>\n",
            "RangeIndex: 22832 entries, 0 to 22831\n",
            "Data columns (total 32 columns):\n",
            " #   Column                     Non-Null Count  Dtype  \n",
            "---  ------                     --------------  -----  \n",
            " 0   id                         22832 non-null  object \n",
            " 1   author                     22832 non-null  object \n",
            " 2   created                    22832 non-null  object \n",
            " 3   retrieved                  22832 non-null  object \n",
            " 4   edited                     22832 non-null  object \n",
            " 5   pinned                     22832 non-null  int64  \n",
            " 6   archived                   22832 non-null  int64  \n",
            " 7   locked                     22832 non-null  int64  \n",
            " 8   removed                    22832 non-null  int64  \n",
            " 9   deleted                    22832 non-null  int64  \n",
            " 10  is_self                    22832 non-null  int64  \n",
            " 11  is_video                   22832 non-null  int64  \n",
            " 12  is_original_content        22832 non-null  int64  \n",
            " 13  title                      22832 non-null  object \n",
            " 14  link_flair_text            15158 non-null  object \n",
            " 15  upvote_ratio               22832 non-null  float64\n",
            " 16  gilded                     22832 non-null  int64  \n",
            " 17  total_awards_received      22832 non-null  int64  \n",
            " 18  file                       22832 non-null  object \n",
            " 19  num_comments               22832 non-null  int64  \n",
            " 20  num_crossposts             22832 non-null  int64  \n",
            " 21  selftext                   22832 non-null  object \n",
            " 22  fulltext                   22831 non-null  object \n",
            " 23  thumbnail                  22831 non-null  object \n",
            " 24  shortlink                  22831 non-null  object \n",
            " 25  upvote_ratio_std           22831 non-null  float64\n",
            " 26  score_std                  22831 non-null  float64\n",
            " 27  gilded_std                 22831 non-null  float64\n",
            " 28  total_awards_received_std  22831 non-null  float64\n",
            " 29  num_comments_std           22831 non-null  float64\n",
            " 30  num_crossposts_std         22831 non-null  float64\n",
            " 31  engagement_score_std       22831 non-null  float64\n",
            "dtypes: float64(8), int64(12), object(12)\n",
            "memory usage: 5.6+ MB\n"
          ]
        }
      ]
    },
    {
      "cell_type": "code",
      "source": [
        "X_test.info()"
      ],
      "metadata": {
        "colab": {
          "base_uri": "https://localhost:8080/"
        },
        "id": "dhmfaJVtb2gJ",
        "outputId": "ae8089e2-1168-4d35-92ff-5b2c3c8a1b9b"
      },
      "id": "dhmfaJVtb2gJ",
      "execution_count": 52,
      "outputs": [
        {
          "output_type": "stream",
          "name": "stdout",
          "text": [
            "<class 'pandas.core.frame.DataFrame'>\n",
            "RangeIndex: 6338 entries, 0 to 6337\n",
            "Data columns (total 32 columns):\n",
            " #   Column                     Non-Null Count  Dtype  \n",
            "---  ------                     --------------  -----  \n",
            " 0   id                         6338 non-null   object \n",
            " 1   author                     6338 non-null   object \n",
            " 2   created                    6338 non-null   object \n",
            " 3   retrieved                  6338 non-null   object \n",
            " 4   edited                     6338 non-null   object \n",
            " 5   pinned                     6338 non-null   int64  \n",
            " 6   archived                   6338 non-null   int64  \n",
            " 7   locked                     6338 non-null   int64  \n",
            " 8   removed                    6338 non-null   int64  \n",
            " 9   deleted                    6338 non-null   int64  \n",
            " 10  is_self                    6338 non-null   int64  \n",
            " 11  is_video                   6338 non-null   int64  \n",
            " 12  is_original_content        6338 non-null   int64  \n",
            " 13  title                      6338 non-null   object \n",
            " 14  link_flair_text            4256 non-null   object \n",
            " 15  upvote_ratio               6338 non-null   float64\n",
            " 16  gilded                     6338 non-null   int64  \n",
            " 17  total_awards_received      6338 non-null   int64  \n",
            " 18  file                       6338 non-null   object \n",
            " 19  num_comments               6338 non-null   int64  \n",
            " 20  num_crossposts             6338 non-null   int64  \n",
            " 21  selftext                   6338 non-null   object \n",
            " 22  fulltext                   6338 non-null   object \n",
            " 23  thumbnail                  6338 non-null   object \n",
            " 24  shortlink                  6338 non-null   object \n",
            " 25  upvote_ratio_std           6338 non-null   float64\n",
            " 26  score_std                  6338 non-null   float64\n",
            " 27  gilded_std                 6338 non-null   float64\n",
            " 28  total_awards_received_std  6338 non-null   float64\n",
            " 29  num_comments_std           6338 non-null   float64\n",
            " 30  num_crossposts_std         6338 non-null   float64\n",
            " 31  engagement_score_std       6338 non-null   float64\n",
            "dtypes: float64(8), int64(12), object(12)\n",
            "memory usage: 1.5+ MB\n"
          ]
        }
      ]
    },
    {
      "cell_type": "code",
      "source": [
        "X_val.info()"
      ],
      "metadata": {
        "colab": {
          "base_uri": "https://localhost:8080/"
        },
        "id": "AZJo4HPhb4O0",
        "outputId": "8db2eeb4-0d75-4359-d7f8-aaa510f058ec"
      },
      "id": "AZJo4HPhb4O0",
      "execution_count": 53,
      "outputs": [
        {
          "output_type": "stream",
          "name": "stdout",
          "text": [
            "<class 'pandas.core.frame.DataFrame'>\n",
            "RangeIndex: 6337 entries, 0 to 6336\n",
            "Data columns (total 32 columns):\n",
            " #   Column                     Non-Null Count  Dtype  \n",
            "---  ------                     --------------  -----  \n",
            " 0   id                         6337 non-null   object \n",
            " 1   author                     6337 non-null   object \n",
            " 2   created                    6337 non-null   object \n",
            " 3   retrieved                  6337 non-null   object \n",
            " 4   edited                     6337 non-null   object \n",
            " 5   pinned                     6337 non-null   int64  \n",
            " 6   archived                   6337 non-null   int64  \n",
            " 7   locked                     6337 non-null   int64  \n",
            " 8   removed                    6337 non-null   int64  \n",
            " 9   deleted                    6337 non-null   int64  \n",
            " 10  is_self                    6337 non-null   int64  \n",
            " 11  is_video                   6337 non-null   int64  \n",
            " 12  is_original_content        6337 non-null   int64  \n",
            " 13  title                      6337 non-null   object \n",
            " 14  link_flair_text            4215 non-null   object \n",
            " 15  upvote_ratio               6337 non-null   float64\n",
            " 16  gilded                     6337 non-null   int64  \n",
            " 17  total_awards_received      6337 non-null   int64  \n",
            " 18  file                       6337 non-null   object \n",
            " 19  num_comments               6337 non-null   int64  \n",
            " 20  num_crossposts             6337 non-null   int64  \n",
            " 21  selftext                   6337 non-null   object \n",
            " 22  fulltext                   6337 non-null   object \n",
            " 23  thumbnail                  6337 non-null   object \n",
            " 24  shortlink                  6337 non-null   object \n",
            " 25  upvote_ratio_std           6337 non-null   float64\n",
            " 26  score_std                  6337 non-null   float64\n",
            " 27  gilded_std                 6337 non-null   float64\n",
            " 28  total_awards_received_std  6337 non-null   float64\n",
            " 29  num_comments_std           6337 non-null   float64\n",
            " 30  num_crossposts_std         6337 non-null   float64\n",
            " 31  engagement_score_std       6337 non-null   float64\n",
            "dtypes: float64(8), int64(12), object(12)\n",
            "memory usage: 1.5+ MB\n"
          ]
        }
      ]
    },
    {
      "cell_type": "code",
      "execution_count": 54,
      "id": "b4d73d4e-f3ca-4e56-8848-beacba2241eb",
      "metadata": {
        "id": "b4d73d4e-f3ca-4e56-8848-beacba2241eb"
      },
      "outputs": [],
      "source": [
        "X_train['all_words']=X_train['title']+' '+ X_train['selftext']\n",
        "X_test['all_words']=X_test['title']+' '+ X_test['selftext']\n",
        "X_val['all_words']=X_val['title']+' '+ X_val['selftext']"
      ]
    },
    {
      "cell_type": "code",
      "source": [
        "ind=X_train[X_train['engagement_score_std'].isna()].index\n",
        "X_train=X_train.drop(ind)"
      ],
      "metadata": {
        "id": "pBlvlbrTgESO"
      },
      "id": "pBlvlbrTgESO",
      "execution_count": 58,
      "outputs": []
    },
    {
      "cell_type": "code",
      "source": [
        "X_val[X_val['engagement_score_std'].isna()].index"
      ],
      "metadata": {
        "colab": {
          "base_uri": "https://localhost:8080/"
        },
        "id": "x9uuAwOahAnU",
        "outputId": "c0fb9e46-5b4f-4770-e13c-624dea4103ea"
      },
      "id": "x9uuAwOahAnU",
      "execution_count": 59,
      "outputs": [
        {
          "output_type": "execute_result",
          "data": {
            "text/plain": [
              "Index([], dtype='int64')"
            ]
          },
          "metadata": {},
          "execution_count": 59
        }
      ]
    },
    {
      "cell_type": "code",
      "source": [
        "X_test[X_test['engagement_score_std'].isna()].index"
      ],
      "metadata": {
        "colab": {
          "base_uri": "https://localhost:8080/"
        },
        "id": "OodezIO6hGmj",
        "outputId": "0ab8df44-ce54-4440-9d66-19ac9fe65b18"
      },
      "id": "OodezIO6hGmj",
      "execution_count": 60,
      "outputs": [
        {
          "output_type": "execute_result",
          "data": {
            "text/plain": [
              "Index([], dtype='int64')"
            ]
          },
          "metadata": {},
          "execution_count": 60
        }
      ]
    },
    {
      "cell_type": "code",
      "execution_count": 61,
      "id": "bf5c8639-ae52-4b3b-9dc6-7744210ce0ff",
      "metadata": {
        "id": "bf5c8639-ae52-4b3b-9dc6-7744210ce0ff"
      },
      "outputs": [],
      "source": [
        "y_train=X_train['engagement_score_std'].values\n",
        "y_val=X_val['engagement_score_std'].values\n",
        "y_test=X_test['engagement_score_std'].values\n",
        "\n",
        "X_train=X_train['all_words'].apply(lambda x: str(x)).values\n",
        "X_val=X_val['all_words'].apply(lambda x: str(x)).values\n",
        "X_test=X_test['all_words'].apply(lambda x: str(x)).values\n"
      ]
    },
    {
      "cell_type": "code",
      "source": [
        "bert_model_name = 'small_bert/bert_en_uncased_L-2_H-256_A-4'\n",
        "\n",
        "map_name_to_handle = {\n",
        "    'bert_en_uncased_L-12_H-768_A-12':\n",
        "        'https://tfhub.dev/tensorflow/bert_en_uncased_L-12_H-768_A-12/3',\n",
        "    'bert_en_cased_L-12_H-768_A-12':\n",
        "        'https://tfhub.dev/tensorflow/bert_en_cased_L-12_H-768_A-12/3',\n",
        "    'bert_multi_cased_L-12_H-768_A-12':\n",
        "        'https://tfhub.dev/tensorflow/bert_multi_cased_L-12_H-768_A-12/3',\n",
        "    'small_bert/bert_en_uncased_L-2_H-128_A-2':\n",
        "        'https://tfhub.dev/tensorflow/small_bert/bert_en_uncased_L-2_H-128_A-2/1',\n",
        "    'small_bert/bert_en_uncased_L-2_H-256_A-4':\n",
        "        'https://tfhub.dev/tensorflow/small_bert/bert_en_uncased_L-2_H-256_A-4/1',\n",
        "    'small_bert/bert_en_uncased_L-2_H-512_A-8':\n",
        "        'https://tfhub.dev/tensorflow/small_bert/bert_en_uncased_L-2_H-512_A-8/1',\n",
        "    'small_bert/bert_en_uncased_L-2_H-768_A-12':\n",
        "        'https://tfhub.dev/tensorflow/small_bert/bert_en_uncased_L-2_H-768_A-12/1',\n",
        "    'small_bert/bert_en_uncased_L-4_H-128_A-2':\n",
        "        'https://tfhub.dev/tensorflow/small_bert/bert_en_uncased_L-4_H-128_A-2/1',\n",
        "    'small_bert/bert_en_uncased_L-4_H-256_A-4':\n",
        "        'https://tfhub.dev/tensorflow/small_bert/bert_en_uncased_L-4_H-256_A-4/1',\n",
        "    'small_bert/bert_en_uncased_L-4_H-512_A-8':\n",
        "        'https://tfhub.dev/tensorflow/small_bert/bert_en_uncased_L-4_H-512_A-8/1',\n",
        "    'small_bert/bert_en_uncased_L-4_H-768_A-12':\n",
        "        'https://tfhub.dev/tensorflow/small_bert/bert_en_uncased_L-4_H-768_A-12/1',\n",
        "    'small_bert/bert_en_uncased_L-6_H-128_A-2':\n",
        "        'https://tfhub.dev/tensorflow/small_bert/bert_en_uncased_L-6_H-128_A-2/1',\n",
        "    'small_bert/bert_en_uncased_L-6_H-256_A-4':\n",
        "        'https://tfhub.dev/tensorflow/small_bert/bert_en_uncased_L-6_H-256_A-4/1',\n",
        "    'small_bert/bert_en_uncased_L-6_H-512_A-8':\n",
        "        'https://tfhub.dev/tensorflow/small_bert/bert_en_uncased_L-6_H-512_A-8/1',\n",
        "    'small_bert/bert_en_uncased_L-6_H-768_A-12':\n",
        "        'https://tfhub.dev/tensorflow/small_bert/bert_en_uncased_L-6_H-768_A-12/1',\n",
        "    'small_bert/bert_en_uncased_L-8_H-128_A-2':\n",
        "        'https://tfhub.dev/tensorflow/small_bert/bert_en_uncased_L-8_H-128_A-2/1',\n",
        "    'small_bert/bert_en_uncased_L-8_H-256_A-4':\n",
        "        'https://tfhub.dev/tensorflow/small_bert/bert_en_uncased_L-8_H-256_A-4/1',\n",
        "    'small_bert/bert_en_uncased_L-8_H-512_A-8':\n",
        "        'https://tfhub.dev/tensorflow/small_bert/bert_en_uncased_L-8_H-512_A-8/1',\n",
        "    'small_bert/bert_en_uncased_L-8_H-768_A-12':\n",
        "        'https://tfhub.dev/tensorflow/small_bert/bert_en_uncased_L-8_H-768_A-12/1',\n",
        "    'small_bert/bert_en_uncased_L-10_H-128_A-2':\n",
        "        'https://tfhub.dev/tensorflow/small_bert/bert_en_uncased_L-10_H-128_A-2/1',\n",
        "    'small_bert/bert_en_uncased_L-10_H-256_A-4':\n",
        "        'https://tfhub.dev/tensorflow/small_bert/bert_en_uncased_L-10_H-256_A-4/1',\n",
        "    'small_bert/bert_en_uncased_L-10_H-512_A-8':\n",
        "        'https://tfhub.dev/tensorflow/small_bert/bert_en_uncased_L-10_H-512_A-8/1',\n",
        "    'small_bert/bert_en_uncased_L-10_H-768_A-12':\n",
        "        'https://tfhub.dev/tensorflow/small_bert/bert_en_uncased_L-10_H-768_A-12/1',\n",
        "    'small_bert/bert_en_uncased_L-12_H-128_A-2':\n",
        "        'https://tfhub.dev/tensorflow/small_bert/bert_en_uncased_L-12_H-128_A-2/1',\n",
        "    'small_bert/bert_en_uncased_L-12_H-256_A-4':\n",
        "        'https://tfhub.dev/tensorflow/small_bert/bert_en_uncased_L-12_H-256_A-4/1',\n",
        "    'small_bert/bert_en_uncased_L-12_H-512_A-8':\n",
        "        'https://tfhub.dev/tensorflow/small_bert/bert_en_uncased_L-12_H-512_A-8/1',\n",
        "    'small_bert/bert_en_uncased_L-12_H-768_A-12':\n",
        "        'https://tfhub.dev/tensorflow/small_bert/bert_en_uncased_L-12_H-768_A-12/1',\n",
        "    'albert_en_base':\n",
        "        'https://tfhub.dev/tensorflow/albert_en_base/2',\n",
        "    'electra_small':\n",
        "        'https://tfhub.dev/google/electra_small/2',\n",
        "    'electra_base':\n",
        "        'https://tfhub.dev/google/electra_base/2',\n",
        "    'experts_pubmed':\n",
        "        'https://tfhub.dev/google/experts/bert/pubmed/2',\n",
        "    'experts_wiki_books':\n",
        "        'https://tfhub.dev/google/experts/bert/wiki_books/2',\n",
        "    'talking-heads_base':\n",
        "        'https://tfhub.dev/tensorflow/talkheads_ggelu_bert_en_base/1',\n",
        "}\n",
        "\n",
        "map_model_to_preprocess = {\n",
        "    'bert_en_uncased_L-12_H-768_A-12':\n",
        "        'https://tfhub.dev/tensorflow/bert_en_uncased_preprocess/3',\n",
        "    'bert_en_cased_L-12_H-768_A-12':\n",
        "        'https://tfhub.dev/tensorflow/bert_en_cased_preprocess/3',\n",
        "    'small_bert/bert_en_uncased_L-2_H-128_A-2':\n",
        "        'https://tfhub.dev/tensorflow/bert_en_uncased_preprocess/3',\n",
        "    'small_bert/bert_en_uncased_L-2_H-256_A-4':\n",
        "        'https://tfhub.dev/tensorflow/bert_en_uncased_preprocess/3',\n",
        "    'small_bert/bert_en_uncased_L-2_H-512_A-8':\n",
        "        'https://tfhub.dev/tensorflow/bert_en_uncased_preprocess/3',\n",
        "    'small_bert/bert_en_uncased_L-2_H-768_A-12':\n",
        "        'https://tfhub.dev/tensorflow/bert_en_uncased_preprocess/3',\n",
        "    'small_bert/bert_en_uncased_L-4_H-128_A-2':\n",
        "        'https://tfhub.dev/tensorflow/bert_en_uncased_preprocess/3',\n",
        "    'small_bert/bert_en_uncased_L-4_H-256_A-4':\n",
        "        'https://tfhub.dev/tensorflow/bert_en_uncased_preprocess/3',\n",
        "    'small_bert/bert_en_uncased_L-4_H-512_A-8':\n",
        "        'https://tfhub.dev/tensorflow/bert_en_uncased_preprocess/3',\n",
        "    'small_bert/bert_en_uncased_L-4_H-768_A-12':\n",
        "        'https://tfhub.dev/tensorflow/bert_en_uncased_preprocess/3',\n",
        "    'small_bert/bert_en_uncased_L-6_H-128_A-2':\n",
        "        'https://tfhub.dev/tensorflow/bert_en_uncased_preprocess/3',\n",
        "    'small_bert/bert_en_uncased_L-6_H-256_A-4':\n",
        "        'https://tfhub.dev/tensorflow/bert_en_uncased_preprocess/3',\n",
        "    'small_bert/bert_en_uncased_L-6_H-512_A-8':\n",
        "        'https://tfhub.dev/tensorflow/bert_en_uncased_preprocess/3',\n",
        "    'small_bert/bert_en_uncased_L-6_H-768_A-12':\n",
        "        'https://tfhub.dev/tensorflow/bert_en_uncased_preprocess/3',\n",
        "    'small_bert/bert_en_uncased_L-8_H-128_A-2':\n",
        "        'https://tfhub.dev/tensorflow/bert_en_uncased_preprocess/3',\n",
        "    'small_bert/bert_en_uncased_L-8_H-256_A-4':\n",
        "        'https://tfhub.dev/tensorflow/bert_en_uncased_preprocess/3',\n",
        "    'small_bert/bert_en_uncased_L-8_H-512_A-8':\n",
        "        'https://tfhub.dev/tensorflow/bert_en_uncased_preprocess/3',\n",
        "    'small_bert/bert_en_uncased_L-8_H-768_A-12':\n",
        "        'https://tfhub.dev/tensorflow/bert_en_uncased_preprocess/3',\n",
        "    'small_bert/bert_en_uncased_L-10_H-128_A-2':\n",
        "        'https://tfhub.dev/tensorflow/bert_en_uncased_preprocess/3',\n",
        "    'small_bert/bert_en_uncased_L-10_H-256_A-4':\n",
        "        'https://tfhub.dev/tensorflow/bert_en_uncased_preprocess/3',\n",
        "    'small_bert/bert_en_uncased_L-10_H-512_A-8':\n",
        "        'https://tfhub.dev/tensorflow/bert_en_uncased_preprocess/3',\n",
        "    'small_bert/bert_en_uncased_L-10_H-768_A-12':\n",
        "        'https://tfhub.dev/tensorflow/bert_en_uncased_preprocess/3',\n",
        "    'small_bert/bert_en_uncased_L-12_H-128_A-2':\n",
        "        'https://tfhub.dev/tensorflow/bert_en_uncased_preprocess/3',\n",
        "    'small_bert/bert_en_uncased_L-12_H-256_A-4':\n",
        "        'https://tfhub.dev/tensorflow/bert_en_uncased_preprocess/3',\n",
        "    'small_bert/bert_en_uncased_L-12_H-512_A-8':\n",
        "        'https://tfhub.dev/tensorflow/bert_en_uncased_preprocess/3',\n",
        "    'small_bert/bert_en_uncased_L-12_H-768_A-12':\n",
        "        'https://tfhub.dev/tensorflow/bert_en_uncased_preprocess/3',\n",
        "    'bert_multi_cased_L-12_H-768_A-12':\n",
        "        'https://tfhub.dev/tensorflow/bert_multi_cased_preprocess/3',\n",
        "    'albert_en_base':\n",
        "        'https://tfhub.dev/tensorflow/albert_en_preprocess/3',\n",
        "    'electra_small':\n",
        "        'https://tfhub.dev/tensorflow/bert_en_uncased_preprocess/3',\n",
        "    'electra_base':\n",
        "        'https://tfhub.dev/tensorflow/bert_en_uncased_preprocess/3',\n",
        "    'experts_pubmed':\n",
        "        'https://tfhub.dev/tensorflow/bert_en_uncased_preprocess/3',\n",
        "    'experts_wiki_books':\n",
        "        'https://tfhub.dev/tensorflow/bert_en_uncased_preprocess/3',\n",
        "    'talking-heads_base':\n",
        "        'https://tfhub.dev/tensorflow/bert_en_uncased_preprocess/3',\n",
        "}\n",
        "\n",
        "tfhub_handle_encoder = map_name_to_handle[bert_model_name]\n",
        "tfhub_handle_preprocess = map_model_to_preprocess[bert_model_name]\n",
        "\n",
        "print(f'BERT model selected           : {tfhub_handle_encoder}')\n",
        "print(f'Preprocess model auto-selected: {tfhub_handle_preprocess}')"
      ],
      "metadata": {
        "colab": {
          "base_uri": "https://localhost:8080/"
        },
        "id": "zOwyLp7AzdoV",
        "outputId": "99bf68fa-1f2c-47b4-9232-528d7d93188b"
      },
      "id": "zOwyLp7AzdoV",
      "execution_count": 62,
      "outputs": [
        {
          "output_type": "stream",
          "name": "stdout",
          "text": [
            "BERT model selected           : https://tfhub.dev/tensorflow/small_bert/bert_en_uncased_L-2_H-256_A-4/1\n",
            "Preprocess model auto-selected: https://tfhub.dev/tensorflow/bert_en_uncased_preprocess/3\n"
          ]
        }
      ]
    },
    {
      "cell_type": "code",
      "source": [
        "def build_reg_model():\n",
        "  text_input = tf.keras.layers.Input(shape=(), dtype=tf.string, name='text')\n",
        "  preprocessing_layer = hub.KerasLayer(tfhub_handle_preprocess, name='preprocessing')\n",
        "  encoder_inputs = preprocessing_layer(text_input)\n",
        "  encoder = hub.KerasLayer(tfhub_handle_encoder, trainable=True, name='BERT_encoder')\n",
        "  outputs = encoder(encoder_inputs)\n",
        "  net = outputs['pooled_output']\n",
        "  net = tf.keras.layers.Dropout(0.1)(net)\n",
        "  net = tf.keras.layers.Dense(1, activation=None, name='reg')(net)\n",
        "\n",
        "  return tf.keras.Model(text_input, net)\n",
        "\n",
        "reg_model = build_reg_model()\n",
        "optimizer = tf.keras.optimizers.Adam(learning_rate=0.00001)\n",
        "reg_model.compile(optimizer=optimizer, loss='mse', metrics=['mse'])\n",
        "\n",
        "history = reg_model.fit(X_train, y_train, epochs=5, validation_data=(X_val, y_val))"
      ],
      "metadata": {
        "colab": {
          "base_uri": "https://localhost:8080/"
        },
        "id": "0ITznBQ_H-L3",
        "outputId": "e2ae8af4-c3dd-49fd-94d0-3b2ff72bd082"
      },
      "id": "0ITznBQ_H-L3",
      "execution_count": null,
      "outputs": [
        {
          "output_type": "stream",
          "name": "stdout",
          "text": [
            "Epoch 1/5\n",
            "125/714 [====>.........................] - ETA: 14:24 - loss: 2.4920 - mse: 2.4920"
          ]
        }
      ]
    },
    {
      "cell_type": "code",
      "source": [
        "def build_reg_model():\n",
        "  text_input = tf.keras.layers.Input(shape=(), dtype=tf.string, name='text')\n",
        "  preprocessing_layer = hub.KerasLayer(tfhub_handle_preprocess, name='preprocessing')\n",
        "  encoder_inputs = preprocessing_layer(text_input)\n",
        "  encoder = hub.KerasLayer(tfhub_handle_encoder, trainable=True, name='BERT_encoder')\n",
        "  outputs = encoder(encoder_inputs)\n",
        "  net = outputs['pooled_output']\n",
        "  net = tf.keras.layers.Dropout(0.1)(net)\n",
        "  net = tf.keras.layers.Dense(1, activation=None, name='reg')(net)\n",
        "\n",
        "  return tf.keras.Model(text_input, net)\n",
        "\n",
        "reg_model = build_reg_model()\n",
        "optimizer = tf.keras.optimizers.Adam(learning_rate=0.00001)\n",
        "reg_model.compile(optimizer=optimizer, loss='mse', metrics=['mse'])\n",
        "\n",
        "history = reg_model.fit(X_train, y_train, epochs=5, validation_data=(X_val, y_val))"
      ],
      "metadata": {
        "colab": {
          "base_uri": "https://localhost:8080/"
        },
        "id": "qn2eq8uP0Lx_",
        "outputId": "154cdedc-8ced-4875-ae5c-57b0689e7f4c"
      },
      "id": "qn2eq8uP0Lx_",
      "execution_count": null,
      "outputs": [
        {
          "output_type": "stream",
          "name": "stdout",
          "text": [
            "Epoch 1/5\n",
            "925/925 [==============================] - 1813s 2s/step - loss: 1.0939 - mse: 1.0939 - val_loss: 0.6412 - val_mse: 0.6412\n",
            "Epoch 2/5\n",
            "339/925 [=========>....................] - ETA: 17:01 - loss: 0.6409 - mse: 0.6409"
          ]
        }
      ]
    },
    {
      "cell_type": "code",
      "execution_count": null,
      "id": "db9d0989-ba71-418d-ab66-0f96b12acecb",
      "metadata": {
        "colab": {
          "base_uri": "https://localhost:8080/"
        },
        "id": "db9d0989-ba71-418d-ab66-0f96b12acecb",
        "outputId": "b954765a-9135-44e9-a579-52903cfb6fb3"
      },
      "outputs": [
        {
          "output_type": "stream",
          "name": "stdout",
          "text": [
            "Epoch 1/5\n",
            "515/515 [==============================] - 1123s 2s/step - loss: nan - mse: nan - val_loss: nan - val_mse: nan\n",
            "Epoch 2/5\n",
            "515/515 [==============================] - 1067s 2s/step - loss: nan - mse: nan - val_loss: nan - val_mse: nan\n",
            "Epoch 3/5\n",
            "515/515 [==============================] - 1070s 2s/step - loss: nan - mse: nan - val_loss: nan - val_mse: nan\n",
            "Epoch 4/5\n",
            "515/515 [==============================] - 1067s 2s/step - loss: nan - mse: nan - val_loss: nan - val_mse: nan\n",
            "Epoch 5/5\n",
            " 14/515 [..............................] - ETA: 15:53 - loss: nan - mse: nan"
          ]
        }
      ],
      "source": [
        "learning_rates = 0.00001 # np.linspace(0.00001, 0.1,5)\n",
        "batch_size=100\n",
        "epochs=5\n",
        "\n",
        "text_input =tf.keras.layers.Input(shape=(), dtype=tf.string, name='text')\n",
        "\n",
        "preprocessing_layer = hub.KerasLayer(tfhub_handle_preprocess, name='preprocessing')\n",
        "encoder_inputs = preprocessing_layer(text_input)\n",
        "encoder = hub.KerasLayer(tfhub_handle_encoder, trainable=True, name='BERT_encoder')\n",
        "outputs = encoder(encoder_inputs)\n",
        "net = outputs['pooled_output']\n",
        "\n",
        "\n",
        "# Neural network layers\n",
        "net=layers.Dropout(0.1)(net)\n",
        "l = tf.keras.layers.Dense(128, activation='relu', name='h1')(net)\n",
        "l = tf.keras.layers.Dense(64, activation='relu',name='h2')(l)\n",
        "l = tf.keras.layers.Dense(32, activation='relu', name='h3')(l)\n",
        "l = tf.keras.layers.Dense(16, activation='relu', name='h4')(l)\n",
        "\n",
        "l =tf.keras.layers.Dense(1,name='output')(l)\n",
        "\n",
        "model=tf.keras.Model(inputs=[text_input],outputs=[l])\n",
        "\n",
        "# Compile the model\n",
        "optimizer = tf.keras.optimizers.Adam(learning_rate=learning_rates)\n",
        "\n",
        "model.compile(optimizer= optimizer, loss='mse', metrics=['mse'])\n",
        "\n",
        "hist = model.fit(X_train, y_train, batch_size=batch_size, epochs=epochs, validation_data=(X_val, y_val))\n"
      ]
    },
    {
      "cell_type": "code",
      "execution_count": null,
      "id": "76a70aae-27cd-4bdc-a8ce-158b56ecfad1",
      "metadata": {
        "id": "76a70aae-27cd-4bdc-a8ce-158b56ecfad1"
      },
      "outputs": [],
      "source": []
    }
  ],
  "metadata": {
    "kernelspec": {
      "display_name": "Python 3",
      "name": "python3"
    },
    "language_info": {
      "codemirror_mode": {
        "name": "ipython",
        "version": 3
      },
      "file_extension": ".py",
      "mimetype": "text/x-python",
      "name": "python",
      "nbconvert_exporter": "python",
      "pygments_lexer": "ipython3",
      "version": "3.11.7"
    },
    "colab": {
      "provenance": [],
      "gpuType": "T4"
    },
    "accelerator": "GPU"
  },
  "nbformat": 4,
  "nbformat_minor": 5
}