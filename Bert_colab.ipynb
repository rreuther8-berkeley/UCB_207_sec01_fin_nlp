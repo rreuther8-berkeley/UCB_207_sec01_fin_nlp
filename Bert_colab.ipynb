{
 "cells": [
  {
   "cell_type": "code",
   "execution_count": null,
   "id": "LnGkrpM42FvL",
   "metadata": {
    "id": "LnGkrpM42FvL"
   },
   "outputs": [],
   "source": [
    "!pip install \"tf-models-official==2.13.*\""
   ]
  },
  {
   "cell_type": "code",
   "execution_count": null,
   "id": "xOCjqael2Ogr",
   "metadata": {
    "id": "xOCjqael2Ogr"
   },
   "outputs": [],
   "source": [
    "!pip install -U \"tensorflow-text==2.13.*\""
   ]
  },
  {
   "cell_type": "code",
   "execution_count": 3,
   "id": "Ol-iWEKdj7k-",
   "metadata": {
    "id": "Ol-iWEKdj7k-"
   },
   "outputs": [],
   "source": [
    "import os\n",
    "import shutil\n",
    "from tensorflow import keras\n",
    "import tensorflow as tf\n",
    "import tensorflow_hub as hub\n",
    "import tensorflow_text as text\n",
    "from official.nlp import optimization  # to create AdamW optimizer\n",
    "\n",
    "import matplotlib.pyplot as plt\n",
    "\n",
    "tf.get_logger().setLevel('ERROR')"
   ]
  },
  {
   "cell_type": "code",
   "execution_count": 4,
   "id": "3d399320-08a3-41cd-96d3-057c91950c90",
   "metadata": {
    "id": "3d399320-08a3-41cd-96d3-057c91950c90"
   },
   "outputs": [],
   "source": [
    "import pandas as pd\n",
    "from datetime import timedelta\n",
    "from datetime import datetime\n",
    "import string\n",
    "import numpy as np\n",
    "import os"
   ]
  },
  {
   "cell_type": "code",
   "execution_count": 2,
   "id": "cc57afcd-abe8-4738-b00a-1a9963ba906e",
   "metadata": {
    "id": "cc57afcd-abe8-4738-b00a-1a9963ba906e"
   },
   "outputs": [],
   "source": [
    "import matplotlib.pyplot as plt\n",
    "from sklearn.metrics import precision_score, recall_score, f1_score, roc_auc_score\n",
    "import seaborn as sns"
   ]
  },
  {
   "cell_type": "code",
   "execution_count": 5,
   "id": "9e53c41b-793a-46bf-9f87-dc37f1c982e7",
   "metadata": {
    "id": "9e53c41b-793a-46bf-9f87-dc37f1c982e7"
   },
   "outputs": [],
   "source": [
    "\n",
    "\n",
    "from tensorflow import keras\n",
    "from tensorflow.keras.models import Sequential\n",
    "from tensorflow.keras.layers import  Dense,Dropout\n",
    "from tensorflow.keras.metrics import MSE\n",
    "from sklearn.metrics import confusion_matrix, classification_report\n"
   ]
  },
  {
   "cell_type": "code",
   "execution_count": 11,
   "id": "xjfOmRHreAl9",
   "metadata": {
    "id": "xjfOmRHreAl9"
   },
   "outputs": [],
   "source": [
    "\n",
    "X_train= pd.read_csv('X_train.csv')\n",
    "y_train= pd.read_csv('y_train.csv')\n",
    "\n",
    "X_val= pd.read_csv('X_val.csv')\n",
    "y_val= pd.read_csv('y_val.csv')\n",
    "\n",
    "X_test= pd.read_csv('X_test.csv')\n",
    "y_test= pd.read_csv('y_test.csv')"
   ]
  },
  {
   "cell_type": "code",
   "execution_count": 12,
   "id": "b4d73d4e-f3ca-4e56-8848-beacba2241eb",
   "metadata": {
    "id": "b4d73d4e-f3ca-4e56-8848-beacba2241eb"
   },
   "outputs": [],
   "source": [
    "X_train['all_words']=X_train['title']+' '+ X_train['selftext']\n",
    "X_test['all_words']=X_test['title']+' '+ X_test['selftext']\n",
    "X_val['all_words']=X_val['title']+' '+ X_val['selftext']"
   ]
  },
  {
   "cell_type": "code",
   "execution_count": 13,
   "id": "bf5c8639-ae52-4b3b-9dc6-7744210ce0ff",
   "metadata": {
    "id": "bf5c8639-ae52-4b3b-9dc6-7744210ce0ff"
   },
   "outputs": [],
   "source": [
    "y_train=y_train.values\n",
    "y_val=y_val.values\n",
    "y_test=y_test.values\n",
    "\n",
    "X_train=X_train['all_words'].apply(lambda x: str(x)).values\n",
    "X_val=X_val['all_words'].apply(lambda x: str(x)).values\n",
    "X_test=X_test['all_words'].apply(lambda x: str(x)).values\n"
   ]
  },
  {
   "cell_type": "code",
   "execution_count": 7,
   "id": "zOwyLp7AzdoV",
   "metadata": {
    "colab": {
     "base_uri": "https://localhost:8080/"
    },
    "id": "zOwyLp7AzdoV",
    "outputId": "12444792-9443-4e8c-e198-d7db2ab37bed"
   },
   "outputs": [
    {
     "name": "stdout",
     "output_type": "stream",
     "text": [
      "BERT model selected           : https://tfhub.dev/tensorflow/small_bert/bert_en_uncased_L-2_H-256_A-4/1\n",
      "Preprocess model auto-selected: https://tfhub.dev/tensorflow/bert_en_uncased_preprocess/3\n"
     ]
    }
   ],
   "source": [
    "bert_model_name = 'small_bert/bert_en_uncased_L-2_H-256_A-4'\n",
    "\n",
    "map_name_to_handle = {\n",
    "    'bert_en_uncased_L-12_H-768_A-12':\n",
    "        'https://tfhub.dev/tensorflow/bert_en_uncased_L-12_H-768_A-12/3',\n",
    "    'bert_en_cased_L-12_H-768_A-12':\n",
    "        'https://tfhub.dev/tensorflow/bert_en_cased_L-12_H-768_A-12/3',\n",
    "    'bert_multi_cased_L-12_H-768_A-12':\n",
    "        'https://tfhub.dev/tensorflow/bert_multi_cased_L-12_H-768_A-12/3',\n",
    "    'small_bert/bert_en_uncased_L-2_H-128_A-2':\n",
    "        'https://tfhub.dev/tensorflow/small_bert/bert_en_uncased_L-2_H-128_A-2/1',\n",
    "    'small_bert/bert_en_uncased_L-2_H-256_A-4':\n",
    "        'https://tfhub.dev/tensorflow/small_bert/bert_en_uncased_L-2_H-256_A-4/1',\n",
    "    'small_bert/bert_en_uncased_L-2_H-512_A-8':\n",
    "        'https://tfhub.dev/tensorflow/small_bert/bert_en_uncased_L-2_H-512_A-8/1',\n",
    "    'small_bert/bert_en_uncased_L-2_H-768_A-12':\n",
    "        'https://tfhub.dev/tensorflow/small_bert/bert_en_uncased_L-2_H-768_A-12/1',\n",
    "    'small_bert/bert_en_uncased_L-4_H-128_A-2':\n",
    "        'https://tfhub.dev/tensorflow/small_bert/bert_en_uncased_L-4_H-128_A-2/1',\n",
    "    'small_bert/bert_en_uncased_L-4_H-256_A-4':\n",
    "        'https://tfhub.dev/tensorflow/small_bert/bert_en_uncased_L-4_H-256_A-4/1',\n",
    "    'small_bert/bert_en_uncased_L-4_H-512_A-8':\n",
    "        'https://tfhub.dev/tensorflow/small_bert/bert_en_uncased_L-4_H-512_A-8/1',\n",
    "    'small_bert/bert_en_uncased_L-4_H-768_A-12':\n",
    "        'https://tfhub.dev/tensorflow/small_bert/bert_en_uncased_L-4_H-768_A-12/1',\n",
    "    'small_bert/bert_en_uncased_L-6_H-128_A-2':\n",
    "        'https://tfhub.dev/tensorflow/small_bert/bert_en_uncased_L-6_H-128_A-2/1',\n",
    "    'small_bert/bert_en_uncased_L-6_H-256_A-4':\n",
    "        'https://tfhub.dev/tensorflow/small_bert/bert_en_uncased_L-6_H-256_A-4/1',\n",
    "    'small_bert/bert_en_uncased_L-6_H-512_A-8':\n",
    "        'https://tfhub.dev/tensorflow/small_bert/bert_en_uncased_L-6_H-512_A-8/1',\n",
    "    'small_bert/bert_en_uncased_L-6_H-768_A-12':\n",
    "        'https://tfhub.dev/tensorflow/small_bert/bert_en_uncased_L-6_H-768_A-12/1',\n",
    "    'small_bert/bert_en_uncased_L-8_H-128_A-2':\n",
    "        'https://tfhub.dev/tensorflow/small_bert/bert_en_uncased_L-8_H-128_A-2/1',\n",
    "    'small_bert/bert_en_uncased_L-8_H-256_A-4':\n",
    "        'https://tfhub.dev/tensorflow/small_bert/bert_en_uncased_L-8_H-256_A-4/1',\n",
    "    'small_bert/bert_en_uncased_L-8_H-512_A-8':\n",
    "        'https://tfhub.dev/tensorflow/small_bert/bert_en_uncased_L-8_H-512_A-8/1',\n",
    "    'small_bert/bert_en_uncased_L-8_H-768_A-12':\n",
    "        'https://tfhub.dev/tensorflow/small_bert/bert_en_uncased_L-8_H-768_A-12/1',\n",
    "    'small_bert/bert_en_uncased_L-10_H-128_A-2':\n",
    "        'https://tfhub.dev/tensorflow/small_bert/bert_en_uncased_L-10_H-128_A-2/1',\n",
    "    'small_bert/bert_en_uncased_L-10_H-256_A-4':\n",
    "        'https://tfhub.dev/tensorflow/small_bert/bert_en_uncased_L-10_H-256_A-4/1',\n",
    "    'small_bert/bert_en_uncased_L-10_H-512_A-8':\n",
    "        'https://tfhub.dev/tensorflow/small_bert/bert_en_uncased_L-10_H-512_A-8/1',\n",
    "    'small_bert/bert_en_uncased_L-10_H-768_A-12':\n",
    "        'https://tfhub.dev/tensorflow/small_bert/bert_en_uncased_L-10_H-768_A-12/1',\n",
    "    'small_bert/bert_en_uncased_L-12_H-128_A-2':\n",
    "        'https://tfhub.dev/tensorflow/small_bert/bert_en_uncased_L-12_H-128_A-2/1',\n",
    "    'small_bert/bert_en_uncased_L-12_H-256_A-4':\n",
    "        'https://tfhub.dev/tensorflow/small_bert/bert_en_uncased_L-12_H-256_A-4/1',\n",
    "    'small_bert/bert_en_uncased_L-12_H-512_A-8':\n",
    "        'https://tfhub.dev/tensorflow/small_bert/bert_en_uncased_L-12_H-512_A-8/1',\n",
    "    'small_bert/bert_en_uncased_L-12_H-768_A-12':\n",
    "        'https://tfhub.dev/tensorflow/small_bert/bert_en_uncased_L-12_H-768_A-12/1',\n",
    "    'albert_en_base':\n",
    "        'https://tfhub.dev/tensorflow/albert_en_base/2',\n",
    "    'electra_small':\n",
    "        'https://tfhub.dev/google/electra_small/2',\n",
    "    'electra_base':\n",
    "        'https://tfhub.dev/google/electra_base/2',\n",
    "    'experts_pubmed':\n",
    "        'https://tfhub.dev/google/experts/bert/pubmed/2',\n",
    "    'experts_wiki_books':\n",
    "        'https://tfhub.dev/google/experts/bert/wiki_books/2',\n",
    "    'talking-heads_base':\n",
    "        'https://tfhub.dev/tensorflow/talkheads_ggelu_bert_en_base/1',\n",
    "}\n",
    "\n",
    "map_model_to_preprocess = {\n",
    "    'bert_en_uncased_L-12_H-768_A-12':\n",
    "        'https://tfhub.dev/tensorflow/bert_en_uncased_preprocess/3',\n",
    "    'bert_en_cased_L-12_H-768_A-12':\n",
    "        'https://tfhub.dev/tensorflow/bert_en_cased_preprocess/3',\n",
    "    'small_bert/bert_en_uncased_L-2_H-128_A-2':\n",
    "        'https://tfhub.dev/tensorflow/bert_en_uncased_preprocess/3',\n",
    "    'small_bert/bert_en_uncased_L-2_H-256_A-4':\n",
    "        'https://tfhub.dev/tensorflow/bert_en_uncased_preprocess/3',\n",
    "    'small_bert/bert_en_uncased_L-2_H-512_A-8':\n",
    "        'https://tfhub.dev/tensorflow/bert_en_uncased_preprocess/3',\n",
    "    'small_bert/bert_en_uncased_L-2_H-768_A-12':\n",
    "        'https://tfhub.dev/tensorflow/bert_en_uncased_preprocess/3',\n",
    "    'small_bert/bert_en_uncased_L-4_H-128_A-2':\n",
    "        'https://tfhub.dev/tensorflow/bert_en_uncased_preprocess/3',\n",
    "    'small_bert/bert_en_uncased_L-4_H-256_A-4':\n",
    "        'https://tfhub.dev/tensorflow/bert_en_uncased_preprocess/3',\n",
    "    'small_bert/bert_en_uncased_L-4_H-512_A-8':\n",
    "        'https://tfhub.dev/tensorflow/bert_en_uncased_preprocess/3',\n",
    "    'small_bert/bert_en_uncased_L-4_H-768_A-12':\n",
    "        'https://tfhub.dev/tensorflow/bert_en_uncased_preprocess/3',\n",
    "    'small_bert/bert_en_uncased_L-6_H-128_A-2':\n",
    "        'https://tfhub.dev/tensorflow/bert_en_uncased_preprocess/3',\n",
    "    'small_bert/bert_en_uncased_L-6_H-256_A-4':\n",
    "        'https://tfhub.dev/tensorflow/bert_en_uncased_preprocess/3',\n",
    "    'small_bert/bert_en_uncased_L-6_H-512_A-8':\n",
    "        'https://tfhub.dev/tensorflow/bert_en_uncased_preprocess/3',\n",
    "    'small_bert/bert_en_uncased_L-6_H-768_A-12':\n",
    "        'https://tfhub.dev/tensorflow/bert_en_uncased_preprocess/3',\n",
    "    'small_bert/bert_en_uncased_L-8_H-128_A-2':\n",
    "        'https://tfhub.dev/tensorflow/bert_en_uncased_preprocess/3',\n",
    "    'small_bert/bert_en_uncased_L-8_H-256_A-4':\n",
    "        'https://tfhub.dev/tensorflow/bert_en_uncased_preprocess/3',\n",
    "    'small_bert/bert_en_uncased_L-8_H-512_A-8':\n",
    "        'https://tfhub.dev/tensorflow/bert_en_uncased_preprocess/3',\n",
    "    'small_bert/bert_en_uncased_L-8_H-768_A-12':\n",
    "        'https://tfhub.dev/tensorflow/bert_en_uncased_preprocess/3',\n",
    "    'small_bert/bert_en_uncased_L-10_H-128_A-2':\n",
    "        'https://tfhub.dev/tensorflow/bert_en_uncased_preprocess/3',\n",
    "    'small_bert/bert_en_uncased_L-10_H-256_A-4':\n",
    "        'https://tfhub.dev/tensorflow/bert_en_uncased_preprocess/3',\n",
    "    'small_bert/bert_en_uncased_L-10_H-512_A-8':\n",
    "        'https://tfhub.dev/tensorflow/bert_en_uncased_preprocess/3',\n",
    "    'small_bert/bert_en_uncased_L-10_H-768_A-12':\n",
    "        'https://tfhub.dev/tensorflow/bert_en_uncased_preprocess/3',\n",
    "    'small_bert/bert_en_uncased_L-12_H-128_A-2':\n",
    "        'https://tfhub.dev/tensorflow/bert_en_uncased_preprocess/3',\n",
    "    'small_bert/bert_en_uncased_L-12_H-256_A-4':\n",
    "        'https://tfhub.dev/tensorflow/bert_en_uncased_preprocess/3',\n",
    "    'small_bert/bert_en_uncased_L-12_H-512_A-8':\n",
    "        'https://tfhub.dev/tensorflow/bert_en_uncased_preprocess/3',\n",
    "    'small_bert/bert_en_uncased_L-12_H-768_A-12':\n",
    "        'https://tfhub.dev/tensorflow/bert_en_uncased_preprocess/3',\n",
    "    'bert_multi_cased_L-12_H-768_A-12':\n",
    "        'https://tfhub.dev/tensorflow/bert_multi_cased_preprocess/3',\n",
    "    'albert_en_base':\n",
    "        'https://tfhub.dev/tensorflow/albert_en_preprocess/3',\n",
    "    'electra_small':\n",
    "        'https://tfhub.dev/tensorflow/bert_en_uncased_preprocess/3',\n",
    "    'electra_base':\n",
    "        'https://tfhub.dev/tensorflow/bert_en_uncased_preprocess/3',\n",
    "    'experts_pubmed':\n",
    "        'https://tfhub.dev/tensorflow/bert_en_uncased_preprocess/3',\n",
    "    'experts_wiki_books':\n",
    "        'https://tfhub.dev/tensorflow/bert_en_uncased_preprocess/3',\n",
    "    'talking-heads_base':\n",
    "        'https://tfhub.dev/tensorflow/bert_en_uncased_preprocess/3',\n",
    "}\n",
    "\n",
    "tfhub_handle_encoder = map_name_to_handle[bert_model_name]\n",
    "tfhub_handle_preprocess = map_model_to_preprocess[bert_model_name]\n",
    "\n",
    "print(f'BERT model selected           : {tfhub_handle_encoder}')\n",
    "print(f'Preprocess model auto-selected: {tfhub_handle_preprocess}')"
   ]
  },
  {
   "cell_type": "code",
   "execution_count": 14,
   "id": "0ITznBQ_H-L3",
   "metadata": {
    "colab": {
     "base_uri": "https://localhost:8080/"
    },
    "id": "0ITznBQ_H-L3",
    "outputId": "6edb8db3-e00c-4158-be89-753b7acfe47d"
   },
   "outputs": [
    {
     "name": "stdout",
     "output_type": "stream",
     "text": [
      "Epoch 1/20\n",
      "925/925 [==============================] - 207s 218ms/step - loss: 1.0876 - mse: 1.0876 - val_loss: 0.6568 - val_mse: 0.6568\n",
      "Epoch 2/20\n",
      "925/925 [==============================] - 201s 217ms/step - loss: 0.9811 - mse: 0.9811 - val_loss: 0.6301 - val_mse: 0.6301\n",
      "Epoch 3/20\n",
      "925/925 [==============================] - 202s 218ms/step - loss: 0.9323 - mse: 0.9323 - val_loss: 0.6123 - val_mse: 0.6123\n",
      "Epoch 4/20\n",
      "925/925 [==============================] - 201s 218ms/step - loss: 0.9086 - mse: 0.9086 - val_loss: 0.6146 - val_mse: 0.6146\n",
      "Epoch 5/20\n",
      "925/925 [==============================] - 201s 218ms/step - loss: 0.8902 - mse: 0.8902 - val_loss: 0.6551 - val_mse: 0.6551\n",
      "Epoch 6/20\n",
      "925/925 [==============================] - 201s 217ms/step - loss: 0.8773 - mse: 0.8773 - val_loss: 0.6047 - val_mse: 0.6047\n",
      "Epoch 7/20\n",
      "925/925 [==============================] - 201s 218ms/step - loss: 0.8558 - mse: 0.8558 - val_loss: 0.5906 - val_mse: 0.5906\n",
      "Epoch 8/20\n",
      "925/925 [==============================] - 201s 217ms/step - loss: 0.8335 - mse: 0.8335 - val_loss: 0.5954 - val_mse: 0.5954\n",
      "Epoch 9/20\n",
      "925/925 [==============================] - 201s 217ms/step - loss: 0.8259 - mse: 0.8259 - val_loss: 0.6072 - val_mse: 0.6072\n",
      "Epoch 10/20\n",
      "925/925 [==============================] - 201s 218ms/step - loss: 0.7978 - mse: 0.7978 - val_loss: 0.6187 - val_mse: 0.6187\n",
      "Epoch 11/20\n",
      "925/925 [==============================] - 201s 218ms/step - loss: 0.7704 - mse: 0.7704 - val_loss: 0.5979 - val_mse: 0.5979\n",
      "Epoch 12/20\n",
      "925/925 [==============================] - 201s 217ms/step - loss: 0.7536 - mse: 0.7536 - val_loss: 0.5692 - val_mse: 0.5692\n",
      "Epoch 13/20\n",
      "925/925 [==============================] - 201s 218ms/step - loss: 0.7330 - mse: 0.7330 - val_loss: 0.5430 - val_mse: 0.5430\n",
      "Epoch 14/20\n",
      "925/925 [==============================] - 201s 218ms/step - loss: 0.7045 - mse: 0.7045 - val_loss: 0.6127 - val_mse: 0.6127\n",
      "Epoch 15/20\n",
      "925/925 [==============================] - 201s 217ms/step - loss: 0.6622 - mse: 0.6622 - val_loss: 0.5320 - val_mse: 0.5320\n",
      "Epoch 16/20\n",
      "925/925 [==============================] - 201s 217ms/step - loss: 0.6264 - mse: 0.6264 - val_loss: 0.5548 - val_mse: 0.5548\n",
      "Epoch 17/20\n",
      "925/925 [==============================] - 202s 218ms/step - loss: 0.6029 - mse: 0.6029 - val_loss: 0.6020 - val_mse: 0.6020\n",
      "Epoch 18/20\n",
      "925/925 [==============================] - 202s 218ms/step - loss: 0.5570 - mse: 0.5570 - val_loss: 0.5543 - val_mse: 0.5543\n",
      "Epoch 19/20\n",
      "925/925 [==============================] - 202s 218ms/step - loss: 0.5170 - mse: 0.5170 - val_loss: 0.4994 - val_mse: 0.4994\n",
      "Epoch 20/20\n",
      "925/925 [==============================] - 201s 218ms/step - loss: 0.5068 - mse: 0.5068 - val_loss: 0.6262 - val_mse: 0.6262\n"
     ]
    }
   ],
   "source": [
    "\n",
    "def build_reg_model():\n",
    "  text_input = tf.keras.layers.Input(shape=(), dtype=tf.string, name='text')\n",
    "  preprocessing_layer = hub.KerasLayer(tfhub_handle_preprocess, name='preprocessing')\n",
    "  encoder_inputs = preprocessing_layer(text_input)\n",
    "  encoder = hub.KerasLayer(tfhub_handle_encoder, trainable=True, name='BERT_encoder')\n",
    "  outputs = encoder(encoder_inputs)\n",
    "  net = outputs['pooled_output']\n",
    "  net = tf.keras.layers.Dropout(0.1)(net)\n",
    "  net = tf.keras.layers.Dense(1, activation=None, name='reg')(net)\n",
    "\n",
    "  return tf.keras.Model(text_input, net)\n",
    "\n",
    "reg_model = build_reg_model()\n",
    "optimizer = tf.keras.optimizers.Adam(learning_rate=0.00001)\n",
    "reg_model.compile(optimizer=optimizer, loss='mse', metrics=['mse'])\n",
    "\n",
    "history =reg_model.fit(\n",
    "    X_train, y_train,\n",
    "    epochs=20,#increase number of epochs\n",
    "    validation_data=(X_val, y_val)\n",
    "    )\n"
   ]
  },
  {
   "cell_type": "code",
   "execution_count": 15,
   "id": "dR747NzHVLPF",
   "metadata": {
    "colab": {
     "base_uri": "https://localhost:8080/"
    },
    "id": "dR747NzHVLPF",
    "outputId": "1d5d40c2-a26d-4556-e2f1-20d07bf35623"
   },
   "outputs": [
    {
     "name": "stdout",
     "output_type": "stream",
     "text": [
      "MSE for train set 0.43444496393203735\n",
      "MSE for val set 0.6262282133102417\n",
      "MSE for test set 0.20174109935760498\n"
     ]
    }
   ],
   "source": [
    "MSE_train = reg_model.evaluate(X_train, y_train, verbose=0)[0]\n",
    "MSE_val = reg_model.evaluate(X_val, y_val, verbose=0)[0]\n",
    "MSE_test = reg_model.evaluate(X_test, y_test, verbose=0)[0]\n",
    "\n",
    "print('MSE for train set', MSE_train)\n",
    "print('MSE for val set', MSE_val)\n",
    "print('MSE for test set', MSE_test)"
   ]
  }
 ],
 "metadata": {
  "accelerator": "GPU",
  "colab": {
   "gpuType": "L4",
   "provenance": []
  },
  "kernelspec": {
   "display_name": "Python 3 (ipykernel)",
   "language": "python",
   "name": "python3"
  },
  "language_info": {
   "codemirror_mode": {
    "name": "ipython",
    "version": 3
   },
   "file_extension": ".py",
   "mimetype": "text/x-python",
   "name": "python",
   "nbconvert_exporter": "python",
   "pygments_lexer": "ipython3",
   "version": "3.11.7"
  }
 },
 "nbformat": 4,
 "nbformat_minor": 5
}
