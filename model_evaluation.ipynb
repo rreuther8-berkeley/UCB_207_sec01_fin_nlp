{
 "cells": [
  {
   "cell_type": "markdown",
   "id": "43af1fc3-857b-4444-bd5b-578eeb752a38",
   "metadata": {},
   "source": [
    "# Imports"
   ]
  },
  {
   "cell_type": "code",
   "execution_count": 100,
   "id": "8ef5df95-6da0-4035-899f-7c52cc688250",
   "metadata": {
    "tags": []
   },
   "outputs": [],
   "source": [
    "import os\n",
    "import re\n",
    "\n",
    "import pandas as pd\n",
    "import numpy as np\n",
    "from sklearn.preprocessing import StandardScaler\n",
    "from wordcloud import WordCloud\n",
    "from sklearn.model_selection import train_test_split\n",
    "from matplotlib import pyplot as plt\n",
    "\n",
    "# tf and keras\n",
    "import tensorflow as tf\n",
    "from tensorflow.keras import Sequential, layers, losses\n",
    "from tensorflow.keras.layers import (\n",
    "    Dense,\n",
    "    Embedding,\n",
    "    GlobalAveragePooling1D,\n",
    "    Dropout,\n",
    "    TextVectorization,\n",
    "    Input,\n",
    "    Conv1D,\n",
    "    LSTM,\n",
    "    MaxPooling1D,\n",
    "    Bidirectional,\n",
    ")\n",
    "from tensorflow.keras.models import Model\n",
    "# import tensorflow_datasets as tfds\n",
    "\n",
    "pd.set_option('display.max_colwidth', 100) "
   ]
  },
  {
   "cell_type": "markdown",
   "id": "1050b113-b9e2-45ef-99be-5ef0bc10be5a",
   "metadata": {
    "tags": []
   },
   "source": [
    "# UTILS"
   ]
  },
  {
   "cell_type": "code",
   "execution_count": 101,
   "id": "271f8cda-f6e7-4cf8-bc80-f28fbd7a9e23",
   "metadata": {
    "tags": []
   },
   "outputs": [],
   "source": [
    "def display_model(model):\n",
    "    display(model.layers)\n",
    "    display(model.summary())\n",
    "\n",
    "    # Retrieve the embeddings layer, which itself is wrapped in a list.\n",
    "    embeddings = model.layers[1].get_weights()[0]\n",
    "    print('-'*100)\n",
    "    display(\"Embeddings layer - shape: \", embeddings.shape)\n",
    "    print('-'*100)\n",
    "    display(\"Embeddings layer - parameter matrix (before training): \", embeddings)"
   ]
  },
  {
   "cell_type": "code",
   "execution_count": 102,
   "id": "1406bb7e-7552-44b7-84e1-bad79d85d45d",
   "metadata": {
    "tags": []
   },
   "outputs": [],
   "source": [
    "def read_files():\n",
    "    X_train = pd.read_csv('./data/final/X_train.csv')\n",
    "    y_train = pd.read_csv('./data/final/y_train.csv')\n",
    "    X_val = pd.read_csv('./data/final/X_val.csv')\n",
    "    y_val = pd.read_csv('./data/final/y_val.csv')\n",
    "    X_test = pd.read_csv('./data/final/X_test.csv')\n",
    "    y_test = pd.read_csv('./data/final/y_test.csv')\n",
    "    \n",
    "    train_not_na_indices = (X_train['fulltext'].notna())\n",
    "    val_not_na_indices = (X_val['fulltext'].notna())\n",
    "    test_not_na_indices = (X_test['fulltext'].notna())\n",
    "    \n",
    "    X_train = X_train[train_not_na_indices]\n",
    "    X_val = X_val[val_not_na_indices]\n",
    "    X_test = X_test[test_not_na_indices]\n",
    "    \n",
    "    y_train = y_train[train_not_na_indices]\n",
    "    y_val = y_val[val_not_na_indices]\n",
    "    y_test = y_test[test_not_na_indices]\n",
    "\n",
    "    return X_train, y_train, X_val, y_val, X_test, y_test"
   ]
  },
  {
   "cell_type": "code",
   "execution_count": 103,
   "id": "c9c940ae-fdb5-428f-b8af-4e63f1a3cb60",
   "metadata": {
    "tags": []
   },
   "outputs": [],
   "source": [
    "def get_vectorization_layer(df, column, max_tokens=10000, output_sequence_length=250, embedding_dim=16):\n",
    "    vectorize_layer = layers.TextVectorization(\n",
    "        max_tokens=max_tokens,\n",
    "        output_mode='int',\n",
    "        output_sequence_length=output_sequence_length)\n",
    "\n",
    "    df[column] = df[column].astype(str)\n",
    "    vectorize_layer.adapt(df[column].values)\n",
    "\n",
    "    return vectorize_layer"
   ]
  },
  {
   "cell_type": "code",
   "execution_count": 104,
   "id": "c0c1dc08-46b2-4414-8e30-85643c77f0d5",
   "metadata": {
    "tags": []
   },
   "outputs": [],
   "source": [
    "def get_vectorization_layer_ngrams(df, column, max_tokens=10000, output_sequence_length=250, embedding_dim=16, ngrams=3):\n",
    "    vectorize_layer = layers.TextVectorization(\n",
    "        max_tokens=max_tokens,\n",
    "        ngrams=ngrams,\n",
    "        output_mode='int',\n",
    "        output_sequence_length=output_sequence_length)\n",
    "\n",
    "    df[column] = df[column].astype(str)\n",
    "    vectorize_layer.adapt(df[column].values)\n",
    "\n",
    "    return vectorize_layer"
   ]
  },
  {
   "cell_type": "markdown",
   "id": "abd3b40e-ccea-44cd-88e4-fa75eb8fa89b",
   "metadata": {
    "tags": []
   },
   "source": [
    "# Goal"
   ]
  },
  {
   "cell_type": "markdown",
   "id": "9d08c222-f27a-4788-9049-e3f68851e4d0",
   "metadata": {
    "tags": []
   },
   "source": [
    "Evaluate all the losses (mean squared error) of the models:\n",
    " - Model 2 - Basic Embedding Model - 2 Dense Layers (64, 32)\n",
    " - Model 2 - 3 Ngram Basic Embedding Model - 2 Dense Layers (64, 32)\n",
    " - Model 3 - Conv1d Model, Two Hidden Dense Layers (64, 32)\n",
    " - Model 3b- Conv1d Model, Two Hidden Dense Layers (128, 64, 64, 32)\n",
    " - Model 3c: Single Simple RNN, Four Hidden Dense Layers (128, 64, 64, 32)\n",
    " - Model 3d: Double Simple RNN, Four Hidden Dense Layers (128, 64, 64, 32)\n",
    " - Model 3e: Conv1d Model, Four Hidden Dense Layers (128, 64, 64, 32)\n",
    " - Model 3 + Dropout: Conv1d Model, Two Hidden Dense Layers (64, 32), 50% Dropout\n",
    " - Model 4: LSTM RNN Model, Two Hidden Dense Layers (64, 32)\n",
    " - Model 5: BiDirectional LSTM RNN Model, Two Hidden Dense Layers (64, 32)"
   ]
  },
  {
   "cell_type": "markdown",
   "id": "144c3f38-2b60-4757-bb30-e65b28afde3b",
   "metadata": {},
   "source": [
    "# Load Model Performance CSV's and Models"
   ]
  },
  {
   "cell_type": "code",
   "execution_count": 105,
   "id": "858b4007-255a-4188-9194-60dd6a472864",
   "metadata": {
    "tags": []
   },
   "outputs": [],
   "source": [
    "hist_2 = pd.read_csv(\"./model_performance/hist_2.csv\").drop(columns=[\"Unnamed: 0\"])\n",
    "hist_2_ngrams = pd.read_csv(\"./model_performance/hist_2_ngrams.csv\").drop(columns=[\"Unnamed: 0\"])\n",
    "hist_2_mf = pd.read_csv(\"./model_performance/hist_2_mf.csv\").drop(columns=[\"Unnamed: 0\"])\n",
    "hist_3 = pd.read_csv(\"./model_performance/hist_3.csv\").drop(columns=[\"Unnamed: 0\"])\n",
    "hist_3_b = pd.read_csv(\"./model_performance/hist_3_b.csv\").drop(columns=[\"Unnamed: 0\"])\n",
    "hist_3_c = pd.read_csv(\"./model_performance/hist_3_c.csv\").drop(columns=[\"Unnamed: 0\"])\n",
    "hist_3_d = pd.read_csv(\"./model_performance/hist_3_d.csv\").drop(columns=[\"Unnamed: 0\"])\n",
    "hist_3_e = pd.read_csv(\"./model_performance/hist_3_e.csv\").drop(columns=[\"Unnamed: 0\"])\n",
    "hist_3_dp = pd.read_csv(\"./model_performance/hist_3_dp.csv\").drop(columns=[\"Unnamed: 0\"])\n",
    "hist_4_tanh = pd.read_csv(\"./model_performance/hist_4_tanh.csv\").drop(columns=[\"Unnamed: 0\"])\n",
    "hist_5_tanh = pd.read_csv(\"./model_performance/hist_5_tanh.csv\").drop(columns=[\"Unnamed: 0\"])\n"
   ]
  },
  {
   "cell_type": "code",
   "execution_count": 106,
   "id": "a2d5b7b8-316a-42fd-a640-6131d48a3f9d",
   "metadata": {
    "tags": []
   },
   "outputs": [
    {
     "name": "stderr",
     "output_type": "stream",
     "text": [
      "2024-08-02 14:15:11.090705: I tensorflow/core/common_runtime/executor.cc:1197] [/device:CPU:0] (DEBUG INFO) Executor start aborting (this does not indicate an error and you can ignore this message): INVALID_ARGUMENT: You must feed a value for placeholder tensor 'gradients/split_2_grad/concat/split_2/split_dim' with dtype int32\n",
      "\t [[{{node gradients/split_2_grad/concat/split_2/split_dim}}]]\n",
      "2024-08-02 14:15:11.093961: I tensorflow/core/common_runtime/executor.cc:1197] [/device:CPU:0] (DEBUG INFO) Executor start aborting (this does not indicate an error and you can ignore this message): INVALID_ARGUMENT: You must feed a value for placeholder tensor 'gradients/split_grad/concat/split/split_dim' with dtype int32\n",
      "\t [[{{node gradients/split_grad/concat/split/split_dim}}]]\n",
      "2024-08-02 14:15:11.096672: I tensorflow/core/common_runtime/executor.cc:1197] [/device:CPU:0] (DEBUG INFO) Executor start aborting (this does not indicate an error and you can ignore this message): INVALID_ARGUMENT: You must feed a value for placeholder tensor 'gradients/split_1_grad/concat/split_1/split_dim' with dtype int32\n",
      "\t [[{{node gradients/split_1_grad/concat/split_1/split_dim}}]]\n",
      "2024-08-02 14:15:11.719030: I tensorflow/core/common_runtime/executor.cc:1197] [/device:CPU:0] (DEBUG INFO) Executor start aborting (this does not indicate an error and you can ignore this message): INVALID_ARGUMENT: You must feed a value for placeholder tensor 'gradients/split_2_grad/concat/split_2/split_dim' with dtype int32\n",
      "\t [[{{node gradients/split_2_grad/concat/split_2/split_dim}}]]\n",
      "2024-08-02 14:15:11.726349: I tensorflow/core/common_runtime/executor.cc:1197] [/device:CPU:0] (DEBUG INFO) Executor start aborting (this does not indicate an error and you can ignore this message): INVALID_ARGUMENT: You must feed a value for placeholder tensor 'gradients/split_grad/concat/split/split_dim' with dtype int32\n",
      "\t [[{{node gradients/split_grad/concat/split/split_dim}}]]\n",
      "2024-08-02 14:15:11.729821: I tensorflow/core/common_runtime/executor.cc:1197] [/device:CPU:0] (DEBUG INFO) Executor start aborting (this does not indicate an error and you can ignore this message): INVALID_ARGUMENT: You must feed a value for placeholder tensor 'gradients/split_1_grad/concat/split_1/split_dim' with dtype int32\n",
      "\t [[{{node gradients/split_1_grad/concat/split_1/split_dim}}]]\n",
      "2024-08-02 14:15:12.027634: I tensorflow/core/common_runtime/executor.cc:1197] [/device:CPU:0] (DEBUG INFO) Executor start aborting (this does not indicate an error and you can ignore this message): INVALID_ARGUMENT: You must feed a value for placeholder tensor 'gradients/ReverseV2_grad/ReverseV2/ReverseV2/axis' with dtype int32 and shape [1]\n",
      "\t [[{{node gradients/ReverseV2_grad/ReverseV2/ReverseV2/axis}}]]\n",
      "2024-08-02 14:15:12.106470: I tensorflow/core/common_runtime/executor.cc:1197] [/device:CPU:0] (DEBUG INFO) Executor start aborting (this does not indicate an error and you can ignore this message): INVALID_ARGUMENT: You must feed a value for placeholder tensor 'gradients/split_2_grad/concat/split_2/split_dim' with dtype int32\n",
      "\t [[{{node gradients/split_2_grad/concat/split_2/split_dim}}]]\n",
      "2024-08-02 14:15:12.108534: I tensorflow/core/common_runtime/executor.cc:1197] [/device:CPU:0] (DEBUG INFO) Executor start aborting (this does not indicate an error and you can ignore this message): INVALID_ARGUMENT: You must feed a value for placeholder tensor 'gradients/split_grad/concat/split/split_dim' with dtype int32\n",
      "\t [[{{node gradients/split_grad/concat/split/split_dim}}]]\n",
      "2024-08-02 14:15:12.110722: I tensorflow/core/common_runtime/executor.cc:1197] [/device:CPU:0] (DEBUG INFO) Executor start aborting (this does not indicate an error and you can ignore this message): INVALID_ARGUMENT: You must feed a value for placeholder tensor 'gradients/split_1_grad/concat/split_1/split_dim' with dtype int32\n",
      "\t [[{{node gradients/split_1_grad/concat/split_1/split_dim}}]]\n"
     ]
    }
   ],
   "source": [
    "model_2 = tf.keras.models.load_model('./models/model_2.h5')\n",
    "model_2_multifeatur = tf.keras.models.load_model('./models/model_2_multifeature.h5')\n",
    "model_2_ngrams = tf.keras.models.load_model('./models/model_2_ngrams.h5')\n",
    "\n",
    "model_3 = tf.keras.models.load_model('./models/model_3.h5')\n",
    "model_3_b = tf.keras.models.load_model('./models/model_3_b.h5')\n",
    "model_3_c = tf.keras.models.load_model('./models/model_3_c.h5')\n",
    "model_3_d = tf.keras.models.load_model('./models/model_3_d.h5')\n",
    "model_3_e = tf.keras.models.load_model('./models/model_3_e.h5')\n",
    "model_3_dropout = tf.keras.models.load_model('./models/model_3_dp.h5')\n",
    "\n",
    "model_4_tanh = tf.keras.models.load_model('./models/model_4_tanh.h5')\n",
    "\n",
    "model_5_tanh = tf.keras.models.load_model('./models/model_5_tanh.h5')"
   ]
  },
  {
   "cell_type": "code",
   "execution_count": 107,
   "id": "37dea5f0-45e6-458f-8c4d-3a98b0727572",
   "metadata": {
    "tags": []
   },
   "outputs": [],
   "source": [
    "X_train, y_train, X_val, y_val, X_test, y_test = read_files()"
   ]
  },
  {
   "cell_type": "code",
   "execution_count": 108,
   "id": "0edfeccd-63f5-4940-89a8-b1a4d94f35ca",
   "metadata": {
    "tags": []
   },
   "outputs": [],
   "source": [
    "text_data = tf.constant(X_train['fulltext'].values)\n",
    "text_data_val = tf.constant(X_val['fulltext'].values)\n",
    "text_data_test = tf.constant(X_test['fulltext'].values)"
   ]
  },
  {
   "cell_type": "code",
   "execution_count": 109,
   "id": "433b3dda-7211-496d-be4d-d6547c25959c",
   "metadata": {
    "tags": []
   },
   "outputs": [],
   "source": [
    "vectorize_layer = get_vectorization_layer(X_train, 'fulltext')\n",
    "vectorize_layer_3_ngrams = get_vectorization_layer_ngrams(X_train, 'fulltext')"
   ]
  },
  {
   "cell_type": "code",
   "execution_count": 110,
   "id": "5576e6a1-5c21-49de-9e8d-76cd0b3a1cae",
   "metadata": {
    "tags": []
   },
   "outputs": [],
   "source": [
    "vectorized_text = vectorize_layer(text_data)\n",
    "vectorized_text_val = vectorize_layer(text_data_val)\n",
    "vectorized_text_test = vectorize_layer(text_data_test)\n",
    "\n",
    "vectorized_text_3_ngrams = vectorize_layer_3_ngrams(text_data)\n",
    "vectorized_text_val_3_ngrams = vectorize_layer_3_ngrams(text_data_val)\n",
    "vectorized_text_test_3_ngrams = vectorize_layer_3_ngrams(text_data_test)"
   ]
  },
  {
   "cell_type": "code",
   "execution_count": 111,
   "id": "7cdda8a7-59b4-4cc8-af1c-cd7ff9d8f98e",
   "metadata": {
    "tags": []
   },
   "outputs": [
    {
     "name": "stderr",
     "output_type": "stream",
     "text": [
      "2024-08-02 14:17:52.530854: I tensorflow/core/common_runtime/executor.cc:1197] [/device:CPU:0] (DEBUG INFO) Executor start aborting (this does not indicate an error and you can ignore this message): INVALID_ARGUMENT: You must feed a value for placeholder tensor 'gradients/split_2_grad/concat/split_2/split_dim' with dtype int32\n",
      "\t [[{{node gradients/split_2_grad/concat/split_2/split_dim}}]]\n",
      "2024-08-02 14:17:52.534797: I tensorflow/core/common_runtime/executor.cc:1197] [/device:CPU:0] (DEBUG INFO) Executor start aborting (this does not indicate an error and you can ignore this message): INVALID_ARGUMENT: You must feed a value for placeholder tensor 'gradients/split_grad/concat/split/split_dim' with dtype int32\n",
      "\t [[{{node gradients/split_grad/concat/split/split_dim}}]]\n",
      "2024-08-02 14:17:52.540547: I tensorflow/core/common_runtime/executor.cc:1197] [/device:CPU:0] (DEBUG INFO) Executor start aborting (this does not indicate an error and you can ignore this message): INVALID_ARGUMENT: You must feed a value for placeholder tensor 'gradients/split_1_grad/concat/split_1/split_dim' with dtype int32\n",
      "\t [[{{node gradients/split_1_grad/concat/split_1/split_dim}}]]\n",
      "2024-08-02 14:17:52.881988: I tensorflow/core/common_runtime/executor.cc:1197] [/device:CPU:0] (DEBUG INFO) Executor start aborting (this does not indicate an error and you can ignore this message): INVALID_ARGUMENT: You must feed a value for placeholder tensor 'gradients/ReverseV2_grad/ReverseV2/ReverseV2/axis' with dtype int32 and shape [1]\n",
      "\t [[{{node gradients/ReverseV2_grad/ReverseV2/ReverseV2/axis}}]]\n",
      "2024-08-02 14:17:52.987271: I tensorflow/core/common_runtime/executor.cc:1197] [/device:CPU:0] (DEBUG INFO) Executor start aborting (this does not indicate an error and you can ignore this message): INVALID_ARGUMENT: You must feed a value for placeholder tensor 'gradients/split_2_grad/concat/split_2/split_dim' with dtype int32\n",
      "\t [[{{node gradients/split_2_grad/concat/split_2/split_dim}}]]\n",
      "2024-08-02 14:17:52.991186: I tensorflow/core/common_runtime/executor.cc:1197] [/device:CPU:0] (DEBUG INFO) Executor start aborting (this does not indicate an error and you can ignore this message): INVALID_ARGUMENT: You must feed a value for placeholder tensor 'gradients/split_grad/concat/split/split_dim' with dtype int32\n",
      "\t [[{{node gradients/split_grad/concat/split/split_dim}}]]\n",
      "2024-08-02 14:17:52.994843: I tensorflow/core/common_runtime/executor.cc:1197] [/device:CPU:0] (DEBUG INFO) Executor start aborting (this does not indicate an error and you can ignore this message): INVALID_ARGUMENT: You must feed a value for placeholder tensor 'gradients/split_1_grad/concat/split_1/split_dim' with dtype int32\n",
      "\t [[{{node gradients/split_1_grad/concat/split_1/split_dim}}]]\n"
     ]
    },
    {
     "name": "stdout",
     "output_type": "stream",
     "text": [
      "925/925 [==============================] - 283s 303ms/step\n"
     ]
    }
   ],
   "source": [
    "predicted_scores = model_5_tanh.predict(vectorized_text)"
   ]
  },
  {
   "cell_type": "code",
   "execution_count": 115,
   "id": "822715b6-7e97-4af6-9ad0-b7bee6a7a74a",
   "metadata": {
    "tags": []
   },
   "outputs": [
    {
     "data": {
      "text/html": [
       "<div>\n",
       "<style scoped>\n",
       "    .dataframe tbody tr th:only-of-type {\n",
       "        vertical-align: middle;\n",
       "    }\n",
       "\n",
       "    .dataframe tbody tr th {\n",
       "        vertical-align: top;\n",
       "    }\n",
       "\n",
       "    .dataframe thead th {\n",
       "        text-align: right;\n",
       "    }\n",
       "</style>\n",
       "<table border=\"1\" class=\"dataframe\">\n",
       "  <thead>\n",
       "    <tr style=\"text-align: right;\">\n",
       "      <th></th>\n",
       "      <th>0</th>\n",
       "    </tr>\n",
       "  </thead>\n",
       "  <tbody>\n",
       "    <tr>\n",
       "      <th>count</th>\n",
       "      <td>29574.000000</td>\n",
       "    </tr>\n",
       "    <tr>\n",
       "      <th>mean</th>\n",
       "      <td>-0.068331</td>\n",
       "    </tr>\n",
       "    <tr>\n",
       "      <th>std</th>\n",
       "      <td>0.163730</td>\n",
       "    </tr>\n",
       "    <tr>\n",
       "      <th>min</th>\n",
       "      <td>-0.390075</td>\n",
       "    </tr>\n",
       "    <tr>\n",
       "      <th>25%</th>\n",
       "      <td>-0.121994</td>\n",
       "    </tr>\n",
       "    <tr>\n",
       "      <th>50%</th>\n",
       "      <td>-0.086435</td>\n",
       "    </tr>\n",
       "    <tr>\n",
       "      <th>75%</th>\n",
       "      <td>-0.045658</td>\n",
       "    </tr>\n",
       "    <tr>\n",
       "      <th>max</th>\n",
       "      <td>3.313236</td>\n",
       "    </tr>\n",
       "  </tbody>\n",
       "</table>\n",
       "</div>"
      ],
      "text/plain": [
       "                  0\n",
       "count  29574.000000\n",
       "mean      -0.068331\n",
       "std        0.163730\n",
       "min       -0.390075\n",
       "25%       -0.121994\n",
       "50%       -0.086435\n",
       "75%       -0.045658\n",
       "max        3.313236"
      ]
     },
     "execution_count": 115,
     "metadata": {},
     "output_type": "execute_result"
    }
   ],
   "source": [
    "pd.DataFrame(predicted_scores).describe()"
   ]
  },
  {
   "cell_type": "markdown",
   "id": "2502a408-9c5d-46eb-a879-b32edcd6d23d",
   "metadata": {
    "jp-MarkdownHeadingCollapsed": true,
    "tags": []
   },
   "source": [
    "# Evaluations"
   ]
  },
  {
   "cell_type": "code",
   "execution_count": 54,
   "id": "f1abed2b-b50b-4966-97bd-adf99485930c",
   "metadata": {
    "tags": []
   },
   "outputs": [
    {
     "data": {
      "text/html": [
       "<div>\n",
       "<style scoped>\n",
       "    .dataframe tbody tr th:only-of-type {\n",
       "        vertical-align: middle;\n",
       "    }\n",
       "\n",
       "    .dataframe tbody tr th {\n",
       "        vertical-align: top;\n",
       "    }\n",
       "\n",
       "    .dataframe thead th {\n",
       "        text-align: right;\n",
       "    }\n",
       "</style>\n",
       "<table border=\"1\" class=\"dataframe\">\n",
       "  <thead>\n",
       "    <tr style=\"text-align: right;\">\n",
       "      <th></th>\n",
       "      <th>loss</th>\n",
       "      <th>mean_absolute_error</th>\n",
       "      <th>accuracy</th>\n",
       "      <th>val_loss</th>\n",
       "      <th>val_mean_absolute_error</th>\n",
       "      <th>val_accuracy</th>\n",
       "    </tr>\n",
       "  </thead>\n",
       "  <tbody>\n",
       "    <tr>\n",
       "      <th>0</th>\n",
       "      <td>0.941614</td>\n",
       "      <td>0.112412</td>\n",
       "      <td>0.0</td>\n",
       "      <td>0.609355</td>\n",
       "      <td>0.098010</td>\n",
       "      <td>0.0</td>\n",
       "    </tr>\n",
       "    <tr>\n",
       "      <th>1</th>\n",
       "      <td>0.861312</td>\n",
       "      <td>0.114036</td>\n",
       "      <td>0.0</td>\n",
       "      <td>0.634518</td>\n",
       "      <td>0.110827</td>\n",
       "      <td>0.0</td>\n",
       "    </tr>\n",
       "  </tbody>\n",
       "</table>\n",
       "</div>"
      ],
      "text/plain": [
       "       loss  mean_absolute_error  accuracy  val_loss  val_mean_absolute_error  \\\n",
       "0  0.941614             0.112412       0.0  0.609355                 0.098010   \n",
       "1  0.861312             0.114036       0.0  0.634518                 0.110827   \n",
       "\n",
       "   val_accuracy  \n",
       "0           0.0  \n",
       "1           0.0  "
      ]
     },
     "execution_count": 54,
     "metadata": {},
     "output_type": "execute_result"
    }
   ],
   "source": [
    "hist_2"
   ]
  },
  {
   "cell_type": "code",
   "execution_count": 28,
   "id": "6e9e4775-5972-4c56-b7b8-473213e7219b",
   "metadata": {
    "tags": []
   },
   "outputs": [
    {
     "data": {
      "text/html": [
       "<div>\n",
       "<style scoped>\n",
       "    .dataframe tbody tr th:only-of-type {\n",
       "        vertical-align: middle;\n",
       "    }\n",
       "\n",
       "    .dataframe tbody tr th {\n",
       "        vertical-align: top;\n",
       "    }\n",
       "\n",
       "    .dataframe thead th {\n",
       "        text-align: right;\n",
       "    }\n",
       "</style>\n",
       "<table border=\"1\" class=\"dataframe\">\n",
       "  <thead>\n",
       "    <tr style=\"text-align: right;\">\n",
       "      <th></th>\n",
       "      <th>loss</th>\n",
       "      <th>mean_absolute_error</th>\n",
       "      <th>accuracy</th>\n",
       "      <th>val_loss</th>\n",
       "      <th>val_mean_absolute_error</th>\n",
       "      <th>val_accuracy</th>\n",
       "    </tr>\n",
       "  </thead>\n",
       "  <tbody>\n",
       "    <tr>\n",
       "      <th>0</th>\n",
       "      <td>1.555413</td>\n",
       "      <td>0.204005</td>\n",
       "      <td>0.0</td>\n",
       "      <td>0.714234</td>\n",
       "      <td>0.211522</td>\n",
       "      <td>0.0</td>\n",
       "    </tr>\n",
       "    <tr>\n",
       "      <th>1</th>\n",
       "      <td>1.492719</td>\n",
       "      <td>0.140940</td>\n",
       "      <td>0.0</td>\n",
       "      <td>0.705502</td>\n",
       "      <td>0.143369</td>\n",
       "      <td>0.0</td>\n",
       "    </tr>\n",
       "    <tr>\n",
       "      <th>2</th>\n",
       "      <td>1.489709</td>\n",
       "      <td>0.135813</td>\n",
       "      <td>0.0</td>\n",
       "      <td>0.701544</td>\n",
       "      <td>0.129748</td>\n",
       "      <td>0.0</td>\n",
       "    </tr>\n",
       "    <tr>\n",
       "      <th>3</th>\n",
       "      <td>1.486173</td>\n",
       "      <td>0.138126</td>\n",
       "      <td>0.0</td>\n",
       "      <td>0.692430</td>\n",
       "      <td>0.100725</td>\n",
       "      <td>0.0</td>\n",
       "    </tr>\n",
       "    <tr>\n",
       "      <th>4</th>\n",
       "      <td>1.441503</td>\n",
       "      <td>0.127889</td>\n",
       "      <td>0.0</td>\n",
       "      <td>0.628241</td>\n",
       "      <td>0.094379</td>\n",
       "      <td>0.0</td>\n",
       "    </tr>\n",
       "  </tbody>\n",
       "</table>\n",
       "</div>"
      ],
      "text/plain": [
       "       loss  mean_absolute_error  accuracy  val_loss  val_mean_absolute_error  \\\n",
       "0  1.555413             0.204005       0.0  0.714234                 0.211522   \n",
       "1  1.492719             0.140940       0.0  0.705502                 0.143369   \n",
       "2  1.489709             0.135813       0.0  0.701544                 0.129748   \n",
       "3  1.486173             0.138126       0.0  0.692430                 0.100725   \n",
       "4  1.441503             0.127889       0.0  0.628241                 0.094379   \n",
       "\n",
       "   val_accuracy  \n",
       "0           0.0  \n",
       "1           0.0  \n",
       "2           0.0  \n",
       "3           0.0  \n",
       "4           0.0  "
      ]
     },
     "execution_count": 28,
     "metadata": {},
     "output_type": "execute_result"
    }
   ],
   "source": [
    "hist_2_mf"
   ]
  },
  {
   "cell_type": "code",
   "execution_count": 29,
   "id": "f92628ac-8903-482a-9599-48009f00e961",
   "metadata": {
    "tags": []
   },
   "outputs": [
    {
     "data": {
      "text/html": [
       "<div>\n",
       "<style scoped>\n",
       "    .dataframe tbody tr th:only-of-type {\n",
       "        vertical-align: middle;\n",
       "    }\n",
       "\n",
       "    .dataframe tbody tr th {\n",
       "        vertical-align: top;\n",
       "    }\n",
       "\n",
       "    .dataframe thead th {\n",
       "        text-align: right;\n",
       "    }\n",
       "</style>\n",
       "<table border=\"1\" class=\"dataframe\">\n",
       "  <thead>\n",
       "    <tr style=\"text-align: right;\">\n",
       "      <th></th>\n",
       "      <th>loss</th>\n",
       "      <th>mean_absolute_error</th>\n",
       "      <th>accuracy</th>\n",
       "      <th>val_loss</th>\n",
       "      <th>val_mean_absolute_error</th>\n",
       "      <th>val_accuracy</th>\n",
       "    </tr>\n",
       "  </thead>\n",
       "  <tbody>\n",
       "    <tr>\n",
       "      <th>0</th>\n",
       "      <td>0.923758</td>\n",
       "      <td>0.111134</td>\n",
       "      <td>0.0</td>\n",
       "      <td>0.710090</td>\n",
       "      <td>0.112743</td>\n",
       "      <td>0.0</td>\n",
       "    </tr>\n",
       "    <tr>\n",
       "      <th>1</th>\n",
       "      <td>0.860586</td>\n",
       "      <td>0.111333</td>\n",
       "      <td>0.0</td>\n",
       "      <td>0.727123</td>\n",
       "      <td>0.123201</td>\n",
       "      <td>0.0</td>\n",
       "    </tr>\n",
       "    <tr>\n",
       "      <th>2</th>\n",
       "      <td>0.841891</td>\n",
       "      <td>0.112423</td>\n",
       "      <td>0.0</td>\n",
       "      <td>0.723785</td>\n",
       "      <td>0.119927</td>\n",
       "      <td>0.0</td>\n",
       "    </tr>\n",
       "    <tr>\n",
       "      <th>3</th>\n",
       "      <td>0.817931</td>\n",
       "      <td>0.109606</td>\n",
       "      <td>0.0</td>\n",
       "      <td>0.725325</td>\n",
       "      <td>0.121725</td>\n",
       "      <td>0.0</td>\n",
       "    </tr>\n",
       "    <tr>\n",
       "      <th>4</th>\n",
       "      <td>0.756845</td>\n",
       "      <td>0.104392</td>\n",
       "      <td>0.0</td>\n",
       "      <td>0.722778</td>\n",
       "      <td>0.124703</td>\n",
       "      <td>0.0</td>\n",
       "    </tr>\n",
       "  </tbody>\n",
       "</table>\n",
       "</div>"
      ],
      "text/plain": [
       "       loss  mean_absolute_error  accuracy  val_loss  val_mean_absolute_error  \\\n",
       "0  0.923758             0.111134       0.0  0.710090                 0.112743   \n",
       "1  0.860586             0.111333       0.0  0.727123                 0.123201   \n",
       "2  0.841891             0.112423       0.0  0.723785                 0.119927   \n",
       "3  0.817931             0.109606       0.0  0.725325                 0.121725   \n",
       "4  0.756845             0.104392       0.0  0.722778                 0.124703   \n",
       "\n",
       "   val_accuracy  \n",
       "0           0.0  \n",
       "1           0.0  \n",
       "2           0.0  \n",
       "3           0.0  \n",
       "4           0.0  "
      ]
     },
     "execution_count": 29,
     "metadata": {},
     "output_type": "execute_result"
    }
   ],
   "source": [
    "hist_2_ngrams"
   ]
  },
  {
   "cell_type": "code",
   "execution_count": 20,
   "id": "7e9c881f-3e82-4ce0-847f-3e7ac62953b6",
   "metadata": {
    "tags": []
   },
   "outputs": [
    {
     "data": {
      "text/html": [
       "<div>\n",
       "<style scoped>\n",
       "    .dataframe tbody tr th:only-of-type {\n",
       "        vertical-align: middle;\n",
       "    }\n",
       "\n",
       "    .dataframe tbody tr th {\n",
       "        vertical-align: top;\n",
       "    }\n",
       "\n",
       "    .dataframe thead th {\n",
       "        text-align: right;\n",
       "    }\n",
       "</style>\n",
       "<table border=\"1\" class=\"dataframe\">\n",
       "  <thead>\n",
       "    <tr style=\"text-align: right;\">\n",
       "      <th></th>\n",
       "      <th>loss</th>\n",
       "      <th>mean_absolute_error</th>\n",
       "      <th>accuracy</th>\n",
       "      <th>val_loss</th>\n",
       "      <th>val_mean_absolute_error</th>\n",
       "      <th>val_accuracy</th>\n",
       "    </tr>\n",
       "  </thead>\n",
       "  <tbody>\n",
       "    <tr>\n",
       "      <th>0</th>\n",
       "      <td>0.968016</td>\n",
       "      <td>0.118088</td>\n",
       "      <td>0.0</td>\n",
       "      <td>0.705901</td>\n",
       "      <td>0.122682</td>\n",
       "      <td>0.0</td>\n",
       "    </tr>\n",
       "    <tr>\n",
       "      <th>1</th>\n",
       "      <td>0.962250</td>\n",
       "      <td>0.125279</td>\n",
       "      <td>0.0</td>\n",
       "      <td>0.681570</td>\n",
       "      <td>0.096180</td>\n",
       "      <td>0.0</td>\n",
       "    </tr>\n",
       "    <tr>\n",
       "      <th>2</th>\n",
       "      <td>0.950995</td>\n",
       "      <td>0.122447</td>\n",
       "      <td>0.0</td>\n",
       "      <td>0.707882</td>\n",
       "      <td>0.099532</td>\n",
       "      <td>0.0</td>\n",
       "    </tr>\n",
       "  </tbody>\n",
       "</table>\n",
       "</div>"
      ],
      "text/plain": [
       "       loss  mean_absolute_error  accuracy  val_loss  val_mean_absolute_error  \\\n",
       "0  0.968016             0.118088       0.0  0.705901                 0.122682   \n",
       "1  0.962250             0.125279       0.0  0.681570                 0.096180   \n",
       "2  0.950995             0.122447       0.0  0.707882                 0.099532   \n",
       "\n",
       "   val_accuracy  \n",
       "0           0.0  \n",
       "1           0.0  \n",
       "2           0.0  "
      ]
     },
     "execution_count": 20,
     "metadata": {},
     "output_type": "execute_result"
    }
   ],
   "source": [
    "hist_3"
   ]
  },
  {
   "cell_type": "code",
   "execution_count": 21,
   "id": "119af8c9-d150-4b96-8ae9-1ae61b9d5af0",
   "metadata": {
    "tags": []
   },
   "outputs": [
    {
     "data": {
      "text/html": [
       "<div>\n",
       "<style scoped>\n",
       "    .dataframe tbody tr th:only-of-type {\n",
       "        vertical-align: middle;\n",
       "    }\n",
       "\n",
       "    .dataframe tbody tr th {\n",
       "        vertical-align: top;\n",
       "    }\n",
       "\n",
       "    .dataframe thead th {\n",
       "        text-align: right;\n",
       "    }\n",
       "</style>\n",
       "<table border=\"1\" class=\"dataframe\">\n",
       "  <thead>\n",
       "    <tr style=\"text-align: right;\">\n",
       "      <th></th>\n",
       "      <th>loss</th>\n",
       "      <th>mean_absolute_error</th>\n",
       "      <th>accuracy</th>\n",
       "      <th>val_loss</th>\n",
       "      <th>val_mean_absolute_error</th>\n",
       "      <th>val_accuracy</th>\n",
       "    </tr>\n",
       "  </thead>\n",
       "  <tbody>\n",
       "    <tr>\n",
       "      <th>0</th>\n",
       "      <td>0.968016</td>\n",
       "      <td>0.118088</td>\n",
       "      <td>0.0</td>\n",
       "      <td>0.705901</td>\n",
       "      <td>0.122682</td>\n",
       "      <td>0.0</td>\n",
       "    </tr>\n",
       "    <tr>\n",
       "      <th>1</th>\n",
       "      <td>0.962250</td>\n",
       "      <td>0.125279</td>\n",
       "      <td>0.0</td>\n",
       "      <td>0.681570</td>\n",
       "      <td>0.096180</td>\n",
       "      <td>0.0</td>\n",
       "    </tr>\n",
       "    <tr>\n",
       "      <th>2</th>\n",
       "      <td>0.950995</td>\n",
       "      <td>0.122447</td>\n",
       "      <td>0.0</td>\n",
       "      <td>0.707882</td>\n",
       "      <td>0.099532</td>\n",
       "      <td>0.0</td>\n",
       "    </tr>\n",
       "  </tbody>\n",
       "</table>\n",
       "</div>"
      ],
      "text/plain": [
       "       loss  mean_absolute_error  accuracy  val_loss  val_mean_absolute_error  \\\n",
       "0  0.968016             0.118088       0.0  0.705901                 0.122682   \n",
       "1  0.962250             0.125279       0.0  0.681570                 0.096180   \n",
       "2  0.950995             0.122447       0.0  0.707882                 0.099532   \n",
       "\n",
       "   val_accuracy  \n",
       "0           0.0  \n",
       "1           0.0  \n",
       "2           0.0  "
      ]
     },
     "execution_count": 21,
     "metadata": {},
     "output_type": "execute_result"
    }
   ],
   "source": [
    "hist_3_b"
   ]
  },
  {
   "cell_type": "code",
   "execution_count": 22,
   "id": "0e5a76c0-ce90-4a5c-bf70-ab06a482919f",
   "metadata": {
    "tags": []
   },
   "outputs": [
    {
     "data": {
      "text/html": [
       "<div>\n",
       "<style scoped>\n",
       "    .dataframe tbody tr th:only-of-type {\n",
       "        vertical-align: middle;\n",
       "    }\n",
       "\n",
       "    .dataframe tbody tr th {\n",
       "        vertical-align: top;\n",
       "    }\n",
       "\n",
       "    .dataframe thead th {\n",
       "        text-align: right;\n",
       "    }\n",
       "</style>\n",
       "<table border=\"1\" class=\"dataframe\">\n",
       "  <thead>\n",
       "    <tr style=\"text-align: right;\">\n",
       "      <th></th>\n",
       "      <th>loss</th>\n",
       "      <th>mean_absolute_error</th>\n",
       "      <th>accuracy</th>\n",
       "      <th>val_loss</th>\n",
       "      <th>val_mean_absolute_error</th>\n",
       "      <th>val_accuracy</th>\n",
       "    </tr>\n",
       "  </thead>\n",
       "  <tbody>\n",
       "    <tr>\n",
       "      <th>0</th>\n",
       "      <td>1.493012</td>\n",
       "      <td>0.124013</td>\n",
       "      <td>0.0</td>\n",
       "      <td>0.712301</td>\n",
       "      <td>0.191536</td>\n",
       "      <td>0.0</td>\n",
       "    </tr>\n",
       "    <tr>\n",
       "      <th>1</th>\n",
       "      <td>1.492829</td>\n",
       "      <td>0.139525</td>\n",
       "      <td>0.0</td>\n",
       "      <td>0.713138</td>\n",
       "      <td>0.101890</td>\n",
       "      <td>0.0</td>\n",
       "    </tr>\n",
       "  </tbody>\n",
       "</table>\n",
       "</div>"
      ],
      "text/plain": [
       "       loss  mean_absolute_error  accuracy  val_loss  val_mean_absolute_error  \\\n",
       "0  1.493012             0.124013       0.0  0.712301                 0.191536   \n",
       "1  1.492829             0.139525       0.0  0.713138                 0.101890   \n",
       "\n",
       "   val_accuracy  \n",
       "0           0.0  \n",
       "1           0.0  "
      ]
     },
     "execution_count": 22,
     "metadata": {},
     "output_type": "execute_result"
    }
   ],
   "source": [
    "hist_3_c"
   ]
  },
  {
   "cell_type": "code",
   "execution_count": 23,
   "id": "5cae5d7f-0d96-4af0-aa06-104f0465e17b",
   "metadata": {
    "tags": []
   },
   "outputs": [
    {
     "data": {
      "text/html": [
       "<div>\n",
       "<style scoped>\n",
       "    .dataframe tbody tr th:only-of-type {\n",
       "        vertical-align: middle;\n",
       "    }\n",
       "\n",
       "    .dataframe tbody tr th {\n",
       "        vertical-align: top;\n",
       "    }\n",
       "\n",
       "    .dataframe thead th {\n",
       "        text-align: right;\n",
       "    }\n",
       "</style>\n",
       "<table border=\"1\" class=\"dataframe\">\n",
       "  <thead>\n",
       "    <tr style=\"text-align: right;\">\n",
       "      <th></th>\n",
       "      <th>loss</th>\n",
       "      <th>mean_absolute_error</th>\n",
       "      <th>accuracy</th>\n",
       "      <th>val_loss</th>\n",
       "      <th>val_mean_absolute_error</th>\n",
       "      <th>val_accuracy</th>\n",
       "    </tr>\n",
       "  </thead>\n",
       "  <tbody>\n",
       "    <tr>\n",
       "      <th>0</th>\n",
       "      <td>1.493058</td>\n",
       "      <td>0.124635</td>\n",
       "      <td>0.0</td>\n",
       "      <td>0.714317</td>\n",
       "      <td>0.200483</td>\n",
       "      <td>0.0</td>\n",
       "    </tr>\n",
       "    <tr>\n",
       "      <th>1</th>\n",
       "      <td>1.493849</td>\n",
       "      <td>0.137843</td>\n",
       "      <td>0.0</td>\n",
       "      <td>0.710901</td>\n",
       "      <td>0.092969</td>\n",
       "      <td>0.0</td>\n",
       "    </tr>\n",
       "    <tr>\n",
       "      <th>2</th>\n",
       "      <td>1.493515</td>\n",
       "      <td>0.147939</td>\n",
       "      <td>0.0</td>\n",
       "      <td>0.705894</td>\n",
       "      <td>0.131465</td>\n",
       "      <td>0.0</td>\n",
       "    </tr>\n",
       "    <tr>\n",
       "      <th>3</th>\n",
       "      <td>1.491341</td>\n",
       "      <td>0.153276</td>\n",
       "      <td>0.0</td>\n",
       "      <td>0.707012</td>\n",
       "      <td>0.117426</td>\n",
       "      <td>0.0</td>\n",
       "    </tr>\n",
       "  </tbody>\n",
       "</table>\n",
       "</div>"
      ],
      "text/plain": [
       "       loss  mean_absolute_error  accuracy  val_loss  val_mean_absolute_error  \\\n",
       "0  1.493058             0.124635       0.0  0.714317                 0.200483   \n",
       "1  1.493849             0.137843       0.0  0.710901                 0.092969   \n",
       "2  1.493515             0.147939       0.0  0.705894                 0.131465   \n",
       "3  1.491341             0.153276       0.0  0.707012                 0.117426   \n",
       "\n",
       "   val_accuracy  \n",
       "0           0.0  \n",
       "1           0.0  \n",
       "2           0.0  \n",
       "3           0.0  "
      ]
     },
     "execution_count": 23,
     "metadata": {},
     "output_type": "execute_result"
    }
   ],
   "source": [
    "hist_3_d"
   ]
  },
  {
   "cell_type": "code",
   "execution_count": 36,
   "id": "754eda5a-6a37-4883-bcb9-62cf18037021",
   "metadata": {
    "tags": []
   },
   "outputs": [
    {
     "data": {
      "text/html": [
       "<div>\n",
       "<style scoped>\n",
       "    .dataframe tbody tr th:only-of-type {\n",
       "        vertical-align: middle;\n",
       "    }\n",
       "\n",
       "    .dataframe tbody tr th {\n",
       "        vertical-align: top;\n",
       "    }\n",
       "\n",
       "    .dataframe thead th {\n",
       "        text-align: right;\n",
       "    }\n",
       "</style>\n",
       "<table border=\"1\" class=\"dataframe\">\n",
       "  <thead>\n",
       "    <tr style=\"text-align: right;\">\n",
       "      <th></th>\n",
       "      <th>loss</th>\n",
       "      <th>mean_absolute_error</th>\n",
       "      <th>accuracy</th>\n",
       "      <th>val_loss</th>\n",
       "      <th>val_mean_absolute_error</th>\n",
       "      <th>val_accuracy</th>\n",
       "    </tr>\n",
       "  </thead>\n",
       "  <tbody>\n",
       "    <tr>\n",
       "      <th>0</th>\n",
       "      <td>1.490502</td>\n",
       "      <td>0.133164</td>\n",
       "      <td>0.0</td>\n",
       "      <td>0.706304</td>\n",
       "      <td>0.142727</td>\n",
       "      <td>0.0</td>\n",
       "    </tr>\n",
       "    <tr>\n",
       "      <th>1</th>\n",
       "      <td>1.490278</td>\n",
       "      <td>0.137152</td>\n",
       "      <td>0.0</td>\n",
       "      <td>0.706345</td>\n",
       "      <td>0.131975</td>\n",
       "      <td>0.0</td>\n",
       "    </tr>\n",
       "  </tbody>\n",
       "</table>\n",
       "</div>"
      ],
      "text/plain": [
       "       loss  mean_absolute_error  accuracy  val_loss  val_mean_absolute_error  \\\n",
       "0  1.490502             0.133164       0.0  0.706304                 0.142727   \n",
       "1  1.490278             0.137152       0.0  0.706345                 0.131975   \n",
       "\n",
       "   val_accuracy  \n",
       "0           0.0  \n",
       "1           0.0  "
      ]
     },
     "execution_count": 36,
     "metadata": {},
     "output_type": "execute_result"
    }
   ],
   "source": [
    "hist_3_e"
   ]
  },
  {
   "cell_type": "code",
   "execution_count": 25,
   "id": "d245ac4b-47d9-451d-a729-0d7d6c31adeb",
   "metadata": {
    "tags": []
   },
   "outputs": [
    {
     "data": {
      "text/html": [
       "<div>\n",
       "<style scoped>\n",
       "    .dataframe tbody tr th:only-of-type {\n",
       "        vertical-align: middle;\n",
       "    }\n",
       "\n",
       "    .dataframe tbody tr th {\n",
       "        vertical-align: top;\n",
       "    }\n",
       "\n",
       "    .dataframe thead th {\n",
       "        text-align: right;\n",
       "    }\n",
       "</style>\n",
       "<table border=\"1\" class=\"dataframe\">\n",
       "  <thead>\n",
       "    <tr style=\"text-align: right;\">\n",
       "      <th></th>\n",
       "      <th>loss</th>\n",
       "      <th>mean_absolute_error</th>\n",
       "      <th>accuracy</th>\n",
       "      <th>val_loss</th>\n",
       "      <th>val_mean_absolute_error</th>\n",
       "      <th>val_accuracy</th>\n",
       "    </tr>\n",
       "  </thead>\n",
       "  <tbody>\n",
       "    <tr>\n",
       "      <th>0</th>\n",
       "      <td>0.960744</td>\n",
       "      <td>0.123068</td>\n",
       "      <td>0.0</td>\n",
       "      <td>0.694064</td>\n",
       "      <td>0.126233</td>\n",
       "      <td>0.0</td>\n",
       "    </tr>\n",
       "    <tr>\n",
       "      <th>1</th>\n",
       "      <td>0.947665</td>\n",
       "      <td>0.119645</td>\n",
       "      <td>0.0</td>\n",
       "      <td>0.679076</td>\n",
       "      <td>0.138082</td>\n",
       "      <td>0.0</td>\n",
       "    </tr>\n",
       "    <tr>\n",
       "      <th>2</th>\n",
       "      <td>0.939346</td>\n",
       "      <td>0.121279</td>\n",
       "      <td>0.0</td>\n",
       "      <td>0.687265</td>\n",
       "      <td>0.114197</td>\n",
       "      <td>0.0</td>\n",
       "    </tr>\n",
       "  </tbody>\n",
       "</table>\n",
       "</div>"
      ],
      "text/plain": [
       "       loss  mean_absolute_error  accuracy  val_loss  val_mean_absolute_error  \\\n",
       "0  0.960744             0.123068       0.0  0.694064                 0.126233   \n",
       "1  0.947665             0.119645       0.0  0.679076                 0.138082   \n",
       "2  0.939346             0.121279       0.0  0.687265                 0.114197   \n",
       "\n",
       "   val_accuracy  \n",
       "0           0.0  \n",
       "1           0.0  \n",
       "2           0.0  "
      ]
     },
     "execution_count": 25,
     "metadata": {},
     "output_type": "execute_result"
    }
   ],
   "source": [
    "hist_3_dp"
   ]
  },
  {
   "cell_type": "code",
   "execution_count": 26,
   "id": "ea8fde1e-a214-4b1b-8d3a-e7ffa147b86f",
   "metadata": {
    "tags": []
   },
   "outputs": [
    {
     "data": {
      "text/html": [
       "<div>\n",
       "<style scoped>\n",
       "    .dataframe tbody tr th:only-of-type {\n",
       "        vertical-align: middle;\n",
       "    }\n",
       "\n",
       "    .dataframe tbody tr th {\n",
       "        vertical-align: top;\n",
       "    }\n",
       "\n",
       "    .dataframe thead th {\n",
       "        text-align: right;\n",
       "    }\n",
       "</style>\n",
       "<table border=\"1\" class=\"dataframe\">\n",
       "  <thead>\n",
       "    <tr style=\"text-align: right;\">\n",
       "      <th></th>\n",
       "      <th>loss</th>\n",
       "      <th>mean_absolute_error</th>\n",
       "      <th>accuracy</th>\n",
       "      <th>val_loss</th>\n",
       "      <th>val_mean_absolute_error</th>\n",
       "      <th>val_accuracy</th>\n",
       "    </tr>\n",
       "  </thead>\n",
       "  <tbody>\n",
       "    <tr>\n",
       "      <th>0</th>\n",
       "      <td>0.968242</td>\n",
       "      <td>0.121550</td>\n",
       "      <td>0.0</td>\n",
       "      <td>0.706560</td>\n",
       "      <td>0.119283</td>\n",
       "      <td>0.0</td>\n",
       "    </tr>\n",
       "    <tr>\n",
       "      <th>1</th>\n",
       "      <td>0.968232</td>\n",
       "      <td>0.124366</td>\n",
       "      <td>0.0</td>\n",
       "      <td>0.708794</td>\n",
       "      <td>0.100467</td>\n",
       "      <td>0.0</td>\n",
       "    </tr>\n",
       "  </tbody>\n",
       "</table>\n",
       "</div>"
      ],
      "text/plain": [
       "       loss  mean_absolute_error  accuracy  val_loss  val_mean_absolute_error  \\\n",
       "0  0.968242             0.121550       0.0  0.706560                 0.119283   \n",
       "1  0.968232             0.124366       0.0  0.708794                 0.100467   \n",
       "\n",
       "   val_accuracy  \n",
       "0           0.0  \n",
       "1           0.0  "
      ]
     },
     "execution_count": 26,
     "metadata": {},
     "output_type": "execute_result"
    }
   ],
   "source": [
    "hist_4_tanh"
   ]
  },
  {
   "cell_type": "code",
   "execution_count": 27,
   "id": "7f215ef0-d332-4e88-a25f-485f95f20995",
   "metadata": {
    "tags": []
   },
   "outputs": [
    {
     "data": {
      "text/html": [
       "<div>\n",
       "<style scoped>\n",
       "    .dataframe tbody tr th:only-of-type {\n",
       "        vertical-align: middle;\n",
       "    }\n",
       "\n",
       "    .dataframe tbody tr th {\n",
       "        vertical-align: top;\n",
       "    }\n",
       "\n",
       "    .dataframe thead th {\n",
       "        text-align: right;\n",
       "    }\n",
       "</style>\n",
       "<table border=\"1\" class=\"dataframe\">\n",
       "  <thead>\n",
       "    <tr style=\"text-align: right;\">\n",
       "      <th></th>\n",
       "      <th>loss</th>\n",
       "      <th>mean_absolute_error</th>\n",
       "      <th>accuracy</th>\n",
       "      <th>val_loss</th>\n",
       "      <th>val_mean_absolute_error</th>\n",
       "      <th>val_accuracy</th>\n",
       "    </tr>\n",
       "  </thead>\n",
       "  <tbody>\n",
       "    <tr>\n",
       "      <th>0</th>\n",
       "      <td>0.967287</td>\n",
       "      <td>0.158545</td>\n",
       "      <td>0.0</td>\n",
       "      <td>0.706388</td>\n",
       "      <td>0.126739</td>\n",
       "      <td>0.0</td>\n",
       "    </tr>\n",
       "    <tr>\n",
       "      <th>1</th>\n",
       "      <td>0.929697</td>\n",
       "      <td>0.133679</td>\n",
       "      <td>0.0</td>\n",
       "      <td>0.621943</td>\n",
       "      <td>0.113237</td>\n",
       "      <td>0.0</td>\n",
       "    </tr>\n",
       "    <tr>\n",
       "      <th>2</th>\n",
       "      <td>0.885640</td>\n",
       "      <td>0.148274</td>\n",
       "      <td>0.0</td>\n",
       "      <td>0.640811</td>\n",
       "      <td>0.106668</td>\n",
       "      <td>0.0</td>\n",
       "    </tr>\n",
       "  </tbody>\n",
       "</table>\n",
       "</div>"
      ],
      "text/plain": [
       "       loss  mean_absolute_error  accuracy  val_loss  val_mean_absolute_error  \\\n",
       "0  0.967287             0.158545       0.0  0.706388                 0.126739   \n",
       "1  0.929697             0.133679       0.0  0.621943                 0.113237   \n",
       "2  0.885640             0.148274       0.0  0.640811                 0.106668   \n",
       "\n",
       "   val_accuracy  \n",
       "0           0.0  \n",
       "1           0.0  \n",
       "2           0.0  "
      ]
     },
     "execution_count": 27,
     "metadata": {},
     "output_type": "execute_result"
    }
   ],
   "source": [
    "hist_5_tanh"
   ]
  },
  {
   "cell_type": "markdown",
   "id": "39b822da-77a7-49a1-b180-cd6da2bd8ca5",
   "metadata": {
    "tags": []
   },
   "source": [
    "# Model Losses (Train and Validation)"
   ]
  },
  {
   "cell_type": "code",
   "execution_count": 69,
   "id": "d7adc8ec-9322-4a7e-9e78-8a14c0d27e7d",
   "metadata": {
    "tags": []
   },
   "outputs": [],
   "source": [
    "def validate_model(model, x_train, y_train, x_val, y_val, x_test=None, y_test=None, name=\"model\"):\n",
    "    print(f\"Evaluating {name}\")\n",
    "    train_loss_mse, train_mae, train_acc = model.evaluate(x_train, y_train, verbose=0)\n",
    "    val_loss_mse, val_mae, val_acc = model.evaluate(x_val, y_val, verbose=0)\n",
    "    \n",
    "    if x_test is not None:\n",
    "        test_loss_mse, test_mae, test_acc = model.evaluate(x_test, y_test, verbose=0)\n",
    "    else:\n",
    "        test_loss_mse, test_mae, test_acc = \"NA\", \"NA\", \"NA\"\n",
    "\n",
    "    return {\n",
    "        \"train\": {\"mse\":train_loss_mse,\"mae\":train_mae,\"acc\":train_acc},\n",
    "        \"val\": {\"mse\":val_loss_mse,\"mae\":val_mae,\"acc\":val_acc},\n",
    "        \"test\": {\"mse\":test_loss_mse,\"mae\":test_mae,\"acc\":test_acc},\n",
    "        \"model_name\": name\n",
    "    }"
   ]
  },
  {
   "cell_type": "code",
   "execution_count": 70,
   "id": "45e1a068-d84d-4fae-9aaa-322f4dabc326",
   "metadata": {
    "collapsed": true,
    "jupyter": {
     "outputs_hidden": true
    },
    "tags": []
   },
   "outputs": [
    {
     "name": "stdout",
     "output_type": "stream",
     "text": [
      "Evaluating model_2\n",
      "Evaluating model_3\n",
      "Evaluating model_3_b\n",
      "Evaluating model_c\n",
      "Evaluating model_d\n",
      "Evaluating model_e\n",
      "Evaluating model_3_dropout\n",
      "Evaluating model_4\n"
     ]
    },
    {
     "name": "stderr",
     "output_type": "stream",
     "text": [
      "2024-08-02 09:36:51.794255: I tensorflow/core/common_runtime/executor.cc:1197] [/device:CPU:0] (DEBUG INFO) Executor start aborting (this does not indicate an error and you can ignore this message): INVALID_ARGUMENT: You must feed a value for placeholder tensor 'gradients/split_2_grad/concat/split_2/split_dim' with dtype int32\n",
      "\t [[{{node gradients/split_2_grad/concat/split_2/split_dim}}]]\n",
      "2024-08-02 09:36:51.795953: I tensorflow/core/common_runtime/executor.cc:1197] [/device:CPU:0] (DEBUG INFO) Executor start aborting (this does not indicate an error and you can ignore this message): INVALID_ARGUMENT: You must feed a value for placeholder tensor 'gradients/split_grad/concat/split/split_dim' with dtype int32\n",
      "\t [[{{node gradients/split_grad/concat/split/split_dim}}]]\n",
      "2024-08-02 09:36:51.798041: I tensorflow/core/common_runtime/executor.cc:1197] [/device:CPU:0] (DEBUG INFO) Executor start aborting (this does not indicate an error and you can ignore this message): INVALID_ARGUMENT: You must feed a value for placeholder tensor 'gradients/split_1_grad/concat/split_1/split_dim' with dtype int32\n",
      "\t [[{{node gradients/split_1_grad/concat/split_1/split_dim}}]]\n"
     ]
    },
    {
     "name": "stdout",
     "output_type": "stream",
     "text": [
      "Evaluating model_5\n"
     ]
    },
    {
     "name": "stderr",
     "output_type": "stream",
     "text": [
      "2024-08-02 09:40:48.245313: I tensorflow/core/common_runtime/executor.cc:1197] [/device:CPU:0] (DEBUG INFO) Executor start aborting (this does not indicate an error and you can ignore this message): INVALID_ARGUMENT: You must feed a value for placeholder tensor 'gradients/split_2_grad/concat/split_2/split_dim' with dtype int32\n",
      "\t [[{{node gradients/split_2_grad/concat/split_2/split_dim}}]]\n",
      "2024-08-02 09:40:48.247393: I tensorflow/core/common_runtime/executor.cc:1197] [/device:CPU:0] (DEBUG INFO) Executor start aborting (this does not indicate an error and you can ignore this message): INVALID_ARGUMENT: You must feed a value for placeholder tensor 'gradients/split_grad/concat/split/split_dim' with dtype int32\n",
      "\t [[{{node gradients/split_grad/concat/split/split_dim}}]]\n",
      "2024-08-02 09:40:48.249911: I tensorflow/core/common_runtime/executor.cc:1197] [/device:CPU:0] (DEBUG INFO) Executor start aborting (this does not indicate an error and you can ignore this message): INVALID_ARGUMENT: You must feed a value for placeholder tensor 'gradients/split_1_grad/concat/split_1/split_dim' with dtype int32\n",
      "\t [[{{node gradients/split_1_grad/concat/split_1/split_dim}}]]\n",
      "2024-08-02 09:40:48.432709: I tensorflow/core/common_runtime/executor.cc:1197] [/device:CPU:0] (DEBUG INFO) Executor start aborting (this does not indicate an error and you can ignore this message): INVALID_ARGUMENT: You must feed a value for placeholder tensor 'gradients/ReverseV2_grad/ReverseV2/ReverseV2/axis' with dtype int32 and shape [1]\n",
      "\t [[{{node gradients/ReverseV2_grad/ReverseV2/ReverseV2/axis}}]]\n",
      "2024-08-02 09:40:48.518230: I tensorflow/core/common_runtime/executor.cc:1197] [/device:CPU:0] (DEBUG INFO) Executor start aborting (this does not indicate an error and you can ignore this message): INVALID_ARGUMENT: You must feed a value for placeholder tensor 'gradients/split_2_grad/concat/split_2/split_dim' with dtype int32\n",
      "\t [[{{node gradients/split_2_grad/concat/split_2/split_dim}}]]\n",
      "2024-08-02 09:40:48.521785: I tensorflow/core/common_runtime/executor.cc:1197] [/device:CPU:0] (DEBUG INFO) Executor start aborting (this does not indicate an error and you can ignore this message): INVALID_ARGUMENT: You must feed a value for placeholder tensor 'gradients/split_grad/concat/split/split_dim' with dtype int32\n",
      "\t [[{{node gradients/split_grad/concat/split/split_dim}}]]\n",
      "2024-08-02 09:40:48.523668: I tensorflow/core/common_runtime/executor.cc:1197] [/device:CPU:0] (DEBUG INFO) Executor start aborting (this does not indicate an error and you can ignore this message): INVALID_ARGUMENT: You must feed a value for placeholder tensor 'gradients/split_1_grad/concat/split_1/split_dim' with dtype int32\n",
      "\t [[{{node gradients/split_1_grad/concat/split_1/split_dim}}]]\n"
     ]
    }
   ],
   "source": [
    "model_2_eval = validate_model(model_2 ,vectorized_text, y_train, vectorized_text_val, y_val, vectorized_text_test, y_test, \"model_2\")\n",
    "model_2_multifeature_eval = validate_model(model_2_multifeature ,vectorized_text, y_train, vectorized_text_val, y_val, vectorized_text_test, y_test, \"model_2_multifeature\")\n",
    "model_2_ngrams_eval = validate_model(model_2_ngrams,vectorized_text, y_train, vectorized_text_val, y_val, vectorized_text_test, y_test, \"model_2_ngrams\")\n",
    "\n",
    "model_3_eval = validate_model(model_3, vectorized_text, y_train, vectorized_text_val, y_val, vectorized_text_test, y_test, \"model_3\")\n",
    "model_3_b_eval = validate_model(model_3_b, vectorized_text, y_train, vectorized_text_val, y_val, vectorized_text_test, y_test,\"model_3_b\")\n",
    "model_3_c_eval = validate_model(model_3_c, vectorized_text, y_train, vectorized_text_val, y_val, vectorized_text_test, y_test, \"model_c\")\n",
    "model_3_d_eval = validate_model(model_3_d, vectorized_text, y_train, vectorized_text_val, y_val, vectorized_text_test, y_test, \"model_d\")\n",
    "model_3_e_eval = validate_model(model_3_e, vectorized_text, y_train, vectorized_text_val, y_val, vectorized_text_test, y_test, \"model_e\")\n",
    "model_3_dropout_eval = validate_model(model_3_dropout,vectorized_text, y_train, vectorized_text_val, y_val, vectorized_text_test, y_test, \"model_3_dropout\")\n",
    "\n",
    "model_4_tanh_eval = validate_model(model_4_tanh, vectorized_text, y_train, vectorized_text_val, y_val, vectorized_text_test, y_test, \"model_4\")\n",
    "\n",
    "model_5_tanh_eval = validate_model(model_5_tanh, vectorized_text, y_train, vectorized_text_val, y_val, vectorized_text_test, y_test, \"model_5\")"
   ]
  },
  {
   "cell_type": "code",
   "execution_count": 76,
   "id": "54a8dfd1-4745-47a0-92b0-5331b1398942",
   "metadata": {
    "tags": []
   },
   "outputs": [
    {
     "data": {
      "text/html": [
       "<div>\n",
       "<style scoped>\n",
       "    .dataframe tbody tr th:only-of-type {\n",
       "        vertical-align: middle;\n",
       "    }\n",
       "\n",
       "    .dataframe tbody tr th {\n",
       "        vertical-align: top;\n",
       "    }\n",
       "\n",
       "    .dataframe thead th {\n",
       "        text-align: right;\n",
       "    }\n",
       "</style>\n",
       "<table border=\"1\" class=\"dataframe\">\n",
       "  <thead>\n",
       "    <tr style=\"text-align: right;\">\n",
       "      <th></th>\n",
       "      <th>train</th>\n",
       "      <th>val</th>\n",
       "      <th>test</th>\n",
       "      <th>model_name</th>\n",
       "    </tr>\n",
       "  </thead>\n",
       "  <tbody>\n",
       "    <tr>\n",
       "      <th>mse</th>\n",
       "      <td>0.859088</td>\n",
       "      <td>0.609356</td>\n",
       "      <td>0.284379</td>\n",
       "      <td>model_2</td>\n",
       "    </tr>\n",
       "    <tr>\n",
       "      <th>mae</th>\n",
       "      <td>0.090757</td>\n",
       "      <td>0.098010</td>\n",
       "      <td>0.076583</td>\n",
       "      <td>model_2</td>\n",
       "    </tr>\n",
       "    <tr>\n",
       "      <th>acc</th>\n",
       "      <td>0.000000</td>\n",
       "      <td>0.000000</td>\n",
       "      <td>0.000000</td>\n",
       "      <td>model_2</td>\n",
       "    </tr>\n",
       "  </tbody>\n",
       "</table>\n",
       "</div>"
      ],
      "text/plain": [
       "        train       val      test model_name\n",
       "mse  0.859088  0.609356  0.284379    model_2\n",
       "mae  0.090757  0.098010  0.076583    model_2\n",
       "acc  0.000000  0.000000  0.000000    model_2"
      ]
     },
     "execution_count": 76,
     "metadata": {},
     "output_type": "execute_result"
    }
   ],
   "source": [
    "pd.DataFrame(model_2_eval)"
   ]
  },
  {
   "cell_type": "code",
   "execution_count": 77,
   "id": "fef062d0-8daa-49cc-bf7f-f0bf9a6a9095",
   "metadata": {
    "tags": []
   },
   "outputs": [
    {
     "data": {
      "text/html": [
       "<div>\n",
       "<style scoped>\n",
       "    .dataframe tbody tr th:only-of-type {\n",
       "        vertical-align: middle;\n",
       "    }\n",
       "\n",
       "    .dataframe tbody tr th {\n",
       "        vertical-align: top;\n",
       "    }\n",
       "\n",
       "    .dataframe thead th {\n",
       "        text-align: right;\n",
       "    }\n",
       "</style>\n",
       "<table border=\"1\" class=\"dataframe\">\n",
       "  <thead>\n",
       "    <tr style=\"text-align: right;\">\n",
       "      <th></th>\n",
       "      <th>train</th>\n",
       "      <th>val</th>\n",
       "      <th>test</th>\n",
       "      <th>model_name</th>\n",
       "    </tr>\n",
       "  </thead>\n",
       "  <tbody>\n",
       "    <tr>\n",
       "      <th>mse</th>\n",
       "      <td>0.936278</td>\n",
       "      <td>0.681571</td>\n",
       "      <td>0.351257</td>\n",
       "      <td>model_3</td>\n",
       "    </tr>\n",
       "    <tr>\n",
       "      <th>mae</th>\n",
       "      <td>0.088931</td>\n",
       "      <td>0.096180</td>\n",
       "      <td>0.070521</td>\n",
       "      <td>model_3</td>\n",
       "    </tr>\n",
       "    <tr>\n",
       "      <th>acc</th>\n",
       "      <td>0.000000</td>\n",
       "      <td>0.000000</td>\n",
       "      <td>0.000000</td>\n",
       "      <td>model_3</td>\n",
       "    </tr>\n",
       "  </tbody>\n",
       "</table>\n",
       "</div>"
      ],
      "text/plain": [
       "        train       val      test model_name\n",
       "mse  0.936278  0.681571  0.351257    model_3\n",
       "mae  0.088931  0.096180  0.070521    model_3\n",
       "acc  0.000000  0.000000  0.000000    model_3"
      ]
     },
     "execution_count": 77,
     "metadata": {},
     "output_type": "execute_result"
    }
   ],
   "source": [
    "pd.DataFrame(model_3_eval)"
   ]
  },
  {
   "cell_type": "code",
   "execution_count": 79,
   "id": "228bb22d-2143-4d9a-b0ab-f4f55e9f5641",
   "metadata": {
    "tags": []
   },
   "outputs": [
    {
     "data": {
      "text/html": [
       "<div>\n",
       "<style scoped>\n",
       "    .dataframe tbody tr th:only-of-type {\n",
       "        vertical-align: middle;\n",
       "    }\n",
       "\n",
       "    .dataframe tbody tr th {\n",
       "        vertical-align: top;\n",
       "    }\n",
       "\n",
       "    .dataframe thead th {\n",
       "        text-align: right;\n",
       "    }\n",
       "</style>\n",
       "<table border=\"1\" class=\"dataframe\">\n",
       "  <thead>\n",
       "    <tr style=\"text-align: right;\">\n",
       "      <th></th>\n",
       "      <th>train</th>\n",
       "      <th>val</th>\n",
       "      <th>test</th>\n",
       "      <th>model_name</th>\n",
       "    </tr>\n",
       "  </thead>\n",
       "  <tbody>\n",
       "    <tr>\n",
       "      <th>mse</th>\n",
       "      <td>0.936278</td>\n",
       "      <td>0.681571</td>\n",
       "      <td>0.351257</td>\n",
       "      <td>model_3_b</td>\n",
       "    </tr>\n",
       "    <tr>\n",
       "      <th>mae</th>\n",
       "      <td>0.088931</td>\n",
       "      <td>0.096180</td>\n",
       "      <td>0.070521</td>\n",
       "      <td>model_3_b</td>\n",
       "    </tr>\n",
       "    <tr>\n",
       "      <th>acc</th>\n",
       "      <td>0.000000</td>\n",
       "      <td>0.000000</td>\n",
       "      <td>0.000000</td>\n",
       "      <td>model_3_b</td>\n",
       "    </tr>\n",
       "  </tbody>\n",
       "</table>\n",
       "</div>"
      ],
      "text/plain": [
       "        train       val      test model_name\n",
       "mse  0.936278  0.681571  0.351257  model_3_b\n",
       "mae  0.088931  0.096180  0.070521  model_3_b\n",
       "acc  0.000000  0.000000  0.000000  model_3_b"
      ]
     },
     "execution_count": 79,
     "metadata": {},
     "output_type": "execute_result"
    }
   ],
   "source": [
    "pd.DataFrame(model_3_b_eval)"
   ]
  },
  {
   "cell_type": "code",
   "execution_count": 83,
   "id": "4f3c7680-75b8-4ddb-8b2e-5b3a035c93c5",
   "metadata": {},
   "outputs": [
    {
     "data": {
      "text/html": [
       "<div>\n",
       "<style scoped>\n",
       "    .dataframe tbody tr th:only-of-type {\n",
       "        vertical-align: middle;\n",
       "    }\n",
       "\n",
       "    .dataframe tbody tr th {\n",
       "        vertical-align: top;\n",
       "    }\n",
       "\n",
       "    .dataframe thead th {\n",
       "        text-align: right;\n",
       "    }\n",
       "</style>\n",
       "<table border=\"1\" class=\"dataframe\">\n",
       "  <thead>\n",
       "    <tr style=\"text-align: right;\">\n",
       "      <th></th>\n",
       "      <th>train</th>\n",
       "      <th>val</th>\n",
       "      <th>test</th>\n",
       "      <th>model_name</th>\n",
       "    </tr>\n",
       "  </thead>\n",
       "  <tbody>\n",
       "    <tr>\n",
       "      <th>mse</th>\n",
       "      <td>0.974347</td>\n",
       "      <td>0.712302</td>\n",
       "      <td>0.388859</td>\n",
       "      <td>model_c</td>\n",
       "    </tr>\n",
       "    <tr>\n",
       "      <th>mae</th>\n",
       "      <td>0.185198</td>\n",
       "      <td>0.191535</td>\n",
       "      <td>0.166179</td>\n",
       "      <td>model_c</td>\n",
       "    </tr>\n",
       "    <tr>\n",
       "      <th>acc</th>\n",
       "      <td>0.000000</td>\n",
       "      <td>0.000000</td>\n",
       "      <td>0.000000</td>\n",
       "      <td>model_c</td>\n",
       "    </tr>\n",
       "  </tbody>\n",
       "</table>\n",
       "</div>"
      ],
      "text/plain": [
       "        train       val      test model_name\n",
       "mse  0.974347  0.712302  0.388859    model_c\n",
       "mae  0.185198  0.191535  0.166179    model_c\n",
       "acc  0.000000  0.000000  0.000000    model_c"
      ]
     },
     "execution_count": 83,
     "metadata": {},
     "output_type": "execute_result"
    }
   ],
   "source": [
    "pd.DataFrame(model_3_c_eval)"
   ]
  },
  {
   "cell_type": "code",
   "execution_count": 84,
   "id": "2dfd3266-707b-4c4a-9783-07f13a96c2ff",
   "metadata": {},
   "outputs": [
    {
     "data": {
      "text/html": [
       "<div>\n",
       "<style scoped>\n",
       "    .dataframe tbody tr th:only-of-type {\n",
       "        vertical-align: middle;\n",
       "    }\n",
       "\n",
       "    .dataframe tbody tr th {\n",
       "        vertical-align: top;\n",
       "    }\n",
       "\n",
       "    .dataframe thead th {\n",
       "        text-align: right;\n",
       "    }\n",
       "</style>\n",
       "<table border=\"1\" class=\"dataframe\">\n",
       "  <thead>\n",
       "    <tr style=\"text-align: right;\">\n",
       "      <th></th>\n",
       "      <th>train</th>\n",
       "      <th>val</th>\n",
       "      <th>test</th>\n",
       "      <th>model_name</th>\n",
       "    </tr>\n",
       "  </thead>\n",
       "  <tbody>\n",
       "    <tr>\n",
       "      <th>mse</th>\n",
       "      <td>0.967555</td>\n",
       "      <td>0.705893</td>\n",
       "      <td>0.378834</td>\n",
       "      <td>model_d</td>\n",
       "    </tr>\n",
       "    <tr>\n",
       "      <th>mae</th>\n",
       "      <td>0.123531</td>\n",
       "      <td>0.131465</td>\n",
       "      <td>0.104127</td>\n",
       "      <td>model_d</td>\n",
       "    </tr>\n",
       "    <tr>\n",
       "      <th>acc</th>\n",
       "      <td>0.000000</td>\n",
       "      <td>0.000000</td>\n",
       "      <td>0.000000</td>\n",
       "      <td>model_d</td>\n",
       "    </tr>\n",
       "  </tbody>\n",
       "</table>\n",
       "</div>"
      ],
      "text/plain": [
       "        train       val      test model_name\n",
       "mse  0.967555  0.705893  0.378834    model_d\n",
       "mae  0.123531  0.131465  0.104127    model_d\n",
       "acc  0.000000  0.000000  0.000000    model_d"
      ]
     },
     "execution_count": 84,
     "metadata": {},
     "output_type": "execute_result"
    }
   ],
   "source": [
    "pd.DataFrame(model_3_d_eval)"
   ]
  },
  {
   "cell_type": "code",
   "execution_count": 86,
   "id": "428c420e-ed67-4497-be0d-27e3f24c534a",
   "metadata": {
    "tags": []
   },
   "outputs": [
    {
     "data": {
      "text/html": [
       "<div>\n",
       "<style scoped>\n",
       "    .dataframe tbody tr th:only-of-type {\n",
       "        vertical-align: middle;\n",
       "    }\n",
       "\n",
       "    .dataframe tbody tr th {\n",
       "        vertical-align: top;\n",
       "    }\n",
       "\n",
       "    .dataframe thead th {\n",
       "        text-align: right;\n",
       "    }\n",
       "</style>\n",
       "<table border=\"1\" class=\"dataframe\">\n",
       "  <thead>\n",
       "    <tr style=\"text-align: right;\">\n",
       "      <th></th>\n",
       "      <th>train</th>\n",
       "      <th>val</th>\n",
       "      <th>test</th>\n",
       "      <th>model_name</th>\n",
       "    </tr>\n",
       "  </thead>\n",
       "  <tbody>\n",
       "    <tr>\n",
       "      <th>mse</th>\n",
       "      <td>0.967551</td>\n",
       "      <td>0.706304</td>\n",
       "      <td>0.379708</td>\n",
       "      <td>model_e</td>\n",
       "    </tr>\n",
       "    <tr>\n",
       "      <th>mae</th>\n",
       "      <td>0.135746</td>\n",
       "      <td>0.142727</td>\n",
       "      <td>0.116717</td>\n",
       "      <td>model_e</td>\n",
       "    </tr>\n",
       "    <tr>\n",
       "      <th>acc</th>\n",
       "      <td>0.000000</td>\n",
       "      <td>0.000000</td>\n",
       "      <td>0.000000</td>\n",
       "      <td>model_e</td>\n",
       "    </tr>\n",
       "  </tbody>\n",
       "</table>\n",
       "</div>"
      ],
      "text/plain": [
       "        train       val      test model_name\n",
       "mse  0.967551  0.706304  0.379708    model_e\n",
       "mae  0.135746  0.142727  0.116717    model_e\n",
       "acc  0.000000  0.000000  0.000000    model_e"
      ]
     },
     "execution_count": 86,
     "metadata": {},
     "output_type": "execute_result"
    }
   ],
   "source": [
    "pd.DataFrame(model_3_e_eval)"
   ]
  },
  {
   "cell_type": "code",
   "execution_count": 97,
   "id": "3ada56bb-a642-435f-aca8-9558a1dfa9bd",
   "metadata": {
    "tags": []
   },
   "outputs": [
    {
     "data": {
      "text/plain": [
       "train                0.930402\n",
       "val                  0.679076\n",
       "test                 0.350863\n",
       "model_name    model_3_dropout\n",
       "Name: mse, dtype: object"
      ]
     },
     "execution_count": 97,
     "metadata": {},
     "output_type": "execute_result"
    }
   ],
   "source": [
    "pd.DataFrame(model_3_dropout_eval).loc['mse']"
   ]
  },
  {
   "cell_type": "code",
   "execution_count": 98,
   "id": "a2ec268e-8a1a-427d-be19-ee8bd6ac12cd",
   "metadata": {
    "tags": []
   },
   "outputs": [
    {
     "data": {
      "text/html": [
       "<div>\n",
       "<style scoped>\n",
       "    .dataframe tbody tr th:only-of-type {\n",
       "        vertical-align: middle;\n",
       "    }\n",
       "\n",
       "    .dataframe tbody tr th {\n",
       "        vertical-align: top;\n",
       "    }\n",
       "\n",
       "    .dataframe thead th {\n",
       "        text-align: right;\n",
       "    }\n",
       "</style>\n",
       "<table border=\"1\" class=\"dataframe\">\n",
       "  <thead>\n",
       "    <tr style=\"text-align: right;\">\n",
       "      <th></th>\n",
       "      <th>mse</th>\n",
       "      <th>mae</th>\n",
       "      <th>acc</th>\n",
       "    </tr>\n",
       "  </thead>\n",
       "  <tbody>\n",
       "    <tr>\n",
       "      <th>train</th>\n",
       "      <td>0.967334</td>\n",
       "      <td>0.111757</td>\n",
       "      <td>0.0</td>\n",
       "    </tr>\n",
       "    <tr>\n",
       "      <th>val</th>\n",
       "      <td>0.706559</td>\n",
       "      <td>0.119283</td>\n",
       "      <td>0.0</td>\n",
       "    </tr>\n",
       "    <tr>\n",
       "      <th>test</th>\n",
       "      <td>0.378461</td>\n",
       "      <td>0.092595</td>\n",
       "      <td>0.0</td>\n",
       "    </tr>\n",
       "    <tr>\n",
       "      <th>model_name</th>\n",
       "      <td>model_4</td>\n",
       "      <td>model_4</td>\n",
       "      <td>model_4</td>\n",
       "    </tr>\n",
       "  </tbody>\n",
       "</table>\n",
       "</div>"
      ],
      "text/plain": [
       "                 mse       mae      acc\n",
       "train       0.967334  0.111757      0.0\n",
       "val         0.706559  0.119283      0.0\n",
       "test        0.378461  0.092595      0.0\n",
       "model_name   model_4   model_4  model_4"
      ]
     },
     "execution_count": 98,
     "metadata": {},
     "output_type": "execute_result"
    }
   ],
   "source": [
    "pd.DataFrame(model_4_tanh_eval).T"
   ]
  },
  {
   "cell_type": "code",
   "execution_count": 89,
   "id": "e3b99c47-4610-4842-b42a-da932976ba56",
   "metadata": {
    "tags": []
   },
   "outputs": [
    {
     "data": {
      "text/html": [
       "<div>\n",
       "<style scoped>\n",
       "    .dataframe tbody tr th:only-of-type {\n",
       "        vertical-align: middle;\n",
       "    }\n",
       "\n",
       "    .dataframe tbody tr th {\n",
       "        vertical-align: top;\n",
       "    }\n",
       "\n",
       "    .dataframe thead th {\n",
       "        text-align: right;\n",
       "    }\n",
       "</style>\n",
       "<table border=\"1\" class=\"dataframe\">\n",
       "  <thead>\n",
       "    <tr style=\"text-align: right;\">\n",
       "      <th></th>\n",
       "      <th>train</th>\n",
       "      <th>val</th>\n",
       "      <th>test</th>\n",
       "      <th>model_name</th>\n",
       "    </tr>\n",
       "  </thead>\n",
       "  <tbody>\n",
       "    <tr>\n",
       "      <th>mse</th>\n",
       "      <td>0.870323</td>\n",
       "      <td>0.621942</td>\n",
       "      <td>0.320861</td>\n",
       "      <td>model_5</td>\n",
       "    </tr>\n",
       "    <tr>\n",
       "      <th>mae</th>\n",
       "      <td>0.103918</td>\n",
       "      <td>0.113237</td>\n",
       "      <td>0.091160</td>\n",
       "      <td>model_5</td>\n",
       "    </tr>\n",
       "    <tr>\n",
       "      <th>acc</th>\n",
       "      <td>0.000000</td>\n",
       "      <td>0.000000</td>\n",
       "      <td>0.000000</td>\n",
       "      <td>model_5</td>\n",
       "    </tr>\n",
       "  </tbody>\n",
       "</table>\n",
       "</div>"
      ],
      "text/plain": [
       "        train       val      test model_name\n",
       "mse  0.870323  0.621942  0.320861    model_5\n",
       "mae  0.103918  0.113237  0.091160    model_5\n",
       "acc  0.000000  0.000000  0.000000    model_5"
      ]
     },
     "execution_count": 89,
     "metadata": {},
     "output_type": "execute_result"
    }
   ],
   "source": [
    "pd.DataFrame(model_5_tanh_eval)"
   ]
  },
  {
   "cell_type": "markdown",
   "id": "8572194e-771f-474f-8e8e-09ca6989c6fd",
   "metadata": {},
   "source": [
    "Model 2 performed the best in terms of validation dataset loss, which calculated as the mean squared error.\n",
    "\n",
    "Model 2 - Validation Loss after 5 Epochs - 2145500.25\n",
    "Model 3 - Validation Loss after 3 Epochs - 2365950.75\n",
    "Model 4 - Validation Loss after 4 Epochs - 2463587.00\n",
    "Model 5 - Validation Loss after 5 Epochs - 2465304.75"
   ]
  },
  {
   "cell_type": "code",
   "execution_count": null,
   "id": "c92526b5-d916-4ed2-bbc4-da13d0aaa816",
   "metadata": {},
   "outputs": [],
   "source": []
  },
  {
   "cell_type": "markdown",
   "id": "edb09a9e-c2f4-49e0-a86a-405e2cd31273",
   "metadata": {
    "jp-MarkdownHeadingCollapsed": true,
    "tags": []
   },
   "source": [
    "# End of file"
   ]
  },
  {
   "cell_type": "markdown",
   "id": "b7f819b9-4d42-4fbf-bf2d-c0ffd4809515",
   "metadata": {},
   "source": [
    "Sources:\n",
    "* https://stackoverflow.com/questions/73878049/how-do-you-convert-the-pandas-dataframe-to-tensorflow-python-data-ops-dataset-op"
   ]
  },
  {
   "cell_type": "code",
   "execution_count": null,
   "id": "eae9e68a-d697-4c41-b9c1-3dfaa36d33ba",
   "metadata": {},
   "outputs": [],
   "source": []
  }
 ],
 "metadata": {
  "kernelspec": {
   "display_name": "Python 3 (ipykernel)",
   "language": "python",
   "name": "python3"
  },
  "language_info": {
   "codemirror_mode": {
    "name": "ipython",
    "version": 3
   },
   "file_extension": ".py",
   "mimetype": "text/x-python",
   "name": "python",
   "nbconvert_exporter": "python",
   "pygments_lexer": "ipython3",
   "version": "3.11.5"
  }
 },
 "nbformat": 4,
 "nbformat_minor": 5
}
