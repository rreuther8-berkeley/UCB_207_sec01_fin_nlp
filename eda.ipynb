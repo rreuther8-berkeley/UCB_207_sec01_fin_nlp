{
 "cells": [
  {
   "cell_type": "code",
   "execution_count": 166,
   "id": "575c8faa-02df-4668-a7a8-749f7a30e94b",
   "metadata": {
    "tags": []
   },
   "outputs": [],
   "source": [
    "import os\n",
    "import emoji\n",
    "from collections import Counter\n",
    "import pandas as pd\n",
    "import seaborn as sns\n",
    "import math\n",
    "import numpy as np\n",
    "import re\n",
    "import tensorflow as tf\n",
    "from tensorflow import keras\n",
    "from tensorflow.keras import initializers\n",
    "\n",
    "import matplotlib.pyplot as plt\n",
    "from wordcloud import WordCloud\n",
    "from sklearn.model_selection import train_test_split\n"
   ]
  },
  {
   "cell_type": "code",
   "execution_count": 167,
   "id": "14ff4595-f5fe-4fc4-94a8-9ab0ae5232eb",
   "metadata": {
    "tags": []
   },
   "outputs": [],
   "source": [
    "X_train = pd.read_csv('./data/final/X_train.csv')\n",
    "y_train = pd.read_csv('./data/final/y_train.csv')"
   ]
  },
  {
   "cell_type": "code",
   "execution_count": 168,
   "id": "e497f3e8-f869-41e5-a61c-7385858ac4c4",
   "metadata": {
    "tags": []
   },
   "outputs": [],
   "source": [
    "non_empty_indices = X_train['selftext'].notna()"
   ]
  },
  {
   "cell_type": "code",
   "execution_count": 169,
   "id": "743fe96d-d8b4-400c-aa84-e11565d95f3c",
   "metadata": {
    "tags": []
   },
   "outputs": [],
   "source": [
    "X_train = X_train[non_empty_indices].reset_index(drop=True)\n",
    "y_train = y_train[non_empty_indices].reset_index(drop=True)"
   ]
  },
  {
   "cell_type": "markdown",
   "id": "364df1c5-4521-4a1e-8e84-f5dfb648ca64",
   "metadata": {},
   "source": [
    "# Y_train"
   ]
  },
  {
   "cell_type": "code",
   "execution_count": 170,
   "id": "eb7e0492-e887-4e3c-8696-e3a7f156133d",
   "metadata": {
    "tags": []
   },
   "outputs": [
    {
     "data": {
      "text/html": [
       "<div>\n",
       "<style scoped>\n",
       "    .dataframe tbody tr th:only-of-type {\n",
       "        vertical-align: middle;\n",
       "    }\n",
       "\n",
       "    .dataframe tbody tr th {\n",
       "        vertical-align: top;\n",
       "    }\n",
       "\n",
       "    .dataframe thead th {\n",
       "        text-align: right;\n",
       "    }\n",
       "</style>\n",
       "<table border=\"1\" class=\"dataframe\">\n",
       "  <thead>\n",
       "    <tr style=\"text-align: right;\">\n",
       "      <th></th>\n",
       "      <th>score</th>\n",
       "    </tr>\n",
       "  </thead>\n",
       "  <tbody>\n",
       "    <tr>\n",
       "      <th>count</th>\n",
       "      <td>25541.000000</td>\n",
       "    </tr>\n",
       "    <tr>\n",
       "      <th>mean</th>\n",
       "      <td>87.675385</td>\n",
       "    </tr>\n",
       "    <tr>\n",
       "      <th>std</th>\n",
       "      <td>918.853518</td>\n",
       "    </tr>\n",
       "    <tr>\n",
       "      <th>min</th>\n",
       "      <td>0.000000</td>\n",
       "    </tr>\n",
       "    <tr>\n",
       "      <th>25%</th>\n",
       "      <td>1.000000</td>\n",
       "    </tr>\n",
       "    <tr>\n",
       "      <th>50%</th>\n",
       "      <td>5.000000</td>\n",
       "    </tr>\n",
       "    <tr>\n",
       "      <th>75%</th>\n",
       "      <td>19.000000</td>\n",
       "    </tr>\n",
       "    <tr>\n",
       "      <th>max</th>\n",
       "      <td>85113.000000</td>\n",
       "    </tr>\n",
       "  </tbody>\n",
       "</table>\n",
       "</div>"
      ],
      "text/plain": [
       "              score\n",
       "count  25541.000000\n",
       "mean      87.675385\n",
       "std      918.853518\n",
       "min        0.000000\n",
       "25%        1.000000\n",
       "50%        5.000000\n",
       "75%       19.000000\n",
       "max    85113.000000"
      ]
     },
     "execution_count": 170,
     "metadata": {},
     "output_type": "execute_result"
    }
   ],
   "source": [
    "y_train.describe()"
   ]
  },
  {
   "cell_type": "code",
   "execution_count": 171,
   "id": "0ee78edd-74ec-439b-a3d7-b1723ce0693c",
   "metadata": {
    "tags": []
   },
   "outputs": [
    {
     "data": {
      "text/plain": [
       "(25541, 1)"
      ]
     },
     "execution_count": 171,
     "metadata": {},
     "output_type": "execute_result"
    }
   ],
   "source": [
    "y_train.shape"
   ]
  },
  {
   "cell_type": "code",
   "execution_count": 172,
   "id": "72315cb2-f540-46f4-ac6b-ee04512182a7",
   "metadata": {
    "tags": []
   },
   "outputs": [
    {
     "data": {
      "text/plain": [
       "score    85113\n",
       "dtype: int64"
      ]
     },
     "execution_count": 172,
     "metadata": {},
     "output_type": "execute_result"
    }
   ],
   "source": [
    "y_train.max()"
   ]
  },
  {
   "cell_type": "code",
   "execution_count": 173,
   "id": "79c723e5-aeac-477d-b708-41a6ee5e7b26",
   "metadata": {
    "tags": []
   },
   "outputs": [
    {
     "data": {
      "image/png": "[encoded data removed]",
      "text/plain": [
       "<Figure size 640x480 with 1 Axes>"
      ]
     },
     "metadata": {},
     "output_type": "display_data"
    }
   ],
   "source": [
    "plt.hist(np.log(y_train[y_train>0]))\n",
    "plt.show()"
   ]
  },
  {
   "cell_type": "markdown",
   "id": "d0478000-d69c-4922-abb7-671306ab6736",
   "metadata": {},
   "source": [
    "# X_train"
   ]
  },
  {
   "cell_type": "code",
   "execution_count": 174,
   "id": "f52c9b50-a259-45cc-ac58-04c6e2eeaed8",
   "metadata": {
    "tags": []
   },
   "outputs": [
    {
     "data": {
      "text/html": [
       "<div>\n",
       "<style scoped>\n",
       "    .dataframe tbody tr th:only-of-type {\n",
       "        vertical-align: middle;\n",
       "    }\n",
       "\n",
       "    .dataframe tbody tr th {\n",
       "        vertical-align: top;\n",
       "    }\n",
       "\n",
       "    .dataframe thead th {\n",
       "        text-align: right;\n",
       "    }\n",
       "</style>\n",
       "<table border=\"1\" class=\"dataframe\">\n",
       "  <thead>\n",
       "    <tr style=\"text-align: right;\">\n",
       "      <th></th>\n",
       "      <th>pinned</th>\n",
       "      <th>archived</th>\n",
       "      <th>locked</th>\n",
       "      <th>removed</th>\n",
       "      <th>deleted</th>\n",
       "      <th>is_self</th>\n",
       "      <th>is_video</th>\n",
       "      <th>is_original_content</th>\n",
       "      <th>upvote_ratio</th>\n",
       "      <th>gilded</th>\n",
       "      <th>total_awards_received</th>\n",
       "      <th>num_comments</th>\n",
       "      <th>num_crossposts</th>\n",
       "      <th>upvote_ratio_std</th>\n",
       "      <th>score_std</th>\n",
       "      <th>gilded_std</th>\n",
       "      <th>total_awards_received_std</th>\n",
       "      <th>num_comments_std</th>\n",
       "      <th>num_crossposts_std</th>\n",
       "    </tr>\n",
       "  </thead>\n",
       "  <tbody>\n",
       "    <tr>\n",
       "      <th>count</th>\n",
       "      <td>25541.0</td>\n",
       "      <td>25541.0</td>\n",
       "      <td>25541.000000</td>\n",
       "      <td>25541.000000</td>\n",
       "      <td>25541.0</td>\n",
       "      <td>25541.0</td>\n",
       "      <td>25541.0</td>\n",
       "      <td>25541.000000</td>\n",
       "      <td>25541.000000</td>\n",
       "      <td>25541.000000</td>\n",
       "      <td>25541.000000</td>\n",
       "      <td>25541.000000</td>\n",
       "      <td>25541.000000</td>\n",
       "      <td>25541.000000</td>\n",
       "      <td>25541.000000</td>\n",
       "      <td>25541.000000</td>\n",
       "      <td>25541.000000</td>\n",
       "      <td>25541.000000</td>\n",
       "      <td>25541.000000</td>\n",
       "    </tr>\n",
       "    <tr>\n",
       "      <th>mean</th>\n",
       "      <td>0.0</td>\n",
       "      <td>0.0</td>\n",
       "      <td>0.001214</td>\n",
       "      <td>0.003015</td>\n",
       "      <td>0.0</td>\n",
       "      <td>1.0</td>\n",
       "      <td>0.0</td>\n",
       "      <td>0.002623</td>\n",
       "      <td>0.775425</td>\n",
       "      <td>0.024588</td>\n",
       "      <td>0.764183</td>\n",
       "      <td>70.806820</td>\n",
       "      <td>0.069183</td>\n",
       "      <td>-0.000575</td>\n",
       "      <td>-0.005629</td>\n",
       "      <td>0.000925</td>\n",
       "      <td>-0.000971</td>\n",
       "      <td>0.001913</td>\n",
       "      <td>-0.000537</td>\n",
       "    </tr>\n",
       "    <tr>\n",
       "      <th>std</th>\n",
       "      <td>0.0</td>\n",
       "      <td>0.0</td>\n",
       "      <td>0.034818</td>\n",
       "      <td>0.054825</td>\n",
       "      <td>0.0</td>\n",
       "      <td>0.0</td>\n",
       "      <td>0.0</td>\n",
       "      <td>0.051151</td>\n",
       "      <td>0.198320</td>\n",
       "      <td>0.711758</td>\n",
       "      <td>8.531210</td>\n",
       "      <td>1027.601767</td>\n",
       "      <td>0.473112</td>\n",
       "      <td>1.000854</td>\n",
       "      <td>0.763396</td>\n",
       "      <td>1.161353</td>\n",
       "      <td>0.945521</td>\n",
       "      <td>0.966448</td>\n",
       "      <td>0.901782</td>\n",
       "    </tr>\n",
       "    <tr>\n",
       "      <th>min</th>\n",
       "      <td>0.0</td>\n",
       "      <td>0.0</td>\n",
       "      <td>0.000000</td>\n",
       "      <td>0.000000</td>\n",
       "      <td>0.0</td>\n",
       "      <td>1.0</td>\n",
       "      <td>0.0</td>\n",
       "      <td>0.000000</td>\n",
       "      <td>0.030000</td>\n",
       "      <td>0.000000</td>\n",
       "      <td>0.000000</td>\n",
       "      <td>0.000000</td>\n",
       "      <td>0.000000</td>\n",
       "      <td>-3.762482</td>\n",
       "      <td>-0.078471</td>\n",
       "      <td>-0.039195</td>\n",
       "      <td>-0.085666</td>\n",
       "      <td>-0.064680</td>\n",
       "      <td>-0.132404</td>\n",
       "    </tr>\n",
       "    <tr>\n",
       "      <th>25%</th>\n",
       "      <td>0.0</td>\n",
       "      <td>0.0</td>\n",
       "      <td>0.000000</td>\n",
       "      <td>0.000000</td>\n",
       "      <td>0.0</td>\n",
       "      <td>1.0</td>\n",
       "      <td>0.0</td>\n",
       "      <td>0.000000</td>\n",
       "      <td>0.670000</td>\n",
       "      <td>0.000000</td>\n",
       "      <td>0.000000</td>\n",
       "      <td>3.000000</td>\n",
       "      <td>0.000000</td>\n",
       "      <td>-0.532621</td>\n",
       "      <td>-0.077641</td>\n",
       "      <td>-0.039195</td>\n",
       "      <td>-0.085666</td>\n",
       "      <td>-0.061859</td>\n",
       "      <td>-0.132404</td>\n",
       "    </tr>\n",
       "    <tr>\n",
       "      <th>50%</th>\n",
       "      <td>0.0</td>\n",
       "      <td>0.0</td>\n",
       "      <td>0.000000</td>\n",
       "      <td>0.000000</td>\n",
       "      <td>0.0</td>\n",
       "      <td>1.0</td>\n",
       "      <td>0.0</td>\n",
       "      <td>0.000000</td>\n",
       "      <td>0.810000</td>\n",
       "      <td>0.000000</td>\n",
       "      <td>0.000000</td>\n",
       "      <td>8.000000</td>\n",
       "      <td>0.000000</td>\n",
       "      <td>0.173911</td>\n",
       "      <td>-0.074317</td>\n",
       "      <td>-0.039195</td>\n",
       "      <td>-0.085666</td>\n",
       "      <td>-0.057156</td>\n",
       "      <td>-0.132404</td>\n",
       "    </tr>\n",
       "    <tr>\n",
       "      <th>75%</th>\n",
       "      <td>0.0</td>\n",
       "      <td>0.0</td>\n",
       "      <td>0.000000</td>\n",
       "      <td>0.000000</td>\n",
       "      <td>0.0</td>\n",
       "      <td>1.0</td>\n",
       "      <td>0.0</td>\n",
       "      <td>0.000000</td>\n",
       "      <td>0.940000</td>\n",
       "      <td>0.000000</td>\n",
       "      <td>0.000000</td>\n",
       "      <td>21.000000</td>\n",
       "      <td>0.000000</td>\n",
       "      <td>0.829977</td>\n",
       "      <td>-0.062686</td>\n",
       "      <td>-0.039195</td>\n",
       "      <td>-0.085666</td>\n",
       "      <td>-0.044930</td>\n",
       "      <td>-0.132404</td>\n",
       "    </tr>\n",
       "    <tr>\n",
       "      <th>max</th>\n",
       "      <td>0.0</td>\n",
       "      <td>0.0</td>\n",
       "      <td>1.000000</td>\n",
       "      <td>1.000000</td>\n",
       "      <td>0.0</td>\n",
       "      <td>1.0</td>\n",
       "      <td>0.0</td>\n",
       "      <td>1.000000</td>\n",
       "      <td>1.000000</td>\n",
       "      <td>108.000000</td>\n",
       "      <td>472.000000</td>\n",
       "      <td>72564.000000</td>\n",
       "      <td>30.000000</td>\n",
       "      <td>1.132776</td>\n",
       "      <td>70.634554</td>\n",
       "      <td>176.180875</td>\n",
       "      <td>52.226464</td>\n",
       "      <td>68.180960</td>\n",
       "      <td>57.049460</td>\n",
       "    </tr>\n",
       "  </tbody>\n",
       "</table>\n",
       "</div>"
      ],
      "text/plain": [
       "        pinned  archived        locked       removed  deleted  is_self  \\\n",
       "count  25541.0   25541.0  25541.000000  25541.000000  25541.0  25541.0   \n",
       "mean       0.0       0.0      0.001214      0.003015      0.0      1.0   \n",
       "std        0.0       0.0      0.034818      0.054825      0.0      0.0   \n",
       "min        0.0       0.0      0.000000      0.000000      0.0      1.0   \n",
       "25%        0.0       0.0      0.000000      0.000000      0.0      1.0   \n",
       "50%        0.0       0.0      0.000000      0.000000      0.0      1.0   \n",
       "75%        0.0       0.0      0.000000      0.000000      0.0      1.0   \n",
       "max        0.0       0.0      1.000000      1.000000      0.0      1.0   \n",
       "\n",
       "       is_video  is_original_content  upvote_ratio        gilded  \\\n",
       "count   25541.0         25541.000000  25541.000000  25541.000000   \n",
       "mean        0.0             0.002623      0.775425      0.024588   \n",
       "std         0.0             0.051151      0.198320      0.711758   \n",
       "min         0.0             0.000000      0.030000      0.000000   \n",
       "25%         0.0             0.000000      0.670000      0.000000   \n",
       "50%         0.0             0.000000      0.810000      0.000000   \n",
       "75%         0.0             0.000000      0.940000      0.000000   \n",
       "max         0.0             1.000000      1.000000    108.000000   \n",
       "\n",
       "       total_awards_received  num_comments  num_crossposts  upvote_ratio_std  \\\n",
       "count           25541.000000  25541.000000    25541.000000      25541.000000   \n",
       "mean                0.764183     70.806820        0.069183         -0.000575   \n",
       "std                 8.531210   1027.601767        0.473112          1.000854   \n",
       "min                 0.000000      0.000000        0.000000         -3.762482   \n",
       "25%                 0.000000      3.000000        0.000000         -0.532621   \n",
       "50%                 0.000000      8.000000        0.000000          0.173911   \n",
       "75%                 0.000000     21.000000        0.000000          0.829977   \n",
       "max               472.000000  72564.000000       30.000000          1.132776   \n",
       "\n",
       "          score_std    gilded_std  total_awards_received_std  \\\n",
       "count  25541.000000  25541.000000               25541.000000   \n",
       "mean      -0.005629      0.000925                  -0.000971   \n",
       "std        0.763396      1.161353                   0.945521   \n",
       "min       -0.078471     -0.039195                  -0.085666   \n",
       "25%       -0.077641     -0.039195                  -0.085666   \n",
       "50%       -0.074317     -0.039195                  -0.085666   \n",
       "75%       -0.062686     -0.039195                  -0.085666   \n",
       "max       70.634554    176.180875                  52.226464   \n",
       "\n",
       "       num_comments_std  num_crossposts_std  \n",
       "count      25541.000000        25541.000000  \n",
       "mean           0.001913           -0.000537  \n",
       "std            0.966448            0.901782  \n",
       "min           -0.064680           -0.132404  \n",
       "25%           -0.061859           -0.132404  \n",
       "50%           -0.057156           -0.132404  \n",
       "75%           -0.044930           -0.132404  \n",
       "max           68.180960           57.049460  "
      ]
     },
     "execution_count": 174,
     "metadata": {},
     "output_type": "execute_result"
    }
   ],
   "source": [
    "X_train.describe()"
   ]
  },
  {
   "cell_type": "code",
   "execution_count": 175,
   "id": "672cb80e-fe03-4ed3-b2a7-23c07f596434",
   "metadata": {},
   "outputs": [
    {
     "data": {
      "text/html": [
       "<div>\n",
       "<style scoped>\n",
       "    .dataframe tbody tr th:only-of-type {\n",
       "        vertical-align: middle;\n",
       "    }\n",
       "\n",
       "    .dataframe tbody tr th {\n",
       "        vertical-align: top;\n",
       "    }\n",
       "\n",
       "    .dataframe thead th {\n",
       "        text-align: right;\n",
       "    }\n",
       "</style>\n",
       "<table border=\"1\" class=\"dataframe\">\n",
       "  <thead>\n",
       "    <tr style=\"text-align: right;\">\n",
       "      <th></th>\n",
       "      <th>id</th>\n",
       "      <th>author</th>\n",
       "      <th>created</th>\n",
       "      <th>retrieved</th>\n",
       "      <th>edited</th>\n",
       "      <th>pinned</th>\n",
       "      <th>archived</th>\n",
       "      <th>locked</th>\n",
       "      <th>removed</th>\n",
       "      <th>deleted</th>\n",
       "      <th>...</th>\n",
       "      <th>num_crossposts</th>\n",
       "      <th>selftext</th>\n",
       "      <th>thumbnail</th>\n",
       "      <th>shortlink</th>\n",
       "      <th>upvote_ratio_std</th>\n",
       "      <th>score_std</th>\n",
       "      <th>gilded_std</th>\n",
       "      <th>total_awards_received_std</th>\n",
       "      <th>num_comments_std</th>\n",
       "      <th>num_crossposts_std</th>\n",
       "    </tr>\n",
       "  </thead>\n",
       "  <tbody>\n",
       "    <tr>\n",
       "      <th>0</th>\n",
       "      <td>opx7cl</td>\n",
       "      <td>elzolko</td>\n",
       "      <td>2021-07-23 07:16:18</td>\n",
       "      <td>2021-07-23 13:32:11</td>\n",
       "      <td>1970-01-01 00:00:00</td>\n",
       "      <td>0</td>\n",
       "      <td>0</td>\n",
       "      <td>0</td>\n",
       "      <td>0</td>\n",
       "      <td>0</td>\n",
       "      <td>...</td>\n",
       "      <td>0</td>\n",
       "      <td>i have seen lots of posts about the latest int...</td>\n",
       "      <td>self</td>\n",
       "      <td>https://redd.it/opx7cl</td>\n",
       "      <td>-0.381221</td>\n",
       "      <td>-0.075148</td>\n",
       "      <td>-0.039195</td>\n",
       "      <td>-0.085666</td>\n",
       "      <td>-0.062799</td>\n",
       "      <td>-0.132404</td>\n",
       "    </tr>\n",
       "    <tr>\n",
       "      <th>1</th>\n",
       "      <td>lg8kap</td>\n",
       "      <td>GelenkigeSemmel</td>\n",
       "      <td>2021-02-09 17:34:31</td>\n",
       "      <td>2021-02-10 21:34:56</td>\n",
       "      <td>1970-01-01 00:00:00</td>\n",
       "      <td>0</td>\n",
       "      <td>0</td>\n",
       "      <td>0</td>\n",
       "      <td>0</td>\n",
       "      <td>0</td>\n",
       "      <td>...</td>\n",
       "      <td>0</td>\n",
       "      <td>hey guys i though i d give a short overview ov...</td>\n",
       "      <td>self</td>\n",
       "      <td>https://redd.it/lg8kap</td>\n",
       "      <td>1.132776</td>\n",
       "      <td>-0.076810</td>\n",
       "      <td>-0.039195</td>\n",
       "      <td>-0.085666</td>\n",
       "      <td>-0.060918</td>\n",
       "      <td>-0.132404</td>\n",
       "    </tr>\n",
       "    <tr>\n",
       "      <th>2</th>\n",
       "      <td>kob22b</td>\n",
       "      <td>proonjooce</td>\n",
       "      <td>2021-01-01 13:10:14</td>\n",
       "      <td>2021-02-03 21:10:40</td>\n",
       "      <td>1970-01-01 00:00:00</td>\n",
       "      <td>0</td>\n",
       "      <td>0</td>\n",
       "      <td>0</td>\n",
       "      <td>0</td>\n",
       "      <td>0</td>\n",
       "      <td>...</td>\n",
       "      <td>0</td>\n",
       "      <td>so gbpusd has broken through a strong resistan...</td>\n",
       "      <td>self</td>\n",
       "      <td>https://redd.it/kob22b</td>\n",
       "      <td>1.132776</td>\n",
       "      <td>-0.075979</td>\n",
       "      <td>-0.039195</td>\n",
       "      <td>-0.085666</td>\n",
       "      <td>-0.061859</td>\n",
       "      <td>-0.132404</td>\n",
       "    </tr>\n",
       "  </tbody>\n",
       "</table>\n",
       "<p>3 rows × 29 columns</p>\n",
       "</div>"
      ],
      "text/plain": [
       "       id           author              created            retrieved  \\\n",
       "0  opx7cl          elzolko  2021-07-23 07:16:18  2021-07-23 13:32:11   \n",
       "1  lg8kap  GelenkigeSemmel  2021-02-09 17:34:31  2021-02-10 21:34:56   \n",
       "2  kob22b       proonjooce  2021-01-01 13:10:14  2021-02-03 21:10:40   \n",
       "\n",
       "                edited  pinned  archived  locked  removed  deleted  ...  \\\n",
       "0  1970-01-01 00:00:00       0         0       0        0        0  ...   \n",
       "1  1970-01-01 00:00:00       0         0       0        0        0  ...   \n",
       "2  1970-01-01 00:00:00       0         0       0        0        0  ...   \n",
       "\n",
       "   num_crossposts                                           selftext  \\\n",
       "0               0  i have seen lots of posts about the latest int...   \n",
       "1               0  hey guys i though i d give a short overview ov...   \n",
       "2               0  so gbpusd has broken through a strong resistan...   \n",
       "\n",
       "   thumbnail               shortlink upvote_ratio_std  score_std  gilded_std  \\\n",
       "0       self  https://redd.it/opx7cl        -0.381221  -0.075148   -0.039195   \n",
       "1       self  https://redd.it/lg8kap         1.132776  -0.076810   -0.039195   \n",
       "2       self  https://redd.it/kob22b         1.132776  -0.075979   -0.039195   \n",
       "\n",
       "   total_awards_received_std  num_comments_std  num_crossposts_std  \n",
       "0                  -0.085666         -0.062799           -0.132404  \n",
       "1                  -0.085666         -0.060918           -0.132404  \n",
       "2                  -0.085666         -0.061859           -0.132404  \n",
       "\n",
       "[3 rows x 29 columns]"
      ]
     },
     "execution_count": 175,
     "metadata": {},
     "output_type": "execute_result"
    }
   ],
   "source": [
    "X_train.head(3)"
   ]
  },
  {
   "cell_type": "code",
   "execution_count": 176,
   "id": "a89cba00-288b-4ac5-b2e9-adfe34ee98a5",
   "metadata": {},
   "outputs": [
    {
     "name": "stderr",
     "output_type": "stream",
     "text": [
      "/tmp/ipykernel_154375/164624302.py:1: UserWarning: Boolean Series key will be reindexed to match DataFrame index.\n",
      "  plt.hist(X_train[non_outlier_indices]['total_awards_received'])\n"
     ]
    },
    {
     "data": {
      "image/png": "[encoded data removed]",
      "text/plain": [
       "<Figure size 640x480 with 1 Axes>"
      ]
     },
     "metadata": {},
     "output_type": "display_data"
    }
   ],
   "source": [
    "plt.hist(X_train[non_outlier_indices]['total_awards_received'])\n",
    "plt.show()"
   ]
  },
  {
   "cell_type": "code",
   "execution_count": null,
   "id": "92b5df19-09b5-43a4-9a5a-45b9efe0ca05",
   "metadata": {},
   "outputs": [],
   "source": []
  },
  {
   "cell_type": "code",
   "execution_count": 177,
   "id": "8cdb4ddc-582e-40d9-b379-bf2bc2d00619",
   "metadata": {},
   "outputs": [],
   "source": [
    "## Review selftext"
   ]
  },
  {
   "cell_type": "code",
   "execution_count": 178,
   "id": "040d1860-b4d2-4aba-b3c0-27c5fd97c490",
   "metadata": {},
   "outputs": [
    {
     "data": {
      "text/plain": [
       "0    i have seen lots of posts about the latest int...\n",
       "1    hey guys i though i d give a short overview ov...\n",
       "2    so gbpusd has broken through a strong resistan...\n",
       "3    i m no expert just starting out and started to...\n",
       "4    looking into this company as a possible invest...\n",
       "Name: selftext, dtype: object"
      ]
     },
     "execution_count": 178,
     "metadata": {},
     "output_type": "execute_result"
    }
   ],
   "source": [
    "X_train['selftext'].iloc[:5]"
   ]
  },
  {
   "cell_type": "markdown",
   "id": "fdf46056-57cc-4cae-b2e4-b8d01fc72f39",
   "metadata": {},
   "source": [
    "## Length of selftext"
   ]
  },
  {
   "cell_type": "code",
   "execution_count": 187,
   "id": "b995b512-191a-4085-a303-85d38e153bb7",
   "metadata": {
    "tags": []
   },
   "outputs": [],
   "source": [
    "def get_length(df, column):\n",
    "    return pd.Series([len(str(i)) if pd.notnull(i) else 0 for i in X_train['selftext']])"
   ]
  },
  {
   "cell_type": "code",
   "execution_count": 194,
   "id": "6a5b3095-8714-403b-ad89-f2014d294cb4",
   "metadata": {
    "tags": []
   },
   "outputs": [],
   "source": [
    "selftext_lengths = get_length(X_train, 'selftext')\n",
    "selftext_lengths.name = 'selftext_length'"
   ]
  },
  {
   "cell_type": "code",
   "execution_count": 195,
   "id": "7f8bebb4-962c-4d9e-87dd-54dc7b517ff0",
   "metadata": {
    "tags": []
   },
   "outputs": [
    {
     "data": {
      "image/png": "[encoded data removed]",
      "text/plain": [
       "<Figure size 640x480 with 1 Axes>"
      ]
     },
     "metadata": {},
     "output_type": "display_data"
    }
   ],
   "source": [
    "plt.hist(selftext_lengths)\n",
    "plt.show()"
   ]
  },
  {
   "cell_type": "markdown",
   "id": "60781524-a825-4d6d-a55a-8b7f20ddc924",
   "metadata": {},
   "source": [
    "# Correlation of Selftext and score"
   ]
  },
  {
   "cell_type": "code",
   "execution_count": 196,
   "id": "a02ff426-77f2-40c7-a180-ae756723f157",
   "metadata": {
    "tags": []
   },
   "outputs": [
    {
     "data": {
      "text/html": [
       "<div>\n",
       "<style scoped>\n",
       "    .dataframe tbody tr th:only-of-type {\n",
       "        vertical-align: middle;\n",
       "    }\n",
       "\n",
       "    .dataframe tbody tr th {\n",
       "        vertical-align: top;\n",
       "    }\n",
       "\n",
       "    .dataframe thead th {\n",
       "        text-align: right;\n",
       "    }\n",
       "</style>\n",
       "<table border=\"1\" class=\"dataframe\">\n",
       "  <thead>\n",
       "    <tr style=\"text-align: right;\">\n",
       "      <th></th>\n",
       "      <th>selftext_length</th>\n",
       "      <th>score</th>\n",
       "    </tr>\n",
       "  </thead>\n",
       "  <tbody>\n",
       "    <tr>\n",
       "      <th>selftext_length</th>\n",
       "      <td>1.000000</td>\n",
       "      <td>0.033162</td>\n",
       "    </tr>\n",
       "    <tr>\n",
       "      <th>score</th>\n",
       "      <td>0.033162</td>\n",
       "      <td>1.000000</td>\n",
       "    </tr>\n",
       "  </tbody>\n",
       "</table>\n",
       "</div>"
      ],
      "text/plain": [
       "                 selftext_length     score\n",
       "selftext_length         1.000000  0.033162\n",
       "score                   0.033162  1.000000"
      ]
     },
     "execution_count": 196,
     "metadata": {},
     "output_type": "execute_result"
    }
   ],
   "source": [
    "corr_df = pd.concat(\n",
    "    (selftext_lengths, y_train),\n",
    "    axis=1)\n",
    "corr_df.corr()"
   ]
  },
  {
   "cell_type": "code",
   "execution_count": 210,
   "id": "0df2a338-a533-4933-b1a1-e49db9dc4760",
   "metadata": {
    "tags": []
   },
   "outputs": [
    {
     "data": {
      "text/html": [
       "<div>\n",
       "<style scoped>\n",
       "    .dataframe tbody tr th:only-of-type {\n",
       "        vertical-align: middle;\n",
       "    }\n",
       "\n",
       "    .dataframe tbody tr th {\n",
       "        vertical-align: top;\n",
       "    }\n",
       "\n",
       "    .dataframe thead th {\n",
       "        text-align: right;\n",
       "    }\n",
       "</style>\n",
       "<table border=\"1\" class=\"dataframe\">\n",
       "  <thead>\n",
       "    <tr style=\"text-align: right;\">\n",
       "      <th></th>\n",
       "      <th>pinned</th>\n",
       "      <th>archived</th>\n",
       "      <th>locked</th>\n",
       "      <th>removed</th>\n",
       "      <th>deleted</th>\n",
       "      <th>upvote_ratio</th>\n",
       "      <th>total_awards_received</th>\n",
       "      <th>num_comments</th>\n",
       "      <th>num_crossposts</th>\n",
       "      <th>score</th>\n",
       "    </tr>\n",
       "  </thead>\n",
       "  <tbody>\n",
       "    <tr>\n",
       "      <th>pinned</th>\n",
       "      <td>NaN</td>\n",
       "      <td>NaN</td>\n",
       "      <td>NaN</td>\n",
       "      <td>NaN</td>\n",
       "      <td>NaN</td>\n",
       "      <td>NaN</td>\n",
       "      <td>NaN</td>\n",
       "      <td>NaN</td>\n",
       "      <td>NaN</td>\n",
       "      <td>NaN</td>\n",
       "    </tr>\n",
       "    <tr>\n",
       "      <th>archived</th>\n",
       "      <td>NaN</td>\n",
       "      <td>NaN</td>\n",
       "      <td>NaN</td>\n",
       "      <td>NaN</td>\n",
       "      <td>NaN</td>\n",
       "      <td>NaN</td>\n",
       "      <td>NaN</td>\n",
       "      <td>NaN</td>\n",
       "      <td>NaN</td>\n",
       "      <td>NaN</td>\n",
       "    </tr>\n",
       "    <tr>\n",
       "      <th>locked</th>\n",
       "      <td>NaN</td>\n",
       "      <td>NaN</td>\n",
       "      <td>1.000000</td>\n",
       "      <td>0.059617</td>\n",
       "      <td>NaN</td>\n",
       "      <td>0.001088</td>\n",
       "      <td>0.004127</td>\n",
       "      <td>0.000587</td>\n",
       "      <td>0.023425</td>\n",
       "      <td>0.018174</td>\n",
       "    </tr>\n",
       "    <tr>\n",
       "      <th>removed</th>\n",
       "      <td>NaN</td>\n",
       "      <td>NaN</td>\n",
       "      <td>0.059617</td>\n",
       "      <td>1.000000</td>\n",
       "      <td>NaN</td>\n",
       "      <td>0.028961</td>\n",
       "      <td>-0.004842</td>\n",
       "      <td>-0.003634</td>\n",
       "      <td>-0.008041</td>\n",
       "      <td>-0.004922</td>\n",
       "    </tr>\n",
       "    <tr>\n",
       "      <th>deleted</th>\n",
       "      <td>NaN</td>\n",
       "      <td>NaN</td>\n",
       "      <td>NaN</td>\n",
       "      <td>NaN</td>\n",
       "      <td>NaN</td>\n",
       "      <td>NaN</td>\n",
       "      <td>NaN</td>\n",
       "      <td>NaN</td>\n",
       "      <td>NaN</td>\n",
       "      <td>NaN</td>\n",
       "    </tr>\n",
       "    <tr>\n",
       "      <th>upvote_ratio</th>\n",
       "      <td>NaN</td>\n",
       "      <td>NaN</td>\n",
       "      <td>0.001088</td>\n",
       "      <td>0.028961</td>\n",
       "      <td>NaN</td>\n",
       "      <td>1.000000</td>\n",
       "      <td>0.053679</td>\n",
       "      <td>0.035611</td>\n",
       "      <td>0.058599</td>\n",
       "      <td>0.070797</td>\n",
       "    </tr>\n",
       "    <tr>\n",
       "      <th>total_awards_received</th>\n",
       "      <td>NaN</td>\n",
       "      <td>NaN</td>\n",
       "      <td>0.004127</td>\n",
       "      <td>-0.004842</td>\n",
       "      <td>NaN</td>\n",
       "      <td>0.053679</td>\n",
       "      <td>1.000000</td>\n",
       "      <td>0.455145</td>\n",
       "      <td>0.370400</td>\n",
       "      <td>0.699954</td>\n",
       "    </tr>\n",
       "    <tr>\n",
       "      <th>num_comments</th>\n",
       "      <td>NaN</td>\n",
       "      <td>NaN</td>\n",
       "      <td>0.000587</td>\n",
       "      <td>-0.003634</td>\n",
       "      <td>NaN</td>\n",
       "      <td>0.035611</td>\n",
       "      <td>0.455145</td>\n",
       "      <td>1.000000</td>\n",
       "      <td>0.111957</td>\n",
       "      <td>0.266488</td>\n",
       "    </tr>\n",
       "    <tr>\n",
       "      <th>num_crossposts</th>\n",
       "      <td>NaN</td>\n",
       "      <td>NaN</td>\n",
       "      <td>0.023425</td>\n",
       "      <td>-0.008041</td>\n",
       "      <td>NaN</td>\n",
       "      <td>0.058599</td>\n",
       "      <td>0.370400</td>\n",
       "      <td>0.111957</td>\n",
       "      <td>1.000000</td>\n",
       "      <td>0.365605</td>\n",
       "    </tr>\n",
       "    <tr>\n",
       "      <th>score</th>\n",
       "      <td>NaN</td>\n",
       "      <td>NaN</td>\n",
       "      <td>0.018174</td>\n",
       "      <td>-0.004922</td>\n",
       "      <td>NaN</td>\n",
       "      <td>0.070797</td>\n",
       "      <td>0.699954</td>\n",
       "      <td>0.266488</td>\n",
       "      <td>0.365605</td>\n",
       "      <td>1.000000</td>\n",
       "    </tr>\n",
       "  </tbody>\n",
       "</table>\n",
       "</div>"
      ],
      "text/plain": [
       "                       pinned  archived    locked   removed  deleted  \\\n",
       "pinned                    NaN       NaN       NaN       NaN      NaN   \n",
       "archived                  NaN       NaN       NaN       NaN      NaN   \n",
       "locked                    NaN       NaN  1.000000  0.059617      NaN   \n",
       "removed                   NaN       NaN  0.059617  1.000000      NaN   \n",
       "deleted                   NaN       NaN       NaN       NaN      NaN   \n",
       "upvote_ratio              NaN       NaN  0.001088  0.028961      NaN   \n",
       "total_awards_received     NaN       NaN  0.004127 -0.004842      NaN   \n",
       "num_comments              NaN       NaN  0.000587 -0.003634      NaN   \n",
       "num_crossposts            NaN       NaN  0.023425 -0.008041      NaN   \n",
       "score                     NaN       NaN  0.018174 -0.004922      NaN   \n",
       "\n",
       "                       upvote_ratio  total_awards_received  num_comments  \\\n",
       "pinned                          NaN                    NaN           NaN   \n",
       "archived                        NaN                    NaN           NaN   \n",
       "locked                     0.001088               0.004127      0.000587   \n",
       "removed                    0.028961              -0.004842     -0.003634   \n",
       "deleted                         NaN                    NaN           NaN   \n",
       "upvote_ratio               1.000000               0.053679      0.035611   \n",
       "total_awards_received      0.053679               1.000000      0.455145   \n",
       "num_comments               0.035611               0.455145      1.000000   \n",
       "num_crossposts             0.058599               0.370400      0.111957   \n",
       "score                      0.070797               0.699954      0.266488   \n",
       "\n",
       "                       num_crossposts     score  \n",
       "pinned                            NaN       NaN  \n",
       "archived                          NaN       NaN  \n",
       "locked                       0.023425  0.018174  \n",
       "removed                     -0.008041 -0.004922  \n",
       "deleted                           NaN       NaN  \n",
       "upvote_ratio                 0.058599  0.070797  \n",
       "total_awards_received        0.370400  0.699954  \n",
       "num_comments                 0.111957  0.266488  \n",
       "num_crossposts               1.000000  0.365605  \n",
       "score                        0.365605  1.000000  "
      ]
     },
     "execution_count": 210,
     "metadata": {},
     "output_type": "execute_result"
    }
   ],
   "source": [
    "X_train_numerics = X_train[['pinned','archived','locked','removed','deleted','upvote_ratio','total_awards_received','num_comments','num_crossposts']]\n",
    "\n",
    "pd.concat(\n",
    "    (X_train_numerics, y_train),\n",
    "    axis=1\n",
    ").corr()"
   ]
  },
  {
   "cell_type": "code",
   "execution_count": null,
   "id": "b1886c72-acb2-4c8a-90d6-dab9394f3d0d",
   "metadata": {},
   "outputs": [],
   "source": [
    "\n"
   ]
  }
 ],
 "metadata": {
  "kernelspec": {
   "display_name": "Python 3 (ipykernel)",
   "language": "python",
   "name": "python3"
  },
  "language_info": {
   "codemirror_mode": {
    "name": "ipython",
    "version": 3
   },
   "file_extension": ".py",
   "mimetype": "text/x-python",
   "name": "python",
   "nbconvert_exporter": "python",
   "pygments_lexer": "ipython3",
   "version": "3.11.4"
  }
 },
 "nbformat": 4,
 "nbformat_minor": 5
}
