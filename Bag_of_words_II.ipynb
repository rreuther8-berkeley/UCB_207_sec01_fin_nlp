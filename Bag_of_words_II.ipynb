{
  "cells": [
    {
      "cell_type": "code",
      "execution_count": 1,
      "id": "71cf287a-2d8c-4984-8954-77755f2d0bb7",
      "metadata": {
        "id": "71cf287a-2d8c-4984-8954-77755f2d0bb7"
      },
      "outputs": [],
      "source": [
        "import pandas as pd\n",
        "import os\n",
        "import numpy as np\n",
        "import datetime as dt\n",
        "import string\n",
        "import csv"
      ]
    },
    {
      "cell_type": "code",
      "execution_count": 3,
      "id": "2897681e-10b8-4b44-a00c-ad26f0242cc5",
      "metadata": {
        "id": "2897681e-10b8-4b44-a00c-ad26f0242cc5"
      },
      "outputs": [],
      "source": [
        "from tensorflow.keras import layers\n",
        "from tensorflow import keras"
      ]
    },
    {
      "cell_type": "code",
      "execution_count": 4,
      "id": "0db896e2-6702-4623-97a5-83e9f8a4423c",
      "metadata": {
        "id": "0db896e2-6702-4623-97a5-83e9f8a4423c"
      },
      "outputs": [],
      "source": [
        "# loading data"
      ]
    },
    {
      "cell_type": "code",
      "source": [
        "\n",
        "X_train= pd.read_csv('X_train.csv')\n",
        "y_train= pd.read_csv('y_train.csv')\n",
        "\n",
        "X_val= pd.read_csv('X_val.csv')\n",
        "#y_val= pd.read_csv('y_val.csv')\n",
        "\n",
        "X_test= pd.read_csv('X_test.csv')\n",
        "y_test= pd.read_csv('y_test.csv')"
      ],
      "metadata": {
        "id": "JBme2ZsTWLjr"
      },
      "id": "JBme2ZsTWLjr",
      "execution_count": 46,
      "outputs": []
    },
    {
      "cell_type": "code",
      "execution_count": 50,
      "id": "99f8b911-1bfb-4b80-a90b-6cc82c168af9",
      "metadata": {
        "id": "99f8b911-1bfb-4b80-a90b-6cc82c168af9"
      },
      "outputs": [],
      "source": [
        "X_train['all_words']=X_train['title']+' '+ X_train['selftext']\n",
        "X_test['all_words']=X_test['title']+' '+ X_test['selftext']\n",
        "X_val['all_words']=X_val['title']+' '+ X_val['selftext']"
      ]
    },
    {
      "cell_type": "code",
      "execution_count": 57,
      "id": "a79353f1-289a-4cf8-8ca4-2a080f3c78da",
      "metadata": {
        "id": "a79353f1-289a-4cf8-8ca4-2a080f3c78da"
      },
      "outputs": [],
      "source": [
        "y_train=X_train['engagement_score_std'].values\n",
        "y_val=X_val['engagement_score_std'].values\n",
        "y_test=X_test['engagement_score_std'].values\n",
        "\n",
        "X_train=X_train['all_words'].apply(lambda x: str(x)).values\n",
        "X_val=X_val['all_words'].apply(lambda x: str(x)).values\n",
        "X_test=X_test['all_words'].apply(lambda x: str(x)).values\n",
        "\n"
      ]
    },
    {
      "cell_type": "code",
      "execution_count": 34,
      "id": "c5711620-3719-4391-bc50-2de37078911b",
      "metadata": {
        "id": "c5711620-3719-4391-bc50-2de37078911b"
      },
      "outputs": [],
      "source": [
        "#preprocessing:\n",
        "# lowercases, tokenizes\n",
        "text_vectorization= layers.TextVectorization(\n",
        "    max_tokens=20000,\n",
        "    standardize='lower_and_strip_punctuation',\n",
        "    split='whitespace',\n",
        "    ngrams=None,\n",
        "    output_mode='multi_hot',\n",
        "    output_sequence_length=None,\n",
        "    pad_to_max_tokens=False,\n",
        "    vocabulary=None,\n",
        "    idf_weights=None,\n",
        "    sparse=False,\n",
        "    ragged=False,\n",
        "    encoding='utf-8',\n",
        "    name='vectorization'\n",
        ")\n",
        "\n",
        "\n",
        "text_vectorization.adapt(X_train)"
      ]
    },
    {
      "cell_type": "code",
      "execution_count": 64,
      "id": "b7fd3997-1749-4232-a816-bfb1f730c411",
      "metadata": {
        "id": "b7fd3997-1749-4232-a816-bfb1f730c411"
      },
      "outputs": [],
      "source": [
        "def get_model(max_tokens=20000, hidden_dim=128):\n",
        "    text_input=keras.Input(shape=(),dtype='string')\n",
        "    vectorized_text=text_vectorization(text_input)\n",
        "    x=layers.Dense(hidden_dim, activation='relu')(vectorized_text)\n",
        "    x=layers.Dropout(0.5)(x)\n",
        "    outputs=layers.Dense(1)(x)\n",
        "    model=keras.Model(text_input,outputs)\n",
        "    model.compile(optimizer='Adam', loss='mse', metrics=['mse'])\n",
        "    return model\n",
        "\n"
      ]
    },
    {
      "cell_type": "code",
      "execution_count": null,
      "id": "73ba1442-9659-4718-b136-cdb0a5c408c9",
      "metadata": {
        "id": "73ba1442-9659-4718-b136-cdb0a5c408c9"
      },
      "outputs": [],
      "source": [
        "model=get_model()\n",
        "model.summary()"
      ]
    },
    {
      "cell_type": "code",
      "execution_count": 66,
      "id": "apUj0ZSX8VAy",
      "metadata": {
        "colab": {
          "base_uri": "https://localhost:8080/"
        },
        "id": "apUj0ZSX8VAy",
        "outputId": "ff86d6c9-2e8a-412c-80fd-79492c5cacb8"
      },
      "outputs": [
        {
          "output_type": "stream",
          "name": "stdout",
          "text": [
            "Epoch 1/10\n",
            "925/925 [==============================] - 71s 77ms/step - loss: 0.1785 - mse: 0.1785 - val_loss: 0.4259 - val_mse: 0.4259\n",
            "Epoch 2/10\n",
            "925/925 [==============================] - 70s 76ms/step - loss: 0.1719 - mse: 0.1719 - val_loss: 0.4411 - val_mse: 0.4411\n",
            "Epoch 3/10\n",
            "925/925 [==============================] - 68s 74ms/step - loss: 0.1689 - mse: 0.1689 - val_loss: 0.4184 - val_mse: 0.4184\n",
            "Epoch 4/10\n",
            "925/925 [==============================] - 71s 77ms/step - loss: 0.1441 - mse: 0.1441 - val_loss: 0.4176 - val_mse: 0.4176\n",
            "Epoch 5/10\n",
            "925/925 [==============================] - 73s 78ms/step - loss: 0.2134 - mse: 0.2134 - val_loss: 0.4107 - val_mse: 0.4107\n",
            "Epoch 6/10\n",
            "925/925 [==============================] - 71s 76ms/step - loss: 0.1968 - mse: 0.1968 - val_loss: 0.4040 - val_mse: 0.4040\n",
            "Epoch 7/10\n",
            "925/925 [==============================] - 69s 74ms/step - loss: 0.2929 - mse: 0.2929 - val_loss: 0.4055 - val_mse: 0.4055\n",
            "Epoch 8/10\n",
            "925/925 [==============================] - 71s 77ms/step - loss: 0.2204 - mse: 0.2204 - val_loss: 0.4153 - val_mse: 0.4153\n",
            "Epoch 9/10\n",
            "925/925 [==============================] - 73s 79ms/step - loss: 0.2379 - mse: 0.2379 - val_loss: 0.4191 - val_mse: 0.4191\n",
            "Epoch 10/10\n",
            "925/925 [==============================] - 69s 75ms/step - loss: 0.1938 - mse: 0.1938 - val_loss: 0.4387 - val_mse: 0.4387\n"
          ]
        },
        {
          "output_type": "execute_result",
          "data": {
            "text/plain": [
              "<keras.src.callbacks.History at 0x7b72f4785750>"
            ]
          },
          "metadata": {},
          "execution_count": 66
        }
      ],
      "source": [
        "callbacks=keras.callbacks.ModelCheckpoint('keras_bag_words.keras', save_best_only=True)\n",
        "model.fit(\n",
        "    X_train, y_train,\n",
        "    epochs=10,#increase number of epochs\n",
        "    validation_data=(X_val, y_val),\n",
        "    callbacks=callbacks\n",
        "    )\n"
      ]
    },
    {
      "cell_type": "code",
      "execution_count": 68,
      "id": "3ebe4669-e32e-44a8-a8c8-e179291510d4",
      "metadata": {
        "colab": {
          "base_uri": "https://localhost:8080/"
        },
        "id": "3ebe4669-e32e-44a8-a8c8-e179291510d4",
        "outputId": "8ae74a40-7ca8-4ccf-dd60-4fad972f44d1"
      },
      "outputs": [
        {
          "output_type": "stream",
          "name": "stdout",
          "text": [
            "MSE for train set 0.10264600813388824\n",
            "MSE for val set 0.43871065974235535\n",
            "MSE for test set 0.08388403058052063\n"
          ]
        }
      ],
      "source": [
        "\n",
        "MSE_train = model.evaluate(X_train, y_train, verbose=0)[0]\n",
        "MSE_val = model.evaluate(X_val, y_val, verbose=0)[0]\n",
        "MSE_test = model.evaluate(X_test, y_test, verbose=0)[0]\n",
        "\n",
        "print('MSE for train set', MSE_train)\n",
        "print('MSE for val set', MSE_val)\n",
        "print('MSE for test set', MSE_test)\n",
        "\n"
      ]
    },
    {
      "cell_type": "code",
      "execution_count": null,
      "id": "Ur_ZN0BjADed",
      "metadata": {
        "id": "Ur_ZN0BjADed"
      },
      "outputs": [],
      "source": []
    }
  ],
  "metadata": {
    "colab": {
      "provenance": []
    },
    "kernelspec": {
      "display_name": "Python 3 (ipykernel)",
      "language": "python",
      "name": "python3"
    },
    "language_info": {
      "codemirror_mode": {
        "name": "ipython",
        "version": 3
      },
      "file_extension": ".py",
      "mimetype": "text/x-python",
      "name": "python",
      "nbconvert_exporter": "python",
      "pygments_lexer": "ipython3",
      "version": "3.11.7"
    }
  },
  "nbformat": 4,
  "nbformat_minor": 5
}