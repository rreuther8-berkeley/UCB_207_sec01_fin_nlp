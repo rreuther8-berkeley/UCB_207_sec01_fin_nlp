{
 "cells": [
  {
   "cell_type": "code",
   "execution_count": 6,
   "id": "c012ad34-0e2d-4e51-bb7e-1efa0a17defb",
   "metadata": {
    "tags": []
   },
   "outputs": [],
   "source": [
    "import os\n",
    "import re\n",
    "\n",
    "import emoji\n",
    "import pandas as pd\n",
    "import numpy as np\n",
    "from sklearn.preprocessing import StandardScaler\n",
    "from wordcloud import WordCloud\n",
    "from sklearn.model_selection import train_test_split\n",
    "from matplotlib import pyplot as plt\n",
    "\n",
    "# tf and keras\n",
    "import tensorflow as tf\n",
    "from tensorflow.keras import Sequential, layers, losses\n",
    "from tensorflow.keras.layers import (\n",
    "    Dense,\n",
    "    Embedding,\n",
    "    GlobalAveragePooling1D,\n",
    "    Dropout,\n",
    "    TextVectorization,\n",
    "    Input,\n",
    "    Conv1D,\n",
    "    LSTM,\n",
    "    MaxPooling1D,\n",
    "    Bidirectional,\n",
    ")\n",
    "from tensorflow.keras.models import Model\n",
    "# import tensorflow_datasets as tfds\n",
    "\n",
    "pd.set_option('display.max_colwidth', 100) "
   ]
  },
  {
   "cell_type": "markdown",
   "id": "1050b113-b9e2-45ef-99be-5ef0bc10be5a",
   "metadata": {
    "tags": []
   },
   "source": [
    "# UTILS"
   ]
  },
  {
   "cell_type": "code",
   "execution_count": 59,
   "id": "665e2c42-b705-4b76-9874-139bb6ffa84a",
   "metadata": {
    "tags": []
   },
   "outputs": [],
   "source": [
    "X_train = pd.read_csv('./data/final/X_train.csv')\n",
    "y_train = pd.read_csv('./data/final/y_train.csv')\n",
    "X_val = pd.read_csv('./data/final/X_val.csv')\n",
    "y_val = pd.read_csv('./data/final/y_val.csv')\n",
    "X_test = pd.read_csv('./data/final/X_test.csv')\n",
    "y_test = pd.read_csv('./data/final/y_test.csv')"
   ]
  },
  {
   "cell_type": "code",
   "execution_count": 61,
   "id": "a1161982-b3ac-4aa0-9925-ebf88d733c8e",
   "metadata": {
    "tags": []
   },
   "outputs": [],
   "source": [
    "def read_files():\n",
    "    X_train = pd.read_csv('./data/final/X_train.csv')\n",
    "    y_train = pd.read_csv('./data/final/y_train.csv')\n",
    "    X_val = pd.read_csv('./data/final/X_val.csv')\n",
    "    y_val = pd.read_csv('./data/final/y_val.csv')\n",
    "    X_test = pd.read_csv('./data/final/X_test.csv')\n",
    "    y_test = pd.read_csv('./data/final/y_test.csv')\n",
    "    \n",
    "    train_not_na_indices = (X_train['fulltext'].notna())\n",
    "    val_not_na_indices = (X_val['fulltext'].notna())\n",
    "    test_not_na_indices = (X_test['fulltext'].notna())\n",
    "    \n",
    "    X_train = X_train[train_not_na_indices]\n",
    "    X_val = X_val[val_not_na_indices]\n",
    "    X_test = X_test[test_not_na_indices]\n",
    "    \n",
    "    y_train = y_train[train_not_na_indices]\n",
    "    y_val = y_val[val_not_na_indices]\n",
    "    y_test = y_test[test_not_na_indices]\n",
    "\n",
    "    return X_train, y_train, X_val, y_val, X_test, y_test"
   ]
  },
  {
   "cell_type": "code",
   "execution_count": 62,
   "id": "b8c5d5d0-1905-40bb-9c60-933bfa063253",
   "metadata": {
    "tags": []
   },
   "outputs": [],
   "source": [
    "def get_vectorization_layer(df, column, max_tokens=10000, output_sequence_length=250, embedding_dim=16):\n",
    "    vectorize_layer = layers.TextVectorization(\n",
    "        max_tokens=max_tokens,\n",
    "        output_mode='int',\n",
    "        output_sequence_length=output_sequence_length)\n",
    "\n",
    "    df[column] = df[column].astype(str)\n",
    "    vectorize_layer.adapt(df[column].values)\n",
    "\n",
    "    return vectorize_layer"
   ]
  },
  {
   "cell_type": "code",
   "execution_count": 73,
   "id": "564b7a2d-f7c2-4606-a710-a71559c4aa18",
   "metadata": {},
   "outputs": [],
   "source": [
    "X_train, y_train, X_val, y_val, X_test, y_test = read_files()"
   ]
  },
  {
   "cell_type": "markdown",
   "id": "7fb83eb9-ed9e-4309-bbee-8f2c57f685ce",
   "metadata": {},
   "source": [
    "### Convert the fulltext into tensors"
   ]
  },
  {
   "cell_type": "code",
   "execution_count": 74,
   "id": "1ffc8dbc-b267-4a67-be24-05c872afbf1f",
   "metadata": {},
   "outputs": [],
   "source": [
    "text_data = tf.constant(X_train['fulltext'].values)\n",
    "text_data_val = tf.constant(X_val['fulltext'].values)\n",
    "text_data_test = tf.constant(X_test['fulltext'].values)"
   ]
  },
  {
   "cell_type": "markdown",
   "id": "899fbdb8-5424-4d0f-aea8-4f2db4bd0069",
   "metadata": {},
   "source": [
    "### Get vectorization layer"
   ]
  },
  {
   "cell_type": "code",
   "execution_count": 75,
   "id": "e6c38723-a285-4603-a648-5062882f42a0",
   "metadata": {
    "tags": []
   },
   "outputs": [],
   "source": [
    "vectorize_layer = get_vectorization_layer(X_train, 'fulltext')"
   ]
  },
  {
   "cell_type": "markdown",
   "id": "4b44b463-b392-489e-8d88-6d8283bf3aae",
   "metadata": {},
   "source": [
    "### Vectorize Text"
   ]
  },
  {
   "cell_type": "code",
   "execution_count": 76,
   "id": "d52369a7-1a2b-43e3-bf0a-3d1c15b9dfc0",
   "metadata": {
    "tags": []
   },
   "outputs": [],
   "source": [
    "vectorized_text = vectorize_layer(text_data)\n",
    "vectorized_text_val = vectorize_layer(text_data_val)\n",
    "vectorized_text_test = vectorize_layer(text_data_test)"
   ]
  },
  {
   "cell_type": "markdown",
   "id": "269a84e4-3fb6-4698-8b5f-7ab05890942c",
   "metadata": {
    "tags": []
   },
   "source": [
    "# Model 2: TextVectorization Layer, Basic Embedding Model, Two Hidden Dense Layers (64, 32)"
   ]
  },
  {
   "cell_type": "code",
   "execution_count": 83,
   "id": "45477179-4208-496d-8235-95a86e7b4e16",
   "metadata": {
    "tags": []
   },
   "outputs": [],
   "source": [
    "def build_model_2(max_tokens=10000, output_sequence_length=250, embedding_dim=16):\n",
    "    tf.keras.backend.clear_session()\n",
    "    tf.random.set_seed(0)\n",
    "    inputs = Input(shape=(output_sequence_length,))\n",
    "    \n",
    "    x = Embedding(input_dim=max_tokens, output_dim=embedding_dim, input_length=output_sequence_length)(inputs)\n",
    "\n",
    "    x = GlobalAveragePooling1D()(x)\n",
    "\n",
    "    x = Dense(64, activation='relu')(x)\n",
    "    x = Dense(32, activation='relu')(x)\n",
    "    \n",
    "    outputs = Dense(1)(x)\n",
    "    model = Model(inputs, outputs)\n",
    "    model.compile(optimizer='adam', loss='mean_squared_error', metrics=['mean_absolute_error','accuracy'])\n",
    "    \n",
    "    return model"
   ]
  },
  {
   "cell_type": "code",
   "execution_count": 84,
   "id": "8796b134-f5f0-481c-a646-cfdb09b3d44c",
   "metadata": {
    "tags": []
   },
   "outputs": [
    {
     "name": "stdout",
     "output_type": "stream",
     "text": [
      "Epoch 1/5\n",
      "14787/14787 [==============================] - 344s 23ms/step - loss: 3367776.7500 - mean_absolute_error: 207.9170 - accuracy: 0.0230 - val_loss: 2434559.0000 - val_mean_absolute_error: 214.4482 - val_accuracy: 0.0229\n",
      "Epoch 2/5\n",
      "14787/14787 [==============================] - 283s 19ms/step - loss: 3277985.2500 - mean_absolute_error: 199.6094 - accuracy: 0.0231 - val_loss: 2298261.5000 - val_mean_absolute_error: 218.9449 - val_accuracy: 0.0229\n",
      "Epoch 3/5\n",
      "14787/14787 [==============================] - 280s 19ms/step - loss: 3095563.0000 - mean_absolute_error: 191.3588 - accuracy: 0.0231 - val_loss: 2159502.2500 - val_mean_absolute_error: 173.8821 - val_accuracy: 0.0229\n",
      "Epoch 4/5\n",
      "14787/14787 [==============================] - 325s 22ms/step - loss: 2912115.0000 - mean_absolute_error: 179.4832 - accuracy: 0.0231 - val_loss: 2122973.2500 - val_mean_absolute_error: 196.6857 - val_accuracy: 0.0229\n",
      "Epoch 5/5\n",
      "14787/14787 [==============================] - 393s 27ms/step - loss: 2808589.2500 - mean_absolute_error: 180.0120 - accuracy: 0.0230 - val_loss: 2139633.0000 - val_mean_absolute_error: 191.8642 - val_accuracy: 0.0229\n"
     ]
    },
    {
     "data": {
      "text/html": [
       "<div>\n",
       "<style scoped>\n",
       "    .dataframe tbody tr th:only-of-type {\n",
       "        vertical-align: middle;\n",
       "    }\n",
       "\n",
       "    .dataframe tbody tr th {\n",
       "        vertical-align: top;\n",
       "    }\n",
       "\n",
       "    .dataframe thead th {\n",
       "        text-align: right;\n",
       "    }\n",
       "</style>\n",
       "<table border=\"1\" class=\"dataframe\">\n",
       "  <thead>\n",
       "    <tr style=\"text-align: right;\">\n",
       "      <th></th>\n",
       "      <th>loss</th>\n",
       "      <th>mean_absolute_error</th>\n",
       "      <th>accuracy</th>\n",
       "      <th>val_loss</th>\n",
       "      <th>val_mean_absolute_error</th>\n",
       "      <th>val_accuracy</th>\n",
       "    </tr>\n",
       "  </thead>\n",
       "  <tbody>\n",
       "    <tr>\n",
       "      <th>0</th>\n",
       "      <td>3367776.75</td>\n",
       "      <td>207.917023</td>\n",
       "      <td>0.022959</td>\n",
       "      <td>2434559.00</td>\n",
       "      <td>214.448196</td>\n",
       "      <td>0.022881</td>\n",
       "    </tr>\n",
       "    <tr>\n",
       "      <th>1</th>\n",
       "      <td>3277985.25</td>\n",
       "      <td>199.609390</td>\n",
       "      <td>0.023095</td>\n",
       "      <td>2298261.50</td>\n",
       "      <td>218.944931</td>\n",
       "      <td>0.022881</td>\n",
       "    </tr>\n",
       "    <tr>\n",
       "      <th>2</th>\n",
       "      <td>3095563.00</td>\n",
       "      <td>191.358780</td>\n",
       "      <td>0.023095</td>\n",
       "      <td>2159502.25</td>\n",
       "      <td>173.882080</td>\n",
       "      <td>0.022881</td>\n",
       "    </tr>\n",
       "    <tr>\n",
       "      <th>3</th>\n",
       "      <td>2912115.00</td>\n",
       "      <td>179.483231</td>\n",
       "      <td>0.023095</td>\n",
       "      <td>2122973.25</td>\n",
       "      <td>196.685654</td>\n",
       "      <td>0.022881</td>\n",
       "    </tr>\n",
       "    <tr>\n",
       "      <th>4</th>\n",
       "      <td>2808589.25</td>\n",
       "      <td>180.011963</td>\n",
       "      <td>0.022959</td>\n",
       "      <td>2139633.00</td>\n",
       "      <td>191.864243</td>\n",
       "      <td>0.022881</td>\n",
       "    </tr>\n",
       "  </tbody>\n",
       "</table>\n",
       "</div>"
      ],
      "text/plain": [
       "         loss  mean_absolute_error  accuracy    val_loss  \\\n",
       "0  3367776.75           207.917023  0.022959  2434559.00   \n",
       "1  3277985.25           199.609390  0.023095  2298261.50   \n",
       "2  3095563.00           191.358780  0.023095  2159502.25   \n",
       "3  2912115.00           179.483231  0.023095  2122973.25   \n",
       "4  2808589.25           180.011963  0.022959  2139633.00   \n",
       "\n",
       "   val_mean_absolute_error  val_accuracy  \n",
       "0               214.448196      0.022881  \n",
       "1               218.944931      0.022881  \n",
       "2               173.882080      0.022881  \n",
       "3               196.685654      0.022881  \n",
       "4               191.864243      0.022881  "
      ]
     },
     "execution_count": 84,
     "metadata": {},
     "output_type": "execute_result"
    }
   ],
   "source": [
    "model_2 = build_model_2()\n",
    "early_stopping = tf.keras.callbacks.EarlyStopping(monitor='val_loss', patience=1, restore_best_weights=True)\n",
    "history_2 = model_2.fit(vectorized_text, y_train, epochs=5, batch_size=2,verbose=1, callbacks=[early_stopping], validation_data=(vectorized_text_val, y_val))\n",
    "pd.DataFrame(history_2.history)"
   ]
  },
  {
   "cell_type": "code",
   "execution_count": 13,
   "id": "8e821272-6ad5-401d-9b21-d4c436d3ec53",
   "metadata": {},
   "outputs": [],
   "source": [
    "model_2.save(\"model2.h5\")"
   ]
  },
  {
   "cell_type": "markdown",
   "id": "8c18cdb1-ad29-4b7d-93e6-c4a3e5b02581",
   "metadata": {
    "tags": []
   },
   "source": [
    "# Model 3: TextVectorization Layer, Convolutional NN Embedding Model, Two Hidden Dense Layers (64, 32)"
   ]
  },
  {
   "cell_type": "code",
   "execution_count": 21,
   "id": "4439e739-5de4-471e-83da-14e27bef9149",
   "metadata": {
    "tags": []
   },
   "outputs": [],
   "source": [
    "def build_model_3(max_tokens=10000, output_sequence_length=250, embedding_dim=16):\n",
    "    tf.keras.backend.clear_session()\n",
    "    tf.random.set_seed(0)\n",
    "    inputs = Input(shape=(output_sequence_length,))\n",
    "    \n",
    "    x = Embedding(input_dim=max_tokens, output_dim=embedding_dim, input_length=output_sequence_length)(inputs)\n",
    "\n",
    "    x = layers.Conv1D(32, 4, activation='relu')(x)\n",
    "    x = layers.MaxPooling1D()(x)\n",
    "    \n",
    "    x = Dense(64, activation='relu')(x)\n",
    "    x = Dense(32, activation='relu')(x)\n",
    "\n",
    "    outputs = Dense(1)(x)\n",
    "    model = Model(inputs, outputs)\n",
    "    model.compile(optimizer='adam', loss='mean_squared_error', metrics=['mean_absolute_error','accuracy'])\n",
    "    \n",
    "    return model"
   ]
  },
  {
   "cell_type": "code",
   "execution_count": 22,
   "id": "10059702-c6e7-4613-acea-a31ddd70ca4f",
   "metadata": {
    "tags": []
   },
   "outputs": [
    {
     "name": "stdout",
     "output_type": "stream",
     "text": [
      "Epoch 1/5\n",
      "14787/14787 [==============================] - 349s 24ms/step - loss: 3368448.7500 - mean_absolute_error: 215.2397 - accuracy: 0.0230 - val_loss: 2432068.7500 - val_mean_absolute_error: 223.1521 - val_accuracy: 0.0229\n",
      "Epoch 2/5\n",
      "14787/14787 [==============================] - 388s 26ms/step - loss: 3295401.5000 - mean_absolute_error: 218.1068 - accuracy: 0.0231 - val_loss: 2371435.2500 - val_mean_absolute_error: 240.1999 - val_accuracy: 0.0229\n",
      "Epoch 3/5\n",
      "14787/14787 [==============================] - 364s 25ms/step - loss: 3261372.2500 - mean_absolute_error: 219.5644 - accuracy: 0.0231 - val_loss: 2365950.7500 - val_mean_absolute_error: 209.2107 - val_accuracy: 0.0229\n",
      "Epoch 4/5\n",
      "14787/14787 [==============================] - 375s 25ms/step - loss: 3252968.7500 - mean_absolute_error: 209.9308 - accuracy: 0.0231 - val_loss: 2366330.7500 - val_mean_absolute_error: 235.8703 - val_accuracy: 0.0229\n"
     ]
    },
    {
     "data": {
      "text/html": [
       "<div>\n",
       "<style scoped>\n",
       "    .dataframe tbody tr th:only-of-type {\n",
       "        vertical-align: middle;\n",
       "    }\n",
       "\n",
       "    .dataframe tbody tr th {\n",
       "        vertical-align: top;\n",
       "    }\n",
       "\n",
       "    .dataframe thead th {\n",
       "        text-align: right;\n",
       "    }\n",
       "</style>\n",
       "<table border=\"1\" class=\"dataframe\">\n",
       "  <thead>\n",
       "    <tr style=\"text-align: right;\">\n",
       "      <th></th>\n",
       "      <th>loss</th>\n",
       "      <th>mean_absolute_error</th>\n",
       "      <th>accuracy</th>\n",
       "      <th>val_loss</th>\n",
       "      <th>val_mean_absolute_error</th>\n",
       "      <th>val_accuracy</th>\n",
       "    </tr>\n",
       "  </thead>\n",
       "  <tbody>\n",
       "    <tr>\n",
       "      <th>0</th>\n",
       "      <td>3368448.75</td>\n",
       "      <td>215.239716</td>\n",
       "      <td>0.022992</td>\n",
       "      <td>2432068.75</td>\n",
       "      <td>223.152115</td>\n",
       "      <td>0.022881</td>\n",
       "    </tr>\n",
       "    <tr>\n",
       "      <th>1</th>\n",
       "      <td>3295401.50</td>\n",
       "      <td>218.106750</td>\n",
       "      <td>0.023095</td>\n",
       "      <td>2371435.25</td>\n",
       "      <td>240.199860</td>\n",
       "      <td>0.022881</td>\n",
       "    </tr>\n",
       "    <tr>\n",
       "      <th>2</th>\n",
       "      <td>3261372.25</td>\n",
       "      <td>219.564392</td>\n",
       "      <td>0.023095</td>\n",
       "      <td>2365950.75</td>\n",
       "      <td>209.210663</td>\n",
       "      <td>0.022881</td>\n",
       "    </tr>\n",
       "    <tr>\n",
       "      <th>3</th>\n",
       "      <td>3252968.75</td>\n",
       "      <td>209.930786</td>\n",
       "      <td>0.023095</td>\n",
       "      <td>2366330.75</td>\n",
       "      <td>235.870300</td>\n",
       "      <td>0.022881</td>\n",
       "    </tr>\n",
       "  </tbody>\n",
       "</table>\n",
       "</div>"
      ],
      "text/plain": [
       "         loss  mean_absolute_error  accuracy    val_loss  \\\n",
       "0  3368448.75           215.239716  0.022992  2432068.75   \n",
       "1  3295401.50           218.106750  0.023095  2371435.25   \n",
       "2  3261372.25           219.564392  0.023095  2365950.75   \n",
       "3  3252968.75           209.930786  0.023095  2366330.75   \n",
       "\n",
       "   val_mean_absolute_error  val_accuracy  \n",
       "0               223.152115      0.022881  \n",
       "1               240.199860      0.022881  \n",
       "2               209.210663      0.022881  \n",
       "3               235.870300      0.022881  "
      ]
     },
     "execution_count": 22,
     "metadata": {},
     "output_type": "execute_result"
    }
   ],
   "source": [
    "model_3 = build_model_3()\n",
    "early_stopping = tf.keras.callbacks.EarlyStopping(monitor='val_loss', patience=1, restore_best_weights=True)\n",
    "history_3 = model_3.fit(vectorized_text, y_train, epochs=5, batch_size=2, verbose=1, callbacks=[early_stopping], validation_data=(vectorized_text_val, y_val))\n",
    "pd.DataFrame(history_3.history)"
   ]
  },
  {
   "cell_type": "code",
   "execution_count": 23,
   "id": "8c1319de-fe15-4d9d-b4e1-939cb9ef343d",
   "metadata": {},
   "outputs": [],
   "source": [
    "model_3.save(\"model3.h5\")"
   ]
  },
  {
   "cell_type": "code",
   "execution_count": 91,
   "id": "c3df956c-96a7-4b52-ae19-48d87f453078",
   "metadata": {
    "tags": []
   },
   "outputs": [],
   "source": [
    "def build_model_3_dropout(max_tokens=10000, output_sequence_length=250, embedding_dim=16):\n",
    "    tf.keras.backend.clear_session()\n",
    "    tf.random.set_seed(0)\n",
    "    inputs = Input(shape=(output_sequence_length,))\n",
    "    \n",
    "    x = Embedding(input_dim=max_tokens, output_dim=embedding_dim, input_length=output_sequence_length)(inputs)\n",
    "\n",
    "    x = layers.Conv1D(32, 4, activation='relu')(x)\n",
    "    x = layers.MaxPooling1D()(x)\n",
    "    \n",
    "    x = Dense(64, activation='relu')(x)\n",
    "    x = Dense(32, activation='relu')(x)\n",
    "    x = Dropout(0.5)(x)\n",
    "    outputs = Dense(1)(x)\n",
    "    model = Model(inputs, outputs)\n",
    "    model.compile(optimizer='adam', loss='mean_squared_error', metrics=['mean_absolute_error','accuracy'])\n",
    "    \n",
    "    return model"
   ]
  },
  {
   "cell_type": "code",
   "execution_count": 92,
   "id": "d7948345-73a3-433f-bbc1-5b961b655a35",
   "metadata": {
    "tags": []
   },
   "outputs": [
    {
     "name": "stdout",
     "output_type": "stream",
     "text": [
      "Epoch 1/5\n",
      "14787/14787 [==============================] - 413s 28ms/step - loss: 3369879.2500 - mean_absolute_error: 208.5753 - accuracy: 0.0230 - val_loss: 2433884.0000 - val_mean_absolute_error: 212.0740 - val_accuracy: 0.0229\n",
      "Epoch 2/5\n",
      "14787/14787 [==============================] - 815s 55ms/step - loss: 3297194.5000 - mean_absolute_error: 211.0922 - accuracy: 0.0231 - val_loss: 2369031.2500 - val_mean_absolute_error: 230.5923 - val_accuracy: 0.0229\n",
      "Epoch 3/5\n",
      "14787/14787 [==============================] - 444s 30ms/step - loss: 3269741.0000 - mean_absolute_error: 209.4527 - accuracy: 0.0231 - val_loss: 2365194.0000 - val_mean_absolute_error: 204.3584 - val_accuracy: 0.0229\n",
      "Epoch 4/5\n",
      "14787/14787 [==============================] - 478s 32ms/step - loss: 3257827.7500 - mean_absolute_error: 204.6521 - accuracy: 0.0231 - val_loss: 2361781.5000 - val_mean_absolute_error: 227.6711 - val_accuracy: 0.0229\n",
      "Epoch 5/5\n",
      "14787/14787 [==============================] - 409s 28ms/step - loss: 3244544.5000 - mean_absolute_error: 213.8216 - accuracy: 0.0231 - val_loss: 2377978.2500 - val_mean_absolute_error: 223.0731 - val_accuracy: 0.0229\n"
     ]
    },
    {
     "data": {
      "text/html": [
       "<div>\n",
       "<style scoped>\n",
       "    .dataframe tbody tr th:only-of-type {\n",
       "        vertical-align: middle;\n",
       "    }\n",
       "\n",
       "    .dataframe tbody tr th {\n",
       "        vertical-align: top;\n",
       "    }\n",
       "\n",
       "    .dataframe thead th {\n",
       "        text-align: right;\n",
       "    }\n",
       "</style>\n",
       "<table border=\"1\" class=\"dataframe\">\n",
       "  <thead>\n",
       "    <tr style=\"text-align: right;\">\n",
       "      <th></th>\n",
       "      <th>loss</th>\n",
       "      <th>mean_absolute_error</th>\n",
       "      <th>accuracy</th>\n",
       "      <th>val_loss</th>\n",
       "      <th>val_mean_absolute_error</th>\n",
       "      <th>val_accuracy</th>\n",
       "    </tr>\n",
       "  </thead>\n",
       "  <tbody>\n",
       "    <tr>\n",
       "      <th>0</th>\n",
       "      <td>3369879.25</td>\n",
       "      <td>208.575317</td>\n",
       "      <td>0.022962</td>\n",
       "      <td>2433884.00</td>\n",
       "      <td>212.073975</td>\n",
       "      <td>0.022881</td>\n",
       "    </tr>\n",
       "    <tr>\n",
       "      <th>1</th>\n",
       "      <td>3297194.50</td>\n",
       "      <td>211.092178</td>\n",
       "      <td>0.023094</td>\n",
       "      <td>2369031.25</td>\n",
       "      <td>230.592270</td>\n",
       "      <td>0.022881</td>\n",
       "    </tr>\n",
       "    <tr>\n",
       "      <th>2</th>\n",
       "      <td>3269741.00</td>\n",
       "      <td>209.452713</td>\n",
       "      <td>0.023095</td>\n",
       "      <td>2365194.00</td>\n",
       "      <td>204.358353</td>\n",
       "      <td>0.022881</td>\n",
       "    </tr>\n",
       "    <tr>\n",
       "      <th>3</th>\n",
       "      <td>3257827.75</td>\n",
       "      <td>204.652115</td>\n",
       "      <td>0.023095</td>\n",
       "      <td>2361781.50</td>\n",
       "      <td>227.671066</td>\n",
       "      <td>0.022881</td>\n",
       "    </tr>\n",
       "    <tr>\n",
       "      <th>4</th>\n",
       "      <td>3244544.50</td>\n",
       "      <td>213.821579</td>\n",
       "      <td>0.023095</td>\n",
       "      <td>2377978.25</td>\n",
       "      <td>223.073090</td>\n",
       "      <td>0.022881</td>\n",
       "    </tr>\n",
       "  </tbody>\n",
       "</table>\n",
       "</div>"
      ],
      "text/plain": [
       "         loss  mean_absolute_error  accuracy    val_loss  \\\n",
       "0  3369879.25           208.575317  0.022962  2433884.00   \n",
       "1  3297194.50           211.092178  0.023094  2369031.25   \n",
       "2  3269741.00           209.452713  0.023095  2365194.00   \n",
       "3  3257827.75           204.652115  0.023095  2361781.50   \n",
       "4  3244544.50           213.821579  0.023095  2377978.25   \n",
       "\n",
       "   val_mean_absolute_error  val_accuracy  \n",
       "0               212.073975      0.022881  \n",
       "1               230.592270      0.022881  \n",
       "2               204.358353      0.022881  \n",
       "3               227.671066      0.022881  \n",
       "4               223.073090      0.022881  "
      ]
     },
     "execution_count": 92,
     "metadata": {},
     "output_type": "execute_result"
    }
   ],
   "source": [
    "model_3_dp = build_model_3_dropout()\n",
    "early_stopping = tf.keras.callbacks.EarlyStopping(monitor='val_loss', patience=1, restore_best_weights=True)\n",
    "history_3_dp = model_3_dp.fit(vectorized_text, y_train, epochs=5, batch_size=2, verbose=1, callbacks=[early_stopping], validation_data=(vectorized_text_val, y_val))\n",
    "pd.DataFrame(history_3_dp.history)"
   ]
  },
  {
   "cell_type": "code",
   "execution_count": 93,
   "id": "af716d40-127c-4f1a-8eba-1b58ffc16c10",
   "metadata": {
    "tags": []
   },
   "outputs": [],
   "source": [
    "model_3_dp.save(\"model3_dp.h5\")"
   ]
  },
  {
   "cell_type": "markdown",
   "id": "b00aabe6-8bf3-463b-af91-da2b7027d35e",
   "metadata": {
    "tags": []
   },
   "source": [
    "# Model 4: TextVectorization Layer, LSTM RNN Embedding Model, Two Hidden Dense Layers (64, 32)"
   ]
  },
  {
   "cell_type": "code",
   "execution_count": 24,
   "id": "84c36742-1a81-4381-8864-05d8fa23e226",
   "metadata": {
    "tags": []
   },
   "outputs": [],
   "source": [
    "X_train, y_train, X_val, y_val = read_files()"
   ]
  },
  {
   "cell_type": "code",
   "execution_count": 25,
   "id": "22fd9bc3-beb1-4644-9a55-ad2bd71b2744",
   "metadata": {
    "tags": []
   },
   "outputs": [],
   "source": [
    "def build_model_4(max_tokens=10000, output_sequence_length=250, embedding_dim=16):\n",
    "    tf.keras.backend.clear_session()\n",
    "    tf.random.set_seed(0)\n",
    "    inputs = Input(shape=(output_sequence_length,))\n",
    "    \n",
    "    x = Embedding(input_dim=max_tokens, output_dim=embedding_dim, input_length=output_sequence_length)(inputs)\n",
    "    \n",
    "    x = layers.LSTM(32, activation='relu')(x)\n",
    "    # x = layers.MaxPooling1D()(x)\n",
    "    \n",
    "    x = Dense(64, activation='relu')(x)\n",
    "    x = Dense(32, activation='relu')(x)\n",
    "\n",
    "    outputs = Dense(1)(x)\n",
    "    model = Model(inputs, outputs)\n",
    "    model.compile(optimizer='adam', loss='mean_squared_error', metrics=['mean_absolute_error','accuracy'])\n",
    "    \n",
    "    return model"
   ]
  },
  {
   "cell_type": "code",
   "execution_count": 26,
   "id": "a67983f5-c6c5-48ff-9801-11ad357805fd",
   "metadata": {
    "tags": []
   },
   "outputs": [
    {
     "name": "stdout",
     "output_type": "stream",
     "text": [
      "Epoch 1/5\n",
      "14787/14787 [==============================] - 3693s 250ms/step - loss: nan - mean_absolute_error: nan - accuracy: 0.0087 - val_loss: nan - val_mean_absolute_error: nan - val_accuracy: 0.0098\n",
      "Epoch 2/5\n",
      "14787/14787 [==============================] - 3723s 252ms/step - loss: nan - mean_absolute_error: nan - accuracy: 0.0088 - val_loss: nan - val_mean_absolute_error: nan - val_accuracy: 0.0098\n"
     ]
    },
    {
     "data": {
      "text/html": [
       "<div>\n",
       "<style scoped>\n",
       "    .dataframe tbody tr th:only-of-type {\n",
       "        vertical-align: middle;\n",
       "    }\n",
       "\n",
       "    .dataframe tbody tr th {\n",
       "        vertical-align: top;\n",
       "    }\n",
       "\n",
       "    .dataframe thead th {\n",
       "        text-align: right;\n",
       "    }\n",
       "</style>\n",
       "<table border=\"1\" class=\"dataframe\">\n",
       "  <thead>\n",
       "    <tr style=\"text-align: right;\">\n",
       "      <th></th>\n",
       "      <th>loss</th>\n",
       "      <th>mean_absolute_error</th>\n",
       "      <th>accuracy</th>\n",
       "      <th>val_loss</th>\n",
       "      <th>val_mean_absolute_error</th>\n",
       "      <th>val_accuracy</th>\n",
       "    </tr>\n",
       "  </thead>\n",
       "  <tbody>\n",
       "    <tr>\n",
       "      <th>0</th>\n",
       "      <td>NaN</td>\n",
       "      <td>NaN</td>\n",
       "      <td>0.008724</td>\n",
       "      <td>NaN</td>\n",
       "      <td>NaN</td>\n",
       "      <td>0.009784</td>\n",
       "    </tr>\n",
       "    <tr>\n",
       "      <th>1</th>\n",
       "      <td>NaN</td>\n",
       "      <td>NaN</td>\n",
       "      <td>0.008758</td>\n",
       "      <td>NaN</td>\n",
       "      <td>NaN</td>\n",
       "      <td>0.009784</td>\n",
       "    </tr>\n",
       "  </tbody>\n",
       "</table>\n",
       "</div>"
      ],
      "text/plain": [
       "   loss  mean_absolute_error  accuracy  val_loss  val_mean_absolute_error  \\\n",
       "0   NaN                  NaN  0.008724       NaN                      NaN   \n",
       "1   NaN                  NaN  0.008758       NaN                      NaN   \n",
       "\n",
       "   val_accuracy  \n",
       "0      0.009784  \n",
       "1      0.009784  "
      ]
     },
     "execution_count": 26,
     "metadata": {},
     "output_type": "execute_result"
    }
   ],
   "source": [
    "model_4 = build_model_4()\n",
    "early_stopping = tf.keras.callbacks.EarlyStopping(monitor='val_loss', patience=1, restore_best_weights=True)\n",
    "history_4 = model_4.fit(vectorized_text, y_train, epochs=5, batch_size=2, verbose=1, callbacks=[early_stopping], validation_data=(vectorized_text_val, y_val))\n",
    "pd.DataFrame(history_4.history)"
   ]
  },
  {
   "cell_type": "code",
   "execution_count": 27,
   "id": "9523fa12-b6ed-4299-93da-0d9008a2f22e",
   "metadata": {},
   "outputs": [],
   "source": [
    "model_4.save(\"model4.h5\")"
   ]
  },
  {
   "cell_type": "code",
   "execution_count": 38,
   "id": "7a454725-0dff-43ee-a44e-859e10eb3353",
   "metadata": {
    "tags": []
   },
   "outputs": [],
   "source": [
    "def build_model_4_tanh(max_tokens=10000, output_sequence_length=250, embedding_dim=16):\n",
    "    tf.keras.backend.clear_session()\n",
    "    tf.random.set_seed(0)\n",
    "    inputs = Input(shape=(output_sequence_length,))\n",
    "    \n",
    "    x = Embedding(input_dim=max_tokens, output_dim=embedding_dim, input_length=output_sequence_length)(inputs)\n",
    "    \n",
    "    x = layers.LSTM(32, activation='tanh')(x)\n",
    "    # x = layers.MaxPooling1D()(x)\n",
    "    \n",
    "    x = Dense(64, activation='tanh')(x)\n",
    "    x = Dense(32, activation='tanh')(x)\n",
    "\n",
    "    outputs = Dense(1)(x)\n",
    "    model = Model(inputs, outputs)\n",
    "    model.compile(optimizer='adam', loss='mean_squared_error', metrics=['mean_absolute_error','accuracy'])\n",
    "\n",
    "    return model"
   ]
  },
  {
   "cell_type": "code",
   "execution_count": 39,
   "id": "01017cff-f0b2-499b-83fb-27166ca16897",
   "metadata": {
    "tags": []
   },
   "outputs": [
    {
     "name": "stdout",
     "output_type": "stream",
     "text": [
      "Epoch 1/5\n"
     ]
    },
    {
     "name": "stderr",
     "output_type": "stream",
     "text": [
      "2024-07-29 17:23:55.153418: I tensorflow/core/common_runtime/executor.cc:1197] [/device:CPU:0] (DEBUG INFO) Executor start aborting (this does not indicate an error and you can ignore this message): INVALID_ARGUMENT: You must feed a value for placeholder tensor 'gradients/split_2_grad/concat/split_2/split_dim' with dtype int32\n",
      "\t [[{{node gradients/split_2_grad/concat/split_2/split_dim}}]]\n",
      "2024-07-29 17:23:55.155824: I tensorflow/core/common_runtime/executor.cc:1197] [/device:CPU:0] (DEBUG INFO) Executor start aborting (this does not indicate an error and you can ignore this message): INVALID_ARGUMENT: You must feed a value for placeholder tensor 'gradients/split_grad/concat/split/split_dim' with dtype int32\n",
      "\t [[{{node gradients/split_grad/concat/split/split_dim}}]]\n",
      "2024-07-29 17:23:55.157104: I tensorflow/core/common_runtime/executor.cc:1197] [/device:CPU:0] (DEBUG INFO) Executor start aborting (this does not indicate an error and you can ignore this message): INVALID_ARGUMENT: You must feed a value for placeholder tensor 'gradients/split_1_grad/concat/split_1/split_dim' with dtype int32\n",
      "\t [[{{node gradients/split_1_grad/concat/split_1/split_dim}}]]\n",
      "2024-07-29 17:23:55.469358: I tensorflow/core/common_runtime/executor.cc:1197] [/device:CPU:0] (DEBUG INFO) Executor start aborting (this does not indicate an error and you can ignore this message): INVALID_ARGUMENT: You must feed a value for placeholder tensor 'gradients/split_2_grad/concat/split_2/split_dim' with dtype int32\n",
      "\t [[{{node gradients/split_2_grad/concat/split_2/split_dim}}]]\n",
      "2024-07-29 17:23:55.471381: I tensorflow/core/common_runtime/executor.cc:1197] [/device:CPU:0] (DEBUG INFO) Executor start aborting (this does not indicate an error and you can ignore this message): INVALID_ARGUMENT: You must feed a value for placeholder tensor 'gradients/split_grad/concat/split/split_dim' with dtype int32\n",
      "\t [[{{node gradients/split_grad/concat/split/split_dim}}]]\n",
      "2024-07-29 17:23:55.472782: I tensorflow/core/common_runtime/executor.cc:1197] [/device:CPU:0] (DEBUG INFO) Executor start aborting (this does not indicate an error and you can ignore this message): INVALID_ARGUMENT: You must feed a value for placeholder tensor 'gradients/split_1_grad/concat/split_1/split_dim' with dtype int32\n",
      "\t [[{{node gradients/split_1_grad/concat/split_1/split_dim}}]]\n",
      "2024-07-29 17:23:56.157061: I tensorflow/core/common_runtime/executor.cc:1197] [/device:CPU:0] (DEBUG INFO) Executor start aborting (this does not indicate an error and you can ignore this message): INVALID_ARGUMENT: You must feed a value for placeholder tensor 'gradients/split_2_grad/concat/split_2/split_dim' with dtype int32\n",
      "\t [[{{node gradients/split_2_grad/concat/split_2/split_dim}}]]\n",
      "2024-07-29 17:23:56.159712: I tensorflow/core/common_runtime/executor.cc:1197] [/device:CPU:0] (DEBUG INFO) Executor start aborting (this does not indicate an error and you can ignore this message): INVALID_ARGUMENT: You must feed a value for placeholder tensor 'gradients/split_grad/concat/split/split_dim' with dtype int32\n",
      "\t [[{{node gradients/split_grad/concat/split/split_dim}}]]\n",
      "2024-07-29 17:23:56.161386: I tensorflow/core/common_runtime/executor.cc:1197] [/device:CPU:0] (DEBUG INFO) Executor start aborting (this does not indicate an error and you can ignore this message): INVALID_ARGUMENT: You must feed a value for placeholder tensor 'gradients/split_1_grad/concat/split_1/split_dim' with dtype int32\n",
      "\t [[{{node gradients/split_1_grad/concat/split_1/split_dim}}]]\n"
     ]
    },
    {
     "name": "stdout",
     "output_type": "stream",
     "text": [
      "14787/14787 [==============================] - ETA: 0s - loss: 3386512.0000 - mean_absolute_error: 151.2841 - accuracy: 0.0231"
     ]
    },
    {
     "name": "stderr",
     "output_type": "stream",
     "text": [
      "2024-07-29 18:22:35.366543: I tensorflow/core/common_runtime/executor.cc:1197] [/device:CPU:0] (DEBUG INFO) Executor start aborting (this does not indicate an error and you can ignore this message): INVALID_ARGUMENT: You must feed a value for placeholder tensor 'gradients/split_2_grad/concat/split_2/split_dim' with dtype int32\n",
      "\t [[{{node gradients/split_2_grad/concat/split_2/split_dim}}]]\n",
      "2024-07-29 18:22:35.369524: I tensorflow/core/common_runtime/executor.cc:1197] [/device:CPU:0] (DEBUG INFO) Executor start aborting (this does not indicate an error and you can ignore this message): INVALID_ARGUMENT: You must feed a value for placeholder tensor 'gradients/split_grad/concat/split/split_dim' with dtype int32\n",
      "\t [[{{node gradients/split_grad/concat/split/split_dim}}]]\n",
      "2024-07-29 18:22:35.371646: I tensorflow/core/common_runtime/executor.cc:1197] [/device:CPU:0] (DEBUG INFO) Executor start aborting (this does not indicate an error and you can ignore this message): INVALID_ARGUMENT: You must feed a value for placeholder tensor 'gradients/split_1_grad/concat/split_1/split_dim' with dtype int32\n",
      "\t [[{{node gradients/split_1_grad/concat/split_1/split_dim}}]]\n"
     ]
    },
    {
     "name": "stdout",
     "output_type": "stream",
     "text": [
      "14787/14787 [==============================] - 3722s 252ms/step - loss: 3386512.0000 - mean_absolute_error: 151.2841 - accuracy: 0.0231 - val_loss: 2474658.0000 - val_mean_absolute_error: 176.0317 - val_accuracy: 0.0229\n",
      "Epoch 2/5\n",
      "14787/14787 [==============================] - 3681s 249ms/step - loss: 3378709.0000 - mean_absolute_error: 170.9912 - accuracy: 0.0231 - val_loss: 2468527.5000 - val_mean_absolute_error: 195.7875 - val_accuracy: 0.0229\n",
      "Epoch 3/5\n",
      "14787/14787 [==============================] - 3692s 250ms/step - loss: 3375091.2500 - mean_absolute_error: 188.8635 - accuracy: 0.0231 - val_loss: 2465765.2500 - val_mean_absolute_error: 209.0116 - val_accuracy: 0.0229\n",
      "Epoch 4/5\n",
      "14787/14787 [==============================] - 3727s 252ms/step - loss: 3373447.2500 - mean_absolute_error: 199.2385 - accuracy: 0.0231 - val_loss: 2464347.0000 - val_mean_absolute_error: 217.9396 - val_accuracy: 0.0229\n",
      "Epoch 5/5\n",
      "14787/14787 [==============================] - 3729s 252ms/step - loss: 3372651.5000 - mean_absolute_error: 208.3187 - accuracy: 0.0231 - val_loss: 2463587.0000 - val_mean_absolute_error: 223.8243 - val_accuracy: 0.0229\n"
     ]
    },
    {
     "data": {
      "text/html": [
       "<div>\n",
       "<style scoped>\n",
       "    .dataframe tbody tr th:only-of-type {\n",
       "        vertical-align: middle;\n",
       "    }\n",
       "\n",
       "    .dataframe tbody tr th {\n",
       "        vertical-align: top;\n",
       "    }\n",
       "\n",
       "    .dataframe thead th {\n",
       "        text-align: right;\n",
       "    }\n",
       "</style>\n",
       "<table border=\"1\" class=\"dataframe\">\n",
       "  <thead>\n",
       "    <tr style=\"text-align: right;\">\n",
       "      <th></th>\n",
       "      <th>loss</th>\n",
       "      <th>mean_absolute_error</th>\n",
       "      <th>accuracy</th>\n",
       "      <th>val_loss</th>\n",
       "      <th>val_mean_absolute_error</th>\n",
       "      <th>val_accuracy</th>\n",
       "    </tr>\n",
       "  </thead>\n",
       "  <tbody>\n",
       "    <tr>\n",
       "      <th>0</th>\n",
       "      <td>3386512.00</td>\n",
       "      <td>151.284119</td>\n",
       "      <td>0.023061</td>\n",
       "      <td>2474658.00</td>\n",
       "      <td>176.031723</td>\n",
       "      <td>0.022881</td>\n",
       "    </tr>\n",
       "    <tr>\n",
       "      <th>1</th>\n",
       "      <td>3378709.00</td>\n",
       "      <td>170.991241</td>\n",
       "      <td>0.023095</td>\n",
       "      <td>2468527.50</td>\n",
       "      <td>195.787537</td>\n",
       "      <td>0.022881</td>\n",
       "    </tr>\n",
       "    <tr>\n",
       "      <th>2</th>\n",
       "      <td>3375091.25</td>\n",
       "      <td>188.863541</td>\n",
       "      <td>0.023095</td>\n",
       "      <td>2465765.25</td>\n",
       "      <td>209.011566</td>\n",
       "      <td>0.022881</td>\n",
       "    </tr>\n",
       "    <tr>\n",
       "      <th>3</th>\n",
       "      <td>3373447.25</td>\n",
       "      <td>199.238480</td>\n",
       "      <td>0.023095</td>\n",
       "      <td>2464347.00</td>\n",
       "      <td>217.939560</td>\n",
       "      <td>0.022881</td>\n",
       "    </tr>\n",
       "    <tr>\n",
       "      <th>4</th>\n",
       "      <td>3372651.50</td>\n",
       "      <td>208.318726</td>\n",
       "      <td>0.023095</td>\n",
       "      <td>2463587.00</td>\n",
       "      <td>223.824326</td>\n",
       "      <td>0.022881</td>\n",
       "    </tr>\n",
       "  </tbody>\n",
       "</table>\n",
       "</div>"
      ],
      "text/plain": [
       "         loss  mean_absolute_error  accuracy    val_loss  \\\n",
       "0  3386512.00           151.284119  0.023061  2474658.00   \n",
       "1  3378709.00           170.991241  0.023095  2468527.50   \n",
       "2  3375091.25           188.863541  0.023095  2465765.25   \n",
       "3  3373447.25           199.238480  0.023095  2464347.00   \n",
       "4  3372651.50           208.318726  0.023095  2463587.00   \n",
       "\n",
       "   val_mean_absolute_error  val_accuracy  \n",
       "0               176.031723      0.022881  \n",
       "1               195.787537      0.022881  \n",
       "2               209.011566      0.022881  \n",
       "3               217.939560      0.022881  \n",
       "4               223.824326      0.022881  "
      ]
     },
     "execution_count": 39,
     "metadata": {},
     "output_type": "execute_result"
    }
   ],
   "source": [
    "model_4_tanh = build_model_4_tanh()\n",
    "early_stopping = tf.keras.callbacks.EarlyStopping(monitor='val_loss', patience=1, restore_best_weights=True)\n",
    "history_4_tanh = model_4_tanh.fit(vectorized_text, y_train, epochs=5, batch_size=2, verbose=1, callbacks=[early_stopping], validation_data=(vectorized_text_val, y_val))\n",
    "pd.DataFrame(history_4_tanh.history)"
   ]
  },
  {
   "cell_type": "code",
   "execution_count": 40,
   "id": "fbb9a8a2-b0cb-4e04-bf91-c7335adafdc9",
   "metadata": {
    "tags": []
   },
   "outputs": [],
   "source": [
    "model_4_tanh.save(\"model4_tanh.h5\")"
   ]
  },
  {
   "cell_type": "markdown",
   "id": "2be6b5c2-d31e-4cac-baf9-fad6d1b102e6",
   "metadata": {
    "jp-MarkdownHeadingCollapsed": true,
    "tags": []
   },
   "source": [
    "# Model 5: TextVectorization Layer, Bi-Directional LSTM RNN Embedding Model, Two Hidden Dense Layers (64, 32)"
   ]
  },
  {
   "cell_type": "code",
   "execution_count": 28,
   "id": "8aee0607-4d43-4c66-8b6f-43cc057ad931",
   "metadata": {
    "tags": []
   },
   "outputs": [],
   "source": [
    "X_train, y_train, X_val, y_val = read_files()"
   ]
  },
  {
   "cell_type": "code",
   "execution_count": 29,
   "id": "55470828-37ca-47b0-bd7c-783c3182887f",
   "metadata": {
    "tags": []
   },
   "outputs": [],
   "source": [
    "def build_model_5(max_tokens=10000, output_sequence_length=250, embedding_dim=16):\n",
    "    tf.keras.backend.clear_session()\n",
    "    tf.random.set_seed(0)\n",
    "    inputs = Input(shape=(output_sequence_length,))\n",
    "    \n",
    "    x = Embedding(input_dim=max_tokens, output_dim=embedding_dim, input_length=output_sequence_length)(inputs)\n",
    "    \n",
    "    x = Bidirectional(LSTM(32, activation='relu'))(x)\n",
    "    # x = layers.MaxPooling1D()(x)\n",
    "    \n",
    "    x = Dense(64, activation='relu')(x)\n",
    "    x = Dense(32, activation='relu')(x)\n",
    "\n",
    "    outputs = Dense(1)(x)\n",
    "    model = Model(inputs, outputs)\n",
    "    model.compile(optimizer='adam', loss='mean_squared_error', metrics=['mean_absolute_error','accuracy'])\n",
    "    \n",
    "    return model"
   ]
  },
  {
   "cell_type": "code",
   "execution_count": 30,
   "id": "352203d4-3687-4d29-8953-59a376fa9e35",
   "metadata": {
    "tags": []
   },
   "outputs": [
    {
     "name": "stdout",
     "output_type": "stream",
     "text": [
      "Epoch 1/5\n",
      "14787/14787 [==============================] - 5422s 367ms/step - loss: nan - mean_absolute_error: nan - accuracy: 0.0088 - val_loss: nan - val_mean_absolute_error: nan - val_accuracy: 0.0098\n",
      "Epoch 2/5\n",
      "14787/14787 [==============================] - 8753s 592ms/step - loss: nan - mean_absolute_error: nan - accuracy: 0.0088 - val_loss: nan - val_mean_absolute_error: nan - val_accuracy: 0.0098\n"
     ]
    },
    {
     "data": {
      "text/html": [
       "<div>\n",
       "<style scoped>\n",
       "    .dataframe tbody tr th:only-of-type {\n",
       "        vertical-align: middle;\n",
       "    }\n",
       "\n",
       "    .dataframe tbody tr th {\n",
       "        vertical-align: top;\n",
       "    }\n",
       "\n",
       "    .dataframe thead th {\n",
       "        text-align: right;\n",
       "    }\n",
       "</style>\n",
       "<table border=\"1\" class=\"dataframe\">\n",
       "  <thead>\n",
       "    <tr style=\"text-align: right;\">\n",
       "      <th></th>\n",
       "      <th>loss</th>\n",
       "      <th>mean_absolute_error</th>\n",
       "      <th>accuracy</th>\n",
       "      <th>val_loss</th>\n",
       "      <th>val_mean_absolute_error</th>\n",
       "      <th>val_accuracy</th>\n",
       "    </tr>\n",
       "  </thead>\n",
       "  <tbody>\n",
       "    <tr>\n",
       "      <th>0</th>\n",
       "      <td>NaN</td>\n",
       "      <td>NaN</td>\n",
       "      <td>0.008792</td>\n",
       "      <td>NaN</td>\n",
       "      <td>NaN</td>\n",
       "      <td>0.009784</td>\n",
       "    </tr>\n",
       "    <tr>\n",
       "      <th>1</th>\n",
       "      <td>NaN</td>\n",
       "      <td>NaN</td>\n",
       "      <td>0.008758</td>\n",
       "      <td>NaN</td>\n",
       "      <td>NaN</td>\n",
       "      <td>0.009784</td>\n",
       "    </tr>\n",
       "  </tbody>\n",
       "</table>\n",
       "</div>"
      ],
      "text/plain": [
       "   loss  mean_absolute_error  accuracy  val_loss  val_mean_absolute_error  \\\n",
       "0   NaN                  NaN  0.008792       NaN                      NaN   \n",
       "1   NaN                  NaN  0.008758       NaN                      NaN   \n",
       "\n",
       "   val_accuracy  \n",
       "0      0.009784  \n",
       "1      0.009784  "
      ]
     },
     "execution_count": 30,
     "metadata": {},
     "output_type": "execute_result"
    }
   ],
   "source": [
    "model_5 = build_model_5()\n",
    "early_stopping = tf.keras.callbacks.EarlyStopping(monitor='val_loss', patience=1, restore_best_weights=True)\n",
    "history_5 = model_5.fit(vectorized_text, y_train, epochs=5, batch_size=2, verbose=1, callbacks=[early_stopping], validation_data=(vectorized_text_val, y_val))\n",
    "pd.DataFrame(history_5.history)"
   ]
  },
  {
   "cell_type": "code",
   "execution_count": 31,
   "id": "5497cac1-d54c-4c4f-b0c8-03cfb09ca959",
   "metadata": {},
   "outputs": [],
   "source": [
    "model_5.save(\"model5.h5\")"
   ]
  },
  {
   "cell_type": "code",
   "execution_count": 45,
   "id": "2fef2e84-17ea-41ea-ba50-215aa09a77cf",
   "metadata": {
    "tags": []
   },
   "outputs": [],
   "source": [
    "def build_model_5_tanh(max_tokens=10000, output_sequence_length=250, embedding_dim=16):\n",
    "    tf.keras.backend.clear_session()\n",
    "    tf.random.set_seed(0)\n",
    "    inputs = Input(shape=(output_sequence_length,))\n",
    "    x = Embedding(input_dim=max_tokens, output_dim=embedding_dim, input_length=output_sequence_length)(inputs)\n",
    "    \n",
    "    x = Bidirectional(LSTM(32, activation='tanh'))(x)\n",
    "    # x = layers.MaxPooling1D()(x)\n",
    "    \n",
    "    x = Dense(64, activation='tanh')(x)\n",
    "    x = Dense(32, activation='tanh')(x)\n",
    "    x = Dropout(0.5)(x)\n",
    "    outputs = Dense(1)(x)\n",
    "    model = Model(inputs, outputs)\n",
    "    model.compile(optimizer='adam', loss='mean_squared_error', metrics=['mean_absolute_error','accuracy'])\n",
    "    \n",
    "    return model"
   ]
  },
  {
   "cell_type": "code",
   "execution_count": 46,
   "id": "3986b6a4-e70f-4d1f-afaa-3a4bda3a6c6d",
   "metadata": {
    "tags": []
   },
   "outputs": [
    {
     "name": "stderr",
     "output_type": "stream",
     "text": [
      "2024-07-30 07:27:20.485222: I tensorflow/core/common_runtime/executor.cc:1197] [/device:CPU:0] (DEBUG INFO) Executor start aborting (this does not indicate an error and you can ignore this message): INVALID_ARGUMENT: You must feed a value for placeholder tensor 'gradients/split_2_grad/concat/split_2/split_dim' with dtype int32\n",
      "\t [[{{node gradients/split_2_grad/concat/split_2/split_dim}}]]\n",
      "2024-07-30 07:27:20.489091: I tensorflow/core/common_runtime/executor.cc:1197] [/device:CPU:0] (DEBUG INFO) Executor start aborting (this does not indicate an error and you can ignore this message): INVALID_ARGUMENT: You must feed a value for placeholder tensor 'gradients/split_grad/concat/split/split_dim' with dtype int32\n",
      "\t [[{{node gradients/split_grad/concat/split/split_dim}}]]\n",
      "2024-07-30 07:27:20.492208: I tensorflow/core/common_runtime/executor.cc:1197] [/device:CPU:0] (DEBUG INFO) Executor start aborting (this does not indicate an error and you can ignore this message): INVALID_ARGUMENT: You must feed a value for placeholder tensor 'gradients/split_1_grad/concat/split_1/split_dim' with dtype int32\n",
      "\t [[{{node gradients/split_1_grad/concat/split_1/split_dim}}]]\n",
      "2024-07-30 07:27:20.738718: I tensorflow/core/common_runtime/executor.cc:1197] [/device:CPU:0] (DEBUG INFO) Executor start aborting (this does not indicate an error and you can ignore this message): INVALID_ARGUMENT: You must feed a value for placeholder tensor 'gradients/ReverseV2_grad/ReverseV2/ReverseV2/axis' with dtype int32 and shape [1]\n",
      "\t [[{{node gradients/ReverseV2_grad/ReverseV2/ReverseV2/axis}}]]\n",
      "2024-07-30 07:27:20.815954: I tensorflow/core/common_runtime/executor.cc:1197] [/device:CPU:0] (DEBUG INFO) Executor start aborting (this does not indicate an error and you can ignore this message): INVALID_ARGUMENT: You must feed a value for placeholder tensor 'gradients/split_2_grad/concat/split_2/split_dim' with dtype int32\n",
      "\t [[{{node gradients/split_2_grad/concat/split_2/split_dim}}]]\n",
      "2024-07-30 07:27:20.818109: I tensorflow/core/common_runtime/executor.cc:1197] [/device:CPU:0] (DEBUG INFO) Executor start aborting (this does not indicate an error and you can ignore this message): INVALID_ARGUMENT: You must feed a value for placeholder tensor 'gradients/split_grad/concat/split/split_dim' with dtype int32\n",
      "\t [[{{node gradients/split_grad/concat/split/split_dim}}]]\n",
      "2024-07-30 07:27:20.820050: I tensorflow/core/common_runtime/executor.cc:1197] [/device:CPU:0] (DEBUG INFO) Executor start aborting (this does not indicate an error and you can ignore this message): INVALID_ARGUMENT: You must feed a value for placeholder tensor 'gradients/split_1_grad/concat/split_1/split_dim' with dtype int32\n",
      "\t [[{{node gradients/split_1_grad/concat/split_1/split_dim}}]]\n"
     ]
    },
    {
     "name": "stdout",
     "output_type": "stream",
     "text": [
      "Epoch 1/5\n"
     ]
    },
    {
     "name": "stderr",
     "output_type": "stream",
     "text": [
      "2024-07-30 07:27:21.613308: I tensorflow/core/common_runtime/executor.cc:1197] [/device:CPU:0] (DEBUG INFO) Executor start aborting (this does not indicate an error and you can ignore this message): INVALID_ARGUMENT: You must feed a value for placeholder tensor 'gradients/split_2_grad/concat/split_2/split_dim' with dtype int32\n",
      "\t [[{{node gradients/split_2_grad/concat/split_2/split_dim}}]]\n",
      "2024-07-30 07:27:21.617623: I tensorflow/core/common_runtime/executor.cc:1197] [/device:CPU:0] (DEBUG INFO) Executor start aborting (this does not indicate an error and you can ignore this message): INVALID_ARGUMENT: You must feed a value for placeholder tensor 'gradients/split_grad/concat/split/split_dim' with dtype int32\n",
      "\t [[{{node gradients/split_grad/concat/split/split_dim}}]]\n",
      "2024-07-30 07:27:21.620539: I tensorflow/core/common_runtime/executor.cc:1197] [/device:CPU:0] (DEBUG INFO) Executor start aborting (this does not indicate an error and you can ignore this message): INVALID_ARGUMENT: You must feed a value for placeholder tensor 'gradients/split_1_grad/concat/split_1/split_dim' with dtype int32\n",
      "\t [[{{node gradients/split_1_grad/concat/split_1/split_dim}}]]\n",
      "2024-07-30 07:27:21.968783: I tensorflow/core/common_runtime/executor.cc:1197] [/device:CPU:0] (DEBUG INFO) Executor start aborting (this does not indicate an error and you can ignore this message): INVALID_ARGUMENT: You must feed a value for placeholder tensor 'gradients/ReverseV2_grad/ReverseV2/ReverseV2/axis' with dtype int32 and shape [1]\n",
      "\t [[{{node gradients/ReverseV2_grad/ReverseV2/ReverseV2/axis}}]]\n",
      "2024-07-30 07:27:22.310572: I tensorflow/core/common_runtime/executor.cc:1197] [/device:CPU:0] (DEBUG INFO) Executor start aborting (this does not indicate an error and you can ignore this message): INVALID_ARGUMENT: You must feed a value for placeholder tensor 'gradients/split_2_grad/concat/split_2/split_dim' with dtype int32\n",
      "\t [[{{node gradients/split_2_grad/concat/split_2/split_dim}}]]\n",
      "2024-07-30 07:27:22.319755: I tensorflow/core/common_runtime/executor.cc:1197] [/device:CPU:0] (DEBUG INFO) Executor start aborting (this does not indicate an error and you can ignore this message): INVALID_ARGUMENT: You must feed a value for placeholder tensor 'gradients/split_grad/concat/split/split_dim' with dtype int32\n",
      "\t [[{{node gradients/split_grad/concat/split/split_dim}}]]\n",
      "2024-07-30 07:27:22.326031: I tensorflow/core/common_runtime/executor.cc:1197] [/device:CPU:0] (DEBUG INFO) Executor start aborting (this does not indicate an error and you can ignore this message): INVALID_ARGUMENT: You must feed a value for placeholder tensor 'gradients/split_1_grad/concat/split_1/split_dim' with dtype int32\n",
      "\t [[{{node gradients/split_1_grad/concat/split_1/split_dim}}]]\n",
      "2024-07-30 07:27:23.948873: I tensorflow/core/common_runtime/executor.cc:1197] [/device:CPU:0] (DEBUG INFO) Executor start aborting (this does not indicate an error and you can ignore this message): INVALID_ARGUMENT: You must feed a value for placeholder tensor 'gradients/ReverseV2_grad/ReverseV2/ReverseV2/axis' with dtype int32 and shape [1]\n",
      "\t [[{{node gradients/ReverseV2_grad/ReverseV2/ReverseV2/axis}}]]\n",
      "2024-07-30 07:27:28.518336: I tensorflow/core/common_runtime/executor.cc:1197] [/device:CPU:0] (DEBUG INFO) Executor start aborting (this does not indicate an error and you can ignore this message): INVALID_ARGUMENT: You must feed a value for placeholder tensor 'gradients/split_2_grad/concat/split_2/split_dim' with dtype int32\n",
      "\t [[{{node gradients/split_2_grad/concat/split_2/split_dim}}]]\n",
      "2024-07-30 07:27:28.531276: I tensorflow/core/common_runtime/executor.cc:1197] [/device:CPU:0] (DEBUG INFO) Executor start aborting (this does not indicate an error and you can ignore this message): INVALID_ARGUMENT: You must feed a value for placeholder tensor 'gradients/split_grad/concat/split/split_dim' with dtype int32\n",
      "\t [[{{node gradients/split_grad/concat/split/split_dim}}]]\n",
      "2024-07-30 07:27:28.537867: I tensorflow/core/common_runtime/executor.cc:1197] [/device:CPU:0] (DEBUG INFO) Executor start aborting (this does not indicate an error and you can ignore this message): INVALID_ARGUMENT: You must feed a value for placeholder tensor 'gradients/split_1_grad/concat/split_1/split_dim' with dtype int32\n",
      "\t [[{{node gradients/split_1_grad/concat/split_1/split_dim}}]]\n",
      "2024-07-30 07:27:29.139553: I tensorflow/core/common_runtime/executor.cc:1197] [/device:CPU:0] (DEBUG INFO) Executor start aborting (this does not indicate an error and you can ignore this message): INVALID_ARGUMENT: You must feed a value for placeholder tensor 'gradients/ReverseV2_grad/ReverseV2/ReverseV2/axis' with dtype int32 and shape [1]\n",
      "\t [[{{node gradients/ReverseV2_grad/ReverseV2/ReverseV2/axis}}]]\n",
      "2024-07-30 07:27:29.461076: I tensorflow/core/common_runtime/executor.cc:1197] [/device:CPU:0] (DEBUG INFO) Executor start aborting (this does not indicate an error and you can ignore this message): INVALID_ARGUMENT: You must feed a value for placeholder tensor 'gradients/split_2_grad/concat/split_2/split_dim' with dtype int32\n",
      "\t [[{{node gradients/split_2_grad/concat/split_2/split_dim}}]]\n",
      "2024-07-30 07:27:29.468728: I tensorflow/core/common_runtime/executor.cc:1197] [/device:CPU:0] (DEBUG INFO) Executor start aborting (this does not indicate an error and you can ignore this message): INVALID_ARGUMENT: You must feed a value for placeholder tensor 'gradients/split_grad/concat/split/split_dim' with dtype int32\n",
      "\t [[{{node gradients/split_grad/concat/split/split_dim}}]]\n",
      "2024-07-30 07:27:29.472929: I tensorflow/core/common_runtime/executor.cc:1197] [/device:CPU:0] (DEBUG INFO) Executor start aborting (this does not indicate an error and you can ignore this message): INVALID_ARGUMENT: You must feed a value for placeholder tensor 'gradients/split_1_grad/concat/split_1/split_dim' with dtype int32\n",
      "\t [[{{node gradients/split_1_grad/concat/split_1/split_dim}}]]\n",
      "2024-07-30 07:27:30.524584: I tensorflow/core/common_runtime/executor.cc:1197] [/device:CPU:0] (DEBUG INFO) Executor start aborting (this does not indicate an error and you can ignore this message): INVALID_ARGUMENT: You must feed a value for placeholder tensor 'gradients/ReverseV2_grad/ReverseV2/ReverseV2/axis' with dtype int32 and shape [1]\n",
      "\t [[{{node gradients/ReverseV2_grad/ReverseV2/ReverseV2/axis}}]]\n"
     ]
    },
    {
     "name": "stdout",
     "output_type": "stream",
     "text": [
      "14787/14787 [==============================] - ETA: 0s - loss: 3387469.2500 - mean_absolute_error: 149.3703 - accuracy: 0.0231"
     ]
    },
    {
     "name": "stderr",
     "output_type": "stream",
     "text": [
      "2024-07-30 09:00:28.890732: I tensorflow/core/common_runtime/executor.cc:1197] [/device:CPU:0] (DEBUG INFO) Executor start aborting (this does not indicate an error and you can ignore this message): INVALID_ARGUMENT: You must feed a value for placeholder tensor 'gradients/split_2_grad/concat/split_2/split_dim' with dtype int32\n",
      "\t [[{{node gradients/split_2_grad/concat/split_2/split_dim}}]]\n",
      "2024-07-30 09:00:28.894690: I tensorflow/core/common_runtime/executor.cc:1197] [/device:CPU:0] (DEBUG INFO) Executor start aborting (this does not indicate an error and you can ignore this message): INVALID_ARGUMENT: You must feed a value for placeholder tensor 'gradients/split_grad/concat/split/split_dim' with dtype int32\n",
      "\t [[{{node gradients/split_grad/concat/split/split_dim}}]]\n",
      "2024-07-30 09:00:28.898878: I tensorflow/core/common_runtime/executor.cc:1197] [/device:CPU:0] (DEBUG INFO) Executor start aborting (this does not indicate an error and you can ignore this message): INVALID_ARGUMENT: You must feed a value for placeholder tensor 'gradients/split_1_grad/concat/split_1/split_dim' with dtype int32\n",
      "\t [[{{node gradients/split_1_grad/concat/split_1/split_dim}}]]\n",
      "2024-07-30 09:00:29.139997: I tensorflow/core/common_runtime/executor.cc:1197] [/device:CPU:0] (DEBUG INFO) Executor start aborting (this does not indicate an error and you can ignore this message): INVALID_ARGUMENT: You must feed a value for placeholder tensor 'gradients/ReverseV2_grad/ReverseV2/ReverseV2/axis' with dtype int32 and shape [1]\n",
      "\t [[{{node gradients/ReverseV2_grad/ReverseV2/ReverseV2/axis}}]]\n",
      "2024-07-30 09:00:29.243295: I tensorflow/core/common_runtime/executor.cc:1197] [/device:CPU:0] (DEBUG INFO) Executor start aborting (this does not indicate an error and you can ignore this message): INVALID_ARGUMENT: You must feed a value for placeholder tensor 'gradients/split_2_grad/concat/split_2/split_dim' with dtype int32\n",
      "\t [[{{node gradients/split_2_grad/concat/split_2/split_dim}}]]\n",
      "2024-07-30 09:00:29.246194: I tensorflow/core/common_runtime/executor.cc:1197] [/device:CPU:0] (DEBUG INFO) Executor start aborting (this does not indicate an error and you can ignore this message): INVALID_ARGUMENT: You must feed a value for placeholder tensor 'gradients/split_grad/concat/split/split_dim' with dtype int32\n",
      "\t [[{{node gradients/split_grad/concat/split/split_dim}}]]\n",
      "2024-07-30 09:00:29.248824: I tensorflow/core/common_runtime/executor.cc:1197] [/device:CPU:0] (DEBUG INFO) Executor start aborting (this does not indicate an error and you can ignore this message): INVALID_ARGUMENT: You must feed a value for placeholder tensor 'gradients/split_1_grad/concat/split_1/split_dim' with dtype int32\n",
      "\t [[{{node gradients/split_1_grad/concat/split_1/split_dim}}]]\n"
     ]
    },
    {
     "name": "stdout",
     "output_type": "stream",
     "text": [
      "14787/14787 [==============================] - 6031s 407ms/step - loss: 3387469.2500 - mean_absolute_error: 149.3703 - accuracy: 0.0231 - val_loss: 2477051.7500 - val_mean_absolute_error: 170.6082 - val_accuracy: 0.0229\n",
      "Epoch 2/5\n",
      "14787/14787 [==============================] - 5521s 373ms/step - loss: 3381214.2500 - mean_absolute_error: 163.5030 - accuracy: 0.0231 - val_loss: 2471167.7500 - val_mean_absolute_error: 186.0786 - val_accuracy: 0.0229\n",
      "Epoch 3/5\n",
      "14787/14787 [==============================] - 5534s 374ms/step - loss: 3377568.0000 - mean_absolute_error: 178.1383 - accuracy: 0.0231 - val_loss: 2468094.0000 - val_mean_absolute_error: 197.6012 - val_accuracy: 0.0229\n",
      "Epoch 4/5\n",
      "14787/14787 [==============================] - 5550s 375ms/step - loss: 3375999.2500 - mean_absolute_error: 187.7027 - accuracy: 0.0231 - val_loss: 2466325.2500 - val_mean_absolute_error: 205.9690 - val_accuracy: 0.0229\n",
      "Epoch 5/5\n",
      "14787/14787 [==============================] - 5468s 370ms/step - loss: 3374496.7500 - mean_absolute_error: 195.9130 - accuracy: 0.0231 - val_loss: 2465304.7500 - val_mean_absolute_error: 211.7020 - val_accuracy: 0.0229\n"
     ]
    },
    {
     "data": {
      "text/html": [
       "<div>\n",
       "<style scoped>\n",
       "    .dataframe tbody tr th:only-of-type {\n",
       "        vertical-align: middle;\n",
       "    }\n",
       "\n",
       "    .dataframe tbody tr th {\n",
       "        vertical-align: top;\n",
       "    }\n",
       "\n",
       "    .dataframe thead th {\n",
       "        text-align: right;\n",
       "    }\n",
       "</style>\n",
       "<table border=\"1\" class=\"dataframe\">\n",
       "  <thead>\n",
       "    <tr style=\"text-align: right;\">\n",
       "      <th></th>\n",
       "      <th>loss</th>\n",
       "      <th>mean_absolute_error</th>\n",
       "      <th>accuracy</th>\n",
       "      <th>val_loss</th>\n",
       "      <th>val_mean_absolute_error</th>\n",
       "      <th>val_accuracy</th>\n",
       "    </tr>\n",
       "  </thead>\n",
       "  <tbody>\n",
       "    <tr>\n",
       "      <th>0</th>\n",
       "      <td>3387469.25</td>\n",
       "      <td>149.370346</td>\n",
       "      <td>0.023061</td>\n",
       "      <td>2477051.75</td>\n",
       "      <td>170.608170</td>\n",
       "      <td>0.022881</td>\n",
       "    </tr>\n",
       "    <tr>\n",
       "      <th>1</th>\n",
       "      <td>3381214.25</td>\n",
       "      <td>163.502960</td>\n",
       "      <td>0.023095</td>\n",
       "      <td>2471167.75</td>\n",
       "      <td>186.078568</td>\n",
       "      <td>0.022881</td>\n",
       "    </tr>\n",
       "    <tr>\n",
       "      <th>2</th>\n",
       "      <td>3377568.00</td>\n",
       "      <td>178.138260</td>\n",
       "      <td>0.023095</td>\n",
       "      <td>2468094.00</td>\n",
       "      <td>197.601196</td>\n",
       "      <td>0.022881</td>\n",
       "    </tr>\n",
       "    <tr>\n",
       "      <th>3</th>\n",
       "      <td>3375999.25</td>\n",
       "      <td>187.702682</td>\n",
       "      <td>0.023095</td>\n",
       "      <td>2466325.25</td>\n",
       "      <td>205.969009</td>\n",
       "      <td>0.022881</td>\n",
       "    </tr>\n",
       "    <tr>\n",
       "      <th>4</th>\n",
       "      <td>3374496.75</td>\n",
       "      <td>195.912979</td>\n",
       "      <td>0.023095</td>\n",
       "      <td>2465304.75</td>\n",
       "      <td>211.702026</td>\n",
       "      <td>0.022881</td>\n",
       "    </tr>\n",
       "  </tbody>\n",
       "</table>\n",
       "</div>"
      ],
      "text/plain": [
       "         loss  mean_absolute_error  accuracy    val_loss  \\\n",
       "0  3387469.25           149.370346  0.023061  2477051.75   \n",
       "1  3381214.25           163.502960  0.023095  2471167.75   \n",
       "2  3377568.00           178.138260  0.023095  2468094.00   \n",
       "3  3375999.25           187.702682  0.023095  2466325.25   \n",
       "4  3374496.75           195.912979  0.023095  2465304.75   \n",
       "\n",
       "   val_mean_absolute_error  val_accuracy  \n",
       "0               170.608170      0.022881  \n",
       "1               186.078568      0.022881  \n",
       "2               197.601196      0.022881  \n",
       "3               205.969009      0.022881  \n",
       "4               211.702026      0.022881  "
      ]
     },
     "execution_count": 46,
     "metadata": {},
     "output_type": "execute_result"
    }
   ],
   "source": [
    "model_5_tanh = build_model_5_tanh()\n",
    "early_stopping = tf.keras.callbacks.EarlyStopping(monitor='val_loss', patience=1, restore_best_weights=True)\n",
    "history_5_tanh = model_5_tanh.fit(vectorized_text, y_train, epochs=5, batch_size=2, verbose=1, callbacks=[early_stopping], validation_data=(vectorized_text_val, y_val))\n",
    "pd.DataFrame(history_5_tanh.history)"
   ]
  },
  {
   "cell_type": "code",
   "execution_count": 47,
   "id": "728e298f-2db8-409c-9a26-bcdf166ed821",
   "metadata": {
    "tags": []
   },
   "outputs": [],
   "source": [
    "model_5_tanh.save(\"model5_tanh.h5\")"
   ]
  },
  {
   "cell_type": "markdown",
   "id": "abd3b40e-ccea-44cd-88e4-fa75eb8fa89b",
   "metadata": {},
   "source": [
    "# Model Evaluations"
   ]
  },
  {
   "cell_type": "code",
   "execution_count": 113,
   "id": "d7adc8ec-9322-4a7e-9e78-8a14c0d27e7d",
   "metadata": {
    "tags": []
   },
   "outputs": [],
   "source": [
    "def validate_model(model, x_train, y_train, x_val, y_val, x_test, y_test):\n",
    "    train_loss_mse, train_mae, train_acc = model.evaluate(x_train, y_train, verbose=0)\n",
    "    val_loss_mse, val_mae, val_acc = model.evaluate(x_val, y_val, verbose=0)\n",
    "    test_loss_mse, test_mae, test_acc = model.evaluate(x_test, y_test, verbose=0)\n",
    "    \n",
    "    return {\n",
    "        \"train\": {\"mse\":train_loss_mse,\"mae\":train_mae,\"acc\":train_acc},\n",
    "        \"val\": {\"mse\":val_loss_mse,\"mae\":val_mae,\"acc\":val_acc},\n",
    "        \"test\": {\"mse\":test_loss_mse,\"mae\":test_mae,\"acc\":test_acc},\n",
    "    }"
   ]
  },
  {
   "cell_type": "code",
   "execution_count": 114,
   "id": "a2d5b7b8-316a-42fd-a640-6131d48a3f9d",
   "metadata": {
    "collapsed": true,
    "jupyter": {
     "outputs_hidden": true
    },
    "tags": []
   },
   "outputs": [
    {
     "name": "stderr",
     "output_type": "stream",
     "text": [
      "2024-07-30 19:16:14.067278: I tensorflow/core/common_runtime/executor.cc:1197] [/device:CPU:0] (DEBUG INFO) Executor start aborting (this does not indicate an error and you can ignore this message): INVALID_ARGUMENT: You must feed a value for placeholder tensor 'gradients/split_2_grad/concat/split_2/split_dim' with dtype int32\n",
      "\t [[{{node gradients/split_2_grad/concat/split_2/split_dim}}]]\n",
      "2024-07-30 19:16:14.070030: I tensorflow/core/common_runtime/executor.cc:1197] [/device:CPU:0] (DEBUG INFO) Executor start aborting (this does not indicate an error and you can ignore this message): INVALID_ARGUMENT: You must feed a value for placeholder tensor 'gradients/split_grad/concat/split/split_dim' with dtype int32\n",
      "\t [[{{node gradients/split_grad/concat/split/split_dim}}]]\n",
      "2024-07-30 19:16:14.071705: I tensorflow/core/common_runtime/executor.cc:1197] [/device:CPU:0] (DEBUG INFO) Executor start aborting (this does not indicate an error and you can ignore this message): INVALID_ARGUMENT: You must feed a value for placeholder tensor 'gradients/split_1_grad/concat/split_1/split_dim' with dtype int32\n",
      "\t [[{{node gradients/split_1_grad/concat/split_1/split_dim}}]]\n",
      "2024-07-30 19:16:14.463751: I tensorflow/core/common_runtime/executor.cc:1197] [/device:CPU:0] (DEBUG INFO) Executor start aborting (this does not indicate an error and you can ignore this message): INVALID_ARGUMENT: You must feed a value for placeholder tensor 'gradients/split_2_grad/concat/split_2/split_dim' with dtype int32\n",
      "\t [[{{node gradients/split_2_grad/concat/split_2/split_dim}}]]\n",
      "2024-07-30 19:16:14.466137: I tensorflow/core/common_runtime/executor.cc:1197] [/device:CPU:0] (DEBUG INFO) Executor start aborting (this does not indicate an error and you can ignore this message): INVALID_ARGUMENT: You must feed a value for placeholder tensor 'gradients/split_grad/concat/split/split_dim' with dtype int32\n",
      "\t [[{{node gradients/split_grad/concat/split/split_dim}}]]\n",
      "2024-07-30 19:16:14.468370: I tensorflow/core/common_runtime/executor.cc:1197] [/device:CPU:0] (DEBUG INFO) Executor start aborting (this does not indicate an error and you can ignore this message): INVALID_ARGUMENT: You must feed a value for placeholder tensor 'gradients/split_1_grad/concat/split_1/split_dim' with dtype int32\n",
      "\t [[{{node gradients/split_1_grad/concat/split_1/split_dim}}]]\n",
      "2024-07-30 19:16:14.684838: I tensorflow/core/common_runtime/executor.cc:1197] [/device:CPU:0] (DEBUG INFO) Executor start aborting (this does not indicate an error and you can ignore this message): INVALID_ARGUMENT: You must feed a value for placeholder tensor 'gradients/ReverseV2_grad/ReverseV2/ReverseV2/axis' with dtype int32 and shape [1]\n",
      "\t [[{{node gradients/ReverseV2_grad/ReverseV2/ReverseV2/axis}}]]\n",
      "2024-07-30 19:16:14.759796: I tensorflow/core/common_runtime/executor.cc:1197] [/device:CPU:0] (DEBUG INFO) Executor start aborting (this does not indicate an error and you can ignore this message): INVALID_ARGUMENT: You must feed a value for placeholder tensor 'gradients/split_2_grad/concat/split_2/split_dim' with dtype int32\n",
      "\t [[{{node gradients/split_2_grad/concat/split_2/split_dim}}]]\n",
      "2024-07-30 19:16:14.761835: I tensorflow/core/common_runtime/executor.cc:1197] [/device:CPU:0] (DEBUG INFO) Executor start aborting (this does not indicate an error and you can ignore this message): INVALID_ARGUMENT: You must feed a value for placeholder tensor 'gradients/split_grad/concat/split/split_dim' with dtype int32\n",
      "\t [[{{node gradients/split_grad/concat/split/split_dim}}]]\n",
      "2024-07-30 19:16:14.763801: I tensorflow/core/common_runtime/executor.cc:1197] [/device:CPU:0] (DEBUG INFO) Executor start aborting (this does not indicate an error and you can ignore this message): INVALID_ARGUMENT: You must feed a value for placeholder tensor 'gradients/split_1_grad/concat/split_1/split_dim' with dtype int32\n",
      "\t [[{{node gradients/split_1_grad/concat/split_1/split_dim}}]]\n"
     ]
    }
   ],
   "source": [
    "model_2_saved = tf.keras.models.load_model('model2.h5')\n",
    "model_3_saved = tf.keras.models.load_model('model3.h5')\n",
    "model_3_dropout_saved = tf.keras.models.load_model('model3_dp.h5')\n",
    "model_4_tanh_saved = tf.keras.models.load_model('model4_tanh.h5')\n",
    "model_5_tanh_saved = tf.keras.models.load_model('model5_tanh.h5')"
   ]
  },
  {
   "cell_type": "code",
   "execution_count": 115,
   "id": "45e1a068-d84d-4fae-9aaa-322f4dabc326",
   "metadata": {
    "collapsed": true,
    "jupyter": {
     "outputs_hidden": true
    },
    "tags": []
   },
   "outputs": [
    {
     "name": "stderr",
     "output_type": "stream",
     "text": [
      "2024-07-30 19:17:25.999311: I tensorflow/core/common_runtime/executor.cc:1197] [/device:CPU:0] (DEBUG INFO) Executor start aborting (this does not indicate an error and you can ignore this message): INVALID_ARGUMENT: You must feed a value for placeholder tensor 'gradients/split_2_grad/concat/split_2/split_dim' with dtype int32\n",
      "\t [[{{node gradients/split_2_grad/concat/split_2/split_dim}}]]\n",
      "2024-07-30 19:17:26.003657: I tensorflow/core/common_runtime/executor.cc:1197] [/device:CPU:0] (DEBUG INFO) Executor start aborting (this does not indicate an error and you can ignore this message): INVALID_ARGUMENT: You must feed a value for placeholder tensor 'gradients/split_grad/concat/split/split_dim' with dtype int32\n",
      "\t [[{{node gradients/split_grad/concat/split/split_dim}}]]\n",
      "2024-07-30 19:17:26.005964: I tensorflow/core/common_runtime/executor.cc:1197] [/device:CPU:0] (DEBUG INFO) Executor start aborting (this does not indicate an error and you can ignore this message): INVALID_ARGUMENT: You must feed a value for placeholder tensor 'gradients/split_1_grad/concat/split_1/split_dim' with dtype int32\n",
      "\t [[{{node gradients/split_1_grad/concat/split_1/split_dim}}]]\n",
      "2024-07-30 19:22:10.663081: I tensorflow/core/common_runtime/executor.cc:1197] [/device:CPU:0] (DEBUG INFO) Executor start aborting (this does not indicate an error and you can ignore this message): INVALID_ARGUMENT: You must feed a value for placeholder tensor 'gradients/split_2_grad/concat/split_2/split_dim' with dtype int32\n",
      "\t [[{{node gradients/split_2_grad/concat/split_2/split_dim}}]]\n",
      "2024-07-30 19:22:10.666066: I tensorflow/core/common_runtime/executor.cc:1197] [/device:CPU:0] (DEBUG INFO) Executor start aborting (this does not indicate an error and you can ignore this message): INVALID_ARGUMENT: You must feed a value for placeholder tensor 'gradients/split_grad/concat/split/split_dim' with dtype int32\n",
      "\t [[{{node gradients/split_grad/concat/split/split_dim}}]]\n",
      "2024-07-30 19:22:10.669182: I tensorflow/core/common_runtime/executor.cc:1197] [/device:CPU:0] (DEBUG INFO) Executor start aborting (this does not indicate an error and you can ignore this message): INVALID_ARGUMENT: You must feed a value for placeholder tensor 'gradients/split_1_grad/concat/split_1/split_dim' with dtype int32\n",
      "\t [[{{node gradients/split_1_grad/concat/split_1/split_dim}}]]\n",
      "2024-07-30 19:22:11.111665: I tensorflow/core/common_runtime/executor.cc:1197] [/device:CPU:0] (DEBUG INFO) Executor start aborting (this does not indicate an error and you can ignore this message): INVALID_ARGUMENT: You must feed a value for placeholder tensor 'gradients/ReverseV2_grad/ReverseV2/ReverseV2/axis' with dtype int32 and shape [1]\n",
      "\t [[{{node gradients/ReverseV2_grad/ReverseV2/ReverseV2/axis}}]]\n",
      "2024-07-30 19:22:11.222896: I tensorflow/core/common_runtime/executor.cc:1197] [/device:CPU:0] (DEBUG INFO) Executor start aborting (this does not indicate an error and you can ignore this message): INVALID_ARGUMENT: You must feed a value for placeholder tensor 'gradients/split_2_grad/concat/split_2/split_dim' with dtype int32\n",
      "\t [[{{node gradients/split_2_grad/concat/split_2/split_dim}}]]\n",
      "2024-07-30 19:22:11.225490: I tensorflow/core/common_runtime/executor.cc:1197] [/device:CPU:0] (DEBUG INFO) Executor start aborting (this does not indicate an error and you can ignore this message): INVALID_ARGUMENT: You must feed a value for placeholder tensor 'gradients/split_grad/concat/split/split_dim' with dtype int32\n",
      "\t [[{{node gradients/split_grad/concat/split/split_dim}}]]\n",
      "2024-07-30 19:22:11.228427: I tensorflow/core/common_runtime/executor.cc:1197] [/device:CPU:0] (DEBUG INFO) Executor start aborting (this does not indicate an error and you can ignore this message): INVALID_ARGUMENT: You must feed a value for placeholder tensor 'gradients/split_1_grad/concat/split_1/split_dim' with dtype int32\n",
      "\t [[{{node gradients/split_1_grad/concat/split_1/split_dim}}]]\n"
     ]
    }
   ],
   "source": [
    "model_2_eval = validate_model(model_2_saved ,vectorized_text, y_train, vectorized_text_val, y_val, vectorized_text_test, y_test)\n",
    "model_3_eval = validate_model(model_3_saved, vectorized_text, y_train, vectorized_text_val, y_val, vectorized_text_test, y_test)\n",
    "model_3_dropout_eval = validate_model(model_3_dropout_saved,vectorized_text, y_train, vectorized_text_val, y_val, vectorized_text_test, y_test)\n",
    "model_4_tanh_eval = validate_model(model_4_tanh_saved, vectorized_text, y_train, vectorized_text_val, y_val, vectorized_text_test, y_test)\n",
    "model_5_tanh_eval = validate_model(model_5_tanh_saved, vectorized_text, y_train, vectorized_text_val, y_val, vectorized_text_test, y_test)"
   ]
  },
  {
   "cell_type": "code",
   "execution_count": 123,
   "id": "54a8dfd1-4745-47a0-92b0-5331b1398942",
   "metadata": {
    "tags": []
   },
   "outputs": [
    {
     "data": {
      "text/html": [
       "<div>\n",
       "<style scoped>\n",
       "    .dataframe tbody tr th:only-of-type {\n",
       "        vertical-align: middle;\n",
       "    }\n",
       "\n",
       "    .dataframe tbody tr th {\n",
       "        vertical-align: top;\n",
       "    }\n",
       "\n",
       "    .dataframe thead th {\n",
       "        text-align: right;\n",
       "    }\n",
       "</style>\n",
       "<table border=\"1\" class=\"dataframe\">\n",
       "  <thead>\n",
       "    <tr style=\"text-align: right;\">\n",
       "      <th></th>\n",
       "      <th>mse</th>\n",
       "      <th>mae</th>\n",
       "      <th>acc</th>\n",
       "    </tr>\n",
       "  </thead>\n",
       "  <tbody>\n",
       "    <tr>\n",
       "      <th>train</th>\n",
       "      <td>2778908.250</td>\n",
       "      <td>170.873810</td>\n",
       "      <td>0.021844</td>\n",
       "    </tr>\n",
       "    <tr>\n",
       "      <th>val</th>\n",
       "      <td>2129838.000</td>\n",
       "      <td>198.186859</td>\n",
       "      <td>0.020357</td>\n",
       "    </tr>\n",
       "    <tr>\n",
       "      <th>test</th>\n",
       "      <td>974498.625</td>\n",
       "      <td>158.912216</td>\n",
       "      <td>0.022405</td>\n",
       "    </tr>\n",
       "  </tbody>\n",
       "</table>\n",
       "</div>"
      ],
      "text/plain": [
       "               mse         mae       acc\n",
       "train  2778908.250  170.873810  0.021844\n",
       "val    2129838.000  198.186859  0.020357\n",
       "test    974498.625  158.912216  0.022405"
      ]
     },
     "execution_count": 123,
     "metadata": {},
     "output_type": "execute_result"
    }
   ],
   "source": [
    "pd.DataFrame(model_2_eval).T"
   ]
  },
  {
   "cell_type": "code",
   "execution_count": 124,
   "id": "fef062d0-8daa-49cc-bf7f-f0bf9a6a9095",
   "metadata": {
    "tags": []
   },
   "outputs": [
    {
     "data": {
      "text/html": [
       "<div>\n",
       "<style scoped>\n",
       "    .dataframe tbody tr th:only-of-type {\n",
       "        vertical-align: middle;\n",
       "    }\n",
       "\n",
       "    .dataframe tbody tr th {\n",
       "        vertical-align: top;\n",
       "    }\n",
       "\n",
       "    .dataframe thead th {\n",
       "        text-align: right;\n",
       "    }\n",
       "</style>\n",
       "<table border=\"1\" class=\"dataframe\">\n",
       "  <thead>\n",
       "    <tr style=\"text-align: right;\">\n",
       "      <th></th>\n",
       "      <th>mse</th>\n",
       "      <th>mae</th>\n",
       "      <th>acc</th>\n",
       "    </tr>\n",
       "  </thead>\n",
       "  <tbody>\n",
       "    <tr>\n",
       "      <th>train</th>\n",
       "      <td>3244034.500</td>\n",
       "      <td>196.161621</td>\n",
       "      <td>0.023095</td>\n",
       "    </tr>\n",
       "    <tr>\n",
       "      <th>val</th>\n",
       "      <td>2365950.250</td>\n",
       "      <td>209.210739</td>\n",
       "      <td>0.022881</td>\n",
       "    </tr>\n",
       "    <tr>\n",
       "      <th>test</th>\n",
       "      <td>1215377.875</td>\n",
       "      <td>162.270172</td>\n",
       "      <td>0.024771</td>\n",
       "    </tr>\n",
       "  </tbody>\n",
       "</table>\n",
       "</div>"
      ],
      "text/plain": [
       "               mse         mae       acc\n",
       "train  3244034.500  196.161621  0.023095\n",
       "val    2365950.250  209.210739  0.022881\n",
       "test   1215377.875  162.270172  0.024771"
      ]
     },
     "execution_count": 124,
     "metadata": {},
     "output_type": "execute_result"
    }
   ],
   "source": [
    "pd.DataFrame(model_3_eval).T"
   ]
  },
  {
   "cell_type": "code",
   "execution_count": 125,
   "id": "3ada56bb-a642-435f-aca8-9558a1dfa9bd",
   "metadata": {
    "tags": []
   },
   "outputs": [
    {
     "data": {
      "text/html": [
       "<div>\n",
       "<style scoped>\n",
       "    .dataframe tbody tr th:only-of-type {\n",
       "        vertical-align: middle;\n",
       "    }\n",
       "\n",
       "    .dataframe tbody tr th {\n",
       "        vertical-align: top;\n",
       "    }\n",
       "\n",
       "    .dataframe thead th {\n",
       "        text-align: right;\n",
       "    }\n",
       "</style>\n",
       "<table border=\"1\" class=\"dataframe\">\n",
       "  <thead>\n",
       "    <tr style=\"text-align: right;\">\n",
       "      <th></th>\n",
       "      <th>mse</th>\n",
       "      <th>mae</th>\n",
       "      <th>acc</th>\n",
       "    </tr>\n",
       "  </thead>\n",
       "  <tbody>\n",
       "    <tr>\n",
       "      <th>train</th>\n",
       "      <td>3218350.5</td>\n",
       "      <td>214.189423</td>\n",
       "      <td>0.023095</td>\n",
       "    </tr>\n",
       "    <tr>\n",
       "      <th>val</th>\n",
       "      <td>2361781.5</td>\n",
       "      <td>227.670670</td>\n",
       "      <td>0.022881</td>\n",
       "    </tr>\n",
       "    <tr>\n",
       "      <th>test</th>\n",
       "      <td>1201115.0</td>\n",
       "      <td>180.888901</td>\n",
       "      <td>0.024771</td>\n",
       "    </tr>\n",
       "  </tbody>\n",
       "</table>\n",
       "</div>"
      ],
      "text/plain": [
       "             mse         mae       acc\n",
       "train  3218350.5  214.189423  0.023095\n",
       "val    2361781.5  227.670670  0.022881\n",
       "test   1201115.0  180.888901  0.024771"
      ]
     },
     "execution_count": 125,
     "metadata": {},
     "output_type": "execute_result"
    }
   ],
   "source": [
    "pd.DataFrame(model_3_dropout_eval).T"
   ]
  },
  {
   "cell_type": "code",
   "execution_count": 126,
   "id": "a2ec268e-8a1a-427d-be19-ee8bd6ac12cd",
   "metadata": {
    "tags": []
   },
   "outputs": [
    {
     "data": {
      "text/html": [
       "<div>\n",
       "<style scoped>\n",
       "    .dataframe tbody tr th:only-of-type {\n",
       "        vertical-align: middle;\n",
       "    }\n",
       "\n",
       "    .dataframe tbody tr th {\n",
       "        vertical-align: top;\n",
       "    }\n",
       "\n",
       "    .dataframe thead th {\n",
       "        text-align: right;\n",
       "    }\n",
       "</style>\n",
       "<table border=\"1\" class=\"dataframe\">\n",
       "  <thead>\n",
       "    <tr style=\"text-align: right;\">\n",
       "      <th></th>\n",
       "      <th>mse</th>\n",
       "      <th>mae</th>\n",
       "      <th>acc</th>\n",
       "    </tr>\n",
       "  </thead>\n",
       "  <tbody>\n",
       "    <tr>\n",
       "      <th>train</th>\n",
       "      <td>3372429.500</td>\n",
       "      <td>210.041733</td>\n",
       "      <td>0.023095</td>\n",
       "    </tr>\n",
       "    <tr>\n",
       "      <th>val</th>\n",
       "      <td>2463589.000</td>\n",
       "      <td>223.823853</td>\n",
       "      <td>0.022881</td>\n",
       "    </tr>\n",
       "    <tr>\n",
       "      <th>test</th>\n",
       "      <td>1319618.875</td>\n",
       "      <td>174.204758</td>\n",
       "      <td>0.024771</td>\n",
       "    </tr>\n",
       "  </tbody>\n",
       "</table>\n",
       "</div>"
      ],
      "text/plain": [
       "               mse         mae       acc\n",
       "train  3372429.500  210.041733  0.023095\n",
       "val    2463589.000  223.823853  0.022881\n",
       "test   1319618.875  174.204758  0.024771"
      ]
     },
     "execution_count": 126,
     "metadata": {},
     "output_type": "execute_result"
    }
   ],
   "source": [
    "pd.DataFrame(model_4_tanh_eval).T"
   ]
  },
  {
   "cell_type": "code",
   "execution_count": 127,
   "id": "e3b99c47-4610-4842-b42a-da932976ba56",
   "metadata": {
    "tags": []
   },
   "outputs": [
    {
     "data": {
      "text/html": [
       "<div>\n",
       "<style scoped>\n",
       "    .dataframe tbody tr th:only-of-type {\n",
       "        vertical-align: middle;\n",
       "    }\n",
       "\n",
       "    .dataframe tbody tr th {\n",
       "        vertical-align: top;\n",
       "    }\n",
       "\n",
       "    .dataframe thead th {\n",
       "        text-align: right;\n",
       "    }\n",
       "</style>\n",
       "<table border=\"1\" class=\"dataframe\">\n",
       "  <thead>\n",
       "    <tr style=\"text-align: right;\">\n",
       "      <th></th>\n",
       "      <th>mse</th>\n",
       "      <th>mae</th>\n",
       "      <th>acc</th>\n",
       "    </tr>\n",
       "  </thead>\n",
       "  <tbody>\n",
       "    <tr>\n",
       "      <th>train</th>\n",
       "      <td>3373637.750</td>\n",
       "      <td>197.654053</td>\n",
       "      <td>0.023095</td>\n",
       "    </tr>\n",
       "    <tr>\n",
       "      <th>val</th>\n",
       "      <td>2465303.250</td>\n",
       "      <td>211.701187</td>\n",
       "      <td>0.022881</td>\n",
       "    </tr>\n",
       "    <tr>\n",
       "      <th>test</th>\n",
       "      <td>1319630.375</td>\n",
       "      <td>161.669479</td>\n",
       "      <td>0.024771</td>\n",
       "    </tr>\n",
       "  </tbody>\n",
       "</table>\n",
       "</div>"
      ],
      "text/plain": [
       "               mse         mae       acc\n",
       "train  3373637.750  197.654053  0.023095\n",
       "val    2465303.250  211.701187  0.022881\n",
       "test   1319630.375  161.669479  0.024771"
      ]
     },
     "execution_count": 127,
     "metadata": {},
     "output_type": "execute_result"
    }
   ],
   "source": [
    "pd.DataFrame(model_5_tanh_eval).T"
   ]
  },
  {
   "cell_type": "markdown",
   "id": "8572194e-771f-474f-8e8e-09ca6989c6fd",
   "metadata": {},
   "source": [
    "Model 2 performed the best in terms of validation dataset loss, which calculated as the mean squared error.\n",
    "\n",
    "Model 2 - Validation Loss after 5 Epochs - 2145500.25\n",
    "Model 3 - Validation Loss after 3 Epochs - 2365950.75\n",
    "Model 4 - Validation Loss after 4 Epochs - 2463587.00\n",
    "Model 5 - Validation Loss after 5 Epochs - 2465304.75"
   ]
  },
  {
   "cell_type": "code",
   "execution_count": 52,
   "id": "3ae30b12-a671-4611-ad85-1e7565a364f1",
   "metadata": {
    "tags": []
   },
   "outputs": [
    {
     "data": {
      "text/plain": [
       "[<keras.engine.input_layer.InputLayer at 0x7fa7b9055310>,\n",
       " <keras.layers.core.embedding.Embedding at 0x7fa7809f6b50>,\n",
       " <keras.layers.rnn.bidirectional.Bidirectional at 0x7fa708205650>,\n",
       " <keras.layers.core.dense.Dense at 0x7fa708c782d0>,\n",
       " <keras.layers.core.dense.Dense at 0x7fa7d51a3710>,\n",
       " <keras.layers.regularization.dropout.Dropout at 0x7fa708c78950>,\n",
       " <keras.layers.core.dense.Dense at 0x7fa708c7bf90>]"
      ]
     },
     "metadata": {},
     "output_type": "display_data"
    },
    {
     "name": "stdout",
     "output_type": "stream",
     "text": [
      "Model: \"model\"\n",
      "_________________________________________________________________\n",
      " Layer (type)                Output Shape              Param #   \n",
      "=================================================================\n",
      " input_1 (InputLayer)        [(None, 250)]             0         \n",
      "                                                                 \n",
      " embedding (Embedding)       (None, 250, 16)           160000    \n",
      "                                                                 \n",
      " bidirectional (Bidirectiona  (None, 64)               12544     \n",
      " l)                                                              \n",
      "                                                                 \n",
      " dense (Dense)               (None, 64)                4160      \n",
      "                                                                 \n",
      " dense_1 (Dense)             (None, 32)                2080      \n",
      "                                                                 \n",
      " dropout (Dropout)           (None, 32)                0         \n",
      "                                                                 \n",
      " dense_2 (Dense)             (None, 1)                 33        \n",
      "                                                                 \n",
      "=================================================================\n",
      "Total params: 178,817\n",
      "Trainable params: 178,817\n",
      "Non-trainable params: 0\n",
      "_________________________________________________________________\n"
     ]
    },
    {
     "data": {
      "text/plain": [
       "None"
      ]
     },
     "metadata": {},
     "output_type": "display_data"
    },
    {
     "name": "stdout",
     "output_type": "stream",
     "text": [
      "----------------------------------------------------------------------------------------------------\n"
     ]
    },
    {
     "data": {
      "text/plain": [
       "'Embeddings layer - shape: '"
      ]
     },
     "metadata": {},
     "output_type": "display_data"
    },
    {
     "data": {
      "text/plain": [
       "(10000, 16)"
      ]
     },
     "metadata": {},
     "output_type": "display_data"
    },
    {
     "name": "stdout",
     "output_type": "stream",
     "text": [
      "----------------------------------------------------------------------------------------------------\n"
     ]
    },
    {
     "data": {
      "text/plain": [
       "'Embeddings layer - parameter matrix (before training): '"
      ]
     },
     "metadata": {},
     "output_type": "display_data"
    },
    {
     "data": {
      "text/plain": [
       "array([[ 0.07392167, -0.01201833,  0.07342985, ...,  0.05041577,\n",
       "         0.08608239,  0.05633584],\n",
       "       [ 0.01863779, -0.01785451, -0.0067727 , ..., -0.02176556,\n",
       "        -0.01128479,  0.01053058],\n",
       "       [ 0.01540924, -0.04836084, -0.0321469 , ...,  0.01791335,\n",
       "        -0.00249856, -0.00868337],\n",
       "       ...,\n",
       "       [ 0.0019884 ,  0.01765646, -0.01861403, ...,  0.01839873,\n",
       "        -0.00617508, -0.02580006],\n",
       "       [-0.01264708, -0.01301428, -0.02354966, ...,  0.02202214,\n",
       "         0.01753282,  0.00889954],\n",
       "       [ 0.01021462,  0.01071981,  0.04415278, ...,  0.00548404,\n",
       "         0.01263346, -0.02413355]], dtype=float32)"
      ]
     },
     "metadata": {},
     "output_type": "display_data"
    }
   ],
   "source": [
    "display(test.layers)\n",
    "display(test.summary())\n",
    "\n",
    "# Retrieve the embeddings layer, which itself is wrapped in a list.\n",
    "embeddings = test.layers[1].get_weights()[0]\n",
    "print('-'*100)\n",
    "display(\"Embeddings layer - shape: \", embeddings.shape)\n",
    "print('-'*100)\n",
    "display(\"Embeddings layer - parameter matrix (before training): \", embeddings)"
   ]
  },
  {
   "cell_type": "code",
   "execution_count": null,
   "id": "9e75e35b-f237-46f2-9f6b-7bfec32289fd",
   "metadata": {},
   "outputs": [],
   "source": []
  },
  {
   "cell_type": "markdown",
   "id": "edb09a9e-c2f4-49e0-a86a-405e2cd31273",
   "metadata": {},
   "source": [
    "# End of file"
   ]
  },
  {
   "cell_type": "markdown",
   "id": "b7f819b9-4d42-4fbf-bf2d-c0ffd4809515",
   "metadata": {},
   "source": [
    "Sources:\n",
    "* https://stackoverflow.com/questions/73878049/how-do-you-convert-the-pandas-dataframe-to-tensorflow-python-data-ops-dataset-op"
   ]
  },
  {
   "cell_type": "code",
   "execution_count": null,
   "id": "eae9e68a-d697-4c41-b9c1-3dfaa36d33ba",
   "metadata": {},
   "outputs": [],
   "source": []
  }
 ],
 "metadata": {
  "kernelspec": {
   "display_name": "Python 3 (ipykernel)",
   "language": "python",
   "name": "python3"
  },
  "language_info": {
   "codemirror_mode": {
    "name": "ipython",
    "version": 3
   },
   "file_extension": ".py",
   "mimetype": "text/x-python",
   "name": "python",
   "nbconvert_exporter": "python",
   "pygments_lexer": "ipython3",
   "version": "3.11.5"
  }
 },
 "nbformat": 4,
 "nbformat_minor": 5
}
