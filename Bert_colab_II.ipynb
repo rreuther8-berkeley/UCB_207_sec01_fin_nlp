{
 "cells": [
  {
   "cell_type": "code",
   "execution_count": null,
   "id": "ey1DPFtUimCF",
   "metadata": {
    "id": "ey1DPFtUimCF"
   },
   "outputs": [],
   "source": [
    "!pip install \"tf-models-official==2.13.*\""
   ]
  },
  {
   "cell_type": "code",
   "execution_count": null,
   "id": "YIeOXZoripDR",
   "metadata": {
    "id": "YIeOXZoripDR"
   },
   "outputs": [],
   "source": [
    "!pip install -U \"tensorflow-text==2.13.*\""
   ]
  },
  {
   "cell_type": "code",
   "execution_count": 1,
   "id": "Ol-iWEKdj7k-",
   "metadata": {
    "id": "Ol-iWEKdj7k-"
   },
   "outputs": [],
   "source": [
    "import os\n",
    "import shutil\n",
    "from tensorflow.keras import layers\n",
    "import tensorflow as tf\n",
    "import tensorflow_hub as hub\n",
    "import tensorflow_text as text\n",
    "from official.nlp import optimization  # to create AdamW optimizer\n",
    "\n",
    "import matplotlib.pyplot as plt\n",
    "\n",
    "tf.get_logger().setLevel('ERROR')"
   ]
  },
  {
   "cell_type": "code",
   "execution_count": 2,
   "id": "3d399320-08a3-41cd-96d3-057c91950c90",
   "metadata": {
    "id": "3d399320-08a3-41cd-96d3-057c91950c90"
   },
   "outputs": [],
   "source": [
    "import pandas as pd\n",
    "from datetime import timedelta\n",
    "from datetime import datetime\n",
    "import string\n",
    "import numpy as np\n",
    "import os"
   ]
  },
  {
   "cell_type": "code",
   "execution_count": 3,
   "id": "cc57afcd-abe8-4738-b00a-1a9963ba906e",
   "metadata": {
    "id": "cc57afcd-abe8-4738-b00a-1a9963ba906e"
   },
   "outputs": [],
   "source": [
    "import matplotlib.pyplot as plt\n",
    "from sklearn.metrics import precision_score, recall_score, f1_score, roc_auc_score\n",
    "import seaborn as sns"
   ]
  },
  {
   "cell_type": "code",
   "execution_count": 4,
   "id": "9e53c41b-793a-46bf-9f87-dc37f1c982e7",
   "metadata": {
    "id": "9e53c41b-793a-46bf-9f87-dc37f1c982e7"
   },
   "outputs": [],
   "source": [
    "from keras.callbacks import ModelCheckpoint\n",
    "from tensorflow import keras\n",
    "from tensorflow.keras.models import Sequential\n",
    "from tensorflow.keras.layers import  Dense,Dropout\n",
    "from tensorflow.keras.metrics import MSE\n",
    "from keras.models import load_model"
   ]
  },
  {
   "cell_type": "code",
   "execution_count": 5,
   "id": "xjfOmRHreAl9",
   "metadata": {
    "id": "xjfOmRHreAl9"
   },
   "outputs": [],
   "source": [
    "\n",
    "X_train= pd.read_csv('X_train.csv')\n",
    "y_train= pd.read_csv('y_train.csv')\n",
    "\n",
    "X_val= pd.read_csv('X_val.csv')\n",
    "y_val= pd.read_csv('y_val.csv')\n",
    "\n",
    "X_test= pd.read_csv('X_test.csv')\n",
    "y_test= pd.read_csv('y_test.csv')"
   ]
  },
  {
   "cell_type": "code",
   "execution_count": 6,
   "id": "b4d73d4e-f3ca-4e56-8848-beacba2241eb",
   "metadata": {
    "id": "b4d73d4e-f3ca-4e56-8848-beacba2241eb"
   },
   "outputs": [],
   "source": [
    "X_train['all_words']=X_train['title']+' '+ X_train['selftext']\n",
    "X_test['all_words']=X_test['title']+' '+ X_test['selftext']\n",
    "X_val['all_words']=X_val['title']+' '+ X_val['selftext']"
   ]
  },
  {
   "cell_type": "code",
   "execution_count": 7,
   "id": "bf5c8639-ae52-4b3b-9dc6-7744210ce0ff",
   "metadata": {
    "id": "bf5c8639-ae52-4b3b-9dc6-7744210ce0ff"
   },
   "outputs": [],
   "source": [
    "y_train=y_train.values\n",
    "y_val=y_val.values\n",
    "y_test=y_test.values\n",
    "\n",
    "X_train=X_train['all_words'].apply(lambda x: str(x)).values\n",
    "X_val=X_val['all_words'].apply(lambda x: str(x)).values\n",
    "X_test=X_test['all_words'].apply(lambda x: str(x)).values\n"
   ]
  },
  {
   "cell_type": "code",
   "execution_count": 8,
   "id": "zOwyLp7AzdoV",
   "metadata": {
    "colab": {
     "base_uri": "https://localhost:8080/"
    },
    "id": "zOwyLp7AzdoV",
    "outputId": "29e423c2-d1ac-429d-f640-ce74e73508a4"
   },
   "outputs": [
    {
     "name": "stdout",
     "output_type": "stream",
     "text": [
      "BERT model selected           : https://tfhub.dev/tensorflow/small_bert/bert_en_uncased_L-2_H-256_A-4/1\n",
      "Preprocess model auto-selected: https://tfhub.dev/tensorflow/bert_en_uncased_preprocess/3\n"
     ]
    }
   ],
   "source": [
    "bert_model_name = 'small_bert/bert_en_uncased_L-2_H-256_A-4'\n",
    "\n",
    "map_name_to_handle = {\n",
    "    'bert_en_uncased_L-12_H-768_A-12':\n",
    "        'https://tfhub.dev/tensorflow/bert_en_uncased_L-12_H-768_A-12/3',\n",
    "    'bert_en_cased_L-12_H-768_A-12':\n",
    "        'https://tfhub.dev/tensorflow/bert_en_cased_L-12_H-768_A-12/3',\n",
    "    'bert_multi_cased_L-12_H-768_A-12':\n",
    "        'https://tfhub.dev/tensorflow/bert_multi_cased_L-12_H-768_A-12/3',\n",
    "    'small_bert/bert_en_uncased_L-2_H-128_A-2':\n",
    "        'https://tfhub.dev/tensorflow/small_bert/bert_en_uncased_L-2_H-128_A-2/1',\n",
    "    'small_bert/bert_en_uncased_L-2_H-256_A-4':\n",
    "        'https://tfhub.dev/tensorflow/small_bert/bert_en_uncased_L-2_H-256_A-4/1',\n",
    "    'small_bert/bert_en_uncased_L-2_H-512_A-8':\n",
    "        'https://tfhub.dev/tensorflow/small_bert/bert_en_uncased_L-2_H-512_A-8/1',\n",
    "    'small_bert/bert_en_uncased_L-2_H-768_A-12':\n",
    "        'https://tfhub.dev/tensorflow/small_bert/bert_en_uncased_L-2_H-768_A-12/1',\n",
    "    'small_bert/bert_en_uncased_L-4_H-128_A-2':\n",
    "        'https://tfhub.dev/tensorflow/small_bert/bert_en_uncased_L-4_H-128_A-2/1',\n",
    "    'small_bert/bert_en_uncased_L-4_H-256_A-4':\n",
    "        'https://tfhub.dev/tensorflow/small_bert/bert_en_uncased_L-4_H-256_A-4/1',\n",
    "    'small_bert/bert_en_uncased_L-4_H-512_A-8':\n",
    "        'https://tfhub.dev/tensorflow/small_bert/bert_en_uncased_L-4_H-512_A-8/1',\n",
    "    'small_bert/bert_en_uncased_L-4_H-768_A-12':\n",
    "        'https://tfhub.dev/tensorflow/small_bert/bert_en_uncased_L-4_H-768_A-12/1',\n",
    "    'small_bert/bert_en_uncased_L-6_H-128_A-2':\n",
    "        'https://tfhub.dev/tensorflow/small_bert/bert_en_uncased_L-6_H-128_A-2/1',\n",
    "    'small_bert/bert_en_uncased_L-6_H-256_A-4':\n",
    "        'https://tfhub.dev/tensorflow/small_bert/bert_en_uncased_L-6_H-256_A-4/1',\n",
    "    'small_bert/bert_en_uncased_L-6_H-512_A-8':\n",
    "        'https://tfhub.dev/tensorflow/small_bert/bert_en_uncased_L-6_H-512_A-8/1',\n",
    "    'small_bert/bert_en_uncased_L-6_H-768_A-12':\n",
    "        'https://tfhub.dev/tensorflow/small_bert/bert_en_uncased_L-6_H-768_A-12/1',\n",
    "    'small_bert/bert_en_uncased_L-8_H-128_A-2':\n",
    "        'https://tfhub.dev/tensorflow/small_bert/bert_en_uncased_L-8_H-128_A-2/1',\n",
    "    'small_bert/bert_en_uncased_L-8_H-256_A-4':\n",
    "        'https://tfhub.dev/tensorflow/small_bert/bert_en_uncased_L-8_H-256_A-4/1',\n",
    "    'small_bert/bert_en_uncased_L-8_H-512_A-8':\n",
    "        'https://tfhub.dev/tensorflow/small_bert/bert_en_uncased_L-8_H-512_A-8/1',\n",
    "    'small_bert/bert_en_uncased_L-8_H-768_A-12':\n",
    "        'https://tfhub.dev/tensorflow/small_bert/bert_en_uncased_L-8_H-768_A-12/1',\n",
    "    'small_bert/bert_en_uncased_L-10_H-128_A-2':\n",
    "        'https://tfhub.dev/tensorflow/small_bert/bert_en_uncased_L-10_H-128_A-2/1',\n",
    "    'small_bert/bert_en_uncased_L-10_H-256_A-4':\n",
    "        'https://tfhub.dev/tensorflow/small_bert/bert_en_uncased_L-10_H-256_A-4/1',\n",
    "    'small_bert/bert_en_uncased_L-10_H-512_A-8':\n",
    "        'https://tfhub.dev/tensorflow/small_bert/bert_en_uncased_L-10_H-512_A-8/1',\n",
    "    'small_bert/bert_en_uncased_L-10_H-768_A-12':\n",
    "        'https://tfhub.dev/tensorflow/small_bert/bert_en_uncased_L-10_H-768_A-12/1',\n",
    "    'small_bert/bert_en_uncased_L-12_H-128_A-2':\n",
    "        'https://tfhub.dev/tensorflow/small_bert/bert_en_uncased_L-12_H-128_A-2/1',\n",
    "    'small_bert/bert_en_uncased_L-12_H-256_A-4':\n",
    "        'https://tfhub.dev/tensorflow/small_bert/bert_en_uncased_L-12_H-256_A-4/1',\n",
    "    'small_bert/bert_en_uncased_L-12_H-512_A-8':\n",
    "        'https://tfhub.dev/tensorflow/small_bert/bert_en_uncased_L-12_H-512_A-8/1',\n",
    "    'small_bert/bert_en_uncased_L-12_H-768_A-12':\n",
    "        'https://tfhub.dev/tensorflow/small_bert/bert_en_uncased_L-12_H-768_A-12/1',\n",
    "    'albert_en_base':\n",
    "        'https://tfhub.dev/tensorflow/albert_en_base/2',\n",
    "    'electra_small':\n",
    "        'https://tfhub.dev/google/electra_small/2',\n",
    "    'electra_base':\n",
    "        'https://tfhub.dev/google/electra_base/2',\n",
    "    'experts_pubmed':\n",
    "        'https://tfhub.dev/google/experts/bert/pubmed/2',\n",
    "    'experts_wiki_books':\n",
    "        'https://tfhub.dev/google/experts/bert/wiki_books/2',\n",
    "    'talking-heads_base':\n",
    "        'https://tfhub.dev/tensorflow/talkheads_ggelu_bert_en_base/1',\n",
    "}\n",
    "\n",
    "map_model_to_preprocess = {\n",
    "    'bert_en_uncased_L-12_H-768_A-12':\n",
    "        'https://tfhub.dev/tensorflow/bert_en_uncased_preprocess/3',\n",
    "    'bert_en_cased_L-12_H-768_A-12':\n",
    "        'https://tfhub.dev/tensorflow/bert_en_cased_preprocess/3',\n",
    "    'small_bert/bert_en_uncased_L-2_H-128_A-2':\n",
    "        'https://tfhub.dev/tensorflow/bert_en_uncased_preprocess/3',\n",
    "    'small_bert/bert_en_uncased_L-2_H-256_A-4':\n",
    "        'https://tfhub.dev/tensorflow/bert_en_uncased_preprocess/3',\n",
    "    'small_bert/bert_en_uncased_L-2_H-512_A-8':\n",
    "        'https://tfhub.dev/tensorflow/bert_en_uncased_preprocess/3',\n",
    "    'small_bert/bert_en_uncased_L-2_H-768_A-12':\n",
    "        'https://tfhub.dev/tensorflow/bert_en_uncased_preprocess/3',\n",
    "    'small_bert/bert_en_uncased_L-4_H-128_A-2':\n",
    "        'https://tfhub.dev/tensorflow/bert_en_uncased_preprocess/3',\n",
    "    'small_bert/bert_en_uncased_L-4_H-256_A-4':\n",
    "        'https://tfhub.dev/tensorflow/bert_en_uncased_preprocess/3',\n",
    "    'small_bert/bert_en_uncased_L-4_H-512_A-8':\n",
    "        'https://tfhub.dev/tensorflow/bert_en_uncased_preprocess/3',\n",
    "    'small_bert/bert_en_uncased_L-4_H-768_A-12':\n",
    "        'https://tfhub.dev/tensorflow/bert_en_uncased_preprocess/3',\n",
    "    'small_bert/bert_en_uncased_L-6_H-128_A-2':\n",
    "        'https://tfhub.dev/tensorflow/bert_en_uncased_preprocess/3',\n",
    "    'small_bert/bert_en_uncased_L-6_H-256_A-4':\n",
    "        'https://tfhub.dev/tensorflow/bert_en_uncased_preprocess/3',\n",
    "    'small_bert/bert_en_uncased_L-6_H-512_A-8':\n",
    "        'https://tfhub.dev/tensorflow/bert_en_uncased_preprocess/3',\n",
    "    'small_bert/bert_en_uncased_L-6_H-768_A-12':\n",
    "        'https://tfhub.dev/tensorflow/bert_en_uncased_preprocess/3',\n",
    "    'small_bert/bert_en_uncased_L-8_H-128_A-2':\n",
    "        'https://tfhub.dev/tensorflow/bert_en_uncased_preprocess/3',\n",
    "    'small_bert/bert_en_uncased_L-8_H-256_A-4':\n",
    "        'https://tfhub.dev/tensorflow/bert_en_uncased_preprocess/3',\n",
    "    'small_bert/bert_en_uncased_L-8_H-512_A-8':\n",
    "        'https://tfhub.dev/tensorflow/bert_en_uncased_preprocess/3',\n",
    "    'small_bert/bert_en_uncased_L-8_H-768_A-12':\n",
    "        'https://tfhub.dev/tensorflow/bert_en_uncased_preprocess/3',\n",
    "    'small_bert/bert_en_uncased_L-10_H-128_A-2':\n",
    "        'https://tfhub.dev/tensorflow/bert_en_uncased_preprocess/3',\n",
    "    'small_bert/bert_en_uncased_L-10_H-256_A-4':\n",
    "        'https://tfhub.dev/tensorflow/bert_en_uncased_preprocess/3',\n",
    "    'small_bert/bert_en_uncased_L-10_H-512_A-8':\n",
    "        'https://tfhub.dev/tensorflow/bert_en_uncased_preprocess/3',\n",
    "    'small_bert/bert_en_uncased_L-10_H-768_A-12':\n",
    "        'https://tfhub.dev/tensorflow/bert_en_uncased_preprocess/3',\n",
    "    'small_bert/bert_en_uncased_L-12_H-128_A-2':\n",
    "        'https://tfhub.dev/tensorflow/bert_en_uncased_preprocess/3',\n",
    "    'small_bert/bert_en_uncased_L-12_H-256_A-4':\n",
    "        'https://tfhub.dev/tensorflow/bert_en_uncased_preprocess/3',\n",
    "    'small_bert/bert_en_uncased_L-12_H-512_A-8':\n",
    "        'https://tfhub.dev/tensorflow/bert_en_uncased_preprocess/3',\n",
    "    'small_bert/bert_en_uncased_L-12_H-768_A-12':\n",
    "        'https://tfhub.dev/tensorflow/bert_en_uncased_preprocess/3',\n",
    "    'bert_multi_cased_L-12_H-768_A-12':\n",
    "        'https://tfhub.dev/tensorflow/bert_multi_cased_preprocess/3',\n",
    "    'albert_en_base':\n",
    "        'https://tfhub.dev/tensorflow/albert_en_preprocess/3',\n",
    "    'electra_small':\n",
    "        'https://tfhub.dev/tensorflow/bert_en_uncased_preprocess/3',\n",
    "    'electra_base':\n",
    "        'https://tfhub.dev/tensorflow/bert_en_uncased_preprocess/3',\n",
    "    'experts_pubmed':\n",
    "        'https://tfhub.dev/tensorflow/bert_en_uncased_preprocess/3',\n",
    "    'experts_wiki_books':\n",
    "        'https://tfhub.dev/tensorflow/bert_en_uncased_preprocess/3',\n",
    "    'talking-heads_base':\n",
    "        'https://tfhub.dev/tensorflow/bert_en_uncased_preprocess/3',\n",
    "}\n",
    "\n",
    "tfhub_handle_encoder = map_name_to_handle[bert_model_name]\n",
    "tfhub_handle_preprocess = map_model_to_preprocess[bert_model_name]\n",
    "\n",
    "print(f'BERT model selected           : {tfhub_handle_encoder}')\n",
    "print(f'Preprocess model auto-selected: {tfhub_handle_preprocess}')"
   ]
  },
  {
   "cell_type": "code",
   "execution_count": 32,
   "id": "A-8Cgi1f8IBC",
   "metadata": {
    "id": "A-8Cgi1f8IBC"
   },
   "outputs": [],
   "source": [
    "\n",
    "# autosave best Model\n",
    "best_model_file = \"bertII.h5\"\n",
    "best_model = ModelCheckpoint(best_model_file, verbose=1, save_best_only=True, monitor='val_loss',mode='min')"
   ]
  },
  {
   "cell_type": "code",
   "execution_count": 28,
   "id": "96i9L0bx_z4L",
   "metadata": {
    "id": "96i9L0bx_z4L"
   },
   "outputs": [],
   "source": [
    "#best_model =ModelCheckpoint('bertII.keras', save_best_only=True) .keras no supported"
   ]
  },
  {
   "cell_type": "code",
   "execution_count": 33,
   "id": "76a70aae-27cd-4bdc-a8ce-158b56ecfad1",
   "metadata": {
    "colab": {
     "base_uri": "https://localhost:8080/"
    },
    "id": "76a70aae-27cd-4bdc-a8ce-158b56ecfad1",
    "outputId": "678348cb-fb1a-4bc9-8bba-72757daf3e70"
   },
   "outputs": [
    {
     "name": "stdout",
     "output_type": "stream",
     "text": [
      "Epoch 1/20\n",
      "925/925 [==============================] - ETA: 0s - loss: 0.9650 - mse: 0.9650\n",
      "Epoch 1: val_loss improved from inf to 0.68439, saving model to bertII.h5\n",
      "925/925 [==============================] - 210s 221ms/step - loss: 0.9650 - mse: 0.9650 - val_loss: 0.6844 - val_mse: 0.6844\n",
      "Epoch 2/20\n",
      "925/925 [==============================] - ETA: 0s - loss: 0.9375 - mse: 0.9375\n",
      "Epoch 2: val_loss improved from 0.68439 to 0.65622, saving model to bertII.h5\n",
      "925/925 [==============================] - 204s 220ms/step - loss: 0.9375 - mse: 0.9375 - val_loss: 0.6562 - val_mse: 0.6562\n",
      "Epoch 3/20\n",
      "925/925 [==============================] - ETA: 0s - loss: 0.9129 - mse: 0.9129\n",
      "Epoch 3: val_loss improved from 0.65622 to 0.63530, saving model to bertII.h5\n",
      "925/925 [==============================] - 205s 221ms/step - loss: 0.9129 - mse: 0.9129 - val_loss: 0.6353 - val_mse: 0.6353\n",
      "Epoch 4/20\n",
      "925/925 [==============================] - ETA: 0s - loss: 0.8895 - mse: 0.8895\n",
      "Epoch 4: val_loss improved from 0.63530 to 0.62332, saving model to bertII.h5\n",
      "925/925 [==============================] - 204s 220ms/step - loss: 0.8895 - mse: 0.8895 - val_loss: 0.6233 - val_mse: 0.6233\n",
      "Epoch 5/20\n",
      "925/925 [==============================] - ETA: 0s - loss: 0.8609 - mse: 0.8609\n",
      "Epoch 5: val_loss improved from 0.62332 to 0.61753, saving model to bertII.h5\n",
      "925/925 [==============================] - 204s 221ms/step - loss: 0.8609 - mse: 0.8609 - val_loss: 0.6175 - val_mse: 0.6175\n",
      "Epoch 6/20\n",
      "925/925 [==============================] - ETA: 0s - loss: 0.8350 - mse: 0.8350\n",
      "Epoch 6: val_loss improved from 0.61753 to 0.61169, saving model to bertII.h5\n",
      "925/925 [==============================] - 205s 222ms/step - loss: 0.8350 - mse: 0.8350 - val_loss: 0.6117 - val_mse: 0.6117\n",
      "Epoch 7/20\n",
      "925/925 [==============================] - ETA: 0s - loss: 0.7987 - mse: 0.7987\n",
      "Epoch 7: val_loss did not improve from 0.61169\n",
      "925/925 [==============================] - 205s 221ms/step - loss: 0.7987 - mse: 0.7987 - val_loss: 0.6122 - val_mse: 0.6122\n",
      "Epoch 8/20\n",
      "925/925 [==============================] - ETA: 0s - loss: 0.7677 - mse: 0.7677\n",
      "Epoch 8: val_loss did not improve from 0.61169\n",
      "925/925 [==============================] - 205s 221ms/step - loss: 0.7677 - mse: 0.7677 - val_loss: 0.6141 - val_mse: 0.6141\n",
      "Epoch 9/20\n",
      "925/925 [==============================] - ETA: 0s - loss: 0.7407 - mse: 0.7407\n",
      "Epoch 9: val_loss did not improve from 0.61169\n",
      "925/925 [==============================] - 205s 221ms/step - loss: 0.7407 - mse: 0.7407 - val_loss: 0.6207 - val_mse: 0.6207\n",
      "Epoch 10/20\n",
      "925/925 [==============================] - ETA: 0s - loss: 0.7167 - mse: 0.7167\n",
      "Epoch 10: val_loss did not improve from 0.61169\n",
      "925/925 [==============================] - 203s 220ms/step - loss: 0.7167 - mse: 0.7167 - val_loss: 0.6230 - val_mse: 0.6230\n",
      "Epoch 11/20\n",
      "925/925 [==============================] - ETA: 0s - loss: 0.6717 - mse: 0.6717\n",
      "Epoch 11: val_loss did not improve from 0.61169\n",
      "925/925 [==============================] - 203s 219ms/step - loss: 0.6717 - mse: 0.6717 - val_loss: 0.6194 - val_mse: 0.6194\n",
      "Epoch 12/20\n",
      "925/925 [==============================] - ETA: 0s - loss: 0.6370 - mse: 0.6370\n",
      "Epoch 12: val_loss did not improve from 0.61169\n",
      "925/925 [==============================] - 203s 220ms/step - loss: 0.6370 - mse: 0.6370 - val_loss: 0.6296 - val_mse: 0.6296\n",
      "Epoch 13/20\n",
      "925/925 [==============================] - ETA: 0s - loss: 0.5855 - mse: 0.5855\n",
      "Epoch 13: val_loss did not improve from 0.61169\n",
      "925/925 [==============================] - 203s 220ms/step - loss: 0.5855 - mse: 0.5855 - val_loss: 0.6209 - val_mse: 0.6209\n",
      "Epoch 14/20\n",
      "925/925 [==============================] - ETA: 0s - loss: 0.5580 - mse: 0.5580\n",
      "Epoch 14: val_loss did not improve from 0.61169\n",
      "925/925 [==============================] - 203s 220ms/step - loss: 0.5580 - mse: 0.5580 - val_loss: 0.6757 - val_mse: 0.6757\n",
      "Epoch 15/20\n",
      "925/925 [==============================] - ETA: 0s - loss: 0.5501 - mse: 0.5501\n",
      "Epoch 15: val_loss did not improve from 0.61169\n",
      "925/925 [==============================] - 203s 219ms/step - loss: 0.5501 - mse: 0.5501 - val_loss: 0.7069 - val_mse: 0.7069\n",
      "Epoch 16/20\n",
      "925/925 [==============================] - ETA: 0s - loss: 0.5230 - mse: 0.5230\n",
      "Epoch 16: val_loss improved from 0.61169 to 0.59080, saving model to bertII.h5\n",
      "925/925 [==============================] - 203s 220ms/step - loss: 0.5230 - mse: 0.5230 - val_loss: 0.5908 - val_mse: 0.5908\n",
      "Epoch 17/20\n",
      "925/925 [==============================] - ETA: 0s - loss: 0.5074 - mse: 0.5074\n",
      "Epoch 17: val_loss improved from 0.59080 to 0.57006, saving model to bertII.h5\n",
      "925/925 [==============================] - 203s 220ms/step - loss: 0.5074 - mse: 0.5074 - val_loss: 0.5701 - val_mse: 0.5701\n",
      "Epoch 18/20\n",
      "925/925 [==============================] - ETA: 0s - loss: 0.4620 - mse: 0.4620\n",
      "Epoch 18: val_loss did not improve from 0.57006\n",
      "925/925 [==============================] - 203s 220ms/step - loss: 0.4620 - mse: 0.4620 - val_loss: 0.5807 - val_mse: 0.5807\n",
      "Epoch 19/20\n",
      "925/925 [==============================] - ETA: 0s - loss: 0.4350 - mse: 0.4350\n",
      "Epoch 19: val_loss improved from 0.57006 to 0.55089, saving model to bertII.h5\n",
      "925/925 [==============================] - 204s 220ms/step - loss: 0.4350 - mse: 0.4350 - val_loss: 0.5509 - val_mse: 0.5509\n",
      "Epoch 20/20\n",
      "925/925 [==============================] - ETA: 0s - loss: 0.3961 - mse: 0.3961\n",
      "Epoch 20: val_loss did not improve from 0.55089\n",
      "925/925 [==============================] - 203s 219ms/step - loss: 0.3961 - mse: 0.3961 - val_loss: 0.5601 - val_mse: 0.5601\n"
     ]
    }
   ],
   "source": [
    "learning_rates = 0.00001 # lower lerning rate\n",
    "batch_size=32\n",
    "epochs=20\n",
    "\n",
    "text_input =tf.keras.layers.Input(shape=(), dtype=tf.string, name='text')\n",
    "\n",
    "preprocessing_layer = hub.KerasLayer(tfhub_handle_preprocess, name='preprocessing')\n",
    "encoder_inputs = preprocessing_layer(text_input)\n",
    "encoder = hub.KerasLayer(tfhub_handle_encoder, trainable=True, name='BERT_encoder')\n",
    "outputs = encoder(encoder_inputs)\n",
    "net = outputs['pooled_output']\n",
    "\n",
    "\n",
    "# Neural network layers\n",
    "net=layers.Dropout(0.1)(net)\n",
    "l = tf.keras.layers.Dense(128, activation='relu', name='h1')(net)\n",
    "l = tf.keras.layers.Dense(64, activation='relu',name='h2')(l)\n",
    "l = tf.keras.layers.Dense(32, activation='relu', name='h3')(l)\n",
    "l = tf.keras.layers.Dense(16, activation='relu', name='h4')(l)\n",
    "\n",
    "l =tf.keras.layers.Dense(1,name='output')(l)\n",
    "\n",
    "model=tf.keras.Model(inputs=[text_input],outputs=[l])\n",
    "\n",
    "# Compile the model\n",
    "optimizer = tf.keras.optimizers.Adam(learning_rate=learning_rates)\n",
    "\n",
    "model.compile(optimizer= optimizer, loss='mse', metrics=['mse'])\n",
    "\n",
    "hist = model.fit(X_train, y_train, batch_size=batch_size, epochs=epochs, validation_data=(X_val, y_val),callbacks=[best_model])\n"
   ]
  },
  {
   "cell_type": "code",
   "execution_count": 34,
   "id": "KRmQPHqBxRUw",
   "metadata": {
    "colab": {
     "base_uri": "https://localhost:8080/"
    },
    "id": "KRmQPHqBxRUw",
    "outputId": "a8344eee-ec96-46e1-e56b-225c6824470e"
   },
   "outputs": [
    {
     "name": "stdout",
     "output_type": "stream",
     "text": [
      "MSE for train set 0.35805633664131165\n",
      "MSE for val set 0.5601455569267273\n",
      "MSE for test set 0.13951438665390015\n"
     ]
    }
   ],
   "source": [
    "MSE_train = model.evaluate(X_train, y_train, verbose=0)[0]\n",
    "MSE_val = model.evaluate(X_val, y_val, verbose=0)[0]\n",
    "MSE_test = model.evaluate(X_test, y_test, verbose=0)[0]\n",
    "\n",
    "print('MSE for train set', MSE_train)\n",
    "print('MSE for val set', MSE_val)\n",
    "print('MSE for test set', MSE_test)"
   ]
  },
  {
   "cell_type": "code",
   "execution_count": 36,
   "id": "7cFeISF-TdUz",
   "metadata": {
    "id": "7cFeISF-TdUz"
   },
   "outputs": [],
   "source": [
    "best_model_file = \"bertIII.h5\"\n",
    "best_model = ModelCheckpoint(best_model_file, verbose=1, save_best_only=True, monitor='val_loss',mode='min')"
   ]
  },
  {
   "cell_type": "code",
   "execution_count": 37,
   "id": "StE3p791OMj-",
   "metadata": {
    "colab": {
     "base_uri": "https://localhost:8080/"
    },
    "id": "StE3p791OMj-",
    "outputId": "f7244649-3a24-4524-ddca-8c05a360fc4f"
   },
   "outputs": [
    {
     "name": "stdout",
     "output_type": "stream",
     "text": [
      "Epoch 1/20\n",
      "925/925 [==============================] - ETA: 0s - loss: 0.9909 - mse: 0.9909\n",
      "Epoch 1: val_loss improved from inf to 0.70411, saving model to bertIII.h5\n",
      "925/925 [==============================] - 209s 221ms/step - loss: 0.9909 - mse: 0.9909 - val_loss: 0.7041 - val_mse: 0.7041\n",
      "Epoch 2/20\n",
      "925/925 [==============================] - ETA: 0s - loss: 0.9715 - mse: 0.9715\n",
      "Epoch 2: val_loss improved from 0.70411 to 0.69878, saving model to bertIII.h5\n",
      "925/925 [==============================] - 204s 221ms/step - loss: 0.9715 - mse: 0.9715 - val_loss: 0.6988 - val_mse: 0.6988\n",
      "Epoch 3/20\n",
      "925/925 [==============================] - ETA: 0s - loss: 0.9656 - mse: 0.9656\n",
      "Epoch 3: val_loss improved from 0.69878 to 0.69051, saving model to bertIII.h5\n",
      "925/925 [==============================] - 205s 221ms/step - loss: 0.9656 - mse: 0.9656 - val_loss: 0.6905 - val_mse: 0.6905\n",
      "Epoch 4/20\n",
      "925/925 [==============================] - ETA: 0s - loss: 0.9554 - mse: 0.9554\n",
      "Epoch 4: val_loss improved from 0.69051 to 0.67900, saving model to bertIII.h5\n",
      "925/925 [==============================] - 204s 221ms/step - loss: 0.9554 - mse: 0.9554 - val_loss: 0.6790 - val_mse: 0.6790\n",
      "Epoch 5/20\n",
      "925/925 [==============================] - ETA: 0s - loss: 0.9463 - mse: 0.9463\n",
      "Epoch 5: val_loss improved from 0.67900 to 0.66605, saving model to bertIII.h5\n",
      "925/925 [==============================] - 204s 221ms/step - loss: 0.9463 - mse: 0.9463 - val_loss: 0.6660 - val_mse: 0.6660\n",
      "Epoch 6/20\n",
      "925/925 [==============================] - ETA: 0s - loss: 0.9316 - mse: 0.9316\n",
      "Epoch 6: val_loss improved from 0.66605 to 0.65130, saving model to bertIII.h5\n",
      "925/925 [==============================] - 204s 220ms/step - loss: 0.9316 - mse: 0.9316 - val_loss: 0.6513 - val_mse: 0.6513\n",
      "Epoch 7/20\n",
      "925/925 [==============================] - ETA: 0s - loss: 0.9058 - mse: 0.9058\n",
      "Epoch 7: val_loss improved from 0.65130 to 0.62693, saving model to bertIII.h5\n",
      "925/925 [==============================] - 204s 221ms/step - loss: 0.9058 - mse: 0.9058 - val_loss: 0.6269 - val_mse: 0.6269\n",
      "Epoch 8/20\n",
      "925/925 [==============================] - ETA: 0s - loss: 0.8797 - mse: 0.8797\n",
      "Epoch 8: val_loss improved from 0.62693 to 0.60867, saving model to bertIII.h5\n",
      "925/925 [==============================] - 204s 221ms/step - loss: 0.8797 - mse: 0.8797 - val_loss: 0.6087 - val_mse: 0.6087\n",
      "Epoch 9/20\n",
      "925/925 [==============================] - ETA: 0s - loss: 0.8457 - mse: 0.8457\n",
      "Epoch 9: val_loss improved from 0.60867 to 0.60060, saving model to bertIII.h5\n",
      "925/925 [==============================] - 204s 221ms/step - loss: 0.8457 - mse: 0.8457 - val_loss: 0.6006 - val_mse: 0.6006\n",
      "Epoch 10/20\n",
      "925/925 [==============================] - ETA: 0s - loss: 0.8185 - mse: 0.8185\n",
      "Epoch 10: val_loss did not improve from 0.60060\n",
      "925/925 [==============================] - 204s 220ms/step - loss: 0.8185 - mse: 0.8185 - val_loss: 0.6185 - val_mse: 0.6185\n",
      "Epoch 11/20\n",
      "925/925 [==============================] - ETA: 0s - loss: 0.7991 - mse: 0.7991\n",
      "Epoch 11: val_loss improved from 0.60060 to 0.58812, saving model to bertIII.h5\n",
      "925/925 [==============================] - 205s 221ms/step - loss: 0.7991 - mse: 0.7991 - val_loss: 0.5881 - val_mse: 0.5881\n",
      "Epoch 12/20\n",
      "925/925 [==============================] - ETA: 0s - loss: 0.7733 - mse: 0.7733\n",
      "Epoch 12: val_loss did not improve from 0.58812\n",
      "925/925 [==============================] - 204s 220ms/step - loss: 0.7733 - mse: 0.7733 - val_loss: 0.6173 - val_mse: 0.6173\n",
      "Epoch 13/20\n",
      "925/925 [==============================] - ETA: 0s - loss: 0.7757 - mse: 0.7757\n",
      "Epoch 13: val_loss did not improve from 0.58812\n",
      "925/925 [==============================] - 203s 220ms/step - loss: 0.7757 - mse: 0.7757 - val_loss: 0.6312 - val_mse: 0.6312\n",
      "Epoch 14/20\n",
      "925/925 [==============================] - ETA: 0s - loss: 0.7692 - mse: 0.7692\n",
      "Epoch 14: val_loss did not improve from 0.58812\n",
      "925/925 [==============================] - 204s 220ms/step - loss: 0.7692 - mse: 0.7692 - val_loss: 0.6274 - val_mse: 0.6274\n",
      "Epoch 15/20\n",
      "925/925 [==============================] - ETA: 0s - loss: 0.7592 - mse: 0.7592\n",
      "Epoch 15: val_loss improved from 0.58812 to 0.52906, saving model to bertIII.h5\n",
      "925/925 [==============================] - 204s 221ms/step - loss: 0.7592 - mse: 0.7592 - val_loss: 0.5291 - val_mse: 0.5291\n",
      "Epoch 16/20\n",
      "925/925 [==============================] - ETA: 0s - loss: 0.7549 - mse: 0.7549\n",
      "Epoch 16: val_loss did not improve from 0.52906\n",
      "925/925 [==============================] - 204s 220ms/step - loss: 0.7549 - mse: 0.7549 - val_loss: 0.5588 - val_mse: 0.5588\n",
      "Epoch 17/20\n",
      "925/925 [==============================] - ETA: 0s - loss: 0.7202 - mse: 0.7202\n",
      "Epoch 17: val_loss did not improve from 0.52906\n",
      "925/925 [==============================] - 204s 220ms/step - loss: 0.7202 - mse: 0.7202 - val_loss: 0.5545 - val_mse: 0.5545\n",
      "Epoch 18/20\n",
      "925/925 [==============================] - ETA: 0s - loss: 0.6820 - mse: 0.6820\n",
      "Epoch 18: val_loss did not improve from 0.52906\n",
      "925/925 [==============================] - 204s 220ms/step - loss: 0.6820 - mse: 0.6820 - val_loss: 0.5956 - val_mse: 0.5956\n",
      "Epoch 19/20\n",
      "925/925 [==============================] - ETA: 0s - loss: 0.6682 - mse: 0.6682\n",
      "Epoch 19: val_loss did not improve from 0.52906\n",
      "925/925 [==============================] - 204s 220ms/step - loss: 0.6682 - mse: 0.6682 - val_loss: 0.5813 - val_mse: 0.5813\n",
      "Epoch 20/20\n",
      "925/925 [==============================] - ETA: 0s - loss: 0.6707 - mse: 0.6707\n",
      "Epoch 20: val_loss did not improve from 0.52906\n",
      "925/925 [==============================] - 204s 221ms/step - loss: 0.6707 - mse: 0.6707 - val_loss: 0.6313 - val_mse: 0.6313\n"
     ]
    }
   ],
   "source": [
    "learning_rates = 0.00001 # lower learning rate\n",
    "batch_size=32\n",
    "epochs=20\n",
    "\n",
    "text_input =tf.keras.layers.Input(shape=(), dtype=tf.string, name='text')\n",
    "\n",
    "preprocessing_layer = hub.KerasLayer(tfhub_handle_preprocess, name='preprocessing')\n",
    "encoder_inputs = preprocessing_layer(text_input)\n",
    "encoder = hub.KerasLayer(tfhub_handle_encoder, trainable=True, name='BERT_encoder')\n",
    "outputs = encoder(encoder_inputs)\n",
    "net = outputs['pooled_output']\n",
    "\n",
    "\n",
    "# Neural network layers\n",
    "net=layers.Dropout(0.5)(net)\n",
    "l = tf.keras.layers.Dense(128, activation='relu', name='h1')(net)\n",
    "l = tf.keras.layers.Dense(64, activation='relu',name='h2')(l)\n",
    "l = tf.keras.layers.Dense(32, activation='relu', name='h3')(l)\n",
    "l = tf.keras.layers.Dense(16, activation='relu', name='h4')(l)\n",
    "\n",
    "l =tf.keras.layers.Dense(1,name='output')(l)\n",
    "\n",
    "model=tf.keras.Model(inputs=[text_input],outputs=[l])\n",
    "\n",
    "# Compile the model\n",
    "optimizer = tf.keras.optimizers.Adam(learning_rate=learning_rates)\n",
    "\n",
    "model.compile(optimizer= optimizer, loss='mse', metrics=['mse'])\n",
    "\n",
    "hist = model.fit(X_train, y_train, batch_size=batch_size, epochs=epochs, validation_data=(X_val, y_val),callbacks=[best_model])\n"
   ]
  },
  {
   "cell_type": "code",
   "execution_count": 38,
   "id": "fPXrqRY2ZkHs",
   "metadata": {
    "colab": {
     "base_uri": "https://localhost:8080/"
    },
    "id": "fPXrqRY2ZkHs",
    "outputId": "4d837a2d-e8e8-4c0c-e895-91d7d2536d7c"
   },
   "outputs": [
    {
     "name": "stdout",
     "output_type": "stream",
     "text": [
      "MSE for train set 0.6481594443321228\n",
      "MSE for val set 0.6313493251800537\n",
      "MSE for test set 0.17811699211597443\n"
     ]
    }
   ],
   "source": [
    "MSE_train = model.evaluate(X_train, y_train, verbose=0)[0]\n",
    "MSE_val = model.evaluate(X_val, y_val, verbose=0)[0]\n",
    "MSE_test = model.evaluate(X_test, y_test, verbose=0)[0]\n",
    "\n",
    "print('MSE for train set', MSE_train)\n",
    "print('MSE for val set', MSE_val)\n",
    "print('MSE for test set', MSE_test)"
   ]
  },
  {
   "cell_type": "code",
   "execution_count": 11,
   "id": "cVEbGntQkXYN",
   "metadata": {
    "id": "cVEbGntQkXYN"
   },
   "outputs": [],
   "source": [
    "best_model_file = \"bertIV.h5\"\n",
    "best_model = ModelCheckpoint(best_model_file, verbose=1, save_best_only=True, monitor='val_loss',mode='min')"
   ]
  },
  {
   "cell_type": "code",
   "execution_count": 12,
   "id": "0dUH-qZLkKbx",
   "metadata": {
    "colab": {
     "base_uri": "https://localhost:8080/"
    },
    "id": "0dUH-qZLkKbx",
    "outputId": "4e7ff5a7-e959-4f35-c295-008f348ccd3d"
   },
   "outputs": [
    {
     "name": "stdout",
     "output_type": "stream",
     "text": [
      "Epoch 1/20\n",
      "925/925 [==============================] - ETA: 0s - loss: 0.9686 - mse: 0.9686\n",
      "Epoch 1: val_loss improved from inf to 0.69415, saving model to bertIV.h5\n"
     ]
    },
    {
     "name": "stderr",
     "output_type": "stream",
     "text": [
      "/usr/local/lib/python3.10/dist-packages/keras/src/engine/training.py:3000: UserWarning: You are saving your model as an HDF5 file via `model.save()`. This file format is considered legacy. We recommend using instead the native Keras format, e.g. `model.save('my_model.keras')`.\n",
      "  saving_api.save_model(\n"
     ]
    },
    {
     "name": "stdout",
     "output_type": "stream",
     "text": [
      "\b\b\b\b\b\b\b\b\b\b\b\b\b\b\b\b\b\b\b\b\b\b\b\b\b\b\b\b\b\b\b\b\b\b\b\b\b\b\b\b\b\b\b\b\b\b\b\b\b\b\b\b\b\b\b\b\b\b\b\b\b\b\b\b\b\b\b\b\b\b\b\b\b\b\b\b\b\b\b\r",
      "925/925 [==============================] - 211s 222ms/step - loss: 0.9686 - mse: 0.9686 - val_loss: 0.6942 - val_mse: 0.6942\n",
      "Epoch 2/20\n",
      "925/925 [==============================] - ETA: 0s - loss: 0.9292 - mse: 0.9292\n",
      "Epoch 2: val_loss improved from 0.69415 to 0.60332, saving model to bertIV.h5\n",
      "925/925 [==============================] - 205s 222ms/step - loss: 0.9292 - mse: 0.9292 - val_loss: 0.6033 - val_mse: 0.6033\n",
      "Epoch 3/20\n",
      "925/925 [==============================] - ETA: 0s - loss: 0.8199 - mse: 0.8199\n",
      "Epoch 3: val_loss did not improve from 0.60332\n",
      "925/925 [==============================] - 203s 220ms/step - loss: 0.8199 - mse: 0.8199 - val_loss: 0.6753 - val_mse: 0.6753\n",
      "Epoch 4/20\n",
      "925/925 [==============================] - ETA: 0s - loss: 0.8012 - mse: 0.8012\n",
      "Epoch 4: val_loss did not improve from 0.60332\n",
      "925/925 [==============================] - 204s 220ms/step - loss: 0.8012 - mse: 0.8012 - val_loss: 0.6589 - val_mse: 0.6589\n",
      "Epoch 5/20\n",
      "925/925 [==============================] - ETA: 0s - loss: 0.8423 - mse: 0.8423\n",
      "Epoch 5: val_loss did not improve from 0.60332\n",
      "925/925 [==============================] - 203s 220ms/step - loss: 0.8423 - mse: 0.8423 - val_loss: 0.7040 - val_mse: 0.7040\n",
      "Epoch 6/20\n",
      "925/925 [==============================] - ETA: 0s - loss: 0.8598 - mse: 0.8598\n",
      "Epoch 6: val_loss did not improve from 0.60332\n",
      "925/925 [==============================] - 205s 221ms/step - loss: 0.8598 - mse: 0.8598 - val_loss: 0.6101 - val_mse: 0.6101\n",
      "Epoch 7/20\n",
      "925/925 [==============================] - ETA: 0s - loss: 0.7776 - mse: 0.7776\n",
      "Epoch 7: val_loss did not improve from 0.60332\n",
      "925/925 [==============================] - 206s 222ms/step - loss: 0.7776 - mse: 0.7776 - val_loss: 0.6080 - val_mse: 0.6080\n",
      "Epoch 8/20\n",
      "925/925 [==============================] - ETA: 0s - loss: 0.7970 - mse: 0.7970\n",
      "Epoch 8: val_loss did not improve from 0.60332\n",
      "925/925 [==============================] - 205s 222ms/step - loss: 0.7970 - mse: 0.7970 - val_loss: 0.6060 - val_mse: 0.6060\n",
      "Epoch 9/20\n",
      "925/925 [==============================] - ETA: 0s - loss: 0.8060 - mse: 0.8060\n",
      "Epoch 9: val_loss did not improve from 0.60332\n",
      "925/925 [==============================] - 207s 224ms/step - loss: 0.8060 - mse: 0.8060 - val_loss: 0.6192 - val_mse: 0.6192\n",
      "Epoch 10/20\n",
      "925/925 [==============================] - ETA: 0s - loss: 0.7956 - mse: 0.7956\n",
      "Epoch 10: val_loss did not improve from 0.60332\n",
      "925/925 [==============================] - 208s 225ms/step - loss: 0.7956 - mse: 0.7956 - val_loss: 0.6192 - val_mse: 0.6192\n",
      "Epoch 11/20\n",
      "925/925 [==============================] - ETA: 0s - loss: 0.7732 - mse: 0.7732\n",
      "Epoch 11: val_loss improved from 0.60332 to 0.59759, saving model to bertIV.h5\n",
      "925/925 [==============================] - 208s 225ms/step - loss: 0.7732 - mse: 0.7732 - val_loss: 0.5976 - val_mse: 0.5976\n",
      "Epoch 12/20\n",
      "925/925 [==============================] - ETA: 0s - loss: 0.7871 - mse: 0.7871\n",
      "Epoch 12: val_loss did not improve from 0.59759\n",
      "925/925 [==============================] - 208s 224ms/step - loss: 0.7871 - mse: 0.7871 - val_loss: 0.6219 - val_mse: 0.6219\n",
      "Epoch 13/20\n",
      "925/925 [==============================] - ETA: 0s - loss: 0.7663 - mse: 0.7663\n",
      "Epoch 13: val_loss did not improve from 0.59759\n",
      "925/925 [==============================] - 208s 225ms/step - loss: 0.7663 - mse: 0.7663 - val_loss: 0.6180 - val_mse: 0.6180\n",
      "Epoch 14/20\n",
      "925/925 [==============================] - ETA: 0s - loss: 0.7550 - mse: 0.7550\n",
      "Epoch 14: val_loss did not improve from 0.59759\n",
      "925/925 [==============================] - 208s 225ms/step - loss: 0.7550 - mse: 0.7550 - val_loss: 0.6223 - val_mse: 0.6223\n",
      "Epoch 15/20\n",
      "925/925 [==============================] - ETA: 0s - loss: 0.6901 - mse: 0.6901\n",
      "Epoch 15: val_loss did not improve from 0.59759\n",
      "925/925 [==============================] - 208s 225ms/step - loss: 0.6901 - mse: 0.6901 - val_loss: 0.6064 - val_mse: 0.6064\n",
      "Epoch 16/20\n",
      "925/925 [==============================] - ETA: 0s - loss: 0.6151 - mse: 0.6151\n",
      "Epoch 16: val_loss improved from 0.59759 to 0.52811, saving model to bertIV.h5\n",
      "925/925 [==============================] - 209s 226ms/step - loss: 0.6151 - mse: 0.6151 - val_loss: 0.5281 - val_mse: 0.5281\n",
      "Epoch 17/20\n",
      "925/925 [==============================] - ETA: 0s - loss: 0.6705 - mse: 0.6705\n",
      "Epoch 17: val_loss did not improve from 0.52811\n",
      "925/925 [==============================] - 208s 225ms/step - loss: 0.6705 - mse: 0.6705 - val_loss: 0.5723 - val_mse: 0.5723\n",
      "Epoch 18/20\n",
      "925/925 [==============================] - ETA: 0s - loss: 0.6320 - mse: 0.6320\n",
      "Epoch 18: val_loss did not improve from 0.52811\n",
      "925/925 [==============================] - 208s 225ms/step - loss: 0.6320 - mse: 0.6320 - val_loss: 0.7220 - val_mse: 0.7220\n",
      "Epoch 19/20\n",
      "925/925 [==============================] - ETA: 0s - loss: 0.5934 - mse: 0.5934\n",
      "Epoch 19: val_loss did not improve from 0.52811\n",
      "925/925 [==============================] - 208s 225ms/step - loss: 0.5934 - mse: 0.5934 - val_loss: 0.5368 - val_mse: 0.5368\n",
      "Epoch 20/20\n",
      "925/925 [==============================] - ETA: 0s - loss: 0.5544 - mse: 0.5544\n",
      "Epoch 20: val_loss did not improve from 0.52811\n",
      "925/925 [==============================] - 208s 225ms/step - loss: 0.5544 - mse: 0.5544 - val_loss: 0.5590 - val_mse: 0.5590\n"
     ]
    }
   ],
   "source": [
    "learning_rates = 0.0001 # higher lerning rate\n",
    "batch_size=32\n",
    "epochs=20\n",
    "\n",
    "text_input =tf.keras.layers.Input(shape=(), dtype=tf.string, name='text')\n",
    "\n",
    "preprocessing_layer = hub.KerasLayer(tfhub_handle_preprocess, name='preprocessing')\n",
    "encoder_inputs = preprocessing_layer(text_input)\n",
    "encoder = hub.KerasLayer(tfhub_handle_encoder, trainable=True, name='BERT_encoder')\n",
    "outputs = encoder(encoder_inputs)\n",
    "net = outputs['pooled_output']\n",
    "\n",
    "\n",
    "# Neural network layers\n",
    "net=layers.Dropout(0.5)(net)\n",
    "l = tf.keras.layers.Dense(128, activation='relu', name='h1')(net)\n",
    "l = tf.keras.layers.Dense(64, activation='relu',name='h2')(l)\n",
    "l = tf.keras.layers.Dense(32, activation='relu', name='h3')(l)\n",
    "l = tf.keras.layers.Dense(16, activation='relu', name='h4')(l)\n",
    "\n",
    "l =tf.keras.layers.Dense(1,name='output')(l)\n",
    "\n",
    "model=tf.keras.Model(inputs=[text_input],outputs=[l])\n",
    "\n",
    "# Compile the model\n",
    "optimizer = tf.keras.optimizers.Adam(learning_rate=learning_rates)\n",
    "\n",
    "model.compile(optimizer= optimizer, loss='mse', metrics=['mse'])\n",
    "\n",
    "hist = model.fit(X_train, y_train, batch_size=batch_size, epochs=epochs, validation_data=(X_val, y_val),callbacks=[best_model])\n"
   ]
  },
  {
   "cell_type": "code",
   "execution_count": 10,
   "id": "SVMVJaY9_7Di",
   "metadata": {
    "id": "SVMVJaY9_7Di"
   },
   "outputs": [],
   "source": [
    "best_model_file = \"bertV.h5\"\n",
    "best_model = ModelCheckpoint(best_model_file, verbose=1, save_best_only=True, monitor='val_loss',mode='min')"
   ]
  },
  {
   "cell_type": "code",
   "execution_count": 11,
   "id": "abLdvOlT_bSh",
   "metadata": {
    "colab": {
     "base_uri": "https://localhost:8080/"
    },
    "id": "abLdvOlT_bSh",
    "outputId": "742ecc2a-b9b0-46fd-f7fa-359323c42161"
   },
   "outputs": [
    {
     "name": "stdout",
     "output_type": "stream",
     "text": [
      "Epoch 1/30\n",
      "870/870 [==============================] - ETA: 0s - loss: 0.9779 - mse: 0.9779\n",
      "Epoch 1: val_loss improved from inf to 0.69465, saving model to bertV.h5\n"
     ]
    },
    {
     "name": "stderr",
     "output_type": "stream",
     "text": [
      "/usr/local/lib/python3.10/dist-packages/keras/src/engine/training.py:3000: UserWarning: You are saving your model as an HDF5 file via `model.save()`. This file format is considered legacy. We recommend using instead the native Keras format, e.g. `model.save('my_model.keras')`.\n",
      "  saving_api.save_model(\n"
     ]
    },
    {
     "name": "stdout",
     "output_type": "stream",
     "text": [
      "\b\b\b\b\b\b\b\b\b\b\b\b\b\b\b\b\b\b\b\b\b\b\b\b\b\b\b\b\b\b\b\b\b\b\b\b\b\b\b\b\b\b\b\b\b\b\b\b\b\b\b\b\b\b\b\b\b\b\b\b\b\b\b\b\b\b\b\b\b\b\b\b\b\b\b\b\b\b\b\r",
      "870/870 [==============================] - 226s 252ms/step - loss: 0.9779 - mse: 0.9779 - val_loss: 0.6947 - val_mse: 0.6947\n",
      "Epoch 2/30\n",
      "870/870 [==============================] - ETA: 0s - loss: 0.9574 - mse: 0.9574\n",
      "Epoch 2: val_loss improved from 0.69465 to 0.67469, saving model to bertV.h5\n",
      "870/870 [==============================] - 220s 253ms/step - loss: 0.9574 - mse: 0.9574 - val_loss: 0.6747 - val_mse: 0.6747\n",
      "Epoch 3/30\n",
      "870/870 [==============================] - ETA: 0s - loss: 0.9359 - mse: 0.9359\n",
      "Epoch 3: val_loss improved from 0.67469 to 0.65213, saving model to bertV.h5\n",
      "870/870 [==============================] - 218s 251ms/step - loss: 0.9359 - mse: 0.9359 - val_loss: 0.6521 - val_mse: 0.6521\n",
      "Epoch 4/30\n",
      "870/870 [==============================] - ETA: 0s - loss: 0.9223 - mse: 0.9223\n",
      "Epoch 4: val_loss improved from 0.65213 to 0.63815, saving model to bertV.h5\n",
      "870/870 [==============================] - 220s 253ms/step - loss: 0.9223 - mse: 0.9223 - val_loss: 0.6382 - val_mse: 0.6382\n",
      "Epoch 5/30\n",
      "870/870 [==============================] - ETA: 0s - loss: 0.9049 - mse: 0.9049\n",
      "Epoch 5: val_loss improved from 0.63815 to 0.62566, saving model to bertV.h5\n",
      "870/870 [==============================] - 219s 252ms/step - loss: 0.9049 - mse: 0.9049 - val_loss: 0.6257 - val_mse: 0.6257\n",
      "Epoch 6/30\n",
      "870/870 [==============================] - ETA: 0s - loss: 0.8907 - mse: 0.8907\n",
      "Epoch 6: val_loss improved from 0.62566 to 0.61918, saving model to bertV.h5\n",
      "870/870 [==============================] - 220s 253ms/step - loss: 0.8907 - mse: 0.8907 - val_loss: 0.6192 - val_mse: 0.6192\n",
      "Epoch 7/30\n",
      "870/870 [==============================] - ETA: 0s - loss: 0.8785 - mse: 0.8785\n",
      "Epoch 7: val_loss improved from 0.61918 to 0.61660, saving model to bertV.h5\n",
      "870/870 [==============================] - 219s 251ms/step - loss: 0.8785 - mse: 0.8785 - val_loss: 0.6166 - val_mse: 0.6166\n",
      "Epoch 8/30\n",
      "870/870 [==============================] - ETA: 0s - loss: 0.8533 - mse: 0.8533\n",
      "Epoch 8: val_loss did not improve from 0.61660\n",
      "870/870 [==============================] - 218s 251ms/step - loss: 0.8533 - mse: 0.8533 - val_loss: 0.6171 - val_mse: 0.6171\n",
      "Epoch 9/30\n",
      "870/870 [==============================] - ETA: 0s - loss: 0.8037 - mse: 0.8037\n",
      "Epoch 9: val_loss did not improve from 0.61660\n",
      "870/870 [==============================] - 219s 251ms/step - loss: 0.8037 - mse: 0.8037 - val_loss: 0.6224 - val_mse: 0.6224\n",
      "Epoch 10/30\n",
      "870/870 [==============================] - ETA: 0s - loss: 0.7677 - mse: 0.7677\n",
      "Epoch 10: val_loss did not improve from 0.61660\n",
      "870/870 [==============================] - 218s 251ms/step - loss: 0.7677 - mse: 0.7677 - val_loss: 0.6303 - val_mse: 0.6303\n",
      "Epoch 11/30\n",
      "870/870 [==============================] - ETA: 0s - loss: 0.7468 - mse: 0.7468\n",
      "Epoch 11: val_loss did not improve from 0.61660\n",
      "870/870 [==============================] - 218s 251ms/step - loss: 0.7468 - mse: 0.7468 - val_loss: 0.6382 - val_mse: 0.6382\n",
      "Epoch 12/30\n",
      "870/870 [==============================] - ETA: 0s - loss: 0.7374 - mse: 0.7374\n",
      "Epoch 12: val_loss did not improve from 0.61660\n",
      "870/870 [==============================] - 219s 251ms/step - loss: 0.7374 - mse: 0.7374 - val_loss: 0.6444 - val_mse: 0.6444\n",
      "Epoch 13/30\n",
      "870/870 [==============================] - ETA: 0s - loss: 0.7449 - mse: 0.7449\n",
      "Epoch 13: val_loss did not improve from 0.61660\n",
      "870/870 [==============================] - 218s 251ms/step - loss: 0.7449 - mse: 0.7449 - val_loss: 0.6270 - val_mse: 0.6270\n",
      "Epoch 14/30\n",
      "870/870 [==============================] - ETA: 0s - loss: 0.7241 - mse: 0.7241\n",
      "Epoch 14: val_loss did not improve from 0.61660\n",
      "870/870 [==============================] - 219s 252ms/step - loss: 0.7241 - mse: 0.7241 - val_loss: 0.6494 - val_mse: 0.6494\n",
      "Epoch 15/30\n",
      "870/870 [==============================] - ETA: 0s - loss: 0.6816 - mse: 0.6816\n",
      "Epoch 15: val_loss did not improve from 0.61660\n",
      "870/870 [==============================] - 218s 250ms/step - loss: 0.6816 - mse: 0.6816 - val_loss: 0.6189 - val_mse: 0.6189\n",
      "Epoch 16/30\n",
      "870/870 [==============================] - ETA: 0s - loss: 0.6562 - mse: 0.6562\n",
      "Epoch 16: val_loss did not improve from 0.61660\n",
      "870/870 [==============================] - 218s 251ms/step - loss: 0.6562 - mse: 0.6562 - val_loss: 0.6601 - val_mse: 0.6601\n",
      "Epoch 17/30\n",
      "870/870 [==============================] - ETA: 0s - loss: 0.6072 - mse: 0.6072\n",
      "Epoch 17: val_loss did not improve from 0.61660\n",
      "870/870 [==============================] - 218s 251ms/step - loss: 0.6072 - mse: 0.6072 - val_loss: 0.6751 - val_mse: 0.6751\n",
      "Epoch 18/30\n",
      "870/870 [==============================] - ETA: 0s - loss: 0.5937 - mse: 0.5937\n",
      "Epoch 18: val_loss did not improve from 0.61660\n",
      "870/870 [==============================] - 218s 250ms/step - loss: 0.5937 - mse: 0.5937 - val_loss: 0.6466 - val_mse: 0.6466\n",
      "Epoch 19/30\n",
      "870/870 [==============================] - ETA: 0s - loss: 0.5695 - mse: 0.5695\n",
      "Epoch 19: val_loss improved from 0.61660 to 0.58032, saving model to bertV.h5\n",
      "870/870 [==============================] - 218s 251ms/step - loss: 0.5695 - mse: 0.5695 - val_loss: 0.5803 - val_mse: 0.5803\n",
      "Epoch 20/30\n",
      "870/870 [==============================] - ETA: 0s - loss: 0.5015 - mse: 0.5015\n",
      "Epoch 20: val_loss did not improve from 0.58032\n",
      "870/870 [==============================] - 218s 250ms/step - loss: 0.5015 - mse: 0.5015 - val_loss: 0.5885 - val_mse: 0.5885\n",
      "Epoch 21/30\n",
      "870/870 [==============================] - ETA: 0s - loss: 0.4557 - mse: 0.4557\n",
      "Epoch 21: val_loss improved from 0.58032 to 0.55840, saving model to bertV.h5\n",
      "870/870 [==============================] - 219s 252ms/step - loss: 0.4557 - mse: 0.4557 - val_loss: 0.5584 - val_mse: 0.5584\n",
      "Epoch 22/30\n",
      "870/870 [==============================] - ETA: 0s - loss: 0.4112 - mse: 0.4112\n",
      "Epoch 22: val_loss did not improve from 0.55840\n",
      "870/870 [==============================] - 218s 251ms/step - loss: 0.4112 - mse: 0.4112 - val_loss: 0.5686 - val_mse: 0.5686\n",
      "Epoch 23/30\n",
      "870/870 [==============================] - ETA: 0s - loss: 0.3915 - mse: 0.3915\n",
      "Epoch 23: val_loss did not improve from 0.55840\n",
      "870/870 [==============================] - 218s 250ms/step - loss: 0.3915 - mse: 0.3915 - val_loss: 0.5806 - val_mse: 0.5806\n",
      "Epoch 24/30\n",
      "870/870 [==============================] - ETA: 0s - loss: 0.3807 - mse: 0.3807\n",
      "Epoch 24: val_loss did not improve from 0.55840\n",
      "870/870 [==============================] - 218s 251ms/step - loss: 0.3807 - mse: 0.3807 - val_loss: 0.6109 - val_mse: 0.6109\n",
      "Epoch 25/30\n",
      "870/870 [==============================] - ETA: 0s - loss: 0.3344 - mse: 0.3344\n",
      "Epoch 25: val_loss did not improve from 0.55840\n",
      "870/870 [==============================] - 218s 250ms/step - loss: 0.3344 - mse: 0.3344 - val_loss: 0.5632 - val_mse: 0.5632\n",
      "Epoch 26/30\n",
      "870/870 [==============================] - ETA: 0s - loss: 0.3256 - mse: 0.3256\n",
      "Epoch 26: val_loss did not improve from 0.55840\n",
      "870/870 [==============================] - 218s 251ms/step - loss: 0.3256 - mse: 0.3256 - val_loss: 0.5921 - val_mse: 0.5921\n",
      "Epoch 27/30\n",
      "870/870 [==============================] - ETA: 0s - loss: 0.2868 - mse: 0.2868\n",
      "Epoch 27: val_loss did not improve from 0.55840\n",
      "870/870 [==============================] - 218s 250ms/step - loss: 0.2868 - mse: 0.2868 - val_loss: 0.5916 - val_mse: 0.5916\n",
      "Epoch 28/30\n",
      "870/870 [==============================] - ETA: 0s - loss: 0.2889 - mse: 0.2889\n",
      "Epoch 28: val_loss did not improve from 0.55840\n",
      "870/870 [==============================] - 218s 250ms/step - loss: 0.2889 - mse: 0.2889 - val_loss: 0.5880 - val_mse: 0.5880\n",
      "Epoch 29/30\n",
      "870/870 [==============================] - ETA: 0s - loss: 0.2881 - mse: 0.2881\n",
      "Epoch 29: val_loss did not improve from 0.55840\n",
      "870/870 [==============================] - 218s 251ms/step - loss: 0.2881 - mse: 0.2881 - val_loss: 0.5791 - val_mse: 0.5791\n",
      "Epoch 30/30\n",
      "870/870 [==============================] - ETA: 0s - loss: 0.2481 - mse: 0.2481\n",
      "Epoch 30: val_loss did not improve from 0.55840\n",
      "870/870 [==============================] - 218s 250ms/step - loss: 0.2481 - mse: 0.2481 - val_loss: 0.5848 - val_mse: 0.5848\n"
     ]
    }
   ],
   "source": [
    "learning_rates = 0.000015 # lower lr\n",
    "batch_size=34\n",
    "epochs=30 # more epochs\n",
    "\n",
    "\n",
    "text_input =tf.keras.layers.Input(shape=(), dtype=tf.string, name='text')\n",
    "\n",
    "preprocessing_layer = hub.KerasLayer(tfhub_handle_preprocess, name='preprocessing')\n",
    "encoder_inputs = preprocessing_layer(text_input)\n",
    "encoder = hub.KerasLayer(tfhub_handle_encoder, trainable=True, name='BERT_encoder')\n",
    "outputs = encoder(encoder_inputs)\n",
    "net = outputs['pooled_output']\n",
    "\n",
    "\n",
    "# Neural network layers\n",
    "net=layers.Dropout(0.5)(net)\n",
    "l = tf.keras.layers.Dense(128, activation='relu', name='h1')(net)\n",
    "l = tf.keras.layers.Dense(64, activation='relu',name='h2')(l)\n",
    "l = tf.keras.layers.Dense(32, activation='relu', name='h3')(l)\n",
    "l = tf.keras.layers.Dense(16, activation='relu', name='h4')(l)\n",
    "\n",
    "l =tf.keras.layers.Dense(1,name='output')(l)\n",
    "\n",
    "model=tf.keras.Model(inputs=[text_input],outputs=[l])\n",
    "\n",
    "# Compile the model\n",
    "optimizer = tf.keras.optimizers.Adam(learning_rate=learning_rates)\n",
    "\n",
    "model.compile(optimizer= optimizer, loss='mse', metrics=['mse'])\n",
    "\n",
    "hist = model.fit(X_train, y_train, batch_size=batch_size, epochs=epochs, validation_data=(X_val, y_val),callbacks=[best_model])\n"
   ]
  },
  {
   "cell_type": "code",
   "execution_count": 13,
   "id": "2Gsm_i-yBbtc",
   "metadata": {
    "id": "2Gsm_i-yBbtc"
   },
   "outputs": [],
   "source": [
    "best_model_file = \"bertVI.h5\"\n",
    "best_model = ModelCheckpoint(best_model_file, verbose=1, save_best_only=True, monitor='val_loss',mode='min')\n"
   ]
  },
  {
   "cell_type": "code",
   "execution_count": 14,
   "id": "R9K7PKMBBIAc",
   "metadata": {
    "colab": {
     "base_uri": "https://localhost:8080/"
    },
    "id": "R9K7PKMBBIAc",
    "outputId": "e4744d20-586b-4bda-f485-96f962997c6b"
   },
   "outputs": [
    {
     "name": "stdout",
     "output_type": "stream",
     "text": [
      "Epoch 1/30\n",
      "925/925 [==============================] - ETA: 0s - loss: 0.9897 - mse: 0.9897\n",
      "Epoch 1: val_loss improved from inf to 0.70626, saving model to bertVI.h5\n"
     ]
    },
    {
     "name": "stderr",
     "output_type": "stream",
     "text": [
      "/usr/local/lib/python3.10/dist-packages/keras/src/engine/training.py:3000: UserWarning: You are saving your model as an HDF5 file via `model.save()`. This file format is considered legacy. We recommend using instead the native Keras format, e.g. `model.save('my_model.keras')`.\n",
      "  saving_api.save_model(\n"
     ]
    },
    {
     "name": "stdout",
     "output_type": "stream",
     "text": [
      "\b\b\b\b\b\b\b\b\b\b\b\b\b\b\b\b\b\b\b\b\b\b\b\b\b\b\b\b\b\b\b\b\b\b\b\b\b\b\b\b\b\b\b\b\b\b\b\b\b\b\b\b\b\b\b\b\b\b\b\b\b\b\b\b\b\b\b\b\b\b\b\b\b\b\b\b\b\b\b\r",
      "925/925 [==============================] - 227s 239ms/step - loss: 0.9897 - mse: 0.9897 - val_loss: 0.7063 - val_mse: 0.7063\n",
      "Epoch 2/30\n",
      "925/925 [==============================] - ETA: 0s - loss: 0.9695 - mse: 0.9695\n",
      "Epoch 2: val_loss did not improve from 0.70626\n",
      "925/925 [==============================] - 221s 239ms/step - loss: 0.9695 - mse: 0.9695 - val_loss: 0.7065 - val_mse: 0.7065\n",
      "Epoch 3/30\n",
      "925/925 [==============================] - ETA: 0s - loss: 0.9702 - mse: 0.9702\n",
      "Epoch 3: val_loss improved from 0.70626 to 0.70605, saving model to bertVI.h5\n",
      "925/925 [==============================] - 221s 239ms/step - loss: 0.9702 - mse: 0.9702 - val_loss: 0.7061 - val_mse: 0.7061\n",
      "Epoch 4/30\n",
      "925/925 [==============================] - ETA: 0s - loss: 0.9686 - mse: 0.9686\n",
      "Epoch 4: val_loss improved from 0.70605 to 0.70524, saving model to bertVI.h5\n",
      "925/925 [==============================] - 222s 240ms/step - loss: 0.9686 - mse: 0.9686 - val_loss: 0.7052 - val_mse: 0.7052\n",
      "Epoch 5/30\n",
      "925/925 [==============================] - ETA: 0s - loss: 0.9683 - mse: 0.9683\n",
      "Epoch 5: val_loss improved from 0.70524 to 0.70499, saving model to bertVI.h5\n",
      "925/925 [==============================] - 221s 239ms/step - loss: 0.9683 - mse: 0.9683 - val_loss: 0.7050 - val_mse: 0.7050\n",
      "Epoch 6/30\n",
      "925/925 [==============================] - ETA: 0s - loss: 0.9671 - mse: 0.9671\n",
      "Epoch 6: val_loss improved from 0.70499 to 0.70140, saving model to bertVI.h5\n",
      "925/925 [==============================] - 221s 239ms/step - loss: 0.9671 - mse: 0.9671 - val_loss: 0.7014 - val_mse: 0.7014\n",
      "Epoch 7/30\n",
      "925/925 [==============================] - ETA: 0s - loss: 0.9618 - mse: 0.9618\n",
      "Epoch 7: val_loss improved from 0.70140 to 0.69583, saving model to bertVI.h5\n",
      "925/925 [==============================] - 221s 238ms/step - loss: 0.9618 - mse: 0.9618 - val_loss: 0.6958 - val_mse: 0.6958\n",
      "Epoch 8/30\n",
      "925/925 [==============================] - ETA: 0s - loss: 0.9366 - mse: 0.9366\n",
      "Epoch 8: val_loss improved from 0.69583 to 0.61797, saving model to bertVI.h5\n",
      "925/925 [==============================] - 221s 239ms/step - loss: 0.9366 - mse: 0.9366 - val_loss: 0.6180 - val_mse: 0.6180\n",
      "Epoch 9/30\n",
      "925/925 [==============================] - ETA: 0s - loss: 0.8592 - mse: 0.8592\n",
      "Epoch 9: val_loss improved from 0.61797 to 0.61352, saving model to bertVI.h5\n",
      "925/925 [==============================] - 225s 243ms/step - loss: 0.8592 - mse: 0.8592 - val_loss: 0.6135 - val_mse: 0.6135\n",
      "Epoch 10/30\n",
      "925/925 [==============================] - ETA: 0s - loss: 0.8224 - mse: 0.8224\n",
      "Epoch 10: val_loss did not improve from 0.61352\n",
      "925/925 [==============================] - 220s 238ms/step - loss: 0.8224 - mse: 0.8224 - val_loss: 0.6228 - val_mse: 0.6228\n",
      "Epoch 11/30\n",
      "925/925 [==============================] - ETA: 0s - loss: 0.8160 - mse: 0.8160\n",
      "Epoch 11: val_loss did not improve from 0.61352\n",
      "925/925 [==============================] - 222s 240ms/step - loss: 0.8160 - mse: 0.8160 - val_loss: 0.7069 - val_mse: 0.7069\n",
      "Epoch 12/30\n",
      "925/925 [==============================] - ETA: 0s - loss: 0.7875 - mse: 0.7875\n",
      "Epoch 12: val_loss improved from 0.61352 to 0.46214, saving model to bertVI.h5\n",
      "925/925 [==============================] - 221s 239ms/step - loss: 0.7875 - mse: 0.7875 - val_loss: 0.4621 - val_mse: 0.4621\n",
      "Epoch 13/30\n",
      "925/925 [==============================] - ETA: 0s - loss: 0.7726 - mse: 0.7726\n",
      "Epoch 13: val_loss did not improve from 0.46214\n",
      "925/925 [==============================] - 221s 239ms/step - loss: 0.7726 - mse: 0.7726 - val_loss: 0.5751 - val_mse: 0.5751\n",
      "Epoch 14/30\n",
      "925/925 [==============================] - ETA: 0s - loss: 0.7509 - mse: 0.7509\n",
      "Epoch 14: val_loss did not improve from 0.46214\n",
      "925/925 [==============================] - 222s 240ms/step - loss: 0.7509 - mse: 0.7509 - val_loss: 0.5764 - val_mse: 0.5764\n",
      "Epoch 15/30\n",
      "925/925 [==============================] - ETA: 0s - loss: 0.6637 - mse: 0.6637\n",
      "Epoch 15: val_loss did not improve from 0.46214\n",
      "925/925 [==============================] - 222s 240ms/step - loss: 0.6637 - mse: 0.6637 - val_loss: 0.8223 - val_mse: 0.8223\n",
      "Epoch 16/30\n",
      "925/925 [==============================] - ETA: 0s - loss: 0.7530 - mse: 0.7530\n",
      "Epoch 16: val_loss did not improve from 0.46214\n",
      "925/925 [==============================] - 221s 239ms/step - loss: 0.7530 - mse: 0.7530 - val_loss: 0.5269 - val_mse: 0.5269\n",
      "Epoch 17/30\n",
      "925/925 [==============================] - ETA: 0s - loss: 0.6375 - mse: 0.6375\n",
      "Epoch 17: val_loss improved from 0.46214 to 0.35774, saving model to bertVI.h5\n",
      "925/925 [==============================] - 223s 242ms/step - loss: 0.6375 - mse: 0.6375 - val_loss: 0.3577 - val_mse: 0.3577\n",
      "Epoch 18/30\n",
      "925/925 [==============================] - ETA: 0s - loss: 0.6338 - mse: 0.6338\n",
      "Epoch 18: val_loss improved from 0.35774 to 0.31275, saving model to bertVI.h5\n",
      "925/925 [==============================] - 224s 242ms/step - loss: 0.6338 - mse: 0.6338 - val_loss: 0.3127 - val_mse: 0.3127\n",
      "Epoch 19/30\n",
      "925/925 [==============================] - ETA: 0s - loss: 0.6062 - mse: 0.6062\n",
      "Epoch 19: val_loss did not improve from 0.31275\n",
      "925/925 [==============================] - 224s 243ms/step - loss: 0.6062 - mse: 0.6062 - val_loss: 0.4055 - val_mse: 0.4055\n",
      "Epoch 20/30\n",
      "925/925 [==============================] - ETA: 0s - loss: 0.6153 - mse: 0.6153\n",
      "Epoch 20: val_loss did not improve from 0.31275\n",
      "925/925 [==============================] - 225s 243ms/step - loss: 0.6153 - mse: 0.6153 - val_loss: 0.3506 - val_mse: 0.3506\n",
      "Epoch 21/30\n",
      "925/925 [==============================] - ETA: 0s - loss: 0.5826 - mse: 0.5826\n",
      "Epoch 21: val_loss did not improve from 0.31275\n",
      "925/925 [==============================] - 225s 243ms/step - loss: 0.5826 - mse: 0.5826 - val_loss: 0.4422 - val_mse: 0.4422\n",
      "Epoch 22/30\n",
      "925/925 [==============================] - ETA: 0s - loss: 0.5477 - mse: 0.5477\n",
      "Epoch 22: val_loss did not improve from 0.31275\n",
      "925/925 [==============================] - 224s 242ms/step - loss: 0.5477 - mse: 0.5477 - val_loss: 0.3676 - val_mse: 0.3676\n",
      "Epoch 23/30\n",
      "925/925 [==============================] - ETA: 0s - loss: 0.5292 - mse: 0.5292\n",
      "Epoch 23: val_loss did not improve from 0.31275\n",
      "925/925 [==============================] - 224s 242ms/step - loss: 0.5292 - mse: 0.5292 - val_loss: 0.3544 - val_mse: 0.3544\n",
      "Epoch 24/30\n",
      "925/925 [==============================] - ETA: 0s - loss: 0.5634 - mse: 0.5634\n",
      "Epoch 24: val_loss did not improve from 0.31275\n",
      "925/925 [==============================] - 224s 242ms/step - loss: 0.5634 - mse: 0.5634 - val_loss: 0.6269 - val_mse: 0.6269\n",
      "Epoch 25/30\n",
      "925/925 [==============================] - ETA: 0s - loss: 0.6092 - mse: 0.6092\n",
      "Epoch 25: val_loss did not improve from 0.31275\n",
      "925/925 [==============================] - 224s 242ms/step - loss: 0.6092 - mse: 0.6092 - val_loss: 0.6775 - val_mse: 0.6775\n",
      "Epoch 26/30\n",
      "925/925 [==============================] - ETA: 0s - loss: 0.6171 - mse: 0.6171\n",
      "Epoch 26: val_loss did not improve from 0.31275\n",
      "925/925 [==============================] - 225s 243ms/step - loss: 0.6171 - mse: 0.6171 - val_loss: 0.3858 - val_mse: 0.3858\n",
      "Epoch 27/30\n",
      "925/925 [==============================] - ETA: 0s - loss: 0.6404 - mse: 0.6404\n",
      "Epoch 27: val_loss did not improve from 0.31275\n",
      "925/925 [==============================] - 225s 243ms/step - loss: 0.6404 - mse: 0.6404 - val_loss: 0.5796 - val_mse: 0.5796\n",
      "Epoch 28/30\n",
      "925/925 [==============================] - ETA: 0s - loss: 0.6527 - mse: 0.6527\n",
      "Epoch 28: val_loss did not improve from 0.31275\n",
      "925/925 [==============================] - 224s 242ms/step - loss: 0.6527 - mse: 0.6527 - val_loss: 0.4515 - val_mse: 0.4515\n",
      "Epoch 29/30\n",
      "925/925 [==============================] - ETA: 0s - loss: 0.5575 - mse: 0.5575\n",
      "Epoch 29: val_loss did not improve from 0.31275\n",
      "925/925 [==============================] - 224s 242ms/step - loss: 0.5575 - mse: 0.5575 - val_loss: 0.3347 - val_mse: 0.3347\n",
      "Epoch 30/30\n",
      "925/925 [==============================] - ETA: 0s - loss: 0.5430 - mse: 0.5430\n",
      "Epoch 30: val_loss did not improve from 0.31275\n",
      "925/925 [==============================] - 224s 243ms/step - loss: 0.5430 - mse: 0.5430 - val_loss: 0.5943 - val_mse: 0.5943\n"
     ]
    }
   ],
   "source": [
    "learning_rates = 0.0001 # higher\n",
    "batch_size=32\n",
    "epochs=30 # more epochs\n",
    "\n",
    "\n",
    "text_input =tf.keras.layers.Input(shape=(), dtype=tf.string, name='text')\n",
    "\n",
    "preprocessing_layer = hub.KerasLayer(tfhub_handle_preprocess, name='preprocessing')\n",
    "encoder_inputs = preprocessing_layer(text_input)\n",
    "encoder = hub.KerasLayer(tfhub_handle_encoder, trainable=True, name='BERT_encoder')\n",
    "outputs = encoder(encoder_inputs)\n",
    "net = outputs['pooled_output']\n",
    "\n",
    "\n",
    "# Neural network layers\n",
    "net=layers.Dropout(0.5)(net)\n",
    "l = tf.keras.layers.Dense(128, activation='relu', name='h1')(net)\n",
    "l=layers.Dropout(0.5)(l)\n",
    "l = tf.keras.layers.Dense(64, activation='relu',name='h2')(l)\n",
    "l = tf.keras.layers.Dense(32, activation='relu', name='h3')(l)\n",
    "l = tf.keras.layers.Dense(16, activation='relu', name='h4')(l)\n",
    "\n",
    "l =tf.keras.layers.Dense(1,name='output')(l)\n",
    "\n",
    "model=tf.keras.Model(inputs=[text_input],outputs=[l])\n",
    "\n",
    "# Compile the model\n",
    "optimizer = tf.keras.optimizers.Adam(learning_rate=learning_rates)\n",
    "\n",
    "model.compile(optimizer= optimizer, loss='mse', metrics=['mse'])\n",
    "\n",
    "hist = model.fit(X_train, y_train, batch_size=batch_size, epochs=epochs, validation_data=(X_val, y_val),callbacks=[best_model])\n"
   ]
  },
  {
   "cell_type": "code",
   "execution_count": null,
   "id": "q6W8yVx-eSt0",
   "metadata": {
    "id": "q6W8yVx-eSt0"
   },
   "outputs": [],
   "source": [
    "hist.history"
   ]
  },
  {
   "cell_type": "code",
   "execution_count": 17,
   "id": "CA1zETQBdJt7",
   "metadata": {
    "colab": {
     "base_uri": "https://localhost:8080/",
     "height": 472
    },
    "id": "CA1zETQBdJt7",
    "outputId": "c722733a-fa0a-4e4d-ab4b-bee79833dda0"
   },
   "outputs": [
    {
     "data": {
      "image/png": "[encoded data removed]",
      "text/plain": [
       "<Figure size 640x480 with 1 Axes>"
      ]
     },
     "metadata": {},
     "output_type": "display_data"
    }
   ],
   "source": [
    "\n",
    "plt.scatter(range(1,31), hist.history['loss'], label='training data losses')\n",
    "plt.scatter(range(1,31), hist.history['val_loss'], label='validation data losses', color='orange')\n",
    "plt.xlabel('Epochs')\n",
    "plt.ylabel('Losses')\n",
    "plt.title('Losses vs. Epochs')\n",
    "plt.legend( )\n",
    "plt.show()"
   ]
  },
  {
   "cell_type": "code",
   "execution_count": 21,
   "id": "4Lhqupm7fduv",
   "metadata": {
    "id": "4Lhqupm7fduv"
   },
   "outputs": [],
   "source": [
    "# Recreate the exact same model, including its weights and the optimizer\n",
    "final_model = tf.keras.models.load_model('bertVI.h5',\n",
    "       custom_objects={'KerasLayer':hub.KerasLayer}\n",
    ")\n"
   ]
  },
  {
   "cell_type": "code",
   "execution_count": 22,
   "id": "6SSnJHWneeU9",
   "metadata": {
    "colab": {
     "base_uri": "https://localhost:8080/"
    },
    "id": "6SSnJHWneeU9",
    "outputId": "ebd9aabf-0d9b-4bcd-a96a-1ff16ca6b3c1"
   },
   "outputs": [
    {
     "name": "stdout",
     "output_type": "stream",
     "text": [
      "MSE for train set 0.5702778100967407\n",
      "MSE for val set 0.31274986267089844\n",
      "MSE for test set 0.11690182238817215\n"
     ]
    }
   ],
   "source": [
    "MSE_train = final_model.evaluate(X_train, y_train, verbose=0)[0]\n",
    "MSE_val = final_model.evaluate(X_val, y_val, verbose=0)[0]\n",
    "MSE_test = final_model.evaluate(X_test, y_test, verbose=0)[0]\n",
    "\n",
    "print('MSE for train set', MSE_train)\n",
    "print('MSE for val set', MSE_val)\n",
    "print('MSE for test set', MSE_test)"
   ]
  },
  {
   "cell_type": "code",
   "execution_count": 24,
   "id": "8Qxc-E78gojt",
   "metadata": {
    "colab": {
     "base_uri": "https://localhost:8080/"
    },
    "id": "8Qxc-E78gojt",
    "outputId": "649205b9-f494-470d-91d2-fdf662331a2d"
   },
   "outputs": [
    {
     "name": "stdout",
     "output_type": "stream",
     "text": [
      "199/199 [==============================] - 15s 72ms/step\n"
     ]
    }
   ],
   "source": [
    "#Predictions\n",
    "Y_test_hat=final_model.predict(X_test)"
   ]
  },
  {
   "cell_type": "code",
   "execution_count": 36,
   "id": "sGAe-Ok5hkMe",
   "metadata": {
    "colab": {
     "base_uri": "https://localhost:8080/",
     "height": 472
    },
    "id": "sGAe-Ok5hkMe",
    "outputId": "51ce2bad-31dc-4203-a4ff-f62a017bb189"
   },
   "outputs": [
    {
     "data": {
      "image/png": "[encoded data removed]",
      "text/plain": [
       "<Figure size 640x480 with 1 Axes>"
      ]
     },
     "metadata": {},
     "output_type": "display_data"
    }
   ],
   "source": [
    "\n",
    "plt.scatter(y_test, Y_test_hat, label='training data losses')\n",
    "plt.plot([0,45], [0,45], 'k-')\n",
    "plt.xlabel('Test Engagement score std')\n",
    "plt.ylabel('Predicted Engement Score test set')\n",
    "plt.title('Comparison of predictions and true values for test set')\n",
    "plt.show()"
   ]
  },
  {
   "cell_type": "code",
   "execution_count": 82,
   "id": "rBwRDqygqY2W",
   "metadata": {
    "colab": {
     "base_uri": "https://localhost:8080/",
     "height": 472
    },
    "id": "rBwRDqygqY2W",
    "outputId": "f2d0606c-cafa-462f-ded2-5c05d66a1d0a"
   },
   "outputs": [
    {
     "data": {
      "image/png": "[encoded data removed]",
      "text/plain": [
       "<Figure size 640x480 with 1 Axes>"
      ]
     },
     "metadata": {},
     "output_type": "display_data"
    }
   ],
   "source": [
    "plt.hist(abs((Y_test_hat-y_test)))\n",
    "plt.xlabel('Absolute error')\n",
    "plt.ylabel('Frequency')\n",
    "plt.title('Histogram of model errors for test set')\n",
    "plt.show()"
   ]
  },
  {
   "cell_type": "markdown",
   "id": "mJf1jGSRooDe",
   "metadata": {
    "id": "mJf1jGSRooDe"
   },
   "source": [
    "## Worst prediction"
   ]
  },
  {
   "cell_type": "code",
   "execution_count": null,
   "id": "X7uCtsjOo13t",
   "metadata": {
    "id": "X7uCtsjOo13t"
   },
   "outputs": [],
   "source": [
    "X_test= pd.read_csv('X_test.csv')\n",
    "y_test_org= pd.read_csv('y_test.csv')"
   ]
  },
  {
   "cell_type": "code",
   "execution_count": 58,
   "id": "iAjUOR7El8Sh",
   "metadata": {
    "colab": {
     "base_uri": "https://localhost:8080/"
    },
    "id": "iAjUOR7El8Sh",
    "outputId": "63e990b7-9550-4048-99f7-8de3d450a811"
   },
   "outputs": [
    {
     "data": {
      "text/plain": [
       "42.247149832468594"
      ]
     },
     "execution_count": 58,
     "metadata": {},
     "output_type": "execute_result"
    }
   ],
   "source": [
    "y_test.max()"
   ]
  },
  {
   "cell_type": "code",
   "execution_count": 52,
   "id": "FdMHkcLhiNEC",
   "metadata": {
    "id": "FdMHkcLhiNEC"
   },
   "outputs": [],
   "source": [
    "y_testmax=y_test.max()"
   ]
  },
  {
   "cell_type": "code",
   "execution_count": 83,
   "id": "vytwZ2KqjpGO",
   "metadata": {
    "colab": {
     "base_uri": "https://localhost:8080/"
    },
    "id": "vytwZ2KqjpGO",
    "outputId": "18f162d1-764b-429b-bb2a-210459f6904c"
   },
   "outputs": [
    {
     "data": {
      "text/plain": [
       "18.155576117258633"
      ]
     },
     "execution_count": 83,
     "metadata": {},
     "output_type": "execute_result"
    }
   ],
   "source": [
    "(abs(Y_test_hat-y_test)).max()"
   ]
  },
  {
   "cell_type": "code",
   "execution_count": 57,
   "id": "-Fd9X6Orj75r",
   "metadata": {
    "colab": {
     "base_uri": "https://localhost:8080/",
     "height": 81
    },
    "id": "-Fd9X6Orj75r",
    "outputId": "5799a6a1-fcc9-4f54-ec2c-79d060bd26ed"
   },
   "outputs": [
    {
     "data": {
      "application/vnd.google.colaboratory.intrinsic+json": {
       "summary": "{\n  \"name\": \"y_test_org[y_test_org['engagement_score_std']==y_testmax]\",\n  \"rows\": 1,\n  \"fields\": [\n    {\n      \"column\": \"engagement_score_std\",\n      \"properties\": {\n        \"dtype\": \"number\",\n        \"std\": null,\n        \"min\": 42.247149832468594,\n        \"max\": 42.247149832468594,\n        \"num_unique_values\": 1,\n        \"samples\": [\n          42.247149832468594\n        ],\n        \"semantic_type\": \"\",\n        \"description\": \"\"\n      }\n    }\n  ]\n}",
       "type": "dataframe"
      },
      "text/html": [
       "\n",
       "  <div id=\"df-4c9e1af7-8b92-499a-8a45-2236a17e5697\" class=\"colab-df-container\">\n",
       "    <div>\n",
       "<style scoped>\n",
       "    .dataframe tbody tr th:only-of-type {\n",
       "        vertical-align: middle;\n",
       "    }\n",
       "\n",
       "    .dataframe tbody tr th {\n",
       "        vertical-align: top;\n",
       "    }\n",
       "\n",
       "    .dataframe thead th {\n",
       "        text-align: right;\n",
       "    }\n",
       "</style>\n",
       "<table border=\"1\" class=\"dataframe\">\n",
       "  <thead>\n",
       "    <tr style=\"text-align: right;\">\n",
       "      <th></th>\n",
       "      <th>engagement_score_std</th>\n",
       "    </tr>\n",
       "  </thead>\n",
       "  <tbody>\n",
       "    <tr>\n",
       "      <th>5071</th>\n",
       "      <td>42.24715</td>\n",
       "    </tr>\n",
       "  </tbody>\n",
       "</table>\n",
       "</div>\n",
       "    <div class=\"colab-df-buttons\">\n",
       "\n",
       "  <div class=\"colab-df-container\">\n",
       "    <button class=\"colab-df-convert\" onclick=\"convertToInteractive('df-4c9e1af7-8b92-499a-8a45-2236a17e5697')\"\n",
       "            title=\"Convert this dataframe to an interactive table.\"\n",
       "            style=\"display:none;\">\n",
       "\n",
       "  <svg xmlns=\"http://www.w3.org/2000/svg\" height=\"24px\" viewBox=\"0 -960 960 960\">\n",
       "    <path d=\"M120-120v-720h720v720H120Zm60-500h600v-160H180v160Zm220 220h160v-160H400v160Zm0 220h160v-160H400v160ZM180-400h160v-160H180v160Zm440 0h160v-160H620v160ZM180-180h160v-160H180v160Zm440 0h160v-160H620v160Z\"/>\n",
       "  </svg>\n",
       "    </button>\n",
       "\n",
       "  <style>\n",
       "    .colab-df-container {\n",
       "      display:flex;\n",
       "      gap: 12px;\n",
       "    }\n",
       "\n",
       "    .colab-df-convert {\n",
       "      background-color: #E8F0FE;\n",
       "      border: none;\n",
       "      border-radius: 50%;\n",
       "      cursor: pointer;\n",
       "      display: none;\n",
       "      fill: #1967D2;\n",
       "      height: 32px;\n",
       "      padding: 0 0 0 0;\n",
       "      width: 32px;\n",
       "    }\n",
       "\n",
       "    .colab-df-convert:hover {\n",
       "      background-color: #E2EBFA;\n",
       "      box-shadow: 0px 1px 2px rgba(60, 64, 67, 0.3), 0px 1px 3px 1px rgba(60, 64, 67, 0.15);\n",
       "      fill: #174EA6;\n",
       "    }\n",
       "\n",
       "    .colab-df-buttons div {\n",
       "      margin-bottom: 4px;\n",
       "    }\n",
       "\n",
       "    [theme=dark] .colab-df-convert {\n",
       "      background-color: #3B4455;\n",
       "      fill: #D2E3FC;\n",
       "    }\n",
       "\n",
       "    [theme=dark] .colab-df-convert:hover {\n",
       "      background-color: #434B5C;\n",
       "      box-shadow: 0px 1px 3px 1px rgba(0, 0, 0, 0.15);\n",
       "      filter: drop-shadow(0px 1px 2px rgba(0, 0, 0, 0.3));\n",
       "      fill: #FFFFFF;\n",
       "    }\n",
       "  </style>\n",
       "\n",
       "    <script>\n",
       "      const buttonEl =\n",
       "        document.querySelector('#df-4c9e1af7-8b92-499a-8a45-2236a17e5697 button.colab-df-convert');\n",
       "      buttonEl.style.display =\n",
       "        google.colab.kernel.accessAllowed ? 'block' : 'none';\n",
       "\n",
       "      async function convertToInteractive(key) {\n",
       "        const element = document.querySelector('#df-4c9e1af7-8b92-499a-8a45-2236a17e5697');\n",
       "        const dataTable =\n",
       "          await google.colab.kernel.invokeFunction('convertToInteractive',\n",
       "                                                    [key], {});\n",
       "        if (!dataTable) return;\n",
       "\n",
       "        const docLinkHtml = 'Like what you see? Visit the ' +\n",
       "          '<a target=\"_blank\" href=https://colab.research.google.com/notebooks/data_table.ipynb>data table notebook</a>'\n",
       "          + ' to learn more about interactive tables.';\n",
       "        element.innerHTML = '';\n",
       "        dataTable['output_type'] = 'display_data';\n",
       "        await google.colab.output.renderOutput(dataTable, element);\n",
       "        const docLink = document.createElement('div');\n",
       "        docLink.innerHTML = docLinkHtml;\n",
       "        element.appendChild(docLink);\n",
       "      }\n",
       "    </script>\n",
       "  </div>\n",
       "\n",
       "\n",
       "    </div>\n",
       "  </div>\n"
      ],
      "text/plain": [
       "      engagement_score_std\n",
       "5071              42.24715"
      ]
     },
     "execution_count": 57,
     "metadata": {},
     "output_type": "execute_result"
    }
   ],
   "source": [
    "y_test_org[y_test_org['engagement_score_std']==y_testmax]"
   ]
  },
  {
   "cell_type": "code",
   "execution_count": 63,
   "id": "8UWV3pcKkHgr",
   "metadata": {
    "colab": {
     "base_uri": "https://localhost:8080/",
     "height": 1000
    },
    "id": "8UWV3pcKkHgr",
    "outputId": "fe84223a-c797-4cba-865d-05ec71b523e1"
   },
   "outputs": [
    {
     "data": {
      "application/vnd.google.colaboratory.intrinsic+json": {
       "summary": "{\n  \"name\": \"X_test\",\n  \"rows\": 32,\n  \"fields\": [\n    {\n      \"column\": 5071,\n      \"properties\": {\n        \"dtype\": \"string\",\n        \"num_unique_values\": 24,\n        \"samples\": [\n          \"Daily Discussion\",\n          \"https://redd.it/l70sjp\",\n          \"l70sjp\"\n        ],\n        \"semantic_type\": \"\",\n        \"description\": \"\"\n      }\n    }\n  ]\n}",
       "type": "dataframe"
      },
      "text/html": [
       "\n",
       "  <div id=\"df-3be219be-65e7-46fe-99fd-fc9ace9d2df1\" class=\"colab-df-container\">\n",
       "    <div>\n",
       "<style scoped>\n",
       "    .dataframe tbody tr th:only-of-type {\n",
       "        vertical-align: middle;\n",
       "    }\n",
       "\n",
       "    .dataframe tbody tr th {\n",
       "        vertical-align: top;\n",
       "    }\n",
       "\n",
       "    .dataframe thead th {\n",
       "        text-align: right;\n",
       "    }\n",
       "</style>\n",
       "<table border=\"1\" class=\"dataframe\">\n",
       "  <thead>\n",
       "    <tr style=\"text-align: right;\">\n",
       "      <th></th>\n",
       "      <th>5071</th>\n",
       "    </tr>\n",
       "  </thead>\n",
       "  <tbody>\n",
       "    <tr>\n",
       "      <th>id</th>\n",
       "      <td>l70sjp</td>\n",
       "    </tr>\n",
       "    <tr>\n",
       "      <th>author</th>\n",
       "      <td>OPINION_IS_UNPOPULAR</td>\n",
       "    </tr>\n",
       "    <tr>\n",
       "      <th>created</th>\n",
       "      <td>2021-01-28 16:08:15</td>\n",
       "    </tr>\n",
       "    <tr>\n",
       "      <th>retrieved</th>\n",
       "      <td>2021-02-04 22:20:33</td>\n",
       "    </tr>\n",
       "    <tr>\n",
       "      <th>edited</th>\n",
       "      <td>1970-01-01 00:00:00</td>\n",
       "    </tr>\n",
       "    <tr>\n",
       "      <th>pinned</th>\n",
       "      <td>0</td>\n",
       "    </tr>\n",
       "    <tr>\n",
       "      <th>archived</th>\n",
       "      <td>0</td>\n",
       "    </tr>\n",
       "    <tr>\n",
       "      <th>locked</th>\n",
       "      <td>1</td>\n",
       "    </tr>\n",
       "    <tr>\n",
       "      <th>removed</th>\n",
       "      <td>0</td>\n",
       "    </tr>\n",
       "    <tr>\n",
       "      <th>deleted</th>\n",
       "      <td>0</td>\n",
       "    </tr>\n",
       "    <tr>\n",
       "      <th>is_self</th>\n",
       "      <td>1</td>\n",
       "    </tr>\n",
       "    <tr>\n",
       "      <th>is_video</th>\n",
       "      <td>0</td>\n",
       "    </tr>\n",
       "    <tr>\n",
       "      <th>is_original_content</th>\n",
       "      <td>0</td>\n",
       "    </tr>\n",
       "    <tr>\n",
       "      <th>title</th>\n",
       "      <td>Daily Discussion Thread Part 3 for January 28,...</td>\n",
       "    </tr>\n",
       "    <tr>\n",
       "      <th>link_flair_text</th>\n",
       "      <td>Daily Discussion</td>\n",
       "    </tr>\n",
       "    <tr>\n",
       "      <th>upvote_ratio</th>\n",
       "      <td>0.96</td>\n",
       "    </tr>\n",
       "    <tr>\n",
       "      <th>gilded</th>\n",
       "      <td>0</td>\n",
       "    </tr>\n",
       "    <tr>\n",
       "      <th>total_awards_received</th>\n",
       "      <td>192</td>\n",
       "    </tr>\n",
       "    <tr>\n",
       "      <th>file</th>\n",
       "      <td>wallstreetbets/</td>\n",
       "    </tr>\n",
       "    <tr>\n",
       "      <th>num_comments</th>\n",
       "      <td>69054</td>\n",
       "    </tr>\n",
       "    <tr>\n",
       "      <th>num_crossposts</th>\n",
       "      <td>0</td>\n",
       "    </tr>\n",
       "    <tr>\n",
       "      <th>selftext</th>\n",
       "      <td>your daily trading discussion thread please ke...</td>\n",
       "    </tr>\n",
       "    <tr>\n",
       "      <th>fulltext</th>\n",
       "      <td>daily discussion thread part 3 for january 28 ...</td>\n",
       "    </tr>\n",
       "    <tr>\n",
       "      <th>thumbnail</th>\n",
       "      <td>self</td>\n",
       "    </tr>\n",
       "    <tr>\n",
       "      <th>shortlink</th>\n",
       "      <td>https://redd.it/l70sjp</td>\n",
       "    </tr>\n",
       "    <tr>\n",
       "      <th>upvote_ratio_std</th>\n",
       "      <td>0.91008</td>\n",
       "    </tr>\n",
       "    <tr>\n",
       "      <th>score_std</th>\n",
       "      <td>9.175454</td>\n",
       "    </tr>\n",
       "    <tr>\n",
       "      <th>gilded_std</th>\n",
       "      <td>-0.092721</td>\n",
       "    </tr>\n",
       "    <tr>\n",
       "      <th>total_awards_received_std</th>\n",
       "      <td>21.532396</td>\n",
       "    </tr>\n",
       "    <tr>\n",
       "      <th>num_comments_std</th>\n",
       "      <td>57.281356</td>\n",
       "    </tr>\n",
       "    <tr>\n",
       "      <th>num_crossposts_std</th>\n",
       "      <td>-0.129173</td>\n",
       "    </tr>\n",
       "    <tr>\n",
       "      <th>engagement_score</th>\n",
       "      <td>79031.083333</td>\n",
       "    </tr>\n",
       "  </tbody>\n",
       "</table>\n",
       "</div>\n",
       "    <div class=\"colab-df-buttons\">\n",
       "\n",
       "  <div class=\"colab-df-container\">\n",
       "    <button class=\"colab-df-convert\" onclick=\"convertToInteractive('df-3be219be-65e7-46fe-99fd-fc9ace9d2df1')\"\n",
       "            title=\"Convert this dataframe to an interactive table.\"\n",
       "            style=\"display:none;\">\n",
       "\n",
       "  <svg xmlns=\"http://www.w3.org/2000/svg\" height=\"24px\" viewBox=\"0 -960 960 960\">\n",
       "    <path d=\"M120-120v-720h720v720H120Zm60-500h600v-160H180v160Zm220 220h160v-160H400v160Zm0 220h160v-160H400v160ZM180-400h160v-160H180v160Zm440 0h160v-160H620v160ZM180-180h160v-160H180v160Zm440 0h160v-160H620v160Z\"/>\n",
       "  </svg>\n",
       "    </button>\n",
       "\n",
       "  <style>\n",
       "    .colab-df-container {\n",
       "      display:flex;\n",
       "      gap: 12px;\n",
       "    }\n",
       "\n",
       "    .colab-df-convert {\n",
       "      background-color: #E8F0FE;\n",
       "      border: none;\n",
       "      border-radius: 50%;\n",
       "      cursor: pointer;\n",
       "      display: none;\n",
       "      fill: #1967D2;\n",
       "      height: 32px;\n",
       "      padding: 0 0 0 0;\n",
       "      width: 32px;\n",
       "    }\n",
       "\n",
       "    .colab-df-convert:hover {\n",
       "      background-color: #E2EBFA;\n",
       "      box-shadow: 0px 1px 2px rgba(60, 64, 67, 0.3), 0px 1px 3px 1px rgba(60, 64, 67, 0.15);\n",
       "      fill: #174EA6;\n",
       "    }\n",
       "\n",
       "    .colab-df-buttons div {\n",
       "      margin-bottom: 4px;\n",
       "    }\n",
       "\n",
       "    [theme=dark] .colab-df-convert {\n",
       "      background-color: #3B4455;\n",
       "      fill: #D2E3FC;\n",
       "    }\n",
       "\n",
       "    [theme=dark] .colab-df-convert:hover {\n",
       "      background-color: #434B5C;\n",
       "      box-shadow: 0px 1px 3px 1px rgba(0, 0, 0, 0.15);\n",
       "      filter: drop-shadow(0px 1px 2px rgba(0, 0, 0, 0.3));\n",
       "      fill: #FFFFFF;\n",
       "    }\n",
       "  </style>\n",
       "\n",
       "    <script>\n",
       "      const buttonEl =\n",
       "        document.querySelector('#df-3be219be-65e7-46fe-99fd-fc9ace9d2df1 button.colab-df-convert');\n",
       "      buttonEl.style.display =\n",
       "        google.colab.kernel.accessAllowed ? 'block' : 'none';\n",
       "\n",
       "      async function convertToInteractive(key) {\n",
       "        const element = document.querySelector('#df-3be219be-65e7-46fe-99fd-fc9ace9d2df1');\n",
       "        const dataTable =\n",
       "          await google.colab.kernel.invokeFunction('convertToInteractive',\n",
       "                                                    [key], {});\n",
       "        if (!dataTable) return;\n",
       "\n",
       "        const docLinkHtml = 'Like what you see? Visit the ' +\n",
       "          '<a target=\"_blank\" href=https://colab.research.google.com/notebooks/data_table.ipynb>data table notebook</a>'\n",
       "          + ' to learn more about interactive tables.';\n",
       "        element.innerHTML = '';\n",
       "        dataTable['output_type'] = 'display_data';\n",
       "        await google.colab.output.renderOutput(dataTable, element);\n",
       "        const docLink = document.createElement('div');\n",
       "        docLink.innerHTML = docLinkHtml;\n",
       "        element.appendChild(docLink);\n",
       "      }\n",
       "    </script>\n",
       "  </div>\n",
       "\n",
       "\n",
       "<div id=\"df-38a4b66c-6b68-4f30-95f2-8e840be9f802\">\n",
       "  <button class=\"colab-df-quickchart\" onclick=\"quickchart('df-38a4b66c-6b68-4f30-95f2-8e840be9f802')\"\n",
       "            title=\"Suggest charts\"\n",
       "            style=\"display:none;\">\n",
       "\n",
       "<svg xmlns=\"http://www.w3.org/2000/svg\" height=\"24px\"viewBox=\"0 0 24 24\"\n",
       "     width=\"24px\">\n",
       "    <g>\n",
       "        <path d=\"M19 3H5c-1.1 0-2 .9-2 2v14c0 1.1.9 2 2 2h14c1.1 0 2-.9 2-2V5c0-1.1-.9-2-2-2zM9 17H7v-7h2v7zm4 0h-2V7h2v10zm4 0h-2v-4h2v4z\"/>\n",
       "    </g>\n",
       "</svg>\n",
       "  </button>\n",
       "\n",
       "<style>\n",
       "  .colab-df-quickchart {\n",
       "      --bg-color: #E8F0FE;\n",
       "      --fill-color: #1967D2;\n",
       "      --hover-bg-color: #E2EBFA;\n",
       "      --hover-fill-color: #174EA6;\n",
       "      --disabled-fill-color: #AAA;\n",
       "      --disabled-bg-color: #DDD;\n",
       "  }\n",
       "\n",
       "  [theme=dark] .colab-df-quickchart {\n",
       "      --bg-color: #3B4455;\n",
       "      --fill-color: #D2E3FC;\n",
       "      --hover-bg-color: #434B5C;\n",
       "      --hover-fill-color: #FFFFFF;\n",
       "      --disabled-bg-color: #3B4455;\n",
       "      --disabled-fill-color: #666;\n",
       "  }\n",
       "\n",
       "  .colab-df-quickchart {\n",
       "    background-color: var(--bg-color);\n",
       "    border: none;\n",
       "    border-radius: 50%;\n",
       "    cursor: pointer;\n",
       "    display: none;\n",
       "    fill: var(--fill-color);\n",
       "    height: 32px;\n",
       "    padding: 0;\n",
       "    width: 32px;\n",
       "  }\n",
       "\n",
       "  .colab-df-quickchart:hover {\n",
       "    background-color: var(--hover-bg-color);\n",
       "    box-shadow: 0 1px 2px rgba(60, 64, 67, 0.3), 0 1px 3px 1px rgba(60, 64, 67, 0.15);\n",
       "    fill: var(--button-hover-fill-color);\n",
       "  }\n",
       "\n",
       "  .colab-df-quickchart-complete:disabled,\n",
       "  .colab-df-quickchart-complete:disabled:hover {\n",
       "    background-color: var(--disabled-bg-color);\n",
       "    fill: var(--disabled-fill-color);\n",
       "    box-shadow: none;\n",
       "  }\n",
       "\n",
       "  .colab-df-spinner {\n",
       "    border: 2px solid var(--fill-color);\n",
       "    border-color: transparent;\n",
       "    border-bottom-color: var(--fill-color);\n",
       "    animation:\n",
       "      spin 1s steps(1) infinite;\n",
       "  }\n",
       "\n",
       "  @keyframes spin {\n",
       "    0% {\n",
       "      border-color: transparent;\n",
       "      border-bottom-color: var(--fill-color);\n",
       "      border-left-color: var(--fill-color);\n",
       "    }\n",
       "    20% {\n",
       "      border-color: transparent;\n",
       "      border-left-color: var(--fill-color);\n",
       "      border-top-color: var(--fill-color);\n",
       "    }\n",
       "    30% {\n",
       "      border-color: transparent;\n",
       "      border-left-color: var(--fill-color);\n",
       "      border-top-color: var(--fill-color);\n",
       "      border-right-color: var(--fill-color);\n",
       "    }\n",
       "    40% {\n",
       "      border-color: transparent;\n",
       "      border-right-color: var(--fill-color);\n",
       "      border-top-color: var(--fill-color);\n",
       "    }\n",
       "    60% {\n",
       "      border-color: transparent;\n",
       "      border-right-color: var(--fill-color);\n",
       "    }\n",
       "    80% {\n",
       "      border-color: transparent;\n",
       "      border-right-color: var(--fill-color);\n",
       "      border-bottom-color: var(--fill-color);\n",
       "    }\n",
       "    90% {\n",
       "      border-color: transparent;\n",
       "      border-bottom-color: var(--fill-color);\n",
       "    }\n",
       "  }\n",
       "</style>\n",
       "\n",
       "  <script>\n",
       "    async function quickchart(key) {\n",
       "      const quickchartButtonEl =\n",
       "        document.querySelector('#' + key + ' button');\n",
       "      quickchartButtonEl.disabled = true;  // To prevent multiple clicks.\n",
       "      quickchartButtonEl.classList.add('colab-df-spinner');\n",
       "      try {\n",
       "        const charts = await google.colab.kernel.invokeFunction(\n",
       "            'suggestCharts', [key], {});\n",
       "      } catch (error) {\n",
       "        console.error('Error during call to suggestCharts:', error);\n",
       "      }\n",
       "      quickchartButtonEl.classList.remove('colab-df-spinner');\n",
       "      quickchartButtonEl.classList.add('colab-df-quickchart-complete');\n",
       "    }\n",
       "    (() => {\n",
       "      let quickchartButtonEl =\n",
       "        document.querySelector('#df-38a4b66c-6b68-4f30-95f2-8e840be9f802 button');\n",
       "      quickchartButtonEl.style.display =\n",
       "        google.colab.kernel.accessAllowed ? 'block' : 'none';\n",
       "    })();\n",
       "  </script>\n",
       "</div>\n",
       "\n",
       "    </div>\n",
       "  </div>\n"
      ],
      "text/plain": [
       "                                                                        5071\n",
       "id                                                                    l70sjp\n",
       "author                                                  OPINION_IS_UNPOPULAR\n",
       "created                                                  2021-01-28 16:08:15\n",
       "retrieved                                                2021-02-04 22:20:33\n",
       "edited                                                   1970-01-01 00:00:00\n",
       "pinned                                                                     0\n",
       "archived                                                                   0\n",
       "locked                                                                     1\n",
       "removed                                                                    0\n",
       "deleted                                                                    0\n",
       "is_self                                                                    1\n",
       "is_video                                                                   0\n",
       "is_original_content                                                        0\n",
       "title                      Daily Discussion Thread Part 3 for January 28,...\n",
       "link_flair_text                                             Daily Discussion\n",
       "upvote_ratio                                                            0.96\n",
       "gilded                                                                     0\n",
       "total_awards_received                                                    192\n",
       "file                                                         wallstreetbets/\n",
       "num_comments                                                           69054\n",
       "num_crossposts                                                             0\n",
       "selftext                   your daily trading discussion thread please ke...\n",
       "fulltext                   daily discussion thread part 3 for january 28 ...\n",
       "thumbnail                                                               self\n",
       "shortlink                                             https://redd.it/l70sjp\n",
       "upvote_ratio_std                                                     0.91008\n",
       "score_std                                                           9.175454\n",
       "gilded_std                                                         -0.092721\n",
       "total_awards_received_std                                          21.532396\n",
       "num_comments_std                                                   57.281356\n",
       "num_crossposts_std                                                 -0.129173\n",
       "engagement_score                                                79031.083333"
      ]
     },
     "execution_count": 63,
     "metadata": {},
     "output_type": "execute_result"
    }
   ],
   "source": [
    "ind_max=y_test_org[y_test_org['engagement_score_std']==y_testmax].index\n",
    "X_test.iloc[ind_max].T"
   ]
  },
  {
   "cell_type": "code",
   "execution_count": 64,
   "id": "7oB0SMPlmUZw",
   "metadata": {
    "colab": {
     "base_uri": "https://localhost:8080/",
     "height": 150
    },
    "id": "7oB0SMPlmUZw",
    "outputId": "652a4979-7cc6-407f-8c92-f6a45c9c5406"
   },
   "outputs": [
    {
     "data": {
      "text/html": [
       "<table border=\"1\" class=\"dataframe\">\n",
       "  <thead>\n",
       "    <tr style=\"text-align: right;\">\n",
       "      <th></th>\n",
       "      <th>fulltext</th>\n",
       "    </tr>\n",
       "  </thead>\n",
       "  <tbody>\n",
       "    <tr>\n",
       "      <th>5071</th>\n",
       "      <td>daily discussion thread part 3 for january 28 2021 your daily trading discussion thread please keep the shitposting to a minimum navigate wsb we recommend best daily dd dd all best daily best weekly discussion all best daily best weekly yolo all best daily best weekly gain all best daily best weekly loss all best daily best weekly weekly earnings discussion thread read the rules and make sure other people follow them try no meme mode also accessible through the top bar check out wsb gold stats generated live from wsb activity</td>\n",
       "    </tr>\n",
       "  </tbody>\n",
       "</table><br><label><b>dtype:</b> object</label>"
      ],
      "text/plain": [
       "5071    daily discussion thread part 3 for january 28 ...\n",
       "Name: fulltext, dtype: object"
      ]
     },
     "execution_count": 64,
     "metadata": {},
     "output_type": "execute_result"
    }
   ],
   "source": [
    "X_test['fulltext'][ind_max]"
   ]
  },
  {
   "cell_type": "markdown",
   "id": "d8efb048-852d-4041-86bb-f86ead1574e6",
   "metadata": {
    "id": "3khvO80qpCBr"
   },
   "source": [
    "### Best prediction"
   ]
  },
  {
   "cell_type": "code",
   "execution_count": 84,
   "id": "KQk5EtdIpoZy",
   "metadata": {
    "colab": {
     "base_uri": "https://localhost:8080/"
    },
    "id": "KQk5EtdIpoZy",
    "outputId": "a9c4135b-4ab1-48f4-ef8c-fa9d3e274df2"
   },
   "outputs": [
    {
     "data": {
      "text/plain": [
       "1.574388888541528e-05"
      ]
     },
     "execution_count": 84,
     "metadata": {},
     "output_type": "execute_result"
    }
   ],
   "source": [
    "(abs(Y_test_hat-y_test)).min()"
   ]
  },
  {
   "cell_type": "code",
   "execution_count": 85,
   "id": "IrHRiFcIrYJ7",
   "metadata": {
    "colab": {
     "base_uri": "https://localhost:8080/"
    },
    "id": "IrHRiFcIrYJ7",
    "outputId": "76f51929-c8f6-4506-c908-33ff5a51dc88"
   },
   "outputs": [
    {
     "name": "stdout",
     "output_type": "stream",
     "text": [
      "index_best prediction 5071\n"
     ]
    }
   ],
   "source": [
    "print('index_worst prediction',np.argmax(abs((Y_test_hat-y_test))))"
   ]
  },
  {
   "cell_type": "code",
   "execution_count": 87,
   "id": "Udi3aO87rodM",
   "metadata": {
    "colab": {
     "base_uri": "https://localhost:8080/"
    },
    "id": "Udi3aO87rodM",
    "outputId": "67c04059-ce90-4f82-82c1-0ddf7382485c"
   },
   "outputs": [
    {
     "name": "stdout",
     "output_type": "stream",
     "text": [
      "index_best prediction 46\n"
     ]
    }
   ],
   "source": [
    "print('index_best prediction',np.argmin(abs((Y_test_hat-y_test))))"
   ]
  },
  {
   "cell_type": "markdown",
   "id": "1b949dfa-bb8f-49fe-a704-97247d7896ea",
   "metadata": {
    "colab": {
     "base_uri": "https://localhost:8080/",
     "height": 1000
    },
    "id": "H8r6whokn34u",
    "outputId": "41d860e7-3643-4856-972d-f0cb2e4218ee"
   },
   "source": [
    "#Best prediction\n",
    "print('index_best prediction',np.argmin(abs((Y_test_hat-y_test))))\n",
    "\n",
    "X_test.iloc[46].T"
   ]
  },
  {
   "cell_type": "code",
   "execution_count": 91,
   "id": "8br1YpujsCR3",
   "metadata": {
    "colab": {
     "base_uri": "https://localhost:8080/",
     "height": 127
    },
    "id": "8br1YpujsCR3",
    "outputId": "d6829fce-c25e-43fc-a926-7138bda87971"
   },
   "outputs": [
    {
     "data": {
      "application/vnd.google.colaboratory.intrinsic+json": {
       "type": "string"
      },
      "text/plain": [
       "' ssft healthy consolidation in the mid 20 s bullish chart setup going into next week ssft looking bullish on a number of levels going into next week chart setting up beautifully after healthy consolidation in the mid 20s hi team just a super quick overview of my thoughts on the basic technicals going into next week notable stock consolidating on lower volumes forming new base support in mid 20 s gap from feb 8th filled on friday at 205 bouncing off 10day moving avg bullish 50day moving avg is about to cross above 200day moving avg bullish rsi cooled off to 63 62 this is primed for run up to next levels imo chart screaming for 40 in the near term in my opinion before perhaps consolidating forming new base in mid 30 s then rinse repeat any catalyst could really send this thing flying imo if anyone is new to this stock and is interesting in exploring more here are links to some other informative posts very interesting and well written post by a reddit user with a much stronger comprehension of technology than my little pea brain can comprehend my original dd post from 9 days ago additional well written dd posts from other reddit users the company s website www sonasoft com important note i am extremely bullish on this stock but do not just take my word on anything ever i just post this kind of stuff to share my thoughts and opinions and hear the same from others everyone should always do their own research and make their own decisions i am a maniac and i am wrong 187 of the time i literally do not care in the slightest what you decide to do with your money but i truly hope that everyone is successful and enjoys themselves i am always open to questions comments constructive criticisms and comedy direct messages welcome too hope everyone is having a great weekend and makes madd next week all the best '"
      ]
     },
     "execution_count": 91,
     "metadata": {},
     "output_type": "execute_result"
    }
   ],
   "source": [
    "X_test['fulltext'][46]"
   ]
  },
  {
   "cell_type": "code",
   "execution_count": 92,
   "id": "6jLsCPq9tgHy",
   "metadata": {
    "colab": {
     "base_uri": "https://localhost:8080/"
    },
    "id": "6jLsCPq9tgHy",
    "outputId": "c607f8e2-de8b-4bae-f70e-d719055dd4b0"
   },
   "outputs": [
    {
     "data": {
      "text/plain": [
       "array([-0.03371051])"
      ]
     },
     "execution_count": 92,
     "metadata": {},
     "output_type": "execute_result"
    }
   ],
   "source": [
    "y_test[46]"
   ]
  },
  {
   "cell_type": "code",
   "execution_count": 95,
   "id": "-No7mUHStk8d",
   "metadata": {
    "colab": {
     "base_uri": "https://localhost:8080/"
    },
    "id": "-No7mUHStk8d",
    "outputId": "49e936f0-d7e3-49e1-8597-f83b25b90a43"
   },
   "outputs": [
    {
     "data": {
      "text/plain": [
       "array([-0.03372625], dtype=float32)"
      ]
     },
     "execution_count": 95,
     "metadata": {},
     "output_type": "execute_result"
    }
   ],
   "source": [
    "Y_test_hat[46]"
   ]
  },
  {
   "cell_type": "markdown",
   "id": "d74a40d7-9520-401a-b869-7e100a85b91e",
   "metadata": {},
   "source": [
    "### Error distribution"
   ]
  },
  {
   "cell_type": "code",
   "execution_count": 114,
   "id": "ounxClOhuvw1",
   "metadata": {
    "colab": {
     "base_uri": "https://localhost:8080/",
     "height": 335
    },
    "id": "ounxClOhuvw1",
    "outputId": "cdf52210-dd55-4bee-b62d-e4807d67700c"
   },
   "outputs": [
    {
     "data": {
      "text/html": [
       "<table border=\"1\" class=\"dataframe\">\n",
       "  <thead>\n",
       "    <tr style=\"text-align: right;\">\n",
       "      <th></th>\n",
       "      <th>Model_error</th>\n",
       "    </tr>\n",
       "  </thead>\n",
       "  <tbody>\n",
       "    <tr>\n",
       "      <th>count</th>\n",
       "      <td>6338.000000</td>\n",
       "    </tr>\n",
       "    <tr>\n",
       "      <th>mean</th>\n",
       "      <td>-0.003728</td>\n",
       "    </tr>\n",
       "    <tr>\n",
       "      <th>std</th>\n",
       "      <td>0.341916</td>\n",
       "    </tr>\n",
       "    <tr>\n",
       "      <th>min</th>\n",
       "      <td>-18.155576</td>\n",
       "    </tr>\n",
       "    <tr>\n",
       "      <th>25%</th>\n",
       "      <td>0.029265</td>\n",
       "    </tr>\n",
       "    <tr>\n",
       "      <th>50%</th>\n",
       "      <td>0.043407</td>\n",
       "    </tr>\n",
       "    <tr>\n",
       "      <th>75%</th>\n",
       "      <td>0.048122</td>\n",
       "    </tr>\n",
       "    <tr>\n",
       "      <th>max</th>\n",
       "      <td>1.492147</td>\n",
       "    </tr>\n",
       "  </tbody>\n",
       "</table><br><label><b>dtype:</b> float64</label>"
      ],
      "text/plain": [
       "count    6338.000000\n",
       "mean       -0.003728\n",
       "std         0.341916\n",
       "min       -18.155576\n",
       "25%         0.029265\n",
       "50%         0.043407\n",
       "75%         0.048122\n",
       "max         1.492147\n",
       "Name: Model_error, dtype: float64"
      ]
     },
     "execution_count": 114,
     "metadata": {},
     "output_type": "execute_result"
    }
   ],
   "source": [
    "pd.Series((Y_test_hat-y_test).flatten(),name='Model_error').describe()"
   ]
  },
  {
   "cell_type": "code",
   "execution_count": 120,
   "id": "GDY1AwOBxBQA",
   "metadata": {
    "colab": {
     "base_uri": "https://localhost:8080/",
     "height": 335
    },
    "id": "GDY1AwOBxBQA",
    "outputId": "d928c751-d720-464e-f27e-e661517427e9"
   },
   "outputs": [
    {
     "data": {
      "text/html": [
       "<table border=\"1\" class=\"dataframe\">\n",
       "  <thead>\n",
       "    <tr style=\"text-align: right;\">\n",
       "      <th></th>\n",
       "      <th>Model_error</th>\n",
       "    </tr>\n",
       "  </thead>\n",
       "  <tbody>\n",
       "    <tr>\n",
       "      <th>count</th>\n",
       "      <td>6338.000000</td>\n",
       "    </tr>\n",
       "    <tr>\n",
       "      <th>mean</th>\n",
       "      <td>0.075620</td>\n",
       "    </tr>\n",
       "    <tr>\n",
       "      <th>std</th>\n",
       "      <td>0.333468</td>\n",
       "    </tr>\n",
       "    <tr>\n",
       "      <th>min</th>\n",
       "      <td>0.000016</td>\n",
       "    </tr>\n",
       "    <tr>\n",
       "      <th>25%</th>\n",
       "      <td>0.036928</td>\n",
       "    </tr>\n",
       "    <tr>\n",
       "      <th>50%</th>\n",
       "      <td>0.045363</td>\n",
       "    </tr>\n",
       "    <tr>\n",
       "      <th>75%</th>\n",
       "      <td>0.049139</td>\n",
       "    </tr>\n",
       "    <tr>\n",
       "      <th>max</th>\n",
       "      <td>18.155576</td>\n",
       "    </tr>\n",
       "  </tbody>\n",
       "</table><br><label><b>dtype:</b> float64</label>"
      ],
      "text/plain": [
       "count    6338.000000\n",
       "mean        0.075620\n",
       "std         0.333468\n",
       "min         0.000016\n",
       "25%         0.036928\n",
       "50%         0.045363\n",
       "75%         0.049139\n",
       "max        18.155576\n",
       "Name: Model_error, dtype: float64"
      ]
     },
     "execution_count": 120,
     "metadata": {},
     "output_type": "execute_result"
    }
   ],
   "source": [
    "pd.Series(abs(Y_test_hat-y_test).flatten(),name='Model_error').describe()"
   ]
  },
  {
   "cell_type": "code",
   "execution_count": 116,
   "id": "JqZeTHMYuH8y",
   "metadata": {
    "colab": {
     "base_uri": "https://localhost:8080/",
     "height": 472
    },
    "id": "JqZeTHMYuH8y",
    "outputId": "2321cefa-53ed-4ee8-b2d7-d211da08f66b"
   },
   "outputs": [
    {
     "data": {
      "image/png": "[encoded data removed]",
      "text/plain": [
       "<Figure size 640x480 with 1 Axes>"
      ]
     },
     "metadata": {},
     "output_type": "display_data"
    }
   ],
   "source": [
    "error=pd.Series((Y_test_hat-y_test).flatten())\n",
    "plt.boxplot(error)\n",
    "plt.xlabel('Error')\n",
    "plt.ylabel('Values')\n",
    "plt.title('Distribution of model errors for test set')\n",
    "plt.show()"
   ]
  },
  {
   "cell_type": "markdown",
   "id": "f0654910-94de-43a9-9757-42d04393b70b",
   "metadata": {},
   "source": [
    "### Group of bad predictions"
   ]
  },
  {
   "cell_type": "code",
   "execution_count": 126,
   "id": "-cOWCgaCuUVL",
   "metadata": {
    "colab": {
     "base_uri": "https://localhost:8080/",
     "height": 1000
    },
    "id": "-cOWCgaCuUVL",
    "outputId": "454b1ded-9b72-48a7-e264-e8ee44e3213d"
   },
   "outputs": [
    {
     "data": {
      "text/html": [
       "<table border=\"1\" class=\"dataframe\">\n",
       "  <thead>\n",
       "    <tr style=\"text-align: right;\">\n",
       "      <th></th>\n",
       "      <th>fulltext</th>\n",
       "    </tr>\n",
       "  </thead>\n",
       "  <tbody>\n",
       "    <tr>\n",
       "      <th>55</th>\n",
       "      <td>you fuckers really think i m going to sell at 97 loss to recoup a meme 3 leaving it to expire until 100 ivy league retard right alongside you guys i also have shares i gambled an entire month s paycheck and i m retarded enough to do it again autistic new grad</td>\n",
       "    </tr>\n",
       "    <tr>\n",
       "      <th>216</th>\n",
       "      <td>reminder shorts have not covered and are lying in their fintel iborrow reports despite new market regulations and congressional acts to minimize fraud it is still widely and easily practiced today are lying first read this excellent dd about borrow fees and short shares discrepancies why is one source giving us one number and another source giving us a completely different number it doesn t make sense both of them can t be right also it s not like it s a small discrepancy by a percentage or two it s a huge discrepancy and the further you dig into it the more you realize that someone is either really wrong or is blatantly lying people who work on wall st usually aren t wrong they are very good about what they do so that pretty much narrows it down by process or elimination 942 si realistically it s around 600 secondly here s another very interesting dd where our very own autists attempt to calculate short interest it can be anywhere from 200 to as high as 900 obv tells us that the overwhelming majority of retail investors are holding citadel could have not bought back their shares which they absolutely need to do we ve seen the short ladder attacks and hundreds of thousands of shorts borrowed almost daily will continue to lie until they go down in flames third everyone needs a history refresher corporate fraud is something that s always existed and something that will always continue to exist no matter what acts congress passes there s always loopholes to abuse it s not easy to expose it but rest assured it s there the only thing that can expose it is time they can t hide it forever a mistake here and there on a balance sheet or earnings report is fine and might go unnoticed but as time goes by more mistakes will attract prying eyes and eventually open an investigation or audit member enron take for example enron who was able to hide billions of dollars of debt across two solid years before anyone figured it out member worldcom following enron s collapse we got sarbanes oxley act which helped protect investors from fraudulent reporting around the same time the worldcom scandal was exposed where they overstated their assets by over 11 billion get this their scandal went on longer than enron s before it was exposed member the 2008 crash a few years later bear sterans fell in 2008 due to the subprime mortgage crisis if you haven t seen it go watch the big short understand that the shorters the good guys at the time had to hold 2 fucking years before people realized they were right and they ever saw a return as the fat cats continued to lie until the day they went up in flames does this mean we need to hold out til 2023 nope dfv already had you covered and started the wheels rolling last year so does that put the squeeze in 2022 still nope they are hemorrhaging cash and the squeeze is likely to happen sooner rather than later let s take a look at their losses so far shitadel is fucked so far citadel melvin lost 6 billion shorting gme in january alone last monday on march 8th citadel other shorters lost 600 million in one day the next day losses were up to 1 5 billion as reported by yahoo finance and this is only what was reported imagine what wasn t reported citadel has 35 billion in assets while melvin has 8 billion despite managing 43 billion in assets between the two of them losing 500 million edit m not b a day will quickly take a toll on your finances and have you bleed out in around 3 months assuming it s just citadel melvin who are shorting also assuming they haven t liquidated all their assets yet or didn t take on any loans they probably did but getting margin called by the banks is a great thing for our side their collapse is very near be patient it s not every day that you can take down a hedgie for 100 000 gains there are many other examples in the wikipedia corporate scandals page if you are bored they happen almost yearly when corporations lie to the general public about their financial standings hell it s not limited to corporations either people lie in general countries lie it s human nature back in ww2 a lot of german citizens didn t even know they were losing the war until the soviets showed up on their doorstep what interests me more is how the hell they managed to keep it a secret for so long but hey history repeats itself people lie this is nothing new and will continue to happen like i said earlier the bigger the lie the quicker it gets exposed and if it s a big enough lie they can t keep it a secret forever the only thing you need to do is sit back and hold be patient could the squeeze happen today yes what if it doesn t happen today that s okay it ll be postponed for next week or the week after or the month after don t set any dates don t have any expectations just be patient and hold we are close when it happens you ll be pleasantly surprised will be rewarded for holding this shit will be one for the history books and you will be a part of it i like the stock i like to eat crayons not a financial advisor edit 1 m not b typo edit 2 several users including u boneywankenobi clarified something really important there s a lot of misinterpretations regarding shorts and how much they have to buy back in iborrow only pulls data from interactive brokers and this does not represent overall shorts in other words while they may be correct we are still viewing only a slice of the whole pie and we don t know how big or small that slice really is this is why we look at interest rate it is more predictive only citadel knows how many shorts they owe and that information is obviously private u mboubs95 pointed out another great indicator ftds shorts are also being hidden in deep itm calls there are approximately over 100 million worth of options however more data is needed for us to accurate estimate how many shares they are hiding this is obviously for very good reason too edit 3 the yahoo linked i posted where citadel melvin lost 600 million on monday and around 800 million on tuesday isn t limited to just citadel melvin but citadel melvin and other shorters in general which begs the question are there any other hedgies shorting gme i appreciate all the constructive criticism guys i wanna stay as accurate as possible i m still learning one thing is for sure since january we can t find accurate enough numbers to make everyone happy because a lot of information has gone private or doesn t add up with other sources yes i m aware there could be disinformation out in the wild as well use caution hedgies are watching</td>\n",
       "    </tr>\n",
       "    <tr>\n",
       "      <th>230</th>\n",
       "      <td>you don t always have to be invested sometimes it feels like once you sell there is urgency to pick the next stock and get your money reinvested don t fall for fomo like that it is perfectly okay to look at the options for a day or a week and say that nothing sound appealing to you it is okay to just sit on your earnings for a brief timeframe until the right stocks come along that feel like the right timing for you this has been very helpful to me as i had that feeling right before the red week of doom started last week i sold most of my shares of stocks and nothing felt good on friday so i started monday with most money not invested just don t force it and feel like you have to be all in every night</td>\n",
       "    </tr>\n",
       "    <tr>\n",
       "      <th>451</th>\n",
       "      <td>grandpa died and i inherited enough for xxxx shares of gme sadly my grandpa just died a few months ago he had laid out in the will that i will inherit xxxk based on the solid research done here i feel i would be incredibly naive not to put it in gme i already was an xx share holder thankfully but now i can join the xxxx club thank you grandpa for introducing me to the stock market because i would probably have not found my way here without you now i get a chance to make one of the biggest statements in history by helping destroy the hedgies that manipulate americans every day and put him in financial hardships back in 2008 sorry this post is poorly formatted i am just very excited to be able to take part in this movement i know he would approve of as he was an xxx holder himself see you on the moon grandpa</td>\n",
       "    </tr>\n",
       "    <tr>\n",
       "      <th>459</th>\n",
       "      <td>to all of you who are red this year while the s p500 is up 30 lately i keep hearing the same old narrative from beat down investors on r stocks who are down ytd even when spy is up 30 everything is down this year the indexes are just being propped up by mega cap tech companies like aapl tsla msft googl and nvda they go on to say that just because they are down this year and indexes are up it s actually not that bad because the mega caps are hiding the true state of the market well let s look at the data shall we here are the ytd gains of a whole bunch of indexes from all the industries that i could think of most of which don t have many of the aforementioned mega caps in it vgt 32 99 technology xlf 34 87 financial xle 47 15 energy xli 22 38 industrials xlv 24 99 healthcare dbc 43 37 commodities pave 37 90 infrastructure avuv 42 18 small cap value schd 27 87 dividends smh 43 21 semiconductors ita 13 16 aerospace and defense trvl 6 82 travel as can be seen every major sector of the market is green for the year even travel and aerospace two of the hardest hit sectors are up ytd every single other sector is up at least 20 it would take an objectively bad investment plan to pick only losers out of this sea of green so can we please stop with the bs that a handful of companies are propping up a dying market if you are down this year you really need to review your investing decisions because you are almost certainly investing in companies with poor fundamentals that have been driven entirely by hype and or trading options in a way that is pure gambling i just hope that you are taking the right lessons away from this year please consider putting the majority of your money into broad market index funds wishing everyone a successful 2022</td>\n",
       "    </tr>\n",
       "    <tr>\n",
       "      <th>622</th>\n",
       "      <td>it is awesome this sub is growing so fast 7mm wow but let s not lose sight of what this sub is i understand that things change and yada yada but a major part of this sub is making risky trades with insane upside and total downside it is great youre joining but if this turns into another everything has to be pc sub then where else can i go to get my daily dose of front page 80k losses or 100k wins just seeing some of these posts are kind of bothering me because it isnt at all what wsb is i want a fucking yacht simple i m holding gme like the rest and i watched that 70 day and bought fucking more i m all with everyone on this as it is important to do but some of these posts making front page arent really wsb material like i just read one where a guy basically explains dfv personality traits and says how awesome he is like wtf yeah thats cool i like the guy too but why in the fuck is that on the front page or even written at all or another one about someone meeting another wsb user at an airport why in the fuck is this on the front page i like the wholesome wsb where people donate to charities and all that love that shit but for fucks sake posts like those other two don t really belong and i hope we don t become another sub where everyone is a fucking pussy who down votes anything that isnt entirely pc or apology culture i want a fucking yacht edit fucking retards lmao edit 2 there s sort of a mutual respect here because we all fucking lose a lot lmao when you see someone down 20k on a trade and his portfolio is now only worth 127 bucks coming here we all make each other feel better with our bullshit lol like i would call this guy fucking retarded and he would likely laugh and think yeah why did i think gourds would fucking take off i am retarded this part of wsb is what kept this community so strong before the massive influx we all understand the fucking game and we all empathize yet still bust each other s balls on this shit edit 3 those who keep commenting mm millimeters i immediately know you ve never seen a balance sheet in your life lmao</td>\n",
       "    </tr>\n",
       "    <tr>\n",
       "      <th>635</th>\n",
       "      <td>i built a program that tracks mentions and sentiment of stocks across reddit and twitter to find rising stocks dd on mindmed mmedf i had posted my first stock pick from my program crsr in another community stocks the response i received was amazing and i have been working on improving the program this is the second stock picked by the program if you had seen the first post please feel free to skip to the dd preamble one of the main questions that i had and i see recurring on this sub is how to identify and invest in emerging stocks before it becomes mainstream news i did not have the time to actively track social media and decided to build a program that does it for me how does it work the program is built using python and uses both twitter and reddit api to stream comments and tweets and spot tickers that are exhibiting accelerated growth i added sentiment analysis to the findings so as to check the general sentiment whether what is being talked about the stock is positive or negative here is the stock picked by the program and my dd stock mindmed ticker mmedf otc mmed neo mmq dax growth in the number of mentions week on week increase in mentions 23 month on month increase in mentions 677 average sentiment across mentions 28 4 dd core product mindmed is in the field of developing psychedelic based medications and treatments for neurological and mental health disorders the company is in a very early stage founded in 2019 but is backed by famous investors such as bruce linton founder canopy growth and kevin o leary shark tank they have 3 main products in the pipeline i 18 mc the optimism around mindmed is primarily due to the 18 mc drug which shows promising results in treating alcohol drug and nicotine addiction 18 mc is currently in phase 2 of clinical trials for opioid addiction ii project lucy this is a commercial drug based on micro dosing lsd by a therapist to treat anxiety disorders and adult adhd currently on phase 2 clinical trial iii digital therapeutics mindmed is betting on digital therapeutics as the future for their drug delivery by creating a platform aimed at delivering psychedelic based treatments and therapies in combination with digital therapeutics product pipeline financials the company has raised approximately 185m since its inception six rounds mindmed raised 72m in jan 21 increasing their cash in hand to a healthy 144m the company is planning to use the proceeds from the latest fundraising to project lucy and 18 mc there isn t much sense in talking about revenue and p l as this is a very early stage biotech company that by nature cannot generate any significant revenue until their drugs get approval but the company had a sustainable burn rate and had a net loss of 8 6m in the quarter ending sep 20 potential and hype factor the buzz is generated primarily due to the following reasons nasdaq up listing is one of the major catalysts in the increasing discussion the company is currently listed in neo and have applied to be listed in nasdaq which will significantly add to the liquidity expected in q1 21 adding to this mindmed has multiple products in its pipeline the company currently has 3 major products which are in phase 2 of clinical trial which significantly de risk the company s future as you are not betting on one single product getting fda approval inline with the digital therapeutics aim of the company mindmed acquired healthmode a digital therapeutics startup that uses ai and ml to increase the precision and speed of clinical research and patient monitoring all stock deal risk and competition there is definitely a significant risk associated with investing in small cap stocks the main risk factors for mindmed that i could see are a drug approval this is the simplest and would have the most impact on the company s future if none of the drugs in the company s pipeline get approval from fda the company would go under b ability to raise funds since mindmed is an early stage biotech startup the company would make no revenue for the foreseeable future therefore the ability of the company in raising funds outpacing its burn rate is critical c acceptance for psychedelic drugs although growing currently the acceptance for psychedelic drug is very low mindmed has an uphill battle in convincing the masses about the efficacy of its drugs conclusion there is currently a 100b global total addressable market for psychedelics even though there are significant risks in terms of psychedelic drug acceptance and fda drug approval mindmed currently offers the broadest and most diversified pipeline of psychedelic drugs in clinical development this along with their ability to raise funds puts them in a very strong position disclaimer i currently do not own any stock of mindmed i am not a financial advisor there are significant risks associated with investing in small cap companies please do your own extensive research before investing in any stock</td>\n",
       "    </tr>\n",
       "    <tr>\n",
       "      <th>704</th>\n",
       "      <td>china asks local goverments to get ready for possible collapse of evergrande published sept 23 2021 at 7 08 a m et chinese authorities are asking local governments to prepare for the potential downfall of china evergrande group according to officials familiar with the discussions signaling a reluctance to bail out the debt saddled property developer while bracing for any economic and social fallout from the company s travails the officials characterized the actions being ordered as getting ready for the possible storm saying that local level government agencies and state owned enterprises have been instructed to step in only at the last minute should evergrande 3333 17 62 fail to manage its affairs in an orderly fashion</td>\n",
       "    </tr>\n",
       "    <tr>\n",
       "      <th>844</th>\n",
       "      <td>apple reports another blowout quarter with sales up 54 eps 1 40 vs 0 99 est revenue 89 58 billion vs 77 36 billion estimated up 53 7 year over year iphone revenue 47 94 billion vs 41 43 billion estimated up 65 5 year over year services revenue 16 90 billion vs 15 57 billion estimated up 26 7 year over year other products revenue 7 83 billion vs 7 79 billion estimated up 24 year over year mac revenue 9 10 billion vs 6 86 billion estimated up 70 1 year over year ipad revenue 7 80 billion vs 5 58 billion estimated up 78 9 year over year gross margin 42 5 vs 39 8 estimated other things to note dividend is rising as expected to 0 22 per share 7 increase they also announced 90billion in share buy backs</td>\n",
       "    </tr>\n",
       "    <tr>\n",
       "      <th>855</th>\n",
       "      <td>non fire people tend to get upset and defensive at our financial perspectives to start i really don t talk finances with people once in a while i do add my thoughts on a convo the idea that you can live comfortably without over consuming by saving investing by creating additional income and deferring some gratification has put people in to a state of shock does anyone else run in to this edit looks like it s worth clarifying these interactions stem from friends family divulging their financial hardships not proactively offering advice or telling them how they should spend their</td>\n",
       "    </tr>\n",
       "    <tr>\n",
       "      <th>973</th>\n",
       "      <td>elon musk implies tesla has sold all of their bitcoin bitcoiners are going to slap themselves next quarter when they find out tesla dumped the rest of their holdings with the amount of hate is getting i wouldn t blame him elon musk replies with indeed he could be trolling mind do you think tesla have genuinely sold all of its bitcoin holdings what do you think the impact will be if so particularly directed at those who are very long bitcoin and other cryptocurrencies</td>\n",
       "    </tr>\n",
       "    <tr>\n",
       "      <th>1057</th>\n",
       "      <td>attention everyone holding gme calls if you have a made profit exercise or sell your options and buy actual stock the rest of us have been doing all the work and you are collecting the profit do not forget about us who bought 400 300 in order for this short squeeze to work we need everyone to stand together and buy up all the shares being sold by short ladders and paper hands once only diamond hands own all the shares then the price will skyrocket but that won t happen if you stay on the sidelines not financial advice</td>\n",
       "    </tr>\n",
       "    <tr>\n",
       "      <th>1227</th>\n",
       "      <td>the sec is going too easy on insider trading investors need to know more about executives stock selling plans at long last the securities and exchange commission has sketched out a plan to address a difficult issue in the u s stock market how and when corporate insiders who inevitably have better information than the investing public can legally trade in the shares of their companies the proposal is good as far as it goes but it could do a lot more to assure regular investors that insiders aren t taking advantage of them under current rules executives and directors can largely avoid charges of illegal insider trading by setting up a predetermined schedule of sales or purchases known as a 10b5 1 plan yet if they know that their company is about to do a big deal or report some bad news there are still plenty of ways they can use such plans to act on the information they can set one up for a single trade and act on it the next business day they can set up multiple plans then cancel the disadvantageous ones at any moment it s hard for the public to understand what s going on because many of the relevant details of the plans typically aren t disclosed or are hard to find now the sec is moving to make the plans harder to game its proposed new rule would establish a 120 day cooling off period before a first trade can be executed long enough to erase any informational advantage the insider might have when a plan is created it would limit single trade plans to one per year and effectively disallow executives to have multiple plans simultaneously all these are positive changes but in other areas particularly public disclosure the sec s proposal falls short right now when an executive creates or terminates a 10b5 1 plan it s up to the company to decide whether or not to disclose the move for example as far back as 2004 cisco systems would regularly file 8 k disclosures about such plans including the executive s name the number of shares and the timeframe for the sales but starting in 2018 the company stopped providing that level of detail with no explanation absent any formal rules the company and its lawyers could pick and choose what they wanted to reveal the new proposal would require companies to disclose the plans in their quarterly 10 q financial reports with some added information on stock options for example in their annual 10 k reports that s not good enough to be truly useful to investors the disclosure should happen as soon as the plans are created or canceled for example under 8 k rules that require filing within four business days as the sec s own investor advisory committee recommended why would the sec go against investors recommendations most likely to satisfy the two republicans among the agency s five commissioners one of whom elad roisman publicly stated that this wasn t the rule i would have written the proposal ultimately garnered unanimous support a rarity in these times of political divisiveness but even the modest disclosures it requires could yet be watered down or eliminated when corporate law firms start chiming in recent history isn t encouraging the sec was actually more ambitious in 2002 when it proposed that 10b5 1 plans be subject to 8 k disclosure but various commenters including large brokerage firms such as charles schwab complained that the requirement would confuse investors others objected to the added paperwork the idea was dropped as an avid reader of sec filings i ve long argued that more and better disclosure benefits all investors even if it means a bit more work for the folks that prepare these documents the latest proposals assuming they survive corporate lobbying are a step in the right direction but they still won t provide nearly enough information in a way that matters for ordinary investors</td>\n",
       "    </tr>\n",
       "    <tr>\n",
       "      <th>1328</th>\n",
       "      <td>what is citadel and where do i go to get away from them so right now you might be asking yourself fuck robinhood where should i timmy from charlotte move my account fuck robinhood how do i get away from citadel fuck robinhood what is going on fuck robinhood i m not 100 sure where this post is going so i can t promise i ll answer any of those questions but my goal here is still coherent conversation so maybe someone else might have those answers in the comments idk what is citadel and what do they do a hedge fund wrapped up with an advisory service an execution venue a market maker an ipo partner a sandwich shop etc such megacorps pay firms fractions of a cent to pass each order through them for execution the more orders the brokerage passes along the more they re paid money is involved because the more orders that pass through a particular execution venue first the faster they can make decisions about the direction of the market on both the micro and macro scale this is the current nature of the market order data for new and small traders using self directed firms has been especially valuable the last 20 years because you do things institutions cannot you can open a new position based on a tweet while the major advisory services need to whip out the scales and weigh the cost of moving assets for countless customers at once and that s even further complicated if they re designated fiduciaries because in their book reacting quickly implies that there s unknown risks involved for example they did the numbers on a particular company six months ago and decided it wouldn t be profitable in another six months even in 2021 they just can t move as fast as you but knowing what you re doing is a step closer to them being able to respond sooner with smaller changes rather than react with major changes when shit hits the fan btw the fatal flaw on gme is that they tried to play the old cull the weak game that worked for them for decades and absolutely chose to ignore the direction the market was moving until it was too late if they d used the order flow and other data they re paying so much cash to access and were as bright as they imagine they are it would have been rough but even hardcore shorts could have lived through this week retail investors can pat themselves on the back for exploiting it but melvin capital got fucked by hubris and lack of awareness not to get all rza between songs on it but that s why the title of this sub has been welcome to the machine for a long time now the major players know you dream of making it big buying a car having a steak and all the other things roger wrote about just by doing something you enjoy playing guitar but it could be your art you talents in math or science taps in a mobile game or in this instance investing and they ll welcome you in with open arms convince you that they ll be a guide and there to help knowing they ll get a cut just by letting you do what you do and finding a way to package it people over simplify it with if the service is free you are the product because they don t notice that the machine will also make you pay if it can money for order flow has made it easier for others to provide the space for you to do what you do without noticing they re cashing in even if you don t but don t forget that the machine can be other investors the machine can be the large firms the machine can be investment advice columnists hedge funds and brokerages aren t the only machine operators in the financial industry which firms use citadel and which ones don t they all use citadel i m not joking i ve kept up to date on execution venues people probably thought i was just lecturing them about understanding order flow here but i dislike virtu as a venue and apex as a clearing firm which i ve talked about here for years and the concentration of orders being fed to the short list of venues has not changed in a positive way because that s where the money is the idea for this post came to me this morning because no news article no tv interview and not a single hot take on twitter i ve read so far has managed to mention just how embedded citadel individually is in the modern market i had aoc s live stream on in the background last night and even the guests seemed to imply that citadel is a little firm propping up robinhood and that nobody could have seen this blowing up one day these relationships even down to how much money is paid are public by law every quarter both sides are required to release data on order flow in 605 raw and 606 607 reports here s a quick rundown of places i could come up with off the top of my head that use citadel as their primary or secondary execution venue and what percentage of orders for s p 500 listed securities they recently sent through citadel firm market orders marketable limit orders e trade 36 33 37 16 schwab 31 61 30 06 tda 60 04 59 25 edward jones 36 91 47 49 webull 50 85 53 71 interactive brokers 25 34 11 24 wells fargo 35 02 32 85 firsttrade 0 95 0 60 tradestation 28 14 26 90 ally 40 15 44 76 robinhood 50 82 50 24 alpaca 11 07 3 31 iex n a n a fidelity 52 28 45 09 apex clearing 40 97 42 76 wealthfront 100 50 01 tastyworks 59 97 61 18 marketable limit orders are those that immediately have a chance of executing against the current spread firsttrade is predominantly a dark pool only sending orders away when they require liquidity alpaca is an api first firm which i like and talk about on discord sometimes because i wish rh would open their api but they re still backed by apex which i dissuade everyone from getting involved with because penson financial services iex is a closed loop exchange that internally clears orders among customers great source for free order data to test algos apex is the clearing agent for many smaller firms including public com betterment acorns m1 rize stockpile stash now when you look at that list remember three things that 99 9 of the remaining orders are going to wolverine virtu 2 sigma and other hedge fund adjacent venues for execution brokerages were doing the same back when they were also charging commissions i don t feel firms being paid for order flow is inherently wrong but whatever agreement citadel has in place to force firms to act in citadel s best interest over customers and even over the brokerage s own best interest is difficult to wrap my mind around right now which brings me to my next point citadel s most loyal sources for order flow robinhood tda webull and ib all fell in line and limited trading at least part of the day the agreements between these companies and citadel are obviously not public but i m sure citadel has them bent over a contractual barrel that left them with no choice but to comply as a customer of half of those firms i say they should have done whatever they could to explain the actual situation to the public spoilers it wasn t risk on the retail side taken whatever penalties citadel could impose for ignoring them all the way up to breach of contract etc and fight that out in court rather than act in ways that seems to have only punished and confused customers corporate level decision making is so fucking stupid where to go fino if iex was larger that would be a decent alternative for equities but they don t have a silly app that looks good in screenshots but tells you nothing useful i can t think of a self directed firm that can currently exist without citadel and the rest if you do post about it i guess more things i for sure do not know but hope someone wants to talk about i don t know shit about the legality of anything that has gone on this week with robinhood and no i will not be a part of any lawsuit because i was not effected by what happened because i don t have any options or equity holdings in robinhood and cannot claim damages stop asking me i m not even sure if splitting corporations up anti trust style would work for this for sure it was citadel s vested interest that cascaded down to firms and then users but i don t know of any cases that forced divestiture on that scale hedge funds with cases in a friendly district could make a valid claim that they cannot function without access to both order data and current assets it ll be interesting to see if anything changes over the next few years and how disclosure doxxing myself more and more but i worked for a market analytics quantitative research firm in the city that was eventually gobbled up by virtu i d moved abroad months earlier anyway but we loved that job and they only wanted the algos we d designed so fuck virtu my current day job makes trading public companies complex which is why i only talk about algotrading eth on discord most of my self directed play money is still with tda haven t made a trade there or on rh in almost three years but the majority of my family s assets my retirement my kid s inheritances and college funds and on and on have been handled by gs for nearly two decades and likely will continue to be even after i return to the private sector now what would be sweet is if goldman sachs would extend their investment arm which sends orders directly to exchanges to the general public like they have with their marcus savings accounts if they could devise a way to legally pass a good percentage of all would be dependent on volume of the security etc orders directly to the floor as a bundle they d break even at best on it but that would actually democratize the market</td>\n",
       "    </tr>\n",
       "    <tr>\n",
       "      <th>1445</th>\n",
       "      <td>sec restricted gme short sell time to fly ibkr trading platform according to investopedia the uptick rule also known as the plus tick rule is a rule established by the securities and exchange commission sec that requires short sales to be conducted at a higher price than the previous trade guys pls note that march 12 5 am gst means march 11 8 00 pm est</td>\n",
       "    </tr>\n",
       "    <tr>\n",
       "      <th>1524</th>\n",
       "      <td>type a dad jumps to my defense for context my parents are still working hard running their own business as they approach their 70 s i have three siblings one who globe trots automating factories another flies black hawks and the other is a smart accomplished hard working auto mechanic two are married with six kids between them meanwhile i worked my butt off from the my teenage years until my late 20 s when i suddenly leanfired to just tend to my land lording duties and live a frugal life so that i could spend my time enjoying my hobbies i live like a child playing in rec sports leagues going kayaking skiing biking in the woods exploring nature going to museums and local theater making go pro and drone videos reading playing with my cat the life of leisure i was just reminded of a moment at a holiday dinner a couple of years ago i d forgotten about i d never heard my dad give an opinion about how i live if anything i thought maybe there was a subtle bit of disappointment that i wasn t using my education and talents to amass more wealth and status the way he would but i figured if that is what he thinks that s his problem my brother was saying he doesn t golf as much as he d like because of how crowded his course was getting on the weekends i said i usually go mid morning during the week after i ve met a friend for breakfast the retired guys who play during the week like really early tee times so by 10 am the course is wide open my brother goes yeah well you can do that because you have nothing to do in your life before i could smile and say yeah that s true my dad apparently got a little offended on my behalf and jumped to my defense maroonstriation doesn t owe anybody anything he doesn t hurt anybody living the way he lives he takes care of himself and that s all he needs to do yeah but i m just saying my brother tried to defend himself only to be interrupted there are plenty of people worthy of criticism in this world for how they live he s not one of them he doesn t hurt anyone thanks dad</td>\n",
       "    </tr>\n",
       "    <tr>\n",
       "      <th>1747</th>\n",
       "      <td>why i m in on nokia nok dd i think nok has great potential to be a diamond runner they recently ran a successful 5g ran trial which uses artificial intelligence and machine learning which gives real time data and traffic bandwidth nokia completes 5g ran architecture trial nokia and china mobile cmcc last week announced that they have successfully completed live trials of an ai powered radio access network ran over cmcc s network utilizing cmcc s 4g and 5g networks the companies completed an ai based real time user equipment ue traffic bandwidth forecast trial in shanghai as well as a network anomaly detection trial in taiyuan the capital city of china s shanxi province nokia and china mobile cmcc last week announced that they have successfully completed live trials of an ai powered radio access network ran over cmcc s network utilizing cmcc s 4g and 5g networks the companies completed an ai based real time user equipment ue traffic bandwidth forecast trial in shanghai as well as a network anomaly detection trial in taiyuan the capital city of china s shanxi province _ _ _ _ _ _ _ _ _ _ _ _ _ _ _ _ _ _ _ _ _ _ _ _ _ _ _ _ _ _ _ _ _ _ _ _ _ _ _ _ _ _ _ _ _ _ _ _ _ _ _ _ _ _ _ _ _ _ _ _ _ _ _ _ _ _ _ _ _ _ _ _ _ _ _ _ _ _ _ _ _ _ _ _ _ _ _ _ _ _ _ _ _ _ _ _ _ _ _ _ _ _ _ _ _ nokia recently renewed their 5 year contract with t mobile t mobile awards nokia with five year deal t mobile awarded five year deals to both ericsson and nokia for the continued rollout of its 5g network but didn t specify how much the deals are worth other than to say they re multi billion dollar agreements t mobile last year closed its merger with sprint which also used samsung network gear but it doesn t appear that work is carrying over to the newly combined t mobile t mobile already has the largest 5g network in the country said t mobile president of technology neville ray in a statement these agreements with our longstanding 5g partners nokia and ericsson will help us take our 5g leadership even further delivering ever better experiences for our customers for years to come according to nokia it will continue to expand t mobile s extended range low band 5g coverage while also supplying macro and small cells across t mobile s low mid band and millimeter wave spectrum in addition to massive mimo in the 2 5 ghz band nokia said the outlook it provided last fall included the expected impact of this deal with t mobile so it doesn t change that guidance nokia in particular can use some good news in the network supply arena last fall nokia ceo pekka lundmark warned of expected financial challenges in 2021 and indicated plans to invest heavily in 5g it s been widely speculated that nokia lost a 6 6 billion 5g contract with verizon last year when the u s carrier instead chose samsung they even have more deals and contracts here _ _ _ _ _ _ _ _ _ _ _ _ _ _ _ _ _ _ _ _ _ _ _ _ _ _ _ _ _ _ _ _ _ _ _ _ _ _ _ _ _ _ _ _ _ _ _ _ _ _ _ _ _ _ _ _ _ _ _ _ _ _ _ _ _ _ _ _ _ _ _ _ _ _ _ _ _ _ _ _ _ _ _ _ _ _ _ _ _ _ _ _ _ _ _ _ _ _ _ _ _ _ _ _ _ nokia pilots first in the world 4g and 5g fixed wireless access network slicing nokia successfully piloted 4g and 5g fixed wireless access fwa network slicing with saudi arabian telecommunications services provider mobily on their live commercial network first ever network slicing trial on a live commercial network showcases fixed wireless access fwa slicing use case for the first time the pilot will enable new services and high quality customer experience to consumers and enterprises in saudi arabia nokia is first vendor to deploy 4g and 5g network slicing in live multi vendor network across all domains including access transport and core its the first sliced fwa deployment in the world with the nokia slicing solution mobily can divide its network into multiple virtual networks and offer fwa service tiers and premium services to its customers utilizing advanced network resource allocation mechanisms nokia s customers are already working on a variety of slicing use cases including enterprise applications transportation manufacturing utilities public safety and smart city applications _ _ _ _ _ _ _ _ _ _ _ _ _ _ _ _ _ _ _ _ _ _ _ _ _ _ _ _ _ _ _ _ _ _ _ _ _ _ _ _ _ _ _ _ _ _ _ _ _ _ _ _ _ _ _ _ _ _ _ _ _ _ _ _ _ _ _ _ _ _ _ _ _ _ _ _ _ _ _ _ _ _ _ _ _ _ _ _ _ _ _ _ _ _ _ _ _ _ _ _ _ _ _ _ _ why i think this stock has the potential to run in 2020 nasa awarded nokia nok first mobile cellular network on the moon stocks pertaining to the space economy are a new emerging sector right now you re seeing all these space etfs coming into the market this new emerging space economy is worth around 2 trillion now you probably know what i m going to say next in case you don t let me tell you the new ceo has been recently aiming focus on 5g 5g will be needed to aid self driving cars etc but one thing that s bigger than that is being able to connect to the internet any where in the world perhaps via satellite in space as a company this could open a variety of new opportunities for nok in this emerging 2 trillion space economy our target is the moon position 2x 7 call 1 20 2023 and a couple hundred shares disclaimer this is for entertainment purposes only i am not a legal tax or financial professional this is not the suggestion of any trades or positions to take on investing carries risk please do not invest until you understand those risks _ _ _ _ _ _ _ _ _ _ _ _ _ _ _ _ _ _ _ _ _ _ _ _ _ _ _ _ _ _ _ _ _ _ _ _ _ _ _ _ _ _ _ _ _ _ _ _ _ _ _ _ _ _ _ _ _ _ _ _ _ _ _ _ _ _ _ _ _ _ _ _ _ _ _ _ _ _ _ _ _ _ _ _ _ _ _ _ _ _ _ _ _ _ _ _ _ _ _ _ _ _ _ _ edit price target 44 giant wedge breakout by u ich1banf50</td>\n",
       "    </tr>\n",
       "    <tr>\n",
       "      <th>1769</th>\n",
       "      <td>how do i cash in a paper stock certificate i m just now going through my grandparent s desk and i found a stock certificate they bought in 1988 for meredith corp for 6 722 shares how do i cash this in after all this time is it even worth anything</td>\n",
       "    </tr>\n",
       "    <tr>\n",
       "      <th>1777</th>\n",
       "      <td>gme was an important moment i posted this as a comment in response to someone who said the whole gme saga made them sick i thought it was worth posting here not posting in the gme related subs because they probably won t like the fact that i m not holding i believe this is related to the broader topic of stocks and stock trading not sure if this will be deleted disclosure i hold 0 gme currently i m gonna explain this because i think it s worth explaining and you re free to your opinions on gme and on anything but i am detecting some dickishness on your part and i think it deserves to be called out gme was cool because it showed that retail investors can win at this game too so big hedge funds like melvin capital can hope to multiply their wealth by shorting a dying firm into the ground yeah but the people who are just trying to make ends meet working at a company like gamestop or similar from 9 5 have no hope of ever participating in that kind of play and in fact they often see their very livelihood threatened by these hedge funds and other financial entities take the case of 2008 for example wall street banks can profit off of unethical practices normal people can t and when the music stops not only do the wall street firms get bailed out they also take down the whole main street economy with them people are tired of wall street and the wealthy always having the upper hand they almost always win and most of the time they win big when they don t win they can t lose because the government s there to bail them out my degree is in economics i know the bailout was necessary to save the economy but it doesn t change the fact that the common people are fed up with this dynamic they are fed up with it and they have every reason in the world to be people s livelihoods were dramatically dramatically effected by this sort of behavior gme represented the first time that retail could win in a big way and even then they didn t win robinhood cut off the trading but still it was a major breakthrough average joes showed that via social media the odds have been evened a bit now it s not just hedge funds and mega financial entities that can win at these big plays retailers have a shot too some people look at it is bringing the hedgies down death to the 1 etc i m not necessarily part of that crowd but no matter what side of the political spectrum you re on if you re a retail investor just an average joe you can be proud of what happened with gme it was a victory for us it meant a leveling of the playing field if only ever so slightly i for one am happy that i profited on the long end of things i really believed in what i was doing thus why i bought in on the way up the first time and continued holding i had never invested in stocks before but i soon realized that the moment had passed and that losing money wasn t much of a way to make a statement so on the way up the second time i cashed out and made small profits if you wanna short it that s fine like i said you re not making much of a statement by losing money i for one wouldn t want to short it i really believed in that movement no matter how small or insignificant my contribution was it may not have mattered in the grand scheme of things but it mattered to me but still you wanna short it that s fine but the part about it making you sick i think that s on you man</td>\n",
       "    </tr>\n",
       "    <tr>\n",
       "      <th>1824</th>\n",
       "      <td>crsr corsair dd the q4 results are basically already out and nobody is talking about it while the whole world was having a big old party a few outsiders and weirdos saw what no one else could these outsiders saw the giant lie at the heart of the economy and they saw it by doing something the rest of the suckers never thought to do they looked big short i have seen many good quality dd about corsair we all know it s a great business what i want to focus on is the financials more specifically we already know q4 results and nobody is talking about it why because nobody looked corsair recently posted a prospectus related to the sale of 7 5m shares by some insiders totally normal as it s mostly the private equity owner eagletree selling a small bit and passing from 78 32 to 68 55 ownership they sold 7 135 000 out of the 7 500 000 sold it s totally fair for the pe owner to cash out a bit here s the prospectus dated 21st of january 2021 1 now check out page 9 of the document for the year ended december 31 2020 we expect net revenue to be between approximately 1 700 million and 1 701 million net income to be between approximately 101 million and 103 million adjusted ebitda to be between approximately 211 and 213 million yes we already know they have beaten their own updated estimates in fact the company initially estimated the following from q3 release for the full year 2020 we currently expect net revenue to be in the range of 1 616 million to 1 631 million adjusted operating income to be in the range of 178 million to 184 million adjusted ebitda to be in the range of 187 million to 193 million then they updated the guidance on november 30th 2020 for the full year 2020 we currently expect net revenue to be in the range of 1 651 million to 1 666 million adjusted operating income to be in the range of 186 million to 192 million adjusted ebitda to be in the range of 194 million to 200 million so they have beaten their own initial and revisited estimates great really great 2 but that s not all we can easily infer from the prospectus dated january 21 2021 again we just need to look as they mention on the q3 report as of september 30 2020 we had cash and restricted cash of 120 1 million 48 0 million capacity under our revolving credit facility and total long term debt of 370 1 million in the more recent prospectus page 10 in addition to the foregoing as of december 31 2020 we expect to have approximately 133 million in cash and restricted cash and we expect to have net debt of approximately 194 million following the repayment of 50 0 million in existing debt with cash on hand during the quarter ended december 31 2020 this means that they have reduced net debt from 250m 370 120 of cash to 194m which implies 56m of free cash flow generated during the quarter as a reminder they generated around 21m fcf in q3 2020 and 94m in the first 9 months of 2020 so this implies around 150m fcf in 2020 as a reference in the first 9 months of 2019 they had negative fcf of about 6m check cash flow statement at page 14 on the q3 report here at 39 corsair has a 3 5bn market cap 91 92m of shares outstanding this is a very respectable cash flow yield of 4 2 i d be expecting a much lower yield from a company growing as fast as corsair is 60 7 growth year over year in q3 and assuming sales of 554m for q4 vs 327m for q4 2019 a growth of 69 4 in q4 now you must be thinking but the smart money already knows this they have accounted for it i used to be like you i used to think the market was efficient and that big funds and banks were always looking carefully at things no f way take a look at goldman sachs research from february 1st 2021 yes after the prospectus was published someone shared it on reddit they still base themselves on the updated guidance of november 30th 2020 no mention whatsoever of the much more recently updated guidance more than a guidance it s actually the results given how close the ranges are tldr corsair is a great company and its results are already out make your own investment decisions</td>\n",
       "    </tr>\n",
       "    <tr>\n",
       "      <th>1831</th>\n",
       "      <td>live charting for 3 15 2021 predicting the day s price action in detail with warden predicting the dips special edition let s find the juiciest dips again to reiterate since this should probably be at the top this is not financial nor investment advice these are ideas and opinions for information purposes only this post will read bottom to top it s easier for people to refresh the page and see edits at the top add me on twitter i ll be using that as a backup location to post notifications in the event of a reddit outage here is my youtube i may post videos in my future and build my channel out after gme is over historical support and resistance levels for reference today 234 243 250 253 256 5 263 267 272 275 279 282 285 edit 44 3 05 pm the price action today is certainly unsettling that is perfectly normal given that gme is not a stock in play right now the price action today reminds me of trading during a bear market a lot of uncertainty and lots of dips just know that this stock is way below vwap if we don t correct upwards today we may correct later on in the week volume picking up but still low let s see if there s anything in store for us during power hour edit 43 2 40 pm the relationship between borrow rate and availability of shares to short is an inverse relationship when you have fewer shares to lend out as a brokerage you will want to charge a higher fee to offset the low supply so you can make the same amount of money as you can see the spike back in april was due to a low supply why was there a low supply it could have been due to a constant hammering of the stock when it was climbing slow and steadily as you can see now it seems there was a lack of demand and thus an excess of supply for shares to short during our recent runup we are seeing a slight decrease in available shares but compared to april the fee is very low right now it s unusual to me that the borrow rate has not yet risen in response to the decrease in share availability edit 42 2 32 pm this is what i expect i will explain more in edit 43 how borrow fee relates to price and available shares to short edit 41 2 12 pm i believe that it is strange to see a low borrow fee right now because that s an indicator of an abundance of shares available to short this is occurring during a potential uptrend too i honestly believe we have a shares don t exist problem where are these available to short shares coming from just how many synthetic longs and ftds are there this is all highly unusual to me edit 40 1 42 pm for those of you curious about the borrow fee the short borrow fee is a highly important indicator for the short squeeze historically borrow fee will go up before the short squeeze begins furthermore the shares to borrow needs to go to near 0 as of now according to tony oz there are still 1 3m available shares to short alone in interactive brokers as you can see by this highly technical diagram the borrow fee has yet to spike up to around 80 like it did in january this is highly strange edit 39 1 15 pm for those wondering why i haven t made nearly as many predictions today as i have made in previous posts this has to do with the fact that gme is not a stock in play a stock in play is a stock with significant volume caught in the middle of a correction or a trend last week it was caught in a downwards correction that still trended positive with volume higher than today so far though we had a good upwards trend and premarket gap up today it s evident that the opening volume was quite low around 660k in the first minute one telling sign of a stock in play is the price action is fast and choppy today it was sort of like that at market open but it s evident from staring at the chart that the price is barely moving day traders prefer to trade only stocks in play when volume is too low the price action is often meaningless and usually just white noise for that reason i do not find predicting gme s movements today to be particularly useful edit 38 1 00 pm for apes wondering how to spot short attacks one way to tell is a sudden pick up in volume typically during a selloff you will see a gradual increase in volume a short attack is characterized by a sudden spike in volume edit 37 12 52 pm boring chart today eh for those who want to pass the time edit 36 12 26 pm today has shaped out to be an indecisive low certainty day if it weren t for the short attack gme would be bullish and outperforming the market sometimes i question what the purpose of shorting is when it artificially disrupts trends yes i know it s to disrupt momentum i meant that i don t think shorting makes sense for the health of the market it undermines investor confidence edit 35 12 17 pm voo getting ready for a small correction again this should drag the current support levels a bit lower than 250 243 and 234 are fair candidates we ll correct before we bounce edit 34 12 05 pm keep in mind not all whales loading up at the dip are playing for a short term squeeze some are going long well into next year this is good for us more whales holding is good edit 33 11 56 am we should eventually retrace to 263 it s a long way up and may take a long time i m gonna go get lunch and let the price cook a bit should be a period of consolidation followed by a breakout to the upside edit 31 11 37 am remember that gme is affected by broader moves guess what s p 500 tumbled dragging gme with it edit 29 11 26 am given that they chose today to do the short attack my price target needs to be lowered lowered by how much i don t know today s chart is now quite artificial from that drop so it s hard to say edit 28 11 24 am bottom is out edit 27 11 21 am thank you for the firesale melvin and friends edit 26 11 19 am short attack go get a drink nothing interesting happening edit 25 11 14 am we may go as low as 250 251 broader market going down voo ready to fall again edit 24 11 13 am next dip target is 259 261 range edit 23 11 12 am nevermind right as i finished the edit the dip came lol edit 22 11 11 am an unlikely dip at 263 264 range btw if the broader market goes lower it s possible it will drag gme down again unlikely but look out for it edit 21 11 03 am if you were wondering how i spotted the dip around 267 at 10 58 am you ll notice there are plateaus and periods where the price stayed flat some of these were attributed to hedge funds accidentally running essentially buy the dip high frequency trading algorithms on leh the most disappointing hft program known today is the so called buy the new low program a stock will make a new intraday low which will make many day traders go short and ride the downside momentum the program will then start buying the shorts from the day traders and ultimately push the stock higher causing all of the day traders to panic and cover it sounds pretty effective especially since the institutions that run these hft programs have essentially unlimited buying power the problem with this algorithm is when another large institutional seller is behind the trade and wants to dump their large positions no matter how many shares the program buys the stock will never push higher the more the program buys the more the institutional seller and day traders will dump their shares on it this algorithm failed miserably in september 2008 when the investment bank lehman brothers ticker leh now de listed after bankruptcy federal home loan mortgage corp ticker fre and many other mortgage holdings and investment banks all started a massive downward drop in price programs were trying to buy their stock to squeeze and burn the short sellers but since those stocks were already fundamentally broken their stock price never went higher day traders and huge institutional sellers dumped their shares on the program those programs and their developers were obliterated left holding a literally huge number of worthless shares of leh and fre and other bankrupted holdings how to day trade for a living by aziz so basically they bought a bunch of crap leh stock trying to cause a short squeeze that was never going to happen our favorite fraud kjetill stjerne did something similar it was an in between of nick leeson and buy the new low edit 19 10 50 am before the financial crisis of 08 interest rates were low and there were many reasons the housing markets looked appealing people took out subprime mortgages basically a type of home loan issued to people with low credit scores these mortgages were issued at an adjustable rate the problems come in when the interest rates are adjusted up and all of a sudden the perceived value of real estate went down a lot so for the lehman brothers who were heavily involved in the housing market with their mortgage backed securities 76 billion dollars when people begin defaulting not paying on their mortgages this is terrible for their company not only that they invested in real estate themselves their investments tumbled in value in edit 20 we ll explore leh and how hedge funds accidently tried to prop up leh edit 18 10 47 am potential dip at 267 268 5 range btw edit 17 10 44 am seeing how boring the price action is right now let me tell you guys a second story the story of lehman brothers and the housing crisis the lehman brothers was one of the largest bankruptcies of all time the company was 150 years old at the time of bankruptcy in this story i will tell you about another failure in the history of propping up prices how hedge funds accidentally tried to prop up the housing market and how it failed miserably stay tuned for edit 19 edit 16 10 34 am we re consolidating nicely notice how rsi is staying nicely in the blue zone this is extremely bullish especially when the broader market is in the red edit 15 10 30 am singlehandedly leeson bankrupted barings bank i remember when i was visiting a trading company in new york a couple years ago a head trader told me this story it was a lesson in how not to do risk management at your company leeson originally started with something like a 10k loss and let that snowball into a 100 million dollar loss that he tried to fix with nikkei too bad his luck is literally 0 so how does this relate to kjetill stjerne well on jan 29 stjern ran a big wall algorithm to soak up gme shares just like how leeson bought more nikkei futures in an attempt to prop up the price the idea that the future is unpredictable is undermined every day by the ease with which the past is explained daniel kahneman thinking fast and slow i remember he posted a tweet that was something like i m ruined no shit sherlock edit 14 10 17 am volume still quite low btw s p bounced from a low today but seems to be consolidating back to the story imagine betting on the s p 500 recovering from a dip and then having a hurricane wiping out the power in the entire country that s what the kobe earthquake was like but worse when the nikkei was free falling nick leeson tried to prop it up by buying more and more nikkei to try to reverse the trend at one point he was long 7 billions dollars on nikkei futures this is like the opposite of what melvin and friends did last wednesday and you know how that went so leeson miserably fails nikkei continues to plummet and now barings bank is holding a bunch of worthless nikkei futures the story continues in edit 15 edit 13 10 11 am let me tell you guys a little story and why i think kjetill stjerne the viking of stocks is a fraud ever heard of barings bank and the rogue trader nick leeson was a trader at barings bank who made risky bets in the options market he began having an unlucky streak losing millions of dollars so he bet big on the recovery of an asian index nikkei on the very day he needed it to recover in one big stroke of bad luck the kobe earthquake shook japan and his plan to make money from nikkei to offset his loses never materialized the story continues in edit 14 coming soon edit 12 10 06 am please upvote this post if you are enjoying the commentary and would like to help me increase visibility of this post edit 11 10 03 am as of now the price is barely moving even with a high bid ask spread volume is too low to induce volatility i ll be pausing my predictions commenting on any broader market events i discover and resume my predictions when volume ramps up there s nothing interesting happening as of now edit 10 9 53 am extremely low volume right now it s dead quiet for gme other stonks like pltr have decent volume something s up and i bet they will ramp it up mid day expect a boring morning p edit 9 9 48 am folks the s p 500 is in the red i wouldn t be surprised if we hit the 267 level hfts will drag gme lower edit 8 9 45 am edit 5 9 38 am dip possible entry at 274 275 edit added 275 range edit 4 9 36 am it s just seeing a minor correction still not really a juicy dip or anything edit 3 9 33 am we should see a lot of upwards pressure now for this special spot the dips edition i ll be focusing my predictions not on how high it goes but when i think it will dip again stay tuned edit 2 9 32 am scenario a confirmed it hit a lower support line than expected what a juicy dip edit 1 9 30 am juicy dip right now begin reading here goooooooooooooood morning my bombastic interplanetary apes daylight savings aggggh i wanna sleep some more i hope you all had a restful weekend spent adopting gorillas and strapping on your astronaut suits for our upcoming trip to the freakin moon i hope you didn t let fud get to you over the weekend because melvin and friends are itching to buy those shares from you for anything below a discount of 100k per share thoughts on contradictory dd i know recently many of you may be angry or disappointed with last week s expectations of a gamma squeeze not coming true that s a perfectly normal reaction do not let it get to you i hope that what i m about to tell you will help dispel fud and help strengthen your convictions last week many people realized that there were conflicting dds that were all right in their own way but contradicted each other they are all right why if you end up working at a wall street firm they ll set you up with a desk and teach you their strategy every firm has multiple desks and each section employs a basket of strategies i ve had the pleasure to visit the trading floor of one of these firms in the past back when i wanted to become a trader fulltime they have halls in these floors in one area you would find the forex traders in another cubicle you ll find the equities desk within each of the sections there s groups of traders executing different strategies just look at all the types of strategies an options trader can employ these don t even include arbitrage techniques it really makes more sense to interpret things like options activity in the lens of basket strategies it s honestly friggin impossible to make simple statements based off options data the options stuff i examined in my previous dd were a bit more obvious but you really can t just assume a long whale is buying all the 260 calls half of those might be used for conversions the other half might be used in collars heck they might even be covered calls the point is it s impossible to tell what these options will be used for we can only really catch the obvious ones and make reasonable guesses in my opinion last week s 800 dollar calls were low risk low return covered calls not some long whale thoughts on strategy the power of trends so what s my point don t let options activity fool you it s a lot more complicated than just long whales and short whales it s a chaotic pit of strategies fighting each other nevertheless i personally believe in the power of trends and that traders will gravitate towards strategies that amplify the trend until that trend shows a sign of weakness and reversal for example the simple long call strategy the long call spread or long combination strategy are all strategies that force mms to hedge and buy more shares this is profitable and creates a self feedback loop amplifying the upwards trend it only stops working when people begin running out of buying power and whales begin hedging and setting up strategies for a reversal we ain t running out of buying power anytime soon stimmies i believe melvin and friends tried to induce this reversal early last wednesday and failed miserably gme is not reversing anytime soon if you see a dip this week that is probably a cornered rat trying to fight the trend it really makes no sense that this trend will reverse anytime soon there are way too many catalysts people are holding institutions are holding all technical indicators are bullish i mean just check out this latest bloomberg terminal screenshot retail during wednesday basically no retailers sold in fact we ve since increased retail ownership from 7 35 to 7 49 this is excellent news what s even greater about this week is that retailers now have stimmies coming in slowly i ve collected some data and it seems that they are slowly trickling in polls show around 10 20 have already gotten their stimmies over the weekend our buying power has increased institutions i anticipate institutions are doing the same in fact institutions like talking to each other as trading desks have direct lines setup with other firms what alliances they ve established nobody except they know but i can speculate that they know exactly the situation shorts are in and the power they have holding this position together institutions are holding and their buying power has also increased this is because the premiums on calls have decreased allowing them to setup more trend amplifying options strategies catalysts stimmies 2nd hearing earnings call highest options activity week stimmies and the hearing will increase certainty the market loves certainty a nice steady climb should be absolutely expected given the increased buying power of retail and institutions our combined holding and all of the catalysts lined up i am incredibly bullish for this week i believe it is highly probably today we will strongly outperform the market forget about 3 19 forget about dates look at this from a strategy perspective we have a series of bullish events lined up like dominoes we just need one of them to fall to set all the other dominoes into motion technicals technical indicators however brainless they are look exceptionally bullish again in my opinion indicators are quite brainless i examine trend and interpret it from a market dynamics viewpoint this image below screams hey as an institution i should hold and at the same time execute strategies that amplify this trend i believe we will have our second bull run this week premarket analysis broader market gap up today s p 500 starting in the green what s interesting today is ust10y last wednesday not only did whales hammer the stock with conversions they did it during an opportune time no those dips in other stocks was probably not hedge funds liquidating their positions to cover gme that s nonsense it was a normal sell off as the us 10 year treasury bonds spiked the fuck up high 10 year yield sell off and market panic a seems more likely as a lot of swing traders made money from this premarket gap up and rally not only that a lot of swing medium frequency trading algorithms like to sell off right at market open option b will happen only if more buyers flood in than sellers my price target today by linear extrapolation is 281 291 conservative and 300 324 high estimate at the bottom of every post now i will include the resources i use to learn summary of resources i used to learn i would recommend technical analysis of the financial markets by murphy and how to day trade for a living by aziz you can find the free pdfs online i watch humbled trader on youtube she s legit and really knows what she s doing roensch capital is excellent for some more deep dive technical analysis i also read a lot of investopedia and learned about options trading from the online websites options playbook and theoptionsguide understand options is important for understanding trends sentiment and where prices should go being able to read and understand the options chain is important i use several tools at my disposal namely optionistics for understanding iv and option price trends barchart for options chain optionsonar for scanning for unusual options activity webull for charting and level 2 data and stockcharts for their bond charts thinkorswim for quick news scanning and stonk o tracker for ssr data i check tradingview for amateur trading ideas just to make sure i haven t missed anything i like to read form 10qs quarterly earnings form 8ks emergency updates form s 1 for ipos 13gs to track institutional positions it s usually outdated but still useful and 13fs for funds that didn t file a 13g</td>\n",
       "    </tr>\n",
       "    <tr>\n",
       "      <th>2090</th>\n",
       "      <td>market sentiment and technicals are indicating that gme and amc are about to experience a third bull run the thing about both this stocks is that recent news have tried to discourage people from buying more calls or shares but while the media is trying to push both stocks down the overall feeling around these stocks is bullish today amc has broked above the descending triangle formation in the daily chart check finviz or whatever tool you want and a little after gme has experienced the same trend breaking above the sma and both currently spiking in after market if these levels consolidate in this week and the next both of these stocks can experience another bull run to previous highs note i am not telling that it will gamma squeeze just saying that in the short term bears are going to get destroyed and the longer the people who are shorting keep their shorts puts the more they are gonna get burned because people aee not selling either of them holders have proven that the short volume is because they are not selling tldr for amc and gme for now more volume and momentum required to moon</td>\n",
       "    </tr>\n",
       "    <tr>\n",
       "      <th>2099</th>\n",
       "      <td>gme price action dd making higher lows and turning an ancient resistance into support pretty drawings the tits pattern is shaping up nicely using nerds lingo it could be a double cup and handle and not just a double bottom as previously suggested for the pattern to be confirmed we shouldn t have any drops below 49 a strong rejection around 57 would form the handle tops and bottoms yeah they give us false hopes and show us the mid 50s just to push us back down on low volume duh but guys we re making higher lows that s big they were able to push as low as 46 first tit in the tits pattern then as low as 48 2nd tit bottom then 49 for a brief moment during power hour making higher lows and claiming 49 as the new support would be massive that s our short term goal why because 44 49 had been a massive resistance zone from july 2014 until november 2015 then it dropped to oblivion history repeating itself it looks like we re losing but we re not when gme was in the 10 13 limbo in early november the price action was eerily similar pushed down intraday even after strong bullish moves at open because of the low volume hopes crushed every day but little did we know that we were making higher lows and a double cup and handle very similar to what s happening right now currently holding with high hopes for q4 er in late march cohen hasn t revealed any of his tricks in his sleeve since he s revolutionised the board i like the stock</td>\n",
       "    </tr>\n",
       "    <tr>\n",
       "      <th>2232</th>\n",
       "      <td>uber loses u k top court ruling on drivers employment status bloomberg uber technologies inc lost a u k supreme court ruling over the rights of its drivers in a landmark decision that threatens the company s business model in the country the judges said that uber drivers were workers entitled to rights like minimum wage holiday pay and rest breaks the court said the contact terms were set by uber and working conditions were controlled by the company uber loses u k top court ruling on drivers employment status bloomberg</td>\n",
       "    </tr>\n",
       "    <tr>\n",
       "      <th>2300</th>\n",
       "      <td>just hit 1 million nw by 28 the boring way decent income frugal lifestyle hello everyone this might be an unpopular opinion but i ve been a subscriber here for 7 years and one of my favorite things to read are the humblebrag how you got to where you are milestone stories this is the 3rd milestone story that i ve posted i made this post once i hit 300k and then i made this post once i got married and we hit 500k those older posts have some great background on our childhoods parents college years monthly budgets and advantages along the way i won t rehash those things here and keep this post more numbers oriented feel free to ask any questions you have current net worth 1 005 850 net worth over time 2013 2k 2014 20k 2015 54k 2016 76k 2017 152k 2018 264k 2019 361k 2020 536k 2021 794k today 1 005k net worth breakdown by account savings account 16 499 401 k s 458 687 roth iras 168 094 hsas 32 345 taxable investments 260 148 home equity 70 077 net worth breakdown by asset type cash 16 499 2 investments 919 274 91 home equity 70 077 7 current household income 197 000 2013 both in college working part time jobs 2014 both in college working part time jobs 2015 55k my full time starting salary after graduating my wife was still in college 2016 65k still just me working my wife was still in college 2017 122k me 69k wife 53k she finally graduated and started her first full time job 2018 141k me 81k wife 60k 2019 159k me 89k wife 70k 2020 169k me 98k wife 71k 2021 197k me 121k wife 76k annual spending 2015 still finishing up college 2016 30k 2017 33k higher because we bought renovated and furnished a condo 2018 38k higher because we spent 10k on our wedding 2019 30k 2020 21k lower because of reduced travel spending due to covid general habits worth mentioning we ve maxed out our 401 k s roth iras and hsas every year since starting our full time jobs plus invested the excess in a taxable account we ve never invested in bitcoin or anything like that just boring old vanguard index funds vanguard is showing our personal rate of return since 2013 as 16 30 which is historically high but only slightly better than the s p 500 during that time we love to travel we go on 3 5 trips per year to national parks european cities etc that we fund via credit card travel hacking courtesy of r churning unlike a lot of people on this sub we ve introduced the idea of fire to most of our close friends our parents and siblings also know our fire goals but we set clear boundaries we re pretty open about our journey and try to help others if they are interested because of this our 15 20 closest friends are all into fire as well we hang out with friends 1 2 nights per week but instead of going out for drinks we don t drink alcohol anyways we go over to each other s homes for home cooked dinners and board games i say this because we have a good social network but don t have to spend a ton to maintain it having a like minded so and like minded friends have been two of the most important contributors to our happiness and high savings rate saving this much and maintaining a 70 savings rate hasn t been hard for us we don t have to try very hard to accomplish these goals it s just who we are we are natural savers we buy everything that we want we just find that we don t want a lot of the typical things that other people want luxury cars eating out 5 star hotels brand name clothes 30k wedding huge home etc feel free to ask me any questions you may have about our life or fire journey tldr 2 like minded fire people fall in love make decent money live a very frugal life and save 1 million by age 28</td>\n",
       "    </tr>\n",
       "    <tr>\n",
       "      <th>2896</th>\n",
       "      <td>biden administration will continue chinese tech ban in government should cause big boom for us based drone stocks as well as other government tech products looks like the government bans on chinese tech will continue very good sign for the future of the drone industry for us based companies considering how dji dominated for years and many of those fleets have already been grounded and will have to be replaced should produce some pretty rapid growth anyone who is not investing in a us based drone company should be considering government is 70 of the drone market in the us currently there is going to be a lot of government customers looking for a us based source for all different types of drones</td>\n",
       "    </tr>\n",
       "    <tr>\n",
       "      <th>3042</th>\n",
       "      <td>due diligence of bitcoin mining stock valuations riot and mara due diligence of bitcoin mining stock valuations riot and mara unlike the 2017 18 rise of bitcoin the 2020 21 bitcoin price action has been largely driven and influenced by institutional demand with institutional demand comes institutional products we have seen bitcoin derivatives bitcoin trusts and more recently a new way for exposure to bitcoin price action publicly traded bitcoin mining companies there are two bitcoin mining companies which i d like to review for you here both trade on nasdaq they are riot and mara lets begin with a quick summary on bitcoin mining what is bitcoin mining to mine a new block on the bitcoin blockchain you must find a number called a nonce the cryptographic combination of the nonce next block content must be numerically smaller than the network s difficulty target more on this below generating a new nonce is extremely computationally expensive there is no shortcut miners must try calculations over and over again until they brute force the correct result they are trying to find the answer to a math problem a nonce that hashes correctly with the sha 256 cryptographical hashing function the bitcoin network adjusts how many computations must be done on average to find a valid nonce every 2 weeks this is called the difficulty the aim is to have a new block mined approximately every 10 minutes this means that if the mining power is doubled the difficulty is made 2x harder double the energy for the same amount of bitcoin we can see an estimate for the total hash rate being applied to the bitcoin network today notice that it is about 150m th s right now 150 million trillion nonces tried every second so for every block every 10 minutes 9 10 22 attempts are done 90 sextillion until one lucky participant finds a valid nonce and can mine the next bitcoin block in doing so they get rewarded 6 25 newly generated bitcoin some bitcoin in transaction fees from users of the network you can run code on your computer to try and find the next bitcoin block in fact this is how all bitcoin mining used to be done however these days you will end up spending more on electricity than you mine in bitcoin this is because people have developed special asic chips designed specially for brute forcing the sha 256 function these chips are a factor of 100 times more efficient than your computer mining on an asic bitcoin miner the biggest producer of asic bitcoin miners is a chinese company called bitmain they produce miners run many of the miners and even run many mining pools where people can collectively search for the next block and split the profits bitcoin mining becomes incredibly profitable when there is a rapid price increase in bitcoin this is because there is a lag while new bitcoin mining hardware is being built and deployed to capture excess profit so lets take a look at how profitable it is to run an asic miner today the antminer s19 pro is one of bitmain s latest machines it can run an impressive 110 th s and uses 3250w of power on their website bitmain is listing them at 3769 per machine but in bulk companies can buy them for as low as 2333 notice they are sold out until at least august so 2333 machine cost using 0 08 kwh electricity costs benchmark for electricity cost in china we get 3 25kw 0 08 0 26 per hour in electricity costs assuming we run 24 7 this gives us 0 26 24 365 2278 in electricity costs per year and how many bitcoin will we mine well at 110 th s on an asic machine we are capturing 110 150 000 000 0 0000733 of the total bitcoin network per machine at current total hash rate 52 560 bitcoin blocks mined per year 6 25 bitcoin reward per block 1 25 bitcoin in transaction fees avg right now 7 5 bitcoin per block 52 560 blocks 394 2k bitcoin per year for the entire network 0 0000733 of this is 0 289 bitcoin per machine per year 14 450 revenue at 50k per bitcoin 14 450 2278 12 2k profit per year you can play with the parameters to figure out different profit levels for example if the total hash rate doubled to 300m th s profit per machine would drop to 5k per year also note that transaction fees fluctuate over time depending on how many people are actually using bitcoin sending and receiving transactions see historic transaction fees and how long can you run a machine for running so many calculations slows a machine quickly additionally new faster hardware is introduced making past hardware unprofitable fairly quickly as a rule of thumb we can expect a machine to be profitable for about 2 years this is also the rate at which companies mark the depreciation of miners on their balance sheet in year 2 the machines become much less profitable than initially there have been studies to see where bitcoin mining is occurring through ip address analysis of miners working in pools the university of cambridge has a real time map in which we can see that in 2020 mining was country total hash rate china 69 russia 6 us 5 kazakhstan 5 malaysia 4 iran 4 riot and mara now that we have a basic overview of how bitcoin mining works let s look our new investment phenomenon publicly traded nasdaq listed bitcoin mining companies riot incorporated in july 2000 the company was renamed to riot blockchain in october 2017 the company now exclusively mines bitcoin and has a partnership with coinmint llc in new york who operate the miners riot was a penny stock for most of its existence and was irrelevant until mid 2020 how many miners do they have current status of pre dec 2020 orders 11 5k miners in operation and 10k more to be delivered funded from 100m secondary offering in oct 2020 in december 2020 their stock price rocketed alongside bitcoin 3 15 in 1 5 months they took advantage of this and ran a secondary offering raising 200m with this money they ordered 15k more miners for 35m expected delivery starts in may 2021 with the bulk to be delivered in october 2021 summary 37 640 machines at full deployment 11 5k machines today and won t be running the rest until q3 q4 so ignoring the cost of the machines operational 11 5k machines at 12 2k profit per year per machine 137m full capacity q3 q4 37 6k machine at 12 2k profit per year per machine 459m and assets maybe 150m in cash btc left over from secondary offering and past assets note they may get cheaper electricity costs through their partnership and claim as low as 0 0014 per kwh in some releases mara incorporated in 2010 the company has a wild history it first engaged in the exploration and development of uranium and vanadium then real estate in southern california and most recently patent trolling the company has some questionable leadership and has also been a penny stock for most of its existence in 2019 i think the company began delving into bitcoin mining in september 2019 they purchased 6k s9 bitmain miners 13 5 th s for 4m notice that at 13 5 th s these machines are far from profitable today i m not even sure they were profitable back then so more recently they own current status of pre dec 2020 orders 6 5k miners in operation and 30k more to be delivered funded from 100m secondary offering in aug 2020 in december 2020 ran another secondary offering after their stock price went from 2 14 in a month they raised 200m with this money they ordered 70k more miners delivery of 7k in july 63k in december for 168m in january 2021 they ran yet another secondary offering raising 300m more they used 150m of this to buy 4 8k bitcoin at 31k per coin summary operational 6 5k miners 79m per yr full capacity dec 2021 103k miners 1 25bn per yr they also made 90m on their bitcoin holdings so far 150m 240m impressive numbers right well too good to be true so what are riot and mara trading at you may ask with the recent jump of bitcoin to 50k riot and mara have rocketed riot closed at 77 90 per share a market cap of 5 3bn mara closed at 47 90 per share a market cap of 4 5bn investor euphoria is at all time highs so much so that their price action has rapidly outpaced and diverged from bitcoin so is it because they have such huge potential if riot gets all of its hardware delivered is it really going to be making 459m per year and mara 1 25bn per year well probably not as bitcoin price goes up mining becomes very profitable and there is a rush to build and deploy more hardware from oct to dec 2017 the price of bitcoin famously went from 4k to 20k total hash rate went up about 60 during this time however it went up a massive 600 over the following 9 months as new miners were produced and deployed with a lag as the price of bitcoin capped out and then dipped mining soon became unprofitable at such a high total hash rate and miners lost a lot of money both riot and mara are pending receipt of the majority of their miners and won t be taking delivery until late 2021 early 2022 what will the network s total hash rate be by then what will bitcoin price be by then chinese miners won t be sitting by idle and we ignored the cost of the machines in the future riot and mara will need to buy new machines regardless of the market the old asic miners will quickly trend towards unprofitability bitcoin is closed system there will only be a maximum of 328 5k tx fees of bitcoin mined per year in fact this will reduce in 2024 with the next halving a company cannot reliably mine more bitcoin capture more of the network because if they are finding it profitable to increase their hash rate then you can be certain every other miner is doing the same how many 100m secondary offerings can they do for this free lunch take a look at the past financials of these companies riot mined an impressive 2 4m worth of bitcoin in q3 2020 their costs were 1 3m in electricity rent etc 1 2m depreciation 2 5m once you add in their 2m of salaries and marketing they had an operating loss of 2 1m for the quarter their bitcoin did appreciate by a cool 385k meaning their net loss for the quarter ended at 1 7m of course their next quarter should look wildly better thanks to bitcoins q4 2020 price action but this is not a business that is massively profitable under normal market conditions the bull case bitcoin keeps rocketing and never comes back the total hash rate doesn t catch up and 50k btc becomes 1m btc mara s 1 25bn revenue next year becomes 12 5bn before asic miner production catches up investors doubled their money of course if it becomes so profitable one wonders if bitmain decides it is better value to use the miner s themselves and breach their contract tobin s q simply stated when you invest in a riot or mara you are investing in the profitability unprofitability of bitcoin mining over the next 1 2 years it could be hugely profitable or it could crash and burn like it did in 2018 and you see no returns in this instance you are paying the executive team of mara and riot to buy the hardware plug it in and sell any bitcoin for you there isn t much more to it than that you could buy the hardware yourself and run a few machines if you found a good electric company to partner with for cheap electricity so perhaps a good way to see what kind of premium you are paying to own bitcoin miner exposure through these nasdaq companies is the q ratio the q ratio is the market cap of the company divided by the replacement costs of its assets riot market cap 5 3bn current btc miners 11 5k 27m ordered btc miners 26k 60m 150m cash remaining guess a whopping q ratio of 22 4 and 63 of that is cash 25 in orders mara market cap 4 5bn current btc miners 6 5k 15m ordered btc miners 96 5k 225m 240m in bitcoin 100m cash remaining guess a value q ratio of 7 75 with this approach riot is trading at a 22 4x premium today and mara a 7 75x a criticism of this valuation methodology may be that it is justified paying a premium when orders for new hardware are so backlogged just remember that these companies are also stuck in that backlog and won t have most of their machines online until 2022 is it really worth such a premium other factors to consider these companies have questionable management the ceo of mara has awarded himself compensation in excess of 300m over the last few months realise that the market cap of mara was less than 300m just 3 months ago both companies are quick to do secondary offering after secondary offering at such high prices mara has been more aggressive recently and the downward pressure of insider selling and secondary share offerings has resulted in the price moving from 20 48 in the time riot has gone from 20 77 a read through both of their 10 qs will give you paragraphs of legal claims shareholder class actions and past investment write offs due to corruption shady circumstances these companies have no moat they have no ip they have no key talent hires they are simply ordering asic miners plugging them in and having the biggest pay days of their lives trading strategies so is there a trading strategy i would recommend bear the challenge with being a bear in this market is you have to seriously consider whether the risk reward is there for betting on the downside right now the market doesn t care for your fundamentals bitcoin has passed 50k the narrative is that its going to 100k the market expects these stocks to continue to trade at multiples and be 10x higher in a month it sounds ridiculous but it keeps happening it is far too dangerous to be short these stocks or worse short calls and you could be bankrupt on 1 intra day move so that leaves you with puts average implied vol nearing 300 does not make them cheap if you truly have conviction that there will be a correction in the near term then consider weekly bear spreads longer dte plays are insanely expensive and run the risk of the many secondary offerings eventually justifying a price higher than your price target another interesting idea would be a relative trade if you could find exposure to bitcoin mining at 20x premium your long run earnings could net out however all publicly traded companies are similarly ludicrous so you d have to buy a stake in btc mining privately or try and own some asic miners yourself more simply you could go long bitcoin and short riot mara this should converge in the long run the risk is that short term the short position will be impossible to risk manage and there is always the risk of more secondary offerings bull buy as far otm weekly calls as you can at 400 iv and hope that momentum market continues fundamentals are for the 2010s other both riot and mara s stock price spent some time consolidating down from 28 to the 16 22 range when bitcoin corrected back from its initial 45k run up back to to 30k it is possible they will again if bitcoin has a pullback however the price action of these stocks has diverged even from bitcoin for the time being ultimately the price action we are seeing now is purely momentum hype technical and probably retail driven long term and as far as future earnings go this play is a loser but be careful that doesn t seem to matter right now disclaimer this is not financial advice do your own dd and trade at your own risk positions i hold 1 60 50 put debit spread for feb 26th for each company tldr bitcoin mining stock valuations are about as crazy as the valuations of all growth stocks in this market fuelled by retail demand of people who don t know what a blockchain is but their crypto millionaire friend told them its revolutionary the greater fool investing 101</td>\n",
       "    </tr>\n",
       "    <tr>\n",
       "      <th>3050</th>\n",
       "      <td>why i think the market will see a 30 50 correction by september i m not going to give you a wall of text that you will probably skim through instead i d like to show you 4 graphs that i ve studied at length which i feel depict my thesis in shortest amount of time then provide brief explanations thesis the stock market is at an unsustainable high valuation and when tracking historical times of similar booms we see a sharp pullback in the years following a squeeze of like magnitude high speculation coupled with total uncertainty in rate tapering timing will lead to a 30 correction in the summer of 2021 retail spending will be at ath supply shortages will be at ath and inflation levels will spike to 2009 2010 levels graph bank of america global research sell side indicator this charts buy and sell signals based on 15year averages currently we are less than one point from a sell indication blue line nearing red line in history corrections occur directly following a sell signal call graph vix vxv the vix is a real time market index representing the market s expectations for volatility over the coming 30 days the lesser know vxv measures implied volatility three months out one way to look at fear greed is to use the vix divided by the vxv vix vxv ratio the current vix vxv ratio sits at 0 754 when the rate is about this low vertical blue lines returns for the s p500 are often less than stellar namely in 2012 the s p500 lost 10 14 eventually in 2015 the index stalled almost a year adding a mere 3 5 only to lose nearly 15 similarly in 2016 albeit the pullback was shallow 5 in 2017 there were several graph fibonacci retracement fibonacci retracement levels are horizontal lines that indicate the possible locations of support and resistance levels it shows how much of a prior move the price has retraced the direction of the previous trend is likely to continue however the price of the asset usually retraces to one of the ratios listed above before that happens the white lines are the resistance levels at 8 month intervals the 5th sequence of the cycle usually results in the further move to the downside following this trend the 5th wave would happen between july and september 2021 graph vix bollinger bands bollinger bands are curves drawn in and around the price structure usually consisting of a moving average the middle band an upper band and a lower band that answer the question as to whether prices are high or low on a relative basis the narrow bands suggest a period of low volatility widening bands suggest an increase in volatility often associated with a trending market environment in the graph we see the vix tracks options volatility at two time periods 2008 recession present day in 2008 we saw the vix fall through 2009 and into early 2010 as the economy was bailed out bollinger bands leveled out at peak separation from top and bottom bands which led to a market sell off shortly after further lengthening the economic recovery following this trend we are in the same cycle as post 2008 recovery with the markets speculation growing towards a potential catalyst in the form of an interest tax or wage rate hike conclusion history shows us there is cycles to our financial nature as human beings analysis shows us the cycle end is nearing overvaluation abundance of cash and supply restrictions will ultimately lead to a correction in anticipation of coming inflation predictions federal reserve begins slowing asset purchasing in june and overvalued mid and small cap stocks will sell off to offset heavy weighted holdings lowers taxes with realized losses by july 4th news reports on lay offs from material shortages will begin july and august will be red and september december will be a recovery back to 200 day moving averages spy 350 vix 50 by 7 15</td>\n",
       "    </tr>\n",
       "    <tr>\n",
       "      <th>3126</th>\n",
       "      <td>what are your moves tomorrow december 20 2021 what are your moves tomorrow please keep the shitposting at a slow boil navigate wsb we recommend best daily dd discussion all best daily best weekly dd all best daily best weekly yolo all best daily best weekly gain all best daily best weekly loss all best daily best weekly memes all best daily best weekly read the rules and make sure other people follow them try no meme mode follow _wsb on twitter and official_wallstreetbets on instagram check out our discord apply to mod r wallstreetbets or apply to mod r wallstreetbetscrypto check out ongoing and expired ban bets</td>\n",
       "    </tr>\n",
       "    <tr>\n",
       "      <th>3149</th>\n",
       "      <td>warning if you clutter the sub you will be permanently banned enough with the memes shitposts screenshots pump posts etc if you want to post memes and garbage non stop go to wsb this sub is for discussion of stocks and the stock market with occasional funny memes not for 1000 shitty memes and screenshots of your robinhood account with occasional discussion of stocks and the stock market we don t need 50 posts about gme and amc today we don t need to see your sweet gainz we don t need your shitty penny stock pump post we don t need your crosspost to your own wsb clone sub we don t need a link to your shitty youtube channel website twitter selling a trading course to your 67 subscribers we don t need another i made a wsb sentiment tracker website plz love me post post something useful and flair it correctly if you don t you will be banned you have been warned everyone else please report posts that violate these rules as much as possible so the automod will remove them</td>\n",
       "    </tr>\n",
       "    <tr>\n",
       "      <th>3157</th>\n",
       "      <td>gamestop institutional broker trades off the exchange upstairs gamestop is a heavily cross traded security according to bloomberg terminal indication of interest trades are executed off the exchange and don t appear even on level ii data and they are executed in block trades to lessen the impact on the security s price these upstairs markets are where dark pools form and are flooded with institutional block trades below is unbiased statistical data exported to excel here is upstairs traded volume plotted along with total volume of the day here is bar graphs of upstairs traded volume along with total volume of the day and plotted daily price change here is of upstairs trades cross traded with y axis starting at 99 according to bloomberg terminal s security finder gme is listed as a cross traded security edit as requested this data is derived from ioi advert overview thanks for the shiny awards</td>\n",
       "    </tr>\n",
       "    <tr>\n",
       "      <th>3165</th>\n",
       "      <td>elon musk tesla will no longer accept bitcoin as payments tesla has suspended vehicle purchases using bitcoin we are concerned about rapidly increasing use of fossil fuels for bitcoin mining and transactions especially coal which has the worst emissions of any fuel cryptocurrency is a good idea on many levels and we believe it has a promising future but this cannot come at great cost to the environment tesla will not be selling any bitcoin and we intend to use it for transactions as soon as mining transitions to more sustainable energy we are also looking at other cryptocurrencies that use 1 of bitcoin s energy transaction bitcoin down 6 at pixel</td>\n",
       "    </tr>\n",
       "    <tr>\n",
       "      <th>3257</th>\n",
       "      <td>are any of you planning on working no stress fun jobs after retirement i posited this question on this subreddit 5 years ago and seeing that it s grown in activity i m curious to hear some novel responses after a strenuous career working your way towards financial independence do any of you have or plan to have a fun no stress job after you achieve fi to remain productive in a familiar sense or socialize with people during high school i worked at a movie theater along with 2 regularly retired older gentlemen who lived comfortably but worked at the movie theater a few days a week to talk to people see free movies and generally keep themselves entertained and sane are any of you planning on doing the same edit a day later it s been great to read over you guys aspirations wherever you are in the fire process best of luck enjoy working at a pizza parlor teaching little league or reading a good book in your hammock with a cold mimosa</td>\n",
       "    </tr>\n",
       "    <tr>\n",
       "      <th>3375</th>\n",
       "      <td>to all shorts save yourselves don t go down with the ship tldr you lost you smaller shorts don t have to go down with citadel cover now it s time to face the truth your fud hasn t worked retail isn t selling you shut down the buy button it didn t work you had vlad tenev shill for you it didn t work you had the financial msm trash gme when it was going down and completely ignore it when it was shooting back up it didn t work you pumped weed silver rocket ssr lol it didn t work day after day week after week month after month you ceaselessly attacked the price of gme it didn t work you had that huge attack on wed mar 10 when you dropped gme from 347 to 198 43 in 23 minutes it didn t work you had pre written articles about that crash ready to go it didn t work you threatened our top dd people we stand with pixel it didn t work your fud hasn t worked you tried your best but we re not leaving now the whales are here dfv is still in don t be delusional you re not getting bailed out you re running out of options you don t want to get margin called you re on the titanic and there are only enough escape rafts for half of you cover now save yourselves get out while you still can those who get out first those who get out last save yourselves cover now edit thanks for awards</td>\n",
       "    </tr>\n",
       "    <tr>\n",
       "      <th>3387</th>\n",
       "      <td>do not pressure the sec to take action a political excuse for trading to be halted is the last thing we need right now i ve seen an uptick in the number of posts calling for sec involvement today on here and other subreddits most calling for a share count or similar to take place i don t believe this is a smart move at all getting the sec involved right now has a significant risk of them coming in and shutting down trading completely if they decided to tally the books best case this will benefit the hedge funds market makers and dtcc by giving them breathing room to come up with damage limiting strategies to cover their corruption worst case they might decide forced liquidations of the counterfeit shares at a reasonable price is the best course of action to prevent contagion and ensure stability yadda yadda yadda i can hear the soundbites already the sec has known full well for years what s been going on and never moved ask yourself whose side they re really on write to the sec after the squeeze or the minute there is more manipulation if that happens again make their ears bleed but not before my 2 cents of non financial advice edit some people really want to take action in that case writing your rep senators might be a good idea they are the ones who can change laws and that s what s needed</td>\n",
       "    </tr>\n",
       "    <tr>\n",
       "      <th>3521</th>\n",
       "      <td>this is not a full dd this is a post saying do not ing buy krispy kreme stock this is a sunken ship it was taken private in 2016 at a valuation of 1 35bil tomorrow at ipo they are pricing shares at 17 for a valuation of 2 72 billion really it s doubled in a 5 year period no it hasn t this is jab holdings realizing they bought something they probably shouldn t have milked it for all it s worth and trying to scrap it for more then it paid for what are some red flags you might ask take a look at the s 1 of the last three fiscal years it s only lost money in the last three said otherwise 100 of the time of the required amount they need to show they have lost money fy19 fy20 organic revenue growth of 1 2 that won t even beat inflation on the bright side bottom line was negative they went from only losing 37 million in 2019 to losing 64 million in 2020 i didn t look to much more in depth at the s 1 to see the valuation even though below the 21 24 they initially were trying to get it also has a billion in debt it didn t have when it went private curious don t be a fool don t buy krispy kreme the fresh donuts are delicious but the stock is a no go s 1 filing on sec gov</td>\n",
       "    </tr>\n",
       "    <tr>\n",
       "      <th>3542</th>\n",
       "      <td>what are your moves tomorrow january 08 2021 your daily trading discussion thread please keep the shitposting to a minimum navigate wsb we recommend best daily dd dd all best daily best weekly discussion all best daily best weekly yolo all best daily best weekly gain all best daily best weekly loss all best daily best weekly weekly earnings discussion thread read the rules and consider using wsbvotebot to help us enforce them in new submissions and keep wsb great try no meme mode also accessible through the top bar</td>\n",
       "    </tr>\n",
       "    <tr>\n",
       "      <th>3600</th>\n",
       "      <td>i made 500 000 trading stocks and options in 18 months these are the 15 things i did that worked best i failed a lot while trading before during and after succeeding i haven t counted it up but it s likely i encountered losses in excess of 150 000 from making mistakes that were easily avoided rash decisions and not giving myself enough time to test out strategies net net i m up 500 000 but i was asked to share some of what worked for me over im quite a bit after my last post and figured i d lay it for others who may not want to waste money learning the hard way as i did these are tactics and strategies that worked for me and my situation someone trying to increase net worth not increase income and they may not be suitable for everyone understand the trading environment one mistake i made more than a few times was not understanding or paying attention to the trading environment i was in before picking out a strategy what do i mean i need to know where things are in the year in relation to earnings season and in relation to sector rotations i need to pay attention to the macroeconomic indicators and i need to watch the vix mind the gap between earnings seasons i can t stress this enough when earnings are strong and earnings data is coming in investors watch those like hawks good earnings reports bring confidence to the market which yields a rising market in between earnings seasons there is less data from companies to review and investors pay closer attention to macroeconomic indicators like inflation 10 year bond yields and what the fed is doing this makes for a much jumpier market that s more likely to pull back it s also a time when the large asset managers rebalance their portfolios they manage billions so this can cause large movements to stocks and indexes as they shift to be overweight in one asset class e g value stocks energy and underweight in other asset classes e g growth stocks technology i try not to get caught by these patterns i anticipate they are coming and invest accordingly simply put i buy the pullback after the rotations have occurred and before earnings seasons begin as a general rule of course i don t do this if i expect a terrible earnings season take advantage of sector rotations the sector rotations are pretty predictable if you track the performance of the different sectors over the year i do this by plotting sector etfs on a graph and noting when one begins to gain that was flat while others that were up a lot begin to flatten or pull back professional investors tend to sell off sectors that have been hot the last quarter or two and replace them with underperforming sectors that represent a better value or opportunity for upside if i run the p e ratios for the sector etfs i can get a quick sense of the sectors that have had a hot run up over 30 p e vs other sectors that are more modestly valued just keep in mind that certain sectors like tech will always be valued more richly given their growth so looking at p e ratios is not apples to apples it s just a way to note if historically that sector is at the high end of its own typical valuation range last year s worst performing sector tends to be one of the best performing sectors the following year this is because investors prefer to buy low and sell high i don t bet against this trend it s been around longer than i have and will continue to be around long after i m dirt last year you couldn t give away a barrel of oil last week oil reached 80 a barrel one of my favorite options strategies is to buy long dated calls at the money for sector etfs that underperformed the previous year i buy calls with expirations in 6 9 months knowing that i will sell at my exit point which for me is a 100 gain sometimes this happens 6 weeks into the year other times it takes 9 months so long as i don t overpay for the options it works i don t like to pay more than the average price return of the sector for example if the sector etf averages a 10 annual return and the etf price is 100 i m not going to buy a call for more than 10 that way if the sector only moves 5 i can still make money provided the price increase moves quickly enough make the vix your friend the vix is an easy way to gauge fear in the marketplace and is a hedge used widely against market pullbacks if the vix goes up the market is worried if it goes down the market is getting bullish if it stays up everyone is on edge it s hard to make good trades in an environment where everyone is on edge and ready to hit the sell button so be careful buying during times when the vix is high on the flip side if the market has pulled back and the vix starts to retreat away from its highs that makes for a good entry point another interesting phenomenon is when the vix is higher than normal there tends to be a selloff the friday before a long weekend this happens because investors don t want to sit through a long weekend that might hold worse news out of fear they will start their tuesday with losses piling up i ve found this is a nice time to get some discounts at the end of the day friday or to run some weekly puts on thursday afternoon before the dips selecting trades investments have an allocation plan the first thing i recommend is determining in advance the amount of money you want to invest longer term vs the amount you want to invest short term vs the amount of money you might actually need to have available for life emergencies anything shorter term is higher risk higher reward i break my portfolio in the following buckets 25 long term market investment using equity etfs that largely track the spx or do a breakdown between bonds and the market i use vanguard funds and a small cap value fund called calf i will not touch this money for 15 years 25 cash i like to be ready to buy the dips and have enough to spare this way if a black swan event happens i not only have money to invest i have money to live on should things go bad for a while this philosophy enabled me to buy options when covid hit in 2020 without worrying if i could continue paying a mortgage for a year without a job it s also very useful if i have to roll covered calls to offset taxes and buy back expensive positions i took this from buffet fwiw 30 options mostly in tax advantaged accounts iras i aim for a 50 annual return overall with this portfolio though it fluctuates a lot year to year 10 long term blue chips stocks like visa apple msft etc i defend these positions when the stocks get overheated by selling calls on them and or buying puts out of the money that expire after a typical sector rotation would occur that can generate some additional income or help lessen the sting if the stock falls 6 long term bets in a roth ira these are equities i think all have a chance at a 10x return but that will take 5 10 years it s a lot of ipos small tech companies and biotechs i have to stomach pullbacks in this portfolio of 40 50 on the belief that a few of the 30 in here will more than compensate for it this is a new strategy for me so i ll let you know in 10 years if it works 3 leveraged hedges these are puts on my own positions stocks or the market at large generally i use vix calls buy puts occasionally buy calls on the spxs and run strangles on investments betting both up and down on the same stock using calls and puts 1 in other things i can t mention due to the bots in here but they rhyme with tiptoe use technologies to find ideas unless you want to spend 8 hours a day reading news or are ok getting all your ideas from meme stocks and friends you need to use tools to help you locate investment trade ideas and be willing to pay for them i value my time and am willing to pay 5 of my portfolio a year if it saves me time and more if it generates higher returns i ve tried about a dozen or so services including stock picking services like fool and investorsplace ultimately i decided the stock picking sites were not working for me because i did not want to wait 5 years to find out if they were the right recommendations and lost a lot of money learning that lesson on their pump and dumps so i switched to analytics tools and my fidelity platform my favorite tools to use are zack s vgm score levelfields and fidelity the zack s vgm measures a stock s value growth rate and momentum it s an easy screen i can run off the basic level subscription to get a list of companies to look at the caveat is that you need to run this screen often because sometimes the companies on the list get stale and have already moved 99 of the way they are going to move so you need to keep an eye on what s new to the list to avoid losing money that part is crucial the list usually represents companies that are well valued and poised to move up over the next 6 9 months warning they can move very slowly so be patient and set your target exit to automatically exit i use fidelity to do my own due diligence on the stocks from there examining their actual growth and earnings rates and ensuring there is no negative news against them which could drive down the price a friend recently turned me on to an ai tool called levelfields they have a lot of news alerts but only for the types of events that matter and are organized thematically it helps me find trades on news events with high returns or get in early on the small to mid cap companies you don t usually hear about which fall between the cracks in the penny stock discussions and cnbc favorites they often send alerts on company events before there s any news out which is really helpful the interface shows you how stocks perform when these events happen so it s easy to figure out my entry and exit points and statistical likelihood of success i use it a lot for pinpointing entry exit points from options trades and have bought stock in a few companies i hadn t ever heard of before that were absolutely crushing it on revenue and earnings not sure why but they never came up in any of my fidelity stock screens i suspect it s because there s a lag in the data fidelity is getting from s p but haven t confirmed this they send a lot of high quality alerts and my only wish is that they d have a better way to rank the stocks in the alerts so i didn t have to look up the stocks on fidelity i use fidelity for basic news reading running stock screens for high growth stocks at decent valuations looking deeply at the history of earnings results actually trading options and for their options scanner which tracks abnormal option activity i sell puts when i see abnormal call volume and run strangles if the stock is at a mid point in its 52 week price range in case it shoots up and then down i always set an automated exit fidelity also has a cool probability calculator for options i use when selling puts it tells you the probability of a stock falling below a certain range i use that number to determine where to sell puts without a lot of risk i do two standard deviations out and still buy a put with a lower strike price as insurance and sell weekly puts on high vol companies like gme and tsla my typical goal is to make 800 a week from these plays which i use to fund new call positions be wary of analyst opinions if you ve invested actively for a while you ve likely noticed a peculiar trend as a stock is cratering analysts are increasing their target purchase price on it this is not for your benefit brokerages often make investment recommendations based on the research provided by their analysts so there is inherent bias in the system i ve also found that few analysts recommend sell ratings they are much more likely to issue calls to buy stocks one study found less than 1 issued sell recommendations what s more the track records of these analysts are usually about the same as coin flipping cnbc has gotten very into pushing analyst views from big name firms e g goldman sachs says these 3 stocks are ready to explode but if you look at the actual analyst behind the headline they are often inexperienced or wrong more than right i am embarrassed to say i lost a lot of money listening to analyst opinions and believing their price targets were rooted in reality it s easy to get caught up in the excitement of an upgrade and if 4 analysts are all touting the stock at the same time it can create a bit of a ponzi effect which is tradable but it boils down to needing to do your own research good things come in pairs just about every stock has a peer or competitor most have several i stopped trying to pick the winner and now place bets on multiple leaders i ve owned visa and mastercard i own olo and tost i have a handful of um herbal medicine providers i like etsy and amzn if you bet on a small group of competitors it s likely one will pull ahead and your odds of success will increase substantially similarly it enables you to monitor the news of competitors which many investors use as a proxy what do i mean if mastercard reports low cross border transactions it s highly probable visa will be experiencing the same thing so you can use the information from mastercard to alter your position on visa exercise financial discipline even when i ve been successful picking investments i ve run into problems with how to handle my successes we ve all experienced the thrill of being up huge and wondering how much higher it will go that s usually the moment i ve learned i should be taking some gains a few rules i try hard to follow but still screw up 1 take profits often when an option or stock hits 100 return i look to take some profit it may not seem possible if you only bought 1 call but it is just roll the call to a higher strike price and ensure the credit to your account equals your original investment plus substantial return you can let the new call ride in case the stock gets going up this ensures you cannot lose money my rationale here is simple at a 100 gain i now have more to lose than i have to gain you will be surprised how much this adds up when you trade often and how often you can be up 150 then down to 50 on the same positions which makes me want to break things if you find yourself up huge on an equity investment switch to options i did this for my baba position and it saved me when it hit 300 i was up 200 i sold all the stock and bought options for the same number of shares i had about 60k in stock and switched to something like 6k in options when baba crashed down to 150 i really didn t care much i was only down 4 5k instead of 30k i had my profit of 40k locked in so being down 4 5k was no big deal 2 fail fast if the option price sinks to 50 in value it s likely time to call it quits unless you have a solid reason not to praying is not a strategy the other half of the value left can easily be eaten up by the time decay in the value of the option as i wait for the turnaround and it gets closer to the expiration date if there s negative news driving this i m out i want to fail quickly that allows me time to take the remaining 50 and generate gains with it on a better investment i think this is the hardest rule for me to stick to as i tend to be an optimist 3 profit both ways if a stock i hold hits an all time high in price or valuation i look for a way to profit from the downside by selling covered calls or buying cheap puts this enables you to stash some cash while riding the volatility wave i hold visa and when it hit 235 headed into earnings i sold 3 calls and bought 10 puts this offset a paper loss for me of 20k yesterday alone by 7 5k in gains which i secured as real profits assuming visa will recover that 7k adds 9 to this year s returns for visa 4 be patient but not greedy i have learned the hard way from selling positions days before they pop that it can take a while before the market catches on to my investment idea especially if using good tools asset managers wealth managers and passive investors are usually looking for new investments every 3 months not daily so stocks can stay stuck in a channel for some time before the world catches on to its awesomeness example i held upstart from april to august this year and sold it because it was running flat a couple weeks later the stock tripled fml were the only words i could think of at the time the second thought i had was that i should ve bought just one call option to replace the stock i sold on the flip side once a stock does move a lot higher don t be greedy what goes up fast can come down just as fast i feel a lot worse watching a stock option go up 200 then come down all the way or more than i do exiting with a 100 gain watching the stock go up more don t chase the perfect trade it s a white whale just make money 5 everyone has a plan until you get punched in the mouth this is as true in boxing thanks mike as it is investing that s why it s essential to have a plan a and a plan b should plan a not work out as you thought waiting through it can work but it isn t a very effective strategy for navigating a changing environment so if my thesis is that the stock will do well with rising covid rates and covid rates stop rising i try to have plan b ready i keep a lot of notes i track every trade i review what went wrong with trades quarterly i learn i avoid the pity party as much as possible and drink vodka for the rest i try not to fall in love with any stock and i know that even if i lose 100k there s more money to be made in the coming years and decades if i stick it out</td>\n",
       "    </tr>\n",
       "    <tr>\n",
       "      <th>3639</th>\n",
       "      <td>dave buster s the power play gather round degenerates for i have come across a value play that i would like to share with you do you enjoy playing arcade games and hanging out with friends miss the good old days of watching live sporting events on the big screen while cheering along with the crowd would you like to be on the all star team of degenerates if you answered yes to the following questions you are in the right community and have arrived at the right place today we will be discussing the case of dave and buster s play first a quick graphic so i don t lose you so you re telling me i can start going to the arcade again thesis mr market does not fully appreciate the intrinsic value held within the core business model of dave busters play the combination deals offered by the company for food and gaming credits give patrons a unique experience and all but ensure that revenue will continue to increase as store count reaches its targeted levels we re going to break down today s presentation into the following topics introduction to dave and buster s play business model current financial condition growth potential catalyst for 2021 dave and buster s play is a leading owner and operator of high volume venues in north america that combine dining and entertainment for both adults and families founded in dallas texas in 1982 the core concept is to offer customers the opportunity to eat drink play and watch all in one location eat and drink are offered through a full menu of entrees and appetizers and a full selection of non alcoholic and alcoholic beverages play and watch offerings provide an extensive assortment of entertainment attractions centered around playing games and watching live sports after i lap you tom i m going to make love to your wife business model patrons enter dave buster s play with a choice of four options to choose from this is the core business model that differentiates dave buster s from its competitors patrons can dine in play amusement games in the midway have a seat at the bar or enjoy the big screen view of live sporting events although the company acknowledges that it is in a competitive market it is also aware that there is no other competitor that can offer all the forms of entertainment that it provides in one single location my belief is that although customer experience from competition might be similar it is not of the same scale that dave buster s is able to deliver this is because of the company s direct import program through this program dave buster s is able to acquire the latest amusement attractions games from foreign suppliers at discounted rates due to the company s size and buying power since the company is a large buyer of amusement games they receive discounts that local competitors would not be eligible for this is essential to the business model and provides for a sizeable advantage over other venues attempting to offer similar services because the company can acquire items for discounted prices it enjoys a whopping 89 3 gross margin in entertainment offerings this sector makes up 64 of the company s overall revenue being that income from entertainment is the primary source of revenue for the company dave buster s is less reliant on its food offerings this means that during times of rising food costs the company is less exposed than it would otherwise be live feed from the headquarters of dave buster s competitors their eat drink play and watch business model is broken down as follows eat patrons can choose from a menu that appeals to a broad spectrum of customers menu items include burgers and handhelds choice grade steaks and pasta there are also options available to diet conscious individuals such as vegetarian low calorie and gluten friendly delights menu items are ever evolving reflecting the changing tastes of customers drink each location offers full bar service including a variety of beers hand crafted cocktails and premium spirits play the company calls this area the midway it features a wide array of amusement and entertainment options of which some are exclusive to dave and buster s on a permanent basis this is the feature that the company feels most differentiates its brand from all others watch all locations have multiple large screen televisions and high quality audio systems providing customers with a venue for watching live sports events and other immersive programming the company believes they have created an attractive and comfortable environment that includes a differentiated and interactive viewing experience for customers current financial condition business for 2020 was significantly hampered by the economic conditions that resulted from the closures of public venues due to the covid 19 pandemic much reference is made in the company s annual report of the impact that the pandemic had on its business based on benjamin graham s principles in his book the intelligent investor heavy emphasis should not be placed on a single year s earnings for a company if there were any year that this principle applied to most it would be fiscal 2020 due to the unusual circumstances resulting from the pandemic the real appeal for why i like the stock can be found when breaking down the numbers preceding fiscal 2020 there is a consistent pattern of growth year after year for as far back as financial statements have been released for the company when comparing the numbers from 2020 to 2013 there is a 222 increase in revenue from just that period of time alone this leads me to believe that dave buster s play has a successful business model that is not only profitable but also expanding brrrrrrrrr play used proceeds from the issuance of senior secured notes along with its cash on hand to repay the principal balance of its term loan facility and borrowings under the revolving credit facility this point is of particular interest because it speaks to the credibility of a company when amid a pandemic it is able to pay down its existing debt and has not forsaken its responsibilities another sign of enthusiasm for the financial outlook of the company is the opening of five new stores in the second half of 2020 we can rely on the numbers for prior years to conclude that an increase in the number of stores equals a proportionate increase in revenue and net income as of may 2 2021 business is getting back to usual for the company 138 out of 141 stores are operating in some capacity the company believes that through its financial restructuring initiatives of the past year it has sufficient liquidity to meet estimated cash flow needs and covenant compliance obligations for the future growth potential internal studies and third party research suggest that the company has significant growth opportunities dave buster s expects to expand to over 230 stores in the future the company is well positioned to expand into new markets and expects that 2021 will be one of its best years the coming end of the covid 19 restrictions will bring about enthusiasm from the general public for the company s venues it will maintain a moderate pace of new store openings for the year and has its vision set for long term future growth a commitment to customer satisfaction weighs heavily on the company as it understands that positive experiences drive better return rates from customers dave buster s play has consistently scored higher in customer satisfaction benchmarks year after year a part of the company s initiative to bring about additional store traffic is its loyalty rewards program catalyst for 2021 dave buster s has invested time and resources in developing and implementing new technology platforms that will allow it to digitally engage customers central to this effort is the company s investment in their mobile application platform the mobile application platform resolves to enhance existing customer satisfaction and attract new customers by providing exclusive offers and discounts dave buster s intends to launch a new loyalty program in 2021 which will be integrated into the mobile application to provide further functionality and accessibility to customers i believe this initiative will be huge for the company it will serve as a direct line for delivering offers coupons to individuals who download the mobile application research has shown that customers are driven by discounts the likelihood of customers returning to stores increases significantly when coupons and offers give the customer an additional incentive to visit it is for these reasons that i believe dave buster s play will thrive and continue to expand its presence in the years ahead tldr play is the one stop shop to eat play watch drink its direct import program allows the company to cycle through the latest games and attractions for a fraction of the price given to its competitors play is looking to expand into additional markets in the years ahead it provides its existing customers loyalty rewards to keep them coming back position disclaimer i am not a financial advisor and this is not financial advice please do your own research</td>\n",
       "    </tr>\n",
       "    <tr>\n",
       "      <th>3806</th>\n",
       "      <td>limits are being lifted now is the time to buy this is what i ve been holding for as soon as i heard about the limits by robinhood et al i knew i wasn t selling until they were lifted let the market do it s thing diamonds</td>\n",
       "    </tr>\n",
       "    <tr>\n",
       "      <th>3833</th>\n",
       "      <td>what are your next below 50 below 30 below 20 stocks which you think will have impact like these in the coming year some of the stocks around 50 and less back in jan 2020 which are at good positions by dec 2020 stock jan 2020 jan 2021 icln 12 28 arkk 50 125 arkg 35 94 crispr 55 155 pton 25 in feb 150 beam 25 in feb 81 enph 30 175 plug 4 33 what do you think are the next 8 stocks which are below 50 now which you think have the potential impact of something like the level of the above mentioned will check in the year end again to reflect on the mentions edit would want to know thoughts on ev charging companies other than the obvio one cannabis sector suggestions</td>\n",
       "    </tr>\n",
       "    <tr>\n",
       "      <th>3921</th>\n",
       "      <td>i m not going to look at r gme for the rest of this month and see how it goes i m at a point where i don t need any more dd confirmation bias etc i fully understand it s just a matter of time at this point for the moass all i need to do is hodl and buy more when i can thank you to all the folks who spend so much of their time and energy putting together quality dd it absolutely matters and i hope you continue to do so for the apes who still need it for the shills on this subreddit i m truly sorry for whatever choices you ve made in life that has led you to this absolutely terrible and soulless job hope you move on to something better soon at a minimum buy some gme for yourselves also none of this is financial advice i am not a financial advisor</td>\n",
       "    </tr>\n",
       "    <tr>\n",
       "      <th>4006</th>\n",
       "      <td>attention looking for all who suffered a loss via any restricted equity in the last 48 hours as a result of any trading platform details below this is going to be the one you want to read in in the last 24 hours there have been 5 class action suits filed against robinhood for their actions yesterday however 4 of those 5 the class lead is a plaintiff that didn t own shares of the affected stocks and were people who were forbidden from buying them they essentially boiled down to a person searching for a stock not being able to find it and claiming damages from that only one of the 5 the one filed in the 10th circuit district of colorado is led by a plaintiff who was actually in these equities sold some shares after the restriction occurred and has actual tangible damages as a result of the trading platforms as a result of this and the fact that this is the only one that is suing more than just robinhood it s also going after all the major trading platforms apex and citadel it s highly likely that this particular one is the one all the other class actions are going to get rolled into even though the new york one was filed first it s also the only one of the 5 led by a firm that specializes in class action i ve been in contact with the lead in this case i m backing it in fact and the firm is looking for all other people who have demonstrable losses and damages as a result of rh tda schwab et al s actions as they compile their opening salvo the firm representing the action in the 10th circuit is the hannon law firm and the case is being speared by founder kevin hannon this is especially important for anyone who was forcibly liquidated from their positions yesterday in the 115 dip anyone who can get a screen grab a trade receipt a chart or anything else showing a decline in gains a forced liquidation of their positions or lost opportunity over the last 2 5 days since this coordinated attack started is encouraged to email him at khannon com mailto khannon com and reference daniels v robinhood et al edit america only also please don t chatbox me i m not the lawyer if you can provide proof of you being inhibited from performing a trade being stopped out of a position having your options fucked over because of their manipulation or selling for less money than you could have sold for before they restricted the stocks in question then follow the instructions above don t make me remember no good deed goes unpunished</td>\n",
       "    </tr>\n",
       "    <tr>\n",
       "      <th>4387</th>\n",
       "      <td>be mentally prepared for this fall back to 180 or lower that is all</td>\n",
       "    </tr>\n",
       "    <tr>\n",
       "      <th>4484</th>\n",
       "      <td>been seeing alot of posts with questions like are we in a bubble could this be like 1999 or worse we haven t had a correction since 08 09 so aren t we due covid 19 is on the rise could this be the catalyst for a pop invest in the future not next month i m seeing a lot of comparisons going on to the bubble in 1999 with the crazy valuations going on furthermore i see the same things like 08 09 was the last time we had a serious correction and increasing covid cases with the weakening dollar could be the catalyst blah blah blah who the hell cares this fear mongering of what might happen tomorrow is some shit i m tryna leave behind in 2020 the bigger picture here is that our very landscape has changed in the last 2 decades and we have to stop being scared of change and fear of a correction can it happen sure in fact it probably should happen but will that change anything in the long term no here s a few differences between our very economy now versus what it was like 10 20 years ago we live in a day and age where more people have access to investing in our history with zero commission trading fees and apps like robinhood acorns or betterment that appeal appeal to the beginner investor the result is that the younger and younger generations are becoming more involved in the investment sector of the economy coupled with the fact that a large part of these young investors millenials and gen z do not own a home and or live with their parents they have more freedom to put their disposable income into the market what s interesting is that millennials are actually one of the most cynical generations towards the stock market mostly because we have lived through two major recessions in recent times and have a large distrust placed in large financial institutions this seems to have fundamentally changed proportion of americans who are benefitting from the stock markets bull run from an individual standpoint however with the rise of 401 k benefits offered by employers and expansion of these plans millennials are shifting more disposable income towards these options as opposed to self directed or individual plans which tells a different story we live in a day and age where new financial instruments and investing options are dominating the market popularity the historic rise of etfs approx 6 000 since 2009 have ushered in a new era of low cost diversification for the average investor employers are increasing 401 k benefits and company match policies allowing for large capital accumulation among younger investors who are reaping the benefits the rise of cryptocurrency has brought in an entirely new method to invest in the future which is particularly attractive to the younger generations who have lived through the technology era and have seen what investments in the future can look like we live in a day and age where we are exchanging information at the blink of an eye with a simple google search trend identification and data analysis in this day and age is easily accessible and a powerful tool to the average investor things such as cloud computing ai genomics blockchain green renewable energy are changing the foundation of our future and these ideas aren t going away anytime soon access to social media blogs investment forums have never been easier and will continue to advance our general education and understanding who knows what the next 10 20 or even 50 years will bring i don t know but i m certain that change is here to stay so stop worrying and embrace the unknown while i do agree with you in the fact that some of these company valuations are insane and this bull market cannot be seen as sustainable in the short run i think it s important to weigh those concerns with the macroeconomic factors that have changed the investment landscape in the last 10 20 years you should have a healthy dose of skepticism otherwise you will be caught off guard but you should also take into account the investing world is evolving and traditional metrics and guidelines in which investors have traditionally based their investment decisions on needs to adapt with it what remains true is that not all great things can last forever and a healthy correction is brewing in the future and trying to time it is and always will be the worst mistake you can make dca into your positions has and always will be no matter what the best way to invest who knows what the investment landscape will look like in 10 50 years creative destruction in our world knows no bounds and we are constantly advancing toward it change is brought on by optimism and in a 2020 lacking that heres to a forward looking future built on the backs of bulls edit 1 been getting a lot of traction and appreciation as well as hate for this post so i want to clarify a few things about what i m tryna say here 1 i am not saying invest heavy into technology clean energy or any of the other crazy shit that s been popping cause it will stay that way i am saying that look at what technology and advancements we have made just in the last 10 20 years as a global population and tried to tie it to financial advancements related to technology what will the next 50 years bring i don t know but i m excited to find out 2 i am aware that we are in uncharted waters here as a country and there are a lot of risks regarding the economy right now you d be an idiot to think that there are not going to be consequences for the amount of money printing we ve been doing the m1 money supply just shot up this last year and if we hit inflation we could be in trouble invest smart look for value average in don t buy into the hype fomo you ll be setting yourself up for some losses 3 my post is geared to a lot of the newer investors that are coming into this space trying to figure out what the fuck to do with their money a lot of them are scared about what could happen with the economic factors right now i am saying that look at us as a whole in a broader sense of the market look what we have done in the past 10 20 years as a nation and as a global population it s fucking exciting and that innovation and drive for the next generation future will never stop think long term always as a new investors you re young and can handle losses i saw a comment on another thread saying take your initial losses as tuition in learning how to invest and that is the mindset of a winner in the long run investment in yourself and making your dollar work for you is building that future and its exciting 4 stop calling me stupid naive it hurts my feelings lol i m a youngin who wants all this 2020 fear and negativity to stop and i want my fellow youngins to join me in building a better future cheers edit 2 thanks for gold again please just take this post at face value and not for what it isn t in no way shape or form should this be taken as financial advice or recommendations as everyone s situation and appetite risk is different you can nit pick my post for what it fails to cover not consider blah blah blah my point is plain and simple there s a lot of worrying going on right now in the market but investing for your future is the best thing you can do especially if you are young and haven t started</td>\n",
       "    </tr>\n",
       "    <tr>\n",
       "      <th>4557</th>\n",
       "      <td>unpinned daily discussion thread for february 02 2021 your daily trading discussion thread please keep the shitposting to a minimum read the rules and make sure other people follow them navigate wsb we recommend best daily dd dd all best daily best weekly discussion all best daily best weekly yolo all best daily best weekly gain all best daily best weekly loss all best daily best weekly check out wsb gold stats generated live from wsb activity</td>\n",
       "    </tr>\n",
       "    <tr>\n",
       "      <th>4832</th>\n",
       "      <td>daily popular tickers thread for august 11 2021 mvst amc clov your daily hype thread please keep the shitposting to a maximum navigate wsb we recommend best daily dd dd all best daily best weekly discussion all best daily best weekly yolo all best daily best weekly gain all best daily best weekly loss all best daily best weekly</td>\n",
       "    </tr>\n",
       "    <tr>\n",
       "      <th>4934</th>\n",
       "      <td>stuff for new traders no gme discussion i gotta say i see some good shit out there i see new members trying to diversify their positions and learn about other stocks and other ways to make money this is the path my fellow retards i m a nobody here but i have good returns and some good insight when i came to wsb multiple people helped me figure out what the fuck i was doing because i knew jack shit i care more about my money than yours but no retard should be left in the dark alone so let me pass on a couple things i can t prove shit to you so read this or don t i mainly trade options calls and puts so that is what i will discuss generally the most insane gains will come from being in a specific stock and not an etf or index while riskier this is where you can hit the homeruns so decide if you want to go for conservative gains or if you want those huge swings while what i said is true i am usually against putting everything into a single bet anything can go wrong at any time and no play is 100 guaranteed the goal of this game is to stay alive you will lose money on a play at some point because it is inevitable so never let yourself get wiped out because you can always build yourself back up this goes along with one of my other recommendations always have some cash ready to go you never know when there might be an incredible opportunity and you do not want to get caught with your ass hanging out paper hands and diamond hands are just words you ultimately decide when you want to sell or hold and how much profit you want to take one of my favorite strategies is to say buy an even number of options on a play sell half at a modest level of gains like enough to break even or gain a little bit and then let the rest ride longer look guys on many plays you either paper hands at some point or diamond hands long enough to see your positions go red some people will bail at 40 gains and others might not take anything less than 500 just know that chasing endless profits ups the risk factor so you decide when it s time having a target share price for the stock is also a good strategy here s a couple psychological principles in investing studies have found that people tend to hold onto losing positions too long and sell winning positions too early they let their losers lose and cut off their winners short apparently most people hate losing more than they like winning think about this before you sell stocks can often get hot and run multiple days in a row sometimes a stock will have one red day and then keep up going this is why it s important to know why you got into a position trust your dd and stick to the plan i had ideas for plays where they went red right away and i bailed only to see them moon diamond hands means that you don t dump your position instantly if it goes down the hardest thing is knowing if you should cut losses or diamond hands i m a retard and we re in a bull market so often times the stock will eventually go up your call though the market makers and big boys want you to lose they want your money i m not going to dive into the realm of possible illegal activities that they may use but just point out some simpler tactics they will use big money often sees retail as weak hands aka buy high and sell low they know fomo is strong when a stock is going up big and that fear takes over when a stock divebombs we re in a bull market which means stonks only go up however we still have negative days stocks sell off sometimes and things can look bad generally the dip is not time to sell but instead time to buy case and point we had a pretty big drilling 2 weeks ago do you know what the big money did they bought the fuckin dip and snatched up everything for cheap we ve been mooning ever since sometimes shit makes no sense a company can have blowout earnings exceed expectations and the stock will tank i was holding one stock a little while ago that reported a fantastic earnings and proceeded to drill to the core of the earth that day it was total bullshit and i knew it i trusted my dd so instead of panic selling i added to my position sure enough the stock began swinging upwards and hit an all time high just 2 weeks later this is why simply gambling can bite you in the ass it s easy to get scared and sell when you doubt yourself because you picked a random thing to buy option expiration dates matter buying a 1 week option is the cheapest and gives the biggest percentage of profits if it goes your way however it can often be a noob trap one bad day or one piece of bad news can kill your entire position stocks trade sideways sometimes sometimes they don t do what you think they should do and sometimes the whole fucking market shits itself for seemingly no reason so give yourself time to work with time costs money and hurts profit margins but it is better to consistently make 50 profit than to hit one play for 300 followed by 10 losers look playing weekly stupidly otm calls is fun as hell and is a huge rush when it hits i do at least one or more every week the key is not loading your entire portfolio into this shit remember no tendies no more fun along the same lines strike price matters an otm out of the money option means that the strike price is a bit of a ways from where the stock s price currently is otm options give huge profit margins the further you go out i personally enjoy using them some people don t but my advice is to balance risk with profit potential if your call relies on a stock gaining 50 in 2 weeks then well it s probably not gonna happen itm in the money options means that your stock is already within the strike price itm is a more conservative play and sacrifices massive gains for lower risk use this to get an estimate of potential profits and how much of a move you need leaps are fuckin dope a leap is a call but for a much longer period of time i m using the term loosely because we re degenerates and some people might consider anything more than 1 month a leap given that the market trends up over time you might even make some money on a mediocre stock this way a lot of people buy itm leaps but again i m a degenerate and go otm a lot implied volatility iv extremely fucking important iv is basically an estimation of how much a stock is predicted to move in either direction high iv expensive options it s fucking weird to think but you can make similar profits from a 2 move on a low iv stock as you can from a 5 move on a more volatile stock low iv is fantastic when buying an option on a stock that you think is about to moon high iv is riskier so you damn well better think the stock can make some big moves buying an option on a stock right before earnings report er will be more expensive due to iv trying to play er is usually for suckers unless you have some really good dd about why a company might deliver a huge surprise one of the textbook big boy moves is to pump a stock going into er the company will deliver great news and then dump hard you may see people bitching about this very soon basically big money knew ahead of time it would be good so the stock got pumped and then they took profits buy the rumor and sell the news events press releases and important dates that everyone knows about are another trap you will get shit on ask someone about tesla battery day positive rumors will send a stock soaring though finally get busy learning read about options on investopedia and any other things you do not understand the big boys rely on us to not know what the fuck we re doing to take our money learn about the general market stocks are grouped into sectors or categories start figuring out what they are and pay attention to where the money is going i didn t even mention half of the shit that goes on in options so that s on you the first thing you need to do is to learn what the greeks are that will teach you how options function if anyone wants to talk or discuss send me a message i m a degenerate with no life oh and if you follow someone s dd and lose money that s on you i ve come up with some genius shit but i ve also lost on some retarded calls nobody can pick you a guaranteed winner and hindsight is 20 20 may the gains be with you</td>\n",
       "    </tr>\n",
       "    <tr>\n",
       "      <th>5067</th>\n",
       "      <td>bb people underestimate blackberry s qnx operating system as a secure rtos real time operating system based off of microkernel architecture for those who don t know how a rtos microkernel operates let s explain with minor detail qnx is one of the most adopted embedded os s in the world it s installed in defense systems power plants municipal grids robotics rockets rail and 175 million vehicles and rising the reason for it s adoption is because of the way a qnx neutrino rtos operates compared to what we consider typical everyday operating systems most operating systems including ios windows linux android and macos to name the most apparent run on monolithic designs or hybrid kernels a true microkernel architecture like qnx neutrino rtos has full memory protection which is built in meaning that any component can fail and be restarted without corrupting the microkernel or other components in the system if failure does occur qnx has the ability to rectify the problem without affecting any other part of the system through process monitoring and recovery components this feature and ability equals extreme reliability and security and being a microkernel the os is also modular so what is the big deal your probably asking apple abc and microsoft might enter the space not exactly in fact there has been work in this space from all three companies apple opened a facility across from qnx in kanata and hired the ex creator of the os dan dodge in 2016 to work with mansfield on the autonomous car project called project titan the need for a secure and stable software is where dodge and his decades of experience from qnx come into play the need for a software system as reliable and secure as qnx should be a big flag to the shear potential of qnx it is clearly a threat and tough competition for even the biggest software companies not only this but project titan continues to be illusive revealing possible setbacks and interference in trying to compete but also apple lost several top managers from it s apple car project causing a potential setback to the launch revealing some attrition in the project qnx version 7 1 is years ahead and analysts predict the next competitor is still 5 years away from anything even remotely close qnx hypervisor 2 0 is 61508 sil 3 certified and has been recognized as iso 26262 asil d compliant making it the world s first asil d safety certified commercial hypervisor as other s race to catch up blackberry has been filing patents on it s system the qnx hypervisor utilizes patented and patent pending technologies that simplifies how elements are shared on the system multiple os s can use 1 display controller to render content onto multiple displays aka digital instrument cluster and infotainment</td>\n",
       "    </tr>\n",
       "    <tr>\n",
       "      <th>5071</th>\n",
       "      <td>daily discussion thread part 3 for january 28 2021 your daily trading discussion thread please keep the shitposting to a minimum navigate wsb we recommend best daily dd dd all best daily best weekly discussion all best daily best weekly yolo all best daily best weekly gain all best daily best weekly loss all best daily best weekly weekly earnings discussion thread read the rules and make sure other people follow them try no meme mode also accessible through the top bar check out wsb gold stats generated live from wsb activity</td>\n",
       "    </tr>\n",
       "    <tr>\n",
       "      <th>5309</th>\n",
       "      <td>nok i ve been making several posts about nokia i ve had several posts about why nokia should have already mooned a long time ago and the fact that it hasn t yet is all the more reason why it s going to explode up in these days coming up to earnings day i m buying in so much more on this dip and this is your friendly message informing you that higher strike calls are coming in today and i m gobbling those up to buying in another couple hundred shares this morning plus as many 15 strikes as my wallet can hold nokia is gonna go ballistic boys lets get going while the engines are hot edit 1 sorry you boys are right i forgot my positions 2140 shares average buy in at 5 27 185 calls 2 19 10 and a scattershot of about 50 other lower call options edit 2 ya ll demanding more and are what we re getting this week</td>\n",
       "    </tr>\n",
       "    <tr>\n",
       "      <th>5319</th>\n",
       "      <td>i am selling all of my positions and withdrawing all of my cash from my brokerage account i am done for a long time edit update data 9 16 3 59pm i put 15 of my portfolio what s left on 4 14 22 6 sdc calls join me on my road to recovery i ve realized that i was on the right path but i was basically shooting blind i m now razor focused and will never buy options again expiring under 30 days out i plan to set aside 1 000 bucks and try to double it 10 times but if i lose i lose and then i m done no big risks only calculated ones then i ll be cooking i appreciate all the tremendous support guys really i do it ll be impossible to reply to each message at this point but believe me i m here and appreciate all of you i even had one dude offer to paypal me cash thanks man you re awesome but this was all on me op after going from 15k to 43k and back down to now 9k mostly due to 0 day options i ve realized that i have a severe addiction to gambling that i ve never had before in my life i have decided it s no longer worth it i m getting out after 18 months and a 6k total loss it s ok i m going to be spending more time and reconnecting with family working on my mental health which has been seriously effected by stock trading i have deleted stocktwits twitter that s all i used it for and will only check spy once daily i will be back if the big correction occurs but i will absolutely then tread lightly and only buy shares if you are new do not trade options just don t good luck everyone</td>\n",
       "    </tr>\n",
       "    <tr>\n",
       "      <th>5364</th>\n",
       "      <td>michael burry of the big short reveals a 530 million bet against tesla michael burry bought more than 800 000 tesla put options contracts in the first quarter worth 534 4 million according to a filing with the u s securities and exchange commission burry was one of the first investors to call and profit from the subprime mortgage crisis burry previously mentioned in a tweet that tesla s reliance on regulatory credits to generate profits is also an impediment to the company s long term prospects famed investor michael burry on monday revealed a short position against tesla worth more than half a billion in a regulatory filing burry one of the first investors to call and profit from the subprime mortgage crisis bought more than 800 000 tesla put options contracts in the first quarter worth 534 4 million according to the filing with the u s securities and exchange commission investors profit from puts when the underlying securities fall in prices shares of tesla fell more than 4 on monday bringing its month to date losses to more than 20</td>\n",
       "    </tr>\n",
       "    <tr>\n",
       "      <th>5379</th>\n",
       "      <td>you need to upvote every single post positively talking about gme do not open a post supporting gme read past it and close it you re literally killing us if you do as such we still need visibility good sentiment spreaded around and needed to play an unfair game against bots people paid to spread fud and downvote as many as possible posts this is your 9 5 job now forget about your low paid 15 mil usd current position you are a gme holder now future billionaire of the world i m your manager now come back to me in 12h tell me you ve updated every single fucking post positively talking about gme and i ll give you a raise you re a future billionaire billionaire not millionaire yes you edit 1 salty user in the comments below doesn t agree with me being his her manager now lol quote i m your manager now he she can t even have some fun taking the piss out of a we re the hedge funds now meme edit 2 someone called me a karma whore i don t give a fuck about karma go downvote this post as long as you upvote something else in this sub this is the way edit 3 upvote quality posts as pointed out by a fellow ape down below</td>\n",
       "    </tr>\n",
       "    <tr>\n",
       "      <th>5432</th>\n",
       "      <td>last year the top 25 managers earned 32 billion even as the economy crashed and markets wobbled these managers made bank today institutional investor unveiled the 20th edition of its rich list one of the most watched rankings of hedge fund managers performance every year financial tycoons pore over the magazine s estimates of whose fortunes are up the most last year the top 25 managers earned 32 billion even as the economy crashed and markets wobbled over all hedge funds returned 11 6 percent last year according to hedge fund research their best performance in a decade but not enough to keep pace with the s p 500 which was up 16 percent it may not be seemly but it remains fact the magazine s editors wrote here are the top earners according to the list izzy englander of millennium management who earned an estimated 3 8 billion and whose flagship fund produced a 26 percent return jim simons of renaissance technologies who earned 2 6 billion and whose flagship generated a 76 percent return but whose fund open to outside investors lost big chase coleman of tiger global management who earned 2 5 billion and whose top fund returned 48 percent ken griffin of citadel who earned 1 8 billion and whose main fund returned 24 percent the firm has made headlines for other reasons too steve cohen of point72 asset management and david tepper of appaloosa management both earned an estimated 1 7 billion the rest of the best philippe laffont of coatue management 1 6 billion andreas halvorsen of viking global investors and scott shleifer of tiger global both 1 5 billion and bill ackman of pershing square capital management 1 4 billion</td>\n",
       "    </tr>\n",
       "    <tr>\n",
       "      <th>6178</th>\n",
       "      <td>if you want to learn how to trade please don t listen to people who made all of their gains this year they have no clue what theyre talking about i m gonna be honest here i ve seen so many gurus show up this year on instagram tiktok youtube and god knows what other platforms all claiming they made really great returns but just started trading this year in march literally at the bottom of the market please don t listen to these guys people who ve made all their money on one or two stocks from just throwing money at the literal bottom of the market don t know what they re talking about i know this seems obvious but man i ve seen so many and just today i had my brother in law tell him his barber was giving him day trading advice to those asking read a book to learn idk where you should start wanna learn ta on youtube provides some crazy predictive stuff to the t cue banks confluence 2 0 teaches you about setting support and resistance i think this is a paid video that got uploaded macro economics some dude named steve on youtube where his wife makes him props don t know the channel name he s really good at explaining trickle down up economics don t listen to graham stephen or meet kevin i don t hate them just ugh clickbait other than that i have no clue where you should start everyone kinda sucks</td>\n",
       "    </tr>\n",
       "    <tr>\n",
       "      <th>6287</th>\n",
       "      <td>hurricane ida is worst in 170 years how to bankroll the destruction like an ape king okay fellow apes hurricane ida is mere hours away from hitting the coast of louisiana it surprisingly strengthened as it neared landfall and is now a 155 mph cat 4 hurricane 1 mph short of a cat 5 recognized by the governor as the strongest storm since 1850 even worse than katrina it went from a tropical depression on aug 24th to a whole hog cat 5 hurricane this morning most people didn t have any time to wrap their brains around how quick this happened if you re in new orleans please gtfo asap possible trades 1 a bunch of offshore drilling takes place in the gulf and with a storm this destructive production will take a hit companies already cut 60 90 of production and shut down offshore facilities in the gulf oil futures are already up you can leverage this by buying calls on spdr s p oil gas exploration production etf xop or playing the levered oil etf gush 2 people run out to buy a whole lotta stuff from generators to plywood sandbags batteries flashlights etc you can leverage this by buying calls on home depot hd lowe s low and generac holdings gnrc which sells generators all three popped after hurricane irma and harvey in the past 3 people tend to need to rent a whole lot of stuff during and after big storms like this from cars to equipment and machinery you can leverage this by buying calls on the avis budget group car and united rentals uri which rents out all sorts of equipment and gets a boost from every hurricane season as well these popped after major hurricanes hit last 3 4 hurricane seasons best potential moves 1 oil seems like it s going to be the biggest play as 40 of all oil production and refining takes place in and around the gulf 92 88 of oil and gas production in the gulf of mexico is already shut down as of yesterday and storm damage will inevitably limit future production which means a spike in oil prices i ll be looking for a good entry to xop and potentially open call spreads 2 3 weeks out and cash out at a spike in oil prices any day within that timeframe if you can trade futures options might be a good idea to buy calls on crude oil and oil products 2 uri and gnrc could see a sizable swing in the weeks following the storm they nearly always do after big storms so keep your eyes peeled on those these could be good for a monthly call or call spread position note spambot kept deleting my post for spam domains even though they were all legit local news sources so i removed all links</td>\n",
       "    </tr>\n",
       "  </tbody>\n",
       "</table><br><label><b>dtype:</b> object</label>"
      ],
      "text/plain": [
       "55      you fuckers really think i m going to sell at ...\n",
       "216     reminder shorts have not covered and are lying...\n",
       "230     you don t always have to be invested sometimes...\n",
       "451      grandpa died and i inherited enough for xxxx ...\n",
       "459     to all of you who are red this year while the ...\n",
       "622     it is awesome this sub is growing so fast 7mm ...\n",
       "635     i built a program that tracks mentions and sen...\n",
       "704     china asks local goverments to get ready for p...\n",
       "844     apple reports another blowout quarter with sal...\n",
       "855     non fire people tend to get upset and defensiv...\n",
       "973     elon musk implies tesla has sold all of their ...\n",
       "1057    attention everyone holding gme calls if you ha...\n",
       "1227    the sec is going too easy on insider trading i...\n",
       "1328    what is citadel and where do i go to get away ...\n",
       "1445    sec restricted gme short sell time to fly ibkr...\n",
       "1524    type a dad jumps to my defense for context my ...\n",
       "1747    why i m in on nokia nok dd i think nok has gre...\n",
       "1769    how do i cash in a paper stock certificate i m...\n",
       "1777    gme was an important moment i posted this as a...\n",
       "1824     crsr corsair dd the q4 results are basically ...\n",
       "1831    live charting for 3 15 2021 predicting the day...\n",
       "2090    market sentiment and technicals are indicating...\n",
       "2099    gme price action dd making higher lows and tur...\n",
       "2232    uber loses u k top court ruling on drivers emp...\n",
       "2300    just hit 1 million nw by 28 the boring way dec...\n",
       "2896    biden administration will continue chinese tec...\n",
       "3042    due diligence of bitcoin mining stock valuatio...\n",
       "3050    why i think the market will see a 30 50 correc...\n",
       "3126    what are your moves tomorrow december 20 2021 ...\n",
       "3149    warning if you clutter the sub you will be per...\n",
       "3157    gamestop institutional broker trades off the e...\n",
       "3165    elon musk tesla will no longer accept bitcoin ...\n",
       "3257    are any of you planning on working no stress f...\n",
       "3375    to all shorts save yourselves don t go down wi...\n",
       "3387    do not pressure the sec to take action a polit...\n",
       "3521    this is not a full dd this is a post saying do...\n",
       "3542    what are your moves tomorrow january 08 2021 y...\n",
       "3600    i made 500 000 trading stocks and options in 1...\n",
       "3639    dave buster s the power play gather round dege...\n",
       "3806    limits are being lifted now is the time to buy...\n",
       "3833    what are your next below 50 below 30 below 20 ...\n",
       "3921    i m not going to look at r gme for the rest of...\n",
       "4006    attention looking for all who suffered a loss ...\n",
       "4387    be mentally prepared for this fall back to 180...\n",
       "4484    been seeing alot of posts with questions like ...\n",
       "4557    unpinned daily discussion thread for february ...\n",
       "4832    daily popular tickers thread for august 11 202...\n",
       "4934    stuff for new traders no gme discussion i gott...\n",
       "5067     bb people underestimate blackberry s qnx oper...\n",
       "5071    daily discussion thread part 3 for january 28 ...\n",
       "5309     nok i ve been making several posts about noki...\n",
       "5319    i am selling all of my positions and withdrawi...\n",
       "5364    michael burry of the big short reveals a 530 m...\n",
       "5379    you need to upvote every single post positivel...\n",
       "5432    last year the top 25 managers earned 32 billio...\n",
       "6178    if you want to learn how to trade please don t...\n",
       "6287    hurricane ida is worst in 170 years how to ban...\n",
       "Name: fulltext, dtype: object"
      ]
     },
     "execution_count": 126,
     "metadata": {},
     "output_type": "execute_result"
    }
   ],
   "source": [
    "ind=error[abs(error)>1].index\n",
    "X_test['fulltext'][ind]"
   ]
  },
  {
   "cell_type": "code",
   "execution_count": 128,
   "id": "9q89333IyQlL",
   "metadata": {
    "colab": {
     "base_uri": "https://localhost:8080/"
    },
    "id": "9q89333IyQlL",
    "outputId": "a30cfda1-9fc4-40a9-f365-786008d25acb"
   },
   "outputs": [
    {
     "data": {
      "text/plain": [
       "array([[ 4.17553194],\n",
       "       [ 2.08627046],\n",
       "       [ 1.40760436],\n",
       "       [ 1.61856896],\n",
       "       [ 1.55494943],\n",
       "       [ 1.15948271],\n",
       "       [ 2.18632017],\n",
       "       [ 1.01611158],\n",
       "       [ 0.99426213],\n",
       "       [ 1.1952927 ],\n",
       "       [ 1.65785929],\n",
       "       [ 1.03059488],\n",
       "       [ 1.79446247],\n",
       "       [ 2.17625126],\n",
       "       [ 1.24191295],\n",
       "       [ 1.79543229],\n",
       "       [ 1.49950905],\n",
       "       [ 2.5598665 ],\n",
       "       [ 1.4532706 ],\n",
       "       [ 1.87075617],\n",
       "       [ 2.1408213 ],\n",
       "       [ 1.50049205],\n",
       "       [ 1.10894601],\n",
       "       [ 1.14353299],\n",
       "       [ 1.21731372],\n",
       "       [ 0.98593684],\n",
       "       [ 1.23772718],\n",
       "       [ 3.5752936 ],\n",
       "       [ 3.63403074],\n",
       "       [ 1.49459994],\n",
       "       [ 1.82185774],\n",
       "       [ 1.65066978],\n",
       "       [ 1.25744117],\n",
       "       [ 1.29689181],\n",
       "       [ 1.75920921],\n",
       "       [ 1.57238142],\n",
       "       [13.46801539],\n",
       "       [ 1.62139507],\n",
       "       [ 1.14060555],\n",
       "       [ 8.66511826],\n",
       "       [ 1.23896419],\n",
       "       [ 2.52542688],\n",
       "       [ 0.99252623],\n",
       "       [ 3.89771654],\n",
       "       [ 1.44114127],\n",
       "       [ 7.55168817],\n",
       "       [ 1.08166535],\n",
       "       [ 4.13859561],\n",
       "       [ 1.56683156],\n",
       "       [42.24714983],\n",
       "       [ 1.07553672],\n",
       "       [ 2.24167936],\n",
       "       [ 1.39364472],\n",
       "       [ 2.40256504],\n",
       "       [ 2.24473268],\n",
       "       [ 3.58043478],\n",
       "       [ 3.28105506]])"
      ]
     },
     "execution_count": 128,
     "metadata": {},
     "output_type": "execute_result"
    }
   ],
   "source": [
    "y_test[ind]"
   ]
  },
  {
   "cell_type": "code",
   "execution_count": 129,
   "id": "vKT4Al8SyhZY",
   "metadata": {
    "colab": {
     "base_uri": "https://localhost:8080/"
    },
    "id": "vKT4Al8SyhZY",
    "outputId": "0499685f-e09c-4d39-a918-ee1380de9eea"
   },
   "outputs": [
    {
     "data": {
      "text/plain": [
       "57"
      ]
     },
     "execution_count": 129,
     "metadata": {},
     "output_type": "execute_result"
    }
   ],
   "source": [
    "len(ind)"
   ]
  },
  {
   "cell_type": "code",
   "execution_count": null,
   "id": "9sTSkZEIyiHJ",
   "metadata": {
    "id": "9sTSkZEIyiHJ"
   },
   "outputs": [],
   "source": []
  }
 ],
 "metadata": {
  "accelerator": "GPU",
  "colab": {
   "gpuType": "L4",
   "provenance": []
  },
  "kernelspec": {
   "display_name": "Python 3 (ipykernel)",
   "language": "python",
   "name": "python3"
  },
  "language_info": {
   "codemirror_mode": {
    "name": "ipython",
    "version": 3
   },
   "file_extension": ".py",
   "mimetype": "text/x-python",
   "name": "python",
   "nbconvert_exporter": "python",
   "pygments_lexer": "ipython3",
   "version": "3.11.7"
  }
 },
 "nbformat": 4,
 "nbformat_minor": 5
}
