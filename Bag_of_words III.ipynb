{
  "cells": [
    {
      "cell_type": "code",
      "execution_count": 1,
      "id": "71cf287a-2d8c-4984-8954-77755f2d0bb7",
      "metadata": {
        "id": "71cf287a-2d8c-4984-8954-77755f2d0bb7"
      },
      "outputs": [],
      "source": [
        "import pandas as pd\n",
        "import os\n",
        "import numpy as np\n",
        "import datetime as dt\n",
        "import string\n",
        "import csv"
      ]
    },
    {
      "cell_type": "code",
      "execution_count": 2,
      "id": "2897681e-10b8-4b44-a00c-ad26f0242cc5",
      "metadata": {
        "id": "2897681e-10b8-4b44-a00c-ad26f0242cc5"
      },
      "outputs": [],
      "source": [
        "from tensorflow.keras import layers\n",
        "from tensorflow import keras"
      ]
    },
    {
      "cell_type": "code",
      "execution_count": null,
      "id": "0db896e2-6702-4623-97a5-83e9f8a4423c",
      "metadata": {
        "id": "0db896e2-6702-4623-97a5-83e9f8a4423c"
      },
      "outputs": [],
      "source": [
        "# loading data"
      ]
    },
    {
      "cell_type": "code",
      "execution_count": 15,
      "id": "ec422ccf-6700-4cf3-bc88-1a58f650911b",
      "metadata": {
        "id": "ec422ccf-6700-4cf3-bc88-1a58f650911b"
      },
      "outputs": [],
      "source": [
        "\n",
        "X_train= pd.read_csv('X_train.csv')\n",
        "y_train= pd.read_csv('y_train.csv')\n",
        "\n",
        "X_val= pd.read_csv('X_val.csv')\n",
        "y_val= pd.read_csv('y_val.csv')\n",
        "\n",
        "X_test= pd.read_csv('X_test.csv')\n",
        "y_test= pd.read_csv('y_test.csv')"
      ]
    },
    {
      "cell_type": "code",
      "execution_count": 16,
      "id": "a79353f1-289a-4cf8-8ca4-2a080f3c78da",
      "metadata": {
        "id": "a79353f1-289a-4cf8-8ca4-2a080f3c78da"
      },
      "outputs": [],
      "source": [
        "X_train=X_train['selftext'].apply(lambda x: str(x)).values\n",
        "X_val=X_val['selftext'].apply(lambda x: str(x)).values\n",
        "X_test=X_test['selftext'].apply(lambda x: str(x)).values\n",
        "\n",
        "y_train=y_train['score'].values\n",
        "y_val=y_val['score'].values\n",
        "y_test=y_test['score'].values"
      ]
    },
    {
      "cell_type": "code",
      "execution_count": 17,
      "id": "c5711620-3719-4391-bc50-2de37078911b",
      "metadata": {
        "id": "c5711620-3719-4391-bc50-2de37078911b"
      },
      "outputs": [],
      "source": [
        "#preprocessing:\n",
        "# lowercases, tokenizes\n",
        "text_vectorization= layers.TextVectorization(\n",
        "    max_tokens=20000,\n",
        "    standardize='lower_and_strip_punctuation',\n",
        "    split='whitespace',\n",
        "    ngrams=None,\n",
        "    output_mode='multi_hot',\n",
        "    output_sequence_length=None,\n",
        "    pad_to_max_tokens=False,\n",
        "    vocabulary=None,\n",
        "    idf_weights=None,\n",
        "    sparse=False,\n",
        "    ragged=False,\n",
        "    encoding='utf-8',\n",
        "    name='vectorization'\n",
        ")\n",
        "\n",
        "\n",
        "text_vectorization.adapt(X_train)"
      ]
    },
    {
      "cell_type": "code",
      "execution_count": 18,
      "id": "c44390ea-7d6b-4174-9b0e-11801f7709b1",
      "metadata": {
        "colab": {
          "base_uri": "https://localhost:8080/"
        },
        "id": "c44390ea-7d6b-4174-9b0e-11801f7709b1",
        "outputId": "73a40191-efdc-4f5d-93b1-55474e57f0f7"
      },
      "outputs": [
        {
          "output_type": "execute_result",
          "data": {
            "text/plain": [
              "numpy.ndarray"
            ]
          },
          "metadata": {},
          "execution_count": 18
        }
      ],
      "source": [
        "type(X_train)"
      ]
    },
    {
      "cell_type": "code",
      "execution_count": 34,
      "id": "b7fd3997-1749-4232-a816-bfb1f730c411",
      "metadata": {
        "id": "b7fd3997-1749-4232-a816-bfb1f730c411"
      },
      "outputs": [],
      "source": [
        "def get_model(max_tokens=20000, hidden_dim=256):\n",
        "    text_input=keras.Input(shape=(),dtype='string')\n",
        "    vectorized_text=text_vectorization(text_input)\n",
        "    x=layers.Dense(hidden_dim, activation='tanh')(vectorized_text)\n",
        "    x=layers.Dropout(0.5)(x)\n",
        "    outputs=layers.Dense(1)(x)\n",
        "    model=keras.Model(text_input,outputs)\n",
        "    model.compile(optimizer='Adam', loss='mse', metrics='mse')\n",
        "    return model\n",
        "\n"
      ]
    },
    {
      "cell_type": "code",
      "execution_count": 35,
      "id": "73ba1442-9659-4718-b136-cdb0a5c408c9",
      "metadata": {
        "colab": {
          "base_uri": "https://localhost:8080/"
        },
        "id": "73ba1442-9659-4718-b136-cdb0a5c408c9",
        "outputId": "78a8f9d8-8cc9-4e1e-a98a-7b59026de081"
      },
      "outputs": [
        {
          "output_type": "stream",
          "name": "stdout",
          "text": [
            "Model: \"model_4\"\n",
            "_________________________________________________________________\n",
            " Layer (type)                Output Shape              Param #   \n",
            "=================================================================\n",
            " input_5 (InputLayer)        [(None,)]                 0         \n",
            "                                                                 \n",
            " vectorization (TextVectori  (None, 20000)             0         \n",
            " zation)                                                         \n",
            "                                                                 \n",
            " dense_8 (Dense)             (None, 256)               5120256   \n",
            "                                                                 \n",
            " dropout_4 (Dropout)         (None, 256)               0         \n",
            "                                                                 \n",
            " dense_9 (Dense)             (None, 1)                 257       \n",
            "                                                                 \n",
            "=================================================================\n",
            "Total params: 5120513 (19.53 MB)\n",
            "Trainable params: 5120513 (19.53 MB)\n",
            "Non-trainable params: 0 (0.00 Byte)\n",
            "_________________________________________________________________\n"
          ]
        }
      ],
      "source": [
        "model=get_model()\n",
        "model.summary()"
      ]
    },
    {
      "cell_type": "code",
      "source": [
        "callbacks=keras.callbacks.ModelCheckpoint('keras_bag_words.keras', save_best_only=True)\n",
        "model.fit(\n",
        "    X_train, y_train,\n",
        "    epochs=10,#increase number of epochs\n",
        "    validation_data=(X_val, y_val),\n",
        "    callbacks=callbacks\n",
        "    )\n"
      ],
      "metadata": {
        "colab": {
          "base_uri": "https://localhost:8080/"
        },
        "id": "apUj0ZSX8VAy",
        "outputId": "85fae2ab-5e74-43ce-bb71-c80cb2797f85"
      },
      "id": "apUj0ZSX8VAy",
      "execution_count": 36,
      "outputs": [
        {
          "output_type": "stream",
          "name": "stdout",
          "text": [
            "Epoch 1/10\n",
            "800/800 [==============================] - 59s 73ms/step - loss: 1598500.0000 - mse: 1598500.0000 - val_loss: 909474.3125 - val_mse: 909474.3125\n",
            "Epoch 2/10\n",
            "800/800 [==============================] - 62s 77ms/step - loss: 1594559.2500 - mse: 1594559.2500 - val_loss: 906015.3125 - val_mse: 906015.3125\n",
            "Epoch 3/10\n",
            "800/800 [==============================] - 62s 77ms/step - loss: 1590877.6250 - mse: 1590877.6250 - val_loss: 903099.3750 - val_mse: 903099.3750\n",
            "Epoch 4/10\n",
            "800/800 [==============================] - 60s 75ms/step - loss: 1587276.1250 - mse: 1587276.1250 - val_loss: 900667.1250 - val_mse: 900667.1250\n",
            "Epoch 5/10\n",
            "800/800 [==============================] - 66s 82ms/step - loss: 1583640.8750 - mse: 1583640.8750 - val_loss: 898842.6875 - val_mse: 898842.6875\n",
            "Epoch 6/10\n",
            "800/800 [==============================] - 59s 73ms/step - loss: 1580014.1250 - mse: 1580014.1250 - val_loss: 897139.5000 - val_mse: 897139.5000\n",
            "Epoch 7/10\n",
            "800/800 [==============================] - 62s 77ms/step - loss: 1576305.2500 - mse: 1576305.2500 - val_loss: 896037.4375 - val_mse: 896037.4375\n",
            "Epoch 8/10\n",
            "800/800 [==============================] - 61s 76ms/step - loss: 1572424.2500 - mse: 1572424.2500 - val_loss: 893908.3750 - val_mse: 893908.3750\n",
            "Epoch 9/10\n",
            "800/800 [==============================] - 63s 79ms/step - loss: 1568811.5000 - mse: 1568811.5000 - val_loss: 892446.1875 - val_mse: 892446.1875\n",
            "Epoch 10/10\n",
            "800/800 [==============================] - 64s 80ms/step - loss: 1564858.6250 - mse: 1564858.6250 - val_loss: 891054.1250 - val_mse: 891054.1250\n"
          ]
        },
        {
          "output_type": "execute_result",
          "data": {
            "text/plain": [
              "<keras.src.callbacks.History at 0x7d11b7f55780>"
            ]
          },
          "metadata": {},
          "execution_count": 36
        }
      ]
    },
    {
      "cell_type": "code",
      "execution_count": 39,
      "id": "3ebe4669-e32e-44a8-a8c8-e179291510d4",
      "metadata": {
        "colab": {
          "base_uri": "https://localhost:8080/"
        },
        "id": "3ebe4669-e32e-44a8-a8c8-e179291510d4",
        "outputId": "1a4bb426-8de4-4a60-881d-01a64d412688"
      },
      "outputs": [
        {
          "output_type": "stream",
          "name": "stdout",
          "text": [
            "MSE for train set 1562336.875\n",
            "MSE for val set 891054.125\n",
            "MSE for test set 1288276.75\n"
          ]
        }
      ],
      "source": [
        "\n",
        "MSE_train = model.evaluate(X_train, y_train, verbose=0)[0]\n",
        "MSE_val = model.evaluate(X_val, y_val, verbose=0)[0]\n",
        "MSE_test = model.evaluate(X_test, y_test, verbose=0)[0]\n",
        "\n",
        "print('MSE for train set', MSE_train)\n",
        "print('MSE for val set', MSE_val)\n",
        "print('MSE for test set', MSE_test)\n",
        "\n"
      ]
    },
    {
      "cell_type": "code",
      "source": [],
      "metadata": {
        "id": "Ur_ZN0BjADed"
      },
      "id": "Ur_ZN0BjADed",
      "execution_count": null,
      "outputs": []
    }
  ],
  "metadata": {
    "kernelspec": {
      "display_name": "Python 3 (ipykernel)",
      "language": "python",
      "name": "python3"
    },
    "language_info": {
      "codemirror_mode": {
        "name": "ipython",
        "version": 3
      },
      "file_extension": ".py",
      "mimetype": "text/x-python",
      "name": "python",
      "nbconvert_exporter": "python",
      "pygments_lexer": "ipython3",
      "version": "3.11.7"
    },
    "colab": {
      "provenance": []
    }
  },
  "nbformat": 4,
  "nbformat_minor": 5
}