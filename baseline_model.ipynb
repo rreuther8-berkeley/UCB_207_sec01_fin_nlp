{
 "cells": [
  {
   "cell_type": "code",
   "execution_count": 1,
   "metadata": {},
   "outputs": [
    {
     "name": "stderr",
     "output_type": "stream",
     "text": [
      "2024-08-01 15:56:04.008594: I tensorflow/core/util/port.cc:153] oneDNN custom operations are on. You may see slightly different numerical results due to floating-point round-off errors from different computation orders. To turn them off, set the environment variable `TF_ENABLE_ONEDNN_OPTS=0`.\n",
      "2024-08-01 15:56:04.319835: E external/local_xla/xla/stream_executor/cuda/cuda_fft.cc:485] Unable to register cuFFT factory: Attempting to register factory for plugin cuFFT when one has already been registered\n",
      "2024-08-01 15:56:04.422866: E external/local_xla/xla/stream_executor/cuda/cuda_dnn.cc:8454] Unable to register cuDNN factory: Attempting to register factory for plugin cuDNN when one has already been registered\n",
      "2024-08-01 15:56:04.454035: E external/local_xla/xla/stream_executor/cuda/cuda_blas.cc:1452] Unable to register cuBLAS factory: Attempting to register factory for plugin cuBLAS when one has already been registered\n",
      "2024-08-01 15:56:04.669731: I tensorflow/core/platform/cpu_feature_guard.cc:210] This TensorFlow binary is optimized to use available CPU instructions in performance-critical operations.\n",
      "To enable the following instructions: AVX2 AVX512F AVX512_VNNI FMA, in other operations, rebuild TensorFlow with the appropriate compiler flags.\n",
      "2024-08-01 15:56:07.740484: W tensorflow/compiler/tf2tensorrt/utils/py_utils.cc:38] TF-TRT Warning: Could not find TensorRT\n"
     ]
    }
   ],
   "source": [
    "import numpy as np\n",
    "import os\n",
    "import warnings\n",
    "import pandas as pd\n",
    "import tensorflow as tf\n",
    "from tensorflow import keras\n",
    "from keras import metrics\n",
    "from sklearn.model_selection import train_test_split\n",
    "from sklearn.metrics import confusion_matrix, ConfusionMatrixDisplay\n",
    "from sklearn.preprocessing import StandardScaler\n",
    "\n",
    "\n",
    "warnings.filterwarnings(\"ignore\", category=FutureWarning)\n",
    "\n",
    "\n",
    "cwd = os.getcwd()\n",
    "tf.get_logger().setLevel('INFO')"
   ]
  },
  {
   "cell_type": "code",
   "execution_count": 7,
   "metadata": {},
   "outputs": [
    {
     "name": "stdout",
     "output_type": "stream",
     "text": [
      "(6338, 32)\n",
      "(6338, 1)\n",
      "(29574, 32)\n",
      "(29574, 1)\n",
      "(6337, 32)\n",
      "(6337, 1)\n"
     ]
    }
   ],
   "source": [
    "#read data\n",
    "X_test = pd.read_csv(cwd+r'/data/final/X_test.csv')\n",
    "X_train = pd.read_csv(cwd+r'/data/final/X_train.csv')\n",
    "X_val = pd.read_csv(cwd+r'/data/final/X_val.csv')\n",
    "Y_test = pd.read_csv(cwd+r'/data/final/y_test.csv')\n",
    "Y_train = pd.read_csv(cwd+r'/data/final/y_train.csv')\n",
    "Y_val = pd.read_csv(cwd+r'/data/final/y_val.csv')\n",
    "\n",
    "print(X_test.shape)\n",
    "print(Y_test.shape)\n",
    "print(X_train.shape)\n",
    "print(Y_train.shape)\n",
    "print(X_val.shape)\n",
    "print(Y_val.shape)"
   ]
  },
  {
   "cell_type": "code",
   "execution_count": 8,
   "metadata": {},
   "outputs": [
    {
     "name": "stdout",
     "output_type": "stream",
     "text": [
      "(6338, 4)\n",
      "(6338, 1)\n",
      "(29574, 4)\n",
      "(29574, 1)\n",
      "(6337, 4)\n",
      "(6337, 1)\n"
     ]
    }
   ],
   "source": [
    "# total_awards_received\tnum_comments title (positve, negative, neutral), selftext (positve, negative, neutral), created (hour of day)\n",
    "X_test['created'] = pd.to_datetime(X_test['created'])\n",
    "X_train['created'] = pd.to_datetime(X_train['created'])\n",
    "X_val['created'] = pd.to_datetime(X_val['created'])\n",
    "\n",
    "# Create the new columns\n",
    "X_test['hour_of_day'] = X_test['created'].dt.hour\n",
    "X_test['day_of_week'] = X_test['created'].dt.day_name()\n",
    "\n",
    "X_train['hour_of_day'] = X_train['created'].dt.hour\n",
    "X_train['day_of_week'] = X_train['created'].dt.day_name()\n",
    "\n",
    "X_val['hour_of_day'] = X_val['created'].dt.hour\n",
    "X_val['day_of_week'] = X_val['created'].dt.day_name()\n",
    "\n",
    "columns_to_retain = ['day_of_week', 'title', 'selftext', 'hour_of_day']\n",
    "\n",
    "X_test = X_test[columns_to_retain]\n",
    "X_train = X_train[columns_to_retain]\n",
    "X_val = X_val[columns_to_retain]\n",
    "Y_test = Y_test[['engagement_score_std']]\n",
    "Y_train = Y_train[['engagement_score_std']]\n",
    "Y_val = Y_val[['engagement_score_std']]\n",
    "\n",
    "print(X_test.shape)\n",
    "print(Y_test.shape)\n",
    "print(X_train.shape)\n",
    "print(Y_train.shape)\n",
    "print(X_val.shape)\n",
    "print(Y_val.shape)\n"
   ]
  },
  {
   "cell_type": "code",
   "execution_count": 10,
   "metadata": {},
   "outputs": [],
   "source": [
    "\n",
    "# Columns to standardize\n",
    "cols_to_standardize_Y = ['engagement_score_std']\n",
    "\n",
    "# Initialize the scaler\n",
    "scaler = StandardScaler()\n",
    "\n",
    "# Standardize the score\n",
    "Y_train['engagement_score_std'] = scaler.fit_transform(Y_train[['engagement_score_std']])\n",
    "Y_val['engagement_score_std'] = scaler.transform(Y_val[['engagement_score_std']])\n",
    "Y_test['engagement_score_std'] = scaler.transform(Y_test[['engagement_score_std']])\n",
    "\n",
    "# Convert specific columns to string\n",
    "X_train['title'] = X_train['title'].astype(str)\n",
    "X_train['selftext'] = X_train['selftext'].astype(str)\n",
    "\n",
    "X_val['title'] = X_val['title'].astype(str)\n",
    "X_val['selftext'] = X_val['selftext'].astype(str)\n",
    "\n",
    "X_test['title'] = X_test['title'].astype(str)\n",
    "X_test['selftext'] = X_test['selftext'].astype(str)"
   ]
  },
  {
   "cell_type": "code",
   "execution_count": 11,
   "metadata": {},
   "outputs": [
    {
     "name": "stderr",
     "output_type": "stream",
     "text": [
      "[nltk_data] Downloading package vader_lexicon to\n",
      "[nltk_data]     /home/cliftonh/nltk_data...\n"
     ]
    }
   ],
   "source": [
    "from nltk.sentiment.vader import SentimentIntensityAnalyzer\n",
    "import nltk\n",
    "\n",
    "# Download the VADER lexicon\n",
    "nltk.download('vader_lexicon')\n",
    "\n",
    "# Initialize the VADER sentiment intensity analyzer\n",
    "sid = SentimentIntensityAnalyzer()"
   ]
  },
  {
   "cell_type": "code",
   "execution_count": 12,
   "metadata": {},
   "outputs": [],
   "source": [
    "def classify_sentiment(text):\n",
    "    if not text:\n",
    "        return 'neutral'\n",
    "    sentiment_scores = sid.polarity_scores(text)\n",
    "    compound = sentiment_scores['compound']\n",
    "    if compound >= 0.05:\n",
    "        return 'positive'\n",
    "    elif compound <= -0.05:\n",
    "        return 'negative'\n",
    "    else:\n",
    "        return 'neutral'"
   ]
  },
  {
   "cell_type": "code",
   "execution_count": 13,
   "metadata": {},
   "outputs": [],
   "source": [
    "# Apply the function to classify sentiment\n",
    "X_train['title'] = X_train['title'].apply(classify_sentiment)\n",
    "X_train['selftext'] = X_train['selftext'].apply(classify_sentiment)\n",
    "\n",
    "X_val['title'] = X_val['title'].apply(classify_sentiment)\n",
    "X_val['selftext'] = X_val['selftext'].apply(classify_sentiment)\n",
    "\n",
    "X_test['title'] = X_test['title'].apply(classify_sentiment)\n",
    "X_test['selftext'] = X_test['selftext'].apply(classify_sentiment)"
   ]
  },
  {
   "cell_type": "code",
   "execution_count": 14,
   "metadata": {},
   "outputs": [
    {
     "name": "stdout",
     "output_type": "stream",
     "text": [
      "  day_of_week     title  selftext  hour_of_day\n",
      "0    Thursday  negative  positive           20\n",
      "1    Thursday  positive  positive           12\n",
      "2      Friday   neutral  positive           16\n",
      "3   Wednesday   neutral  negative            7\n",
      "4    Thursday   neutral  positive           17\n"
     ]
    }
   ],
   "source": [
    "print(X_train.head(5))"
   ]
  },
  {
   "cell_type": "code",
   "execution_count": 15,
   "metadata": {},
   "outputs": [],
   "source": [
    "# One-hot encode 'title'\n",
    "X_train = pd.get_dummies(X_train, columns=['title'])\n",
    "X_val = pd.get_dummies(X_val, columns=['title'])\n",
    "X_test = pd.get_dummies(X_test, columns=['title'])\n",
    "X_train = pd.get_dummies(X_train, columns=['selftext'])\n",
    "X_val = pd.get_dummies(X_val, columns=['selftext'])\n",
    "X_test = pd.get_dummies(X_test, columns=['selftext'])"
   ]
  },
  {
   "cell_type": "code",
   "execution_count": 16,
   "metadata": {},
   "outputs": [],
   "source": [
    "X_train = pd.get_dummies(X_train, columns=['day_of_week'])\n",
    "X_val = pd.get_dummies(X_val, columns=['day_of_week'])\n",
    "X_test = pd.get_dummies(X_test, columns=['day_of_week'])"
   ]
  },
  {
   "cell_type": "code",
   "execution_count": 17,
   "metadata": {},
   "outputs": [],
   "source": [
    "X_train = pd.get_dummies(X_train, columns=['hour_of_day'])\n",
    "X_val = pd.get_dummies(X_val, columns=['hour_of_day'])\n",
    "X_test = pd.get_dummies(X_test, columns=['hour_of_day'])"
   ]
  },
  {
   "cell_type": "code",
   "execution_count": 18,
   "metadata": {},
   "outputs": [
    {
     "name": "stdout",
     "output_type": "stream",
     "text": [
      "engagement_score_std     1.000000\n",
      "hour_of_day_11           0.029030\n",
      "hour_of_day_10           0.018544\n",
      "hour_of_day_21           0.013102\n",
      "selftext_negative        0.010098\n",
      "title_neutral            0.006938\n",
      "title_negative           0.006783\n",
      "hour_of_day_12           0.006141\n",
      "day_of_week_Thursday     0.005996\n",
      "day_of_week_Tuesday      0.005474\n",
      "hour_of_day_5            0.003964\n",
      "hour_of_day_3            0.003640\n",
      "hour_of_day_4            0.003152\n",
      "hour_of_day_20           0.002023\n",
      "day_of_week_Saturday     0.001806\n",
      "hour_of_day_18           0.000483\n",
      "day_of_week_Wednesday   -0.000324\n",
      "day_of_week_Friday      -0.001358\n",
      "hour_of_day_17          -0.001476\n",
      "hour_of_day_13          -0.001530\n",
      "hour_of_day_2           -0.002578\n",
      "selftext_neutral        -0.002709\n",
      "hour_of_day_15          -0.003206\n",
      "hour_of_day_6           -0.003385\n",
      "hour_of_day_9           -0.003852\n",
      "day_of_week_Sunday      -0.004415\n",
      "hour_of_day_1           -0.004612\n",
      "hour_of_day_8           -0.004746\n",
      "hour_of_day_22          -0.004839\n",
      "hour_of_day_7           -0.005414\n",
      "hour_of_day_14          -0.005460\n",
      "hour_of_day_23          -0.005655\n",
      "hour_of_day_19          -0.006333\n",
      "selftext_positive       -0.006914\n",
      "hour_of_day_16          -0.007857\n",
      "day_of_week_Monday      -0.008414\n",
      "hour_of_day_0           -0.008699\n",
      "title_positive          -0.012918\n",
      "Name: engagement_score_std, dtype: float64\n"
     ]
    }
   ],
   "source": [
    "data_std = pd.concat([X_train, Y_train], axis=1)\n",
    "\n",
    "corr = data_std.corr()\n",
    "print(corr['engagement_score_std'].sort_values(ascending=False))"
   ]
  },
  {
   "cell_type": "code",
   "execution_count": 19,
   "metadata": {},
   "outputs": [],
   "source": [
    "from tensorflow.keras.layers import Dense\n",
    "from tensorflow.keras.optimizers import SGD\n",
    "from tensorflow.keras.regularizers import l2\n",
    "def build_model(num_features, learning_rate):\n",
    "    \"\"\"Build a TF linear regression model using Keras.\"\"\"\n",
    "    tf.keras.backend.clear_session()\n",
    "    tf.random.set_seed(0)\n",
    "\n",
    "    model = tf.keras.Sequential()\n",
    "    model.add(Dense(\n",
    "        units=1,\n",
    "        input_shape=[num_features],\n",
    "        use_bias=True,\n",
    "        kernel_initializer=tf.keras.initializers.GlorotUniform(),\n",
    "        bias_initializer=tf.keras.initializers.Zeros(),\n",
    "        kernel_regularizer=l2(0.001)\n",
    "    ))\n",
    "\n",
    "    optimizer = SGD(learning_rate=learning_rate)\n",
    "\n",
    "    model.compile(loss='mse', optimizer=optimizer, metrics=['mse'])\n",
    "\n",
    "    return model"
   ]
  },
  {
   "cell_type": "code",
   "execution_count": 20,
   "metadata": {},
   "outputs": [
    {
     "name": "stderr",
     "output_type": "stream",
     "text": [
      "/home/cliftonh/anaconda3/lib/python3.11/site-packages/keras/src/layers/core/dense.py:87: UserWarning: Do not pass an `input_shape`/`input_dim` argument to a layer. When using Sequential models, prefer using an `Input(shape)` object as the first layer in the model instead.\n",
      "  super().__init__(activity_regularizer=activity_regularizer, **kwargs)\n"
     ]
    },
    {
     "name": "stdout",
     "output_type": "stream",
     "text": [
      "Epoch 1/25\n",
      "\u001b[1m1849/1849\u001b[0m \u001b[32m━━━━━━━━━━━━━━━━━━━━\u001b[0m\u001b[37m\u001b[0m \u001b[1m81s\u001b[0m 42ms/step - loss: 1.1982 - mse: 1.1965 - val_loss: 0.7947 - val_mse: 0.7936\n",
      "Epoch 2/25\n",
      "\u001b[1m1849/1849\u001b[0m \u001b[32m━━━━━━━━━━━━━━━━━━━━\u001b[0m\u001b[37m\u001b[0m \u001b[1m33s\u001b[0m 18ms/step - loss: 1.1051 - mse: 1.1040 - val_loss: 0.7626 - val_mse: 0.7618\n",
      "Epoch 3/25\n",
      "\u001b[1m1849/1849\u001b[0m \u001b[32m━━━━━━━━━━━━━━━━━━━━\u001b[0m\u001b[37m\u001b[0m \u001b[1m33s\u001b[0m 18ms/step - loss: 1.0797 - mse: 1.0789 - val_loss: 0.7488 - val_mse: 0.7482\n",
      "Epoch 4/25\n",
      "\u001b[1m1849/1849\u001b[0m \u001b[32m━━━━━━━━━━━━━━━━━━━━\u001b[0m\u001b[37m\u001b[0m \u001b[1m37s\u001b[0m 20ms/step - loss: 1.0684 - mse: 1.0678 - val_loss: 0.7417 - val_mse: 0.7412\n",
      "Epoch 5/25\n",
      "\u001b[1m1849/1849\u001b[0m \u001b[32m━━━━━━━━━━━━━━━━━━━━\u001b[0m\u001b[37m\u001b[0m \u001b[1m41s\u001b[0m 22ms/step - loss: 1.0624 - mse: 1.0620 - val_loss: 0.7376 - val_mse: 0.7372\n",
      "Epoch 6/25\n",
      "\u001b[1m1849/1849\u001b[0m \u001b[32m━━━━━━━━━━━━━━━━━━━━\u001b[0m\u001b[37m\u001b[0m \u001b[1m31s\u001b[0m 17ms/step - loss: 1.0589 - mse: 1.0585 - val_loss: 0.7350 - val_mse: 0.7346\n",
      "Epoch 7/25\n",
      "\u001b[1m1849/1849\u001b[0m \u001b[32m━━━━━━━━━━━━━━━━━━━━\u001b[0m\u001b[37m\u001b[0m \u001b[1m47s\u001b[0m 25ms/step - loss: 1.0567 - mse: 1.0563 - val_loss: 0.7332 - val_mse: 0.7329\n",
      "Epoch 8/25\n",
      "\u001b[1m1849/1849\u001b[0m \u001b[32m━━━━━━━━━━━━━━━━━━━━\u001b[0m\u001b[37m\u001b[0m \u001b[1m48s\u001b[0m 26ms/step - loss: 1.0551 - mse: 1.0549 - val_loss: 0.7320 - val_mse: 0.7317\n",
      "Epoch 9/25\n",
      "\u001b[1m1849/1849\u001b[0m \u001b[32m━━━━━━━━━━━━━━━━━━━━\u001b[0m\u001b[37m\u001b[0m \u001b[1m40s\u001b[0m 22ms/step - loss: 1.0541 - mse: 1.0538 - val_loss: 0.7311 - val_mse: 0.7309\n",
      "Epoch 10/25\n",
      "\u001b[1m1849/1849\u001b[0m \u001b[32m━━━━━━━━━━━━━━━━━━━━\u001b[0m\u001b[37m\u001b[0m \u001b[1m57s\u001b[0m 31ms/step - loss: 1.0533 - mse: 1.0531 - val_loss: 0.7305 - val_mse: 0.7302\n",
      "Epoch 11/25\n",
      "\u001b[1m1849/1849\u001b[0m \u001b[32m━━━━━━━━━━━━━━━━━━━━\u001b[0m\u001b[37m\u001b[0m \u001b[1m38s\u001b[0m 21ms/step - loss: 1.0527 - mse: 1.0525 - val_loss: 0.7300 - val_mse: 0.7298\n",
      "Epoch 12/25\n",
      "\u001b[1m1849/1849\u001b[0m \u001b[32m━━━━━━━━━━━━━━━━━━━━\u001b[0m\u001b[37m\u001b[0m \u001b[1m38s\u001b[0m 20ms/step - loss: 1.0523 - mse: 1.0521 - val_loss: 0.7296 - val_mse: 0.7294\n",
      "Epoch 13/25\n",
      "\u001b[1m1849/1849\u001b[0m \u001b[32m━━━━━━━━━━━━━━━━━━━━\u001b[0m\u001b[37m\u001b[0m \u001b[1m26s\u001b[0m 14ms/step - loss: 1.0520 - mse: 1.0518 - val_loss: 0.7293 - val_mse: 0.7292\n",
      "Epoch 14/25\n",
      "\u001b[1m1849/1849\u001b[0m \u001b[32m━━━━━━━━━━━━━━━━━━━━\u001b[0m\u001b[37m\u001b[0m \u001b[1m31s\u001b[0m 17ms/step - loss: 1.0518 - mse: 1.0516 - val_loss: 0.7291 - val_mse: 0.7289\n",
      "Epoch 15/25\n",
      "\u001b[1m1849/1849\u001b[0m \u001b[32m━━━━━━━━━━━━━━━━━━━━\u001b[0m\u001b[37m\u001b[0m \u001b[1m37s\u001b[0m 20ms/step - loss: 1.0516 - mse: 1.0514 - val_loss: 0.7290 - val_mse: 0.7288\n",
      "Epoch 16/25\n",
      "\u001b[1m1849/1849\u001b[0m \u001b[32m━━━━━━━━━━━━━━━━━━━━\u001b[0m\u001b[37m\u001b[0m \u001b[1m48s\u001b[0m 26ms/step - loss: 1.0514 - mse: 1.0513 - val_loss: 0.7288 - val_mse: 0.7287\n",
      "Epoch 17/25\n",
      "\u001b[1m1849/1849\u001b[0m \u001b[32m━━━━━━━━━━━━━━━━━━━━\u001b[0m\u001b[37m\u001b[0m \u001b[1m49s\u001b[0m 27ms/step - loss: 1.0513 - mse: 1.0512 - val_loss: 0.7287 - val_mse: 0.7286\n",
      "Epoch 18/25\n",
      "\u001b[1m1849/1849\u001b[0m \u001b[32m━━━━━━━━━━━━━━━━━━━━\u001b[0m\u001b[37m\u001b[0m \u001b[1m41s\u001b[0m 22ms/step - loss: 1.0513 - mse: 1.0511 - val_loss: 0.7287 - val_mse: 0.7285\n",
      "Epoch 19/25\n",
      "\u001b[1m1849/1849\u001b[0m \u001b[32m━━━━━━━━━━━━━━━━━━━━\u001b[0m\u001b[37m\u001b[0m \u001b[1m35s\u001b[0m 19ms/step - loss: 1.0512 - mse: 1.0511 - val_loss: 0.7286 - val_mse: 0.7284\n",
      "Epoch 20/25\n",
      "\u001b[1m1849/1849\u001b[0m \u001b[32m━━━━━━━━━━━━━━━━━━━━\u001b[0m\u001b[37m\u001b[0m \u001b[1m26s\u001b[0m 14ms/step - loss: 1.0512 - mse: 1.0510 - val_loss: 0.7285 - val_mse: 0.7284\n",
      "Epoch 21/25\n",
      "\u001b[1m1849/1849\u001b[0m \u001b[32m━━━━━━━━━━━━━━━━━━━━\u001b[0m\u001b[37m\u001b[0m \u001b[1m37s\u001b[0m 20ms/step - loss: 1.0511 - mse: 1.0510 - val_loss: 0.7285 - val_mse: 0.7284\n",
      "Epoch 22/25\n",
      "\u001b[1m1849/1849\u001b[0m \u001b[32m━━━━━━━━━━━━━━━━━━━━\u001b[0m\u001b[37m\u001b[0m \u001b[1m29s\u001b[0m 15ms/step - loss: 1.0511 - mse: 1.0510 - val_loss: 0.7285 - val_mse: 0.7283\n",
      "Epoch 23/25\n",
      "\u001b[1m1849/1849\u001b[0m \u001b[32m━━━━━━━━━━━━━━━━━━━━\u001b[0m\u001b[37m\u001b[0m \u001b[1m50s\u001b[0m 27ms/step - loss: 1.0511 - mse: 1.0509 - val_loss: 0.7285 - val_mse: 0.7283\n",
      "Epoch 24/25\n",
      "\u001b[1m1849/1849\u001b[0m \u001b[32m━━━━━━━━━━━━━━━━━━━━\u001b[0m\u001b[37m\u001b[0m \u001b[1m58s\u001b[0m 31ms/step - loss: 1.0511 - mse: 1.0509 - val_loss: 0.7284 - val_mse: 0.7283\n",
      "Epoch 25/25\n",
      "\u001b[1m1849/1849\u001b[0m \u001b[32m━━━━━━━━━━━━━━━━━━━━\u001b[0m\u001b[37m\u001b[0m \u001b[1m57s\u001b[0m 31ms/step - loss: 1.0511 - mse: 1.0509 - val_loss: 0.7284 - val_mse: 0.7283\n",
      "\u001b[1m199/199\u001b[0m \u001b[32m━━━━━━━━━━━━━━━━━━━━\u001b[0m\u001b[37m\u001b[0m \u001b[1m5s\u001b[0m 27ms/step - loss: 0.1499 - mse: 0.1497\n"
     ]
    }
   ],
   "source": [
    "tf.random.set_seed(0)\n",
    "\n",
    "# Build and compile model\n",
    "num_features = X_train.shape[1]\n",
    "learning_rate = 0.001\n",
    "model_tf = build_model(num_features, learning_rate)\n",
    "\n",
    "# Fit the model\n",
    "num_epochs = 25\n",
    "batch_size = 16\n",
    "\n",
    "history = model_tf.fit(\n",
    "    X_train, Y_train,\n",
    "    epochs=num_epochs,\n",
    "    batch_size=batch_size,\n",
    "    validation_data=(X_val, Y_val)\n",
    ")"
   ]
  },
  {
   "cell_type": "code",
   "execution_count": 21,
   "metadata": {},
   "outputs": [
    {
     "name": "stdout",
     "output_type": "stream",
     "text": [
      "MSE of train: 0.9980\n",
      "MSE of validation: 0.7283\n",
      "MSE of test: 0.3926\n"
     ]
    }
   ],
   "source": [
    "# Evaluate the model\n",
    "train_loss, train_MSE = model_tf.evaluate(X_train, Y_train, verbose=0)\n",
    "val_loss, val_MSE = model_tf.evaluate(X_val, Y_val, verbose=0)\n",
    "test_loss, test_MSE = model_tf.evaluate(X_test, Y_test, verbose=0)\n",
    "\n",
    "print(f\"MSE of train: {train_MSE:.4f}\")\n",
    "print(f\"MSE of validation: {val_MSE:.4f}\")\n",
    "print(f\"MSE of test: {test_MSE:.4f}\")"
   ]
  }
 ],
 "metadata": {
  "kernelspec": {
   "display_name": "Python 3 (ipykernel)",
   "language": "python",
   "name": "python3"
  },
  "language_info": {
   "codemirror_mode": {
    "name": "ipython",
    "version": 3
   },
   "file_extension": ".py",
   "mimetype": "text/x-python",
   "name": "python",
   "nbconvert_exporter": "python",
   "pygments_lexer": "ipython3",
   "version": "3.11.4"
  }
 },
 "nbformat": 4,
 "nbformat_minor": 4
}
