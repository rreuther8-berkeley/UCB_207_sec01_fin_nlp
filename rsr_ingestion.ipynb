{
 "cells": [
  {
   "cell_type": "markdown",
   "id": "38e15138-e596-4304-9bed-b30dede5b8f1",
   "metadata": {
    "tags": []
   },
   "source": [
    "# Financial data\n",
    "https://www.kaggle.com/datasets/leukipp/reddit-finance-data/data\n",
    "\n",
    "\n",
    "https://www.tensorflow.org/tutorials/structured_data/time_series#data_windowing\n",
    "https://blog.tensorflow.org/2023/09/forecasting-with-tensorflow-decision-forests-and-temporian.html\n",
    "\n",
    "https://www.tensorflow.org/decision_forests\n"
   ]
  },
  {
   "cell_type": "code",
   "execution_count": 1,
   "id": "34a94b05-8255-4b4f-93f1-ceee3c4bc934",
   "metadata": {
    "tags": []
   },
   "outputs": [
    {
     "name": "stderr",
     "output_type": "stream",
     "text": [
      "2024-07-15 21:50:07.314373: I tensorflow/core/platform/cpu_feature_guard.cc:182] This TensorFlow binary is optimized to use available CPU instructions in performance-critical operations.\n",
      "To enable the following instructions: SSE4.1 SSE4.2 AVX AVX2 FMA, in other operations, rebuild TensorFlow with the appropriate compiler flags.\n"
     ]
    }
   ],
   "source": [
    "import os\n",
    "import emoji\n",
    "from collections import Counter\n",
    "import pandas as pd\n",
    "import seaborn as sns\n",
    "import math\n",
    "import numpy as np\n",
    "import re\n",
    "import tensorflow as tf\n",
    "from tensorflow import keras\n",
    "from tensorflow.keras import initializers\n",
    "\n",
    "import matplotlib.pyplot as plt\n",
    "from wordcloud import WordCloud\n",
    "from sklearn.model_selection import train_test_split\n"
   ]
  },
  {
   "cell_type": "code",
   "execution_count": 2,
   "id": "0c465cb8-ec77-4629-95e4-7f5d284fd49a",
   "metadata": {
    "tags": []
   },
   "outputs": [],
   "source": [
    "pd.set_option('display.max_colwidth', 100) "
   ]
  },
  {
   "cell_type": "code",
   "execution_count": 3,
   "id": "e123b371-87b0-46a7-bc6c-2a1aa87d9f6b",
   "metadata": {},
   "outputs": [],
   "source": [
    "forex_link = '/data/forex/submissions_reddit.csv'\n",
    "financial_independence_link = '/data/financialindependence/submissions_reddit.csv'\n",
    "finance_link = '/data/finance/submissions_reddit.csv'"
   ]
  },
  {
   "cell_type": "code",
   "execution_count": 4,
   "id": "38ae8b29-b4b3-4200-9258-701eb3cb2b2d",
   "metadata": {
    "tags": []
   },
   "outputs": [],
   "source": [
    "df_forex = pd.read_csv(os.getcwd() + forex_link)\n",
    "df_financial_independence = pd.read_csv(os.getcwd() + financial_independence_link)\n",
    "df_finance = pd.read_csv(os.getcwd() + finance_link)"
   ]
  },
  {
   "cell_type": "code",
   "execution_count": 5,
   "id": "5c24d5e1-35a5-4fee-8572-4fee5f63e327",
   "metadata": {
    "tags": []
   },
   "outputs": [
    {
     "name": "stdout",
     "output_type": "stream",
     "text": [
      "(14643, 24)\n",
      "(10338, 24)\n",
      "(7130, 24)\n"
     ]
    }
   ],
   "source": [
    "print(df_forex.shape)\n",
    "print(df_financial_independence.shape)\n",
    "print(df_finance.shape)"
   ]
  },
  {
   "cell_type": "code",
   "execution_count": 6,
   "id": "fd2546e4-18bd-4233-a079-28d639f597b8",
   "metadata": {
    "tags": []
   },
   "outputs": [],
   "source": [
    "def drop_removed(df_orig, field):\n",
    "    removed_values=['[removed]','[deleted]']\n",
    "    \n",
    "    df = df_orig.copy()\n",
    "    df = df[~df[field].isin(removed_values)]\n",
    "\n",
    "    return df"
   ]
  },
  {
   "cell_type": "markdown",
   "id": "c7b7c5bd-3386-4449-8200-4bdd4a8e130b",
   "metadata": {
    "tags": []
   },
   "source": [
    "## df_forex"
   ]
  },
  {
   "cell_type": "code",
   "execution_count": 7,
   "id": "8a89c367-fdd9-46b9-9700-52dc6776591f",
   "metadata": {
    "tags": []
   },
   "outputs": [
    {
     "data": {
      "text/plain": [
       "(14643, 24)"
      ]
     },
     "execution_count": 7,
     "metadata": {},
     "output_type": "execute_result"
    }
   ],
   "source": [
    "df_forex.shape"
   ]
  },
  {
   "cell_type": "code",
   "execution_count": 8,
   "id": "8391f027-0acd-41a5-91d3-e4e85851fcd0",
   "metadata": {
    "tags": []
   },
   "outputs": [
    {
     "data": {
      "text/html": [
       "<div>\n",
       "<style scoped>\n",
       "    .dataframe tbody tr th:only-of-type {\n",
       "        vertical-align: middle;\n",
       "    }\n",
       "\n",
       "    .dataframe tbody tr th {\n",
       "        vertical-align: top;\n",
       "    }\n",
       "\n",
       "    .dataframe thead th {\n",
       "        text-align: right;\n",
       "    }\n",
       "</style>\n",
       "<table border=\"1\" class=\"dataframe\">\n",
       "  <thead>\n",
       "    <tr style=\"text-align: right;\">\n",
       "      <th></th>\n",
       "      <th>selftext</th>\n",
       "      <th>count</th>\n",
       "    </tr>\n",
       "  </thead>\n",
       "  <tbody>\n",
       "    <tr>\n",
       "      <th>0</th>\n",
       "      <td>[removed]</td>\n",
       "      <td>3123</td>\n",
       "    </tr>\n",
       "    <tr>\n",
       "      <th>1</th>\n",
       "      <td>[deleted]</td>\n",
       "      <td>1077</td>\n",
       "    </tr>\n",
       "    <tr>\n",
       "      <th>2</th>\n",
       "      <td>.</td>\n",
       "      <td>3</td>\n",
       "    </tr>\n",
       "    <tr>\n",
       "      <th>3</th>\n",
       "      <td>[https://www.reddit.com/r/Forex/comments/mc48os/rejection\\_trade\\_euraud/](https://www.reddit.co...</td>\n",
       "      <td>3</td>\n",
       "    </tr>\n",
       "    <tr>\n",
       "      <th>4</th>\n",
       "      <td>[https://www.reddit.com/r/Forex/comments/mc6h58/long\\_term\\_breakout\\_trade/](https://www.reddit...</td>\n",
       "      <td>2</td>\n",
       "    </tr>\n",
       "    <tr>\n",
       "      <th>5</th>\n",
       "      <td>**Hello, I thought it would be a good idea to ask here. I recently got into crypto swing trading...</td>\n",
       "      <td>2</td>\n",
       "    </tr>\n",
       "    <tr>\n",
       "      <th>6</th>\n",
       "      <td>Just wondering</td>\n",
       "      <td>2</td>\n",
       "    </tr>\n",
       "    <tr>\n",
       "      <th>7</th>\n",
       "      <td>Title</td>\n",
       "      <td>2</td>\n",
       "    </tr>\n",
       "    <tr>\n",
       "      <th>8</th>\n",
       "      <td>Hi Guys im about to start backtesting my strategy for the first time. Im abit worried that emoti...</td>\n",
       "      <td>2</td>\n",
       "    </tr>\n",
       "    <tr>\n",
       "      <th>9</th>\n",
       "      <td>Hello out there\\nI am one of forex miserable traders in this world but my story is something dif...</td>\n",
       "      <td>2</td>\n",
       "    </tr>\n",
       "  </tbody>\n",
       "</table>\n",
       "</div>"
      ],
      "text/plain": [
       "                                                                                              selftext  \\\n",
       "0                                                                                            [removed]   \n",
       "1                                                                                            [deleted]   \n",
       "2                                                                                                    .   \n",
       "3  [https://www.reddit.com/r/Forex/comments/mc48os/rejection\\_trade\\_euraud/](https://www.reddit.co...   \n",
       "4  [https://www.reddit.com/r/Forex/comments/mc6h58/long\\_term\\_breakout\\_trade/](https://www.reddit...   \n",
       "5  **Hello, I thought it would be a good idea to ask here. I recently got into crypto swing trading...   \n",
       "6                                                                                       Just wondering   \n",
       "7                                                                                                Title   \n",
       "8  Hi Guys im about to start backtesting my strategy for the first time. Im abit worried that emoti...   \n",
       "9  Hello out there\\nI am one of forex miserable traders in this world but my story is something dif...   \n",
       "\n",
       "   count  \n",
       "0   3123  \n",
       "1   1077  \n",
       "2      3  \n",
       "3      3  \n",
       "4      2  \n",
       "5      2  \n",
       "6      2  \n",
       "7      2  \n",
       "8      2  \n",
       "9      2  "
      ]
     },
     "execution_count": 8,
     "metadata": {},
     "output_type": "execute_result"
    }
   ],
   "source": [
    "df_forex['selftext'].value_counts().reset_index().iloc[:10]"
   ]
  },
  {
   "cell_type": "code",
   "execution_count": 9,
   "id": "9d04d452-089b-40d0-83ea-05505a19953a",
   "metadata": {
    "tags": []
   },
   "outputs": [],
   "source": [
    "df_forex = drop_removed(df_forex, 'selftext')"
   ]
  },
  {
   "cell_type": "code",
   "execution_count": 10,
   "id": "895bb55b-3db2-46ec-a272-f53d1aff23c9",
   "metadata": {
    "tags": []
   },
   "outputs": [
    {
     "data": {
      "text/html": [
       "<div>\n",
       "<style scoped>\n",
       "    .dataframe tbody tr th:only-of-type {\n",
       "        vertical-align: middle;\n",
       "    }\n",
       "\n",
       "    .dataframe tbody tr th {\n",
       "        vertical-align: top;\n",
       "    }\n",
       "\n",
       "    .dataframe thead th {\n",
       "        text-align: right;\n",
       "    }\n",
       "</style>\n",
       "<table border=\"1\" class=\"dataframe\">\n",
       "  <thead>\n",
       "    <tr style=\"text-align: right;\">\n",
       "      <th></th>\n",
       "      <th>selftext</th>\n",
       "      <th>count</th>\n",
       "    </tr>\n",
       "  </thead>\n",
       "  <tbody>\n",
       "    <tr>\n",
       "      <th>0</th>\n",
       "      <td>.</td>\n",
       "      <td>3</td>\n",
       "    </tr>\n",
       "    <tr>\n",
       "      <th>1</th>\n",
       "      <td>[https://www.reddit.com/r/Forex/comments/mc48os/rejection\\_trade\\_euraud/](https://www.reddit.co...</td>\n",
       "      <td>3</td>\n",
       "    </tr>\n",
       "    <tr>\n",
       "      <th>2</th>\n",
       "      <td>**Hello, I thought it would be a good idea to ask here. I recently got into crypto swing trading...</td>\n",
       "      <td>2</td>\n",
       "    </tr>\n",
       "    <tr>\n",
       "      <th>3</th>\n",
       "      <td>Just wondering</td>\n",
       "      <td>2</td>\n",
       "    </tr>\n",
       "    <tr>\n",
       "      <th>4</th>\n",
       "      <td>Title</td>\n",
       "      <td>2</td>\n",
       "    </tr>\n",
       "    <tr>\n",
       "      <th>5</th>\n",
       "      <td>Hi Guys im about to start backtesting my strategy for the first time. Im abit worried that emoti...</td>\n",
       "      <td>2</td>\n",
       "    </tr>\n",
       "    <tr>\n",
       "      <th>6</th>\n",
       "      <td>Hello out there\\nI am one of forex miserable traders in this world but my story is something dif...</td>\n",
       "      <td>2</td>\n",
       "    </tr>\n",
       "    <tr>\n",
       "      <th>7</th>\n",
       "      <td>Where do you recommend I watch the ECB press conference or any big central bank press conference...</td>\n",
       "      <td>2</td>\n",
       "    </tr>\n",
       "    <tr>\n",
       "      <th>8</th>\n",
       "      <td>Hello everyone, I’m fairly new at trading been doing it for about a month and a half now. I’m in...</td>\n",
       "      <td>2</td>\n",
       "    </tr>\n",
       "    <tr>\n",
       "      <th>9</th>\n",
       "      <td>[https://www.reddit.com/r/Forex/comments/mc6h58/long\\_term\\_breakout\\_trade/](https://www.reddit...</td>\n",
       "      <td>2</td>\n",
       "    </tr>\n",
       "  </tbody>\n",
       "</table>\n",
       "</div>"
      ],
      "text/plain": [
       "                                                                                              selftext  \\\n",
       "0                                                                                                    .   \n",
       "1  [https://www.reddit.com/r/Forex/comments/mc48os/rejection\\_trade\\_euraud/](https://www.reddit.co...   \n",
       "2  **Hello, I thought it would be a good idea to ask here. I recently got into crypto swing trading...   \n",
       "3                                                                                       Just wondering   \n",
       "4                                                                                                Title   \n",
       "5  Hi Guys im about to start backtesting my strategy for the first time. Im abit worried that emoti...   \n",
       "6  Hello out there\\nI am one of forex miserable traders in this world but my story is something dif...   \n",
       "7  Where do you recommend I watch the ECB press conference or any big central bank press conference...   \n",
       "8  Hello everyone, I’m fairly new at trading been doing it for about a month and a half now. I’m in...   \n",
       "9  [https://www.reddit.com/r/Forex/comments/mc6h58/long\\_term\\_breakout\\_trade/](https://www.reddit...   \n",
       "\n",
       "   count  \n",
       "0      3  \n",
       "1      3  \n",
       "2      2  \n",
       "3      2  \n",
       "4      2  \n",
       "5      2  \n",
       "6      2  \n",
       "7      2  \n",
       "8      2  \n",
       "9      2  "
      ]
     },
     "execution_count": 10,
     "metadata": {},
     "output_type": "execute_result"
    }
   ],
   "source": [
    "df_forex['selftext'].value_counts().reset_index().iloc[:10]"
   ]
  },
  {
   "cell_type": "code",
   "execution_count": 11,
   "id": "d7ed2760-b69a-4bff-b685-61035ac4828c",
   "metadata": {
    "tags": []
   },
   "outputs": [
    {
     "data": {
      "text/plain": [
       "id                          0\n",
       "author                      0\n",
       "created                     0\n",
       "retrieved                   0\n",
       "edited                      0\n",
       "pinned                      0\n",
       "archived                    0\n",
       "locked                      0\n",
       "removed                     0\n",
       "deleted                     0\n",
       "is_self                     0\n",
       "is_video                    0\n",
       "is_original_content         0\n",
       "title                       0\n",
       "link_flair_text            62\n",
       "upvote_ratio                0\n",
       "score                       0\n",
       "gilded                      0\n",
       "total_awards_received       0\n",
       "num_comments                0\n",
       "num_crossposts              0\n",
       "selftext                 4870\n",
       "thumbnail                   0\n",
       "shortlink                   0\n",
       "dtype: int64"
      ]
     },
     "execution_count": 11,
     "metadata": {},
     "output_type": "execute_result"
    }
   ],
   "source": [
    "# nas in link_flair_text and selftext\n",
    "df_forex.isna().sum()"
   ]
  },
  {
   "cell_type": "code",
   "execution_count": 12,
   "id": "6dd128dd-67ed-4472-9e95-278370e65642",
   "metadata": {
    "tags": []
   },
   "outputs": [
    {
     "data": {
      "text/plain": [
       "(5548, 24)"
      ]
     },
     "execution_count": 12,
     "metadata": {},
     "output_type": "execute_result"
    }
   ],
   "source": [
    "df_forex_cleaned = df_forex.dropna()\n",
    "df_forex_cleaned.shape"
   ]
  },
  {
   "cell_type": "code",
   "execution_count": 13,
   "id": "14521499-f101-4546-a995-dfe640aff417",
   "metadata": {
    "tags": []
   },
   "outputs": [
    {
     "data": {
      "text/plain": [
       "id                       0\n",
       "author                   0\n",
       "created                  0\n",
       "retrieved                0\n",
       "edited                   0\n",
       "pinned                   0\n",
       "archived                 0\n",
       "locked                   0\n",
       "removed                  0\n",
       "deleted                  0\n",
       "is_self                  0\n",
       "is_video                 0\n",
       "is_original_content      0\n",
       "title                    0\n",
       "link_flair_text          0\n",
       "upvote_ratio             0\n",
       "score                    0\n",
       "gilded                   0\n",
       "total_awards_received    0\n",
       "num_comments             0\n",
       "num_crossposts           0\n",
       "selftext                 0\n",
       "thumbnail                0\n",
       "shortlink                0\n",
       "dtype: int64"
      ]
     },
     "execution_count": 13,
     "metadata": {},
     "output_type": "execute_result"
    }
   ],
   "source": [
    "df_forex_cleaned.isna().sum()"
   ]
  },
  {
   "cell_type": "code",
   "execution_count": 14,
   "id": "9e7567ba-9910-4f33-9a56-e3171bb7d56b",
   "metadata": {
    "tags": []
   },
   "outputs": [
    {
     "data": {
      "text/plain": [
       "(4000, 24)"
      ]
     },
     "execution_count": 14,
     "metadata": {},
     "output_type": "execute_result"
    }
   ],
   "source": [
    "df_forex_cleaned.sample(frac=1)[:4000].shape"
   ]
  },
  {
   "cell_type": "code",
   "execution_count": 15,
   "id": "f2d9f7aa-0d19-4286-b698-21039c4ef1a9",
   "metadata": {
    "tags": []
   },
   "outputs": [],
   "source": [
    "df_forex_cleaned = df_forex_cleaned.sample(frac=1)[:4000]"
   ]
  },
  {
   "cell_type": "code",
   "execution_count": 16,
   "id": "e543b624-da99-4539-bc6f-1d8520b47055",
   "metadata": {
    "tags": []
   },
   "outputs": [],
   "source": [
    "df_forex_cleaned = df_forex_cleaned.reset_index(drop=True)"
   ]
  },
  {
   "cell_type": "code",
   "execution_count": 17,
   "id": "2ab43321-377b-4905-ae27-e0db7fb87d67",
   "metadata": {
    "tags": []
   },
   "outputs": [
    {
     "data": {
      "text/plain": [
       "(4000, 24)"
      ]
     },
     "execution_count": 17,
     "metadata": {},
     "output_type": "execute_result"
    }
   ],
   "source": [
    "df_forex_cleaned.shape"
   ]
  },
  {
   "cell_type": "code",
   "execution_count": 18,
   "id": "3cffbd86-7a38-4223-9443-330571fb2f1d",
   "metadata": {
    "tags": []
   },
   "outputs": [
    {
     "data": {
      "text/html": [
       "<div>\n",
       "<style scoped>\n",
       "    .dataframe tbody tr th:only-of-type {\n",
       "        vertical-align: middle;\n",
       "    }\n",
       "\n",
       "    .dataframe tbody tr th {\n",
       "        vertical-align: top;\n",
       "    }\n",
       "\n",
       "    .dataframe thead th {\n",
       "        text-align: right;\n",
       "    }\n",
       "</style>\n",
       "<table border=\"1\" class=\"dataframe\">\n",
       "  <thead>\n",
       "    <tr style=\"text-align: right;\">\n",
       "      <th></th>\n",
       "      <th>id</th>\n",
       "      <th>author</th>\n",
       "      <th>created</th>\n",
       "      <th>retrieved</th>\n",
       "      <th>edited</th>\n",
       "      <th>pinned</th>\n",
       "      <th>archived</th>\n",
       "      <th>locked</th>\n",
       "      <th>removed</th>\n",
       "      <th>deleted</th>\n",
       "      <th>...</th>\n",
       "      <th>link_flair_text</th>\n",
       "      <th>upvote_ratio</th>\n",
       "      <th>score</th>\n",
       "      <th>gilded</th>\n",
       "      <th>total_awards_received</th>\n",
       "      <th>num_comments</th>\n",
       "      <th>num_crossposts</th>\n",
       "      <th>selftext</th>\n",
       "      <th>thumbnail</th>\n",
       "      <th>shortlink</th>\n",
       "    </tr>\n",
       "  </thead>\n",
       "  <tbody>\n",
       "    <tr>\n",
       "      <th>0</th>\n",
       "      <td>lkudh3</td>\n",
       "      <td>matiu2</td>\n",
       "      <td>2021-02-16 03:11:45</td>\n",
       "      <td>2021-02-16 16:18:24</td>\n",
       "      <td>2021-02-16 03:28:39</td>\n",
       "      <td>0</td>\n",
       "      <td>0</td>\n",
       "      <td>0</td>\n",
       "      <td>0</td>\n",
       "      <td>0</td>\n",
       "      <td>...</td>\n",
       "      <td>Questions</td>\n",
       "      <td>1.00</td>\n",
       "      <td>3</td>\n",
       "      <td>0</td>\n",
       "      <td>0</td>\n",
       "      <td>14</td>\n",
       "      <td>0</td>\n",
       "      <td>So I have a negative risk/reward ratio. Kind of. I'm making more winning trades than loosing tra...</td>\n",
       "      <td>self</td>\n",
       "      <td>https://redd.it/lkudh3</td>\n",
       "    </tr>\n",
       "    <tr>\n",
       "      <th>1</th>\n",
       "      <td>r7tphi</td>\n",
       "      <td>OverallStick4214</td>\n",
       "      <td>2021-12-03 07:40:01</td>\n",
       "      <td>2021-12-03 14:18:21</td>\n",
       "      <td>1970-01-01 00:00:00</td>\n",
       "      <td>0</td>\n",
       "      <td>0</td>\n",
       "      <td>0</td>\n",
       "      <td>0</td>\n",
       "      <td>0</td>\n",
       "      <td>...</td>\n",
       "      <td>OTHER/META</td>\n",
       "      <td>0.25</td>\n",
       "      <td>0</td>\n",
       "      <td>0</td>\n",
       "      <td>0</td>\n",
       "      <td>2</td>\n",
       "      <td>0</td>\n",
       "      <td>Learn some fucking sense trading thats all.</td>\n",
       "      <td>self</td>\n",
       "      <td>https://redd.it/r7tphi</td>\n",
       "    </tr>\n",
       "  </tbody>\n",
       "</table>\n",
       "<p>2 rows × 24 columns</p>\n",
       "</div>"
      ],
      "text/plain": [
       "       id            author              created            retrieved  \\\n",
       "0  lkudh3            matiu2  2021-02-16 03:11:45  2021-02-16 16:18:24   \n",
       "1  r7tphi  OverallStick4214  2021-12-03 07:40:01  2021-12-03 14:18:21   \n",
       "\n",
       "                edited  pinned  archived  locked  removed  deleted  ...  \\\n",
       "0  2021-02-16 03:28:39       0         0       0        0        0  ...   \n",
       "1  1970-01-01 00:00:00       0         0       0        0        0  ...   \n",
       "\n",
       "   link_flair_text  upvote_ratio  score gilded total_awards_received  \\\n",
       "0        Questions          1.00      3      0                     0   \n",
       "1       OTHER/META          0.25      0      0                     0   \n",
       "\n",
       "   num_comments  num_crossposts  \\\n",
       "0            14               0   \n",
       "1             2               0   \n",
       "\n",
       "                                                                                              selftext  \\\n",
       "0  So I have a negative risk/reward ratio. Kind of. I'm making more winning trades than loosing tra...   \n",
       "1                                                          Learn some fucking sense trading thats all.   \n",
       "\n",
       "   thumbnail               shortlink  \n",
       "0       self  https://redd.it/lkudh3  \n",
       "1       self  https://redd.it/r7tphi  \n",
       "\n",
       "[2 rows x 24 columns]"
      ]
     },
     "execution_count": 18,
     "metadata": {},
     "output_type": "execute_result"
    }
   ],
   "source": [
    "df_forex_cleaned.iloc[:2]"
   ]
  },
  {
   "cell_type": "markdown",
   "id": "c272dda3-c61d-49ca-9ea1-8de1321a0152",
   "metadata": {
    "jp-MarkdownHeadingCollapsed": true,
    "tags": []
   },
   "source": [
    "## df_financial_independence"
   ]
  },
  {
   "cell_type": "code",
   "execution_count": 19,
   "id": "db3ee86e-0901-41cc-8af6-515afb3b0ec2",
   "metadata": {
    "tags": []
   },
   "outputs": [
    {
     "data": {
      "text/plain": [
       "(10338, 24)"
      ]
     },
     "execution_count": 19,
     "metadata": {},
     "output_type": "execute_result"
    }
   ],
   "source": [
    "df_financial_independence.shape"
   ]
  },
  {
   "cell_type": "code",
   "execution_count": 20,
   "id": "3f84c1e1-558d-404c-9ea0-13c2de53b3da",
   "metadata": {
    "tags": []
   },
   "outputs": [
    {
     "data": {
      "text/html": [
       "<div>\n",
       "<style scoped>\n",
       "    .dataframe tbody tr th:only-of-type {\n",
       "        vertical-align: middle;\n",
       "    }\n",
       "\n",
       "    .dataframe tbody tr th {\n",
       "        vertical-align: top;\n",
       "    }\n",
       "\n",
       "    .dataframe thead th {\n",
       "        text-align: right;\n",
       "    }\n",
       "</style>\n",
       "<table border=\"1\" class=\"dataframe\">\n",
       "  <thead>\n",
       "    <tr style=\"text-align: right;\">\n",
       "      <th></th>\n",
       "      <th>selftext</th>\n",
       "      <th>count</th>\n",
       "    </tr>\n",
       "  </thead>\n",
       "  <tbody>\n",
       "    <tr>\n",
       "      <th>0</th>\n",
       "      <td>[removed]</td>\n",
       "      <td>8253</td>\n",
       "    </tr>\n",
       "    <tr>\n",
       "      <th>1</th>\n",
       "      <td>[deleted]</td>\n",
       "      <td>577</td>\n",
       "    </tr>\n",
       "    <tr>\n",
       "      <th>2</th>\n",
       "      <td>Please  use this thread to have discussions which you don't feel warrant a new  post to the sub....</td>\n",
       "      <td>353</td>\n",
       "    </tr>\n",
       "    <tr>\n",
       "      <th>3</th>\n",
       "      <td>\\n\\nNeed help applying broader FIRE principles to your own situation? We’re here for you!\\n\\nPo...</td>\n",
       "      <td>52</td>\n",
       "    </tr>\n",
       "    <tr>\n",
       "      <th>4</th>\n",
       "      <td>Self-promotion  (ie posting about projects/businesses that you operate and can profit  from) is...</td>\n",
       "      <td>51</td>\n",
       "    </tr>\n",
       "    <tr>\n",
       "      <th>...</th>\n",
       "      <td>...</td>\n",
       "      <td>...</td>\n",
       "    </tr>\n",
       "    <tr>\n",
       "      <th>954</th>\n",
       "      <td>TL;DR - philosophy majors and retired baristas sold soul to the man to get freedom to waste more...</td>\n",
       "      <td>1</td>\n",
       "    </tr>\n",
       "    <tr>\n",
       "      <th>955</th>\n",
       "      <td>As the title states, I have acheived FI and so I RE. I have some legacy stocks in a taxable acco...</td>\n",
       "      <td>1</td>\n",
       "    </tr>\n",
       "    <tr>\n",
       "      <th>956</th>\n",
       "      <td>Hello FIRE fam, I wanted to share a recent experience of mine that has totally changed how my SO...</td>\n",
       "      <td>1</td>\n",
       "    </tr>\n",
       "    <tr>\n",
       "      <th>957</th>\n",
       "      <td>Hi, this came up in another thread and I built a quick model for a situation where you might hav...</td>\n",
       "      <td>1</td>\n",
       "    </tr>\n",
       "    <tr>\n",
       "      <th>958</th>\n",
       "      <td>My parents called a family meeting to discuss their real estate situation in the next week and h...</td>\n",
       "      <td>1</td>\n",
       "    </tr>\n",
       "  </tbody>\n",
       "</table>\n",
       "<p>959 rows × 2 columns</p>\n",
       "</div>"
      ],
      "text/plain": [
       "                                                                                                selftext  \\\n",
       "0                                                                                              [removed]   \n",
       "1                                                                                              [deleted]   \n",
       "2    Please  use this thread to have discussions which you don't feel warrant a new  post to the sub....   \n",
       "3     \\n\\nNeed help applying broader FIRE principles to your own situation? We’re here for you!\\n\\nPo...   \n",
       "4     Self-promotion  (ie posting about projects/businesses that you operate and can profit  from) is...   \n",
       "..                                                                                                   ...   \n",
       "954  TL;DR - philosophy majors and retired baristas sold soul to the man to get freedom to waste more...   \n",
       "955  As the title states, I have acheived FI and so I RE. I have some legacy stocks in a taxable acco...   \n",
       "956  Hello FIRE fam, I wanted to share a recent experience of mine that has totally changed how my SO...   \n",
       "957  Hi, this came up in another thread and I built a quick model for a situation where you might hav...   \n",
       "958  My parents called a family meeting to discuss their real estate situation in the next week and h...   \n",
       "\n",
       "     count  \n",
       "0     8253  \n",
       "1      577  \n",
       "2      353  \n",
       "3       52  \n",
       "4       51  \n",
       "..     ...  \n",
       "954      1  \n",
       "955      1  \n",
       "956      1  \n",
       "957      1  \n",
       "958      1  \n",
       "\n",
       "[959 rows x 2 columns]"
      ]
     },
     "execution_count": 20,
     "metadata": {},
     "output_type": "execute_result"
    }
   ],
   "source": [
    "df_financial_independence['selftext'].value_counts().reset_index()"
   ]
  },
  {
   "cell_type": "code",
   "execution_count": 21,
   "id": "669a7950-89d6-4da6-bbe6-1b49289a0bfc",
   "metadata": {
    "tags": []
   },
   "outputs": [],
   "source": [
    "df_financial_independence = drop_removed(df_financial_independence, 'selftext')"
   ]
  },
  {
   "cell_type": "code",
   "execution_count": 22,
   "id": "80a82245-4d65-49ac-ba46-65f3684fdf8b",
   "metadata": {
    "tags": []
   },
   "outputs": [
    {
     "data": {
      "text/html": [
       "<div>\n",
       "<style scoped>\n",
       "    .dataframe tbody tr th:only-of-type {\n",
       "        vertical-align: middle;\n",
       "    }\n",
       "\n",
       "    .dataframe tbody tr th {\n",
       "        vertical-align: top;\n",
       "    }\n",
       "\n",
       "    .dataframe thead th {\n",
       "        text-align: right;\n",
       "    }\n",
       "</style>\n",
       "<table border=\"1\" class=\"dataframe\">\n",
       "  <thead>\n",
       "    <tr style=\"text-align: right;\">\n",
       "      <th></th>\n",
       "      <th>selftext</th>\n",
       "      <th>count</th>\n",
       "    </tr>\n",
       "  </thead>\n",
       "  <tbody>\n",
       "    <tr>\n",
       "      <th>0</th>\n",
       "      <td>Please  use this thread to have discussions which you don't feel warrant a new  post to the sub....</td>\n",
       "      <td>353</td>\n",
       "    </tr>\n",
       "    <tr>\n",
       "      <th>1</th>\n",
       "      <td>\\n\\nNeed help applying broader FIRE principles to your own situation? We’re here for you!\\n\\nPo...</td>\n",
       "      <td>52</td>\n",
       "    </tr>\n",
       "    <tr>\n",
       "      <th>2</th>\n",
       "      <td>Self-promotion  (ie posting about projects/businesses that you operate and can profit  from) is...</td>\n",
       "      <td>51</td>\n",
       "    </tr>\n",
       "    <tr>\n",
       "      <th>3</th>\n",
       "      <td>Please  use this thread to post your milestones, humblebrags and status updates  which you don'...</td>\n",
       "      <td>50</td>\n",
       "    </tr>\n",
       "    <tr>\n",
       "      <th>4</th>\n",
       "      <td>\\n\\nPlease  use this thread to discuss how amazingly cheap you are. How do you keep  your costs...</td>\n",
       "      <td>50</td>\n",
       "    </tr>\n",
       "    <tr>\n",
       "      <th>...</th>\n",
       "      <td>...</td>\n",
       "      <td>...</td>\n",
       "    </tr>\n",
       "    <tr>\n",
       "      <th>952</th>\n",
       "      <td>As the title states, I have acheived FI and so I RE. I have some legacy stocks in a taxable acco...</td>\n",
       "      <td>1</td>\n",
       "    </tr>\n",
       "    <tr>\n",
       "      <th>953</th>\n",
       "      <td>Hello FIRE fam, I wanted to share a recent experience of mine that has totally changed how my SO...</td>\n",
       "      <td>1</td>\n",
       "    </tr>\n",
       "    <tr>\n",
       "      <th>954</th>\n",
       "      <td>Hi, this came up in another thread and I built a quick model for a situation where you might hav...</td>\n",
       "      <td>1</td>\n",
       "    </tr>\n",
       "    <tr>\n",
       "      <th>955</th>\n",
       "      <td>**Hey everyone! This is my first post after being a lurker for a while now.** \\n\\nTo help hold m...</td>\n",
       "      <td>1</td>\n",
       "    </tr>\n",
       "    <tr>\n",
       "      <th>956</th>\n",
       "      <td>My parents called a family meeting to discuss their real estate situation in the next week and h...</td>\n",
       "      <td>1</td>\n",
       "    </tr>\n",
       "  </tbody>\n",
       "</table>\n",
       "<p>957 rows × 2 columns</p>\n",
       "</div>"
      ],
      "text/plain": [
       "                                                                                                selftext  \\\n",
       "0    Please  use this thread to have discussions which you don't feel warrant a new  post to the sub....   \n",
       "1     \\n\\nNeed help applying broader FIRE principles to your own situation? We’re here for you!\\n\\nPo...   \n",
       "2     Self-promotion  (ie posting about projects/businesses that you operate and can profit  from) is...   \n",
       "3     Please  use this thread to post your milestones, humblebrags and status updates  which you don'...   \n",
       "4     \\n\\nPlease  use this thread to discuss how amazingly cheap you are. How do you keep  your costs...   \n",
       "..                                                                                                   ...   \n",
       "952  As the title states, I have acheived FI and so I RE. I have some legacy stocks in a taxable acco...   \n",
       "953  Hello FIRE fam, I wanted to share a recent experience of mine that has totally changed how my SO...   \n",
       "954  Hi, this came up in another thread and I built a quick model for a situation where you might hav...   \n",
       "955  **Hey everyone! This is my first post after being a lurker for a while now.** \\n\\nTo help hold m...   \n",
       "956  My parents called a family meeting to discuss their real estate situation in the next week and h...   \n",
       "\n",
       "     count  \n",
       "0      353  \n",
       "1       52  \n",
       "2       51  \n",
       "3       50  \n",
       "4       50  \n",
       "..     ...  \n",
       "952      1  \n",
       "953      1  \n",
       "954      1  \n",
       "955      1  \n",
       "956      1  \n",
       "\n",
       "[957 rows x 2 columns]"
      ]
     },
     "execution_count": 22,
     "metadata": {},
     "output_type": "execute_result"
    }
   ],
   "source": [
    "df_financial_independence['selftext'].value_counts().reset_index()"
   ]
  },
  {
   "cell_type": "code",
   "execution_count": 23,
   "id": "05e8959c-36b5-49a1-849e-2ab132b64aa8",
   "metadata": {
    "tags": []
   },
   "outputs": [
    {
     "data": {
      "text/plain": [
       "id                          0\n",
       "author                      0\n",
       "created                     0\n",
       "retrieved                   0\n",
       "edited                      0\n",
       "pinned                      0\n",
       "archived                    0\n",
       "locked                      0\n",
       "removed                     0\n",
       "deleted                     0\n",
       "is_self                     0\n",
       "is_video                    0\n",
       "is_original_content         0\n",
       "title                       0\n",
       "link_flair_text          1505\n",
       "upvote_ratio                0\n",
       "score                       0\n",
       "gilded                      0\n",
       "total_awards_received       0\n",
       "num_comments                0\n",
       "num_crossposts              0\n",
       "selftext                    0\n",
       "thumbnail                   0\n",
       "shortlink                   0\n",
       "dtype: int64"
      ]
     },
     "execution_count": 23,
     "metadata": {},
     "output_type": "execute_result"
    }
   ],
   "source": [
    "#na's in link_flair_text, one in title\n",
    "df_financial_independence.isna().sum()"
   ]
  },
  {
   "cell_type": "code",
   "execution_count": 24,
   "id": "df508d01-5fff-4e4c-9732-029ba790fdc0",
   "metadata": {},
   "outputs": [
    {
     "data": {
      "text/plain": [
       "(1508, 24)"
      ]
     },
     "execution_count": 24,
     "metadata": {},
     "output_type": "execute_result"
    }
   ],
   "source": [
    "df_financial_independence.shape"
   ]
  },
  {
   "cell_type": "code",
   "execution_count": 25,
   "id": "edf359c6-355c-4955-8665-618106f02d23",
   "metadata": {
    "tags": []
   },
   "outputs": [],
   "source": [
    "df_financial_independence_cleaned = df_financial_independence.dropna(subset='title')"
   ]
  },
  {
   "cell_type": "code",
   "execution_count": 26,
   "id": "cfbfe9ec-1bae-4fc7-a0f7-b98707846bb5",
   "metadata": {},
   "outputs": [
    {
     "data": {
      "text/plain": [
       "(1508, 24)"
      ]
     },
     "execution_count": 26,
     "metadata": {},
     "output_type": "execute_result"
    }
   ],
   "source": [
    "df_financial_independence_cleaned.shape"
   ]
  },
  {
   "cell_type": "code",
   "execution_count": 27,
   "id": "1c14b0a0-a380-42a5-b7dc-af593ba26957",
   "metadata": {
    "tags": []
   },
   "outputs": [
    {
     "data": {
      "text/plain": [
       "id                          0\n",
       "author                      0\n",
       "created                     0\n",
       "retrieved                   0\n",
       "edited                      0\n",
       "pinned                      0\n",
       "archived                    0\n",
       "locked                      0\n",
       "removed                     0\n",
       "deleted                     0\n",
       "is_self                     0\n",
       "is_video                    0\n",
       "is_original_content         0\n",
       "title                       0\n",
       "link_flair_text          1505\n",
       "upvote_ratio                0\n",
       "score                       0\n",
       "gilded                      0\n",
       "total_awards_received       0\n",
       "num_comments                0\n",
       "num_crossposts              0\n",
       "selftext                    0\n",
       "thumbnail                   0\n",
       "shortlink                   0\n",
       "dtype: int64"
      ]
     },
     "execution_count": 27,
     "metadata": {},
     "output_type": "execute_result"
    }
   ],
   "source": [
    "df_financial_independence_cleaned.isna().sum()"
   ]
  },
  {
   "cell_type": "markdown",
   "id": "1cefc97b-2882-42a3-a3b5-c273ccea88c9",
   "metadata": {
    "jp-MarkdownHeadingCollapsed": true,
    "tags": []
   },
   "source": [
    "## df_finance"
   ]
  },
  {
   "cell_type": "code",
   "execution_count": 28,
   "id": "e9f44915-bb48-4e1a-8e98-9a2de814b7ea",
   "metadata": {
    "tags": []
   },
   "outputs": [
    {
     "data": {
      "text/plain": [
       "(7130, 24)"
      ]
     },
     "execution_count": 28,
     "metadata": {},
     "output_type": "execute_result"
    }
   ],
   "source": [
    "df_finance.shape"
   ]
  },
  {
   "cell_type": "code",
   "execution_count": 29,
   "id": "e168e91e-2c58-420b-947d-77f4a2d9c6c2",
   "metadata": {
    "tags": []
   },
   "outputs": [
    {
     "data": {
      "text/html": [
       "<div>\n",
       "<style scoped>\n",
       "    .dataframe tbody tr th:only-of-type {\n",
       "        vertical-align: middle;\n",
       "    }\n",
       "\n",
       "    .dataframe tbody tr th {\n",
       "        vertical-align: top;\n",
       "    }\n",
       "\n",
       "    .dataframe thead th {\n",
       "        text-align: right;\n",
       "    }\n",
       "</style>\n",
       "<table border=\"1\" class=\"dataframe\">\n",
       "  <thead>\n",
       "    <tr style=\"text-align: right;\">\n",
       "      <th></th>\n",
       "      <th>selftext</th>\n",
       "      <th>count</th>\n",
       "    </tr>\n",
       "  </thead>\n",
       "  <tbody>\n",
       "    <tr>\n",
       "      <th>0</th>\n",
       "      <td>[deleted]</td>\n",
       "      <td>552</td>\n",
       "    </tr>\n",
       "    <tr>\n",
       "      <th>1</th>\n",
       "      <td>This is your safe place for questions on financial careers, homework problems and finance in gen...</td>\n",
       "      <td>44</td>\n",
       "    </tr>\n",
       "  </tbody>\n",
       "</table>\n",
       "</div>"
      ],
      "text/plain": [
       "                                                                                              selftext  \\\n",
       "0                                                                                            [deleted]   \n",
       "1  This is your safe place for questions on financial careers, homework problems and finance in gen...   \n",
       "\n",
       "   count  \n",
       "0    552  \n",
       "1     44  "
      ]
     },
     "execution_count": 29,
     "metadata": {},
     "output_type": "execute_result"
    }
   ],
   "source": [
    "df_finance['selftext'].value_counts().reset_index()"
   ]
  },
  {
   "cell_type": "code",
   "execution_count": 30,
   "id": "061e6821-bacd-47d3-a835-374f52829a41",
   "metadata": {
    "tags": []
   },
   "outputs": [
    {
     "data": {
      "text/plain": [
       "id                          0\n",
       "author                      0\n",
       "created                     0\n",
       "retrieved                   0\n",
       "edited                      0\n",
       "pinned                      0\n",
       "archived                    0\n",
       "locked                      0\n",
       "removed                     0\n",
       "deleted                     0\n",
       "is_self                     0\n",
       "is_video                    0\n",
       "is_original_content         0\n",
       "title                       0\n",
       "link_flair_text          7130\n",
       "upvote_ratio                0\n",
       "score                       0\n",
       "gilded                      0\n",
       "total_awards_received       0\n",
       "num_comments                0\n",
       "num_crossposts              0\n",
       "selftext                 6534\n",
       "thumbnail                   0\n",
       "shortlink                   0\n",
       "dtype: int64"
      ]
     },
     "execution_count": 30,
     "metadata": {},
     "output_type": "execute_result"
    }
   ],
   "source": [
    "df_finance.isna().sum()"
   ]
  },
  {
   "cell_type": "code",
   "execution_count": 31,
   "id": "13b39a26-9ccb-447e-9178-618f23bf9f63",
   "metadata": {
    "tags": []
   },
   "outputs": [],
   "source": [
    "df_finance_cleaned = df_finance.dropna(subset='selftext')"
   ]
  },
  {
   "cell_type": "code",
   "execution_count": 32,
   "id": "05249dc3-3525-4f16-9019-c33eff0bf373",
   "metadata": {
    "tags": []
   },
   "outputs": [
    {
     "data": {
      "text/plain": [
       "selftext\n",
       "[deleted]                                                                                                                                                                                                                                                                                                                                                                                                                                                  552\n",
       "This is your safe place for questions on financial careers, homework problems and finance in general. No question in the finance domain is unwelcome.\\n\\nReplies are expected to be constructive and civil.\\n\\nAny questions about your *personal* finances belong in [r/PersonalFinance](https://www.reddit.com/r/PersonalFinance/), and career-seekers are encouraged to also visit [r/FinancialCareers](https://www.reddit.com/r/FinancialCareers/).     44\n",
       "Name: count, dtype: int64"
      ]
     },
     "execution_count": 32,
     "metadata": {},
     "output_type": "execute_result"
    }
   ],
   "source": [
    "df_finance_cleaned['selftext'].value_counts()"
   ]
  },
  {
   "cell_type": "code",
   "execution_count": 33,
   "id": "21ce6263-bdfa-44d0-b4d5-c44107a933e6",
   "metadata": {
    "tags": []
   },
   "outputs": [
    {
     "data": {
      "text/plain": [
       "(596, 24)"
      ]
     },
     "execution_count": 33,
     "metadata": {},
     "output_type": "execute_result"
    }
   ],
   "source": [
    "df_finance_cleaned.shape"
   ]
  },
  {
   "cell_type": "markdown",
   "id": "a4103629-8e0b-4dfc-bc38-f544ed721d2f",
   "metadata": {
    "tags": []
   },
   "source": [
    "## After dropping NA's"
   ]
  },
  {
   "cell_type": "code",
   "execution_count": 34,
   "id": "f84f9e67-9b8b-4e57-9e8c-0a35cada7506",
   "metadata": {
    "tags": []
   },
   "outputs": [
    {
     "name": "stdout",
     "output_type": "stream",
     "text": [
      "(10443, 24)\n",
      "(1508, 24)\n",
      "(7130, 24)\n"
     ]
    }
   ],
   "source": [
    "print(df_forex.shape)\n",
    "print(df_financial_independence.shape)\n",
    "print(df_finance.shape)"
   ]
  },
  {
   "cell_type": "code",
   "execution_count": 35,
   "id": "e245d5eb-30ef-4ffa-9ba7-da068b5dec2e",
   "metadata": {
    "tags": []
   },
   "outputs": [
    {
     "name": "stdout",
     "output_type": "stream",
     "text": [
      "(4000, 24)\n",
      "(1508, 24)\n",
      "(596, 24)\n"
     ]
    }
   ],
   "source": [
    "print(df_forex_cleaned.shape)\n",
    "print(df_financial_independence_cleaned.shape)\n",
    "print(df_finance_cleaned.shape)"
   ]
  },
  {
   "cell_type": "code",
   "execution_count": 36,
   "id": "9f509ed9-9bd9-4160-ad44-561d523b57ae",
   "metadata": {
    "tags": []
   },
   "outputs": [],
   "source": [
    "dataframes = [df_forex_cleaned, df_financial_independence_cleaned, df_finance_cleaned]\n",
    "final_df = pd.concat(dataframes)\n",
    "\n",
    "final_df.to_csv('./data/forex_finance_finindependence_forex.csv')"
   ]
  },
  {
   "cell_type": "code",
   "execution_count": 37,
   "id": "d731cf39-b934-45ff-b784-3afc835e83a5",
   "metadata": {
    "tags": []
   },
   "outputs": [
    {
     "data": {
      "text/plain": [
       "['wallstreetbets',\n",
       " 'investing',\n",
       " 'stockmarket',\n",
       " 'stocks',\n",
       " 'robinhood',\n",
       " 'personalfinance',\n",
       " 'finance',\n",
       " 'securityanalysis',\n",
       " '.ipynb_checkpoints',\n",
       " 'test.txt',\n",
       " 'gme',\n",
       " 'robinhoodpennystocks',\n",
       " 'forex_finance_finindependence_forex.csv',\n",
       " 'forex',\n",
       " 'financialindependence',\n",
       " 'options',\n",
       " 'pennystocks']"
      ]
     },
     "execution_count": 37,
     "metadata": {},
     "output_type": "execute_result"
    }
   ],
   "source": [
    "os.listdir('./data')"
   ]
  },
  {
   "cell_type": "code",
   "execution_count": 38,
   "id": "74f1bdcd-0bbc-4104-9462-d744047a0218",
   "metadata": {
    "tags": []
   },
   "outputs": [
    {
     "data": {
      "text/plain": [
       "(6104, 24)"
      ]
     },
     "execution_count": 38,
     "metadata": {},
     "output_type": "execute_result"
    }
   ],
   "source": [
    "final_df.shape"
   ]
  },
  {
   "cell_type": "code",
   "execution_count": null,
   "id": "eeff5689-3c3d-4ac1-8339-421254074036",
   "metadata": {},
   "outputs": [],
   "source": []
  },
  {
   "cell_type": "markdown",
   "id": "e5705fb1-8080-4c79-a85a-49c3ce789d25",
   "metadata": {
    "tags": []
   },
   "source": [
    "## < end of file >"
   ]
  },
  {
   "cell_type": "code",
   "execution_count": null,
   "id": "6f010ee3-7315-4894-bb3a-c6bfa9a06b9f",
   "metadata": {},
   "outputs": [],
   "source": []
  }
 ],
 "metadata": {
  "kernelspec": {
   "display_name": "Python 3 (ipykernel)",
   "language": "python",
   "name": "python3"
  },
  "language_info": {
   "codemirror_mode": {
    "name": "ipython",
    "version": 3
   },
   "file_extension": ".py",
   "mimetype": "text/x-python",
   "name": "python",
   "nbconvert_exporter": "python",
   "pygments_lexer": "ipython3",
   "version": "3.11.5"
  }
 },
 "nbformat": 4,
 "nbformat_minor": 5
}
